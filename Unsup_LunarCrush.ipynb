{
 "cells": [
  {
   "cell_type": "code",
   "metadata": {
    "tags": [],
    "deepnote_to_be_reexecuted": false,
    "source_hash": "bba32ad9",
    "execution_start": 1631545854138,
    "execution_millis": 1857,
    "cell_id": "00000-48283c15-9819-4673-8a19-72463cf8641c",
    "deepnote_cell_type": "code"
   },
   "source": "import urllib\nimport urllib.request as request\nfrom io import BytesIO\nimport pandas as pd\nimport json\nimport tsfresh\nfrom scipy import stats\n\nimport time\n\nimport matplotlib.pyplot as plt",
   "execution_count": null,
   "outputs": []
  },
  {
   "cell_type": "code",
   "metadata": {
    "tags": [],
    "deepnote_to_be_reexecuted": false,
    "source_hash": "68fb04d",
    "execution_start": 1631380124781,
    "execution_millis": 2,
    "cell_id": "00001-d5e29524-a280-4189-915a-eaabfd11e273",
    "deepnote_cell_type": "code"
   },
   "source": "# tsfresh - for timeseries\n# Grainger causality\n# Dynmaic Time Warping - https://en.wikipedia.org/wiki/Dynamic_time_warping for series similarity\n# http://didawiki.cli.di.unipi.it/lib/exe/fetch.php/dm/time_series_from_keogh_tutorial.pdf\n# https://datascience.stackexchange.com/questions/15812/check-similarity-between-time-series\n# https://datascience.stackexchange.com/questions/29283/how-to-find-similar-time-series",
   "execution_count": null,
   "outputs": []
  },
  {
   "cell_type": "code",
   "metadata": {
    "tags": [],
    "deepnote_to_be_reexecuted": false,
    "source_hash": "9b1e111f",
    "execution_start": 1631545860144,
    "execution_millis": 582,
    "cell_id": "00002-d052d641-a73e-4b3b-af33-b3522e4285d8",
    "deepnote_cell_type": "code"
   },
   "source": "lunar_start = 'https://api.lunarcrush.com/v2?'\n\n# queryStringParams = {\n#   'data':'assets',\n#   'key':'hnvavbmd2fj62h5kzd2imb',\n#   'symbol':[','.join(list(pd.DataFrame(data['data'])['symbol'])[:2])],\n#   #'symbol':\"btc,ltc\",\n#   'data_points': 3,\n#   'interval':'day'\n# }\n\n# queryStringParams = {\n#   'data':'global',\n#   'key':'hnvavbmd2fj62h5kzd2imb',\n#   'data_points': 3\n# }\n\n# ','.join(list(pd.DataFrame(data['data'])['symbol']))\n# to get list of assets\nqueryStringParams = {\n  'data':'meta',\n  'key':'hnvavbmd2fj62h5kzd2imb',\n  'data_points': 1\n}\n\n\nencodedParams = urllib.parse.urlencode(queryStringParams)\n\n#url = \"data=global&key=hnvavbmd2fj62h5kzd2imb&data_points=24\"\n#url = \"data=assets&key=hnvavbmd2fj62h5kzd2imb&symbol=DOGE&data_points=365&interval=day\"\n\n# https://stackoverflow.com/questions/31778800/how-can-i-make-a-post-request-on-python-with-urllib3\n# https://stackoverflow.com/questions/7933417/how-do-i-set-headers-using-pythons-urllib\n# https://www.pluralsight.com/guides/importing-data-from-json-resource-with-python\n\nwith request.urlopen(lunar_start + encodedParams) as response:\n        if response.getcode() == 200:\n            source = response.read()        \n            data_coins = json.loads(source)\n            print(data_coins['usage'])\n        else:\n            print('An error occurred while attempting to retrieve data from the API.')",
   "execution_count": null,
   "outputs": [
    {
     "name": "stdout",
     "text": "{'day': 1, 'month': 465}\n",
     "output_type": "stream"
    }
   ]
  },
  {
   "cell_type": "code",
   "metadata": {
    "tags": [],
    "cell_id": "00003-1f11c0d7-ba38-4a04-8a4c-26fc0d4d9b00",
    "deepnote_to_be_reexecuted": false,
    "source_hash": "1196536b",
    "execution_start": 1631545862130,
    "execution_millis": 13,
    "deepnote_cell_type": "code"
   },
   "source": "list_assets = [','.join(list(pd.DataFrame(data_coins['data'])['symbol']))]\n#list_assets[0].lower().split(',')[:10]\nlist_assets",
   "execution_count": null,
   "outputs": [
    {
     "output_type": "execute_result",
     "execution_count": 3,
     "data": {
      "text/plain": "['BTC,ETH,XRP,LTC,BCH,BNB,USDT,EOS,BSV,XLM,ADA,TRX,XMR,LEO,DASH,NEO,MIOTA,LINK,ATOM,XTZ,ETC,XEM,MKR,ONT,CRO,ZEC,VSYS,USDC,DOGE,BTG,BAT,VET,EGT,QTUM,DCR,HT,HEDG,OMG,TUSD,PAX,RVN,NANO,LSK,BTT,BCD,HOT,KCS,WAVES,ZRX,NPXS,REP,ICX,DGB,MONA,KMD,HC,BTS,AOA,IOST,BCN,BTM,LAMB,SC,THETA,EKT,INB,NEX,XIN,NRG,QNT,ZIL,XVG,GXC,AE,WTC,REN,STEEM,DAI,ABBC,NET,XZC,SNT,MCO,ARDR,ENJ,GNT,VEST,MAID,ELF,NEXO,SOLVE,UUU,MXM,CCCX,JCT,ETP,XMX,RIF,STRAX,PAI,ZEN,FSN,GRIN,FX,ETN,PPT,NAS,SAN,DENT,ELA,ECOREAL,MANA,QASH,LRC,FTM,FST,ARK,ODE,AION,FCT,ORBS,RDD,NULS,DGD,VERI,LA,TOMO,EURS,KNC,ENG,IGNIS,WICC,BCZERO,LOOM,TRUE,CMT,SNX,MOAC,POWR,BNT,QKC,WAN,TFUEL,BIX,CELR,BEAM,PIVX,NEW,ONE,AGVC,HYN,ABT,APL,CRPT,C20,MATIC,ANT,IOTX,STORJ,DGTX,BHP,POLY,TEL,BZ,FET,BRD,PLC,BOX,RLC,GRS,TT,LXT,GAS,SYS,NXT,META,DRGN,TTC,ITC,CTXC,BFT,FUN,BOTX,SKY,CVC,GBYTE,UGAS,GNO,EDO,MITH,DAC,ROX,KAN,VTC,MEDX,MTL,CSC,SEELE,TRXC,CVNT,PAY,HPB,ETZ,TNT,NXS,ANKR,BCV,RUFF,AGI,DAPS,UTK,EMC2,DTR,LTO,PART,ADN,NKN,FOAM,VITAE,MFT,TKN,QRL,MTC,HYC,CND,CLAM,WIX,GTO,ILC,PLA,CHX,LBA,REPO,STORM,CPT,IQ,INT,OGO,MHC,CBT,TOP,AERGO,DX,IRIS,OCN,ACT,MDA,IDEX,NEBL,EVX,APIS,KIN,SALT,COSM,VGX,EVN,DCN,BTR,INCNT,RDN,VITE,WGR,TRIO,DUSK,CAJ,RSR,PLR,EDC,BLOCK,BURST,SXDT,PPC,AEON,LBTC,TNB,INE,PMA,ARRR,PZM,MAN,POE,TERA,FLUX,ADX,TKY,OTO,TCT,1ST,QNTU,REQ,RCN,GO,HYDRO,B2B,DATA,MOC,TPAY,OST,VBK,NCASH,CDT,QSP,MIC,DBC,DPT,DTA,NMC,GVT,NAV,AEN,SOC,RNT,SMT,EVR,BLZ,BTN,XBY,OXEN,EDR,XWC,BITCNY,CS,AUTO,WABI,PEPECASH,MBL,ZIP,SMART,MET,ZRC,XSN,DERO,XSPEC,PRO,NMR,SBD,KCASH,VIA,CWV,EDG,PCH,FLO,DMT,SFT,QUN,OAX,NOAH,LOC,AT,GUSD,IHF,DDD,VEE,DVPN,SRN,MRPH,XAS,MED,CNN,RFR,GNX,GTC,BWX,S4F,MRX,UTNP,TEN,SWFTC,MDS,LCC,SNGLS,MTV,LYM,XDN,BTX,ECA,MWAT,PST,MLN,AST,NEC,SLT,PHX,KEY,NIX,SPND,DNT,MTH,VIBE,NPX,VIDT,AOG,XYO,UPP,TAC,GOT,LND,ART,IHT,TERN,CPC,VEIL,SWM,DLT,VEX,ARN,CVT,TAS,UKG,VIB,UBQ,TRAC,HLT,BOS,LEND,CNUS,DIVI,YOYOW,JNT,QLC,DAG,N8V,APPC,OCEAN,AVA,POA,MER,STPT,BCPT,NLG,MXC,SKM,DADI,PI,DGX,SSP,EOSDAC,VNT,PRA,CZR,MVL,SNTVT,SNM,GSC,COTI,MITX,MVP,LBC,HMC,OVC,TIOX,AMO,BAY,COVA,PLBT,LIT,GAME,MGO,MOBI,BTO,DOCK,BOMB,FIII,ABYSS,AMB,SHIFT,PASC,TRTL,LKY,QBIT,BZNT,UNO2,BTU,PPP,UTT,BITUSD,SCRL,SINS,SCC,B2G,EMC,ZCL,TAAS,BCO,SUB,ADS,GEN,FTC,SDA,PBT,TUBE,FUEL,NIM,ABL,SPHR,BMC,FTI,LRN,ZPT,PRE,XPM,HLC,LUN,USDS,NEU,BLK,XCP,XBASE,WCT,ADT,DCT,KORE,MDT,CSP,VEO,ZCN,BOLT,SNC,CHSB,CLO,POLIS,ATX,CPX,ONION,BITG,PAC,PHR,REM,RBY,ECOB,LGO,GRID,CAS,BEET,BAAS,INK,OIO,COV,CENNZ,OSA,NSD,BRZC,WINGS,BAX,SPHTX,TMC,MOD2,WWB,BPT,CLOAK,KAT,CBC,BBC,PLY,QCH,TIX,CRYP,DBET,ECOM,IMT,POT,XAUR,COB,FOTA,TFD,GCR,TAU,HTML,RTH,SPANK,GIN,STQ,QAC,SKB,UP,ION,AURA,ROCK2,DPY,SPD,RPD,PPY,KICK,NGC,PXG,DNA,NCT,MNX,ATN,AVINOC,PCL,SEN,EDN,GET,XEL,NANJ,ZP,THC,KST,SPC,RVR,GCC,GRFT,CEEK,XLQ,DIM,DACS,DMD,IVY,ZCO,PAL,VIPS,NTK,EBC,CV,FXT,XDC,VRC,VAL,NLC2,NOKU,CRW,XMY,MUE,RISE2,SEM,FTT,FDZ,UBT,FLUZ,LQD,AXPR,CXO,SWTH,EDRC,UT,GENE,ORME,RMESH,CHAT,XHV,SIX,HMQ,MOT,LUX,MIB,ISR,DAX,AID,HQX,ZSC,ROBET,ELEC,ZAP,YEE,SXUT,NOTE,SCR,BMX,HST,EXRN,FNKOS,CARD,FTN,DOV,UBEX,TIME,UFR,XFC,SOUL,NYC,DTB,GTM,WTL,AIDOC,BLT,CURE,UGC,GARD,IXT,BANCA,HSC,SNET,FTX,SONIQ,ENRG,GUP,INV,MTN,EKO,SLR,GEM,TOA,FOXT,MLM,KARMA,MUSIC,BIR,SHIP,BEZ,NPXSXEM,NCC,ZPR,DRT,FLIXX,PNK,ZMN,SSC,CMCT,PIRL,ELI,MAS,YOC,INSTAR,LCS,PTOY,VCT,OK,EXP2,TTT,IDH,TOL,BOXX,BSD,SS,OLT,EFX,PAT,AVT,TRTT,DAV,SWT,NVC,PRIX,SIB,PAYX,TNC,IPL,MSR,SNOV,GIC,GAT,ARY,LPC,DXT,LATX,CAPP,UCASH,LEDU,QBT,FLP,STX,STK,SENC,OWN,ABY,LIKE,BEE,DATX,HWC,RTE,XSH,TGAME,ICR,MLC,SNTR,DYN,DAGT,WIRE,EXY,RED,INVE,TDP,EXCL,POLL,FLDC,ABX,DOPE,VLD,NIOX,WAB,DEV,SEQ,ALIS,SYNX,LTHN,THRT,PINK,OOT,XSG,QWARK,NBC,BNTY,BTCZ,RATING,ALI,XPC,PASS,DEB,OPTI,OMX,VRM,LSTR,OBITS,BBN,UDOO,COFI,PLAY,FLOT,VULC,CEN,NBR,IOP,INXT,BERRY,CAN,CHP,UQC,FACE,ADB,IQN,AAC,RYO,SEND,TX,FMF,RPM,XBI,0xBTC,BETR,MCW,ARO,MYB,VRS,NKC,ZCR,BITX,UFO,KRL,SPRTS,PMNT,FSBT,ERT,KRB,EVE,XNV,GBX,PFR,ZER,GXX,LGS,CRC,EUNO,XCASH,NPER,SRCOIN,1WO,ATMI,PENG,RNTB,HOLD,EVC,REF,GIO,BTXC,PCN,USNBT,PKT,UCN,PLU,PARETO,HBZ,HER,CANN,LION,MVC,J8T,TCC,MODX,BTNT,ZLA,ERC20,EQUAD,MTX,PUT,METM,FREC,HB,BBP,AUX,SPN,ZXC,EBTC,AUC,CCRB,SKIN,XBP,CDM,RLX,PYLNT,DAN,BOB,IONC,MAG,ADH,STAR,MEDIC,XUN,NAVI,SUMO,MFG,TIG,XAP,ZET,KLKS,BELA,HQT,LNC,ETHO,BON,ELY,RCT,BMH,DASHG,ORS,CL,KLN,LALA,XOV,ING,AKA,ACM,MONK,NTRN,KNT,CFL,BOUTS,AIB,DML,EGEM,NOBS,SCT,CCL,JET,CFUN,BIT,ACE,ADI,SHB,CDN,ABS,EXMR,WEB,XMCT,ENTS,BLOC,TKA,TELOS,SKC,SUR,DOGEC,CYFM,SCRIV,AMN,BZX,TENA,BBO,PGN,ITL,2GO,PHON,ETI,SEXC,APR,CDX,PAWS,ZINC,SPF,IMPL,DFT,TNS,GPKR,CAZ,AIX,AMM,LUC,ITT,TDS,EXO,KZC,LOBS,DOW,BRIA,PRJ,ADZ,FTXT,XGOX,BTK,EPY,UNIFY,BUNNY2,KWATT,LRM,CYL,MMO,DTRC,KWH,VOCO,ENGT,HERB,PKG,TVNT,TYPE,ELTCOIN,FBN,CYMT,MICRO,RLT,XCG,RUPX,QUIN,OLMP,ZNT,IG,CATO,BTCN,WTN,GOSS,PNY,TCH,ROCO,VIKKY,DATP,QNO,NRP,DSR,HAVY,DMB,MRI,TEAM,BRAT,BNC,MNC,DIN,DELTA,CTRT,JOINT,KUN,IMP,YLC,SOCC,AAA,CREDO,DEW,LKK,FLASH,XCEL,COLX,BCI,BIS,XES,LIF,NTY,CAG,PND,XPA,IOC,HBT,DIME,CSNO,DBIX,GRC,ESP,MYST,XRA,BET,GAM,XLR,CPY,AMLT,LEV,PKC,MOTO,VITES,OXY,NBAI,HVN,COIN,PURA,COVAL,OMNI,HNT,SUSD,BEN,RVT,ETK,OPT,CTC,XPD,IFOOD,BDG,XHI,CPAY,ALX,ANC,OCT,NPW,MINT,ETT,SVD,X8X,TKS,UBC,ERO,KB3,QRK,MAX,SENSE,KIND,BRX,SEAL,IETH,EFYT,2GIVE,HEAT,TRF,PYN,ESN,DTH,SIM,XSD,CLN,PIX,IDXM,BRK,MANNA,NEOS,PSM,TIE,MNTP,TIPS,TOLL,SETH,LDOGE,REBL,CARBON,AUR,WSX,TRC,NRVE,FGC,BLU,FOOD,IPSX,LOG,C8,ETA,CBX,CAT,DAR,IND,TZC,ADL,EQL,CROAT,SHARD,NOR,NXC,PWR,SHDW,CRED,HGT,EBST,BQ,BUZZ,DFS,ORB,ZNY,NEXT,ETBS,TES,XCN,ZIPT,NSR,ATM,HYP,ELIX,Q2C,TROLL,GCN,SMLY,HUC,PIGGY,WAND,MORE,BIO,TIT,NOBL,KOBO,XCLR,PGT2,FYP,EQT,EGC,CST,MNP,ZEIT,CMM,I0C,BTB,ADC,ODN,VIEW,ARG,ARCO,LOCI,RC,DP,BCDT,TALAO,TRCT,NKA,KEK,ONG,REX,DRPU,UNI3,BTCS,IXC,LANA,SHPING,DIT,FORK,SGN,UNIT,VSX,XGS,CTL,ETHM,FOR,FRC,POP,GLT,WIZ,QUAN,MOIN,XMCC,BDL,NDC,ESZ,CRM,FND,CREA,JEW,OTN,TRK,PXC,DAY,RIYA,FJC,BBS,DCY,OPC,DEM,ORE,BRO,BUL,PING,GAP,BSTN,RAIN,TDX,AC3,OPAL,NCP,XDNA,TAG,MEC,BRIT,OPCX,XJO,EVI,INN,CHESS,IC,GZRO,ECASH,NYAN,BTDX,KNDC,HODL,UTC,XBL,DEAL,DGC,NER,BTA,MASH,UIS,FT,MXT,AZART,YUP,IRD,ARION,VSL,HUZU,ARCT,COMP,BCF,SAT,ACC,NMS,TRI,SWING,ZZC,BLC,B2N,BOLI,INSN,CASH,JOT,GOLF,BTCRED,HNC,V,CCT,611,CRAVE,PROC,ICOO,TEK,GB,KED,VIU,XXX,AREPA,WAGE,BTAD,SUPER,CCO,BSM,STEEP,BC,ITI,VOT,ARI,ETG,QTL,LCP,MCI,BLAST2,GRLC,BWS,TSC,CNO,SNR,DGS,XTA,RPI,EMD,POSS,PUREX,JIN,SMC,CNT2,SPK,C2,RNS,EVIL,NZL,BERN,ZEUS,ATH,SCRT,HTH,PYX,PAK,ZBA,EZW,MFTU,DTEM,EGX,PRTX,DRM,BZL,GRIM,EBET,PLURA,PRIV,ESCE,BOST,GSR,DTC,8BIT,MSCN,YTN,BOAT,AMS,XCO,SHVR,CARE,IRL,QBC,NEVA,QBIC,MOJO,ERY,SCS,XIND,TAJ,POST,ELS,NRO,JS,IBTC,FLM,DUO,MAR,ACTP,SRC,GMCN,NUKO,ACOIN,BNN,KRONE,CF,OUR,NYEX,MST,URALS,DALC,FLIK,PNX,BSX,WHL,BUMBA,FUZZ,ECO,FNTB,VTA,PONZI,POS,COAL,XCT,XRH,ICON,IBANK,BTCONE,LTCU,RAGNA,SONG,HBC,STR,PXI,VLT,APC,ACP,WBB,CREVA,VOLT,GEERT,FOX,CTIC2,LUNA,VPRC,XCXT,NANOX,DOLLAR,BENZ,BLN,AI,CKUSD,ZB,BU,FIL,RBTC,BKBT,BTMX,EDU,DPN,WETH,GST,ACDC,FTO,SHE,SDUSD,CSM,ATP,HPT,MOF,DACC,WT,OF,CLB,KBC,FOIN,TOSC,SNPC,LIGHT,MEET,STC,INSUR,TKT,PTN,NOS,XET,TOPC,YCC,YOU,BRC,UIP,EST,UC,XUC,WIKI,INC,VTHO,ADM,WXC,UBTC,OBSR,MCC,IIC,USE,TV,ADK,OC,CIT,SDS,BUT,GSE,LEMO,MCT,CET,PC,INCX,UCT,CHT,KT,WCO,BQT,HDAC,IFC,DASC,M2O,SEER,GZE,COU,VDG,TOS,SWTC,LPT,X12,CENT,HERC,MESSE,IDT,TMTG,ICNQ,DRG,MEDIBIT,ASA,BCDN,PRX,KXC,XMC,CEL,RDC,SIGMA,DEEX,CMS,OTB,GMBC,BNK,VSC,DKPC,WBTC,SHX,INX,SKCH,CDC,CMIT,BLACK,F1C,GVE,QUBE,EGCC,NPLC,YUKI,ELLI,IOV2,SHMN,LST,XSM,ECT,WC,HRC,VLU,PCS,GARY2,COBRA,INCO,PDX,C2P,HPY,CEDEX,OBX,MOON,KZE,MEX,XRT,MOLK,BTCL,PCO,SUP,TER,ESCO,BUBO,CIV,ANON,WBL,PLUS1,CRV,MBC,CIF,BUD,AWC,CRE,IDOL,XQN,SNO,SZC,XTRD,CHE,OMEN,LABH,NEOG,EXC,EMB,BSN,HYB,GRX,WIN,WIC,PNDM,AEC,HNDC,EDS,UST2,BTBcIGNORE,PROUD,HSN,MERO,COTN,EAG,IFP,TELL,DMC,ZENGOLD,MINEX,IQT,DUTCH,ELITE,BTCM,PLX,GOD,VLC,SAL,RPL,WYS,OBTC,ALTX,DAXT,XG,AGLT,DT,XCD,DELIZ,APOT,BGG,ROM,TOK,ALB,ANI,ACAD,SL,PEO,ALGO,OSC,SLV,FXC,BDX,OKB,BF,BCNA,CDL,BLTV,OCE,MCASH,SXP,GT,CHZ,USDK,ZNN,JEX,BNANA,EGLD,TRAT,WXT,COCOS,BOA,COS,TUSC,HBAR,HNS,OXT,PERL,WRX,XAUT,EMT,KAVA,OGN,LINKA,ZANO,GMAT,XDB,CNNS,BAND,EOSDT,TROY,XRC,AKRO,VRA,VRSC,CHR,SNL,ROOBEE,STREAMIT,UAT,AXE,Ycash,BEPRO,PVT,PLTC,OWC,NOIA,NWC,VGW,JOB,BAN,SIN,MIDAS,NYZO,TKX,CETH,CNHT,AXEL,SAI,WOM,BTSE,IDRT,FLEX,PEG,QBX,UND,BBTC,SCAP,FIX,C3W,PIB,TOC,BITTO,EAC,NPC,CHG,SHA,ENQ,MERI,BTBC,HEX,FRM,XWP,EWT,LCX,TRYB,DVT,MWC,SOLO,QC,DREP,CTSI,KAI,DMG,WAXP,AMPL,SWIFT,RUNE,ZNZ,CALL,STAKE,GHOST,BUSD,CKB,KRT,DDK,HXRO,BTC2,UOS,KDA,PRV,JRT,YFI,XIO,TTN,CHI,PCX,BXY,COT,CUT,AD,AER,BGBP,BOOM,CSPN,DAPPT,ESBC,ESH,EVED,EXRT,FDR,FLS,HTB,HUNT,IMG,INF,INFT,JUP,KTS,LOT,MALW,MBN,MRC,NGOT,NTBC,PAR,PORTAL,PTM,QWC,RFOX,SAFE,SCP,SYC,TCASH,TKP,TWINS,UPX,URAC,VDX,VSF,WEBD,WOW,ZCC,CDAI,NXM,CUSDC,VLX,PAXG,DOS,DSLA,BLVR,iDNA,RNDR,VALOR,WBBC,TRB,VXV,X42,VDL,APM,ARPA,MTA,DEC,HUSD,UMA,BZRX,MIX,DIA,PNT,PIE,DXD,DDR,AVAX,RARI,STMX,YFL,MYX,GEEQ,SUKU,STRONG,NEST,DAM,CNS,LYXE,DFI,XPR,SWAP,BAL,SWINGBY,BITC,OM,HAKKA,TWT,EMTRG,SRM,CUSDT,CELO,YAMV2,DOT,YFV,FYZ,DANCOIN,CFX,HIVE,JST,KEEP,ULG,INNBC,SYLO,SUSHI,EHRT,ORN,GRO,VIDYA,BUY,DDIM,DF,PLT,CREAM,CVP,RENBTC,FNX,FNT,OKS,SHIB,SHR,KSM,RING,ERG,ZDEX,TRADE,YFII,DEXT,SWRV,DISTX,SAND,SWFL,RSV,CBAT,SAPP,CCX,PHA,SERO,MX,XOR,ACH,MCB,BEL,LIEN,FRONT,RMPL,DYT,DGVC,PICKLE,PHNX,UNI,SOCKS,LIBERTAS,MUSD,BRG,1UP,AGA,FIO,WING,HGET,SOL,NCDT,AR,BASED,PAMP,SHROOM,CHADS,PBTC,BSC,LUA,CORE,YFIII,OCTO,RFUEL,PLA2,TOMOE,POLS,KOMP,TRU,AAVE,KIRO,DODO,WANATHA,PGT,HTR,AWX,DARK,XVS,DOUGH,YAXIS,YFBETA,ROT,DRC,NFY,FIN,DRC2,DEGO,RBC,IYF,BDK,TXL,TON2,ALPHA,LMY,PLOT,BGTT,DDRT,RCORE,CHART,SLP,GALA,PPBLZ,JUL,UNISTAKE,DEV2,FARM,DPI,MILK2,DEXTF,INDEX,ZEFU,EZ,RAMP,SWG,UNCX,PRIA,CHONK,AUDIO,SYNC,ERSDL,MEME,NEAR,INJ,TITAN,CRU,DHT,CTK,RVX,KP3R,EAURIC,LAYER,ORAI,TAT,WOO,PTERIA,KP4R,ZZZ,ATRI,ALBT,AXS,HARD,LINA,LTX,SMARTCREDIT,TESTA,ROSE,BWF,AUSCM,BOND,NU,APY,UNN,USDN,UBX,SDX,AXN,FLOW,CFI,SFI,EXRD,SPORE,ICHI,A,RFI,FVT,UNIDX,COVER,ARW,CLL,LVX,MOR,SUTER,FUSE,YNTI,XDAG,RUGZ,LOVE,KLV,JNTR/e,COIL,CHL,C2O,BURGER,ACTN,MPH,MARK,MUSE,KIT,UFT,CEFI,OPEN,CRBN,API3,UNFI,ANY,HEGIC,SKL,VALUE,IDLE,VISION,BADGER,BASE,BFC2,WCRES,AMP,SKEY,BAO,WOZX,BIP,MERGE,NIRX,YLD,SURE,SCV,ELG,YLDX,CORD,MIXS,DG,HYVE,DEGENS,BDCASH,COR,GEO,RARE,TYM,OIL,TPT,MCH,DONUT,DPH,MVT,NRV,IGG,NVT,PRQ,HAI,ANRX,LON,SPOT,DAO,MIR,DEXE,N3RDz,PPAY,BONDLY,TCORE,BOND2,NIF,RLY,RGT,CZRX,DOGEFI,DUCK,NSBT,UCO,WHALE,MATH,MTLX,NSURE,PERP,REVV,TRUFI,ZYRO,ZEE,XSGD,TLN,GZIL,YVS,DUCK2,FXS,FRAX,1INCH,ONX,AETH,DDX,POND,STETH,FIDA,SPICE,ROYA,DYP,WHITE,REEF,DFSOCIAL,XED,SPI,TRISM,SCIFI,FIS,WISE,GRT,XEP,JUVFT,PSGFT,KOBE,YF-DAI,PROM,ZKS,LDO,CRETH2,ATMFT,BBR,ZERO,NFTX,TFT,COMBO,ELX,PSI,BITT,YOP,HYDRA,SPARTA,PRY,SOAR,BIFI2,POOLZ,VRX,GLCH,PAID,KSP,DIGG,INFI,CVR,ARMOR,PGU,BMI,TROP,BITCI,MSS,MWG,CAKE,MBX,FWT,JGN,WINR,WGRT,OMI,HELMET,FL,STM,OPIUM,CWS,SX,SURF,SFP,OPCT,JULD,AKITA,FEG,AUCTION,PAINT,ID,UMB,TORN,FXF,MWBTC,QUICK,YBOFT,WBNB,CBIX,THFT,KEBAB,IBFKFT,NOVFT,TLOS,MSC,PROPEL,XSUSHI,BAKE,AWG,XCM,ACS,DJV,DITTO,WARP,GOC,SHIELD,PREMIA,DVD,RAY,WIOV,GBI,SSS,LIT2,IDEA,FYZNFT,BRY,VSP,PRCY,HYPR,LPOOL,EROWAN,VBNT,XLA,HOPR,POLK,FONT,100X,AKT2,ALCX,MATTER,URUS,LPNT,KEYFI,STACK,BSCPAD,AGVE,ACMFT,GALFT,DOWS,TRAFT,BARFT,ASRFT,OGFT,APYS,ALPACA,UDO,HOGE,BMXX,CHOW,ARGON,GHST,BELT,GSPI,HAPI,MOD,WASP,DB,SOUL2,PIG,WXEQ,ALN,SAFEMOON,LABS,POODL,XYM,DAFT,BIFI,KGO,BWSB,TARA,BDFSOCIAL,OHM,CUE,ICP,IOV,BITM,XEND,CSPR,SAFEBTC,ROOK,WSB,DFY,COPE,FEI,MARSH,VANCAT,COOK,STRK,SFUND,ZWAP,XPRT,MCRN,PEFI,8PAY,TOTM,YAE,BOSON,OCTI,DPS,AUTOv2,DMT2,BCP3,INK2,HUGO,MBOX,BSKT,MRAT,PYR,SRV,RECAP,ELONS,PORT,HMNG,KTN,MUNCH,LAUNCH,BGO,ROUL,EARNX,COP,DBALL,ELONGATE,POOCOIN,CUMMIES,REAU,SBGO,ZEX,BABYDOGE,ICA,PEKC,HXN,TWIN,LEASH,HOKK,XFIT,ASS,AQUAGOAT,FREN,SNOWGE,FORTH,BSJ,STIX,PIKA,PYE,1TRC,SAITO,AFEN,ELON,BSCS,AWS,HORD,WAULTX,VLK,DOGOWN,LABRA,SMG,DINU,NICHEMAN,MOONSHOT,DOGGY,SMRAT,FRACTION,GOLDUCK,ALU,MOONSTAR,FSAFE,420X,LTN,LOCG,XCAD,PIT,PUSSY,XEQ,REDPANDA,SANSHU,UNO,LKM,ALLOY,RAPTOR,SHIBAPUP,WILLIE,ATYNE,HNZO,ARIGATO,NEWINU,JSHIBA,KEANU,SAHU,LOWB,KABOSU,NUX,PNG,CLEAN,MOOCHII,MELODY,DEEZNUTS,JEJUDOGE,MBS,PHIBA,STRIKE,BONFIRE,ARGO,TBC,ASTRO2,ROSN,SHIBC,MOONPUG,PAPI,KODA,RELI,YOOSHI,ZOOT,GRIMEX,KAIINU,PM,BUHUND,GINU,HUA,PATH,LOGE,CLU,JEUR,JCHF,JGBP,HTY,RAKUC,STAK,CATE,AC,KAWA,SIQQE,CUMINU,BANANA,TWG,SET3,SMGM,SPA,NERC,WHKLR,KALLY,SLIM,SGE,MOOV,BTP,WYVERN,KALM,PIZZA2,WFN,AWP,MTDR,SSN2,YELL,BSCX,BARMY,SWASS,SHIBAII,SHARK2,IMX,MILF2,MOONCLONE,COM2,SSHIBA,DEFY2,MEL2,BULLDOGE,CHC2,SPACE,OCC2,PIXC,SME,MOONLIGHT,PIB2,PFI,BTS3,BTD2,VNY,CRAZYTIME,VEED,SKYBORN,LYPTUS,LASM,RIC,MLTPX,CULT,GOD3,EMAX,TEST,ROC,FID,UCARE,SPACE2,NEWB2,AINU,PEBBLE,HC2,LEVIN,AMPT,YUCJ,GLMR,PTLKX,AQUA,SUPER2,SPMN,BRKC,BRIGADEIRO,EDG2,PHTR,SMI,SAITAMA,CO2,SHIBA,OSM,ZOO2,TINKU,MYOBU,SHIBARAMEN,ULTRA3,AQUAPIG,VRC2,TOKAU,TONE,SLW,SHIBA2,JIFF,NOBU,DINGO,SWEETS,SHIBG,BKING,XIDO,GREENDOGE,TRUMPINU,SWAPP,PLENTY,PORNROCKET,TREES,HANU,ELONPEG,SGO,SAFEHOLD,WEXPOLY,URG,NAFTY,MAMBO,CSWAP,INTO,SHOCO,DSTL2,DOUC,CREDI,RYOSHI,AKUMA,SHIBERUS,SPD2,PAND2,ASSCASH,XONE,SAYAN,MESSI,YSOY,YTOFU,MEOW,PDOG,MLPY,BMON,CLIT2,FWATCH,PUSSC,SB,MOO,CHNG,CTF,TWE,D1R2,KONG2,OPS,BFT2,STRAINZ2,GAZA,TAPE,XPO,KEIF,WSPP,TRUBGR,AIRI,MANGA,MONSTA,CTENA,SPIRIT,FYD,FBOMB,XGOLD,NFT,ORE2,AFIB,GROND,SPRITZMOON,BORING,LAIKA,VET2,BUNNY,HAKA,DINK,RBT,BETO,SAIL,FLOKI,SHIBARISE,PDOGE,SPW,ARTEX,MTU,EOM,IVORY,VICS,CRYSTL,XDM,MASK,BDT,INARI,STARL,INFLHUB,OIPL,RZE,TROOP,JM,HUP,TKREV,ERRR,SPH,LEOS,FSHIB,CADA,MM,DIF,TOGO,PDOGE2,ZPAINT,POP2,SAFEDOGE,MYSTERY,EXIP,BINU,HONEYX,PROTO,SCO,CARB,STREAM,ZLP,ZCH,REDC,ZLF,GARY,DUCK3,UST,CHAINCADE,POLICEDOGE,RISE,ST, LANC,GODL,MSC2,SHARDS,ZWALL,GLIZZY,GMR,HODL3,CORGIQ,CON,PRESIDENTDOGE,ADD,MDX,VAI,EGG,XTK,PEAK,ACED,OMN,DOGEBTC,APE,SNOOK,BUNI,POFY,BUBBA,SlinkyDoge,JORDAN,ELOIN,BPAY,BLAST,CPHR,SHIFU,PEPE2,TITAN2,KEYS,FLINK,DPX,WEX,DYOR,SHARK3,ORT,YIELD,VTX,HOGE(BEP20),MMS,GREENFEG,BEYONDSY,ZPAY,HODL2,CRP,MAU,BABYBAKE,ADS2,KCAKE,BURP,BONE,BONESHIBAIGNORE,KFL,SEC,SBT,SPS,SAFEARN,CTN,ZOON,ASK,STF,ALICE,STAR2,PSYCHODOGE,KOGECOIN,BWT2,BHUNT,SNOOD,BABYTRUMP,FLV,SMAK,CHT2,BABYSUN,SHIBAETH,DEFT,BABYCRYPTO,TRAVA,GGG,SOWL,SHITCOIN,HI,WAIV,DXCT,KITSU,SIL,FST2,HUBS,ONYX,GAL,FIBO,MOM,DRIO,SHIBANCETOKENS,WOOF,HERO,XAI,PLAY2,BOO,GFX,OCP,SBR,LSP,BANKR,MDX ,ONFTS,LADYB,ULTI,SPE,PXBSC,VPP,SRX,HAM,STACK2,BEER,MOVR,ZENC,BITBUCKS,LITH,CAL,PUMPETH,UFO2,KILT,BABYARABIA,WEYU,VPU,CNT,GAIN,EXP,MERGE(BEP20),ASTRO,ODIN,ZOO,MPS,ITGR,BOOST,BBSWAP,IXS,JED,SWATER,MIA']"
     },
     "metadata": {}
    }
   ]
  },
  {
   "cell_type": "code",
   "metadata": {
    "tags": [],
    "deepnote_to_be_reexecuted": false,
    "source_hash": "37c84ba8",
    "execution_start": 1631545889488,
    "execution_millis": 18,
    "cell_id": "00003-772c2e9c-64ca-40a2-9af9-7d1b422d1e97",
    "deepnote_cell_type": "code"
   },
   "source": "numberOfCoinsToGet = 50 # per batch\nv = [','.join(list(pd.DataFrame(data_coins['data']).head(numberOfCoinsToGet)['symbol']))]\nassets_low = [x.lower() for x in v]\nassets_low[0]",
   "execution_count": null,
   "outputs": [
    {
     "output_type": "execute_result",
     "execution_count": 4,
     "data": {
      "text/plain": "'btc,eth,xrp,ltc,bch,bnb,usdt,eos,bsv,xlm,ada,trx,xmr,leo,dash,neo,miota,link,atom,xtz,etc,xem,mkr,ont,cro,zec,vsys,usdc,doge,btg,bat,vet,egt,qtum,dcr,ht,hedg,omg,tusd,pax,rvn,nano,lsk,btt,bcd,hot,kcs,waves,zrx,npxs'"
     },
     "metadata": {}
    }
   ]
  },
  {
   "cell_type": "code",
   "metadata": {
    "tags": [],
    "cell_id": "00005-c37bd533-65f4-4962-97f8-8ffa11031ad9",
    "deepnote_to_be_reexecuted": false,
    "source_hash": "830e3042",
    "execution_start": 1631545895244,
    "execution_millis": 7,
    "deepnote_cell_type": "code"
   },
   "source": "# https://stackoverflow.com/questions/47239332/take-the-sum-of-every-n-rows-in-a-pandas-series\ncoin_groups = pd.DataFrame(data_coins['data'])['symbol'].values[:-11].reshape(-1, numberOfCoinsToGet)\ncoin_groups[:5]",
   "execution_count": null,
   "outputs": [
    {
     "output_type": "execute_result",
     "execution_count": 5,
     "data": {
      "text/plain": "array([['BTC', 'ETH', 'XRP', 'LTC', 'BCH', 'BNB', 'USDT', 'EOS', 'BSV',\n        'XLM', 'ADA', 'TRX', 'XMR', 'LEO', 'DASH', 'NEO', 'MIOTA',\n        'LINK', 'ATOM', 'XTZ', 'ETC', 'XEM', 'MKR', 'ONT', 'CRO', 'ZEC',\n        'VSYS', 'USDC', 'DOGE', 'BTG', 'BAT', 'VET', 'EGT', 'QTUM',\n        'DCR', 'HT', 'HEDG', 'OMG', 'TUSD', 'PAX', 'RVN', 'NANO', 'LSK',\n        'BTT', 'BCD', 'HOT', 'KCS', 'WAVES', 'ZRX', 'NPXS'],\n       ['REP', 'ICX', 'DGB', 'MONA', 'KMD', 'HC', 'BTS', 'AOA', 'IOST',\n        'BCN', 'BTM', 'LAMB', 'SC', 'THETA', 'EKT', 'INB', 'NEX', 'XIN',\n        'NRG', 'QNT', 'ZIL', 'XVG', 'GXC', 'AE', 'WTC', 'REN', 'STEEM',\n        'DAI', 'ABBC', 'NET', 'XZC', 'SNT', 'MCO', 'ARDR', 'ENJ', 'GNT',\n        'VEST', 'MAID', 'ELF', 'NEXO', 'SOLVE', 'UUU', 'MXM', 'CCCX',\n        'JCT', 'ETP', 'XMX', 'RIF', 'STRAX', 'PAI'],\n       ['ZEN', 'FSN', 'GRIN', 'FX', 'ETN', 'PPT', 'NAS', 'SAN', 'DENT',\n        'ELA', 'ECOREAL', 'MANA', 'QASH', 'LRC', 'FTM', 'FST', 'ARK',\n        'ODE', 'AION', 'FCT', 'ORBS', 'RDD', 'NULS', 'DGD', 'VERI', 'LA',\n        'TOMO', 'EURS', 'KNC', 'ENG', 'IGNIS', 'WICC', 'BCZERO', 'LOOM',\n        'TRUE', 'CMT', 'SNX', 'MOAC', 'POWR', 'BNT', 'QKC', 'WAN',\n        'TFUEL', 'BIX', 'CELR', 'BEAM', 'PIVX', 'NEW', 'ONE', 'AGVC'],\n       ['HYN', 'ABT', 'APL', 'CRPT', 'C20', 'MATIC', 'ANT', 'IOTX',\n        'STORJ', 'DGTX', 'BHP', 'POLY', 'TEL', 'BZ', 'FET', 'BRD', 'PLC',\n        'BOX', 'RLC', 'GRS', 'TT', 'LXT', 'GAS', 'SYS', 'NXT', 'META',\n        'DRGN', 'TTC', 'ITC', 'CTXC', 'BFT', 'FUN', 'BOTX', 'SKY', 'CVC',\n        'GBYTE', 'UGAS', 'GNO', 'EDO', 'MITH', 'DAC', 'ROX', 'KAN',\n        'VTC', 'MEDX', 'MTL', 'CSC', 'SEELE', 'TRXC', 'CVNT'],\n       ['PAY', 'HPB', 'ETZ', 'TNT', 'NXS', 'ANKR', 'BCV', 'RUFF', 'AGI',\n        'DAPS', 'UTK', 'EMC2', 'DTR', 'LTO', 'PART', 'ADN', 'NKN',\n        'FOAM', 'VITAE', 'MFT', 'TKN', 'QRL', 'MTC', 'HYC', 'CND',\n        'CLAM', 'WIX', 'GTO', 'ILC', 'PLA', 'CHX', 'LBA', 'REPO',\n        'STORM', 'CPT', 'IQ', 'INT', 'OGO', 'MHC', 'CBT', 'TOP', 'AERGO',\n        'DX', 'IRIS', 'OCN', 'ACT', 'MDA', 'IDEX', 'NEBL', 'EVX']],\n      dtype=object)"
     },
     "metadata": {}
    }
   ]
  },
  {
   "cell_type": "code",
   "metadata": {
    "tags": [],
    "cell_id": "00006-10612219-9fa5-4f3f-b34e-5e67a3f1bb8d",
    "deepnote_to_be_reexecuted": false,
    "source_hash": "e49c3fa",
    "execution_start": 1631545900039,
    "execution_millis": 6,
    "deepnote_cell_type": "code"
   },
   "source": "for group in coin_groups:\n    print(','.join(group).lower())\n    print()",
   "execution_count": null,
   "outputs": [
    {
     "name": "stdout",
     "text": "btc,eth,xrp,ltc,bch,bnb,usdt,eos,bsv,xlm,ada,trx,xmr,leo,dash,neo,miota,link,atom,xtz,etc,xem,mkr,ont,cro,zec,vsys,usdc,doge,btg,bat,vet,egt,qtum,dcr,ht,hedg,omg,tusd,pax,rvn,nano,lsk,btt,bcd,hot,kcs,waves,zrx,npxs\n\nrep,icx,dgb,mona,kmd,hc,bts,aoa,iost,bcn,btm,lamb,sc,theta,ekt,inb,nex,xin,nrg,qnt,zil,xvg,gxc,ae,wtc,ren,steem,dai,abbc,net,xzc,snt,mco,ardr,enj,gnt,vest,maid,elf,nexo,solve,uuu,mxm,cccx,jct,etp,xmx,rif,strax,pai\n\nzen,fsn,grin,fx,etn,ppt,nas,san,dent,ela,ecoreal,mana,qash,lrc,ftm,fst,ark,ode,aion,fct,orbs,rdd,nuls,dgd,veri,la,tomo,eurs,knc,eng,ignis,wicc,bczero,loom,true,cmt,snx,moac,powr,bnt,qkc,wan,tfuel,bix,celr,beam,pivx,new,one,agvc\n\nhyn,abt,apl,crpt,c20,matic,ant,iotx,storj,dgtx,bhp,poly,tel,bz,fet,brd,plc,box,rlc,grs,tt,lxt,gas,sys,nxt,meta,drgn,ttc,itc,ctxc,bft,fun,botx,sky,cvc,gbyte,ugas,gno,edo,mith,dac,rox,kan,vtc,medx,mtl,csc,seele,trxc,cvnt\n\npay,hpb,etz,tnt,nxs,ankr,bcv,ruff,agi,daps,utk,emc2,dtr,lto,part,adn,nkn,foam,vitae,mft,tkn,qrl,mtc,hyc,cnd,clam,wix,gto,ilc,pla,chx,lba,repo,storm,cpt,iq,int,ogo,mhc,cbt,top,aergo,dx,iris,ocn,act,mda,idex,nebl,evx\n\napis,kin,salt,cosm,vgx,evn,dcn,btr,incnt,rdn,vite,wgr,trio,dusk,caj,rsr,plr,edc,block,burst,sxdt,ppc,aeon,lbtc,tnb,ine,pma,arrr,pzm,man,poe,tera,flux,adx,tky,oto,tct,1st,qntu,req,rcn,go,hydro,b2b,data,moc,tpay,ost,vbk,ncash\n\ncdt,qsp,mic,dbc,dpt,dta,nmc,gvt,nav,aen,soc,rnt,smt,evr,blz,btn,xby,oxen,edr,xwc,bitcny,cs,auto,wabi,pepecash,mbl,zip,smart,met,zrc,xsn,dero,xspec,pro,nmr,sbd,kcash,via,cwv,edg,pch,flo,dmt,sft,qun,oax,noah,loc,at,gusd\n\nihf,ddd,vee,dvpn,srn,mrph,xas,med,cnn,rfr,gnx,gtc,bwx,s4f,mrx,utnp,ten,swftc,mds,lcc,sngls,mtv,lym,xdn,btx,eca,mwat,pst,mln,ast,nec,slt,phx,key,nix,spnd,dnt,mth,vibe,npx,vidt,aog,xyo,upp,tac,got,lnd,art,iht,tern\n\ncpc,veil,swm,dlt,vex,arn,cvt,tas,ukg,vib,ubq,trac,hlt,bos,lend,cnus,divi,yoyow,jnt,qlc,dag,n8v,appc,ocean,ava,poa,mer,stpt,bcpt,nlg,mxc,skm,dadi,pi,dgx,ssp,eosdac,vnt,pra,czr,mvl,sntvt,snm,gsc,coti,mitx,mvp,lbc,hmc,ovc\n\ntiox,amo,bay,cova,plbt,lit,game,mgo,mobi,bto,dock,bomb,fiii,abyss,amb,shift,pasc,trtl,lky,qbit,bznt,uno2,btu,ppp,utt,bitusd,scrl,sins,scc,b2g,emc,zcl,taas,bco,sub,ads,gen,ftc,sda,pbt,tube,fuel,nim,abl,sphr,bmc,fti,lrn,zpt,pre\n\nxpm,hlc,lun,usds,neu,blk,xcp,xbase,wct,adt,dct,kore,mdt,csp,veo,zcn,bolt,snc,chsb,clo,polis,atx,cpx,onion,bitg,pac,phr,rem,rby,ecob,lgo,grid,cas,beet,baas,ink,oio,cov,cennz,osa,nsd,brzc,wings,bax,sphtx,tmc,mod2,wwb,bpt,cloak\n\nkat,cbc,bbc,ply,qch,tix,cryp,dbet,ecom,imt,pot,xaur,cob,fota,tfd,gcr,tau,html,rth,spank,gin,stq,qac,skb,up,ion,aura,rock2,dpy,spd,rpd,ppy,kick,ngc,pxg,dna,nct,mnx,atn,avinoc,pcl,sen,edn,get,xel,nanj,zp,thc,kst,spc\n\nrvr,gcc,grft,ceek,xlq,dim,dacs,dmd,ivy,zco,pal,vips,ntk,ebc,cv,fxt,xdc,vrc,val,nlc2,noku,crw,xmy,mue,rise2,sem,ftt,fdz,ubt,fluz,lqd,axpr,cxo,swth,edrc,ut,gene,orme,rmesh,chat,xhv,six,hmq,mot,lux,mib,isr,dax,aid,hqx\n\nzsc,robet,elec,zap,yee,sxut,note,scr,bmx,hst,exrn,fnkos,card,ftn,dov,ubex,time,ufr,xfc,soul,nyc,dtb,gtm,wtl,aidoc,blt,cure,ugc,gard,ixt,banca,hsc,snet,ftx,soniq,enrg,gup,inv,mtn,eko,slr,gem,toa,foxt,mlm,karma,music,bir,ship,bez\n\nnpxsxem,ncc,zpr,drt,flixx,pnk,zmn,ssc,cmct,pirl,eli,mas,yoc,instar,lcs,ptoy,vct,ok,exp2,ttt,idh,tol,boxx,bsd,ss,olt,efx,pat,avt,trtt,dav,swt,nvc,prix,sib,payx,tnc,ipl,msr,snov,gic,gat,ary,lpc,dxt,latx,capp,ucash,ledu,qbt\n\nflp,stx,stk,senc,own,aby,like,bee,datx,hwc,rte,xsh,tgame,icr,mlc,sntr,dyn,dagt,wire,exy,red,inve,tdp,excl,poll,fldc,abx,dope,vld,niox,wab,dev,seq,alis,synx,lthn,thrt,pink,oot,xsg,qwark,nbc,bnty,btcz,rating,ali,xpc,pass,deb,opti\n\nomx,vrm,lstr,obits,bbn,udoo,cofi,play,flot,vulc,cen,nbr,iop,inxt,berry,can,chp,uqc,face,adb,iqn,aac,ryo,send,tx,fmf,rpm,xbi,0xbtc,betr,mcw,aro,myb,vrs,nkc,zcr,bitx,ufo,krl,sprts,pmnt,fsbt,ert,krb,eve,xnv,gbx,pfr,zer,gxx\n\nlgs,crc,euno,xcash,nper,srcoin,1wo,atmi,peng,rntb,hold,evc,ref,gio,btxc,pcn,usnbt,pkt,ucn,plu,pareto,hbz,her,cann,lion,mvc,j8t,tcc,modx,btnt,zla,erc20,equad,mtx,put,metm,frec,hb,bbp,aux,spn,zxc,ebtc,auc,ccrb,skin,xbp,cdm,rlx,pylnt\n\ndan,bob,ionc,mag,adh,star,medic,xun,navi,sumo,mfg,tig,xap,zet,klks,bela,hqt,lnc,etho,bon,ely,rct,bmh,dashg,ors,cl,kln,lala,xov,ing,aka,acm,monk,ntrn,knt,cfl,bouts,aib,dml,egem,nobs,sct,ccl,jet,cfun,bit,ace,adi,shb,cdn\n\nabs,exmr,web,xmct,ents,bloc,tka,telos,skc,sur,dogec,cyfm,scriv,amn,bzx,tena,bbo,pgn,itl,2go,phon,eti,sexc,apr,cdx,paws,zinc,spf,impl,dft,tns,gpkr,caz,aix,amm,luc,itt,tds,exo,kzc,lobs,dow,bria,prj,adz,ftxt,xgox,btk,epy,unify\n\nbunny2,kwatt,lrm,cyl,mmo,dtrc,kwh,voco,engt,herb,pkg,tvnt,type,eltcoin,fbn,cymt,micro,rlt,xcg,rupx,quin,olmp,znt,ig,cato,btcn,wtn,goss,pny,tch,roco,vikky,datp,qno,nrp,dsr,havy,dmb,mri,team,brat,bnc,mnc,din,delta,ctrt,joint,kun,imp,ylc\n\nsocc,aaa,credo,dew,lkk,flash,xcel,colx,bci,bis,xes,lif,nty,cag,pnd,xpa,ioc,hbt,dime,csno,dbix,grc,esp,myst,xra,bet,gam,xlr,cpy,amlt,lev,pkc,moto,vites,oxy,nbai,hvn,coin,pura,coval,omni,hnt,susd,ben,rvt,etk,opt,ctc,xpd,ifood\n\nbdg,xhi,cpay,alx,anc,oct,npw,mint,ett,svd,x8x,tks,ubc,ero,kb3,qrk,max,sense,kind,brx,seal,ieth,efyt,2give,heat,trf,pyn,esn,dth,sim,xsd,cln,pix,idxm,brk,manna,neos,psm,tie,mntp,tips,toll,seth,ldoge,rebl,carbon,aur,wsx,trc,nrve\n\nfgc,blu,food,ipsx,log,c8,eta,cbx,cat,dar,ind,tzc,adl,eql,croat,shard,nor,nxc,pwr,shdw,cred,hgt,ebst,bq,buzz,dfs,orb,zny,next,etbs,tes,xcn,zipt,nsr,atm,hyp,elix,q2c,troll,gcn,smly,huc,piggy,wand,more,bio,tit,nobl,kobo,xclr\n\npgt2,fyp,eqt,egc,cst,mnp,zeit,cmm,i0c,btb,adc,odn,view,arg,arco,loci,rc,dp,bcdt,talao,trct,nka,kek,ong,rex,drpu,uni3,btcs,ixc,lana,shping,dit,fork,sgn,unit,vsx,xgs,ctl,ethm,for,frc,pop,glt,wiz,quan,moin,xmcc,bdl,ndc,esz\n\ncrm,fnd,crea,jew,otn,trk,pxc,day,riya,fjc,bbs,dcy,opc,dem,ore,bro,bul,ping,gap,bstn,rain,tdx,ac3,opal,ncp,xdna,tag,mec,brit,opcx,xjo,evi,inn,chess,ic,gzro,ecash,nyan,btdx,kndc,hodl,utc,xbl,deal,dgc,ner,bta,mash,uis,ft\n\nmxt,azart,yup,ird,arion,vsl,huzu,arct,comp,bcf,sat,acc,nms,tri,swing,zzc,blc,b2n,boli,insn,cash,jot,golf,btcred,hnc,v,cct,611,crave,proc,icoo,tek,gb,ked,viu,xxx,arepa,wage,btad,super,cco,bsm,steep,bc,iti,vot,ari,etg,qtl,lcp\n\nmci,blast2,grlc,bws,tsc,cno,snr,dgs,xta,rpi,emd,poss,purex,jin,smc,cnt2,spk,c2,rns,evil,nzl,bern,zeus,ath,scrt,hth,pyx,pak,zba,ezw,mftu,dtem,egx,prtx,drm,bzl,grim,ebet,plura,priv,esce,bost,gsr,dtc,8bit,mscn,ytn,boat,ams,xco\n\nshvr,care,irl,qbc,neva,qbic,mojo,ery,scs,xind,taj,post,els,nro,js,ibtc,flm,duo,mar,actp,src,gmcn,nuko,acoin,bnn,krone,cf,our,nyex,mst,urals,dalc,flik,pnx,bsx,whl,bumba,fuzz,eco,fntb,vta,ponzi,pos,coal,xct,xrh,icon,ibank,btcone,ltcu\n\nragna,song,hbc,str,pxi,vlt,apc,acp,wbb,creva,volt,geert,fox,ctic2,luna,vprc,xcxt,nanox,dollar,benz,bln,ai,ckusd,zb,bu,fil,rbtc,bkbt,btmx,edu,dpn,weth,gst,acdc,fto,she,sdusd,csm,atp,hpt,mof,dacc,wt,of,clb,kbc,foin,tosc,snpc,light\n\nmeet,stc,insur,tkt,ptn,nos,xet,topc,ycc,you,brc,uip,est,uc,xuc,wiki,inc,vtho,adm,wxc,ubtc,obsr,mcc,iic,use,tv,adk,oc,cit,sds,but,gse,lemo,mct,cet,pc,incx,uct,cht,kt,wco,bqt,hdac,ifc,dasc,m2o,seer,gze,cou,vdg\n\ntos,swtc,lpt,x12,cent,herc,messe,idt,tmtg,icnq,drg,medibit,asa,bcdn,prx,kxc,xmc,cel,rdc,sigma,deex,cms,otb,gmbc,bnk,vsc,dkpc,wbtc,shx,inx,skch,cdc,cmit,black,f1c,gve,qube,egcc,nplc,yuki,elli,iov2,shmn,lst,xsm,ect,wc,hrc,vlu,pcs\n\ngary2,cobra,inco,pdx,c2p,hpy,cedex,obx,moon,kze,mex,xrt,molk,btcl,pco,sup,ter,esco,bubo,civ,anon,wbl,plus1,crv,mbc,cif,bud,awc,cre,idol,xqn,sno,szc,xtrd,che,omen,labh,neog,exc,emb,bsn,hyb,grx,win,wic,pndm,aec,hndc,eds,ust2\n\nbtbcignore,proud,hsn,mero,cotn,eag,ifp,tell,dmc,zengold,minex,iqt,dutch,elite,btcm,plx,god,vlc,sal,rpl,wys,obtc,altx,daxt,xg,aglt,dt,xcd,deliz,apot,bgg,rom,tok,alb,ani,acad,sl,peo,algo,osc,slv,fxc,bdx,okb,bf,bcna,cdl,bltv,oce,mcash\n\nsxp,gt,chz,usdk,znn,jex,bnana,egld,trat,wxt,cocos,boa,cos,tusc,hbar,hns,oxt,perl,wrx,xaut,emt,kava,ogn,linka,zano,gmat,xdb,cnns,band,eosdt,troy,xrc,akro,vra,vrsc,chr,snl,roobee,streamit,uat,axe,ycash,bepro,pvt,pltc,owc,noia,nwc,vgw,job\n\nban,sin,midas,nyzo,tkx,ceth,cnht,axel,sai,wom,btse,idrt,flex,peg,qbx,und,bbtc,scap,fix,c3w,pib,toc,bitto,eac,npc,chg,sha,enq,meri,btbc,hex,frm,xwp,ewt,lcx,tryb,dvt,mwc,solo,qc,drep,ctsi,kai,dmg,waxp,ampl,swift,rune,znz,call\n\nstake,ghost,busd,ckb,krt,ddk,hxro,btc2,uos,kda,prv,jrt,yfi,xio,ttn,chi,pcx,bxy,cot,cut,ad,aer,bgbp,boom,cspn,dappt,esbc,esh,eved,exrt,fdr,fls,htb,hunt,img,inf,inft,jup,kts,lot,malw,mbn,mrc,ngot,ntbc,par,portal,ptm,qwc,rfox\n\nsafe,scp,syc,tcash,tkp,twins,upx,urac,vdx,vsf,webd,wow,zcc,cdai,nxm,cusdc,vlx,paxg,dos,dsla,blvr,idna,rndr,valor,wbbc,trb,vxv,x42,vdl,apm,arpa,mta,dec,husd,uma,bzrx,mix,dia,pnt,pie,dxd,ddr,avax,rari,stmx,yfl,myx,geeq,suku,strong\n\nnest,dam,cns,lyxe,dfi,xpr,swap,bal,swingby,bitc,om,hakka,twt,emtrg,srm,cusdt,celo,yamv2,dot,yfv,fyz,dancoin,cfx,hive,jst,keep,ulg,innbc,sylo,sushi,ehrt,orn,gro,vidya,buy,ddim,df,plt,cream,cvp,renbtc,fnx,fnt,oks,shib,shr,ksm,ring,erg,zdex\n\ntrade,yfii,dext,swrv,distx,sand,swfl,rsv,cbat,sapp,ccx,pha,sero,mx,xor,ach,mcb,bel,lien,front,rmpl,dyt,dgvc,pickle,phnx,uni,socks,libertas,musd,brg,1up,aga,fio,wing,hget,sol,ncdt,ar,based,pamp,shroom,chads,pbtc,bsc,lua,core,yfiii,octo,rfuel,pla2\n\ntomoe,pols,komp,tru,aave,kiro,dodo,wanatha,pgt,htr,awx,dark,xvs,dough,yaxis,yfbeta,rot,drc,nfy,fin,drc2,dego,rbc,iyf,bdk,txl,ton2,alpha,lmy,plot,bgtt,ddrt,rcore,chart,slp,gala,ppblz,jul,unistake,dev2,farm,dpi,milk2,dextf,index,zefu,ez,ramp,swg,uncx\n\npria,chonk,audio,sync,ersdl,meme,near,inj,titan,cru,dht,ctk,rvx,kp3r,eauric,layer,orai,tat,woo,pteria,kp4r,zzz,atri,albt,axs,hard,lina,ltx,smartcredit,testa,rose,bwf,auscm,bond,nu,apy,unn,usdn,ubx,sdx,axn,flow,cfi,sfi,exrd,spore,ichi,a,rfi,fvt\n\nunidx,cover,arw,cll,lvx,mor,suter,fuse,ynti,xdag,rugz,love,klv,jntr/e,coil,chl,c2o,burger,actn,mph,mark,muse,kit,uft,cefi,open,crbn,api3,unfi,any,hegic,skl,value,idle,vision,badger,base,bfc2,wcres,amp,skey,bao,wozx,bip,merge,nirx,yld,sure,scv,elg\n\nyldx,cord,mixs,dg,hyve,degens,bdcash,cor,geo,rare,tym,oil,tpt,mch,donut,dph,mvt,nrv,igg,nvt,prq,hai,anrx,lon,spot,dao,mir,dexe,n3rdz,ppay,bondly,tcore,bond2,nif,rly,rgt,czrx,dogefi,duck,nsbt,uco,whale,math,mtlx,nsure,perp,revv,trufi,zyro,zee\n\nxsgd,tln,gzil,yvs,duck2,fxs,frax,1inch,onx,aeth,ddx,pond,steth,fida,spice,roya,dyp,white,reef,dfsocial,xed,spi,trism,scifi,fis,wise,grt,xep,juvft,psgft,kobe,yf-dai,prom,zks,ldo,creth2,atmft,bbr,zero,nftx,tft,combo,elx,psi,bitt,yop,hydra,sparta,pry,soar\n\nbifi2,poolz,vrx,glch,paid,ksp,digg,infi,cvr,armor,pgu,bmi,trop,bitci,mss,mwg,cake,mbx,fwt,jgn,winr,wgrt,omi,helmet,fl,stm,opium,cws,sx,surf,sfp,opct,juld,akita,feg,auction,paint,id,umb,torn,fxf,mwbtc,quick,yboft,wbnb,cbix,thft,kebab,ibfkft,novft\n\ntlos,msc,propel,xsushi,bake,awg,xcm,acs,djv,ditto,warp,goc,shield,premia,dvd,ray,wiov,gbi,sss,lit2,idea,fyznft,bry,vsp,prcy,hypr,lpool,erowan,vbnt,xla,hopr,polk,font,100x,akt2,alcx,matter,urus,lpnt,keyfi,stack,bscpad,agve,acmft,galft,dows,traft,barft,asrft,ogft\n\napys,alpaca,udo,hoge,bmxx,chow,argon,ghst,belt,gspi,hapi,mod,wasp,db,soul2,pig,wxeq,aln,safemoon,labs,poodl,xym,daft,bifi,kgo,bwsb,tara,bdfsocial,ohm,cue,icp,iov,bitm,xend,cspr,safebtc,rook,wsb,dfy,cope,fei,marsh,vancat,cook,strk,sfund,zwap,xprt,mcrn,pefi\n\n8pay,totm,yae,boson,octi,dps,autov2,dmt2,bcp3,ink2,hugo,mbox,bskt,mrat,pyr,srv,recap,elons,port,hmng,ktn,munch,launch,bgo,roul,earnx,cop,dball,elongate,poocoin,cummies,reau,sbgo,zex,babydoge,ica,pekc,hxn,twin,leash,hokk,xfit,ass,aquagoat,fren,snowge,forth,bsj,stix,pika\n\npye,1trc,saito,afen,elon,bscs,aws,hord,waultx,vlk,dogown,labra,smg,dinu,nicheman,moonshot,doggy,smrat,fraction,golduck,alu,moonstar,fsafe,420x,ltn,locg,xcad,pit,pussy,xeq,redpanda,sanshu,uno,lkm,alloy,raptor,shibapup,willie,atyne,hnzo,arigato,newinu,jshiba,keanu,sahu,lowb,kabosu,nux,png,clean\n\nmoochii,melody,deeznuts,jejudoge,mbs,phiba,strike,bonfire,argo,tbc,astro2,rosn,shibc,moonpug,papi,koda,reli,yooshi,zoot,grimex,kaiinu,pm,buhund,ginu,hua,path,loge,clu,jeur,jchf,jgbp,hty,rakuc,stak,cate,ac,kawa,siqqe,cuminu,banana,twg,set3,smgm,spa,nerc,whklr,kally,slim,sge,moov\n\nbtp,wyvern,kalm,pizza2,wfn,awp,mtdr,ssn2,yell,bscx,barmy,swass,shibaii,shark2,imx,milf2,moonclone,com2,sshiba,defy2,mel2,bulldoge,chc2,space,occ2,pixc,sme,moonlight,pib2,pfi,bts3,btd2,vny,crazytime,veed,skyborn,lyptus,lasm,ric,mltpx,cult,god3,emax,test,roc,fid,ucare,space2,newb2,ainu\n\npebble,hc2,levin,ampt,yucj,glmr,ptlkx,aqua,super2,spmn,brkc,brigadeiro,edg2,phtr,smi,saitama,co2,shiba,osm,zoo2,tinku,myobu,shibaramen,ultra3,aquapig,vrc2,tokau,tone,slw,shiba2,jiff,nobu,dingo,sweets,shibg,bking,xido,greendoge,trumpinu,swapp,plenty,pornrocket,trees,hanu,elonpeg,sgo,safehold,wexpoly,urg,nafty\n\nmambo,cswap,into,shoco,dstl2,douc,credi,ryoshi,akuma,shiberus,spd2,pand2,asscash,xone,sayan,messi,ysoy,ytofu,meow,pdog,mlpy,bmon,clit2,fwatch,pussc,sb,moo,chng,ctf,twe,d1r2,kong2,ops,bft2,strainz2,gaza,tape,xpo,keif,wspp,trubgr,airi,manga,monsta,ctena,spirit,fyd,fbomb,xgold,nft\n\nore2,afib,grond,spritzmoon,boring,laika,vet2,bunny,haka,dink,rbt,beto,sail,floki,shibarise,pdoge,spw,artex,mtu,eom,ivory,vics,crystl,xdm,mask,bdt,inari,starl,inflhub,oipl,rze,troop,jm,hup,tkrev,errr,sph,leos,fshib,cada,mm,dif,togo,pdoge2,zpaint,pop2,safedoge,mystery,exip,binu\n\nhoneyx,proto,sco,carb,stream,zlp,zch,redc,zlf,gary,duck3,ust,chaincade,policedoge,rise,st, lanc,godl,msc2,shards,zwall,glizzy,gmr,hodl3,corgiq,con,presidentdoge,add,mdx,vai,egg,xtk,peak,aced,omn,dogebtc,ape,snook,buni,pofy,bubba,slinkydoge,jordan,eloin,bpay,blast,cphr,shifu,pepe2,titan2\n\nkeys,flink,dpx,wex,dyor,shark3,ort,yield,vtx,hoge(bep20),mms,greenfeg,beyondsy,zpay,hodl2,crp,mau,babybake,ads2,kcake,burp,bone,boneshibaignore,kfl,sec,sbt,sps,safearn,ctn,zoon,ask,stf,alice,star2,psychodoge,kogecoin,bwt2,bhunt,snood,babytrump,flv,smak,cht2,babysun,shibaeth,deft,babycrypto,trava,ggg,sowl\n\nshitcoin,hi,waiv,dxct,kitsu,sil,fst2,hubs,onyx,gal,fibo,mom,drio,shibancetokens,woof,hero,xai,play2,boo,gfx,ocp,sbr,lsp,bankr,mdx ,onfts,ladyb,ulti,spe,pxbsc,vpp,srx,ham,stack2,beer,movr,zenc,bitbucks,lith,cal,pumpeth,ufo2,kilt,babyarabia,weyu,vpu,cnt,gain,exp,merge(bep20)\n\n",
     "output_type": "stream"
    }
   ]
  },
  {
   "cell_type": "code",
   "metadata": {
    "tags": [],
    "cell_id": "00007-ff0c4bad-30d9-457b-a875-c88153f8b691",
    "deepnote_to_be_reexecuted": false,
    "source_hash": "74c27f1b",
    "execution_start": 1631545902463,
    "execution_millis": 6,
    "deepnote_cell_type": "code"
   },
   "source": "len(coin_groups)",
   "execution_count": null,
   "outputs": [
    {
     "output_type": "execute_result",
     "execution_count": 7,
     "data": {
      "text/plain": "58"
     },
     "metadata": {}
    }
   ]
  },
  {
   "cell_type": "code",
   "metadata": {
    "tags": [],
    "cell_id": "00004-e07b2ffe-5f64-40b2-89d4-ceac9bb95757",
    "deepnote_to_be_reexecuted": false,
    "source_hash": "a6cff1dc",
    "execution_start": 1631546371642,
    "execution_millis": 533473,
    "deepnote_cell_type": "code"
   },
   "source": "df_full_z = pd.DataFrame()\ndf_full_price = pd.DataFrame()\n\nfor idx, group in enumerate(coin_groups):\n\n    \n    print(idx, \" of \", len(coin_groups))\n    \n    assets_low = ','.join(group).lower()\n    print(assets_low)\n\n    queryStringParams = {\n      'data':'assets',\n      'key':'hnvavbmd2fj62h5kzd2imb',\n      'symbol':assets_low,\n      'data_points': 720,\n      'interval':'day',\n      'time_series_indicators':'close',\n      #'start': 1627852171,\n      #'end': 1630444171\n    }\n\n\n    encodedParams = urllib.parse.urlencode(queryStringParams)\n\n    #url = \"data=global&key=hnvavbmd2fj62h5kzd2imb&data_points=24\"\n    #url = \"data=assets&key=hnvavbmd2fj62h5kzd2imb&symbol=DOGE&data_points=365&interval=day\"\n\n    # https://stackoverflow.com/questions/31778800/how-can-i-make-a-post-request-on-python-with-urllib3\n    # https://stackoverflow.com/questions/7933417/how-do-i-set-headers-using-pythons-urllib\n    # https://www.pluralsight.com/guides/importing-data-from-json-resource-with-python\n\n    with request.urlopen(lunar_start + encodedParams) as response:\n            if response.getcode() == 200:\n                source = response.read()        \n                data = json.loads(source)\n                print(data['usage'])\n            else:\n                print('An error occurred while attempting to retrieve data from the API.')\n\n    df_group_z = pd.DataFrame()\n    df_group_price = pd.DataFrame()\n    for coin in data['data']:\n\n        coinName = coin['symbol'] + '-'+ coin['name']\n        print(coinName)\n        \n        try:\n            df = pd.DataFrame(coin['timeSeries'])[['time', 'close']]\n        except:\n            print(coinName, ' skippped, missing df cols')\n            continue\n\n        if df.isnull().sum().sum() > 0:\n            print(coinName, ' is missing')\n            continue\n\n        # https://stackoverflow.com/questions/19231871/convert-unix-time-to-readable-date-in-pandas-dataframe\n        df['time'] = pd.to_datetime(df['time'],unit='s')  \n\n        df.columns = ['time', coinName]\n        df = df.set_index('time')\n\n        df_group_price = pd.concat([df_group_price, df], axis=1)\n\n        # df = df.dropna(axis='columns')\n        df[coinName] = stats.zscore(df[coinName])\n\n        #display(df)\n        df_group_z = pd.concat([df_group_z, df], axis=1)\n\n    df_full_z = pd.concat([df_full_z, df_group_z], axis=1)\n    df_full_price = pd.concat([df_full_price, df_group_price], axis=1)\n\ndf_full_z # 720 x 1118 cols - 50 coins\n        # 720 x 1095 - 25 coins\n        # 720 rows × 1112 50 coins, 15 seconds\n        # 720 rows × 1117 50 coins, 60 seconds ",
   "execution_count": null,
   "outputs": [
    {
     "name": "stdout",
     "text": "CWS-Crowns\nDIGG-DIGG\nFEG-Feed Every Gorilla\nFL-Freeliquid\nFL-Freeliquid  is missing\nFWT-Freeway Token\nFXF-Finxflo\nGLCH-Glitch Protocol\nHELMET-Helmet Insure\nIBFKFT-Istanbul Basaksehir Fan Token\nIBFKFT-Istanbul Basaksehir Fan Token  is missing\nID-Everest\nINFI-Insured Finance\nJGN-Juggernaut\nJULD-JulSwap\nKEBAB-Kebab Token\nKSP-KlaySwap Protocol\nMBX-MobieCoin\nMSS-Monster Slayer Share\nMSS-Monster Slayer Share  is missing\nMWBTC-MetaWhale BTC\nMWBTC-MetaWhale BTC  is missing\nMWG-Metawhale Gold\nMWG-Metawhale Gold  is missing\nNOVFT-Novara Calcio Fan Token\nNOVFT-Novara Calcio Fan Token  is missing\nOMI-ECOMI\nOPCT-Opacity\nOPIUM-Opium\nPAID-PAID Network\nPAID-PAID Network  is missing\nPAINT-Paint\nPGU-Polyient Games Unity\nPGU-Polyient Games Unity  is missing\nPOOLZ-Poolz.Finance\nQUICK-Quickswap\nSFP-SafePal.io\nSTM-Streamity\nSTM-Streamity  is missing\nSURF-SURF.Finance\nSURF-SURF.Finance  is missing\nSX-SportX\nTHFT-Team Heretics Fan Token\nTHFT-Team Heretics Fan Token  is missing\nTORN-Tornado Cash\nTROP-Interop\nTROP-Interop  is missing\nUMB-Umbrella Network\nVRX-Verox\nWBNB-Wrapped BNB\nWBNB-Wrapped BNB  is missing\nWGRT-WaykiChain Governance Coin\nWINR-WINR\nYBOFT-Young Boys Fan Token\nYBOFT-Young Boys Fan Token  is missing\n46  of  58\ntlos,msc,propel,xsushi,bake,awg,xcm,acs,djv,ditto,warp,goc,shield,premia,dvd,ray,wiov,gbi,sss,lit2,idea,fyznft,bry,vsp,prcy,hypr,lpool,erowan,vbnt,xla,hopr,polk,font,100x,akt2,alcx,matter,urus,lpnt,keyfi,stack,bscpad,agve,acmft,galft,dows,traft,barft,asrft,ogft\n{'day': 48, 'month': 512}\n100X-100xCoin\nACMFT-AC Milan Fan Token\nACS-ACryptoS\nAGVE-Agave\nAGVE-Agave  is missing\nAKT2-Akash Network\nALCX-Alchemix\nASRFT-AS Roma Fan Token\nASRFT-AS Roma Fan Token  is missing\nAWG-AurusGOLD\nAWG-AurusGOLD  is missing\nBAKE-BakeryToken\nBARFT-FC Barcelona Fan Token\nBRY-Berry Data\nBSCPAD-BSCPAD\nDITTO-Ditto\nDITTO-Ditto  is missing\nDJV-Dejave\nDJV-Dejave  is missing\nDOWS-Shadows\nDVD-DAOventures\nDVD-DAOventures  is missing\nEROWAN-Sifchain\nFONT-Font\nFONT-Font  is missing\nFYZNFT-Fyooz NFT\nFYZNFT-Fyooz NFT  is missing\nGALFT-Galatasaray Fan Token\nGBI-Galactic Blue Index\nGBI-Galactic Blue Index  is missing\nGOC-GoCrypto\nHOPR-HOPR\nHYPR-HyperBurn\nHYPR-HyperBurn  is missing\nIDEA-Ideaology\nKEYFI-KeyFi Token\nLIT2-Litentry\nLPNT-Luxurious Pro Network Token\nLPOOL-Launchpool\nMATTER-AntiMatter\nMSC-Monster Slayer Cash\nOGFT-OG Fan Token\nOGFT-OG Fan Token  is missing\nPOLK-Polkamarkets\nPRCY-PRCY Coin\nPREMIA-Premia\nPROPEL-PayRue\nRAY-Raydium Protocol\nSHIELD-Shield Protocol\nSSS-Simple Software Solutions\nSTACK-Stacker Ventures Token\nSTACK-Stacker Ventures Token  is missing\nTLOS-Telos\nTRAFT-Trabzonspor Fan Token\nURUS-Aurox Token\nURUS-Aurox Token  is missing\nVBNT-Bancor Governance Token\nVBNT-Bancor Governance Token  is missing\nVSP-Vesper Finance\nWARP-Warp Finance\nWARP-Warp Finance  is missing\nWIOV-Starname\nWIOV-Starname  is missing\nXCM-CoinMetro\nXLA-Scala\nXSUSHI-xSUSHI\n47  of  58\napys,alpaca,udo,hoge,bmxx,chow,argon,ghst,belt,gspi,hapi,mod,wasp,db,soul2,pig,wxeq,aln,safemoon,labs,poodl,xym,daft,bifi,kgo,bwsb,tara,bdfsocial,ohm,cue,icp,iov,bitm,xend,cspr,safebtc,rook,wsb,dfy,cope,fei,marsh,vancat,cook,strk,sfund,zwap,xprt,mcrn,pefi\n{'day': 49, 'month': 513}\nALN-Aluna.Social\nALPACA-Alpaca Finance\nAPYS-APYSwap\nARGON-Argon\nBDFSOCIAL-DEFISocial (BEP-20)\nBDFSOCIAL-DEFISocial (BEP-20)  is missing\nBELT-Belt\nBIFI-Beefy.Finance\nBITM-Bitsmael\nBITM-Bitsmael  is missing\nBMXX-Multiplier\nBMXX-Multiplier  is missing\nBWSB-Wall Street Baby\nBWSB-Wall Street Baby  is missing\nCHOW-CHOW CHOW\nCHOW-CHOW CHOW  is missing\nCOOK-Cook Protocol\nCOPE-Cope\nCSPR-Casper Network\nCSPR-Casper Network  is missing\nCUE-CUE Protocol\nCUE-CUE Protocol  is missing\nDAFT-DaftCoin\nDAFT-DaftCoin  is missing\nDB-Dark.Build\nDB-Dark.Build  is missing\nDFY-Defi For You\nFEI-Fei Protocol\nGHST-Aavegotchi\nGSPI-Shopping.io Governance\nHAPI-HAPI\nHOGE-hoge.finance\nICP-Internet Computer\nICP-Internet Computer  is missing\nIOV-Starname\nIOV-Starname  is missing\nKGO-Kiwigo\nLABS-LABS Group\nMARSH-Unmarshal\nMCRN-MacaronSwap\nMCRN-MacaronSwap  is missing\nMOD-Modefi\nMOD-Modefi  is missing\nOHM-Olympus\nPEFI-Penguin Finance\nPEFI-Penguin Finance  is missing\nPIG-Pig Finance\nPOODL-Poodl Token\nROOK-ROOK\nSAFEBTC-SafeBitcoin\nSAFEMOON-SafeMoon\nSFUND-Seedify.fund\nSFUND-Seedify.fund  is missing\nSOUL2-APOyield\nSOUL2-APOyield  is missing\nSTRK-Strike\nTARA-Taraxa\nUDO-Unido EP\nVANCAT-Vancat\nWASP-WanSwap\nWSB-Wall Street Baby\nWSB-Wall Street Baby  is missing\nWXEQ-Wrapped Equilibria\nWXEQ-Wrapped Equilibria  is missing\nXEND-Xend Finance\nXPRT-Persistence One\nXYM-Symbol\nZWAP-ZilSwap\n48  of  58\n8pay,totm,yae,boson,octi,dps,autov2,dmt2,bcp3,ink2,hugo,mbox,bskt,mrat,pyr,srv,recap,elons,port,hmng,ktn,munch,launch,bgo,roul,earnx,cop,dball,elongate,poocoin,cummies,reau,sbgo,zex,babydoge,ica,pekc,hxn,twin,leash,hokk,xfit,ass,aquagoat,fren,snowge,forth,bsj,stix,pika\n{'day': 50, 'month': 514}\n8PAY-8Pay\nAQUAGOAT-Aquagoat\nASS-Australian Safe Shepherd\nAUTOv2-Autofarm\nBABYDOGE-Baby Doge Coin\nBCP3-Bitcashpay\nBCP3-Bitcashpay  is missing\nBGO-Bingo Cash\nBGO-Bingo Cash  is missing\nBOSON-Boson Protocol\nBSJ-BasenjiDAO\nBSJ-BasenjiDAO  is missing\nBSKT-BasketCoin\nBSKT-BasketCoin  is missing\nCOP-Copiosa Coin\nCUMMIES-CumRocket\nDBALL-Dragonball Finance\nDBALL-Dragonball Finance  is missing\nDMT2-Dark Matter\nDMT2-Dark Matter  is missing\nDPS-DEEPSPACE\nEARNX-EarnX\nELONGATE-ElonGate\nELONS-Elons\nFORTH-Ampleforth Governance Token\nFREN-Frenchie Token\nHMNG-Hummingbird Finance\nHOKK-Hokkaidu Inu\nHUGO-Hugo Finance\nHXN-Havens Nook\nICA-Icarus\nINK2-Slinky Pro\nINK2-Slinky Pro  is missing\nKTN-Kattana\nLAUNCH-SuperLauncher\nLEASH-LEASH\nMBOX-Mobox\nMRAT-MoonRat\nMRAT-MoonRat  is missing\nMUNCH-Munch Token\nOCTI-Oction\nPEKC-PEACOCKCOIN\nPIKA-Pika Finance\nPIKA-Pika Finance  is missing\nPOOCOIN-PooCoin\nPOOCOIN-PooCoin  is missing\nPORT-PackagePortal\nPYR-Vulcan Forged\nREAU-Vira-lata Finance\nRECAP-Review Capital\nROUL-Roul Token\nROUL-Roul Token  is missing\nSBGO-Bingo Share\nSBGO-Bingo Share  is missing\nSNOWGE-SnowgeCoin\nSRV-zilSurvey\nSTIX-Chopsticks Protocol\nSTIX-Chopsticks Protocol  is missing\nTOTM-TotemFi\nTWIN-Twinci\nTWIN-Twinci  is missing\nXFIT-Xfit\nYAE-Cryptonovae\nZEX-ZEXSWAP Token\nZEX-ZEXSWAP Token  is missing\n49  of  58\npye,1trc,saito,afen,elon,bscs,aws,hord,waultx,vlk,dogown,labra,smg,dinu,nicheman,moonshot,doggy,smrat,fraction,golduck,alu,moonstar,fsafe,420x,ltn,locg,xcad,pit,pussy,xeq,redpanda,sanshu,uno,lkm,alloy,raptor,shibapup,willie,atyne,hnzo,arigato,newinu,jshiba,keanu,sahu,lowb,kabosu,nux,png,clean\n{'day': 51, 'month': 515}\n1TRC-1Tronic Network\n420X-420X\n420X-420X  is missing\nAFEN-AFEN Blockchain\nALLOY-HyperAlloy\nALU-Altura\nARIGATO-Arigato\nARIGATO-Arigato  is missing\nATYNE-Aerotyne\nATYNE-Aerotyne  is missing\nAWS-AurusSilver\nAWS-AurusSilver  is missing\nBSCS-BSC Station\nCLEAN-CleanOcean\nDINU-Dogey-Inu\nDOGGY-DOGGY\nDOGOWN-Dog Owner\nDOGOWN-Dog Owner  is missing\nELON-Dogelon Mars\nFRACTION-Own a FRACTION\nFRACTION-Own a FRACTION  is missing\nFSAFE-Fair Safe\nFSAFE-Fair Safe  is missing\nGOLDUCK-Golden Duck\nHNZO-Hanzo Inu\nHORD-Hord\nJSHIBA-Jomon Shiba\nJSHIBA-Jomon Shiba  is missing\nKABOSU-Kabosu Token\nKEANU-Keanu Inu\nLABRA-Labra Finance\nLKM-LokumToken\nLKM-LokumToken  is missing\nLOCG-LOCGame\nLOWB-Loser Coin\nLTN-Life Token\nMOONSHOT-Moonshot\nMOONSTAR-MoonStar Token\nNEWINU-New Guinea Singing Dog Inu\nNICHEMAN-NICHEMAN\nNICHEMAN-NICHEMAN  is missing\nNUX-Peanut\nNUX-Peanut  is missing\nPIT-Pitbull\nPIT-Pitbull  is missing\nPNG-Pangolin\nPNG-Pangolin  is missing\nPUSSY-Pussy Financial\nPYE-CreamPYE\nRAPTOR-Raptor Finance\nRAPTOR-Raptor Finance  is missing\nREDPANDA-RedPanda Earth\nSAHU-Sakhalin Husky\nSAHU-Sakhalin Husky  is missing\nSAITO-Saito\nSANSHU-Sanshu Inu\nSHIBAPUP-ShibaPup\nSHIBAPUP-ShibaPup  is missing\nSMG-Smaugs NFT\nSMRAT-Secured MoonRat Token\nSMRAT-Secured MoonRat Token  is missing\nUNO-Uno Re\nVLK-Vulkania\nWAULTX-Waultx\nWILLIE-Williecoin\nXCAD-XCAD Network\nXCAD-XCAD Network  is missing\nXEQ-Equilibria\n50  of  58\nmoochii,melody,deeznuts,jejudoge,mbs,phiba,strike,bonfire,argo,tbc,astro2,rosn,shibc,moonpug,papi,koda,reli,yooshi,zoot,grimex,kaiinu,pm,buhund,ginu,hua,path,loge,clu,jeur,jchf,jgbp,hty,rakuc,stak,cate,ac,kawa,siqqe,cuminu,banana,twg,set3,smgm,spa,nerc,whklr,kally,slim,sge,moov\n{'day': 52, 'month': 516}\nAC-ACoconut\nARGO-ArGo App\nARGO-ArGo App  is missing\nASTRO2-AstroPup\nASTRO2-AstroPup  is missing\nBANANA-ApeSwap\nBONFIRE-BONFIRE\nBUHUND-Buhund Coin\nBUHUND-Buhund Coin  is missing\nCATE-CATECOIN\nCLU-CluCoin\nCUMINU-Cum Inu\nCUMINU-Cum Inu  is missing\nDEEZNUTS-Deez Nuts\nGINU-Green Shiba Inu\nGINU-Green Shiba Inu  is missing\nGRIMEX-SpaceGrime\nGRIMEX-SpaceGrime  is missing\nHTY-Honest\nHTY-Honest  is missing\nHUA-Chihuahua\nJCHF-Jarvis Synthetic Swiss Franc\nJCHF-Jarvis Synthetic Swiss Franc  is missing\nJEJUDOGE-Jejudoge\nJEUR-Jarvis Synthetic Euro\nJEUR-Jarvis Synthetic Euro  is missing\nJGBP-Jarvis Synthetic British Pound\nJGBP-Jarvis Synthetic British Pound  is missing\nKAIINU-Kai Inu\nKAIINU-Kai Inu  is missing\nKALLY-Polkally\nKAWA-Kawakami Inu\nKAWA-Kawakami Inu  is missing\nKODA-Koda\nKODA-Koda  is missing\nLOGE-LunaDoge\nMBS-Moonboys \nMBS-Moonboys   is missing\nMELODY-Melody\nMELODY-Melody  is missing\nMOOCHII-Moochii\nMOOCHII-Moochii  is missing\nMOONPUG-Moon Pug\nMOONPUG-Moon Pug  is missing\nMOOV-Dotmoovs\nNERC-Nercoin\nNERC-Nercoin  is missing\nPAPI-Papillon\nPAPI-Papillon  is missing\nPATH-PathFund\nPHIBA-Papa Shiba\nPHIBA-Papa Shiba  is missing\nPM-Pomskey\nRAKUC-Raku Coin\nRAKUC-Raku Coin  is missing\nRELI-Relite Finance\nROSN-Roseon Finance\nSET3-Sustainable Energy Token\nSGE-Society of Galactic Exploration\nSHIBC-ShibaCash\nSHIBC-ShibaCash  is missing\nSIQQE-Siqqe\nSIQQE-Siqqe  is missing\nSLIM-Solanium\nSLIM-Solanium  is missing\nSMGM-SMEGMARS \nSMGM-SMEGMARS   is missing\nSPA-Sperax\nSPA-Sperax  is missing\nSTAK-Jigstack\nSTRIKE-StrikeCoin\nSTRIKE-StrikeCoin  is missing\nTBC-TeraBlock\nTBC-TeraBlock  is missing\nTWG-Token War Game\nTWG-Token War Game  is missing\nWHKLR-Whale Killer Token\nWHKLR-Whale Killer Token  is missing\nYOOSHI-YooShi\nZOOT-Zoo Token\n51  of  58\nbtp,wyvern,kalm,pizza2,wfn,awp,mtdr,ssn2,yell,bscx,barmy,swass,shibaii,shark2,imx,milf2,moonclone,com2,sshiba,defy2,mel2,bulldoge,chc2,space,occ2,pixc,sme,moonlight,pib2,pfi,bts3,btd2,vny,crazytime,veed,skyborn,lyptus,lasm,ric,mltpx,cult,god3,emax,test,roc,fid,ucare,space2,newb2,ainu\n{'day': 53, 'month': 517}\nAINU-AINU TOKEN\nAINU-AINU TOKEN  is missing\nAWP-AurusPLATINUM\nAWP-AurusPLATINUM  is missing\nBARMY-BscArmy\nBARMY-BscArmy  is missing\nBSCX-LaunchZone (BSCEX)\nBTD2-Bolt Dollar\nBTP-BitPal\nBTP-BitPal  is missing\nBTS3-Bolt Share\nBULLDOGE-Bulldoge\nBULLDOGE-Bulldoge  is missing\nCHC2-Chcoin\nCHC2-Chcoin  is missing\nCOM2-Complus Network\nCOM2-Complus Network  is missing\nCRAZYTIME-CrazyTime\nCULT-Cultivated Finance\nCULT-Cultivated Finance  is missing\nDEFY2-DefyDefi\nDEFY2-DefyDefi  is missing\nEMAX-EthereumMax\nEMAX-EthereumMax  is missing\nFID-FID TOKEN\nFID-FID TOKEN  is missing\nGOD3-Game Of DeFi\nGOD3-Game Of DeFi  is missing\nIMX-Impermax Finance\nKALM-Kalmar\nLASM-Alaskan Malamute Token\nLASM-Alaskan Malamute Token  is missing\nLYPTUS-Lyptus Token\nLYPTUS-Lyptus Token  is missing\nMEL2-Caramel Swap\nMILF2-Moms I'd Like to Fund\nMILF2-Moms I'd Like to Fund  is missing\nMLTPX-MoonLift Protocol\nMOONCLONE-MOONCLONE\nMOONCLONE-MOONCLONE  is missing\nMOONLIGHT-Moonlight Token\nMTDR-Matador Token\nNEWB2-Newb Token\nNEWB2-Newb Token  is missing\nOCC2-OccamFi\nPFI-Protocol Finance\nPFI-Protocol Finance  is missing\nPIB2-Passive Income Bot\nPIB2-Passive Income Bot  is missing\nPIXC-Pixcoin\nPIXC-Pixcoin  is missing\nPIZZA2-Pizza Swap Token\nPIZZA2-Pizza Swap Token  is missing\nRIC-Rielcoin\nRIC-Rielcoin  is missing\nROC-Roxe\nSHARK2-Baby Shark\nSHARK2-Baby Shark  is missing\nSHIBAII-SHIBAII\nSHIBAII-SHIBAII  is missing\nSKYBORN-SkyBornBSC\nSKYBORN-SkyBornBSC  is missing\nSME-SafeMeme\nSPACE-Space Token\nSPACE-Space Token  is missing\nSPACE2-Space\nSPACE2-Space  is missing\nSSHIBA-Super Shiba Token \nSSHIBA-Super Shiba Token   is missing\nSSN2-Supersonic Finance\nSWASS-SWASS Finance\nSWASS-SWASS Finance  is missing\nTEST-TEST_DO_NOT_BUY\nUCARE-Safecare\nUCARE-Safecare  is missing\nVEED-VIMworld\nVNY-Vanity\nVNY-Vanity  is missing\nWFN-WinFinity\nWFN-WinFinity  is missing\nWYVERN-Wyvern Token\nWYVERN-Wyvern Token  is missing\nYELL-Yell\nYELL-Yell  is missing\n52  of  58\npebble,hc2,levin,ampt,yucj,glmr,ptlkx,aqua,super2,spmn,brkc,brigadeiro,edg2,phtr,smi,saitama,co2,shiba,osm,zoo2,tinku,myobu,shibaramen,ultra3,aquapig,vrc2,tokau,tone,slw,shiba2,jiff,nobu,dingo,sweets,shibg,bking,xido,greendoge,trumpinu,swapp,plenty,pornrocket,trees,hanu,elonpeg,sgo,safehold,wexpoly,urg,nafty\n{'day': 54, 'month': 518}\nAMPT-Amplify Token\nAMPT-Amplify Token  is missing\nAQUA-Planet Finance\nAQUAPIG-AquaPig\nAQUAPIG-AquaPig  is missing\nBKING-King Arthur\nBRIGADEIRO-Brigadeiro.Finance\nBRIGADEIRO-Brigadeiro.Finance  is missing\nBRKC-Broke Coin\nBRKC-Broke Coin  is missing\nCO2-Collective\nDINGO-DINGO\nDINGO-DINGO  is missing\nEDG2-Edgeware \nELONPEG-ElonPeg\nGLMR-Moonbeam\nGLMR-Moonbeam  is missing\nGREENDOGE-Green Doge Token\nGREENDOGE-Green Doge Token  is missing\nHANU-Hanu Yokia\nHC2-HyperCoin\nHC2-HyperCoin  is missing\nJIFF-Jiffpom\nJIFF-Jiffpom  is missing\nLEVIN-Levin\nLEVIN-Levin  is missing\nMYOBU-My?bu \nNAFTY-Nafty\nNOBU-Nobu Inu\nNOBU-Nobu Inu  is missing\nOSM-Supermoon\nOSM-Supermoon  is missing\nPEBBLE-PEBBLE\nPEBBLE-PEBBLE  is missing\nPHTR-Phuture\nPLENTY-Plenty Defi\nPLENTY-Plenty Defi  is missing\nPORNROCKET-PornRocket\nPTLKX-Potluck Protocol\nPTLKX-Potluck Protocol  is missing\nSAFEHOLD-SafeHold\nSAFEHOLD-SafeHold  is missing\nSAITAMA-Saitama Inu\nSGO-Sportemongo\nSHIBA-Shiba Fantom\nSHIBA-Shiba Fantom  is missing\nSHIBA2-ShibaIndex\nSHIBA2-ShibaIndex  is missing\nSHIBARAMEN-Shiba Ramen\nSHIBARAMEN-Shiba Ramen  is missing\nSHIBG-SHIBA GENERAL\nSHIBG-SHIBA GENERAL  is missing\nSLW-SolarWind Token\nSLW-SolarWind Token  is missing\nSMI-SafeMoon Inu\nSPMN-SUPER MISSION\nSPMN-SUPER MISSION  is missing\nSUPER2-SuperFarm\nSWAPP-SWAPP PROTOCOL\nSWEETS-CryptoCandy\nSWEETS-CryptoCandy  is missing\nTINKU-Tinku\nTINKU-Tinku  is missing\nTOKAU-Tokyo AU\nTONE-NFT TONE\nTONE-NFT TONE  is missing\nTREES-Safetrees\nTRUMPINU-Trump Inu\nTRUMPINU-Trump Inu  is missing\nULTRA3-UltraSafe\nURG-UrGaming\nVRC2-Veterans Recognition Crypto Currency\nVRC2-Veterans Recognition Crypto Currency  skippped, missing df cols\nWEXPOLY-WEXPOLY\nXIDO-Xido Finance\nXIDO-Xido Finance  is missing\nYUCJ-Yu Coin\nYUCJ-Yu Coin  is missing\nZOO2-ZooCoin\n53  of  58\nmambo,cswap,into,shoco,dstl2,douc,credi,ryoshi,akuma,shiberus,spd2,pand2,asscash,xone,sayan,messi,ysoy,ytofu,meow,pdog,mlpy,bmon,clit2,fwatch,pussc,sb,moo,chng,ctf,twe,d1r2,kong2,ops,bft2,strainz2,gaza,tape,xpo,keif,wspp,trubgr,airi,manga,monsta,ctena,spirit,fyd,fbomb,xgold,nft\n{'day': 55, 'month': 519}\nAIRI-aiRight\nAKUMA-Akuma Inu\nAKUMA-Akuma Inu  is missing\nASSCASH-Animal Shelter Support Cash\nASSCASH-Animal Shelter Support Cash  is missing\nBFT2-Bitfresh\nBMON-Binamon\nCHNG-Chainge\nCHNG-Chainge  is missing\nCLIT2-Community Loving Internet Token\nCLIT2-Community Loving Internet Token  is missing\nCREDI-CREDEFI \nCREDI-CREDEFI   is missing\nCSWAP-Chainswap\nCSWAP-Chainswap  is missing\nCTENA-Catena Protocol\nCTENA-Catena Protocol  is missing\nCTF-CyberTime Finance\nD1R2-Doge-1 Rocket\nD1R2-Doge-1 Rocket  is missing\nDOUC-Douc.finance\nDOUC-Douc.finance  is missing\nDSTL2-DoggyStyle\nDSTL2-DoggyStyle  is missing\nFBOMB-fBOMB\nFBOMB-fBOMB  is missing\nFWATCH-Foliowatch\nFYD-FYDcoin\nGAZA-Gaza Token\nGAZA-Gaza Token  is missing\nINTO-Infiniti Token\nINTO-Infiniti Token  is missing\nKEIF-KeifCoin\nKEIF-KeifCoin  is missing\nKONG2-KingKong\nKONG2-KingKong  is missing\nMAMBO-Mambo\nMAMBO-Mambo  is missing\nMANGA-Manga Token\nMANGA-Manga Token  is missing\nMEOW-MoonKitties\nMEOW-MoonKitties  is missing\nMESSI-MESSI\nMESSI-MESSI  is missing\nMLPY-My Little Porny\nMLPY-My Little Porny  is missing\nMONSTA-Cake Monster\nMOO-MooneyCoin\nMOO-MooneyCoin  is missing\nNFT-NFT Smart Coin\nNFT-NFT Smart Coin  is missing\nOPS-Octopus Protocol\nPAND2-PANDAMOGO\nPAND2-PANDAMOGO  is missing\nPDOG-Polkadog\nPDOG-Polkadog  is missing\nPUSSC-PussyCredit\nPUSSC-PussyCredit  is missing\nRYOSHI-Ryoshi Token\nRYOSHI-Ryoshi Token  is missing\nSAYAN-Saiyan Inu\nSB-Shill Bill\nSB-Shill Bill  is missing\nSHIBERUS-Shiberus Inu\nSHIBERUS-Shiberus Inu  is missing\nSHOCO-Shiba Chocolate\nSHOCO-Shiba Chocolate  is missing\nSPD2-SteamPunkDog\nSPD2-SteamPunkDog  is missing\nSPIRIT-SpiritSwap\nSPIRIT-SpiritSwap  is missing\nSTRAINZ2-STRAINZ NFT\nTAPE-ToolApe\nTRUBGR-TruBadger\nTRUBGR-TruBadger  is missing\nTWE-TomorrowWontExist\nTWE-TomorrowWontExist  is missing\nWSPP-WolfSafePoorPeople\nXGOLD-XGOLD\nXGOLD-XGOLD  is missing\nXONE-Station X1\nXONE-Station X1  is missing\nXPO-XPOOL\nYSOY-Ysoy\nYTOFU-yTOFU\n54  of  58\nore2,afib,grond,spritzmoon,boring,laika,vet2,bunny,haka,dink,rbt,beto,sail,floki,shibarise,pdoge,spw,artex,mtu,eom,ivory,vics,crystl,xdm,mask,bdt,inari,starl,inflhub,oipl,rze,troop,jm,hup,tkrev,errr,sph,leos,fshib,cada,mm,dif,togo,pdoge2,zpaint,pop2,safedoge,mystery,exip,binu\n{'day': 56, 'month': 520}\nAFIB-Aries Financial\nAFIB-Aries Financial  is missing\nARTEX-Artex\nARTEX-Artex  is missing\nBDT-BestDealsToken\nBDT-BestDealsToken  skippped, missing df cols\nBETO-Betoshi\nBETO-Betoshi  is missing\nBINU-BLACKHOLE INU \nBINU-BLACKHOLE INU   is missing\nBORING-BoringDAO\nBUNNY-Rocket Bunny\nCADA-Canada Coin\nCADA-Canada Coin  is missing\nCRYSTL-PolyCrystal Finance\nCRYSTL-PolyCrystal Finance  is missing\nDIF-DeFi Investment Fund\nDIF-DeFi Investment Fund  is missing\nDINK-Dink Doink\nEOM-Eelonmusk\nEOM-Eelonmusk  is missing\nERRR-ERRROR\nERRR-ERRROR  is missing\nEXIP-Exip\nEXIP-Exip  is missing\nFLOKI-Floki Inu\nFSHIB-Floki Shiba\nGROND-GROND\nGROND-GROND  is missing\nHAKA-TribeOne\nHUP-HUP.LIFE\nINARI-Inari\nINARI-Inari  is missing\nINFLHUB-InfluenceHub\nINFLHUB-InfluenceHub  is missing\nIVORY-IvoryGate \nIVORY-IvoryGate   is missing\nJM-JustMoney\nJM-JustMoney  is missing\nLAIKA-Laika Protocol\nLEOS-Leonicorn Swap\nMASK-Mask Network\nMM-Million\nMTU-MUSIC TOKEN\nMTU-MUSIC TOKEN  is missing\nMYSTERY-TheMysteryToken\nMYSTERY-TheMysteryToken  is missing\nOIPL-Obligr\nOIPL-Obligr  is missing\nORE2-Oreo Defi Finance\nPDOGE-POLKADOGE\nPDOGE-POLKADOGE  is missing\nPDOGE2-Pride Doge\nPDOGE2-Pride Doge  is missing\nPOP2-Protect Our Planet\nPOP2-Protect Our Planet  is missing\nRBT-Robust Token\nRZE-Rize Above Evolution\nRZE-Rize Above Evolution  is missing\nSAFEDOGE-SafeDoge\nSAFEDOGE-SafeDoge  is missing\nSAIL-SolanaSail\nSAIL-SolanaSail  is missing\nSHIBARISE-SHIBA RISE\nSPH-Sphynx Network\nSPH-Sphynx Network  is missing\nSPRITZMOON-SpritzMoon Crypto Token\nSPRITZMOON-SpritzMoon Crypto Token  is missing\nSPW-Sparda Wallet\nSPW-Sparda Wallet  is missing\nSTARL-StarLink\nTKREV-Token Revolution\nTKREV-Token Revolution  is missing\nTOGO-TOGO INU\nTOGO-TOGO INU  is missing\nTROOP-ApeTroop\nTROOP-ApeTroop  is missing\nVET2-Veteran Token\nVET2-Veteran Token  is missing\nVICS-RoboFi\nVICS-RoboFi  is missing\nXDM-xDiamond\nXDM-xDiamond  is missing\nZPAINT-ZilWall Paint\nZPAINT-ZilWall Paint  is missing\n55  of  58\nhoneyx,proto,sco,carb,stream,zlp,zch,redc,zlf,gary,duck3,ust,chaincade,policedoge,rise,st, lanc,godl,msc2,shards,zwall,glizzy,gmr,hodl3,corgiq,con,presidentdoge,add,mdx,vai,egg,xtk,peak,aced,omn,dogebtc,ape,snook,buni,pofy,bubba,slinkydoge,jordan,eloin,bpay,blast,cphr,shifu,pepe2,titan2\n{'day': 57, 'month': 521}\n LANC-Lanceria\n LANC-Lanceria  is missing\nACED-AceD\nADD-Add.xyz\nAPE-Ape Moon\nAPE-Ape Moon  is missing\nBLAST-Blastoff Finance\nBLAST-Blastoff Finance  is missing\nBPAY-BNBPay\nBPAY-BNBPay  is missing\nBUBBA-Bubba\nBUBBA-Bubba  is missing\nBUNI-Bunicorn\nBUNI-Bunicorn  is missing\nCARB-CARBON\nCHAINCADE-ChainCade\nCHAINCADE-ChainCade  is missing\nCON-Coin of Nature\nCON-Coin of Nature  is missing\nCORGIQ-CorgiQ\nCORGIQ-CorgiQ  is missing\nCPHR-PolkaCipher\nCPHR-PolkaCipher  is missing\nDOGEBTC-DogeBTC\nDUCK3-DuckDuck\nEGG-Goose Finance\nELOIN-Eloin\nELOIN-Eloin  is missing\nGARY-GARY\nGLIZZY-Glizzycoin\nGLIZZY-Glizzycoin  is missing\nGMR-GMR Finance\nGODL-GODL\nGODL-GODL  is missing\nHODL3-HODL\nHODL3-HODL  is missing\nHONEYX-HoneyX\nJORDAN-Crying Jordan \nJORDAN-Crying Jordan   is missing\nMDX-Mdex\nMDX -Mandala Exchange\nMSC2-Pool Party Finance\nMSC2-Pool Party Finance  is missing\nOMN-OMNI - People Driven\nOMN-OMNI - People Driven  is missing\nPEAK-PEAKDEFI\nPEPE2-Pepe Army\nPEPE2-Pepe Army  is missing\nPOFY-POFY Coin\nPOFY-POFY Coin  is missing\nPOLICEDOGE-PoliceDOGE\nPRESIDENTDOGE-President Doge\nPROTO-Proto Gold Fuel\nREDC-RedChillies\nRISE-EverRise\nSCO-Score\nSHARDS-Shards\nSHARDS-Shards  is missing\nSHIFU-Shifu Inu\nSHIFU-Shifu Inu  is missing\nSlinkyDoge-Slinky Doge\nSlinkyDoge-Slinky Doge  is missing\nSNOOK-SNK\nSNOOK-SNK  is missing\nST-SHAHTOKEN\nST-SHAHTOKEN  is missing\nSTREAM-ZilStream\nSTREAM-ZilStream  is missing\nTITAN2-IRON Titanium Token \nUST-TerraUSD\nVAI-Vai\nXTK-xToken\nZCH-ZilChess\nZLF-ZilFlip\nZLP-ZilPay Wallet\nZWALL-ZilWall\nZWALL-ZilWall  is missing\n56  of  58\nkeys,flink,dpx,wex,dyor,shark3,ort,yield,vtx,hoge(bep20),mms,greenfeg,beyondsy,zpay,hodl2,crp,mau,babybake,ads2,kcake,burp,bone,boneshibaignore,kfl,sec,sbt,sps,safearn,ctn,zoon,ask,stf,alice,star2,psychodoge,kogecoin,bwt2,bhunt,snood,babytrump,flv,smak,cht2,babysun,shibaeth,deft,babycrypto,trava,ggg,sowl\n{'day': 58, 'month': 522}\nADS2-Alkimi\nADS2-Alkimi  is missing\nALICE-My Neighbor Alice\nASK-Permission Coin\nBABYBAKE-Baby Bake\nBABYBAKE-Baby Bake  is missing\nBABYCRYPTO-BabyCrypto\nBABYCRYPTO-BabyCrypto  is missing\nBABYSUN-BabySun\nBABYSUN-BabySun  is missing\nBABYTRUMP-Baby Trump Token\nBEYONDSY-Beyondsy INU\nBEYONDSY-Beyondsy INU  is missing\nBHUNT-BearHunt\nBHUNT-BearHunt  is missing\nBONE-Bone ShibaSwap\nBONESHIBAIGNORE-Bone ShibaSwap-IGNORE\nBONESHIBAIGNORE-Bone ShibaSwap-IGNORE  skippped, missing df cols\nBURP-CoinBurp\nBWT2-Baby Whale Token\nBWT2-Baby Whale Token  is missing\nCHT2-Chronic Token\nCRP-CropperFinance \nCRP-CropperFinance   is missing\nCTN-Childrens Token\nCTN-Childrens Token  is missing\nDEFT-Defi Factory Token\nDEFT-Defi Factory Token  is missing\nDPX-DOPEX\nDYOR-DYOR\nDYOR-DYOR  is missing\nFLINK-FlokiLINK\nFLINK-FlokiLINK  is missing\nFLV-FlavonoidsToken\nFLV-FlavonoidsToken  is missing\nGGG-Gigabyte Games\nGGG-Gigabyte Games  is missing\nGREENFEG-GreenFEG\nGREENFEG-GreenFEG  is missing\nHODL2-HODL 2.0\nHOGE(BEP20)-hoge.finance (BEP20)\nKCAKE-KittyCake\nKEYS-KEYS\nKEYS-KEYS  is missing\nKFL-Kaafila\nKFL-Kaafila  is missing\nKOGECOIN-KogeCoin\nMAU-EgxMau\nMAU-EgxMau  is missing\nMMS-Minimals\nORT-Omni Real Estate Token\nPSYCHODOGE-Psycho Doge\nSAFEARN-Safe Earn \nSBT-Sterobot\nSBT-Sterobot  is missing\nSEC-Securion\nSEC-Securion  is missing\nSHARK3-SharkToshi\nSHARK3-SharkToshi  is missing\nSHIBAETH-ShibaETH\nSHIBAETH-ShibaETH  is missing\nSMAK-Smartlink\nSMAK-Smartlink  is missing\nSNOOD-Schnoodle Finance\nSOWL-SOWL Token\nSOWL-SOWL Token  is missing\nSPS-Splinterlands\nSPS-Splinterlands  is missing\nSTAR2-Pornstar\nSTAR2-Pornstar  is missing\nSTF-Safe Trip Finance\nTRAVA-Trava Finance\nVTX-Vortex Defi\nWEX-WEX\nYIELD-Yield Protocol\nZOON-Crypto ZOON\nZOON-Crypto ZOON  is missing\nZPAY-ZoidPay\nZPAY-ZoidPay  is missing\n57  of  58\nshitcoin,hi,waiv,dxct,kitsu,sil,fst2,hubs,onyx,gal,fibo,mom,drio,shibancetokens,woof,hero,xai,play2,boo,gfx,ocp,sbr,lsp,bankr,mdx ,onfts,ladyb,ulti,spe,pxbsc,vpp,srx,ham,stack2,beer,movr,zenc,bitbucks,lith,cal,pumpeth,ufo2,kilt,babyarabia,weyu,vpu,cnt,gain,exp,merge(bep20)\n{'day': 59, 'month': 523}\nBABYARABIA-BABYARABIA\nBABYARABIA-BABYARABIA  is missing\nBANKR-BankRoll\nBANKR-BankRoll  is missing\nBEER-Beer Inu\nBITBUCKS-BitBucks\nBITBUCKS-BitBucks  is missing\nBOO-SpookySwap\nCAL-Caliente Finance\nCAL-Caliente Finance  is missing\nCNT-Cryption Network\nCNT-Cryption Network  is missing\nDRIO-The RIO\nDRIO-The RIO  is missing\nDXCT-DNAxCAT Token\nEXP-ExArePee\nEXP-ExArePee  is missing\nFIBO-Fibswap\nFST2-Futureswap\nGAIN-Gain Protocol\nGAL-Gallant\nGFX-GamyFi Token\nHAM-HAMSTER\nHERO-StepHero\nHI-hi Dollar\nHUBS-HubStar\nHUBS-HubStar  is missing\nKILT-KILT Coin\nKILT-KILT Coin  is missing\nKITSU-Kitsune Inu\nKITSU-Kitsune Inu  is missing\nLADYB-LADYBUG FINANCE\nLADYB-LADYBUG FINANCE  is missing\nLITH-Lithium Finance\nLSP-Lumenswap\nLSP-Lumenswap  is missing\nMDX-Mdex\nMDX -Mandala Exchange\nMERGE(BEP20)-Merge (BEP-20)\nMOM-Mother Of Memes\nMOM-Mother Of Memes  is missing\nMOVR-Moonriver\nOCP-Omni Consumer Protocols\nONFTS-OnlyNFTs\nONYX-ONYX\nONYX-ONYX  is missing\nPLAY2-PolyPlay\nPUMPETH-PumpETH\nPUMPETH-PumpETH  is missing\nPXBSC-PARADOX NFT BSC\nPXBSC-PARADOX NFT BSC  is missing\nSBR-Saber\nSHIBANCETOKENS-Shibance Token\nSHIBANCETOKENS-Shibance Token  is missing\nSHITCOIN-Just Another Shitcoin\nSHITCOIN-Just Another Shitcoin  is missing\nSIL-Sister In Law\nSPE-SavePlanetEarth\nSRX-StorX Token\nSTACK2-StackOS\nUFO2-The Truth\nULTI-Ulti Arena\nULTI-Ulti Arena  is missing\nVPP-Virtue Poker\nVPU-Vpunks\nVPU-Vpunks  is missing\nWAIV-Waiv\nWEYU-WEYU\nWOOF-Shibance Token\nXAI-SideShift Token\nXAI-SideShift Token  is missing\nZENC-Zenccoin\n",
     "output_type": "stream"
    },
    {
     "output_type": "execute_result",
     "execution_count": 8,
     "data": {
      "application/vnd.deepnote.dataframe.v2+json": {
       "row_count": 720,
       "column_count": 1112,
       "columns": [
        {
         "name": "ADA-Cardano",
         "dtype": "float64",
         "stats": {
          "unique_count": 719,
          "nan_count": 0,
          "min": "-0.7037622608807566",
          "max": "3.408893787515423",
          "histogram": [
           {
            "bin_start": -0.7037622608807566,
            "bin_end": -0.29249665604113856,
            "count": 479
           },
           {
            "bin_start": -0.29249665604113856,
            "bin_end": 0.11876894879847943,
            "count": 21
           },
           {
            "bin_start": 0.11876894879847943,
            "bin_end": 0.5300345536380975,
            "count": 8
           },
           {
            "bin_start": 0.5300345536380975,
            "bin_end": 0.9413001584777154,
            "count": 49
           },
           {
            "bin_start": 0.9413001584777154,
            "bin_end": 1.3525657633173334,
            "count": 92
           },
           {
            "bin_start": 1.3525657633173334,
            "bin_end": 1.7638313681569515,
            "count": 29
           },
           {
            "bin_start": 1.7638313681569515,
            "bin_end": 2.1750969729965695,
            "count": 10
           },
           {
            "bin_start": 2.1750969729965695,
            "bin_end": 2.586362577836187,
            "count": 6
           },
           {
            "bin_start": 2.586362577836187,
            "bin_end": 2.9976281826758058,
            "count": 11
           },
           {
            "bin_start": 2.9976281826758058,
            "bin_end": 3.408893787515423,
            "count": 15
           }
          ]
         }
        },
        {
         "name": "ATOM-Cosmos",
         "dtype": "float64",
         "stats": {
          "unique_count": 720,
          "nan_count": 0,
          "min": "-0.9571315961464654",
          "max": "3.802681135077673",
          "histogram": [
           {
            "bin_start": -0.9571315961464654,
            "bin_end": -0.48115032302405153,
            "count": 357
           },
           {
            "bin_start": -0.48115032302405153,
            "bin_end": -0.00516904990163769,
            "count": 131
           },
           {
            "bin_start": -0.00516904990163769,
            "bin_end": 0.4708122232207762,
            "count": 38
           },
           {
            "bin_start": 0.4708122232207762,
            "bin_end": 0.94679349634319,
            "count": 60
           },
           {
            "bin_start": 0.94679349634319,
            "bin_end": 1.4227747694656037,
            "count": 18
           },
           {
            "bin_start": 1.4227747694656037,
            "bin_end": 1.8987560425880177,
            "count": 64
           },
           {
            "bin_start": 1.8987560425880177,
            "bin_end": 2.3747373157104312,
            "count": 35
           },
           {
            "bin_start": 2.3747373157104312,
            "bin_end": 2.8507185888328452,
            "count": 11
           },
           {
            "bin_start": 2.8507185888328452,
            "bin_end": 3.3266998619552592,
            "count": 4
           },
           {
            "bin_start": 3.3266998619552592,
            "bin_end": 3.802681135077673,
            "count": 2
           }
          ]
         }
        },
        {
         "name": "BAT-Basic Attention Token",
         "dtype": "float64",
         "stats": {
          "unique_count": 720,
          "nan_count": 0,
          "min": "-0.9143950146571149",
          "max": "3.499857364594794",
          "histogram": [
           {
            "bin_start": -0.9143950146571149,
            "bin_end": -0.472969776731924,
            "count": 389
           },
           {
            "bin_start": -0.472969776731924,
            "bin_end": -0.031544538806733025,
            "count": 111
           },
           {
            "bin_start": -0.031544538806733025,
            "bin_end": 0.40988069911845804,
            "count": 30
           },
           {
            "bin_start": 0.40988069911845804,
            "bin_end": 0.8513059370436489,
            "count": 57
           },
           {
            "bin_start": 0.8513059370436489,
            "bin_end": 1.2927311749688397,
            "count": 55
           },
           {
            "bin_start": 1.2927311749688397,
            "bin_end": 1.734156412894031,
            "count": 13
           },
           {
            "bin_start": 1.734156412894031,
            "bin_end": 2.175581650819222,
            "count": 14
           },
           {
            "bin_start": 2.175581650819222,
            "bin_end": 2.6170068887444127,
            "count": 25
           },
           {
            "bin_start": 2.6170068887444127,
            "bin_end": 3.0584321266696035,
            "count": 12
           },
           {
            "bin_start": 3.0584321266696035,
            "bin_end": 3.499857364594794,
            "count": 14
           }
          ]
         }
        },
        {
         "name": "BCD-Bitcoin Diamond",
         "dtype": "float64",
         "stats": {
          "unique_count": 720,
          "nan_count": 0,
          "min": "-0.7718937567248946",
          "max": "8.715385905047055",
          "histogram": [
           {
            "bin_start": -0.7718937567248946,
            "bin_end": 0.17683420945230044,
            "count": 551
           },
           {
            "bin_start": 0.17683420945230044,
            "bin_end": 1.1255621756294953,
            "count": 66
           },
           {
            "bin_start": 1.1255621756294953,
            "bin_end": 2.0742901418066904,
            "count": 83
           },
           {
            "bin_start": 2.0742901418066904,
            "bin_end": 3.0230181079838854,
            "count": 10
           },
           {
            "bin_start": 3.0230181079838854,
            "bin_end": 3.9717460741610804,
            "count": 4
           },
           {
            "bin_start": 3.9717460741610804,
            "bin_end": 4.920474040338275,
            "count": 2
           },
           {
            "bin_start": 4.920474040338275,
            "bin_end": 5.86920200651547,
            "count": 1
           },
           {
            "bin_start": 5.86920200651547,
            "bin_end": 6.817929972692665,
            "count": 2
           },
           {
            "bin_start": 6.817929972692665,
            "bin_end": 7.7666579388698604,
            "count": 0
           },
           {
            "bin_start": 7.7666579388698604,
            "bin_end": 8.715385905047055,
            "count": 1
           }
          ]
         }
        },
        {
         "name": "BCH-Bitcoin Cash",
         "dtype": "float64",
         "stats": {
          "unique_count": 720,
          "nan_count": 0,
          "min": "-1.0949884988582166",
          "max": "5.227828207771347",
          "histogram": [
           {
            "bin_start": -1.0949884988582166,
            "bin_end": -0.4627068281952602,
            "count": 360
           },
           {
            "bin_start": -0.4627068281952602,
            "bin_end": 0.16957484246769616,
            "count": 110
           },
           {
            "bin_start": 0.16957484246769616,
            "bin_end": 0.8018565131306525,
            "count": 125
           },
           {
            "bin_start": 0.8018565131306525,
            "bin_end": 1.434138183793609,
            "count": 75
           },
           {
            "bin_start": 1.434138183793609,
            "bin_end": 2.066419854456565,
            "count": 20
           },
           {
            "bin_start": 2.066419854456565,
            "bin_end": 2.698701525119522,
            "count": 11
           },
           {
            "bin_start": 2.698701525119522,
            "bin_end": 3.330983195782478,
            "count": 7
           },
           {
            "bin_start": 3.330983195782478,
            "bin_end": 3.963264866445434,
            "count": 4
           },
           {
            "bin_start": 3.963264866445434,
            "bin_end": 4.59554653710839,
            "count": 5
           },
           {
            "bin_start": 4.59554653710839,
            "bin_end": 5.227828207771347,
            "count": 3
           }
          ]
         }
        },
        {
         "name": "BNB-Binance Coin",
         "dtype": "float64",
         "stats": {
          "unique_count": 720,
          "nan_count": 0,
          "min": "-0.6784019649627577",
          "max": "3.160787461640992",
          "histogram": [
           {
            "bin_start": -0.6784019649627577,
            "bin_end": -0.29448302230238277,
            "count": 502
           },
           {
            "bin_start": -0.29448302230238277,
            "bin_end": 0.0894359203579922,
            "count": 9
           },
           {
            "bin_start": 0.0894359203579922,
            "bin_end": 0.47335486301836704,
            "count": 2
           },
           {
            "bin_start": 0.47335486301836704,
            "bin_end": 0.8572738056787421,
            "count": 38
           },
           {
            "bin_start": 0.8572738056787421,
            "bin_end": 1.2411927483391172,
            "count": 64
           },
           {
            "bin_start": 1.2411927483391172,
            "bin_end": 1.6251116909994918,
            "count": 38
           },
           {
            "bin_start": 1.6251116909994918,
            "bin_end": 2.009030633659867,
            "count": 17
           },
           {
            "bin_start": 2.009030633659867,
            "bin_end": 2.392949576320242,
            "count": 24
           },
           {
            "bin_start": 2.392949576320242,
            "bin_end": 2.776868518980617,
            "count": 14
           },
           {
            "bin_start": 2.776868518980617,
            "bin_end": 3.160787461640992,
            "count": 12
           }
          ]
         }
        },
        {
         "name": "BSV-Bitcoin SV",
         "dtype": "float64",
         "stats": {
          "unique_count": 720,
          "nan_count": 0,
          "min": "-1.6893968994129678",
          "max": "4.268403724023419",
          "histogram": [
           {
            "bin_start": -1.6893968994129678,
            "bin_end": -1.093616837069329,
            "count": 86
           },
           {
            "bin_start": -1.093616837069329,
            "bin_end": -0.49783677472569043,
            "count": 84
           },
           {
            "bin_start": -0.49783677472569043,
            "bin_end": 0.09794328761794824,
            "count": 295
           },
           {
            "bin_start": 0.09794328761794824,
            "bin_end": 0.6937233499615869,
            "count": 136
           },
           {
            "bin_start": 0.6937233499615869,
            "bin_end": 1.2895034123052256,
            "count": 40
           },
           {
            "bin_start": 1.2895034123052256,
            "bin_end": 1.8852834746488643,
            "count": 34
           },
           {
            "bin_start": 1.8852834746488643,
            "bin_end": 2.4810635369925027,
            "count": 24
           },
           {
            "bin_start": 2.4810635369925027,
            "bin_end": 3.076843599336142,
            "count": 13
           },
           {
            "bin_start": 3.076843599336142,
            "bin_end": 3.672623661679781,
            "count": 4
           },
           {
            "bin_start": 3.672623661679781,
            "bin_end": 4.268403724023419,
            "count": 4
           }
          ]
         }
        },
        {
         "name": "BTC-Bitcoin",
         "dtype": "float64",
         "stats": {
          "unique_count": 720,
          "nan_count": 0,
          "min": "-1.0058973506863365",
          "max": "2.3285992069081707",
          "histogram": [
           {
            "bin_start": -1.0058973506863365,
            "bin_end": -0.6724476949268857,
            "count": 333
           },
           {
            "bin_start": -0.6724476949268857,
            "bin_end": -0.338998039167435,
            "count": 85
           },
           {
            "bin_start": -0.338998039167435,
            "bin_end": -0.0055483834079841365,
            "count": 31
           },
           {
            "bin_start": -0.0055483834079841365,
            "bin_end": 0.3279012723514665,
            "count": 13
           },
           {
            "bin_start": 0.3279012723514665,
            "bin_end": 0.6613509281109171,
            "count": 45
           },
           {
            "bin_start": 0.6613509281109171,
            "bin_end": 0.9948005838703682,
            "count": 66
           },
           {
            "bin_start": 0.9948005838703682,
            "bin_end": 1.3282502396298188,
            "count": 23
           },
           {
            "bin_start": 1.3282502396298188,
            "bin_end": 1.6616998953892694,
            "count": 57
           },
           {
            "bin_start": 1.6616998953892694,
            "bin_end": 1.99514955114872,
            "count": 39
           },
           {
            "bin_start": 1.99514955114872,
            "bin_end": 2.3285992069081707,
            "count": 28
           }
          ]
         }
        },
        {
         "name": "BTG-Bitcoin Gold",
         "dtype": "float64",
         "stats": {
          "unique_count": 720,
          "nan_count": 0,
          "min": "-0.6784978084137839",
          "max": "4.289651883698251",
          "histogram": [
           {
            "bin_start": -0.6784978084137839,
            "bin_end": -0.18168283920258044,
            "count": 508
           },
           {
            "bin_start": -0.18168283920258044,
            "bin_end": 0.31513213000862306,
            "count": 37
           },
           {
            "bin_start": 0.31513213000862306,
            "bin_end": 0.8119470992198267,
            "count": 46
           },
           {
            "bin_start": 0.8119470992198267,
            "bin_end": 1.30876206843103,
            "count": 42
           },
           {
            "bin_start": 1.30876206843103,
            "bin_end": 1.8055770376422333,
            "count": 37
           },
           {
            "bin_start": 1.8055770376422333,
            "bin_end": 2.302392006853437,
            "count": 14
           },
           {
            "bin_start": 2.302392006853437,
            "bin_end": 2.7992069760646405,
            "count": 15
           },
           {
            "bin_start": 2.7992069760646405,
            "bin_end": 3.296021945275844,
            "count": 4
           },
           {
            "bin_start": 3.296021945275844,
            "bin_end": 3.7928369144870473,
            "count": 13
           },
           {
            "bin_start": 3.7928369144870473,
            "bin_end": 4.289651883698251,
            "count": 4
           }
          ]
         }
        },
        {
         "name": "BTT-BitTorrent",
         "dtype": "float64",
         "stats": {
          "unique_count": 438,
          "nan_count": 0,
          "min": "-0.688853400886707",
          "max": "4.351054342021443",
          "histogram": [
           {
            "bin_start": -0.688853400886707,
            "bin_end": -0.18486262659589203,
            "count": 503
           },
           {
            "bin_start": -0.18486262659589203,
            "bin_end": 0.3191281476949229,
            "count": 41
           },
           {
            "bin_start": 0.3191281476949229,
            "bin_end": 0.8231189219857379,
            "count": 47
           },
           {
            "bin_start": 0.8231189219857379,
            "bin_end": 1.327109696276553,
            "count": 54
           },
           {
            "bin_start": 1.327109696276553,
            "bin_end": 1.831100470567368,
            "count": 27
           },
           {
            "bin_start": 1.831100470567368,
            "bin_end": 2.335091244858183,
            "count": 8
           },
           {
            "bin_start": 2.335091244858183,
            "bin_end": 2.839082019148998,
            "count": 17
           },
           {
            "bin_start": 2.839082019148998,
            "bin_end": 3.343072793439813,
            "count": 12
           },
           {
            "bin_start": 3.343072793439813,
            "bin_end": 3.8470635677306273,
            "count": 7
           },
           {
            "bin_start": 3.8470635677306273,
            "bin_end": 4.351054342021443,
            "count": 4
           }
          ]
         }
        },
        {
         "name": "CRO-Crypto.com Chain",
         "dtype": "float64",
         "stats": {
          "unique_count": 718,
          "nan_count": 0,
          "min": "-1.3737314840013521",
          "max": "2.628827105216459",
          "histogram": [
           {
            "bin_start": -1.3737314840013521,
            "bin_end": -0.9734756250795711,
            "count": 143
           },
           {
            "bin_start": -0.9734756250795711,
            "bin_end": -0.5732197661577899,
            "count": 155
           },
           {
            "bin_start": -0.5732197661577899,
            "bin_end": -0.17296390723600874,
            "count": 66
           },
           {
            "bin_start": -0.17296390723600874,
            "bin_end": 0.22729195168577232,
            "count": 46
           },
           {
            "bin_start": 0.22729195168577232,
            "bin_end": 0.6275478106075534,
            "count": 82
           },
           {
            "bin_start": 0.6275478106075534,
            "bin_end": 1.0278036695293347,
            "count": 93
           },
           {
            "bin_start": 1.0278036695293347,
            "bin_end": 1.4280595284511155,
            "count": 77
           },
           {
            "bin_start": 1.4280595284511155,
            "bin_end": 1.8283153873728968,
            "count": 25
           },
           {
            "bin_start": 1.8283153873728968,
            "bin_end": 2.228571246294678,
            "count": 25
           },
           {
            "bin_start": 2.228571246294678,
            "bin_end": 2.628827105216459,
            "count": 8
           }
          ]
         }
        },
        {
         "name": "DASH-Dash",
         "dtype": "float64",
         "stats": {
          "unique_count": 720,
          "nan_count": 0,
          "min": "-1.0795834921077958",
          "max": "4.231392207562273",
          "histogram": [
           {
            "bin_start": -1.0795834921077958,
            "bin_end": -0.548485922140789,
            "count": 312
           },
           {
            "bin_start": -0.548485922140789,
            "bin_end": -0.017388352173782096,
            "count": 170
           },
           {
            "bin_start": -0.017388352173782096,
            "bin_end": 0.5137092177932248,
            "count": 67
           },
           {
            "bin_start": 0.5137092177932248,
            "bin_end": 1.0448067877602316,
            "count": 48
           },
           {
            "bin_start": 1.0448067877602316,
            "bin_end": 1.5759043577272385,
            "count": 57
           },
           {
            "bin_start": 1.5759043577272385,
            "bin_end": 2.1070019276942453,
            "count": 29
           },
           {
            "bin_start": 2.1070019276942453,
            "bin_end": 2.638099497661252,
            "count": 18
           },
           {
            "bin_start": 2.638099497661252,
            "bin_end": 3.169197067628259,
            "count": 9
           },
           {
            "bin_start": 3.169197067628259,
            "bin_end": 3.700294637595266,
            "count": 5
           },
           {
            "bin_start": 3.700294637595266,
            "bin_end": 4.231392207562273,
            "count": 5
           }
          ]
         }
        },
        {
         "name": "DCR-Decred",
         "dtype": "float64",
         "stats": {
          "unique_count": 720,
          "nan_count": 0,
          "min": "-0.7922724727567053",
          "max": "2.8014598411429557",
          "histogram": [
           {
            "bin_start": -0.7922724727567053,
            "bin_end": -0.4328992413667392,
            "count": 451
           },
           {
            "bin_start": -0.4328992413667392,
            "bin_end": -0.07352600997677305,
            "count": 30
           },
           {
            "bin_start": -0.07352600997677305,
            "bin_end": 0.2858472214131932,
            "count": 19
           },
           {
            "bin_start": 0.2858472214131932,
            "bin_end": 0.6452204528031592,
            "count": 8
           },
           {
            "bin_start": 0.6452204528031592,
            "bin_end": 1.0045936841931251,
            "count": 29
           },
           {
            "bin_start": 1.0045936841931251,
            "bin_end": 1.3639669155830916,
            "count": 72
           },
           {
            "bin_start": 1.3639669155830916,
            "bin_end": 1.7233401469730576,
            "count": 46
           },
           {
            "bin_start": 1.7233401469730576,
            "bin_end": 2.0827133783630236,
            "count": 42
           },
           {
            "bin_start": 2.0827133783630236,
            "bin_end": 2.4420866097529896,
            "count": 20
           },
           {
            "bin_start": 2.4420866097529896,
            "bin_end": 2.8014598411429557,
            "count": 3
           }
          ]
         }
        },
        {
         "name": "DOGE-Dogecoin",
         "dtype": "float64",
         "stats": {
          "unique_count": 655,
          "nan_count": 0,
          "min": "-0.5453650768086781",
          "max": "4.690639735777667",
          "histogram": [
           {
            "bin_start": -0.5453650768086781,
            "bin_end": -0.02176459555004351,
            "count": 558
           },
           {
            "bin_start": -0.02176459555004351,
            "bin_end": 0.5018358857085911,
            "count": 10
           },
           {
            "bin_start": 0.5018358857085911,
            "bin_end": 1.0254363669672255,
            "count": 26
           },
           {
            "bin_start": 1.0254363669672255,
            "bin_end": 1.5490368482258603,
            "count": 41
           },
           {
            "bin_start": 1.5490368482258603,
            "bin_end": 2.072637329484495,
            "count": 51
           },
           {
            "bin_start": 2.072637329484495,
            "bin_end": 2.5962378107431294,
            "count": 16
           },
           {
            "bin_start": 2.5962378107431294,
            "bin_end": 3.1198382920017638,
            "count": 4
           },
           {
            "bin_start": 3.1198382920017638,
            "bin_end": 3.6434387732603986,
            "count": 8
           },
           {
            "bin_start": 3.6434387732603986,
            "bin_end": 4.167039254519033,
            "count": 2
           },
           {
            "bin_start": 4.167039254519033,
            "bin_end": 4.690639735777667,
            "count": 4
           }
          ]
         }
        },
        {
         "name": "EGT-Egretia",
         "dtype": "float64",
         "stats": {
          "unique_count": 650,
          "nan_count": 0,
          "min": "-1.0040367179624083",
          "max": "3.966159491262594",
          "histogram": [
           {
            "bin_start": -1.0040367179624083,
            "bin_end": -0.5070170970399082,
            "count": 284
           },
           {
            "bin_start": -0.5070170970399082,
            "bin_end": -0.009997476117407866,
            "count": 200
           },
           {
            "bin_start": -0.009997476117407866,
            "bin_end": 0.4870221448050924,
            "count": 76
           },
           {
            "bin_start": 0.4870221448050924,
            "bin_end": 0.9840417657275926,
            "count": 38
           },
           {
            "bin_start": 0.9840417657275926,
            "bin_end": 1.4810613866500928,
            "count": 39
           },
           {
            "bin_start": 1.4810613866500928,
            "bin_end": 1.9780810075725932,
            "count": 36
           },
           {
            "bin_start": 1.9780810075725932,
            "bin_end": 2.475100628495093,
            "count": 18
           },
           {
            "bin_start": 2.475100628495093,
            "bin_end": 2.9721202494175936,
            "count": 21
           },
           {
            "bin_start": 2.9721202494175936,
            "bin_end": 3.469139870340094,
            "count": 5
           },
           {
            "bin_start": 3.469139870340094,
            "bin_end": 3.966159491262594,
            "count": 3
           }
          ]
         }
        },
        {
         "name": "EOS-EOS",
         "dtype": "float64",
         "stats": {
          "unique_count": 719,
          "nan_count": 0,
          "min": "-1.1810709340666259",
          "max": "6.992651772773696",
          "histogram": [
           {
            "bin_start": -1.1810709340666259,
            "bin_end": -0.3636986633825936,
            "count": 368
           },
           {
            "bin_start": -0.3636986633825936,
            "bin_end": 0.4536736073014387,
            "count": 203
           },
           {
            "bin_start": 0.4536736073014387,
            "bin_end": 1.271045877985471,
            "count": 81
           },
           {
            "bin_start": 1.271045877985471,
            "bin_end": 2.0884181486695033,
            "count": 44
           },
           {
            "bin_start": 2.0884181486695033,
            "bin_end": 2.9057904193535355,
            "count": 9
           },
           {
            "bin_start": 2.9057904193535355,
            "bin_end": 3.723162690037568,
            "count": 3
           },
           {
            "bin_start": 3.723162690037568,
            "bin_end": 4.5405349607216,
            "count": 5
           },
           {
            "bin_start": 4.5405349607216,
            "bin_end": 5.357907231405632,
            "count": 6
           },
           {
            "bin_start": 5.357907231405632,
            "bin_end": 6.175279502089665,
            "count": 0
           },
           {
            "bin_start": 6.175279502089665,
            "bin_end": 6.992651772773696,
            "count": 1
           }
          ]
         }
        },
        {
         "name": "ETC-Ethereum Classic",
         "dtype": "float64",
         "stats": {
          "unique_count": 720,
          "nan_count": 0,
          "min": "-0.6295000629936779",
          "max": "5.045262964880414",
          "histogram": [
           {
            "bin_start": -0.6295000629936779,
            "bin_end": -0.06202376020626865,
            "count": 559
           },
           {
            "bin_start": -0.06202376020626865,
            "bin_end": 0.5054525425811406,
            "count": 11
           },
           {
            "bin_start": 0.5054525425811406,
            "bin_end": 1.07292884536855,
            "count": 25
           },
           {
            "bin_start": 1.07292884536855,
            "bin_end": 1.640405148155959,
            "count": 43
           },
           {
            "bin_start": 1.640405148155959,
            "bin_end": 2.2078814509433684,
            "count": 54
           },
           {
            "bin_start": 2.2078814509433684,
            "bin_end": 2.7753577537307774,
            "count": 14
           },
           {
            "bin_start": 2.7753577537307774,
            "bin_end": 3.3428340565181864,
            "count": 6
           },
           {
            "bin_start": 3.3428340565181864,
            "bin_end": 3.910310359305596,
            "count": 3
           },
           {
            "bin_start": 3.910310359305596,
            "bin_end": 4.477786662093005,
            "count": 3
           },
           {
            "bin_start": 4.477786662093005,
            "bin_end": 5.045262964880414,
            "count": 2
           }
          ]
         }
        },
        {
         "name": "ETH-Ethereum",
         "dtype": "float64",
         "stats": {
          "unique_count": 720,
          "nan_count": 0,
          "min": "-0.8255498817356579",
          "max": "2.9828982207962547",
          "histogram": [
           {
            "bin_start": -0.8255498817356579,
            "bin_end": -0.44470507148246663,
            "count": 423
           },
           {
            "bin_start": -0.44470507148246663,
            "bin_end": -0.06386026122927535,
            "count": 43
           },
           {
            "bin_start": -0.06386026122927535,
            "bin_end": 0.3169845490239158,
            "count": 22
           },
           {
            "bin_start": 0.3169845490239158,
            "bin_end": 0.6978293592771072,
            "count": 34
           },
           {
            "bin_start": 0.6978293592771072,
            "bin_end": 1.0786741695302986,
            "count": 67
           },
           {
            "bin_start": 1.0786741695302986,
            "bin_end": 1.4595189797834895,
            "count": 50
           },
           {
            "bin_start": 1.4595189797834895,
            "bin_end": 1.840363790036681,
            "count": 26
           },
           {
            "bin_start": 1.840363790036681,
            "bin_end": 2.2212086002898723,
            "count": 30
           },
           {
            "bin_start": 2.2212086002898723,
            "bin_end": 2.6020534105430637,
            "count": 13
           },
           {
            "bin_start": 2.6020534105430637,
            "bin_end": 2.9828982207962547,
            "count": 12
           }
          ]
         }
        },
        {
         "name": "HOT-Holo",
         "dtype": "float64",
         "stats": {
          "unique_count": 545,
          "nan_count": 0,
          "min": "-0.6025827898442166",
          "max": "5.258262381664514",
          "histogram": [
           {
            "bin_start": -0.6025827898442166,
            "bin_end": -0.016498272693343585,
            "count": 532
           },
           {
            "bin_start": -0.016498272693343585,
            "bin_end": 0.5695862444575295,
            "count": 32
           },
           {
            "bin_start": 0.5695862444575295,
            "bin_end": 1.1556707616084025,
            "count": 62
           },
           {
            "bin_start": 1.1556707616084025,
            "bin_end": 1.7417552787592756,
            "count": 40
           },
           {
            "bin_start": 1.7417552787592756,
            "bin_end": 2.3278397959101484,
            "count": 19
           },
           {
            "bin_start": 2.3278397959101484,
            "bin_end": 2.9139243130610217,
            "count": 18
           },
           {
            "bin_start": 2.9139243130610217,
            "bin_end": 3.500008830211895,
            "count": 9
           },
           {
            "bin_start": 3.500008830211895,
            "bin_end": 4.086093347362768,
            "count": 2
           },
           {
            "bin_start": 4.086093347362768,
            "bin_end": 4.672177864513641,
            "count": 4
           },
           {
            "bin_start": 4.672177864513641,
            "bin_end": 5.258262381664514,
            "count": 2
           }
          ]
         }
        },
        {
         "name": "HT-Huobi Token",
         "dtype": "float64",
         "stats": {
          "unique_count": 720,
          "nan_count": 0,
          "min": "-0.8500368995946999",
          "max": "4.533127863372772",
          "histogram": [
           {
            "bin_start": -0.8500368995946999,
            "bin_end": -0.3117204232979527,
            "count": 484
           },
           {
            "bin_start": -0.3117204232979527,
            "bin_end": 0.22659605299879448,
            "count": 24
           },
           {
            "bin_start": 0.22659605299879448,
            "bin_end": 0.7649125292955417,
            "count": 47
           },
           {
            "bin_start": 0.7649125292955417,
            "bin_end": 1.3032290055922888,
            "count": 82
           },
           {
            "bin_start": 1.3032290055922888,
            "bin_end": 1.8415454818890358,
            "count": 44
           },
           {
            "bin_start": 1.8415454818890358,
            "bin_end": 2.379861958185783,
            "count": 16
           },
           {
            "bin_start": 2.379861958185783,
            "bin_end": 2.9181784344825306,
            "count": 5
           },
           {
            "bin_start": 2.9181784344825306,
            "bin_end": 3.4564949107792775,
            "count": 10
           },
           {
            "bin_start": 3.4564949107792775,
            "bin_end": 3.9948113870760245,
            "count": 4
           },
           {
            "bin_start": 3.9948113870760245,
            "bin_end": 4.533127863372772,
            "count": 4
           }
          ]
         }
        },
        {
         "name": "KCS-KuCoin Shares",
         "dtype": "float64",
         "stats": {
          "unique_count": 720,
          "nan_count": 0,
          "min": "-0.65769226690976",
          "max": "3.5523576780538497",
          "histogram": [
           {
            "bin_start": -0.65769226690976,
            "bin_end": -0.2366872724133991,
            "count": 508
           },
           {
            "bin_start": -0.2366872724133991,
            "bin_end": 0.18431772208296182,
            "count": 8
           },
           {
            "bin_start": 0.18431772208296182,
            "bin_end": 0.6053227165793227,
            "count": 38
           },
           {
            "bin_start": 0.6053227165793227,
            "bin_end": 1.0263277110756837,
            "count": 32
           },
           {
            "bin_start": 1.0263277110756837,
            "bin_end": 1.4473327055720446,
            "count": 31
           },
           {
            "bin_start": 1.4473327055720446,
            "bin_end": 1.8683377000684054,
            "count": 36
           },
           {
            "bin_start": 1.8683377000684054,
            "bin_end": 2.2893426945647666,
            "count": 36
           },
           {
            "bin_start": 2.2893426945647666,
            "bin_end": 2.7103476890611273,
            "count": 23
           },
           {
            "bin_start": 2.7103476890611273,
            "bin_end": 3.131352683557488,
            "count": 4
           },
           {
            "bin_start": 3.131352683557488,
            "bin_end": 3.5523576780538497,
            "count": 4
           }
          ]
         }
        },
        {
         "name": "LINK-Chainlink",
         "dtype": "float64",
         "stats": {
          "unique_count": 720,
          "nan_count": 0,
          "min": "-1.0428906593161407",
          "max": "3.353034064545013",
          "histogram": [
           {
            "bin_start": -1.0428906593161407,
            "bin_end": -0.6032981869300253,
            "count": 291
           },
           {
            "bin_start": -0.6032981869300253,
            "bin_end": -0.16370571454391003,
            "count": 84
           },
           {
            "bin_start": -0.16370571454391003,
            "bin_end": 0.2758867578422053,
            "count": 108
           },
           {
            "bin_start": 0.2758867578422053,
            "bin_end": 0.7154792302283206,
            "count": 47
           },
           {
            "bin_start": 0.7154792302283206,
            "bin_end": 1.155071702614436,
            "count": 69
           },
           {
            "bin_start": 1.155071702614436,
            "bin_end": 1.5946641750005512,
            "count": 67
           },
           {
            "bin_start": 1.5946641750005512,
            "bin_end": 2.0342566473866666,
            "count": 29
           },
           {
            "bin_start": 2.0342566473866666,
            "bin_end": 2.473849119772782,
            "count": 10
           },
           {
            "bin_start": 2.473849119772782,
            "bin_end": 2.913441592158897,
            "count": 9
           },
           {
            "bin_start": 2.913441592158897,
            "bin_end": 3.353034064545013,
            "count": 6
           }
          ]
         }
        },
        {
         "name": "LSK-Lisk",
         "dtype": "float64",
         "stats": {
          "unique_count": 720,
          "nan_count": 0,
          "min": "-0.947047207247569",
          "max": "4.638071550851218",
          "histogram": [
           {
            "bin_start": -0.947047207247569,
            "bin_end": -0.38853533143769026,
            "count": 434
           },
           {
            "bin_start": -0.38853533143769026,
            "bin_end": 0.16997654437218845,
            "count": 82
           },
           {
            "bin_start": 0.16997654437218845,
            "bin_end": 0.7284884201820673,
            "count": 53
           },
           {
            "bin_start": 0.7284884201820673,
            "bin_end": 1.287000295991946,
            "count": 69
           },
           {
            "bin_start": 1.287000295991946,
            "bin_end": 1.8455121718018246,
            "count": 34
           },
           {
            "bin_start": 1.8455121718018246,
            "bin_end": 2.4040240476117036,
            "count": 15
           },
           {
            "bin_start": 2.4040240476117036,
            "bin_end": 2.9625359234215822,
            "count": 19
           },
           {
            "bin_start": 2.9625359234215822,
            "bin_end": 3.521047799231461,
            "count": 9
           },
           {
            "bin_start": 3.521047799231461,
            "bin_end": 4.07955967504134,
            "count": 1
           },
           {
            "bin_start": 4.07955967504134,
            "bin_end": 4.638071550851218,
            "count": 4
           }
          ]
         }
        },
        {
         "name": "LTC-Litecoin",
         "dtype": "float64",
         "stats": {
          "unique_count": 720,
          "nan_count": 0,
          "min": "-0.9998463608087143",
          "max": "3.9628780395218746",
          "histogram": [
           {
            "bin_start": -0.9998463608087143,
            "bin_end": -0.5035739207756553,
            "count": 389
           },
           {
            "bin_start": -0.5035739207756553,
            "bin_end": -0.007301480742596511,
            "count": 61
           },
           {
            "bin_start": -0.007301480742596511,
            "bin_end": 0.4889709592904623,
            "count": 53
           },
           {
            "bin_start": 0.4889709592904623,
            "bin_end": 0.9852433993235212,
            "count": 75
           },
           {
            "bin_start": 0.9852433993235212,
            "bin_end": 1.4815158393565802,
            "count": 81
           },
           {
            "bin_start": 1.4815158393565802,
            "bin_end": 1.9777882793896389,
            "count": 25
           },
           {
            "bin_start": 1.9777882793896389,
            "bin_end": 2.474060719422698,
            "count": 17
           },
           {
            "bin_start": 2.474060719422698,
            "bin_end": 2.9703331594557567,
            "count": 10
           },
           {
            "bin_start": 2.9703331594557567,
            "bin_end": 3.4666055994888154,
            "count": 4
           },
           {
            "bin_start": 3.4666055994888154,
            "bin_end": 3.9628780395218746,
            "count": 5
           }
          ]
         }
        },
        {
         "name": "MIOTA-IOTA",
         "dtype": "float64",
         "stats": {
          "unique_count": 719,
          "nan_count": 0,
          "min": "-0.855346417541895",
          "max": "3.6843410309501023",
          "histogram": [
           {
            "bin_start": -0.855346417541895,
            "bin_end": -0.4013776726926953,
            "count": 447
           },
           {
            "bin_start": -0.4013776726926953,
            "bin_end": 0.05259107215650438,
            "count": 56
           },
           {
            "bin_start": 0.05259107215650438,
            "bin_end": 0.506559817005704,
            "count": 39
           },
           {
            "bin_start": 0.506559817005704,
            "bin_end": 0.9605285618549038,
            "count": 46
           },
           {
            "bin_start": 0.9605285618549038,
            "bin_end": 1.4144973067041036,
            "count": 51
           },
           {
            "bin_start": 1.4144973067041036,
            "bin_end": 1.868466051553303,
            "count": 32
           },
           {
            "bin_start": 1.868466051553303,
            "bin_end": 2.3224347964025025,
            "count": 11
           },
           {
            "bin_start": 2.3224347964025025,
            "bin_end": 2.7764035412517023,
            "count": 17
           },
           {
            "bin_start": 2.7764035412517023,
            "bin_end": 3.230372286100902,
            "count": 18
           },
           {
            "bin_start": 3.230372286100902,
            "bin_end": 3.6843410309501023,
            "count": 3
           }
          ]
         }
        },
        {
         "name": "MKR-Maker",
         "dtype": "float64",
         "stats": {
          "unique_count": 720,
          "nan_count": 0,
          "min": "-0.885437707065192",
          "max": "3.7109860185680086",
          "histogram": [
           {
            "bin_start": -0.885437707065192,
            "bin_end": -0.42579533450187196,
            "count": 468
           },
           {
            "bin_start": -0.42579533450187196,
            "bin_end": 0.033847038061448065,
            "count": 6
           },
           {
            "bin_start": 0.033847038061448065,
            "bin_end": 0.49348941062476803,
            "count": 26
           },
           {
            "bin_start": 0.49348941062476803,
            "bin_end": 0.9531317831880881,
            "count": 72
           },
           {
            "bin_start": 0.9531317831880881,
            "bin_end": 1.4127741557514082,
            "count": 58
           },
           {
            "bin_start": 1.4127741557514082,
            "bin_end": 1.872416528314728,
            "count": 43
           },
           {
            "bin_start": 1.872416528314728,
            "bin_end": 2.3320589008780486,
            "count": 26
           },
           {
            "bin_start": 2.3320589008780486,
            "bin_end": 2.791701273441368,
            "count": 9
           },
           {
            "bin_start": 2.791701273441368,
            "bin_end": 3.2513436460046883,
            "count": 10
           },
           {
            "bin_start": 3.2513436460046883,
            "bin_end": 3.7109860185680086,
            "count": 2
           }
          ]
         }
        },
        {
         "name": "NANO-Nano",
         "dtype": "float64",
         "stats": {
          "unique_count": 719,
          "nan_count": 0,
          "min": "-0.8341407816135473",
          "max": "3.8741007276491684",
          "histogram": [
           {
            "bin_start": -0.8341407816135473,
            "bin_end": -0.36331663068727577,
            "count": 468
           },
           {
            "bin_start": -0.36331663068727577,
            "bin_end": 0.10750752023899579,
            "count": 3
           },
           {
            "bin_start": 0.10750752023899579,
            "bin_end": 0.5783316711652673,
            "count": 47
           },
           {
            "bin_start": 0.5783316711652673,
            "bin_end": 1.049155822091539,
            "count": 78
           },
           {
            "bin_start": 1.049155822091539,
            "bin_end": 1.5199799730178105,
            "count": 60
           },
           {
            "bin_start": 1.5199799730178105,
            "bin_end": 1.990804123944082,
            "count": 28
           },
           {
            "bin_start": 1.990804123944082,
            "bin_end": 2.4616282748703537,
            "count": 13
           },
           {
            "bin_start": 2.4616282748703537,
            "bin_end": 2.932452425796625,
            "count": 13
           },
           {
            "bin_start": 2.932452425796625,
            "bin_end": 3.4032765767228965,
            "count": 7
           },
           {
            "bin_start": 3.4032765767228965,
            "bin_end": 3.8741007276491684,
            "count": 3
           }
          ]
         }
        },
        {
         "name": "NEO-NEO",
         "dtype": "float64",
         "stats": {
          "unique_count": 720,
          "nan_count": 0,
          "min": "-0.8739485399870411",
          "max": "4.325634593236095",
          "histogram": [
           {
            "bin_start": -0.8739485399870411,
            "bin_end": -0.35399022666472757,
            "count": 398
           },
           {
            "bin_start": -0.35399022666472757,
            "bin_end": 0.165968086657586,
            "count": 109
           },
           {
            "bin_start": 0.165968086657586,
            "bin_end": 0.6859263999798996,
            "count": 63
           },
           {
            "bin_start": 0.6859263999798996,
            "bin_end": 1.205884713302213,
            "count": 68
           },
           {
            "bin_start": 1.205884713302213,
            "bin_end": 1.7258430266245268,
            "count": 44
           },
           {
            "bin_start": 1.7258430266245268,
            "bin_end": 2.24580133994684,
            "count": 5
           },
           {
            "bin_start": 2.24580133994684,
            "bin_end": 2.7657596532691535,
            "count": 6
           },
           {
            "bin_start": 2.7657596532691535,
            "bin_end": 3.2857179665914673,
            "count": 13
           },
           {
            "bin_start": 3.2857179665914673,
            "bin_end": 3.805676279913781,
            "count": 6
           },
           {
            "bin_start": 3.805676279913781,
            "bin_end": 4.325634593236095,
            "count": 8
           }
          ]
         }
        },
        {
         "name": "NPXS-Pundi X",
         "dtype": "float64",
         "stats": {
          "unique_count": 380,
          "nan_count": 0,
          "min": "-0.5254711385421901",
          "max": "6.5627259667896585",
          "histogram": [
           {
            "bin_start": -0.5254711385421901,
            "bin_end": 0.18334857199099475,
            "count": 543
           },
           {
            "bin_start": 0.18334857199099475,
            "bin_end": 0.8921682825241796,
            "count": 104
           },
           {
            "bin_start": 0.8921682825241796,
            "bin_end": 1.6009879930573643,
            "count": 27
           },
           {
            "bin_start": 1.6009879930573643,
            "bin_end": 2.309807703590549,
            "count": 21
           },
           {
            "bin_start": 2.309807703590549,
            "bin_end": 3.018627414123734,
            "count": 4
           },
           {
            "bin_start": 3.018627414123734,
            "bin_end": 3.7274471246569187,
            "count": 4
           },
           {
            "bin_start": 3.7274471246569187,
            "bin_end": 4.4362668351901045,
            "count": 4
           },
           {
            "bin_start": 4.4362668351901045,
            "bin_end": 5.145086545723289,
            "count": 10
           },
           {
            "bin_start": 5.145086545723289,
            "bin_end": 5.853906256256473,
            "count": 2
           },
           {
            "bin_start": 5.853906256256473,
            "bin_end": 6.5627259667896585,
            "count": 1
           }
          ]
         }
        },
        {
         "name": "OMG-OMG Network",
         "dtype": "float64",
         "stats": {
          "unique_count": 720,
          "nan_count": 0,
          "min": "-1.095444115460039",
          "max": "3.877180247262032",
          "histogram": [
           {
            "bin_start": -1.095444115460039,
            "bin_end": -0.5981816791878318,
            "count": 310
           },
           {
            "bin_start": -0.5981816791878318,
            "bin_end": -0.10091924291562482,
            "count": 40
           },
           {
            "bin_start": -0.10091924291562482,
            "bin_end": 0.3963431933565822,
            "count": 162
           },
           {
            "bin_start": 0.3963431933565822,
            "bin_end": 0.8936056296287893,
            "count": 82
           },
           {
            "bin_start": 0.8936056296287893,
            "bin_end": 1.3908680659009964,
            "count": 60
           },
           {
            "bin_start": 1.3908680659009964,
            "bin_end": 1.8881305021732033,
            "count": 26
           },
           {
            "bin_start": 1.8881305021732033,
            "bin_end": 2.3853929384454107,
            "count": 14
           },
           {
            "bin_start": 2.3853929384454107,
            "bin_end": 2.8826553747176176,
            "count": 20
           },
           {
            "bin_start": 2.8826553747176176,
            "bin_end": 3.379917810989825,
            "count": 1
           },
           {
            "bin_start": 3.379917810989825,
            "bin_end": 3.877180247262032,
            "count": 5
           }
          ]
         }
        },
        {
         "name": "ONT-Ontology",
         "dtype": "float64",
         "stats": {
          "unique_count": 720,
          "nan_count": 0,
          "min": "-1.2172939785566157",
          "max": "4.802565424452625",
          "histogram": [
           {
            "bin_start": -1.2172939785566157,
            "bin_end": -0.6153080382556917,
            "count": 163
           },
           {
            "bin_start": -0.6153080382556917,
            "bin_end": -0.013322097954767687,
            "count": 306
           },
           {
            "bin_start": -0.013322097954767687,
            "bin_end": 0.5886638423461563,
            "count": 121
           },
           {
            "bin_start": 0.5886638423461563,
            "bin_end": 1.1906497826470803,
            "count": 67
           },
           {
            "bin_start": 1.1906497826470803,
            "bin_end": 1.7926357229480046,
            "count": 12
           },
           {
            "bin_start": 1.7926357229480046,
            "bin_end": 2.3946216632489286,
            "count": 12
           },
           {
            "bin_start": 2.3946216632489286,
            "bin_end": 2.996607603549852,
            "count": 20
           },
           {
            "bin_start": 2.996607603549852,
            "bin_end": 3.598593543850776,
            "count": 10
           },
           {
            "bin_start": 3.598593543850776,
            "bin_end": 4.2005794841517,
            "count": 4
           },
           {
            "bin_start": 4.2005794841517,
            "bin_end": 4.802565424452625,
            "count": 5
           }
          ]
         }
        },
        {
         "name": "PAX-Paxos Standard",
         "dtype": "float64",
         "stats": {
          "unique_count": 696,
          "nan_count": 0,
          "min": "-2.9690654223687054",
          "max": "12.864306272283297",
          "histogram": [
           {
            "bin_start": -2.9690654223687054,
            "bin_end": -1.385728252903505,
            "count": 35
           },
           {
            "bin_start": -1.385728252903505,
            "bin_end": 0.1976089165616952,
            "count": 428
           },
           {
            "bin_start": 0.1976089165616952,
            "bin_end": 1.7809460860268955,
            "count": 235
           },
           {
            "bin_start": 1.7809460860268955,
            "bin_end": 3.364283255492096,
            "count": 18
           },
           {
            "bin_start": 3.364283255492096,
            "bin_end": 4.947620424957297,
            "count": 2
           },
           {
            "bin_start": 4.947620424957297,
            "bin_end": 6.530957594422496,
            "count": 1
           },
           {
            "bin_start": 6.530957594422496,
            "bin_end": 8.114294763887697,
            "count": 0
           },
           {
            "bin_start": 8.114294763887697,
            "bin_end": 9.697631933352897,
            "count": 0
           },
           {
            "bin_start": 9.697631933352897,
            "bin_end": 11.280969102818096,
            "count": 0
           },
           {
            "bin_start": 11.280969102818096,
            "bin_end": 12.864306272283297,
            "count": 1
           }
          ]
         }
        },
        {
         "name": "QTUM-Qtum",
         "dtype": "float64",
         "stats": {
          "unique_count": 720,
          "nan_count": 0,
          "min": "-0.7688749085825658",
          "max": "4.920596918708712",
          "histogram": [
           {
            "bin_start": -0.7688749085825658,
            "bin_end": -0.199927725853438,
            "count": 492
           },
           {
            "bin_start": -0.199927725853438,
            "bin_end": 0.3690194568756898,
            "count": 59
           },
           {
            "bin_start": 0.3690194568756898,
            "bin_end": 0.9379666396048175,
            "count": 57
           },
           {
            "bin_start": 0.9379666396048175,
            "bin_end": 1.5069138223339453,
            "count": 30
           },
           {
            "bin_start": 1.5069138223339453,
            "bin_end": 2.0758610050630733,
            "count": 44
           },
           {
            "bin_start": 2.0758610050630733,
            "bin_end": 2.6448081877922007,
            "count": 17
           },
           {
            "bin_start": 2.6448081877922007,
            "bin_end": 3.2137553705213286,
            "count": 11
           },
           {
            "bin_start": 3.2137553705213286,
            "bin_end": 3.7827025532504566,
            "count": 3
           },
           {
            "bin_start": 3.7827025532504566,
            "bin_end": 4.351649735979584,
            "count": 3
           },
           {
            "bin_start": 4.351649735979584,
            "bin_end": 4.920596918708712,
            "count": 4
           }
          ]
         }
        },
        {
         "name": "RVN-Ravencoin",
         "dtype": "float64",
         "stats": {
          "unique_count": 709,
          "nan_count": 0,
          "min": "-0.7245956145451937",
          "max": "3.2388726985728535",
          "histogram": [
           {
            "bin_start": -0.7245956145451937,
            "bin_end": -0.328248783233389,
            "count": 483
           },
           {
            "bin_start": -0.328248783233389,
            "bin_end": 0.06809804807841568,
            "count": 52
           },
           {
            "bin_start": 0.06809804807841568,
            "bin_end": 0.4644448793902205,
            "count": 39
           },
           {
            "bin_start": 0.4644448793902205,
            "bin_end": 0.8607917107020251,
            "count": 20
           },
           {
            "bin_start": 0.8607917107020251,
            "bin_end": 1.2571385420138297,
            "count": 9
           },
           {
            "bin_start": 1.2571385420138297,
            "bin_end": 1.6534853733256347,
            "count": 32
           },
           {
            "bin_start": 1.6534853733256347,
            "bin_end": 2.0498322046374393,
            "count": 25
           },
           {
            "bin_start": 2.0498322046374393,
            "bin_end": 2.446179035949244,
            "count": 31
           },
           {
            "bin_start": 2.446179035949244,
            "bin_end": 2.8425258672610485,
            "count": 19
           },
           {
            "bin_start": 2.8425258672610485,
            "bin_end": 3.2388726985728535,
            "count": 10
           }
          ]
         }
        },
        {
         "name": "TRX-TRON",
         "dtype": "float64",
         "stats": {
          "unique_count": 717,
          "nan_count": 0,
          "min": "-0.9356895032749881",
          "max": "3.863021687514169",
          "histogram": [
           {
            "bin_start": -0.9356895032749881,
            "bin_end": -0.45581838419607246,
            "count": 325
           },
           {
            "bin_start": -0.45581838419607246,
            "bin_end": 0.024052734882843207,
            "count": 176
           },
           {
            "bin_start": 0.024052734882843207,
            "bin_end": 0.5039238539617588,
            "count": 39
           },
           {
            "bin_start": 0.5039238539617588,
            "bin_end": 0.9837949730406745,
            "count": 67
           },
           {
            "bin_start": 0.9837949730406745,
            "bin_end": 1.4636660921195903,
            "count": 38
           },
           {
            "bin_start": 1.4636660921195903,
            "bin_end": 1.9435372111985056,
            "count": 26
           },
           {
            "bin_start": 1.9435372111985056,
            "bin_end": 2.4234083302774216,
            "count": 13
           },
           {
            "bin_start": 2.4234083302774216,
            "bin_end": 2.9032794493563374,
            "count": 22
           },
           {
            "bin_start": 2.9032794493563374,
            "bin_end": 3.383150568435253,
            "count": 10
           },
           {
            "bin_start": 3.383150568435253,
            "bin_end": 3.863021687514169,
            "count": 4
           }
          ]
         }
        },
        {
         "name": "TUSD-TrueUSD",
         "dtype": "float64",
         "stats": {
          "unique_count": 701,
          "nan_count": 0,
          "min": "-7.819876436134587",
          "max": "13.847017838076168",
          "histogram": [
           {
            "bin_start": -7.819876436134587,
            "bin_end": -5.653187008713512,
            "count": 1
           },
           {
            "bin_start": -5.653187008713512,
            "bin_end": -3.4864975812924364,
            "count": 0
           },
           {
            "bin_start": -3.4864975812924364,
            "bin_end": -1.319808153871361,
            "count": 17
           },
           {
            "bin_start": -1.319808153871361,
            "bin_end": 0.8468812735497142,
            "count": 646
           },
           {
            "bin_start": 0.8468812735497142,
            "bin_end": 3.0135707009707904,
            "count": 49
           },
           {
            "bin_start": 3.0135707009707904,
            "bin_end": 5.180260128391865,
            "count": 4
           },
           {
            "bin_start": 5.180260128391865,
            "bin_end": 7.346949555812939,
            "count": 2
           },
           {
            "bin_start": 7.346949555812939,
            "bin_end": 9.513638983234015,
            "count": 0
           },
           {
            "bin_start": 9.513638983234015,
            "bin_end": 11.680328410655092,
            "count": 0
           },
           {
            "bin_start": 11.680328410655092,
            "bin_end": 13.847017838076168,
            "count": 1
           }
          ]
         }
        },
        {
         "name": "USDC-USD Coin",
         "dtype": "float64",
         "stats": {
          "unique_count": 699,
          "nan_count": 0,
          "min": "-3.324993862804445",
          "max": "9.52449160289335",
          "histogram": [
           {
            "bin_start": -3.324993862804445,
            "bin_end": -2.0400453162346652,
            "count": 6
           },
           {
            "bin_start": -2.0400453162346652,
            "bin_end": -0.7550967696648856,
            "count": 85
           },
           {
            "bin_start": -0.7550967696648856,
            "bin_end": 0.529851776904894,
            "count": 512
           },
           {
            "bin_start": 0.529851776904894,
            "bin_end": 1.8148003234746737,
            "count": 88
           },
           {
            "bin_start": 1.8148003234746737,
            "bin_end": 3.0997488700444533,
            "count": 13
           },
           {
            "bin_start": 3.0997488700444533,
            "bin_end": 4.384697416614233,
            "count": 10
           },
           {
            "bin_start": 4.384697416614233,
            "bin_end": 5.669645963184013,
            "count": 4
           },
           {
            "bin_start": 5.669645963184013,
            "bin_end": 6.954594509753792,
            "count": 1
           },
           {
            "bin_start": 6.954594509753792,
            "bin_end": 8.239543056323573,
            "count": 0
           },
           {
            "bin_start": 8.239543056323573,
            "bin_end": 9.52449160289335,
            "count": 1
           }
          ]
         }
        },
        {
         "name": "USDT-Tether",
         "dtype": "float64",
         "stats": {
          "unique_count": 707,
          "nan_count": 0,
          "min": "-7.175862755861984",
          "max": "9.096134182409337",
          "histogram": [
           {
            "bin_start": -7.175862755861984,
            "bin_end": -5.548663062034851,
            "count": 1
           },
           {
            "bin_start": -5.548663062034851,
            "bin_end": -3.9214633682077196,
            "count": 1
           },
           {
            "bin_start": -3.9214633682077196,
            "bin_end": -2.294263674380587,
            "count": 6
           },
           {
            "bin_start": -2.294263674380587,
            "bin_end": -0.6670639805534551,
            "count": 92
           },
           {
            "bin_start": -0.6670639805534551,
            "bin_end": 0.9601357132736767,
            "count": 547
           },
           {
            "bin_start": 0.9601357132736767,
            "bin_end": 2.5873354071008103,
            "count": 61
           },
           {
            "bin_start": 2.5873354071008103,
            "bin_end": 4.214535100927942,
            "count": 9
           },
           {
            "bin_start": 4.214535100927942,
            "bin_end": 5.841734794755074,
            "count": 1
           },
           {
            "bin_start": 5.841734794755074,
            "bin_end": 7.468934488582206,
            "count": 1
           },
           {
            "bin_start": 7.468934488582206,
            "bin_end": 9.096134182409337,
            "count": 1
           }
          ]
         }
        },
        {
         "name": "VET-VeChain Thor",
         "dtype": "float64",
         "stats": {
          "unique_count": 708,
          "nan_count": 0,
          "min": "-0.7142939592642802",
          "max": "3.9672833112277144",
          "histogram": [
           {
            "bin_start": -0.7142939592642802,
            "bin_end": -0.24613623221508069,
            "count": 481
           },
           {
            "bin_start": -0.24613623221508069,
            "bin_end": 0.22202149483411882,
            "count": 40
           },
           {
            "bin_start": 0.22202149483411882,
            "bin_end": 0.6901792218833184,
            "count": 44
           },
           {
            "bin_start": 0.6901792218833184,
            "bin_end": 1.1583369489325177,
            "count": 47
           },
           {
            "bin_start": 1.1583369489325177,
            "bin_end": 1.6264946759817174,
            "count": 52
           },
           {
            "bin_start": 1.6264946759817174,
            "bin_end": 2.094652403030917,
            "count": 19
           },
           {
            "bin_start": 2.094652403030917,
            "bin_end": 2.5628101300801163,
            "count": 9
           },
           {
            "bin_start": 2.5628101300801163,
            "bin_end": 3.030967857129316,
            "count": 10
           },
           {
            "bin_start": 3.030967857129316,
            "bin_end": 3.4991255841785156,
            "count": 10
           },
           {
            "bin_start": 3.4991255841785156,
            "bin_end": 3.9672833112277144,
            "count": 8
           }
          ]
         }
        },
        {
         "name": "VSYS-V Systems",
         "dtype": "float64",
         "stats": {
          "unique_count": 713,
          "nan_count": 0,
          "min": "-1.0729700495430763",
          "max": "3.5610828339743503",
          "histogram": [
           {
            "bin_start": -1.0729700495430763,
            "bin_end": -0.6095647611913336,
            "count": 214
           },
           {
            "bin_start": -0.6095647611913336,
            "bin_end": -0.14615947283959096,
            "count": 244
           },
           {
            "bin_start": -0.14615947283959096,
            "bin_end": 0.3172458155121516,
            "count": 87
           },
           {
            "bin_start": 0.3172458155121516,
            "bin_end": 0.7806511038638944,
            "count": 42
           },
           {
            "bin_start": 0.7806511038638944,
            "bin_end": 1.2440563922156371,
            "count": 41
           },
           {
            "bin_start": 1.2440563922156371,
            "bin_end": 1.7074616805673795,
            "count": 34
           },
           {
            "bin_start": 1.7074616805673795,
            "bin_end": 2.170866968919122,
            "count": 8
           },
           {
            "bin_start": 2.170866968919122,
            "bin_end": 2.6342722572708652,
            "count": 20
           },
           {
            "bin_start": 2.6342722572708652,
            "bin_end": 3.0976775456226076,
            "count": 25
           },
           {
            "bin_start": 3.0976775456226076,
            "bin_end": 3.5610828339743503,
            "count": 5
           }
          ]
         }
        },
        {
         "name": "WAVES-Waves",
         "dtype": "float64",
         "stats": {
          "unique_count": 720,
          "nan_count": 0,
          "min": "-0.7923678821341692",
          "max": "3.6310898159738416",
          "histogram": [
           {
            "bin_start": -0.7923678821341692,
            "bin_end": -0.35002211232336816,
            "count": 413
           },
           {
            "bin_start": -0.35002211232336816,
            "bin_end": 0.09232365748743288,
            "count": 69
           },
           {
            "bin_start": 0.09232365748743288,
            "bin_end": 0.5346694272982339,
            "count": 58
           },
           {
            "bin_start": 0.5346694272982339,
            "bin_end": 0.977015197109035,
            "count": 65
           },
           {
            "bin_start": 0.977015197109035,
            "bin_end": 1.419360966919836,
            "count": 54
           },
           {
            "bin_start": 1.419360966919836,
            "bin_end": 1.8617067367306368,
            "count": 9
           },
           {
            "bin_start": 1.8617067367306368,
            "bin_end": 2.304052506541438,
            "count": 17
           },
           {
            "bin_start": 2.304052506541438,
            "bin_end": 2.746398276352239,
            "count": 10
           },
           {
            "bin_start": 2.746398276352239,
            "bin_end": 3.18874404616304,
            "count": 17
           },
           {
            "bin_start": 3.18874404616304,
            "bin_end": 3.6310898159738416,
            "count": 8
           }
          ]
         }
        },
        {
         "name": "XEM-NEM",
         "dtype": "float64",
         "stats": {
          "unique_count": 718,
          "nan_count": 0,
          "min": "-0.8428184968876037",
          "max": "4.705889306498416",
          "histogram": [
           {
            "bin_start": -0.8428184968876037,
            "bin_end": -0.28794771654900175,
            "count": 352
           },
           {
            "bin_start": -0.28794771654900175,
            "bin_end": 0.2669230637896002,
            "count": 151
           },
           {
            "bin_start": 0.2669230637896002,
            "bin_end": 0.8217938441282021,
            "count": 102
           },
           {
            "bin_start": 0.8217938441282021,
            "bin_end": 1.376664624466804,
            "count": 36
           },
           {
            "bin_start": 1.376664624466804,
            "bin_end": 1.9315354048054059,
            "count": 46
           },
           {
            "bin_start": 1.9315354048054059,
            "bin_end": 2.486406185144008,
            "count": 11
           },
           {
            "bin_start": 2.486406185144008,
            "bin_end": 3.0412769654826097,
            "count": 7
           },
           {
            "bin_start": 3.0412769654826097,
            "bin_end": 3.5961477458212117,
            "count": 5
           },
           {
            "bin_start": 3.5961477458212117,
            "bin_end": 4.151018526159814,
            "count": 5
           },
           {
            "bin_start": 4.151018526159814,
            "bin_end": 4.705889306498416,
            "count": 5
           }
          ]
         }
        },
        {
         "name": "XLM-Stellar",
         "dtype": "float64",
         "stats": {
          "unique_count": 720,
          "nan_count": 0,
          "min": "-0.9355086763178776",
          "max": "3.373389523785403",
          "histogram": [
           {
            "bin_start": -0.9355086763178776,
            "bin_end": -0.5046188563075495,
            "count": 407
           },
           {
            "bin_start": -0.5046188563075495,
            "bin_end": -0.0737290362972215,
            "count": 44
           },
           {
            "bin_start": -0.0737290362972215,
            "bin_end": 0.35716078371310644,
            "count": 33
           },
           {
            "bin_start": 0.35716078371310644,
            "bin_end": 0.7880506037234346,
            "count": 64
           },
           {
            "bin_start": 0.7880506037234346,
            "bin_end": 1.2189404237337627,
            "count": 57
           },
           {
            "bin_start": 1.2189404237337627,
            "bin_end": 1.6498302437440904,
            "count": 62
           },
           {
            "bin_start": 1.6498302437440904,
            "bin_end": 2.0807200637544185,
            "count": 22
           },
           {
            "bin_start": 2.0807200637544185,
            "bin_end": 2.5116098837647467,
            "count": 11
           },
           {
            "bin_start": 2.5116098837647467,
            "bin_end": 2.942499703775075,
            "count": 16
           },
           {
            "bin_start": 2.942499703775075,
            "bin_end": 3.373389523785403,
            "count": 4
           }
          ]
         }
        },
        {
         "name": "XMR-Monero",
         "dtype": "float64",
         "stats": {
          "unique_count": 720,
          "nan_count": 0,
          "min": "-1.1091725563539976",
          "max": "3.5783146413316316",
          "histogram": [
           {
            "bin_start": -1.1091725563539976,
            "bin_end": -0.6404238365854347,
            "count": 289
           },
           {
            "bin_start": -0.6404238365854347,
            "bin_end": -0.17167511681687186,
            "count": 118
           },
           {
            "bin_start": -0.17167511681687186,
            "bin_end": 0.29707360295169094,
            "count": 94
           },
           {
            "bin_start": 0.29707360295169094,
            "bin_end": 0.7658223227202539,
            "count": 41
           },
           {
            "bin_start": 0.7658223227202539,
            "bin_end": 1.2345710424888168,
            "count": 80
           },
           {
            "bin_start": 1.2345710424888168,
            "bin_end": 1.7033197622573795,
            "count": 50
           },
           {
            "bin_start": 1.7033197622573795,
            "bin_end": 2.1720684820259426,
            "count": 19
           },
           {
            "bin_start": 2.1720684820259426,
            "bin_end": 2.6408172017945053,
            "count": 9
           },
           {
            "bin_start": 2.6408172017945053,
            "bin_end": 3.1095659215630684,
            "count": 15
           },
           {
            "bin_start": 3.1095659215630684,
            "bin_end": 3.5783146413316316,
            "count": 5
           }
          ]
         }
        },
        {
         "name": "XRP-XRP",
         "dtype": "float64",
         "stats": {
          "unique_count": 719,
          "nan_count": 0,
          "min": "-0.8603353291385326",
          "max": "3.879863781571344",
          "histogram": [
           {
            "bin_start": -0.8603353291385326,
            "bin_end": -0.386315418067545,
            "count": 451
           },
           {
            "bin_start": -0.386315418067545,
            "bin_end": 0.08770449300344263,
            "count": 49
           },
           {
            "bin_start": 0.08770449300344263,
            "bin_end": 0.5617244040744301,
            "count": 85
           },
           {
            "bin_start": 0.5617244040744301,
            "bin_end": 1.035744315145418,
            "count": 27
           },
           {
            "bin_start": 1.035744315145418,
            "bin_end": 1.5097642262164057,
            "count": 25
           },
           {
            "bin_start": 1.5097642262164057,
            "bin_end": 1.983784137287393,
            "count": 28
           },
           {
            "bin_start": 1.983784137287393,
            "bin_end": 2.4578040483583807,
            "count": 22
           },
           {
            "bin_start": 2.4578040483583807,
            "bin_end": 2.9318239594293685,
            "count": 18
           },
           {
            "bin_start": 2.9318239594293685,
            "bin_end": 3.405843870500356,
            "count": 12
           },
           {
            "bin_start": 3.405843870500356,
            "bin_end": 3.879863781571344,
            "count": 3
           }
          ]
         }
        },
        {
         "name": "XTZ-Tezos",
         "dtype": "float64",
         "stats": {
          "unique_count": 720,
          "nan_count": 0,
          "min": "-1.5377268796380528",
          "max": "3.620274927115342",
          "histogram": [
           {
            "bin_start": -1.5377268796380528,
            "bin_end": -1.0219266989627132,
            "count": 101
           },
           {
            "bin_start": -1.0219266989627132,
            "bin_end": -0.5061265182873738,
            "count": 123
           },
           {
            "bin_start": -0.5061265182873738,
            "bin_end": 0.009673662387965631,
            "count": 201
           },
           {
            "bin_start": 0.009673662387965631,
            "bin_end": 0.5254738430633052,
            "count": 140
           },
           {
            "bin_start": 0.5254738430633052,
            "bin_end": 1.0412740237386449,
            "count": 60
           },
           {
            "bin_start": 1.0412740237386449,
            "bin_end": 1.557074204413984,
            "count": 31
           },
           {
            "bin_start": 1.557074204413984,
            "bin_end": 2.0728743850893236,
            "count": 25
           },
           {
            "bin_start": 2.0728743850893236,
            "bin_end": 2.5886745657646633,
            "count": 18
           },
           {
            "bin_start": 2.5886745657646633,
            "bin_end": 3.1044747464400024,
            "count": 13
           },
           {
            "bin_start": 3.1044747464400024,
            "bin_end": 3.620274927115342,
            "count": 8
           }
          ]
         }
        },
        {
         "name": "ZEC-Zcash",
         "dtype": "float64",
         "stats": {
          "unique_count": 720,
          "nan_count": 0,
          "min": "-1.0635764602252786",
          "max": "4.077523408925798",
          "histogram": [
           {
            "bin_start": -1.0635764602252786,
            "bin_end": -0.549466473310171,
            "count": 252
           },
           {
            "bin_start": -0.549466473310171,
            "bin_end": -0.03535648639506328,
            "count": 207
           },
           {
            "bin_start": -0.03535648639506328,
            "bin_end": 0.4787535005200443,
            "count": 77
           },
           {
            "bin_start": 0.4787535005200443,
            "bin_end": 0.9928634874351521,
            "count": 71
           },
           {
            "bin_start": 0.9928634874351521,
            "bin_end": 1.5069734743502599,
            "count": 64
           },
           {
            "bin_start": 1.5069734743502599,
            "bin_end": 2.021083461265367,
            "count": 11
           },
           {
            "bin_start": 2.021083461265367,
            "bin_end": 2.535193448180475,
            "count": 10
           },
           {
            "bin_start": 2.535193448180475,
            "bin_end": 3.0493034350955828,
            "count": 13
           },
           {
            "bin_start": 3.0493034350955828,
            "bin_end": 3.56341342201069,
            "count": 7
           },
           {
            "bin_start": 3.56341342201069,
            "bin_end": 4.077523408925798,
            "count": 8
           }
          ]
         }
        },
        {
         "name": "ZRX-0x",
         "dtype": "float64",
         "stats": {
          "unique_count": 719,
          "nan_count": 0,
          "min": "-0.9547118968456",
          "max": "3.4994792725674135",
          "histogram": [
           {
            "bin_start": -0.9547118968456,
            "bin_end": -0.5092927799042987,
            "count": 295
           },
           {
            "bin_start": -0.5092927799042987,
            "bin_end": -0.06387366296299735,
            "count": 182
           },
           {
            "bin_start": -0.06387366296299735,
            "bin_end": 0.38154545397830397,
            "count": 63
           },
           {
            "bin_start": 0.38154545397830397,
            "bin_end": 0.8269645709196053,
            "count": 41
           },
           {
            "bin_start": 0.8269645709196053,
            "bin_end": 1.2723836878609065,
            "count": 35
           },
           {
            "bin_start": 1.2723836878609065,
            "bin_end": 1.7178028048022078,
            "count": 33
           },
           {
            "bin_start": 1.7178028048022078,
            "bin_end": 2.163221921743509,
            "count": 31
           },
           {
            "bin_start": 2.163221921743509,
            "bin_end": 2.6086410386848105,
            "count": 23
           },
           {
            "bin_start": 2.6086410386848105,
            "bin_end": 3.0540601556261118,
            "count": 10
           },
           {
            "bin_start": 3.0540601556261118,
            "bin_end": 3.4994792725674135,
            "count": 7
           }
          ]
         }
        },
        {
         "name": "ABBC-ABBC Coin",
         "dtype": "float64",
         "stats": {
          "unique_count": 720,
          "nan_count": 0,
          "min": "-1.1729138812751545",
          "max": "5.764024659031261",
          "histogram": [
           {
            "bin_start": -1.1729138812751545,
            "bin_end": -0.47922002724451296,
            "count": 235
           },
           {
            "bin_start": -0.47922002724451296,
            "bin_end": 0.21447382678612859,
            "count": 288
           },
           {
            "bin_start": 0.21447382678612859,
            "bin_end": 0.9081676808167702,
            "count": 116
           },
           {
            "bin_start": 0.9081676808167702,
            "bin_end": 1.6018615348474117,
            "count": 39
           },
           {
            "bin_start": 1.6018615348474117,
            "bin_end": 2.295555388878053,
            "count": 17
           },
           {
            "bin_start": 2.295555388878053,
            "bin_end": 2.989249242908695,
            "count": 6
           },
           {
            "bin_start": 2.989249242908695,
            "bin_end": 3.6829430969393364,
            "count": 4
           },
           {
            "bin_start": 3.6829430969393364,
            "bin_end": 4.376636950969978,
            "count": 9
           },
           {
            "bin_start": 4.376636950969978,
            "bin_end": 5.070330805000619,
            "count": 2
           },
           {
            "bin_start": 5.070330805000619,
            "bin_end": 5.764024659031261,
            "count": 4
           }
          ]
         }
        },
        {
         "name": "AE-Aeternity",
         "dtype": "float64",
         "stats": {
          "unique_count": 717,
          "nan_count": 0,
          "min": "-1.330978002816497",
          "max": "4.902294645416906",
          "histogram": [
           {
            "bin_start": -1.330978002816497,
            "bin_end": -0.7076507379931567,
            "count": 184
           },
           {
            "bin_start": -0.7076507379931567,
            "bin_end": -0.08432347316981637,
            "count": 218
           },
           {
            "bin_start": -0.08432347316981637,
            "bin_end": 0.539003791653524,
            "count": 175
           },
           {
            "bin_start": 0.539003791653524,
            "bin_end": 1.1623310564768643,
            "count": 79
           },
           {
            "bin_start": 1.1623310564768643,
            "bin_end": 1.7856583213002046,
            "count": 27
           },
           {
            "bin_start": 1.7856583213002046,
            "bin_end": 2.4089855861235447,
            "count": 7
           },
           {
            "bin_start": 2.4089855861235447,
            "bin_end": 3.0323128509468855,
            "count": 10
           },
           {
            "bin_start": 3.0323128509468855,
            "bin_end": 3.6556401157702254,
            "count": 9
           },
           {
            "bin_start": 3.6556401157702254,
            "bin_end": 4.278967380593565,
            "count": 6
           },
           {
            "bin_start": 4.278967380593565,
            "bin_end": 4.902294645416906,
            "count": 5
           }
          ]
         }
        },
        {
         "name": "AOA-Aurora",
         "dtype": "float64",
         "stats": {
          "unique_count": 669,
          "nan_count": 3,
          "min": "-0.9348098957003668",
          "max": "4.712198818935226",
          "histogram": [
           {
            "bin_start": -0.9348098957003668,
            "bin_end": -0.37010902423680747,
            "count": 405
           },
           {
            "bin_start": -0.37010902423680747,
            "bin_end": 0.19459184722675182,
            "count": 94
           },
           {
            "bin_start": 0.19459184722675182,
            "bin_end": 0.7592927186903111,
            "count": 87
           },
           {
            "bin_start": 0.7592927186903111,
            "bin_end": 1.3239935901538704,
            "count": 66
           },
           {
            "bin_start": 1.3239935901538704,
            "bin_end": 1.8886944616174297,
            "count": 6
           },
           {
            "bin_start": 1.8886944616174297,
            "bin_end": 2.453395333080989,
            "count": 26
           },
           {
            "bin_start": 2.453395333080989,
            "bin_end": 3.0180962045445483,
            "count": 20
           },
           {
            "bin_start": 3.0180962045445483,
            "bin_end": 3.5827970760081076,
            "count": 7
           },
           {
            "bin_start": 3.5827970760081076,
            "bin_end": 4.147497947471667,
            "count": 5
           },
           {
            "bin_start": 4.147497947471667,
            "bin_end": 4.712198818935226,
            "count": 1
           }
          ]
         }
        },
        {
         "name": "ARDR-Ardor",
         "dtype": "float64",
         "stats": {
          "unique_count": 717,
          "nan_count": 0,
          "min": "-0.7962782782544413",
          "max": "3.9726194327059114",
          "histogram": [
           {
            "bin_start": -0.7962782782544413,
            "bin_end": -0.31938850715840605,
            "count": 480
           },
           {
            "bin_start": -0.31938850715840605,
            "bin_end": 0.1575012639376292,
            "count": 38
           },
           {
            "bin_start": 0.1575012639376292,
            "bin_end": 0.6343910350336643,
            "count": 53
           },
           {
            "bin_start": 0.6343910350336643,
            "bin_end": 1.1112808061296997,
            "count": 33
           },
           {
            "bin_start": 1.1112808061296997,
            "bin_end": 1.588170577225735,
            "count": 49
           },
           {
            "bin_start": 1.588170577225735,
            "bin_end": 2.06506034832177,
            "count": 21
           },
           {
            "bin_start": 2.06506034832177,
            "bin_end": 2.5419501194178054,
            "count": 17
           },
           {
            "bin_start": 2.5419501194178054,
            "bin_end": 3.0188398905138407,
            "count": 20
           },
           {
            "bin_start": 3.0188398905138407,
            "bin_end": 3.4957296616098756,
            "count": 3
           },
           {
            "bin_start": 3.4957296616098756,
            "bin_end": 3.9726194327059114,
            "count": 6
           }
          ]
         }
        },
        {
         "name": "BCN-Bytecoin",
         "dtype": "float64",
         "stats": {
          "unique_count": 438,
          "nan_count": 0,
          "min": "-0.8863751140402405",
          "max": "5.424006901612694",
          "histogram": [
           {
            "bin_start": -0.8863751140402405,
            "bin_end": -0.25533691247494705,
            "count": 404
           },
           {
            "bin_start": -0.25533691247494705,
            "bin_end": 0.3757012890903464,
            "count": 150
           },
           {
            "bin_start": 0.3757012890903464,
            "bin_end": 1.0067394906556397,
            "count": 49
           },
           {
            "bin_start": 1.0067394906556397,
            "bin_end": 1.6377776922209333,
            "count": 56
           },
           {
            "bin_start": 1.6377776922209333,
            "bin_end": 2.268815893786227,
            "count": 34
           },
           {
            "bin_start": 2.268815893786227,
            "bin_end": 2.89985409535152,
            "count": 12
           },
           {
            "bin_start": 2.89985409535152,
            "bin_end": 3.5308922969168135,
            "count": 6
           },
           {
            "bin_start": 3.5308922969168135,
            "bin_end": 4.161930498482107,
            "count": 6
           },
           {
            "bin_start": 4.161930498482107,
            "bin_end": 4.792968700047401,
            "count": 1
           },
           {
            "bin_start": 4.792968700047401,
            "bin_end": 5.424006901612694,
            "count": 2
           }
          ]
         }
        },
        {
         "name": "BTM-Bytom",
         "dtype": "float64",
         "stats": {
          "unique_count": 717,
          "nan_count": 0,
          "min": "-1.0529429910270611",
          "max": "5.315069113327513",
          "histogram": [
           {
            "bin_start": -1.0529429910270611,
            "bin_end": -0.41614178059160367,
            "count": 319
           },
           {
            "bin_start": -0.41614178059160367,
            "bin_end": 0.22065942984385378,
            "count": 227
           },
           {
            "bin_start": 0.22065942984385378,
            "bin_end": 0.8574606402793112,
            "count": 97
           },
           {
            "bin_start": 0.8574606402793112,
            "bin_end": 1.4942618507147687,
            "count": 27
           },
           {
            "bin_start": 1.4942618507147687,
            "bin_end": 2.1310630611502264,
            "count": 1
           },
           {
            "bin_start": 2.1310630611502264,
            "bin_end": 2.7678642715856836,
            "count": 15
           },
           {
            "bin_start": 2.7678642715856836,
            "bin_end": 3.404665482021141,
            "count": 21
           },
           {
            "bin_start": 3.404665482021141,
            "bin_end": 4.0414666924565985,
            "count": 7
           },
           {
            "bin_start": 4.0414666924565985,
            "bin_end": 4.678267902892056,
            "count": 5
           },
           {
            "bin_start": 4.678267902892056,
            "bin_end": 5.315069113327513,
            "count": 1
           }
          ]
         }
        },
        {
         "name": "BTS-BitShares",
         "dtype": "float64",
         "stats": {
          "unique_count": 713,
          "nan_count": 0,
          "min": "-0.9434104984377978",
          "max": "4.243042938323007",
          "histogram": [
           {
            "bin_start": -0.9434104984377978,
            "bin_end": -0.4247651547617173,
            "count": 353
           },
           {
            "bin_start": -0.4247651547617173,
            "bin_end": 0.09388018891436323,
            "count": 145
           },
           {
            "bin_start": 0.09388018891436323,
            "bin_end": 0.6125255325904437,
            "count": 92
           },
           {
            "bin_start": 0.6125255325904437,
            "bin_end": 1.1311708762665242,
            "count": 60
           },
           {
            "bin_start": 1.1311708762665242,
            "bin_end": 1.649816219942605,
            "count": 16
           },
           {
            "bin_start": 1.649816219942605,
            "bin_end": 2.1684615636186853,
            "count": 11
           },
           {
            "bin_start": 2.1684615636186853,
            "bin_end": 2.6871069072947655,
            "count": 9
           },
           {
            "bin_start": 2.6871069072947655,
            "bin_end": 3.2057522509708463,
            "count": 11
           },
           {
            "bin_start": 3.2057522509708463,
            "bin_end": 3.724397594646927,
            "count": 18
           },
           {
            "bin_start": 3.724397594646927,
            "bin_end": 4.243042938323007,
            "count": 5
           }
          ]
         }
        },
        {
         "name": "DAI-Dai",
         "dtype": "float64",
         "stats": {
          "unique_count": 716,
          "nan_count": 0,
          "min": "-2.0061995826896366",
          "max": "5.589769391469261",
          "histogram": [
           {
            "bin_start": -2.0061995826896366,
            "bin_end": -1.2466026852737468,
            "count": 28
           },
           {
            "bin_start": -1.2466026852737468,
            "bin_end": -0.4870057878578571,
            "count": 242
           },
           {
            "bin_start": -0.4870057878578571,
            "bin_end": 0.2725911095580327,
            "count": 239
           },
           {
            "bin_start": 0.2725911095580327,
            "bin_end": 1.0321880069739224,
            "count": 101
           },
           {
            "bin_start": 1.0321880069739224,
            "bin_end": 1.7917849043898122,
            "count": 64
           },
           {
            "bin_start": 1.7917849043898122,
            "bin_end": 2.551381801805702,
            "count": 29
           },
           {
            "bin_start": 2.551381801805702,
            "bin_end": 3.310978699221592,
            "count": 10
           },
           {
            "bin_start": 3.310978699221592,
            "bin_end": 4.0705755966374815,
            "count": 5
           },
           {
            "bin_start": 4.0705755966374815,
            "bin_end": 4.830172494053371,
            "count": 1
           },
           {
            "bin_start": 4.830172494053371,
            "bin_end": 5.589769391469261,
            "count": 1
           }
          ]
         }
        },
        {
         "name": "DGB-DigiByte",
         "dtype": "float64",
         "stats": {
          "unique_count": 713,
          "nan_count": 0,
          "min": "-0.9663335389354909",
          "max": "4.042184572207868",
          "histogram": [
           {
            "bin_start": -0.9663335389354909,
            "bin_end": -0.46548172782115504,
            "count": 246
           },
           {
            "bin_start": -0.46548172782115504,
            "bin_end": 0.03537008329318081,
            "count": 250
           },
           {
            "bin_start": 0.03537008329318081,
            "bin_end": 0.5362218944075167,
            "count": 50
           },
           {
            "bin_start": 0.5362218944075167,
            "bin_end": 1.0370737055218524,
            "count": 67
           },
           {
            "bin_start": 1.0370737055218524,
            "bin_end": 1.537925516636188,
            "count": 57
           },
           {
            "bin_start": 1.537925516636188,
            "bin_end": 2.038777327750524,
            "count": 15
           },
           {
            "bin_start": 2.038777327750524,
            "bin_end": 2.53962913886486,
            "count": 7
           },
           {
            "bin_start": 2.53962913886486,
            "bin_end": 3.040480949979196,
            "count": 8
           },
           {
            "bin_start": 3.040480949979196,
            "bin_end": 3.5413327610935315,
            "count": 10
           },
           {
            "bin_start": 3.5413327610935315,
            "bin_end": 4.042184572207868,
            "count": 10
           }
          ]
         }
        },
        {
         "name": "EKT-EDUCare",
         "dtype": "float64",
         "stats": {
          "unique_count": 705,
          "nan_count": 0,
          "min": "-0.5526792913218392",
          "max": "3.8198147668040274",
          "histogram": [
           {
            "bin_start": -0.5526792913218392,
            "bin_end": -0.1154298855092526,
            "count": 553
           },
           {
            "bin_start": -0.1154298855092526,
            "bin_end": 0.32181952030333405,
            "count": 56
           },
           {
            "bin_start": 0.32181952030333405,
            "bin_end": 0.7590689261159207,
            "count": 14
           },
           {
            "bin_start": 0.7590689261159207,
            "bin_end": 1.1963183319285073,
            "count": 13
           },
           {
            "bin_start": 1.1963183319285073,
            "bin_end": 1.633567737741094,
            "count": 9
           },
           {
            "bin_start": 1.633567737741094,
            "bin_end": 2.070817143553681,
            "count": 16
           },
           {
            "bin_start": 2.070817143553681,
            "bin_end": 2.5080665493662675,
            "count": 15
           },
           {
            "bin_start": 2.5080665493662675,
            "bin_end": 2.945315955178854,
            "count": 13
           },
           {
            "bin_start": 2.945315955178854,
            "bin_end": 3.382565360991441,
            "count": 12
           },
           {
            "bin_start": 3.382565360991441,
            "bin_end": 3.8198147668040274,
            "count": 19
           }
          ]
         }
        },
        {
         "name": "ELF-aelf",
         "dtype": "float64",
         "stats": {
          "unique_count": 716,
          "nan_count": 0,
          "min": "-0.8653911233881212",
          "max": "5.257190202642359",
          "histogram": [
           {
            "bin_start": -0.8653911233881212,
            "bin_end": -0.2531329907850731,
            "count": 462
           },
           {
            "bin_start": -0.2531329907850731,
            "bin_end": 0.35912514181797495,
            "count": 80
           },
           {
            "bin_start": 0.35912514181797495,
            "bin_end": 0.971383274421023,
            "count": 78
           },
           {
            "bin_start": 0.971383274421023,
            "bin_end": 1.583641407024071,
            "count": 41
           },
           {
            "bin_start": 1.583641407024071,
            "bin_end": 2.1958995396271193,
            "count": 26
           },
           {
            "bin_start": 2.1958995396271193,
            "bin_end": 2.808157672230167,
            "count": 21
           },
           {
            "bin_start": 2.808157672230167,
            "bin_end": 3.420415804833215,
            "count": 1
           },
           {
            "bin_start": 3.420415804833215,
            "bin_end": 4.032673937436264,
            "count": 2
           },
           {
            "bin_start": 4.032673937436264,
            "bin_end": 4.644932070039312,
            "count": 4
           },
           {
            "bin_start": 4.644932070039312,
            "bin_end": 5.257190202642359,
            "count": 5
           }
          ]
         }
        },
        {
         "name": "ENJ-Enjin Coin",
         "dtype": "float64",
         "stats": {
          "unique_count": 720,
          "nan_count": 0,
          "min": "-0.6980435704292988",
          "max": "3.6025848387390167",
          "histogram": [
           {
            "bin_start": -0.6980435704292988,
            "bin_end": -0.2679807295124672,
            "count": 496
           },
           {
            "bin_start": -0.2679807295124672,
            "bin_end": 0.16208211140436435,
            "count": 28
           },
           {
            "bin_start": 0.16208211140436435,
            "bin_end": 0.5921449523211958,
            "count": 12
           },
           {
            "bin_start": 0.5921449523211958,
            "bin_end": 1.0222077932380276,
            "count": 61
           },
           {
            "bin_start": 1.0222077932380276,
            "bin_end": 1.4522706341548592,
            "count": 35
           },
           {
            "bin_start": 1.4522706341548592,
            "bin_end": 1.8823334750716905,
            "count": 27
           },
           {
            "bin_start": 1.8823334750716905,
            "bin_end": 2.312396315988522,
            "count": 24
           },
           {
            "bin_start": 2.312396315988522,
            "bin_end": 2.742459156905354,
            "count": 27
           },
           {
            "bin_start": 2.742459156905354,
            "bin_end": 3.1725219978221855,
            "count": 5
           },
           {
            "bin_start": 3.1725219978221855,
            "bin_end": 3.6025848387390167,
            "count": 5
           }
          ]
         }
        },
        {
         "name": "ETP-Metaverse ETP",
         "dtype": "float64",
         "stats": {
          "unique_count": 720,
          "nan_count": 0,
          "min": "-1.2489328354804434",
          "max": "3.9881353434915843",
          "histogram": [
           {
            "bin_start": -1.2489328354804434,
            "bin_end": -0.7252260175832407,
            "count": 232
           },
           {
            "bin_start": -0.7252260175832407,
            "bin_end": -0.20151919968603793,
            "count": 191
           },
           {
            "bin_start": -0.20151919968603793,
            "bin_end": 0.32218761821116493,
            "count": 76
           },
           {
            "bin_start": 0.32218761821116493,
            "bin_end": 0.8458944361083676,
            "count": 39
           },
           {
            "bin_start": 0.8458944361083676,
            "bin_end": 1.3696012540055702,
            "count": 90
           },
           {
            "bin_start": 1.3696012540055702,
            "bin_end": 1.8933080719027733,
            "count": 56
           },
           {
            "bin_start": 1.8933080719027733,
            "bin_end": 2.417014889799976,
            "count": 25
           },
           {
            "bin_start": 2.417014889799976,
            "bin_end": 2.9407217076971786,
            "count": 5
           },
           {
            "bin_start": 2.9407217076971786,
            "bin_end": 3.4644285255943816,
            "count": 3
           },
           {
            "bin_start": 3.4644285255943816,
            "bin_end": 3.9881353434915843,
            "count": 3
           }
          ]
         }
        },
        {
         "name": "GNT-Golem",
         "dtype": "float64",
         "stats": {
          "unique_count": 719,
          "nan_count": 0,
          "min": "-0.8895219191544727",
          "max": "3.0265628779489067",
          "histogram": [
           {
            "bin_start": -0.8895219191544727,
            "bin_end": -0.4979134394441347,
            "count": 342
           },
           {
            "bin_start": -0.4979134394441347,
            "bin_end": -0.10630495973379672,
            "count": 137
           },
           {
            "bin_start": -0.10630495973379672,
            "bin_end": 0.28530351997654135,
            "count": 25
           },
           {
            "bin_start": 0.28530351997654135,
            "bin_end": 0.6769119996868792,
            "count": 23
           },
           {
            "bin_start": 0.6769119996868792,
            "bin_end": 1.068520479397217,
            "count": 58
           },
           {
            "bin_start": 1.068520479397217,
            "bin_end": 1.4601289591075552,
            "count": 37
           },
           {
            "bin_start": 1.4601289591075552,
            "bin_end": 1.851737438817893,
            "count": 45
           },
           {
            "bin_start": 1.851737438817893,
            "bin_end": 2.243345918528231,
            "count": 29
           },
           {
            "bin_start": 2.243345918528231,
            "bin_end": 2.634954398238569,
            "count": 12
           },
           {
            "bin_start": 2.634954398238569,
            "bin_end": 3.0265628779489067,
            "count": 12
           }
          ]
         }
        },
        {
         "name": "GXC-GXChain",
         "dtype": "float64",
         "stats": {
          "unique_count": 719,
          "nan_count": 0,
          "min": "-1.512298540042113",
          "max": "4.217621542409558",
          "histogram": [
           {
            "bin_start": -1.512298540042113,
            "bin_end": -0.9393065317969458,
            "count": 55
           },
           {
            "bin_start": -0.9393065317969458,
            "bin_end": -0.3663145235517786,
            "count": 287
           },
           {
            "bin_start": -0.3663145235517786,
            "bin_end": 0.20667748469338854,
            "count": 174
           },
           {
            "bin_start": 0.20667748469338854,
            "bin_end": 0.7796694929385557,
            "count": 80
           },
           {
            "bin_start": 0.7796694929385557,
            "bin_end": 1.352661501183723,
            "count": 61
           },
           {
            "bin_start": 1.352661501183723,
            "bin_end": 1.92565350942889,
            "count": 14
           },
           {
            "bin_start": 1.92565350942889,
            "bin_end": 2.498645517674057,
            "count": 17
           },
           {
            "bin_start": 2.498645517674057,
            "bin_end": 3.0716375259192246,
            "count": 17
           },
           {
            "bin_start": 3.0716375259192246,
            "bin_end": 3.644629534164392,
            "count": 12
           },
           {
            "bin_start": 3.644629534164392,
            "bin_end": 4.217621542409558,
            "count": 3
           }
          ]
         }
        },
        {
         "name": "HC-HyperCash",
         "dtype": "float64",
         "stats": {
          "unique_count": 720,
          "nan_count": 0,
          "min": "-1.555946606870543",
          "max": "4.552532623887992",
          "histogram": [
           {
            "bin_start": -1.555946606870543,
            "bin_end": -0.9450986837946895,
            "count": 109
           },
           {
            "bin_start": -0.9450986837946895,
            "bin_end": -0.3342507607188361,
            "count": 191
           },
           {
            "bin_start": -0.3342507607188361,
            "bin_end": 0.27659716235701737,
            "count": 189
           },
           {
            "bin_start": 0.27659716235701737,
            "bin_end": 0.8874450854328708,
            "count": 106
           },
           {
            "bin_start": 0.8874450854328708,
            "bin_end": 1.4982930085087245,
            "count": 59
           },
           {
            "bin_start": 1.4982930085087245,
            "bin_end": 2.1091409315845775,
            "count": 41
           },
           {
            "bin_start": 2.1091409315845775,
            "bin_end": 2.719988854660431,
            "count": 12
           },
           {
            "bin_start": 2.719988854660431,
            "bin_end": 3.330836777736285,
            "count": 10
           },
           {
            "bin_start": 3.330836777736285,
            "bin_end": 3.9416847008121385,
            "count": 2
           },
           {
            "bin_start": 3.9416847008121385,
            "bin_end": 4.552532623887992,
            "count": 1
           }
          ]
         }
        },
        {
         "name": "ICX-ICON",
         "dtype": "float64",
         "stats": {
          "unique_count": 719,
          "nan_count": 0,
          "min": "-0.8873701296230684",
          "max": "3.5606781465653663",
          "histogram": [
           {
            "bin_start": -0.8873701296230684,
            "bin_end": -0.4425653020042249,
            "count": 376
           },
           {
            "bin_start": -0.4425653020042249,
            "bin_end": 0.0022395256146185982,
            "count": 109
           },
           {
            "bin_start": 0.0022395256146185982,
            "bin_end": 0.44704435323346214,
            "count": 69
           },
           {
            "bin_start": 0.44704435323346214,
            "bin_end": 0.8918491808523056,
            "count": 40
           },
           {
            "bin_start": 0.8918491808523056,
            "bin_end": 1.336654008471149,
            "count": 31
           },
           {
            "bin_start": 1.336654008471149,
            "bin_end": 1.7814588360899926,
            "count": 30
           },
           {
            "bin_start": 1.7814588360899926,
            "bin_end": 2.2262636637088358,
            "count": 26
           },
           {
            "bin_start": 2.2262636637088358,
            "bin_end": 2.6710684913276794,
            "count": 13
           },
           {
            "bin_start": 2.6710684913276794,
            "bin_end": 3.115873318946523,
            "count": 23
           },
           {
            "bin_start": 3.115873318946523,
            "bin_end": 3.5606781465653663,
            "count": 3
           }
          ]
         }
        },
        {
         "name": "IOST-IOStoken",
         "dtype": "float64",
         "stats": {
          "unique_count": 684,
          "nan_count": 0,
          "min": "-0.7691399203569791",
          "max": "3.4640408021581397",
          "histogram": [
           {
            "bin_start": -0.7691399203569791,
            "bin_end": -0.34582184810546723,
            "count": 473
           },
           {
            "bin_start": -0.34582184810546723,
            "bin_end": 0.07749622414604462,
            "count": 25
           },
           {
            "bin_start": 0.07749622414604462,
            "bin_end": 0.5008142963975564,
            "count": 52
           },
           {
            "bin_start": 0.5008142963975564,
            "bin_end": 0.9241323686490683,
            "count": 47
           },
           {
            "bin_start": 0.9241323686490683,
            "bin_end": 1.3474504409005803,
            "count": 17
           },
           {
            "bin_start": 1.3474504409005803,
            "bin_end": 1.7707685131520918,
            "count": 41
           },
           {
            "bin_start": 1.7707685131520918,
            "bin_end": 2.194086585403604,
            "count": 27
           },
           {
            "bin_start": 2.194086585403604,
            "bin_end": 2.6174046576551158,
            "count": 19
           },
           {
            "bin_start": 2.6174046576551158,
            "bin_end": 3.0407227299066277,
            "count": 10
           },
           {
            "bin_start": 3.0407227299066277,
            "bin_end": 3.4640408021581397,
            "count": 9
           }
          ]
         }
        },
        {
         "name": "KMD-Komodo",
         "dtype": "float64",
         "stats": {
          "unique_count": 720,
          "nan_count": 0,
          "min": "-0.9216776697779594",
          "max": "6.0706555062113345",
          "histogram": [
           {
            "bin_start": -0.9216776697779594,
            "bin_end": -0.22244435217903002,
            "count": 483
           },
           {
            "bin_start": -0.22244435217903002,
            "bin_end": 0.47678896541989935,
            "count": 118
           },
           {
            "bin_start": 0.47678896541989935,
            "bin_end": 1.1760222830188287,
            "count": 51
           },
           {
            "bin_start": 1.1760222830188287,
            "bin_end": 1.875255600617758,
            "count": 20
           },
           {
            "bin_start": 1.875255600617758,
            "bin_end": 2.5744889182166872,
            "count": 13
           },
           {
            "bin_start": 2.5744889182166872,
            "bin_end": 3.273722235815617,
            "count": 18
           },
           {
            "bin_start": 3.273722235815617,
            "bin_end": 3.972955553414546,
            "count": 9
           },
           {
            "bin_start": 3.972955553414546,
            "bin_end": 4.672188871013476,
            "count": 5
           },
           {
            "bin_start": 4.672188871013476,
            "bin_end": 5.371422188612406,
            "count": 1
           },
           {
            "bin_start": 5.371422188612406,
            "bin_end": 6.0706555062113345,
            "count": 2
           }
          ]
         }
        },
        {
         "name": "LAMB-Lambda",
         "dtype": "float64",
         "stats": {
          "unique_count": 714,
          "nan_count": 0,
          "min": "-0.9080202823588129",
          "max": "5.598152153077834",
          "histogram": [
           {
            "bin_start": -0.9080202823588129,
            "bin_end": -0.25740303881514826,
            "count": 403
           },
           {
            "bin_start": -0.25740303881514826,
            "bin_end": 0.3932142047285164,
            "count": 174
           },
           {
            "bin_start": 0.3932142047285164,
            "bin_end": 1.043831448272181,
            "count": 59
           },
           {
            "bin_start": 1.043831448272181,
            "bin_end": 1.694448691815846,
            "count": 25
           },
           {
            "bin_start": 1.694448691815846,
            "bin_end": 2.3450659353595107,
            "count": 20
           },
           {
            "bin_start": 2.3450659353595107,
            "bin_end": 2.995683178903175,
            "count": 19
           },
           {
            "bin_start": 2.995683178903175,
            "bin_end": 3.64630042244684,
            "count": 11
           },
           {
            "bin_start": 3.64630042244684,
            "bin_end": 4.296917665990504,
            "count": 6
           },
           {
            "bin_start": 4.296917665990504,
            "bin_end": 4.947534909534169,
            "count": 1
           },
           {
            "bin_start": 4.947534909534169,
            "bin_end": 5.598152153077834,
            "count": 2
           }
          ]
         }
        },
        {
         "name": "MAID-MaidSafeCoin",
         "dtype": "float64",
         "stats": {
          "unique_count": 717,
          "nan_count": 0,
          "min": "-0.9022922518717877",
          "max": "3.603432098144529",
          "histogram": [
           {
            "bin_start": -0.9022922518717877,
            "bin_end": -0.45171981687015605,
            "count": 430
           },
           {
            "bin_start": -0.45171981687015605,
            "bin_end": -0.0011473818685243664,
            "count": 23
           },
           {
            "bin_start": -0.0011473818685243664,
            "bin_end": 0.4494250531331072,
            "count": 75
           },
           {
            "bin_start": 0.4494250531331072,
            "bin_end": 0.899997488134739,
            "count": 36
           },
           {
            "bin_start": 0.899997488134739,
            "bin_end": 1.3505699231363708,
            "count": 60
           },
           {
            "bin_start": 1.3505699231363708,
            "bin_end": 1.8011423581380022,
            "count": 56
           },
           {
            "bin_start": 1.8011423581380022,
            "bin_end": 2.2517147931396337,
            "count": 13
           },
           {
            "bin_start": 2.2517147931396337,
            "bin_end": 2.702287228141266,
            "count": 9
           },
           {
            "bin_start": 2.702287228141266,
            "bin_end": 3.1528596631428973,
            "count": 10
           },
           {
            "bin_start": 3.1528596631428973,
            "bin_end": 3.603432098144529,
            "count": 8
           }
          ]
         }
        },
        {
         "name": "MCO-Crypto.com",
         "dtype": "float64",
         "stats": {
          "unique_count": 720,
          "nan_count": 0,
          "min": "-1.039717076670962",
          "max": "6.508108018661847",
          "histogram": [
           {
            "bin_start": -1.039717076670962,
            "bin_end": -0.28493456713768106,
            "count": 389
           },
           {
            "bin_start": -0.28493456713768106,
            "bin_end": 0.4698479423955999,
            "count": 192
           },
           {
            "bin_start": 0.4698479423955999,
            "bin_end": 1.2246304519288809,
            "count": 86
           },
           {
            "bin_start": 1.2246304519288809,
            "bin_end": 1.9794129614621618,
            "count": 17
           },
           {
            "bin_start": 1.9794129614621618,
            "bin_end": 2.734195470995443,
            "count": 14
           },
           {
            "bin_start": 2.734195470995443,
            "bin_end": 3.4889779805287238,
            "count": 6
           },
           {
            "bin_start": 3.4889779805287238,
            "bin_end": 4.243760490062005,
            "count": 7
           },
           {
            "bin_start": 4.243760490062005,
            "bin_end": 4.998542999595285,
            "count": 3
           },
           {
            "bin_start": 4.998542999595285,
            "bin_end": 5.753325509128567,
            "count": 2
           },
           {
            "bin_start": 5.753325509128567,
            "bin_end": 6.508108018661847,
            "count": 4
           }
          ]
         }
        },
        {
         "name": "MONA-MonaCoin",
         "dtype": "float64",
         "stats": {
          "unique_count": 720,
          "nan_count": 0,
          "min": "-1.7049111848764147",
          "max": "4.823782016049201",
          "histogram": [
           {
            "bin_start": -1.7049111848764147,
            "bin_end": -1.0520418647838532,
            "count": 71
           },
           {
            "bin_start": -1.0520418647838532,
            "bin_end": -0.3991725446912917,
            "count": 227
           },
           {
            "bin_start": -0.3991725446912917,
            "bin_end": 0.2536967754012698,
            "count": 166
           },
           {
            "bin_start": 0.2536967754012698,
            "bin_end": 0.9065660954938313,
            "count": 148
           },
           {
            "bin_start": 0.9065660954938313,
            "bin_end": 1.5594354155863925,
            "count": 48
           },
           {
            "bin_start": 1.5594354155863925,
            "bin_end": 2.2123047356789542,
            "count": 36
           },
           {
            "bin_start": 2.2123047356789542,
            "bin_end": 2.865174055771516,
            "count": 11
           },
           {
            "bin_start": 2.865174055771516,
            "bin_end": 3.5180433758640772,
            "count": 11
           },
           {
            "bin_start": 3.5180433758640772,
            "bin_end": 4.1709126959566385,
            "count": 1
           },
           {
            "bin_start": 4.1709126959566385,
            "bin_end": 4.823782016049201,
            "count": 1
           }
          ]
         }
        },
        {
         "name": "NEX-Nash Exchange",
         "dtype": "float64",
         "stats": {
          "unique_count": 718,
          "nan_count": 0,
          "min": "-1.3759651290270318",
          "max": "5.152728748530771",
          "histogram": [
           {
            "bin_start": -1.3759651290270318,
            "bin_end": -0.7230957412712515,
            "count": 62
           },
           {
            "bin_start": -0.7230957412712515,
            "bin_end": -0.07022635351547124,
            "count": 431
           },
           {
            "bin_start": -0.07022635351547124,
            "bin_end": 0.582643034240309,
            "count": 141
           },
           {
            "bin_start": 0.582643034240309,
            "bin_end": 1.2355124219960893,
            "count": 25
           },
           {
            "bin_start": 1.2355124219960893,
            "bin_end": 1.8883818097518696,
            "count": 20
           },
           {
            "bin_start": 1.8883818097518696,
            "bin_end": 2.54125119750765,
            "count": 11
           },
           {
            "bin_start": 2.54125119750765,
            "bin_end": 3.1941205852634305,
            "count": 3
           },
           {
            "bin_start": 3.1941205852634305,
            "bin_end": 3.8469899730192108,
            "count": 8
           },
           {
            "bin_start": 3.8469899730192108,
            "bin_end": 4.499859360774991,
            "count": 17
           },
           {
            "bin_start": 4.499859360774991,
            "bin_end": 5.152728748530771,
            "count": 2
           }
          ]
         }
        },
        {
         "name": "NEXO-Nexo",
         "dtype": "float64",
         "stats": {
          "unique_count": 720,
          "nan_count": 0,
          "min": "-0.7278013316089773",
          "max": "3.0039787479123574",
          "histogram": [
           {
            "bin_start": -0.7278013316089773,
            "bin_end": -0.3546233236568438,
            "count": 441
           },
           {
            "bin_start": -0.3546233236568438,
            "bin_end": 0.018554684295289725,
            "count": 53
           },
           {
            "bin_start": 0.018554684295289725,
            "bin_end": 0.39173269224742335,
            "count": 5
           },
           {
            "bin_start": 0.39173269224742335,
            "bin_end": 0.7649107001995568,
            "count": 41
           },
           {
            "bin_start": 0.7649107001995568,
            "bin_end": 1.1380887081516902,
            "count": 75
           },
           {
            "bin_start": 1.1380887081516902,
            "bin_end": 1.511266716103824,
            "count": 31
           },
           {
            "bin_start": 1.511266716103824,
            "bin_end": 1.8844447240559574,
            "count": 29
           },
           {
            "bin_start": 1.8844447240559574,
            "bin_end": 2.257622732008091,
            "count": 10
           },
           {
            "bin_start": 2.257622732008091,
            "bin_end": 2.6308007399602245,
            "count": 12
           },
           {
            "bin_start": 2.6308007399602245,
            "bin_end": 3.0039787479123574,
            "count": 23
           }
          ]
         }
        },
        {
         "name": "NRG-Energi",
         "dtype": "float64",
         "stats": {
          "unique_count": 720,
          "nan_count": 0,
          "min": "-1.7039443308249314",
          "max": "3.50695225056907",
          "histogram": [
           {
            "bin_start": -1.7039443308249314,
            "bin_end": -1.1828546726855311,
            "count": 27
           },
           {
            "bin_start": -1.1828546726855311,
            "bin_end": -0.6617650145461311,
            "count": 193
           },
           {
            "bin_start": -0.6617650145461311,
            "bin_end": -0.14067535640673112,
            "count": 156
           },
           {
            "bin_start": -0.14067535640673112,
            "bin_end": 0.3804143017326691,
            "count": 140
           },
           {
            "bin_start": 0.3804143017326691,
            "bin_end": 0.9015039598720693,
            "count": 89
           },
           {
            "bin_start": 0.9015039598720693,
            "bin_end": 1.422593618011469,
            "count": 39
           },
           {
            "bin_start": 1.422593618011469,
            "bin_end": 1.9436832761508693,
            "count": 33
           },
           {
            "bin_start": 1.9436832761508693,
            "bin_end": 2.4647729342902696,
            "count": 20
           },
           {
            "bin_start": 2.4647729342902696,
            "bin_end": 2.9858625924296693,
            "count": 10
           },
           {
            "bin_start": 2.9858625924296693,
            "bin_end": 3.50695225056907,
            "count": 13
           }
          ]
         }
        },
        {
         "name": "PAI-Project Pai",
         "dtype": "float64",
         "stats": {
          "unique_count": 714,
          "nan_count": 0,
          "min": "-0.982398902263639",
          "max": "8.717317412394145",
          "histogram": [
           {
            "bin_start": -0.982398902263639,
            "bin_end": -0.012427270797860546,
            "count": 478
           },
           {
            "bin_start": -0.012427270797860546,
            "bin_end": 0.9575443606679179,
            "count": 186
           },
           {
            "bin_start": 0.9575443606679179,
            "bin_end": 1.9275159921336964,
            "count": 19
           },
           {
            "bin_start": 1.9275159921336964,
            "bin_end": 2.897487623599475,
            "count": 12
           },
           {
            "bin_start": 2.897487623599475,
            "bin_end": 3.8674592550652536,
            "count": 17
           },
           {
            "bin_start": 3.8674592550652536,
            "bin_end": 4.837430886531032,
            "count": 4
           },
           {
            "bin_start": 4.837430886531032,
            "bin_end": 5.8074025179968105,
            "count": 1
           },
           {
            "bin_start": 5.8074025179968105,
            "bin_end": 6.777374149462589,
            "count": 1
           },
           {
            "bin_start": 6.777374149462589,
            "bin_end": 7.7473457809283675,
            "count": 1
           },
           {
            "bin_start": 7.7473457809283675,
            "bin_end": 8.717317412394145,
            "count": 1
           }
          ]
         }
        },
        {
         "name": "QNT-Quant",
         "dtype": "float64",
         "stats": {
          "unique_count": 720,
          "nan_count": 0,
          "min": "-0.5559994825534312",
          "max": "6.822073292475625",
          "histogram": [
           {
            "bin_start": -0.5559994825534312,
            "bin_end": 0.1818077949494743,
            "count": 560
           },
           {
            "bin_start": 0.1818077949494743,
            "bin_end": 0.9196150724523798,
            "count": 103
           },
           {
            "bin_start": 0.9196150724523798,
            "bin_end": 1.6574223499552851,
            "count": 10
           },
           {
            "bin_start": 1.6574223499552851,
            "bin_end": 2.395229627458191,
            "count": 13
           },
           {
            "bin_start": 2.395229627458191,
            "bin_end": 3.1330369049610964,
            "count": 23
           },
           {
            "bin_start": 3.1330369049610964,
            "bin_end": 3.8708441824640016,
            "count": 2
           },
           {
            "bin_start": 3.8708441824640016,
            "bin_end": 4.608651459966908,
            "count": 0
           },
           {
            "bin_start": 4.608651459966908,
            "bin_end": 5.346458737469813,
            "count": 2
           },
           {
            "bin_start": 5.346458737469813,
            "bin_end": 6.084266014972719,
            "count": 3
           },
           {
            "bin_start": 6.084266014972719,
            "bin_end": 6.822073292475625,
            "count": 4
           }
          ]
         }
        },
        {
         "name": "REN-REN",
         "dtype": "float64",
         "stats": {
          "unique_count": 719,
          "nan_count": 0,
          "min": "-0.9501759692523614",
          "max": "4.118643201086865",
          "histogram": [
           {
            "bin_start": -0.9501759692523614,
            "bin_end": -0.44329405221843865,
            "count": 315
           },
           {
            "bin_start": -0.44329405221843865,
            "bin_end": 0.06358786481548406,
            "count": 164
           },
           {
            "bin_start": 0.06358786481548406,
            "bin_end": 0.5704697818494068,
            "count": 82
           },
           {
            "bin_start": 0.5704697818494068,
            "bin_end": 1.0773516988833296,
            "count": 44
           },
           {
            "bin_start": 1.0773516988833296,
            "bin_end": 1.584233615917252,
            "count": 33
           },
           {
            "bin_start": 1.584233615917252,
            "bin_end": 2.091115532951175,
            "count": 37
           },
           {
            "bin_start": 2.091115532951175,
            "bin_end": 2.597997449985098,
            "count": 38
           },
           {
            "bin_start": 2.597997449985098,
            "bin_end": 3.1048793670190205,
            "count": 4
           },
           {
            "bin_start": 3.1048793670190205,
            "bin_end": 3.611761284052943,
            "count": 2
           },
           {
            "bin_start": 3.611761284052943,
            "bin_end": 4.118643201086865,
            "count": 1
           }
          ]
         }
        },
        {
         "name": "RIF-RIF Token",
         "dtype": "float64",
         "stats": {
          "unique_count": 715,
          "nan_count": 0,
          "min": "-1.1532605085471552",
          "max": "3.4869544347394372",
          "histogram": [
           {
            "bin_start": -1.1532605085471552,
            "bin_end": -0.689239014218496,
            "count": 159
           },
           {
            "bin_start": -0.689239014218496,
            "bin_end": -0.22521751988983674,
            "count": 289
           },
           {
            "bin_start": -0.22521751988983674,
            "bin_end": 0.23880397443882262,
            "count": 41
           },
           {
            "bin_start": 0.23880397443882262,
            "bin_end": 0.7028254687674818,
            "count": 77
           },
           {
            "bin_start": 0.7028254687674818,
            "bin_end": 1.1668469630961409,
            "count": 41
           },
           {
            "bin_start": 1.1668469630961409,
            "bin_end": 1.6308684574248005,
            "count": 38
           },
           {
            "bin_start": 1.6308684574248005,
            "bin_end": 2.0948899517534594,
            "count": 29
           },
           {
            "bin_start": 2.0948899517534594,
            "bin_end": 2.558911446082119,
            "count": 39
           },
           {
            "bin_start": 2.558911446082119,
            "bin_end": 3.0229329404107785,
            "count": 5
           },
           {
            "bin_start": 3.0229329404107785,
            "bin_end": 3.4869544347394372,
            "count": 2
           }
          ]
         }
        },
        {
         "name": "SC-Siacoin",
         "dtype": "float64",
         "stats": {
          "unique_count": 678,
          "nan_count": 0,
          "min": "-0.7233128714997399",
          "max": "4.827385271862868",
          "histogram": [
           {
            "bin_start": -0.7233128714997399,
            "bin_end": -0.1682430571634791,
            "count": 492
           },
           {
            "bin_start": -0.1682430571634791,
            "bin_end": 0.3868267571727817,
            "count": 47
           },
           {
            "bin_start": 0.3868267571727817,
            "bin_end": 0.9418965715090426,
            "count": 64
           },
           {
            "bin_start": 0.9418965715090426,
            "bin_end": 1.4969663858453033,
            "count": 56
           },
           {
            "bin_start": 1.4969663858453033,
            "bin_end": 2.052036200181564,
            "count": 18
           },
           {
            "bin_start": 2.052036200181564,
            "bin_end": 2.607106014517825,
            "count": 16
           },
           {
            "bin_start": 2.607106014517825,
            "bin_end": 3.1621758288540858,
            "count": 10
           },
           {
            "bin_start": 3.1621758288540858,
            "bin_end": 3.7172456431903464,
            "count": 13
           },
           {
            "bin_start": 3.7172456431903464,
            "bin_end": 4.272315457526608,
            "count": 1
           },
           {
            "bin_start": 4.272315457526608,
            "bin_end": 4.827385271862868,
            "count": 3
           }
          ]
         }
        },
        {
         "name": "SNT-Status",
         "dtype": "float64",
         "stats": {
          "unique_count": 716,
          "nan_count": 0,
          "min": "-0.859279591157143",
          "max": "5.090797994702112",
          "histogram": [
           {
            "bin_start": -0.859279591157143,
            "bin_end": -0.26427183257121756,
            "count": 438
           },
           {
            "bin_start": -0.26427183257121756,
            "bin_end": 0.3307359260147079,
            "count": 86
           },
           {
            "bin_start": 0.3307359260147079,
            "bin_end": 0.9257436846006334,
            "count": 82
           },
           {
            "bin_start": 0.9257436846006334,
            "bin_end": 1.5207514431865587,
            "count": 62
           },
           {
            "bin_start": 1.5207514431865587,
            "bin_end": 2.115759201772484,
            "count": 10
           },
           {
            "bin_start": 2.115759201772484,
            "bin_end": 2.7107669603584097,
            "count": 17
           },
           {
            "bin_start": 2.7107669603584097,
            "bin_end": 3.305774718944335,
            "count": 16
           },
           {
            "bin_start": 3.305774718944335,
            "bin_end": 3.9007824775302606,
            "count": 5
           },
           {
            "bin_start": 3.9007824775302606,
            "bin_end": 4.4957902361161866,
            "count": 2
           },
           {
            "bin_start": 4.4957902361161866,
            "bin_end": 5.090797994702112,
            "count": 2
           }
          ]
         }
        },
        {
         "name": "SOLVE-SOLVE",
         "dtype": "float64",
         "stats": {
          "unique_count": 718,
          "nan_count": 0,
          "min": "-1.1659925485225242",
          "max": "5.191136606077549",
          "histogram": [
           {
            "bin_start": -1.1659925485225242,
            "bin_end": -0.5302796330625168,
            "count": 153
           },
           {
            "bin_start": -0.5302796330625168,
            "bin_end": 0.10543328239749061,
            "count": 383
           },
           {
            "bin_start": 0.10543328239749061,
            "bin_end": 0.741146197857498,
            "count": 87
           },
           {
            "bin_start": 0.741146197857498,
            "bin_end": 1.3768591133175054,
            "count": 34
           },
           {
            "bin_start": 1.3768591133175054,
            "bin_end": 2.0125720287775124,
            "count": 17
           },
           {
            "bin_start": 2.0125720287775124,
            "bin_end": 2.6482849442375205,
            "count": 22
           },
           {
            "bin_start": 2.6482849442375205,
            "bin_end": 3.2839978596975277,
            "count": 6
           },
           {
            "bin_start": 3.2839978596975277,
            "bin_end": 3.919710775157535,
            "count": 11
           },
           {
            "bin_start": 3.919710775157535,
            "bin_end": 4.555423690617542,
            "count": 4
           },
           {
            "bin_start": 4.555423690617542,
            "bin_end": 5.191136606077549,
            "count": 3
           }
          ]
         }
        },
        {
         "name": "STEEM-Steem",
         "dtype": "float64",
         "stats": {
          "unique_count": 720,
          "nan_count": 0,
          "min": "-0.7570248963636838",
          "max": "4.266177565834583",
          "histogram": [
           {
            "bin_start": -0.7570248963636838,
            "bin_end": -0.2547046501438571,
            "count": 498
           },
           {
            "bin_start": -0.2547046501438571,
            "bin_end": 0.2476155960759695,
            "count": 35
           },
           {
            "bin_start": 0.2476155960759695,
            "bin_end": 0.7499358422957961,
            "count": 65
           },
           {
            "bin_start": 0.7499358422957961,
            "bin_end": 1.2522560885156229,
            "count": 52
           },
           {
            "bin_start": 1.2522560885156229,
            "bin_end": 1.7545763347354497,
            "count": 18
           },
           {
            "bin_start": 1.7545763347354497,
            "bin_end": 2.256896580955276,
            "count": 13
           },
           {
            "bin_start": 2.256896580955276,
            "bin_end": 2.7592168271751025,
            "count": 12
           },
           {
            "bin_start": 2.7592168271751025,
            "bin_end": 3.2615370733949294,
            "count": 9
           },
           {
            "bin_start": 3.2615370733949294,
            "bin_end": 3.7638573196147562,
            "count": 9
           },
           {
            "bin_start": 3.7638573196147562,
            "bin_end": 4.266177565834583,
            "count": 9
           }
          ]
         }
        },
        {
         "name": "STRAX-Stratis",
         "dtype": "float64",
         "stats": {
          "unique_count": 719,
          "nan_count": 0,
          "min": "-0.8408759246396842",
          "max": "4.671335733947442",
          "histogram": [
           {
            "bin_start": -0.8408759246396842,
            "bin_end": -0.28965475878097147,
            "count": 460
           },
           {
            "bin_start": -0.28965475878097147,
            "bin_end": 0.26156640707774126,
            "count": 113
           },
           {
            "bin_start": 0.26156640707774126,
            "bin_end": 0.812787572936454,
            "count": 22
           },
           {
            "bin_start": 0.812787572936454,
            "bin_end": 1.3640087387951667,
            "count": 35
           },
           {
            "bin_start": 1.3640087387951667,
            "bin_end": 1.9152299046538792,
            "count": 34
           },
           {
            "bin_start": 1.9152299046538792,
            "bin_end": 2.4664510705125924,
            "count": 23
           },
           {
            "bin_start": 2.4664510705125924,
            "bin_end": 3.017672236371305,
            "count": 13
           },
           {
            "bin_start": 3.017672236371305,
            "bin_end": 3.5688934022300174,
            "count": 12
           },
           {
            "bin_start": 3.5688934022300174,
            "bin_end": 4.12011456808873,
            "count": 6
           },
           {
            "bin_start": 4.12011456808873,
            "bin_end": 4.671335733947442,
            "count": 2
           }
          ]
         }
        },
        {
         "name": "THETA-Theta Token",
         "dtype": "float64",
         "stats": {
          "unique_count": 719,
          "nan_count": 0,
          "min": "-0.6977666998925016",
          "max": "3.2077733222936335",
          "histogram": [
           {
            "bin_start": -0.6977666998925016,
            "bin_end": -0.30721269767388815,
            "count": 460
           },
           {
            "bin_start": -0.30721269767388815,
            "bin_end": 0.08334130454472533,
            "count": 46
           },
           {
            "bin_start": 0.08334130454472533,
            "bin_end": 0.4738953067633387,
            "count": 25
           },
           {
            "bin_start": 0.4738953067633387,
            "bin_end": 0.8644493089819523,
            "count": 17
           },
           {
            "bin_start": 0.8644493089819523,
            "bin_end": 1.2550033112005659,
            "count": 75
           },
           {
            "bin_start": 1.2550033112005659,
            "bin_end": 1.645557313419179,
            "count": 22
           },
           {
            "bin_start": 1.645557313419179,
            "bin_end": 2.0361113156377924,
            "count": 29
           },
           {
            "bin_start": 2.0361113156377924,
            "bin_end": 2.426665317856406,
            "count": 18
           },
           {
            "bin_start": 2.426665317856406,
            "bin_end": 2.8172193200750195,
            "count": 23
           },
           {
            "bin_start": 2.8172193200750195,
            "bin_end": 3.2077733222936335,
            "count": 5
           }
          ]
         }
        },
        {
         "name": "UUU-U Network",
         "dtype": "float64",
         "stats": {
          "unique_count": 541,
          "nan_count": 0,
          "min": "-1.2478826839158677",
          "max": "4.571588612694519",
          "histogram": [
           {
            "bin_start": -1.2478826839158677,
            "bin_end": -0.665935554254829,
            "count": 217
           },
           {
            "bin_start": -0.665935554254829,
            "bin_end": -0.0839884245937903,
            "count": 156
           },
           {
            "bin_start": -0.0839884245937903,
            "bin_end": 0.49795870506724826,
            "count": 201
           },
           {
            "bin_start": 0.49795870506724826,
            "bin_end": 1.079905834728287,
            "count": 64
           },
           {
            "bin_start": 1.079905834728287,
            "bin_end": 1.6618529643893258,
            "count": 27
           },
           {
            "bin_start": 1.6618529643893258,
            "bin_end": 2.243800094050364,
            "count": 19
           },
           {
            "bin_start": 2.243800094050364,
            "bin_end": 2.825747223711403,
            "count": 15
           },
           {
            "bin_start": 2.825747223711403,
            "bin_end": 3.4076943533724418,
            "count": 16
           },
           {
            "bin_start": 3.4076943533724418,
            "bin_end": 3.9896414830334805,
            "count": 4
           },
           {
            "bin_start": 3.9896414830334805,
            "bin_end": 4.571588612694519,
            "count": 1
           }
          ]
         }
        },
        {
         "name": "XMX-XMAX",
         "dtype": "float64",
         "stats": {
          "unique_count": 594,
          "nan_count": 0,
          "min": "-1.0462272508097896",
          "max": "3.45931148752389",
          "histogram": [
           {
            "bin_start": -1.0462272508097896,
            "bin_end": -0.5956733769764216,
            "count": 231
           },
           {
            "bin_start": -0.5956733769764216,
            "bin_end": -0.14511950314305366,
            "count": 203
           },
           {
            "bin_start": -0.14511950314305366,
            "bin_end": 0.3054343706903142,
            "count": 103
           },
           {
            "bin_start": 0.3054343706903142,
            "bin_end": 0.7559882445236823,
            "count": 50
           },
           {
            "bin_start": 0.7559882445236823,
            "bin_end": 1.2065421183570504,
            "count": 49
           },
           {
            "bin_start": 1.2065421183570504,
            "bin_end": 1.657095992190418,
            "count": 18
           },
           {
            "bin_start": 1.657095992190418,
            "bin_end": 2.1076498660237863,
            "count": 8
           },
           {
            "bin_start": 2.1076498660237863,
            "bin_end": 2.558203739857154,
            "count": 26
           },
           {
            "bin_start": 2.558203739857154,
            "bin_end": 3.0087576136905216,
            "count": 26
           },
           {
            "bin_start": 3.0087576136905216,
            "bin_end": 3.45931148752389,
            "count": 6
           }
          ]
         }
        },
        {
         "name": "XVG-Verge",
         "dtype": "float64",
         "stats": {
          "unique_count": 702,
          "nan_count": 0,
          "min": "-0.809571973236068",
          "max": "3.9871912655367283",
          "histogram": [
           {
            "bin_start": -0.809571973236068,
            "bin_end": -0.32989564935878835,
            "count": 462
           },
           {
            "bin_start": -0.32989564935878835,
            "bin_end": 0.1497806745184913,
            "count": 29
           },
           {
            "bin_start": 0.1497806745184913,
            "bin_end": 0.629456998395771,
            "count": 56
           },
           {
            "bin_start": 0.629456998395771,
            "bin_end": 1.1091333222730506,
            "count": 79
           },
           {
            "bin_start": 1.1091333222730506,
            "bin_end": 1.5888096461503303,
            "count": 40
           },
           {
            "bin_start": 1.5888096461503303,
            "bin_end": 2.06848597002761,
            "count": 10
           },
           {
            "bin_start": 2.06848597002761,
            "bin_end": 2.5481622939048894,
            "count": 19
           },
           {
            "bin_start": 2.5481622939048894,
            "bin_end": 3.0278386177821695,
            "count": 11
           },
           {
            "bin_start": 3.0278386177821695,
            "bin_end": 3.5075149416594495,
            "count": 6
           },
           {
            "bin_start": 3.5075149416594495,
            "bin_end": 3.9871912655367283,
            "count": 8
           }
          ]
         }
        },
        {
         "name": "XZC-Zcoin",
         "dtype": "float64",
         "stats": {
          "unique_count": 720,
          "nan_count": 0,
          "min": "-1.1826606893627956",
          "max": "5.9521058087019565",
          "histogram": [
           {
            "bin_start": -1.1826606893627956,
            "bin_end": -0.4691840395563204,
            "count": 261
           },
           {
            "bin_start": -0.4691840395563204,
            "bin_end": 0.2442926102501548,
            "count": 246
           },
           {
            "bin_start": 0.2442926102501548,
            "bin_end": 0.9577692600566299,
            "count": 126
           },
           {
            "bin_start": 0.9577692600566299,
            "bin_end": 1.6712459098631052,
            "count": 44
           },
           {
            "bin_start": 1.6712459098631052,
            "bin_end": 2.3847225596695805,
            "count": 12
           },
           {
            "bin_start": 2.3847225596695805,
            "bin_end": 3.0981992094760553,
            "count": 17
           },
           {
            "bin_start": 3.0981992094760553,
            "bin_end": 3.8116758592825306,
            "count": 6
           },
           {
            "bin_start": 3.8116758592825306,
            "bin_end": 4.525152509089006,
            "count": 3
           },
           {
            "bin_start": 4.525152509089006,
            "bin_end": 5.238629158895481,
            "count": 3
           },
           {
            "bin_start": 5.238629158895481,
            "bin_end": 5.9521058087019565,
            "count": 2
           }
          ]
         }
        },
        {
         "name": "ZIL-Zilliqa",
         "dtype": "float64",
         "stats": {
          "unique_count": 714,
          "nan_count": 0,
          "min": "-0.8208635057675656",
          "max": "3.0932196125895697",
          "histogram": [
           {
            "bin_start": -0.8208635057675656,
            "bin_end": -0.42945519393185205,
            "count": 428
           },
           {
            "bin_start": -0.42945519393185205,
            "bin_end": -0.03804688209613849,
            "count": 26
           },
           {
            "bin_start": -0.03804688209613849,
            "bin_end": 0.3533614297395752,
            "count": 43
           },
           {
            "bin_start": 0.3533614297395752,
            "bin_end": 0.7447697415752886,
            "count": 58
           },
           {
            "bin_start": 0.7447697415752886,
            "bin_end": 1.136178053411002,
            "count": 71
           },
           {
            "bin_start": 1.136178053411002,
            "bin_end": 1.5275863652467159,
            "count": 23
           },
           {
            "bin_start": 1.5275863652467159,
            "bin_end": 1.9189946770824293,
            "count": 14
           },
           {
            "bin_start": 1.9189946770824293,
            "bin_end": 2.3104029889181428,
            "count": 23
           },
           {
            "bin_start": 2.3104029889181428,
            "bin_end": 2.7018113007538562,
            "count": 21
           },
           {
            "bin_start": 2.7018113007538562,
            "bin_end": 3.0932196125895697,
            "count": 13
           }
          ]
         }
        },
        {
         "name": "AION-Aion",
         "dtype": "float64",
         "stats": {
          "unique_count": 718,
          "nan_count": 0,
          "min": "-0.9167956123035655",
          "max": "4.804293993821615",
          "histogram": [
           {
            "bin_start": -0.9167956123035655,
            "bin_end": -0.3446866516910475,
            "count": 363
           },
           {
            "bin_start": -0.3446866516910475,
            "bin_end": 0.22742230892147053,
            "count": 187
           },
           {
            "bin_start": 0.22742230892147053,
            "bin_end": 0.7995312695339886,
            "count": 72
           },
           {
            "bin_start": 0.7995312695339886,
            "bin_end": 1.3716402301465065,
            "count": 34
           },
           {
            "bin_start": 1.3716402301465065,
            "bin_end": 1.9437491907590245,
            "count": 17
           },
           {
            "bin_start": 1.9437491907590245,
            "bin_end": 2.5158581513715426,
            "count": 13
           },
           {
            "bin_start": 2.5158581513715426,
            "bin_end": 3.087967111984061,
            "count": 16
           },
           {
            "bin_start": 3.087967111984061,
            "bin_end": 3.6600760725965786,
            "count": 8
           },
           {
            "bin_start": 3.6600760725965786,
            "bin_end": 4.232185033209096,
            "count": 7
           },
           {
            "bin_start": 4.232185033209096,
            "bin_end": 4.804293993821615,
            "count": 3
           }
          ]
         }
        },
        {
         "name": "ARK-Ark",
         "dtype": "float64",
         "stats": {
          "unique_count": 719,
          "nan_count": 0,
          "min": "-0.8700920024456081",
          "max": "3.9310854656364107",
          "histogram": [
           {
            "bin_start": -0.8700920024456081,
            "bin_end": -0.3899742556374063,
            "count": 399
           },
           {
            "bin_start": -0.3899742556374063,
            "bin_end": 0.09014349117079556,
            "count": 106
           },
           {
            "bin_start": 0.09014349117079556,
            "bin_end": 0.5702612379789974,
            "count": 39
           },
           {
            "bin_start": 0.5702612379789974,
            "bin_end": 1.0503789847871992,
            "count": 58
           },
           {
            "bin_start": 1.0503789847871992,
            "bin_end": 1.530496731595401,
            "count": 55
           },
           {
            "bin_start": 1.530496731595401,
            "bin_end": 2.010614478403603,
            "count": 22
           },
           {
            "bin_start": 2.010614478403603,
            "bin_end": 2.4907322252118047,
            "count": 17
           },
           {
            "bin_start": 2.4907322252118047,
            "bin_end": 2.9708499720200066,
            "count": 8
           },
           {
            "bin_start": 2.9708499720200066,
            "bin_end": 3.4509677188282084,
            "count": 10
           },
           {
            "bin_start": 3.4509677188282084,
            "bin_end": 3.9310854656364107,
            "count": 6
           }
          ]
         }
        },
        {
         "name": "BEAM-BEAM",
         "dtype": "float64",
         "stats": {
          "unique_count": 719,
          "nan_count": 0,
          "min": "-1.1638158102559055",
          "max": "4.458341202726215",
          "histogram": [
           {
            "bin_start": -1.1638158102559055,
            "bin_end": -0.6016001089576934,
            "count": 228
           },
           {
            "bin_start": -0.6016001089576934,
            "bin_end": -0.03938440765948137,
            "count": 189
           },
           {
            "bin_start": -0.03938440765948137,
            "bin_end": 0.5228312936387307,
            "count": 157
           },
           {
            "bin_start": 0.5228312936387307,
            "bin_end": 1.0850469949369428,
            "count": 69
           },
           {
            "bin_start": 1.0850469949369428,
            "bin_end": 1.6472626962351549,
            "count": 20
           },
           {
            "bin_start": 1.6472626962351549,
            "bin_end": 2.209478397533367,
            "count": 14
           },
           {
            "bin_start": 2.209478397533367,
            "bin_end": 2.771694098831579,
            "count": 17
           },
           {
            "bin_start": 2.771694098831579,
            "bin_end": 3.333909800129791,
            "count": 19
           },
           {
            "bin_start": 3.333909800129791,
            "bin_end": 3.8961255014280036,
            "count": 6
           },
           {
            "bin_start": 3.8961255014280036,
            "bin_end": 4.458341202726215,
            "count": 1
           }
          ]
         }
        },
        {
         "name": "BIX-Bibox Token",
         "dtype": "float64",
         "stats": {
          "unique_count": 714,
          "nan_count": 0,
          "min": "-1.210548062002278",
          "max": "5.658268635839501",
          "histogram": [
           {
            "bin_start": -1.210548062002278,
            "bin_end": -0.5236663922181001,
            "count": 234
           },
           {
            "bin_start": -0.5236663922181001,
            "bin_end": 0.1632152775660778,
            "count": 278
           },
           {
            "bin_start": 0.1632152775660778,
            "bin_end": 0.8500969473502555,
            "count": 73
           },
           {
            "bin_start": 0.8500969473502555,
            "bin_end": 1.5369786171344335,
            "count": 79
           },
           {
            "bin_start": 1.5369786171344335,
            "bin_end": 2.2238602869186117,
            "count": 29
           },
           {
            "bin_start": 2.2238602869186117,
            "bin_end": 2.910741956702789,
            "count": 17
           },
           {
            "bin_start": 2.910741956702789,
            "bin_end": 3.5976236264869668,
            "count": 7
           },
           {
            "bin_start": 3.5976236264869668,
            "bin_end": 4.284505296271145,
            "count": 1
           },
           {
            "bin_start": 4.284505296271145,
            "bin_end": 4.971386966055323,
            "count": 0
           },
           {
            "bin_start": 4.971386966055323,
            "bin_end": 5.658268635839501,
            "count": 2
           }
          ]
         }
        },
        {
         "name": "BNT-Bancor",
         "dtype": "float64",
         "stats": {
          "unique_count": 720,
          "nan_count": 0,
          "min": "-0.8586303049233618",
          "max": "3.073413763376744",
          "histogram": [
           {
            "bin_start": -0.8586303049233618,
            "bin_end": -0.4654258980933512,
            "count": 341
           },
           {
            "bin_start": -0.4654258980933512,
            "bin_end": -0.07222149126334065,
            "count": 135
           },
           {
            "bin_start": -0.07222149126334065,
            "bin_end": 0.32098291556667,
            "count": 35
           },
           {
            "bin_start": 0.32098291556667,
            "bin_end": 0.7141873223966805,
            "count": 51
           },
           {
            "bin_start": 0.7141873223966805,
            "bin_end": 1.1073917292266908,
            "count": 57
           },
           {
            "bin_start": 1.1073917292266908,
            "bin_end": 1.5005961360567017,
            "count": 20
           },
           {
            "bin_start": 1.5005961360567017,
            "bin_end": 1.8938005428867122,
            "count": 9
           },
           {
            "bin_start": 1.8938005428867122,
            "bin_end": 2.2870049497167226,
            "count": 31
           },
           {
            "bin_start": 2.2870049497167226,
            "bin_end": 2.680209356546733,
            "count": 35
           },
           {
            "bin_start": 2.680209356546733,
            "bin_end": 3.073413763376744,
            "count": 6
           }
          ]
         }
        },
        {
         "name": "CELR-Celer Network",
         "dtype": "float64",
         "stats": {
          "unique_count": 693,
          "nan_count": 0,
          "min": "-0.7393161056763844",
          "max": "3.5773141751174395",
          "histogram": [
           {
            "bin_start": -0.7393161056763844,
            "bin_end": -0.307653077597002,
            "count": 476
           },
           {
            "bin_start": -0.307653077597002,
            "bin_end": 0.1240099504823804,
            "count": 37
           },
           {
            "bin_start": 0.1240099504823804,
            "bin_end": 0.5556729785617629,
            "count": 43
           },
           {
            "bin_start": 0.5556729785617629,
            "bin_end": 0.9873360066411452,
            "count": 41
           },
           {
            "bin_start": 0.9873360066411452,
            "bin_end": 1.4189990347205275,
            "count": 31
           },
           {
            "bin_start": 1.4189990347205275,
            "bin_end": 1.8506620627999102,
            "count": 30
           },
           {
            "bin_start": 1.8506620627999102,
            "bin_end": 2.2823250908792927,
            "count": 25
           },
           {
            "bin_start": 2.2823250908792927,
            "bin_end": 2.7139881189586745,
            "count": 19
           },
           {
            "bin_start": 2.7139881189586745,
            "bin_end": 3.1456511470380573,
            "count": 12
           },
           {
            "bin_start": 3.1456511470380573,
            "bin_end": 3.5773141751174395,
            "count": 6
           }
          ]
         }
        },
        {
         "name": "CMT-CyberMiles",
         "dtype": "float64",
         "stats": {
          "unique_count": 709,
          "nan_count": 0,
          "min": "-1.250287850689042",
          "max": "4.593275966644611",
          "histogram": [
           {
            "bin_start": -1.250287850689042,
            "bin_end": -0.6659314689556768,
            "count": 179
           },
           {
            "bin_start": -0.6659314689556768,
            "bin_end": -0.08157508722231155,
            "count": 257
           },
           {
            "bin_start": -0.08157508722231155,
            "bin_end": 0.5027812945110537,
            "count": 149
           },
           {
            "bin_start": 0.5027812945110537,
            "bin_end": 1.087137676244419,
            "count": 66
           },
           {
            "bin_start": 1.087137676244419,
            "bin_end": 1.6714940579777844,
            "count": 15
           },
           {
            "bin_start": 1.6714940579777844,
            "bin_end": 2.2558504397111494,
            "count": 15
           },
           {
            "bin_start": 2.2558504397111494,
            "bin_end": 2.8402068214445144,
            "count": 17
           },
           {
            "bin_start": 2.8402068214445144,
            "bin_end": 3.42456320317788,
            "count": 8
           },
           {
            "bin_start": 3.42456320317788,
            "bin_end": 4.008919584911245,
            "count": 7
           },
           {
            "bin_start": 4.008919584911245,
            "bin_end": 4.593275966644611,
            "count": 7
           }
          ]
         }
        },
        {
         "name": "DENT-Dent",
         "dtype": "float64",
         "stats": {
          "unique_count": 412,
          "nan_count": 0,
          "min": "-0.5258015117315459",
          "max": "5.540905315314033",
          "histogram": [
           {
            "bin_start": -0.5258015117315459,
            "bin_end": 0.08086917097301194,
            "count": 538
           },
           {
            "bin_start": 0.08086917097301194,
            "bin_end": 0.6875398536775698,
            "count": 82
           },
           {
            "bin_start": 0.6875398536775698,
            "bin_end": 1.2942105363821277,
            "count": 19
           },
           {
            "bin_start": 1.2942105363821277,
            "bin_end": 1.9008812190866853,
            "count": 32
           },
           {
            "bin_start": 1.9008812190866853,
            "bin_end": 2.5075519017912433,
            "count": 14
           },
           {
            "bin_start": 2.5075519017912433,
            "bin_end": 3.114222584495801,
            "count": 18
           },
           {
            "bin_start": 3.114222584495801,
            "bin_end": 3.7208932672003585,
            "count": 6
           },
           {
            "bin_start": 3.7208932672003585,
            "bin_end": 4.327563949904917,
            "count": 6
           },
           {
            "bin_start": 4.327563949904917,
            "bin_end": 4.934234632609475,
            "count": 4
           },
           {
            "bin_start": 4.934234632609475,
            "bin_end": 5.540905315314033,
            "count": 1
           }
          ]
         }
        },
        {
         "name": "DGD-DigixDAO",
         "dtype": "float64",
         "stats": {
          "unique_count": 720,
          "nan_count": 0,
          "min": "-0.8566502552707222",
          "max": "2.9808592116593613",
          "histogram": [
           {
            "bin_start": -0.8566502552707222,
            "bin_end": -0.4728993085777139,
            "count": 418
           },
           {
            "bin_start": -0.4728993085777139,
            "bin_end": -0.08914836188470554,
            "count": 48
           },
           {
            "bin_start": -0.08914836188470554,
            "bin_end": 0.2946025848083027,
            "count": 20
           },
           {
            "bin_start": 0.2946025848083027,
            "bin_end": 0.6783535315013112,
            "count": 34
           },
           {
            "bin_start": 0.6783535315013112,
            "bin_end": 1.0621044781943196,
            "count": 63
           },
           {
            "bin_start": 1.0621044781943196,
            "bin_end": 1.4458554248873277,
            "count": 53
           },
           {
            "bin_start": 1.4458554248873277,
            "bin_end": 1.8296063715803361,
            "count": 28
           },
           {
            "bin_start": 1.8296063715803361,
            "bin_end": 2.213357318273345,
            "count": 31
           },
           {
            "bin_start": 2.213357318273345,
            "bin_end": 2.5971082649663533,
            "count": 14
           },
           {
            "bin_start": 2.5971082649663533,
            "bin_end": 2.9808592116593613,
            "count": 11
           }
          ]
         }
        },
        {
         "name": "ELA-Elastos",
         "dtype": "float64",
         "stats": {
          "unique_count": 720,
          "nan_count": 0,
          "min": "-0.8394130585556614",
          "max": "5.217721023413586",
          "histogram": [
           {
            "bin_start": -0.8394130585556614,
            "bin_end": -0.23369965035873674,
            "count": 442
           },
           {
            "bin_start": -0.23369965035873674,
            "bin_end": 0.3720137578381879,
            "count": 138
           },
           {
            "bin_start": 0.3720137578381879,
            "bin_end": 0.9777271660351126,
            "count": 74
           },
           {
            "bin_start": 0.9777271660351126,
            "bin_end": 1.5834405742320372,
            "count": 7
           },
           {
            "bin_start": 1.5834405742320372,
            "bin_end": 2.1891539824289623,
            "count": 18
           },
           {
            "bin_start": 2.1891539824289623,
            "bin_end": 2.7948673906258863,
            "count": 14
           },
           {
            "bin_start": 2.7948673906258863,
            "bin_end": 3.400580798822811,
            "count": 11
           },
           {
            "bin_start": 3.400580798822811,
            "bin_end": 4.006294207019736,
            "count": 7
           },
           {
            "bin_start": 4.006294207019736,
            "bin_end": 4.612007615216661,
            "count": 7
           },
           {
            "bin_start": 4.612007615216661,
            "bin_end": 5.217721023413586,
            "count": 2
           }
          ]
         }
        },
        {
         "name": "ENG-Enigma",
         "dtype": "float64",
         "stats": {
          "unique_count": 720,
          "nan_count": 0,
          "min": "-1.053789886731258",
          "max": "4.341892166359656",
          "histogram": [
           {
            "bin_start": -1.053789886731258,
            "bin_end": -0.5142216814221666,
            "count": 260
           },
           {
            "bin_start": -0.5142216814221666,
            "bin_end": 0.02534652388692482,
            "count": 214
           },
           {
            "bin_start": 0.02534652388692482,
            "bin_end": 0.5649147291960162,
            "count": 95
           },
           {
            "bin_start": 0.5649147291960162,
            "bin_end": 1.1044829345051077,
            "count": 59
           },
           {
            "bin_start": 1.1044829345051077,
            "bin_end": 1.6440511398141993,
            "count": 33
           },
           {
            "bin_start": 1.6440511398141993,
            "bin_end": 2.18361934512329,
            "count": 19
           },
           {
            "bin_start": 2.18361934512329,
            "bin_end": 2.7231875504323817,
            "count": 25
           },
           {
            "bin_start": 2.7231875504323817,
            "bin_end": 3.2627557557414733,
            "count": 3
           },
           {
            "bin_start": 3.2627557557414733,
            "bin_end": 3.802323961050565,
            "count": 7
           },
           {
            "bin_start": 3.802323961050565,
            "bin_end": 4.341892166359656,
            "count": 5
           }
          ]
         }
        },
        {
         "name": "ETN-Electroneum",
         "dtype": "float64",
         "stats": {
          "unique_count": 680,
          "nan_count": 0,
          "min": "-0.9225438583133655",
          "max": "4.8885236816651885",
          "histogram": [
           {
            "bin_start": -0.9225438583133655,
            "bin_end": -0.3414371043155101,
            "count": 398
           },
           {
            "bin_start": -0.3414371043155101,
            "bin_end": 0.23966964968234528,
            "count": 166
           },
           {
            "bin_start": 0.23966964968234528,
            "bin_end": 0.8207764036802007,
            "count": 44
           },
           {
            "bin_start": 0.8207764036802007,
            "bin_end": 1.4018831576780562,
            "count": 37
           },
           {
            "bin_start": 1.4018831576780562,
            "bin_end": 1.9829899116759115,
            "count": 29
           },
           {
            "bin_start": 1.9829899116759115,
            "bin_end": 2.564096665673767,
            "count": 16
           },
           {
            "bin_start": 2.564096665673767,
            "bin_end": 3.1452034196716223,
            "count": 13
           },
           {
            "bin_start": 3.1452034196716223,
            "bin_end": 3.7263101736694777,
            "count": 6
           },
           {
            "bin_start": 3.7263101736694777,
            "bin_end": 4.307416927667333,
            "count": 8
           },
           {
            "bin_start": 4.307416927667333,
            "bin_end": 4.8885236816651885,
            "count": 3
           }
          ]
         }
        },
        {
         "name": "FSN-Fusion",
         "dtype": "float64",
         "stats": {
          "unique_count": 720,
          "nan_count": 0,
          "min": "-1.241521568277202",
          "max": "4.184122343676619",
          "histogram": [
           {
            "bin_start": -1.241521568277202,
            "bin_end": -0.6989571770818199,
            "count": 209
           },
           {
            "bin_start": -0.6989571770818199,
            "bin_end": -0.1563927858864378,
            "count": 181
           },
           {
            "bin_start": -0.1563927858864378,
            "bin_end": 0.38617160530894434,
            "count": 137
           },
           {
            "bin_start": 0.38617160530894434,
            "bin_end": 0.9287359965043265,
            "count": 70
           },
           {
            "bin_start": 0.9287359965043265,
            "bin_end": 1.4713003876997088,
            "count": 41
           },
           {
            "bin_start": 1.4713003876997088,
            "bin_end": 2.0138647788950905,
            "count": 42
           },
           {
            "bin_start": 2.0138647788950905,
            "bin_end": 2.556429170090473,
            "count": 26
           },
           {
            "bin_start": 2.556429170090473,
            "bin_end": 3.0989935612858552,
            "count": 10
           },
           {
            "bin_start": 3.0989935612858552,
            "bin_end": 3.6415579524812376,
            "count": 2
           },
           {
            "bin_start": 3.6415579524812376,
            "bin_end": 4.184122343676619,
            "count": 2
           }
          ]
         }
        },
        {
         "name": "FTM-Fantom",
         "dtype": "float64",
         "stats": {
          "unique_count": 714,
          "nan_count": 0,
          "min": "-0.5781892014903136",
          "max": "6.204263428272388",
          "histogram": [
           {
            "bin_start": -0.5781892014903136,
            "bin_end": 0.10005606148595658,
            "count": 507
           },
           {
            "bin_start": 0.10005606148595658,
            "bin_end": 0.7783013244622268,
            "count": 89
           },
           {
            "bin_start": 0.7783013244622268,
            "bin_end": 1.456546587438497,
            "count": 74
           },
           {
            "bin_start": 1.456546587438497,
            "bin_end": 2.134791850414767,
            "count": 22
           },
           {
            "bin_start": 2.134791850414767,
            "bin_end": 2.8130371133910375,
            "count": 14
           },
           {
            "bin_start": 2.8130371133910375,
            "bin_end": 3.491282376367308,
            "count": 4
           },
           {
            "bin_start": 3.491282376367308,
            "bin_end": 4.169527639343578,
            "count": 1
           },
           {
            "bin_start": 4.169527639343578,
            "bin_end": 4.847772902319848,
            "count": 2
           },
           {
            "bin_start": 4.847772902319848,
            "bin_end": 5.526018165296119,
            "count": 3
           },
           {
            "bin_start": 5.526018165296119,
            "bin_end": 6.204263428272388,
            "count": 4
           }
          ]
         }
        },
        {
         "name": "FX-Function X",
         "dtype": "float64",
         "stats": {
          "unique_count": 119,
          "nan_count": 601,
          "min": "-1.203929102015021",
          "max": "3.271669021602747",
          "histogram": [
           {
            "bin_start": -1.203929102015021,
            "bin_end": -0.7563692896532441,
            "count": 20
           },
           {
            "bin_start": -0.7563692896532441,
            "bin_end": -0.30880947729146724,
            "count": 40
           },
           {
            "bin_start": -0.30880947729146724,
            "bin_end": 0.13875033507030965,
            "count": 27
           },
           {
            "bin_start": 0.13875033507030965,
            "bin_end": 0.5863101474320864,
            "count": 14
           },
           {
            "bin_start": 0.5863101474320864,
            "bin_end": 1.0338699597938632,
            "count": 1
           },
           {
            "bin_start": 1.0338699597938632,
            "bin_end": 1.4814297721556402,
            "count": 1
           },
           {
            "bin_start": 1.4814297721556402,
            "bin_end": 1.9289895845174168,
            "count": 7
           },
           {
            "bin_start": 1.9289895845174168,
            "bin_end": 2.3765493968791938,
            "count": 3
           },
           {
            "bin_start": 2.3765493968791938,
            "bin_end": 2.8241092092409703,
            "count": 2
           },
           {
            "bin_start": 2.8241092092409703,
            "bin_end": 3.271669021602747,
            "count": 4
           }
          ]
         }
        },
        {
         "name": "GRIN-Grin",
         "dtype": "float64",
         "stats": {
          "unique_count": 720,
          "nan_count": 0,
          "min": "-1.0919804481399455",
          "max": "3.2067540830928802",
          "histogram": [
           {
            "bin_start": -1.0919804481399455,
            "bin_end": -0.6621069950166629,
            "count": 231
           },
           {
            "bin_start": -0.6621069950166629,
            "bin_end": -0.2322335418933803,
            "count": 210
           },
           {
            "bin_start": -0.2322335418933803,
            "bin_end": 0.19763991122990232,
            "count": 75
           },
           {
            "bin_start": 0.19763991122990232,
            "bin_end": 0.6275133643531849,
            "count": 27
           },
           {
            "bin_start": 0.6275133643531849,
            "bin_end": 1.0573868174764676,
            "count": 13
           },
           {
            "bin_start": 1.0573868174764676,
            "bin_end": 1.4872602705997502,
            "count": 79
           },
           {
            "bin_start": 1.4872602705997502,
            "bin_end": 1.9171337237230328,
            "count": 42
           },
           {
            "bin_start": 1.9171337237230328,
            "bin_end": 2.3470071768463154,
            "count": 21
           },
           {
            "bin_start": 2.3470071768463154,
            "bin_end": 2.776880629969598,
            "count": 19
           },
           {
            "bin_start": 2.776880629969598,
            "bin_end": 3.2067540830928802,
            "count": 3
           }
          ]
         }
        },
        {
         "name": "IGNIS-Ignis",
         "dtype": "float64",
         "stats": {
          "unique_count": 716,
          "nan_count": 0,
          "min": "-0.6845039511778652",
          "max": "4.837573172176871",
          "histogram": [
           {
            "bin_start": -0.6845039511778652,
            "bin_end": -0.1322962388423916,
            "count": 547
           },
           {
            "bin_start": -0.1322962388423916,
            "bin_end": 0.419911473493082,
            "count": 60
           },
           {
            "bin_start": 0.419911473493082,
            "bin_end": 0.9721191858285556,
            "count": 11
           },
           {
            "bin_start": 0.9721191858285556,
            "bin_end": 1.5243268981640292,
            "count": 31
           },
           {
            "bin_start": 1.5243268981640292,
            "bin_end": 2.0765346104995026,
            "count": 18
           },
           {
            "bin_start": 2.0765346104995026,
            "bin_end": 2.6287423228349764,
            "count": 24
           },
           {
            "bin_start": 2.6287423228349764,
            "bin_end": 3.1809500351704503,
            "count": 12
           },
           {
            "bin_start": 3.1809500351704503,
            "bin_end": 3.7331577475059237,
            "count": 7
           },
           {
            "bin_start": 3.7331577475059237,
            "bin_end": 4.2853654598413975,
            "count": 6
           },
           {
            "bin_start": 4.2853654598413975,
            "bin_end": 4.837573172176871,
            "count": 4
           }
          ]
         }
        },
        {
         "name": "KNC-Kyber Network",
         "dtype": "float64",
         "stats": {
          "unique_count": 720,
          "nan_count": 0,
          "min": "-1.2400757481800526",
          "max": "3.284088211378258",
          "histogram": [
           {
            "bin_start": -1.2400757481800526,
            "bin_end": -0.7876593522242216,
            "count": 195
           },
           {
            "bin_start": -0.7876593522242216,
            "bin_end": -0.3352429562683905,
            "count": 123
           },
           {
            "bin_start": -0.3352429562683905,
            "bin_end": 0.11717343968744043,
            "count": 105
           },
           {
            "bin_start": 0.11717343968744043,
            "bin_end": 0.5695898356432716,
            "count": 118
           },
           {
            "bin_start": 0.5695898356432716,
            "bin_end": 1.0220062315991028,
            "count": 81
           },
           {
            "bin_start": 1.0220062315991028,
            "bin_end": 1.4744226275549335,
            "count": 34
           },
           {
            "bin_start": 1.4744226275549335,
            "bin_end": 1.9268390235107646,
            "count": 20
           },
           {
            "bin_start": 1.9268390235107646,
            "bin_end": 2.379255419466596,
            "count": 18
           },
           {
            "bin_start": 2.379255419466596,
            "bin_end": 2.831671815422427,
            "count": 20
           },
           {
            "bin_start": 2.831671815422427,
            "bin_end": 3.284088211378258,
            "count": 6
           }
          ]
         }
        },
        {
         "name": "LA-LAToken",
         "dtype": "float64",
         "stats": {
          "unique_count": 719,
          "nan_count": 0,
          "min": "-0.8526910017293242",
          "max": "7.619228703888823",
          "histogram": [
           {
            "bin_start": -0.8526910017293242,
            "bin_end": -0.005499031167509494,
            "count": 457
           },
           {
            "bin_start": -0.005499031167509494,
            "bin_end": 0.8416929393943052,
            "count": 188
           },
           {
            "bin_start": 0.8416929393943052,
            "bin_end": 1.68888490995612,
            "count": 30
           },
           {
            "bin_start": 1.68888490995612,
            "bin_end": 2.5360768805179346,
            "count": 22
           },
           {
            "bin_start": 2.5360768805179346,
            "bin_end": 3.383268851079749,
            "count": 13
           },
           {
            "bin_start": 3.383268851079749,
            "bin_end": 4.2304608216415645,
            "count": 4
           },
           {
            "bin_start": 4.2304608216415645,
            "bin_end": 5.077652792203379,
            "count": 2
           },
           {
            "bin_start": 5.077652792203379,
            "bin_end": 5.9248447627651935,
            "count": 0
           },
           {
            "bin_start": 5.9248447627651935,
            "bin_end": 6.772036733327008,
            "count": 2
           },
           {
            "bin_start": 6.772036733327008,
            "bin_end": 7.619228703888823,
            "count": 2
           }
          ]
         }
        },
        {
         "name": "LOOM-Loom Network",
         "dtype": "float64",
         "stats": {
          "unique_count": 714,
          "nan_count": 0,
          "min": "-0.8274545541335517",
          "max": "4.137171852559336",
          "histogram": [
           {
            "bin_start": -0.8274545541335517,
            "bin_end": -0.33099191346426293,
            "count": 453
           },
           {
            "bin_start": -0.33099191346426293,
            "bin_end": 0.16547072720502587,
            "count": 57
           },
           {
            "bin_start": 0.16547072720502587,
            "bin_end": 0.6619333678743146,
            "count": 61
           },
           {
            "bin_start": 0.6619333678743146,
            "bin_end": 1.1583960085436034,
            "count": 47
           },
           {
            "bin_start": 1.1583960085436034,
            "bin_end": 1.6548586492128923,
            "count": 34
           },
           {
            "bin_start": 1.6548586492128923,
            "bin_end": 2.1513212898821807,
            "count": 28
           },
           {
            "bin_start": 2.1513212898821807,
            "bin_end": 2.6477839305514697,
            "count": 19
           },
           {
            "bin_start": 2.6477839305514697,
            "bin_end": 3.1442465712207586,
            "count": 10
           },
           {
            "bin_start": 3.1442465712207586,
            "bin_end": 3.640709211890047,
            "count": 8
           },
           {
            "bin_start": 3.640709211890047,
            "bin_end": 4.137171852559336,
            "count": 3
           }
          ]
         }
        },
        {
         "name": "LRC-Loopring",
         "dtype": "float64",
         "stats": {
          "unique_count": 719,
          "nan_count": 0,
          "min": "-0.9726116788176243",
          "max": "3.07340377363734",
          "histogram": [
           {
            "bin_start": -0.9726116788176243,
            "bin_end": -0.5680101335721279,
            "count": 285
           },
           {
            "bin_start": -0.5680101335721279,
            "bin_end": -0.16340858832663152,
            "count": 104
           },
           {
            "bin_start": -0.16340858832663152,
            "bin_end": 0.241192956918865,
            "count": 119
           },
           {
            "bin_start": 0.241192956918865,
            "bin_end": 0.6457945021643613,
            "count": 39
           },
           {
            "bin_start": 0.6457945021643613,
            "bin_end": 1.0503960474098575,
            "count": 37
           },
           {
            "bin_start": 1.0503960474098575,
            "bin_end": 1.4549975926553542,
            "count": 28
           },
           {
            "bin_start": 1.4549975926553542,
            "bin_end": 1.8595991379008505,
            "count": 73
           },
           {
            "bin_start": 1.8595991379008505,
            "bin_end": 2.264200683146347,
            "count": 18
           },
           {
            "bin_start": 2.264200683146347,
            "bin_end": 2.668802228391843,
            "count": 9
           },
           {
            "bin_start": 2.668802228391843,
            "bin_end": 3.07340377363734,
            "count": 8
           }
          ]
         }
        },
        {
         "name": "MANA-Decentraland",
         "dtype": "float64",
         "stats": {
          "unique_count": 719,
          "nan_count": 0,
          "min": "-0.6835055634755588",
          "max": "3.2186412172394343",
          "histogram": [
           {
            "bin_start": -0.6835055634755588,
            "bin_end": -0.29329088540405945,
            "count": 497
           },
           {
            "bin_start": -0.29329088540405945,
            "bin_end": 0.09692379266743989,
            "count": 26
           },
           {
            "bin_start": 0.09692379266743989,
            "bin_end": 0.48713847073893934,
            "count": 12
           },
           {
            "bin_start": 0.48713847073893934,
            "bin_end": 0.8773531488104386,
            "count": 23
           },
           {
            "bin_start": 0.8773531488104386,
            "bin_end": 1.2675678268819377,
            "count": 44
           },
           {
            "bin_start": 1.2675678268819377,
            "bin_end": 1.6577825049534374,
            "count": 48
           },
           {
            "bin_start": 1.6577825049534374,
            "bin_end": 2.0479971830249366,
            "count": 33
           },
           {
            "bin_start": 2.0479971830249366,
            "bin_end": 2.438211861096436,
            "count": 12
           },
           {
            "bin_start": 2.438211861096436,
            "bin_end": 2.828426539167935,
            "count": 10
           },
           {
            "bin_start": 2.828426539167935,
            "bin_end": 3.2186412172394343,
            "count": 15
           }
          ]
         }
        },
        {
         "name": "NAS-Nebulas",
         "dtype": "float64",
         "stats": {
          "unique_count": 719,
          "nan_count": 0,
          "min": "-1.2728740031524912",
          "max": "4.726470211634331",
          "histogram": [
           {
            "bin_start": -1.2728740031524912,
            "bin_end": -0.672939581673809,
            "count": 176
           },
           {
            "bin_start": -0.672939581673809,
            "bin_end": -0.0730051601951267,
            "count": 257
           },
           {
            "bin_start": -0.0730051601951267,
            "bin_end": 0.5269292612835554,
            "count": 169
           },
           {
            "bin_start": 0.5269292612835554,
            "bin_end": 1.1268636827622378,
            "count": 49
           },
           {
            "bin_start": 1.1268636827622378,
            "bin_end": 1.7267981042409202,
            "count": 10
           },
           {
            "bin_start": 1.7267981042409202,
            "bin_end": 2.326732525719602,
            "count": 17
           },
           {
            "bin_start": 2.326732525719602,
            "bin_end": 2.9266669471982842,
            "count": 18
           },
           {
            "bin_start": 2.9266669471982842,
            "bin_end": 3.5266013686769666,
            "count": 15
           },
           {
            "bin_start": 3.5266013686769666,
            "bin_end": 4.126535790155649,
            "count": 6
           },
           {
            "bin_start": 4.126535790155649,
            "bin_end": 4.726470211634331,
            "count": 3
           }
          ]
         }
        },
        {
         "name": "NEW-Newton",
         "dtype": "float64",
         "stats": {
          "unique_count": 612,
          "nan_count": 0,
          "min": "-0.8621461648677002",
          "max": "3.3478846306045824",
          "histogram": [
           {
            "bin_start": -0.8621461648677002,
            "bin_end": -0.441143085320472,
            "count": 283
           },
           {
            "bin_start": -0.441143085320472,
            "bin_end": -0.020140005773243708,
            "count": 218
           },
           {
            "bin_start": -0.020140005773243708,
            "bin_end": 0.40086307377398467,
            "count": 81
           },
           {
            "bin_start": 0.40086307377398467,
            "bin_end": 0.8218661533212128,
            "count": 35
           },
           {
            "bin_start": 0.8218661533212128,
            "bin_end": 1.242869232868441,
            "count": 19
           },
           {
            "bin_start": 1.242869232868441,
            "bin_end": 1.6638723124156696,
            "count": 12
           },
           {
            "bin_start": 1.6638723124156696,
            "bin_end": 2.084875391962898,
            "count": 14
           },
           {
            "bin_start": 2.084875391962898,
            "bin_end": 2.505878471510126,
            "count": 6
           },
           {
            "bin_start": 2.505878471510126,
            "bin_end": 2.9268815510573543,
            "count": 35
           },
           {
            "bin_start": 2.9268815510573543,
            "bin_end": 3.3478846306045824,
            "count": 17
           }
          ]
         }
        },
        {
         "name": "NULS-Nuls",
         "dtype": "float64",
         "stats": {
          "unique_count": 720,
          "nan_count": 0,
          "min": "-1.1986678569640723",
          "max": "4.2105619049048855",
          "histogram": [
           {
            "bin_start": -1.1986678569640723,
            "bin_end": -0.6577448807771765,
            "count": 179
           },
           {
            "bin_start": -0.6577448807771765,
            "bin_end": -0.11682190459028075,
            "count": 264
           },
           {
            "bin_start": -0.11682190459028075,
            "bin_end": 0.4241010715966149,
            "count": 129
           },
           {
            "bin_start": 0.4241010715966149,
            "bin_end": 0.9650240477835108,
            "count": 69
           },
           {
            "bin_start": 0.9650240477835108,
            "bin_end": 1.5059470239704067,
            "count": 11
           },
           {
            "bin_start": 1.5059470239704067,
            "bin_end": 2.046870000157302,
            "count": 21
           },
           {
            "bin_start": 2.046870000157302,
            "bin_end": 2.587792976344198,
            "count": 15
           },
           {
            "bin_start": 2.587792976344198,
            "bin_end": 3.1287159525310937,
            "count": 14
           },
           {
            "bin_start": 3.1287159525310937,
            "bin_end": 3.6696389287179896,
            "count": 11
           },
           {
            "bin_start": 3.6696389287179896,
            "bin_end": 4.2105619049048855,
            "count": 7
           }
          ]
         }
        },
        {
         "name": "ONE-Harmony",
         "dtype": "float64",
         "stats": {
          "unique_count": 696,
          "nan_count": 0,
          "min": "-0.6482093473423367",
          "max": "3.7816034630369835",
          "histogram": [
           {
            "bin_start": -0.6482093473423367,
            "bin_end": -0.2052280663044047,
            "count": 509
           },
           {
            "bin_start": -0.2052280663044047,
            "bin_end": 0.23775321473352728,
            "count": 25
           },
           {
            "bin_start": 0.23775321473352728,
            "bin_end": 0.6807344957714592,
            "count": 20
           },
           {
            "bin_start": 0.6807344957714592,
            "bin_end": 1.1237157768093913,
            "count": 49
           },
           {
            "bin_start": 1.1237157768093913,
            "bin_end": 1.5666970578473234,
            "count": 39
           },
           {
            "bin_start": 1.5666970578473234,
            "bin_end": 2.009678338885255,
            "count": 29
           },
           {
            "bin_start": 2.009678338885255,
            "bin_end": 2.452659619923187,
            "count": 22
           },
           {
            "bin_start": 2.452659619923187,
            "bin_end": 2.8956409009611193,
            "count": 13
           },
           {
            "bin_start": 2.8956409009611193,
            "bin_end": 3.3386221819990514,
            "count": 10
           },
           {
            "bin_start": 3.3386221819990514,
            "bin_end": 3.7816034630369835,
            "count": 4
           }
          ]
         }
        },
        {
         "name": "ORBS-Orbs",
         "dtype": "float64",
         "stats": {
          "unique_count": 706,
          "nan_count": 0,
          "min": "-0.6459802150975023",
          "max": "4.722635558116112",
          "histogram": [
           {
            "bin_start": -0.6459802150975023,
            "bin_end": -0.10911863777614084,
            "count": 527
           },
           {
            "bin_start": -0.10911863777614084,
            "bin_end": 0.4277429395452206,
            "count": 28
           },
           {
            "bin_start": 0.4277429395452206,
            "bin_end": 0.964604516866582,
            "count": 63
           },
           {
            "bin_start": 0.964604516866582,
            "bin_end": 1.5014660941879434,
            "count": 30
           },
           {
            "bin_start": 1.5014660941879434,
            "bin_end": 2.038327671509305,
            "count": 34
           },
           {
            "bin_start": 2.038327671509305,
            "bin_end": 2.5751892488306662,
            "count": 4
           },
           {
            "bin_start": 2.5751892488306662,
            "bin_end": 3.1120508261520277,
            "count": 15
           },
           {
            "bin_start": 3.1120508261520277,
            "bin_end": 3.648912403473389,
            "count": 12
           },
           {
            "bin_start": 3.648912403473389,
            "bin_end": 4.1857739807947505,
            "count": 5
           },
           {
            "bin_start": 4.1857739807947505,
            "bin_end": 4.722635558116112,
            "count": 2
           }
          ]
         }
        },
        {
         "name": "PIVX-PIVX",
         "dtype": "float64",
         "stats": {
          "unique_count": 720,
          "nan_count": 0,
          "min": "-0.8969935537648216",
          "max": "4.214598326094448",
          "histogram": [
           {
            "bin_start": -0.8969935537648216,
            "bin_end": -0.38583436577889463,
            "count": 355
           },
           {
            "bin_start": -0.38583436577889463,
            "bin_end": 0.12532482220703234,
            "count": 190
           },
           {
            "bin_start": 0.12532482220703234,
            "bin_end": 0.6364840101929593,
            "count": 37
           },
           {
            "bin_start": 0.6364840101929593,
            "bin_end": 1.1476431981788862,
            "count": 49
           },
           {
            "bin_start": 1.1476431981788862,
            "bin_end": 1.6588023861648131,
            "count": 26
           },
           {
            "bin_start": 1.6588023861648131,
            "bin_end": 2.16996157415074,
            "count": 14
           },
           {
            "bin_start": 2.16996157415074,
            "bin_end": 2.681120762136667,
            "count": 23
           },
           {
            "bin_start": 2.681120762136667,
            "bin_end": 3.192279950122594,
            "count": 14
           },
           {
            "bin_start": 3.192279950122594,
            "bin_end": 3.7034391381085205,
            "count": 9
           },
           {
            "bin_start": 3.7034391381085205,
            "bin_end": 4.214598326094448,
            "count": 3
           }
          ]
         }
        },
        {
         "name": "POWR-Power Ledger",
         "dtype": "float64",
         "stats": {
          "unique_count": 713,
          "nan_count": 0,
          "min": "-0.868393154242695",
          "max": "3.662134742645592",
          "histogram": [
           {
            "bin_start": -0.868393154242695,
            "bin_end": -0.4153403645538663,
            "count": 364
           },
           {
            "bin_start": -0.4153403645538663,
            "bin_end": 0.037712425134962424,
            "count": 149
           },
           {
            "bin_start": 0.037712425134962424,
            "bin_end": 0.4907652148237911,
            "count": 45
           },
           {
            "bin_start": 0.4907652148237911,
            "bin_end": 0.9438180045126199,
            "count": 32
           },
           {
            "bin_start": 0.9438180045126199,
            "bin_end": 1.3968707942014487,
            "count": 43
           },
           {
            "bin_start": 1.3968707942014487,
            "bin_end": 1.8499235838902772,
            "count": 36
           },
           {
            "bin_start": 1.8499235838902772,
            "bin_end": 2.3029763735791065,
            "count": 23
           },
           {
            "bin_start": 2.3029763735791065,
            "bin_end": 2.756029163267935,
            "count": 9
           },
           {
            "bin_start": 2.756029163267935,
            "bin_end": 3.2090819529567636,
            "count": 7
           },
           {
            "bin_start": 3.2090819529567636,
            "bin_end": 3.662134742645592,
            "count": 12
           }
          ]
         }
        },
        {
         "name": "PPT-Populous",
         "dtype": "float64",
         "stats": {
          "unique_count": 720,
          "nan_count": 0,
          "min": "-0.7306900025275891",
          "max": "4.562112613759774",
          "histogram": [
           {
            "bin_start": -0.7306900025275891,
            "bin_end": -0.20140974089885288,
            "count": 476
           },
           {
            "bin_start": -0.20140974089885288,
            "bin_end": 0.3278705207298833,
            "count": 29
           },
           {
            "bin_start": 0.3278705207298833,
            "bin_end": 0.8571507823586195,
            "count": 83
           },
           {
            "bin_start": 0.8571507823586195,
            "bin_end": 1.3864310439873557,
            "count": 73
           },
           {
            "bin_start": 1.3864310439873557,
            "bin_end": 1.9157113056160922,
            "count": 17
           },
           {
            "bin_start": 1.9157113056160922,
            "bin_end": 2.444991567244828,
            "count": 11
           },
           {
            "bin_start": 2.444991567244828,
            "bin_end": 2.9742718288735643,
            "count": 10
           },
           {
            "bin_start": 2.9742718288735643,
            "bin_end": 3.5035520905023008,
            "count": 13
           },
           {
            "bin_start": 3.5035520905023008,
            "bin_end": 4.032832352131037,
            "count": 5
           },
           {
            "bin_start": 4.032832352131037,
            "bin_end": 4.562112613759774,
            "count": 3
           }
          ]
         }
        },
        {
         "name": "QASH-QASH",
         "dtype": "float64",
         "stats": {
          "unique_count": 716,
          "nan_count": 0,
          "min": "-1.0368211180896139",
          "max": "4.7809487420433925",
          "histogram": [
           {
            "bin_start": -1.0368211180896139,
            "bin_end": -0.4550441320763132,
            "count": 303
           },
           {
            "bin_start": -0.4550441320763132,
            "bin_end": 0.1267328539369874,
            "count": 152
           },
           {
            "bin_start": 0.1267328539369874,
            "bin_end": 0.708509839950288,
            "count": 125
           },
           {
            "bin_start": 0.708509839950288,
            "bin_end": 1.2902868259635887,
            "count": 80
           },
           {
            "bin_start": 1.2902868259635887,
            "bin_end": 1.8720638119768895,
            "count": 18
           },
           {
            "bin_start": 1.8720638119768895,
            "bin_end": 2.45384079799019,
            "count": 18
           },
           {
            "bin_start": 2.45384079799019,
            "bin_end": 3.0356177840034904,
            "count": 10
           },
           {
            "bin_start": 3.0356177840034904,
            "bin_end": 3.617394770016791,
            "count": 5
           },
           {
            "bin_start": 3.617394770016791,
            "bin_end": 4.199171756030092,
            "count": 4
           },
           {
            "bin_start": 4.199171756030092,
            "bin_end": 4.7809487420433925,
            "count": 5
           }
          ]
         }
        },
        {
         "name": "QKC-QuarkChain",
         "dtype": "float64",
         "stats": {
          "unique_count": 691,
          "nan_count": 0,
          "min": "-1.0024969029721478",
          "max": "4.677660971813571",
          "histogram": [
           {
            "bin_start": -1.0024969029721478,
            "bin_end": -0.43448111549357593,
            "count": 390
           },
           {
            "bin_start": -0.43448111549357593,
            "bin_end": 0.1335346719849959,
            "count": 126
           },
           {
            "bin_start": 0.1335346719849959,
            "bin_end": 0.7015504594635678,
            "count": 71
           },
           {
            "bin_start": 0.7015504594635678,
            "bin_end": 1.2695662469421396,
            "count": 59
           },
           {
            "bin_start": 1.2695662469421396,
            "bin_end": 1.8375820344207117,
            "count": 21
           },
           {
            "bin_start": 1.8375820344207117,
            "bin_end": 2.405597821899283,
            "count": 17
           },
           {
            "bin_start": 2.405597821899283,
            "bin_end": 2.973613609377855,
            "count": 13
           },
           {
            "bin_start": 2.973613609377855,
            "bin_end": 3.541629396856427,
            "count": 18
           },
           {
            "bin_start": 3.541629396856427,
            "bin_end": 4.109645184334999,
            "count": 4
           },
           {
            "bin_start": 4.109645184334999,
            "bin_end": 4.677660971813571,
            "count": 1
           }
          ]
         }
        },
        {
         "name": "RDD-ReddCoin",
         "dtype": "float64",
         "stats": {
          "unique_count": 614,
          "nan_count": 0,
          "min": "-0.8128310540210514",
          "max": "4.5439091951068065",
          "histogram": [
           {
            "bin_start": -0.8128310540210514,
            "bin_end": -0.27715702910826556,
            "count": 473
           },
           {
            "bin_start": -0.27715702910826556,
            "bin_end": 0.25851699580452026,
            "count": 69
           },
           {
            "bin_start": 0.25851699580452026,
            "bin_end": 0.7941910207173061,
            "count": 56
           },
           {
            "bin_start": 0.7941910207173061,
            "bin_end": 1.329865045630092,
            "count": 44
           },
           {
            "bin_start": 1.329865045630092,
            "bin_end": 1.8655390705428778,
            "count": 16
           },
           {
            "bin_start": 1.8655390705428778,
            "bin_end": 2.4012130954556636,
            "count": 23
           },
           {
            "bin_start": 2.4012130954556636,
            "bin_end": 2.9368871203684495,
            "count": 17
           },
           {
            "bin_start": 2.9368871203684495,
            "bin_end": 3.4725611452812353,
            "count": 21
           },
           {
            "bin_start": 3.4725611452812353,
            "bin_end": 4.008235170194021,
            "count": 0
           },
           {
            "bin_start": 4.008235170194021,
            "bin_end": 4.5439091951068065,
            "count": 1
           }
          ]
         }
        },
        {
         "name": "SNX-Synthetix Network Token",
         "dtype": "float64",
         "stats": {
          "unique_count": 713,
          "nan_count": 0,
          "min": "-0.9798763898315362",
          "max": "2.9764751047108655",
          "histogram": [
           {
            "bin_start": -0.9798763898315362,
            "bin_end": -0.5842412403772961,
            "count": 294
           },
           {
            "bin_start": -0.5842412403772961,
            "bin_end": -0.1886060909230559,
            "count": 133
           },
           {
            "bin_start": -0.1886060909230559,
            "bin_end": 0.20702905853118436,
            "count": 52
           },
           {
            "bin_start": 0.20702905853118436,
            "bin_end": 0.6026642079854244,
            "count": 53
           },
           {
            "bin_start": 0.6026642079854244,
            "bin_end": 0.9982993574396645,
            "count": 53
           },
           {
            "bin_start": 0.9982993574396645,
            "bin_end": 1.3939345068939049,
            "count": 30
           },
           {
            "bin_start": 1.3939345068939049,
            "bin_end": 1.789569656348145,
            "count": 46
           },
           {
            "bin_start": 1.789569656348145,
            "bin_end": 2.185204805802385,
            "count": 38
           },
           {
            "bin_start": 2.185204805802385,
            "bin_end": 2.580839955256625,
            "count": 14
           },
           {
            "bin_start": 2.580839955256625,
            "bin_end": 2.9764751047108655,
            "count": 7
           }
          ]
         }
        },
        {
         "name": "TFUEL-Theta Fuel",
         "dtype": "float64",
         "stats": {
          "unique_count": 698,
          "nan_count": 0,
          "min": "-0.647913465502565",
          "max": "3.032013518414721",
          "histogram": [
           {
            "bin_start": -0.647913465502565,
            "bin_end": -0.2799207671108364,
            "count": 511
           },
           {
            "bin_start": -0.2799207671108364,
            "bin_end": 0.08807193128089219,
            "count": 13
           },
           {
            "bin_start": 0.08807193128089219,
            "bin_end": 0.45606462967262085,
            "count": 7
           },
           {
            "bin_start": 0.45606462967262085,
            "bin_end": 0.8240573280643494,
            "count": 2
           },
           {
            "bin_start": 0.8240573280643494,
            "bin_end": 1.1920500264560778,
            "count": 23
           },
           {
            "bin_start": 1.1920500264560778,
            "bin_end": 1.5600427248478068,
            "count": 79
           },
           {
            "bin_start": 1.5600427248478068,
            "bin_end": 1.9280354232395354,
            "count": 45
           },
           {
            "bin_start": 1.9280354232395354,
            "bin_end": 2.296028121631264,
            "count": 24
           },
           {
            "bin_start": 2.296028121631264,
            "bin_end": 2.6640208200229925,
            "count": 8
           },
           {
            "bin_start": 2.6640208200229925,
            "bin_end": 3.032013518414721,
            "count": 8
           }
          ]
         }
        },
        {
         "name": "TOMO-TomoChain",
         "dtype": "float64",
         "stats": {
          "unique_count": 720,
          "nan_count": 0,
          "min": "-1.0450773310096308",
          "max": "2.9026996335703084",
          "histogram": [
           {
            "bin_start": -1.0450773310096308,
            "bin_end": -0.650299634551637,
            "count": 262
           },
           {
            "bin_start": -0.650299634551637,
            "bin_end": -0.255521938093643,
            "count": 157
           },
           {
            "bin_start": -0.255521938093643,
            "bin_end": 0.139255758364351,
            "count": 59
           },
           {
            "bin_start": 0.139255758364351,
            "bin_end": 0.5340334548223449,
            "count": 49
           },
           {
            "bin_start": 0.5340334548223449,
            "bin_end": 0.9288111512803388,
            "count": 43
           },
           {
            "bin_start": 0.9288111512803388,
            "bin_end": 1.3235888477383329,
            "count": 36
           },
           {
            "bin_start": 1.3235888477383329,
            "bin_end": 1.7183665441963267,
            "count": 45
           },
           {
            "bin_start": 1.7183665441963267,
            "bin_end": 2.1131442406543206,
            "count": 38
           },
           {
            "bin_start": 2.1131442406543206,
            "bin_end": 2.5079219371123145,
            "count": 22
           },
           {
            "bin_start": 2.5079219371123145,
            "bin_end": 2.9026996335703084,
            "count": 9
           }
          ]
         }
        },
        {
         "name": "TRUE-TrueChain",
         "dtype": "float64",
         "stats": {
          "unique_count": 719,
          "nan_count": 0,
          "min": "-2.0359170491183654",
          "max": "3.8334637549979464",
          "histogram": [
           {
            "bin_start": -2.0359170491183654,
            "bin_end": -1.4489789687067343,
            "count": 52
           },
           {
            "bin_start": -1.4489789687067343,
            "bin_end": -0.862040888295103,
            "count": 116
           },
           {
            "bin_start": -0.862040888295103,
            "bin_end": -0.27510280788347163,
            "count": 138
           },
           {
            "bin_start": -0.27510280788347163,
            "bin_end": 0.31183527252815946,
            "count": 140
           },
           {
            "bin_start": 0.31183527252815946,
            "bin_end": 0.8987733529397905,
            "count": 131
           },
           {
            "bin_start": 0.8987733529397905,
            "bin_end": 1.485711433351422,
            "count": 92
           },
           {
            "bin_start": 1.485711433351422,
            "bin_end": 2.072649513763053,
            "count": 35
           },
           {
            "bin_start": 2.072649513763053,
            "bin_end": 2.6595875941746843,
            "count": 8
           },
           {
            "bin_start": 2.6595875941746843,
            "bin_end": 3.2465256745863154,
            "count": 6
           },
           {
            "bin_start": 3.2465256745863154,
            "bin_end": 3.8334637549979464,
            "count": 2
           }
          ]
         }
        },
        {
         "name": "VERI-Veritaseum",
         "dtype": "float64",
         "stats": {
          "unique_count": 720,
          "nan_count": 0,
          "min": "-1.2829369224623823",
          "max": "2.925467038298286",
          "histogram": [
           {
            "bin_start": -1.2829369224623823,
            "bin_end": -0.8620965263863155,
            "count": 218
           },
           {
            "bin_start": -0.8620965263863155,
            "bin_end": -0.4412561303102487,
            "count": 112
           },
           {
            "bin_start": -0.4412561303102487,
            "bin_end": -0.020415734234181748,
            "count": 65
           },
           {
            "bin_start": -0.020415734234181748,
            "bin_end": 0.40042466184188497,
            "count": 43
           },
           {
            "bin_start": 0.40042466184188497,
            "bin_end": 0.8212650579179517,
            "count": 59
           },
           {
            "bin_start": 0.8212650579179517,
            "bin_end": 1.2421054539940188,
            "count": 133
           },
           {
            "bin_start": 1.2421054539940188,
            "bin_end": 1.6629458500700856,
            "count": 62
           },
           {
            "bin_start": 1.6629458500700856,
            "bin_end": 2.0837862461461523,
            "count": 18
           },
           {
            "bin_start": 2.0837862461461523,
            "bin_end": 2.504626642222219,
            "count": 8
           },
           {
            "bin_start": 2.504626642222219,
            "bin_end": 2.925467038298286,
            "count": 2
           }
          ]
         }
        },
        {
         "name": "WAN-Wanchain",
         "dtype": "float64",
         "stats": {
          "unique_count": 720,
          "nan_count": 0,
          "min": "-0.8592123530099595",
          "max": "4.242650248644608",
          "histogram": [
           {
            "bin_start": -0.8592123530099595,
            "bin_end": -0.3490260928445027,
            "count": 402
           },
           {
            "bin_start": -0.3490260928445027,
            "bin_end": 0.16116016732095406,
            "count": 125
           },
           {
            "bin_start": 0.16116016732095406,
            "bin_end": 0.6713464274864108,
            "count": 54
           },
           {
            "bin_start": 0.6713464274864108,
            "bin_end": 1.1815326876518677,
            "count": 63
           },
           {
            "bin_start": 1.1815326876518677,
            "bin_end": 1.6917189478173245,
            "count": 20
           },
           {
            "bin_start": 1.6917189478173245,
            "bin_end": 2.201905207982781,
            "count": 11
           },
           {
            "bin_start": 2.201905207982781,
            "bin_end": 2.712091468148238,
            "count": 12
           },
           {
            "bin_start": 2.712091468148238,
            "bin_end": 3.2222777283136947,
            "count": 21
           },
           {
            "bin_start": 3.2222777283136947,
            "bin_end": 3.732463988479151,
            "count": 6
           },
           {
            "bin_start": 3.732463988479151,
            "bin_end": 4.242650248644608,
            "count": 6
           }
          ]
         }
        },
        {
         "name": "WICC-WaykiChain",
         "dtype": "float64",
         "stats": {
          "unique_count": 718,
          "nan_count": 0,
          "min": "-0.9323509448022509",
          "max": "12.541358888213043",
          "histogram": [
           {
            "bin_start": -0.9323509448022509,
            "bin_end": 0.4150200384992784,
            "count": 591
           },
           {
            "bin_start": 0.4150200384992784,
            "bin_end": 1.7623910218008076,
            "count": 94
           },
           {
            "bin_start": 1.7623910218008076,
            "bin_end": 3.109762005102337,
            "count": 24
           },
           {
            "bin_start": 3.109762005102337,
            "bin_end": 4.457132988403866,
            "count": 5
           },
           {
            "bin_start": 4.457132988403866,
            "bin_end": 5.804503971705395,
            "count": 4
           },
           {
            "bin_start": 5.804503971705395,
            "bin_end": 7.151874955006925,
            "count": 1
           },
           {
            "bin_start": 7.151874955006925,
            "bin_end": 8.499245938308455,
            "count": 0
           },
           {
            "bin_start": 8.499245938308455,
            "bin_end": 9.846616921609984,
            "count": 0
           },
           {
            "bin_start": 9.846616921609984,
            "bin_end": 11.193987904911513,
            "count": 0
           },
           {
            "bin_start": 11.193987904911513,
            "bin_end": 12.541358888213043,
            "count": 1
           }
          ]
         }
        },
        {
         "name": "ZEN-Horizen",
         "dtype": "float64",
         "stats": {
          "unique_count": 720,
          "nan_count": 0,
          "min": "-0.7493090678345983",
          "max": "3.3951284262715684",
          "histogram": [
           {
            "bin_start": -0.7493090678345983,
            "bin_end": -0.3348653184239816,
            "count": 473
           },
           {
            "bin_start": -0.3348653184239816,
            "bin_end": 0.07957843098663508,
            "count": 16
           },
           {
            "bin_start": 0.07957843098663508,
            "bin_end": 0.4940221803972519,
            "count": 25
           },
           {
            "bin_start": 0.4940221803972519,
            "bin_end": 0.9084659298078684,
            "count": 70
           },
           {
            "bin_start": 0.9084659298078684,
            "bin_end": 1.3229096792184851,
            "count": 42
           },
           {
            "bin_start": 1.3229096792184851,
            "bin_end": 1.7373534286291021,
            "count": 36
           },
           {
            "bin_start": 1.7373534286291021,
            "bin_end": 2.1517971780397187,
            "count": 15
           },
           {
            "bin_start": 2.1517971780397187,
            "bin_end": 2.5662409274503353,
            "count": 23
           },
           {
            "bin_start": 2.5662409274503353,
            "bin_end": 2.980684676860952,
            "count": 13
           },
           {
            "bin_start": 2.980684676860952,
            "bin_end": 3.3951284262715684,
            "count": 7
           }
          ]
         }
        },
        {
         "name": "ABT-Arcblock",
         "dtype": "float64",
         "stats": {
          "unique_count": 719,
          "nan_count": 0,
          "min": "-1.5220520921522",
          "max": "3.2753287507818403",
          "histogram": [
           {
            "bin_start": -1.5220520921522,
            "bin_end": -1.042314007858796,
            "count": 84
           },
           {
            "bin_start": -1.042314007858796,
            "bin_end": -0.562575923565392,
            "count": 152
           },
           {
            "bin_start": -0.562575923565392,
            "bin_end": -0.08283783927198796,
            "count": 174
           },
           {
            "bin_start": -0.08283783927198796,
            "bin_end": 0.3969002450214161,
            "count": 107
           },
           {
            "bin_start": 0.3969002450214161,
            "bin_end": 0.8766383293148201,
            "count": 82
           },
           {
            "bin_start": 0.8766383293148201,
            "bin_end": 1.3563764136082241,
            "count": 34
           },
           {
            "bin_start": 1.3563764136082241,
            "bin_end": 1.8361144979016282,
            "count": 34
           },
           {
            "bin_start": 1.8361144979016282,
            "bin_end": 2.315852582195032,
            "count": 27
           },
           {
            "bin_start": 2.315852582195032,
            "bin_end": 2.795590666488436,
            "count": 14
           },
           {
            "bin_start": 2.795590666488436,
            "bin_end": 3.2753287507818403,
            "count": 12
           }
          ]
         }
        },
        {
         "name": "ANT-Aragon",
         "dtype": "float64",
         "stats": {
          "unique_count": 720,
          "nan_count": 0,
          "min": "-1.073587958424476",
          "max": "3.69219970823545",
          "histogram": [
           {
            "bin_start": -1.073587958424476,
            "bin_end": -0.5970091917584834,
            "count": 300
           },
           {
            "bin_start": -0.5970091917584834,
            "bin_end": -0.12043042509249091,
            "count": 27
           },
           {
            "bin_start": -0.12043042509249091,
            "bin_end": 0.3561483415735016,
            "count": 186
           },
           {
            "bin_start": 0.3561483415735016,
            "bin_end": 0.8327271082394943,
            "count": 96
           },
           {
            "bin_start": 0.8327271082394943,
            "bin_end": 1.3093058749054869,
            "count": 33
           },
           {
            "bin_start": 1.3093058749054869,
            "bin_end": 1.7858846415714793,
            "count": 24
           },
           {
            "bin_start": 1.7858846415714793,
            "bin_end": 2.262463408237472,
            "count": 21
           },
           {
            "bin_start": 2.262463408237472,
            "bin_end": 2.7390421749034646,
            "count": 17
           },
           {
            "bin_start": 2.7390421749034646,
            "bin_end": 3.215620941569457,
            "count": 12
           },
           {
            "bin_start": 3.215620941569457,
            "bin_end": 3.69219970823545,
            "count": 4
           }
          ]
         }
        },
        {
         "name": "APL-Apollo Coin",
         "dtype": "float64",
         "stats": {
          "unique_count": 587,
          "nan_count": 0,
          "min": "-0.8382605763343317",
          "max": "4.9989976769159705",
          "histogram": [
           {
            "bin_start": -0.8382605763343317,
            "bin_end": -0.25453475100930156,
            "count": 480
           },
           {
            "bin_start": -0.25453475100930156,
            "bin_end": 0.3291910743157286,
            "count": 88
           },
           {
            "bin_start": 0.3291910743157286,
            "bin_end": 0.9129168996407587,
            "count": 63
           },
           {
            "bin_start": 0.9129168996407587,
            "bin_end": 1.4966427249657888,
            "count": 29
           },
           {
            "bin_start": 1.4966427249657888,
            "bin_end": 2.0803685502908187,
            "count": 14
           },
           {
            "bin_start": 2.0803685502908187,
            "bin_end": 2.664094375615849,
            "count": 13
           },
           {
            "bin_start": 2.664094375615849,
            "bin_end": 3.2478202009408794,
            "count": 16
           },
           {
            "bin_start": 3.2478202009408794,
            "bin_end": 3.8315460262659093,
            "count": 8
           },
           {
            "bin_start": 3.8315460262659093,
            "bin_end": 4.41527185159094,
            "count": 7
           },
           {
            "bin_start": 4.41527185159094,
            "bin_end": 4.9989976769159705,
            "count": 2
           }
          ]
         }
        },
        {
         "name": "BFT-BnkToTheFuture",
         "dtype": "float64",
         "stats": {
          "unique_count": 708,
          "nan_count": 0,
          "min": "-0.6599141343553329",
          "max": "6.476919979147536",
          "histogram": [
           {
            "bin_start": -0.6599141343553329,
            "bin_end": 0.05376927699495404,
            "count": 560
           },
           {
            "bin_start": 0.05376927699495404,
            "bin_end": 0.7674526883452409,
            "count": 65
           },
           {
            "bin_start": 0.7674526883452409,
            "bin_end": 1.481136099695528,
            "count": 35
           },
           {
            "bin_start": 1.481136099695528,
            "bin_end": 2.194819511045815,
            "count": 38
           },
           {
            "bin_start": 2.194819511045815,
            "bin_end": 2.9085029223961016,
            "count": 2
           },
           {
            "bin_start": 2.9085029223961016,
            "bin_end": 3.622186333746389,
            "count": 6
           },
           {
            "bin_start": 3.622186333746389,
            "bin_end": 4.335869745096676,
            "count": 3
           },
           {
            "bin_start": 4.335869745096676,
            "bin_end": 5.0495531564469625,
            "count": 6
           },
           {
            "bin_start": 5.0495531564469625,
            "bin_end": 5.763236567797249,
            "count": 2
           },
           {
            "bin_start": 5.763236567797249,
            "bin_end": 6.476919979147536,
            "count": 3
           }
          ]
         }
        },
        {
         "name": "BHP-Blockchain of Hash Power",
         "dtype": "float64",
         "stats": {
          "unique_count": 720,
          "nan_count": 0,
          "min": "-1.1985309934961366",
          "max": "9.421362215655485",
          "histogram": [
           {
            "bin_start": -1.1985309934961366,
            "bin_end": -0.1365416725809745,
            "count": 468
           },
           {
            "bin_start": -0.1365416725809745,
            "bin_end": 0.9254476483341876,
            "count": 136
           },
           {
            "bin_start": 0.9254476483341876,
            "bin_end": 1.9874369692493496,
            "count": 77
           },
           {
            "bin_start": 1.9874369692493496,
            "bin_end": 3.0494262901645115,
            "count": 35
           },
           {
            "bin_start": 3.0494262901645115,
            "bin_end": 4.111415611079673,
            "count": 0
           },
           {
            "bin_start": 4.111415611079673,
            "bin_end": 5.173404931994836,
            "count": 1
           },
           {
            "bin_start": 5.173404931994836,
            "bin_end": 6.235394252909998,
            "count": 1
           },
           {
            "bin_start": 6.235394252909998,
            "bin_end": 7.29738357382516,
            "count": 1
           },
           {
            "bin_start": 7.29738357382516,
            "bin_end": 8.359372894740321,
            "count": 0
           },
           {
            "bin_start": 8.359372894740321,
            "bin_end": 9.421362215655485,
            "count": 1
           }
          ]
         }
        },
        {
         "name": "BOTX-botXcoin",
         "dtype": "float64",
         "stats": {
          "unique_count": 715,
          "nan_count": 0,
          "min": "-0.49744980466478167",
          "max": "4.563474476786592",
          "histogram": [
           {
            "bin_start": -0.49744980466478167,
            "bin_end": 0.00864262348035566,
            "count": 637
           },
           {
            "bin_start": 0.00864262348035566,
            "bin_end": 0.5147350516254929,
            "count": 13
           },
           {
            "bin_start": 0.5147350516254929,
            "bin_end": 1.0208274797706303,
            "count": 0
           },
           {
            "bin_start": 1.0208274797706303,
            "bin_end": 1.5269199079157676,
            "count": 2
           },
           {
            "bin_start": 1.5269199079157676,
            "bin_end": 2.033012336060905,
            "count": 1
           },
           {
            "bin_start": 2.033012336060905,
            "bin_end": 2.5391047642060425,
            "count": 10
           },
           {
            "bin_start": 2.5391047642060425,
            "bin_end": 3.04519719235118,
            "count": 17
           },
           {
            "bin_start": 3.04519719235118,
            "bin_end": 3.551289620496317,
            "count": 33
           },
           {
            "bin_start": 3.551289620496317,
            "bin_end": 4.057382048641455,
            "count": 5
           },
           {
            "bin_start": 4.057382048641455,
            "bin_end": 4.563474476786592,
            "count": 2
           }
          ]
         }
        },
        {
         "name": "BRD-Bread",
         "dtype": "float64",
         "stats": {
          "unique_count": 720,
          "nan_count": 0,
          "min": "-1.2978212266524587",
          "max": "3.6869908252408026",
          "histogram": [
           {
            "bin_start": -1.2978212266524587,
            "bin_end": -0.7993400214631325,
            "count": 157
           },
           {
            "bin_start": -0.7993400214631325,
            "bin_end": -0.3008588162738065,
            "count": 227
           },
           {
            "bin_start": -0.3008588162738065,
            "bin_end": 0.19762238891551953,
            "count": 66
           },
           {
            "bin_start": 0.19762238891551953,
            "bin_end": 0.6961035941048457,
            "count": 87
           },
           {
            "bin_start": 0.6961035941048457,
            "bin_end": 1.1945847992941718,
            "count": 89
           },
           {
            "bin_start": 1.1945847992941718,
            "bin_end": 1.6930660044834978,
            "count": 48
           },
           {
            "bin_start": 1.6930660044834978,
            "bin_end": 2.191547209672824,
            "count": 24
           },
           {
            "bin_start": 2.191547209672824,
            "bin_end": 2.69002841486215,
            "count": 8
           },
           {
            "bin_start": 2.69002841486215,
            "bin_end": 3.1885096200514766,
            "count": 8
           },
           {
            "bin_start": 3.1885096200514766,
            "bin_end": 3.6869908252408026,
            "count": 6
           }
          ]
         }
        },
        {
         "name": "C20-CRYPTO20",
         "dtype": "float64",
         "stats": {
          "unique_count": 720,
          "nan_count": 0,
          "min": "-0.8574913992083124",
          "max": "3.298491343108637",
          "histogram": [
           {
            "bin_start": -0.8574913992083124,
            "bin_end": -0.4418931249766175,
            "count": 432
           },
           {
            "bin_start": -0.4418931249766175,
            "bin_end": -0.02629485074492255,
            "count": 52
           },
           {
            "bin_start": -0.02629485074492255,
            "bin_end": 0.3893034234867725,
            "count": 19
           },
           {
            "bin_start": 0.3893034234867725,
            "bin_end": 0.8049016977184673,
            "count": 35
           },
           {
            "bin_start": 0.8049016977184673,
            "bin_end": 1.2204999719501621,
            "count": 70
           },
           {
            "bin_start": 1.2204999719501621,
            "bin_end": 1.6360982461818574,
            "count": 42
           },
           {
            "bin_start": 1.6360982461818574,
            "bin_end": 2.051696520413552,
            "count": 32
           },
           {
            "bin_start": 2.051696520413552,
            "bin_end": 2.4672947946452473,
            "count": 25
           },
           {
            "bin_start": 2.4672947946452473,
            "bin_end": 2.8828930688769416,
            "count": 9
           },
           {
            "bin_start": 2.8828930688769416,
            "bin_end": 3.298491343108637,
            "count": 4
           }
          ]
         }
        },
        {
         "name": "CRPT-Crypterium",
         "dtype": "float64"
        },
        {
         "name": "CTXC-Cortex",
         "dtype": "float64"
        },
        {
         "name": "CVC-Civic",
         "dtype": "float64"
        },
        {
         "name": "DAC-Davinci Coin",
         "dtype": "float64"
        },
        {
         "name": "DGTX-Digitex Futures",
         "dtype": "float64"
        },
        {
         "name": "DRGN-Dragonchain",
         "dtype": "float64"
        },
        {
         "name": "EDO-Eidoo",
         "dtype": "float64"
        },
        {
         "name": "FET-Fetch",
         "dtype": "float64"
        },
        {
         "name": "FUN-FunFair",
         "dtype": "float64"
        },
        {
         "name": "GAS-Gas",
         "dtype": "float64"
        },
        {
         "name": "GBYTE-Obyte",
         "dtype": "float64"
        },
        {
         "name": "GNO-Gnosis",
         "dtype": "float64"
        },
        {
         "name": "GRS-Groestlcoin",
         "dtype": "float64"
        },
        {
         "name": "HYN-Hyperion",
         "dtype": "float64"
        },
        {
         "name": "IOTX-IoTeX",
         "dtype": "float64"
        },
        {
         "name": "ITC-IoT Chain",
         "dtype": "float64"
        },
        {
         "name": "KAN-BitKan",
         "dtype": "float64"
        },
        {
         "name": "LXT-Litex",
         "dtype": "float64"
        },
        {
         "name": "MATIC-Polygon",
         "dtype": "float64"
        },
        {
         "name": "META-Metadium",
         "dtype": "float64"
        },
        {
         "name": "MITH-Mithril",
         "dtype": "float64"
        },
        {
         "name": "MTL-Metal",
         "dtype": "float64"
        },
        {
         "name": "NXT-Nxt",
         "dtype": "float64"
        },
        {
         "name": "POLY-Polymath",
         "dtype": "float64"
        },
        {
         "name": "RLC-iExec RLC",
         "dtype": "float64"
        },
        {
         "name": "SEELE-Seele",
         "dtype": "float64"
        },
        {
         "name": "SKY-Skycoin",
         "dtype": "float64"
        },
        {
         "name": "STORJ-Storj",
         "dtype": "float64"
        },
        {
         "name": "SYS-Syscoin",
         "dtype": "float64"
        },
        {
         "name": "TEL-Telcoin",
         "dtype": "float64"
        },
        {
         "name": "TT-ThunderCore",
         "dtype": "float64"
        },
        {
         "name": "UGAS-Ultrain",
         "dtype": "float64"
        },
        {
         "name": "VTC-Vertcoin",
         "dtype": "float64"
        },
        {
         "name": "ACT-Achain",
         "dtype": "float64"
        },
        {
         "name": "AERGO-Aergo",
         "dtype": "float64"
        },
        {
         "name": "ANKR-Ankr",
         "dtype": "float64"
        },
        {
         "name": "BCV-BitCapitalVendor",
         "dtype": "float64"
        },
        {
         "name": "CND-Cindicator",
         "dtype": "float64"
        },
        {
         "name": "DX-DxChain",
         "dtype": "float64"
        },
        {
         "name": "ETZ-Ether Zero",
         "dtype": "float64"
        },
        {
         "name": "EVX-Everex",
         "dtype": "float64"
        },
        {
         "name": "FOAM-FOAM Token",
         "dtype": "float64"
        },
        {
         "name": "GTO-Gifto",
         "dtype": "float64"
        },
        {
         "name": "HPB-High Performance Blockchain",
         "dtype": "float64"
        },
        {
         "name": "HYC-HYCON",
         "dtype": "float64"
        },
        {
         "name": "ILC-ILCoin",
         "dtype": "float64"
        },
        {
         "name": "INT-Internet Node Token",
         "dtype": "float64"
        },
        {
         "name": "IQ-Everipedia",
         "dtype": "float64"
        },
        {
         "name": "IRIS-IRIS Network",
         "dtype": "float64"
        },
        {
         "name": "LBA-Cred",
         "dtype": "float64"
        },
        {
         "name": "LTO-LTO Network",
         "dtype": "float64"
        },
        {
         "name": "MDA-Moeda Loyalty Points",
         "dtype": "float64"
        },
        {
         "name": "MFT-Mainframe",
         "dtype": "float64"
        },
        {
         "name": "MHC-#MetaHash",
         "dtype": "float64"
        },
        {
         "name": "MTC-Docademic",
         "dtype": "float64"
        },
        {
         "name": "NEBL-Neblio",
         "dtype": "float64"
        },
        {
         "name": "NKN-NKN",
         "dtype": "float64"
        },
        {
         "name": "NXS-Nexus",
         "dtype": "float64"
        },
        {
         "name": "OCN-Odyssey",
         "dtype": "float64"
        },
        {
         "name": "OGO-Origo",
         "dtype": "float64"
        },
        {
         "name": "PAY-TenX",
         "dtype": "float64"
        },
        {
         "name": "QRL-Quantum Resistant Ledger",
         "dtype": "float64"
        },
        {
         "name": "RUFF-RuffChain",
         "dtype": "float64"
        },
        {
         "name": "TOP-Top Network",
         "dtype": "float64"
        },
        {
         "name": "UTK-UTRUST",
         "dtype": "float64"
        },
        {
         "name": "ADX-AdEx",
         "dtype": "float64"
        },
        {
         "name": "AEON-Aeon",
         "dtype": "float64"
        },
        {
         "name": "ARRR-Pirate Chain",
         "dtype": "float64"
        },
        {
         "name": "BLOCK-Blocknet",
         "dtype": "float64"
        },
        {
         "name": "BTR-Bitrue Coin",
         "dtype": "float64"
        },
        {
         "name": "BURST-Burst",
         "dtype": "float64"
        },
        {
         "name": "DATA-Streamr DATAcoin",
         "dtype": "float64"
        },
        {
         "name": "DCN-Dentacoin",
         "dtype": "float64"
        },
        {
         "name": "DUSK-Dusk Network",
         "dtype": "float64"
        },
        {
         "name": "EVN-Envion",
         "dtype": "float64"
        },
        {
         "name": "FLUX-Flux",
         "dtype": "float64"
        },
        {
         "name": "GO-GoChain",
         "dtype": "float64"
        },
        {
         "name": "KIN-Kin",
         "dtype": "float64"
        },
        {
         "name": "MAN-Matrix AI Network",
         "dtype": "float64"
        },
        {
         "name": "MOC-Mossland",
         "dtype": "float64"
        },
        {
         "name": "NCASH-Nucleus Vision",
         "dtype": "float64"
        },
        {
         "name": "OST-Simple Token",
         "dtype": "float64"
        },
        {
         "name": "PLR-Pillar",
         "dtype": "float64"
        },
        {
         "name": "PMA-PumaPay",
         "dtype": "float64"
        },
        {
         "name": "POE-Po.et",
         "dtype": "float64"
        },
        {
         "name": "PPC-Peercoin",
         "dtype": "float64"
        },
        {
         "name": "PZM-PRIZM",
         "dtype": "float64"
        },
        {
         "name": "RCN-Ripio Credit Network",
         "dtype": "float64"
        },
        {
         "name": "RDN-Raiden Network Token",
         "dtype": "float64"
        },
        {
         "name": "REQ-Request Network",
         "dtype": "float64"
        },
        {
         "name": "RSR-Reserve Rights",
         "dtype": "float64"
        },
        {
         "name": "SALT-SALT",
         "dtype": "float64"
        },
        {
         "name": "TCT-TokenClub",
         "dtype": "float64"
        },
        {
         "name": "TKY-Thekey",
         "dtype": "float64"
        },
        {
         "name": "TNB-Time New Bank",
         "dtype": "float64"
        },
        {
         "name": "TPAY-TokenPay",
         "dtype": "float64"
        },
        {
         "name": "TRIO-Tripio",
         "dtype": "float64"
        },
        {
         "name": "VITE-VITE",
         "dtype": "float64"
        },
        {
         "name": "WGR-Wagerr",
         "dtype": "float64"
        },
        {
         "name": "BLZ-Bluzelle",
         "dtype": "float64"
        },
        {
         "name": "CDT-Blox",
         "dtype": "float64"
        },
        {
         "name": "CS-Credits",
         "dtype": "float64"
        },
        {
         "name": "DBC-DeepBrain Wallet",
         "dtype": "float64"
        },
        {
         "name": "DERO-Dero",
         "dtype": "float64"
        },
        {
         "name": "DMT-DMarket",
         "dtype": "float64"
        },
        {
         "name": "DTA-DATA",
         "dtype": "float64"
        },
        {
         "name": "EDR-Endor",
         "dtype": "float64"
        },
        {
         "name": "FLO-FlorinCoin",
         "dtype": "float64"
        },
        {
         "name": "GUSD-Gemini Dollar",
         "dtype": "float64"
        },
        {
         "name": "GVT-Genesis Vision",
         "dtype": "float64"
        },
        {
         "name": "KCASH-Kcash",
         "dtype": "float64"
        },
        {
         "name": "LOC-LockTrip",
         "dtype": "float64"
        },
        {
         "name": "MBL-MovieBloc",
         "dtype": "float64"
        },
        {
         "name": "NAV-Nav Coin",
         "dtype": "float64"
        },
        {
         "name": "NMR-Numeraire",
         "dtype": "float64"
        },
        {
         "name": "OAX-OAX",
         "dtype": "float64"
        },
        {
         "name": "PRO-Propy",
         "dtype": "float64"
        },
        {
         "name": "QSP-Quantstamp",
         "dtype": "float64"
        },
        {
         "name": "SBD-Steem Backed Dollars",
         "dtype": "float64"
        },
        {
         "name": "SMART-SmartCash",
         "dtype": "float64"
        },
        {
         "name": "SMT-SmartMesh",
         "dtype": "float64"
        },
        {
         "name": "SOC-All Sports",
         "dtype": "float64"
        },
        {
         "name": "VIA-Viacoin",
         "dtype": "float64"
        },
        {
         "name": "WABI-Tael",
         "dtype": "float64"
        },
        {
         "name": "AOG-smARTOFGIVING",
         "dtype": "float64"
        },
        {
         "name": "AST-AirSwap",
         "dtype": "float64"
        },
        {
         "name": "BTX-Bitcore",
         "dtype": "float64"
        },
        {
         "name": "CNN-Content Neutrality Network",
         "dtype": "float64"
        },
        {
         "name": "DNT-district0x",
         "dtype": "float64"
        },
        {
         "name": "DVPN-Sentinel",
         "dtype": "float64"
        },
        {
         "name": "GNX-Genaro Network",
         "dtype": "float64"
        },
        {
         "name": "GTC-Game.com",
         "dtype": "float64"
        },
        {
         "name": "KEY-Selfkey",
         "dtype": "float64"
        },
        {
         "name": "LCC-Litecoin Cash",
         "dtype": "float64"
        },
        {
         "name": "LYM-Lympo",
         "dtype": "float64"
        },
        {
         "name": "MDS-MediShares",
         "dtype": "float64"
        },
        {
         "name": "MED-MediBloc",
         "dtype": "float64"
        },
        {
         "name": "MLN-Enzyme",
         "dtype": "float64"
        },
        {
         "name": "MTH-Monetha",
         "dtype": "float64"
        },
        {
         "name": "MTV-MultiVAC",
         "dtype": "float64"
        },
        {
         "name": "MWAT-Restart Energy MWAT",
         "dtype": "float64"
        },
        {
         "name": "NIX-NIX",
         "dtype": "float64"
        },
        {
         "name": "PHX-Red Pulse Phoenix",
         "dtype": "float64"
        },
        {
         "name": "RFR-Refereum",
         "dtype": "float64"
        },
        {
         "name": "S4F-S4FE",
         "dtype": "float64"
        },
        {
         "name": "SNGLS-SingularDTV",
         "dtype": "float64"
        },
        {
         "name": "SRN-SIRIN LABS Token",
         "dtype": "float64"
        },
        {
         "name": "SWFTC-SwftCoin",
         "dtype": "float64"
        },
        {
         "name": "UPP-Sentinel Protocol",
         "dtype": "float64"
        },
        {
         "name": "VIBE-VIBE",
         "dtype": "float64"
        },
        {
         "name": "VIDT-VIDT Datalink",
         "dtype": "float64"
        },
        {
         "name": "XDN-DigitalNote",
         "dtype": "float64"
        },
        {
         "name": "XYO-XYO",
         "dtype": "float64"
        },
        {
         "name": "APPC-AppCoins",
         "dtype": "float64"
        },
        {
         "name": "AVA-Travala.com",
         "dtype": "float64"
        },
        {
         "name": "BCPT-BlockMason Credit Protocol",
         "dtype": "float64"
        },
        {
         "name": "CPC-CPChain",
         "dtype": "float64"
        },
        {
         "name": "CVT-CyberVein",
         "dtype": "float64"
        },
        {
         "name": "DAG-Constellation",
         "dtype": "float64"
        },
        {
         "name": "DGX-Digix Gold Token",
         "dtype": "float64"
        },
        {
         "name": "DLT-Agrello",
         "dtype": "float64"
        },
        {
         "name": "GSC-Global Social Chain",
         "dtype": "float64"
        },
        {
         "name": "LBC-LBRY Credits",
         "dtype": "float64"
        },
        {
         "name": "LEND-Aave (Old)",
         "dtype": "float64"
        },
        {
         "name": "MER-Mercury",
         "dtype": "float64"
        },
        {
         "name": "MITX-Morpheus Labs",
         "dtype": "float64"
        },
        {
         "name": "MVL-Mass Vehicle Ledger",
         "dtype": "float64"
        },
        {
         "name": "MVP-Merculet",
         "dtype": "float64"
        },
        {
         "name": "MXC-Machine Exchange Coin",
         "dtype": "float64"
        },
        {
         "name": "NLG-Gulden",
         "dtype": "float64"
        },
        {
         "name": "PI-Plian",
         "dtype": "float64"
        },
        {
         "name": "POA-POA Network",
         "dtype": "float64"
        },
        {
         "name": "QLC-QLC Chain",
         "dtype": "float64"
        },
        {
         "name": "SKM-Skrumble",
         "dtype": "float64"
        },
        {
         "name": "SSP-Smartshare",
         "dtype": "float64"
        },
        {
         "name": "STPT-STP Network",
         "dtype": "float64"
        },
        {
         "name": "SWM-Swarm Fund Token",
         "dtype": "float64"
        },
        {
         "name": "UBQ-Ubiq",
         "dtype": "float64"
        },
        {
         "name": "VEIL-Veil",
         "dtype": "float64"
        },
        {
         "name": "VEX-Vexanium",
         "dtype": "float64"
        },
        {
         "name": "VIB-Viberate",
         "dtype": "float64"
        },
        {
         "name": "YOYOW-YOYOW",
         "dtype": "float64"
        },
        {
         "name": "ABL-Airbloc",
         "dtype": "float64"
        },
        {
         "name": "ABYSS-The Abyss",
         "dtype": "float64"
        },
        {
         "name": "ADS-AdShares",
         "dtype": "float64"
        },
        {
         "name": "AMB-Ambrosus",
         "dtype": "float64"
        },
        {
         "name": "BOMB-BOMB",
         "dtype": "float64"
        },
        {
         "name": "BTU-BTU Protocol",
         "dtype": "float64"
        },
        {
         "name": "COVA-COVA",
         "dtype": "float64"
        },
        {
         "name": "DOCK-Dock",
         "dtype": "float64"
        },
        {
         "name": "FTC-Feathercoin",
         "dtype": "float64"
        },
        {
         "name": "FTI-FansTime",
         "dtype": "float64"
        },
        {
         "name": "GAME-GameCredits",
         "dtype": "float64"
        },
        {
         "name": "NIM-Nimiq",
         "dtype": "float64"
        },
        {
         "name": "PRE-Presearch",
         "dtype": "float64"
        },
        {
         "name": "SINS-SafeInsure",
         "dtype": "float64"
        },
        {
         "name": "SUB-Substratum",
         "dtype": "float64"
        },
        {
         "name": "TRTL-TurtleCoin",
         "dtype": "float64"
        },
        {
         "name": "TUBE-BitTube",
         "dtype": "float64"
        },
        {
         "name": "UNO2-Unobtanium",
         "dtype": "float64"
        },
        {
         "name": "BAAS-BaaSid",
         "dtype": "float64"
        },
        {
         "name": "BAX-BABB",
         "dtype": "float64"
        },
        {
         "name": "BLK-BlackCoin",
         "dtype": "float64"
        },
        {
         "name": "CAS-Cashaa",
         "dtype": "float64"
        },
        {
         "name": "CHSB-SwissBorg",
         "dtype": "float64"
        },
        {
         "name": "CLO-Callisto Network",
         "dtype": "float64"
        },
        {
         "name": "COV-Covesting",
         "dtype": "float64"
        },
        {
         "name": "CSP-Caspian",
         "dtype": "float64"
        },
        {
         "name": "LUN-Lunyr",
         "dtype": "float64"
        },
        {
         "name": "MDT-Measurable Data",
         "dtype": "float64"
        },
        {
         "name": "NSD-Nasdacoin",
         "dtype": "float64"
        },
        {
         "name": "PAC-PAC Protocol",
         "dtype": "float64"
        },
        {
         "name": "PHR-Phore",
         "dtype": "float64"
        },
        {
         "name": "POLIS-Polis",
         "dtype": "float64"
        },
        {
         "name": "REM-Remme",
         "dtype": "float64"
        },
        {
         "name": "SNC-SunContract",
         "dtype": "float64"
        },
        {
         "name": "XPM-Primecoin",
         "dtype": "float64"
        },
        {
         "name": "ZCN-0chain",
         "dtype": "float64"
        },
        {
         "name": "EDN-Eden",
         "dtype": "float64"
        },
        {
         "name": "GET-GET Protocol",
         "dtype": "float64"
        },
        {
         "name": "HTML-HTMLCOIN",
         "dtype": "float64"
        },
        {
         "name": "KAT-Kambria",
         "dtype": "float64"
        },
        {
         "name": "KICK-KickToken",
         "dtype": "float64"
        },
        {
         "name": "NCT-PolySwarm",
         "dtype": "float64"
        },
        {
         "name": "RPD-Rapids",
         "dtype": "float64"
        },
        {
         "name": "XAUR-Xaurum",
         "dtype": "float64"
        },
        {
         "name": "AXPR-aXpire",
         "dtype": "float64"
        },
        {
         "name": "CHAT-ChatCoin",
         "dtype": "float64"
        },
        {
         "name": "CRW-Crown",
         "dtype": "float64"
        },
        {
         "name": "CV-carVertical",
         "dtype": "float64"
        },
        {
         "name": "CXO-CargoX",
         "dtype": "float64"
        },
        {
         "name": "DAX-DAEX",
         "dtype": "float64"
        },
        {
         "name": "FDZ-Friendz",
         "dtype": "float64"
        },
        {
         "name": "HMQ-Humaniq",
         "dtype": "float64"
        },
        {
         "name": "MUE-MonetaryUnit",
         "dtype": "float64"
        },
        {
         "name": "UBT-Unibright",
         "dtype": "float64"
        },
        {
         "name": "UT-Ulord",
         "dtype": "float64"
        },
        {
         "name": "VRC-VeriCoin",
         "dtype": "float64"
        },
        {
         "name": "XDC-XinFin Network",
         "dtype": "float64"
        },
        {
         "name": "XHV-Haven Protocol",
         "dtype": "float64"
        },
        {
         "name": "XMY-Myriad",
         "dtype": "float64"
        },
        {
         "name": "AIDOC-AI Doctor",
         "dtype": "float64"
        },
        {
         "name": "BANCA-Banca",
         "dtype": "float64"
        },
        {
         "name": "BIR-Birake",
         "dtype": "float64"
        },
        {
         "name": "CURE-Curecoin",
         "dtype": "float64"
        },
        {
         "name": "EKO-EchoLink",
         "dtype": "float64"
        },
        {
         "name": "MTN-Medicalchain",
         "dtype": "float64"
        },
        {
         "name": "NYC-NewYorkCoin",
         "dtype": "float64"
        },
        {
         "name": "SOUL-Phantasma",
         "dtype": "float64"
        },
        {
         "name": "TIME-Chrono.tech",
         "dtype": "float64"
        },
        {
         "name": "UBEX-Ubex",
         "dtype": "float64"
        },
        {
         "name": "YEE-YEE",
         "dtype": "float64"
        },
        {
         "name": "ZAP-Zap Protocol",
         "dtype": "float64"
        },
        {
         "name": "AVT-Aventus",
         "dtype": "float64"
        },
        {
         "name": "CAPP-Cappasity",
         "dtype": "float64"
        },
        {
         "name": "CMCT-Crowd Machine",
         "dtype": "float64"
        },
        {
         "name": "DAV-DAV Network",
         "dtype": "float64"
        },
        {
         "name": "MSR-Masari",
         "dtype": "float64"
        },
        {
         "name": "NCC-NeuroChain",
         "dtype": "float64"
        },
        {
         "name": "OK-OKCash",
         "dtype": "float64"
        },
        {
         "name": "OLT-OneLedger",
         "dtype": "float64"
        },
        {
         "name": "PRIX-Privatix",
         "dtype": "float64"
        },
        {
         "name": "SIB-SIBCoin",
         "dtype": "float64"
        },
        {
         "name": "TRTT-Trittium",
         "dtype": "float64"
        },
        {
         "name": "YOC-Yocoin",
         "dtype": "float64"
        },
        {
         "name": "BTCZ-BitcoinZ",
         "dtype": "float64"
        },
        {
         "name": "DAGT-Digital Asset Guarantee Token",
         "dtype": "float64"
        },
        {
         "name": "DATX-DATx",
         "dtype": "float64"
        },
        {
         "name": "DEV-DeviantCoin",
         "dtype": "float64"
        },
        {
         "name": "DYN-Dynamic",
         "dtype": "float64"
        },
        {
         "name": "PINK-PinkCoin",
         "dtype": "float64"
        },
        {
         "name": "RTE-Rate3",
         "dtype": "float64"
        },
        {
         "name": "STK-STK",
         "dtype": "float64"
        },
        {
         "name": "STX-Stacks",
         "dtype": "float64"
        },
        {
         "name": "AAC-Acute Angle Cloud",
         "dtype": "float64"
        },
        {
         "name": "ADB-adbank",
         "dtype": "float64"
        },
        {
         "name": "COFI-CoinFi",
         "dtype": "float64"
        },
        {
         "name": "FLOT-Fire Lotto",
         "dtype": "float64"
        },
        {
         "name": "GBX-GoByte",
         "dtype": "float64"
        },
        {
         "name": "GXX-GravityCoin",
         "dtype": "float64"
        },
        {
         "name": "INXT-Internxt",
         "dtype": "float64"
        },
        {
         "name": "KRB-Karbo",
         "dtype": "float64"
        },
        {
         "name": "KRL-Kryll",
         "dtype": "float64"
        },
        {
         "name": "RYO-Ryo Currency",
         "dtype": "float64"
        },
        {
         "name": "SEND-Social Send",
         "dtype": "float64"
        },
        {
         "name": "ZCR-ZCore",
         "dtype": "float64"
        },
        {
         "name": "ZER-Zero",
         "dtype": "float64"
        },
        {
         "name": "AUX-Auxilium",
         "dtype": "float64"
        },
        {
         "name": "EVC-EventChain",
         "dtype": "float64"
        },
        {
         "name": "MTX-Matryx",
         "dtype": "float64"
        },
        {
         "name": "PKT-Playkey",
         "dtype": "float64"
        },
        {
         "name": "PLU-Pluton",
         "dtype": "float64"
        },
        {
         "name": "TCC-The ChampCoin",
         "dtype": "float64"
        },
        {
         "name": "XCASH-X-CASH",
         "dtype": "float64"
        },
        {
         "name": "ACM-Actinium",
         "dtype": "float64"
        },
        {
         "name": "EGEM-EtherGem",
         "dtype": "float64"
        },
        {
         "name": "ELY-Elysian",
         "dtype": "float64"
        },
        {
         "name": "ETHO-Ether-1",
         "dtype": "float64"
        },
        {
         "name": "MONK-Monkey Project",
         "dtype": "float64"
        },
        {
         "name": "SUMO-Sumokoin",
         "dtype": "float64"
        },
        {
         "name": "AMM-MicroMoney",
         "dtype": "float64"
        },
        {
         "name": "APR-APR Coin",
         "dtype": "float64"
        },
        {
         "name": "SCRIV-SCRIV NETWORK",
         "dtype": "float64"
        },
        {
         "name": "TELOS-Teloscoin",
         "dtype": "float64"
        },
        {
         "name": "TNS-Transcodium",
         "dtype": "float64"
        },
        {
         "name": "BTCN-BitcoiNote",
         "dtype": "float64"
        },
        {
         "name": "CYL-Crystal Token",
         "dtype": "float64"
        },
        {
         "name": "JOINT-Joint Ventures",
         "dtype": "float64"
        },
        {
         "name": "MMO-MMOCoin",
         "dtype": "float64"
        },
        {
         "name": "PNY-Peony",
         "dtype": "float64"
        },
        {
         "name": "TCH-Thore Cash",
         "dtype": "float64"
        },
        {
         "name": "COLX-ColossusXT",
         "dtype": "float64"
        },
        {
         "name": "FLASH-Flash",
         "dtype": "float64"
        },
        {
         "name": "HVN-Hiveterminal Token",
         "dtype": "float64"
        },
        {
         "name": "IOC-I/O Coin",
         "dtype": "float64"
        },
        {
         "name": "PYN-PAYCENT",
         "dtype": "float64"
        },
        {
         "name": "TRC-Terracoin",
         "dtype": "float64"
        },
        {
         "name": "LOG-Woodcoin",
         "dtype": "float64"
        },
        {
         "name": "FYP-FlypMe",
         "dtype": "float64"
        },
        {
         "name": "BRO-Bitradio",
         "dtype": "float64"
        },
        {
         "name": "CREA-CREA",
         "dtype": "float64"
        },
        {
         "name": "CRM-Cream",
         "dtype": "float64"
        },
        {
         "name": "XDNA-XDNA",
         "dtype": "float64"
        },
        {
         "name": "ARION-Arion",
         "dtype": "float64"
        },
        {
         "name": "BOLI-Bolivarcoin",
         "dtype": "float64"
        },
        {
         "name": "CCO-Ccore",
         "dtype": "float64"
        },
        {
         "name": "LCP-Litecoin Plus",
         "dtype": "float64"
        },
        {
         "name": "MXT-MarteXcoin",
         "dtype": "float64"
        },
        {
         "name": "DRM-Dreamcoin",
         "dtype": "float64"
        },
        {
         "name": "EMD-Emerald Crypto",
         "dtype": "float64"
        },
        {
         "name": "SCRT-Secret",
         "dtype": "float64"
        },
        {
         "name": "YTN-YENTEN",
         "dtype": "float64"
        },
        {
         "name": "MAR-Mchain",
         "dtype": "float64"
        },
        {
         "name": "ATP-Atlas Protocol",
         "dtype": "float64"
        },
        {
         "name": "BKBT-BeeKan",
         "dtype": "float64"
        },
        {
         "name": "BTMX-BitMax Token",
         "dtype": "float64"
        },
        {
         "name": "DACC-DACC",
         "dtype": "float64"
        },
        {
         "name": "EDU-EduCoin",
         "dtype": "float64"
        },
        {
         "name": "FOX-SmartFox",
         "dtype": "float64"
        },
        {
         "name": "HPT-Huobi Pool Token",
         "dtype": "float64"
        },
        {
         "name": "LUNA-Terra",
         "dtype": "float64"
        },
        {
         "name": "MOF-Molecular Future",
         "dtype": "float64"
        },
        {
         "name": "RBTC-RSK Smart Bitcoin",
         "dtype": "float64"
        },
        {
         "name": "SHE-ShineChain",
         "dtype": "float64"
        },
        {
         "name": "VOLT-Bitvolt",
         "dtype": "float64"
        },
        {
         "name": "ADK-Aidos Kuneen",
         "dtype": "float64"
        },
        {
         "name": "ADM-ADAMANT Messenger",
         "dtype": "float64"
        },
        {
         "name": "BUT-BitUP Token",
         "dtype": "float64"
        },
        {
         "name": "HDAC-Hdac",
         "dtype": "float64"
        },
        {
         "name": "IIC-Intelligent Investment Chain",
         "dtype": "float64"
        },
        {
         "name": "LEMO-LemoChain",
         "dtype": "float64"
        },
        {
         "name": "MEET-CoinMeet",
         "dtype": "float64"
        },
        {
         "name": "PC-PromotionChain",
         "dtype": "float64"
        },
        {
         "name": "TOPC-TopChain",
         "dtype": "float64"
        },
        {
         "name": "UC-YouLive Coin",
         "dtype": "float64"
        },
        {
         "name": "UIP-UnlimitedIP",
         "dtype": "float64"
        },
        {
         "name": "VDG-VeriDocGlobal",
         "dtype": "float64"
        },
        {
         "name": "VTHO-VeThor Token",
         "dtype": "float64"
        },
        {
         "name": "XUC-Exchange Union",
         "dtype": "float64"
        },
        {
         "name": "YCC-Yuan Chain",
         "dtype": "float64"
        },
        {
         "name": "BNK-Bankera",
         "dtype": "float64"
        },
        {
         "name": "CEL-Celsius",
         "dtype": "float64"
        },
        {
         "name": "_deepnote_index_column",
         "dtype": "datetime64[ns]"
        }
       ],
       "rows_top": [
        {
         "ADA-Cardano": -0.6828680344647349,
         "ATOM-Cosmos": -0.8671956163165515,
         "BAT-Basic Attention Token": -0.7632990751056319,
         "BCD-Bitcoin Diamond": -0.60345057787746,
         "BCH-Bitcoin Cash": -0.7363643957802575,
         "BNB-Binance Coin": -0.6403048646268524,
         "BSV-Bitcoin SV": -1.59153917580041,
         "BTC-Bitcoin": -0.8047128349965258,
         "BTG-Bitcoin Gold": -0.5838329475402886,
         "BTT-BitTorrent": -0.4747349875322403,
         "CRO-Crypto.com Chain": -1.2091427072348473,
         "DASH-Dash": -0.6432995785572265,
         "DCR-Decred": -0.6721768230654511,
         "DOGE-Dogecoin": -0.5403334640198798,
         "EGT-Egretia": 0.16560468678147372,
         "EOS-EOS": -0.4902811003888801,
         "ETC-Ethereum Classic": -0.5705202926855192,
         "ETH-Ethereum": -0.7697118200120745,
         "HOT-Holo": -0.5103184481183078,
         "HT-Huobi Token": -0.7048879740349426,
         "KCS-KuCoin Shares": -0.5411152723669982,
         "LINK-Chainlink": -1.0342130340259892,
         "LSK-Lisk": -0.7162416814162832,
         "LTC-Litecoin": -0.6187486404575916,
         "MIOTA-IOTA": -0.5777480982384023,
         "MKR-Maker": -0.6878609410661263,
         "NANO-Nano": -0.6856802873259609,
         "NEO-NEO": -0.7854045249526312,
         "NPXS-Pundi X": -0.4009576332284715,
         "OMG-OMG Network": -0.941407515389176,
         "ONT-Ontology": -0.4230010256301945,
         "PAX-Paxos Standard": 1.4045283506150696,
         "QTUM-Qtum": -0.6442605185424006,
         "RVN-Ravencoin": -0.44943392076015387,
         "TRX-TRON": -0.7947566973647401,
         "TUSD-TrueUSD": 0.8714592825073417,
         "USDC-USD Coin": 1.1397221983110648,
         "USDT-Tether": 0.44262453991433925,
         "VET-VeChain Thor": -0.693341783027444,
         "VSYS-V Systems": 3.000415203786877,
         "WAVES-Waves": -0.7513527915083927,
         "XEM-NEM": -0.7732129676113898,
         "XLM-Stellar": -0.7856681652132435,
         "XMR-Monero": -0.8268422123654462,
         "XRP-XRP": -0.5716779128436433,
         "XTZ-Tezos": -1.4723119844288093,
         "ZEC-Zcash": -0.8363656881475813,
         "ZRX-0x": -0.8081086328277154,
         "ABBC-ABBC Coin": -0.20425997821236028,
         "AE-Aeternity": -0.01791164054739071,
         "AOA-Aurora": 0.9114120356336964,
         "ARDR-Ardor": -0.5774404606751328,
         "BCN-Bytecoin": -0.015438470579883897,
         "BTM-Bytom": -0.7526452332684961,
         "BTS-BitShares": -0.41194532210203283,
         "DAI-Dai": 0.07369835541538594,
         "DGB-DigiByte": -0.8185931157190337,
         "EKT-EDUCare": 3.4390057818699327,
         "ELF-aelf": -0.6707990588683802,
         "ENJ-Enjin Coin": -0.6835039930195832,
         "ETP-Metaverse ETP": 3.9881353434915843,
         "GNT-Golem": -0.755984820860334,
         "GXC-GXChain": -1.08268241164238,
         "HC-HyperCash": 1.0930108916838412,
         "ICX-ICON": -0.7978242831968981,
         "IOST-IOStoken": -0.6385250191832493,
         "KMD-Komodo": -0.48485647584044467,
         "LAMB-Lambda": 3.5788450692917526,
         "MAID-MaidSafeCoin": -0.47931508930180616,
         "MCO-Crypto.com": -0.5935787897430895,
         "MONA-MonaCoin": -1.022368313554296,
         "NEX-Nash Exchange": 1.0318333572910332,
         "NEXO-Nexo": -0.715376034022818,
         "NRG-Energi": 2.025216074064842,
         "PAI-Project Pai": -0.07908400991866651,
         "QNT-Quant": -0.452998327682646,
         "REN-REN": -0.9214564896850028,
         "RIF-RIF Token": -0.4030498969727763,
         "SC-Siacoin": -0.660790650017572,
         "SNT-Status": -0.7595697666421941,
         "SOLVE-SOLVE": -0.44183404013910266,
         "STEEM-Steem": -0.6657012913272359,
         "STRAX-Stratis": -0.6472963151753893,
         "THETA-Theta Token": -0.6896605736358165,
         "UUU-U Network": -0.041639348147083574,
         "XMX-XMAX": 2.3168281744378945,
         "XVG-Verge": -0.7054455435966659,
         "XZC-Zcoin": -0.43893152315574985,
         "ZIL-Zilliqa": -0.7915370702224829,
         "AION-Aion": -0.7056256023645553,
         "ARK-Ark": -0.7457498529574715,
         "BEAM-BEAM": 1.2604132526609935,
         "BIX-Bibox Token": 1.3190331589220907,
         "BNT-Bancor": -0.7783833462587296,
         "CELR-Celer Network": -0.5769568102454361,
         "CMT-CyberMiles": 0.44768112038959623,
         "DENT-Dent": -0.44065692992493377,
         "DGD-DigixDAO": -0.8508283879166504,
         "ELA-Elastos": -0.3136751114691867,
         "ENG-Enigma": -0.19536195871007653,
         "ETN-Electroneum": -0.5769922652099341,
         "FSN-Fusion": -0.33048685265984257,
         "FTM-Fantom": -0.5406464761766446,
         "FX-Function X": "nan",
         "GRIN-Grin": 2.4496023200199653,
         "IGNIS-Ignis": -0.4979590883634642,
         "KNC-Kyber Network": -1.2151771368135134,
         "LA-LAToken": -0.03820982388027726,
         "LOOM-Loom Network": -0.43704033109783746,
         "LRC-Loopring": -0.9068922193662134,
         "MANA-Decentraland": -0.6608893200160741,
         "NAS-Nebulas": -0.015180793749305557,
         "NEW-Newton": 2.0374400274205597,
         "NULS-Nuls": -0.33225062805912065,
         "ONE-Harmony": -0.5697663837919187,
         "ORBS-Orbs": -0.49838501917046685,
         "PIVX-PIVX": -0.8802908477369145,
         "POWR-Power Ledger": -0.7438078543626977,
         "PPT-Populous": -0.6061766980061776,
         "QASH-QASH": 0.8843743261026403,
         "QKC-QuarkChain": -0.43486789942486115,
         "RDD-ReddCoin": -0.4887850914064328,
         "SNX-Synthetix Network Token": -0.935546698703375,
         "TFUEL-Theta Fuel": -0.6342392880485441,
         "TOMO-TomoChain": -0.9236866382554806,
         "TRUE-TrueChain": -0.06566117345212288,
         "VERI-Veritaseum": 0.15027700102119007,
         "WAN-Wanchain": -0.633323098433945,
         "WICC-WaykiChain": -0.8033254429247874,
         "ZEN-Horizen": -0.7434426460567147,
         "ABT-Arcblock": 0.5601093515788619,
         "ANT-Aragon": -0.9574146314548518,
         "APL-Apollo Coin": -0.730843381836671,
         "BFT-BnkToTheFuture": -0.284010572610864,
         "BHP-Blockchain of Hash Power": 2.127067745035373,
         "BOTX-botXcoin": -0.49557145024687627,
         "BRD-Bread": 0.07907718522940803,
         "C20-CRYPTO20": -0.7478911389188366,
         "CRPT-Crypterium": 1.640093557407686,
         "CTXC-Cortex": -0.8317349234678265,
         "CVC-Civic": -0.630983425989004,
         "DAC-Davinci Coin": 0.05955922151525911,
         "DGTX-Digitex Futures": 0.2651451074605836,
         "DRGN-Dragonchain": -0.81469317940226,
         "EDO-Eidoo": -0.6730279219846099,
         "FET-Fetch": -0.6227689314578418,
         "FUN-FunFair": -0.694039534951489,
         "GAS-Gas": -0.6769152579561291,
         "GBYTE-Obyte": -0.4606826984157386,
         "GNO-Gnosis": -0.8566391248399359,
         "GRS-Groestlcoin": -0.6459305657635306,
         "HYN-Hyperion": -0.5823126717580706,
         "IOTX-IoTeX": -0.633563393122223,
         "ITC-IoT Chain": 0.5317232150178314,
         "KAN-BitKan": -0.259888461378662,
         "LXT-Litex": 8.27154140418546,
         "MATIC-Polygon": -0.5504710934258973,
         "META-Metadium": -0.5498357168773704,
         "MITH-Mithril": -0.3406858384008859,
         "MTL-Metal": -0.6021323084091622,
         "NXT-Nxt": -0.3695307689056829,
         "POLY-Polymath": -0.6497034515003887,
         "RLC-iExec RLC": -0.8618753401472578,
         "SEELE-Seele": -0.2288396630554627,
         "SKY-Skycoin": -0.5144483206262743,
         "STORJ-Storj": -0.6950392865664283,
         "SYS-Syscoin": -0.7268722968939052,
         "TEL-Telcoin": -0.4948860458483131,
         "TT-ThunderCore": -1.0122771987293124,
         "UGAS-Ultrain": 4.166921472064061,
         "VTC-Vertcoin": -0.5917055723079478,
         "ACT-Achain": -0.011284031937004738,
         "AERGO-Aergo": -0.48059970619875486,
         "ANKR-Ankr": -0.6206414378513713,
         "BCV-BitCapitalVendor": 4.560243381191862,
         "CND-Cindicator": -0.4996993996912939,
         "DX-DxChain": -2.232343424265064,
         "ETZ-Ether Zero": 4.632681823405719,
         "EVX-Everex": -0.2770988967138119,
         "FOAM-FOAM Token": -0.4416880875643182,
         "GTO-Gifto": -0.45437056246339513,
         "HPB-High Performance Blockchain": 1.12001591732135,
         "HYC-HYCON": 1.8659731334029621,
         "ILC-ILCoin": 0.36051905496583875,
         "INT-Internet Node Token": 1.0614859551445657,
         "IQ-Everipedia": -0.5883469364194879,
         "IRIS-IRIS Network": -0.8127235409472141,
         "LBA-Cred": -0.1013387190742777,
         "LTO-LTO Network": -0.6927523772347408,
         "MDA-Moeda Loyalty Points": -0.3109775540351412,
         "MFT-Mainframe": -0.6900378814764226,
         "MHC-#MetaHash": -0.32183084176245474,
         "MTC-Docademic": 0.46122845359105186,
         "NEBL-Neblio": -0.7004587637061797,
         "NKN-NKN": -0.5166239478227629,
         "NXS-Nexus": -0.6072079919900094,
         "OCN-Odyssey": 0.23478850876201815,
         "OGO-Origo": 2.7508984539161156,
         "PAY-TenX": 1.4331974400819247,
         "QRL-Quantum Resistant Ledger": -0.6852230949284753,
         "RUFF-RuffChain": 0.05925744421100242,
         "TOP-Top Network": 0.188719088928442,
         "UTK-UTRUST": -0.8207735100787993,
         "ADX-AdEx": -0.7648498307014558,
         "AEON-Aeon": -0.385710955272618,
         "ARRR-Pirate Chain": -0.48726290750527435,
         "BLOCK-Blocknet": -0.6944734837873697,
         "BTR-Bitrue Coin": -0.03369634678788594,
         "BURST-Burst": -0.3031876034047281,
         "DATA-Streamr DATAcoin": -1.0997059254788637,
         "DCN-Dentacoin": -0.06245936185342222,
         "DUSK-Dusk Network": -0.335439689767625,
         "EVN-Envion": 2.5444806537891655,
         "FLUX-Flux": -0.10854547627757911,
         "GO-GoChain": -0.6610704220175971,
         "KIN-Kin": -0.5079401477028711,
         "MAN-Matrix AI Network": 0.6508433273641951,
         "MOC-Mossland": -0.6016385868855562,
         "NCASH-Nucleus Vision": -0.38176523083099523,
         "OST-Simple Token": -0.29020289623378553,
         "PLR-Pillar": -0.3813355395463079,
         "PMA-PumaPay": -0.16994752555154963,
         "POE-Po.et": 1.413855141854473,
         "PPC-Peercoin": -0.13153852243454708,
         "PZM-PRIZM": 1.649650174335829,
         "RCN-Ripio Credit Network": -0.5326593448434656,
         "RDN-Raiden Network Token": -0.6343948407523723,
         "REQ-Request Network": -0.6879121098535773,
         "RSR-Reserve Rights": -0.8223010921425532,
         "SALT-SALT": -0.6164809083715699,
         "TCT-TokenClub": -0.34867442265930293,
         "TKY-Thekey": 0.8647753474996376,
         "TNB-Time New Bank": 0.3260300922993341,
         "TPAY-TokenPay": "nan",
         "TRIO-Tripio": 3.2985792602813087,
         "VITE-VITE": -0.5625683908429159,
         "WGR-Wagerr": -0.35595986584232003,
         "BLZ-Bluzelle": -0.7244175215262796,
         "CDT-Blox": -0.30198851918495057,
         "CS-Credits": 1.1973095045570068,
         "DBC-DeepBrain Wallet": -0.36432586841396586,
         "DERO-Dero": -0.5300787912085071,
         "DMT-DMarket": -0.631966796559687,
         "DTA-DATA": -0.31531704212738476,
         "EDR-Endor": -0.4429946843225366,
         "FLO-FlorinCoin": 1.0080137625174457,
         "GUSD-Gemini Dollar": 0.23252364291854138,
         "GVT-Genesis Vision": -0.5847261922321739,
         "KCASH-Kcash": -0.6767981541895304,
         "LOC-LockTrip": -0.5727775795472044,
         "MBL-MovieBloc": -0.5375783427055889,
         "NAV-Nav Coin": -0.6979554259983567,
         "NMR-Numeraire": -1.3332949121375937,
         "OAX-OAX": -0.5823143283673037,
         "PRO-Propy": -0.41277747888661154,
         "QSP-Quantstamp": -0.8441858686806729,
         "SBD-Steem Backed Dollars": -0.7816838376179585,
         "SMART-SmartCash": -0.645879353551471,
         "SMT-SmartMesh": -0.35124097720331726,
         "SOC-All Sports": -0.3730792795878434,
         "VIA-Viacoin": -0.5328639153320744,
         "WABI-Tael": -0.4945797566071077,
         "AOG-smARTOFGIVING": -0.6269610780537532,
         "AST-AirSwap": -0.7758339041063905,
         "BTX-Bitcore": -0.8370585128116889,
         "CNN-Content Neutrality Network": 0.46465166479856057,
         "DNT-district0x": -0.7169186144710687,
         "DVPN-Sentinel": -0.6286544842964031,
         "GNX-Genaro Network": -0.37956935311175954,
         "GTC-Game.com": -0.6132483343183576,
         "KEY-Selfkey": -0.7182820451672158,
         "LCC-Litecoin Cash": 1.1641565688429956,
         "LYM-Lympo": -0.3227738311400302,
         "MDS-MediShares": -0.3392990508144224,
         "MED-MediBloc": -0.5228903985298908,
         "MLN-Enzyme": -0.8970424732470416,
         "MTH-Monetha": -0.20761631172797004,
         "MTV-MultiVAC": 0.07770479137907967,
         "MWAT-Restart Energy MWAT": 0.13707728883045878,
         "NIX-NIX": -0.07234450430437814,
         "PHX-Red Pulse Phoenix": -0.19852727763984673,
         "RFR-Refereum": -0.5859738899195553,
         "S4F-S4FE": -1.0522367310036849,
         "SNGLS-SingularDTV": -0.37297177790327035,
         "SRN-SIRIN LABS Token": -0.5244436672538964,
         "SWFTC-SwftCoin": -0.4478526702481143,
         "UPP-Sentinel Protocol": -0.682738415497576,
         "VIBE-VIBE": -0.18755644257426282,
         "VIDT-VIDT Datalink": -0.9338354472745557,
         "XDN-DigitalNote": -0.480894309878233,
         "XYO-XYO": -0.37866108207466925,
         "APPC-AppCoins": -0.5547571497783911,
         "AVA-Travala.com": -0.832730285937383,
         "BCPT-BlockMason Credit Protocol": 1.2018685384653092,
         "CPC-CPChain": 0.28017083648371927,
         "CVT-CyberVein": -0.8611007447706535,
         "DAG-Constellation": -0.45317341557240487,
         "DGX-Digix Gold Token": -0.6739256907697249,
         "DLT-Agrello": -0.5316346019801801,
         "GSC-Global Social Chain": -0.3846308836424957,
         "LBC-LBRY Credits": -0.6894372664606976,
         "LEND-Aave (Old)": -0.8053758643753459,
         "MER-Mercury": -0.2796631763503454,
         "MITX-Morpheus Labs": -0.5613460831207672,
         "MVL-Mass Vehicle Ledger": -0.3290611230493924,
         "MVP-Merculet": 0.09314031078899766,
         "MXC-Machine Exchange Coin": -0.9622462846832011,
         "NLG-Gulden": -0.4849914452772656,
         "PI-Plian": -0.5080130221925145,
         "POA-POA Network": -0.6298642535400376,
         "QLC-QLC Chain": -0.5924938871890068,
         "SKM-Skrumble": -0.23459067347547058,
         "SSP-Smartshare": 3.161612780937961,
         "STPT-STP Network": -0.8726307907781428,
         "SWM-Swarm Fund Token": -0.1672812740726479,
         "UBQ-Ubiq": -0.7676902669449526,
         "VEIL-Veil": 2.528405204281722,
         "VEX-Vexanium": -0.18474144395737643,
         "VIB-Viberate": -0.5688264749785065,
         "YOYOW-YOYOW": -0.21038275099827736,
         "ABL-Airbloc": -0.5150025831145849,
         "ABYSS-The Abyss": -0.5953816575550146,
         "ADS-AdShares": -0.3301031286358047,
         "AMB-Ambrosus": -0.5558064798290361,
         "BOMB-BOMB": -0.20694400533267182,
         "BTU-BTU Protocol": -0.8424695085728042,
         "COVA-COVA": 0.6714908017996937,
         "DOCK-Dock": -0.6518454890856578,
         "FTC-Feathercoin": -0.4416095059143891,
         "FTI-FansTime": 1.1713945967978114,
         "GAME-GameCredits": -0.7382299125789157,
         "NIM-Nimiq": -0.9612981954152301,
         "PRE-Presearch": -0.784999802633979,
         "SINS-SafeInsure": 4.711667275736895,
         "SUB-Substratum": 1.7864752130897634,
         "TRTL-TurtleCoin": -0.3633117951264777,
         "TUBE-BitTube": 0.7223779174786636,
         "UNO2-Unobtanium": 0.17510630501016458,
         "BAAS-BaaSid": -0.41822701994863326,
         "BAX-BABB": -0.654954983118241,
         "BLK-BlackCoin": -0.4537596081496203,
         "CAS-Cashaa": "nan",
         "CHSB-SwissBorg": -0.787132307430607,
         "CLO-Callisto Network": -0.5632060837929764,
         "COV-Covesting": -0.9917008212150751,
         "CSP-Caspian": -0.5186881910310805,
         "LUN-Lunyr": 0.9099869002926725,
         "MDT-Measurable Data": -0.4396375977547136,
         "NSD-Nasdacoin": 0.3815864365876417,
         "PAC-PAC Protocol": -0.5954919879653526,
         "PHR-Phore": -0.9073865969219853,
         "POLIS-Polis": -0.04082059182172424,
         "REM-Remme": 0.11052606396270673,
         "SNC-SunContract": -0.7277175079700424,
         "XPM-Primecoin": 0.10424819492369002,
         "ZCN-0chain": -0.7849218581299344,
         "EDN-Eden": -0.18077416388276055,
         "GET-GET Protocol": -1.747945201309079,
         "HTML-HTMLCOIN": -0.6174915270282536,
         "KAT-Kambria": -0.5567878357521681,
         "KICK-KickToken": -0.23456326203645042,
         "NCT-PolySwarm": -0.6041622447160913,
         "RPD-Rapids": -0.3998933090130094,
         "XAUR-Xaurum": -0.9847522595370954,
         "AXPR-aXpire": -0.3434075355508146,
         "CHAT-ChatCoin": 0.02237039813167701,
         "CRW-Crown": -0.8301017221926503,
         "CV-carVertical": -0.4623429724449673,
         "CXO-CargoX": -0.6023788491925667,
         "DAX-DAEX": -0.3962385483456028,
         "FDZ-Friendz": 1.9995451470158332,
         "HMQ-Humaniq": -0.5397393360691165,
         "MUE-MonetaryUnit": -0.1504868797159904,
         "UBT-Unibright": -0.9079913325670109,
         "UT-Ulord": -0.7089406513640981,
         "VRC-VeriCoin": -0.38751069084632195,
         "XDC-XinFin Network": -0.6011140971007057,
         "XHV-Haven Protocol": -0.6926482355279573,
         "XMY-Myriad": -0.7625757701631112,
         "AIDOC-AI Doctor": 1.0289983581309698,
         "BANCA-Banca": -0.5343849156028861,
         "BIR-Birake": -0.35629644392601983,
         "CURE-Curecoin": -1.1928785371750559,
         "EKO-EchoLink": 1.3116350653648605,
         "MTN-Medicalchain": -0.13612488909753861,
         "NYC-NewYorkCoin": -0.7668195689340661,
         "SOUL-Phantasma": -0.4734129005820806,
         "TIME-Chrono.tech": -0.6129031160908237,
         "UBEX-Ubex": 0.633085601344569,
         "YEE-YEE": -0.49602395121691256,
         "ZAP-Zap Protocol": -0.818296555250402,
         "AVT-Aventus": -0.72958308003842,
         "CAPP-Cappasity": -0.15451870160280856,
         "CMCT-Crowd Machine": 0.23130798463866947,
         "DAV-DAV Network": -0.47985331923721697,
         "MSR-Masari": 0.6215383358091886,
         "NCC-NeuroChain": 0.9386551707043932,
         "OK-OKCash": -0.14369276305659331,
         "OLT-OneLedger": -0.2895198087867098,
         "PRIX-Privatix": 1.6824563835166084,
         "SIB-SIBCoin": 1.0879101813564511,
         "TRTT-Trittium": -0.6074282410437971,
         "YOC-Yocoin": -1.0225523389829396,
         "BTCZ-BitcoinZ": -0.462465240869452,
         "DAGT-Digital Asset Guarantee Token": -1.4061108624607008,
         "DATX-DATx": 0.3214598739958872,
         "DEV-DeviantCoin": -0.4723179800170748,
         "DYN-Dynamic": "nan",
         "PINK-PinkCoin": -0.6542900425500091,
         "RTE-Rate3": 1.3406444134025117,
         "STK-STK": 0.3805398160733918,
         "STX-Stacks": -0.8683919913776085,
         "AAC-Acute Angle Cloud": -0.8724564173947198,
         "ADB-adbank": -0.557053444487117,
         "COFI-CoinFi": 0.7484466416940582,
         "FLOT-Fire Lotto": -0.9116543545663766,
         "GBX-GoByte": -0.7642686924262755,
         "GXX-GravityCoin": 1.2685005280664028,
         "INXT-Internxt": -0.3506560468381411,
         "KRB-Karbo": -0.5385107041995566,
         "KRL-Kryll": -0.8826752489649469,
         "RYO-Ryo Currency": -0.09771836076080642,
         "SEND-Social Send": -0.8193531629578096,
         "ZCR-ZCore": 0.3744537617082168,
         "ZER-Zero": -1.2136042133423846,
         "AUX-Auxilium": -0.6157457509150677,
         "EVC-EventChain": -0.6567932470609379,
         "MTX-Matryx": -0.20014337050619857,
         "PKT-Playkey": -0.23994873382135254,
         "PLU-Pluton": -1.160089266102315,
         "TCC-The ChampCoin": -0.7362195831637428,
         "XCASH-X-CASH": -0.4282743739032786,
         "ACM-Actinium": 0.486981752428542,
         "EGEM-EtherGem": -0.47670562230392427,
         "ELY-Elysian": -0.23585407869835423,
         "ETHO-Ether-1": -0.5862717048951368,
         "MONK-Monkey Project": -0.36494838245701533,
         "SUMO-Sumokoin": -1.1913051984342111,
         "AMM-MicroMoney": -0.9365787692069928,
         "APR-APR Coin": -0.7131524027627818,
         "SCRIV-SCRIV NETWORK": -0.5597859622432432,
         "TELOS-Teloscoin": -1.1794512313512455,
         "TNS-Transcodium": -0.39280444113705215,
         "BTCN-BitcoiNote": 1.9260341664548266,
         "CYL-Crystal Token": 0.26835816168240784,
         "JOINT-Joint Ventures": 0.5350825378752851,
         "MMO-MMOCoin": -0.563469628105348,
         "PNY-Peony": -0.45872103135335907,
         "TCH-Thore Cash": -0.6028439755663225,
         "COLX-ColossusXT": -0.909964203922329,
         "FLASH-Flash": -1.4752072497099693,
         "HVN-Hiveterminal Token": -0.5027496454732405,
         "IOC-I/O Coin": 0.9253139368403474,
         "PYN-PAYCENT": 7.119936668582074,
         "TRC-Terracoin": -0.7605553386325862,
         "LOG-Woodcoin": 0.052475342498673076,
         "FYP-FlypMe": -0.2620690921876586,
         "BRO-Bitradio": 0.5968275986417273,
         "CREA-CREA": -0.7170906603564366,
         "CRM-Cream": 0.055578334347828495,
         "XDNA-XDNA": -0.47124975673705016,
         "ARION-Arion": -0.9703628499686632,
         "BOLI-Bolivarcoin": -2.1903893093492965,
         "CCO-Ccore": -0.04501158429317453,
         "LCP-Litecoin Plus": -0.6940266902420514,
         "MXT-MarteXcoin": 0.043188557360135986,
         "DRM-Dreamcoin": -0.05637730462386375,
         "EMD-Emerald Crypto": -0.7348783468293203,
         "SCRT-Secret": "nan",
         "YTN-YENTEN": -0.6449723236742382,
         "MAR-Mchain": 1.0433986932052428,
         "ATP-Atlas Protocol": 0.34880810312220645,
         "BKBT-BeeKan": -0.7400723474572963,
         "BTMX-BitMax Token": -0.4558791173521507,
         "DACC-DACC": 0.3272703671249922,
         "EDU-EduCoin": 0.08431435910953806,
         "FOX-SmartFox": "nan",
         "HPT-Huobi Pool Token": 0.06918836296989105,
         "LUNA-Terra": -0.4658270253706174,
         "MOF-Molecular Future": -0.08607191386239783,
         "RBTC-RSK Smart Bitcoin": -0.8082571037970024,
         "SHE-ShineChain": 0.9637707363363494,
         "VOLT-Bitvolt": "nan",
         "ADK-Aidos Kuneen": 3.581655770911622,
         "ADM-ADAMANT Messenger": "nan",
         "BUT-BitUP Token": 1.613412537399626,
         "HDAC-Hdac": 0.10284950781521343,
         "IIC-Intelligent Investment Chain": 0.28065950625310354,
         "LEMO-LemoChain": -0.07664428904420777,
         "MEET-CoinMeet": 0.12458011946084709,
         "PC-PromotionChain": 0.24735312887990252,
         "TOPC-TopChain": 1.6296213854719899,
         "UC-YouLive Coin": 1.8954711800367916,
         "UIP-UnlimitedIP": 1.8971504473870988,
         "VDG-VeriDocGlobal": -0.6485612179332568,
         "VTHO-VeThor Token": -0.5953199599813073,
         "XUC-Exchange Union": 0.3857671656506365,
         "YCC-Yuan Chain": -0.5190030092244844,
         "BNK-Bankera": -0.34801222717984787,
         "CEL-Celsius": -0.899601637874411,
         "_deepnote_index_column": "2019-09-25T00:00:00.000000"
        }
       ],
       "rows_bottom": [
        {
         "ADA-Cardano": 2.607958850259787,
         "ATOM-Cosmos": 3.802681135077673,
         "BAT-Basic Attention Token": 0.9822197651722564,
         "BCD-Bitcoin Diamond": 0.9152690698712825,
         "BCH-Bitcoin Cash": 0.9831818514074604,
         "BNB-Binance Coin": 1.5364629683419246,
         "BSV-Bitcoin SV": -0.5670924225232763,
         "BTC-Bitcoin": 1.2299660126996017,
         "BTG-Bitcoin Gold": 1.340252376419521,
         "BTT-BitTorrent": 1.1465131933328323,
         "CRO-Crypto.com Chain": 1.2322906967647083,
         "DASH-Dash": 0.9325605334669818,
         "DCR-Decred": 1.110005888500391,
         "DOGE-Dogecoin": 1.2424429205635172,
         "EGT-Egretia": 0.5820841261669024,
         "EOS-EOS": 0.6278214822551805,
         "ETC-Ethereum Classic": 1.5921398788299717,
         "ETH-Ethereum": 2.0746723954529056,
         "HOT-Holo": 1.290877625881756,
         "HT-Huobi Token": 1.0396813208709639,
         "KCS-KuCoin Shares": 1.7744540898597272,
         "LINK-Chainlink": 1.0785098516569758,
         "LSK-Lisk": 0.8312229654095298,
         "LTC-Litecoin": 1.0683423753157386,
         "MIOTA-IOTA": 1.447386979820451,
         "MKR-Maker": 1.1090470346143728,
         "NANO-Nano": 0.9889000145385609,
         "NEO-NEO": 0.9361948043412314,
         "NPXS-Pundi X": 0.35420761286485136,
         "OMG-OMG Network": 2.0414580629771657,
         "ONT-Ontology": 0.3411967920403069,
         "PAX-Paxos Standard": 0.39304219444616934,
         "QTUM-Qtum": 1.571505820135614,
         "RVN-Ravencoin": 1.078445196427522,
         "TRX-TRON": 1.9647806821020692,
         "TUSD-TrueUSD": 0.33242655365496654,
         "USDC-USD Coin": 0.8080396832786129,
         "USDT-Tether": 0.9616544124822726,
         "VET-VeChain Thor": 1.3120641237979909,
         "VSYS-V Systems": -0.6657991848190655,
         "WAVES-Waves": 2.8290942775159627,
         "XEM-NEM": 0.1876455010660658,
         "XLM-Stellar": 0.7874394181114803,
         "XMR-Monero": 1.1464588480988125,
         "XRP-XRP": 1.6290331954526334,
         "XTZ-Tezos": 3.0131744195200794,
         "ZEC-Zcash": 0.6880943492116085,
         "ZRX-0x": 0.693709904098787,
         "ABBC-ABBC Coin": -0.5717058016483726,
         "AE-Aeternity": -0.5175481465225842,
         "AOA-Aurora": -0.6937877162184414,
         "ARDR-Ardor": 1.7945104923721664,
         "BCN-Bytecoin": 0.9525301952085837,
         "BTM-Bytom": -0.9856953932025667,
         "BTS-BitShares": 0.2862116449145163,
         "DAI-Dai": -0.44604663292159213,
         "DGB-DigiByte": 0.6850054869934349,
         "EKT-EDUCare": -0.4343932291847084,
         "ELF-aelf": 3.9322896048313107,
         "ENJ-Enjin Coin": 1.1947923677115824,
         "ETP-Metaverse ETP": -0.34108423129715054,
         "GNT-Golem": 1.558711050269103,
         "GXC-GXChain": 0.5486110090502646,
         "HC-HyperCash": -1.0745932133494591,
         "ICX-ICON": 1.2949935116465312,
         "IOST-IOStoken": 2.6021889207696987,
         "KMD-Komodo": 0.21399916863905533,
         "LAMB-Lambda": -0.6575725264561556,
         "MAID-MaidSafeCoin": 0.5857899476814503,
         "MCO-Crypto.com": 0.30594618822183534,
         "MONA-MonaCoin": -0.24906481190283294,
         "NEX-Nash Exchange": -0.7180912672805454,
         "NEXO-Nexo": 0.6227600313326094,
         "NRG-Energi": -0.6083517955811452,
         "PAI-Project Pai": 0.2375102812419007,
         "QNT-Quant": 5.70650087192123,
         "REN-REN": 0.9419007281185674,
         "RIF-RIF Token": 0.9304207680181049,
         "SC-Siacoin": 0.9999253168199831,
         "SNT-Status": 0.7817593763533498,
         "SOLVE-SOLVE": -0.7127858446337125,
         "STEEM-Steem": 0.9854183262874016,
         "STRAX-Stratis": 2.6211885848123364,
         "THETA-Theta Token": 0.9039715294966304,
         "UUU-U Network": -0.05056524959536452,
         "XMX-XMAX": -0.421603352276783,
         "XVG-Verge": 0.6814907892861087,
         "XZC-Zcoin": 0.5278634817970531,
         "ZIL-Zilliqa": 0.7871852469637226,
         "AION-Aion": 0.45755462003608444,
         "ARK-Ark": 1.4118984665374703,
         "BEAM-BEAM": 0.3220452986437743,
         "BIX-Bibox Token": -0.6491858922882812,
         "BNT-Bancor": 0.7447834459299614,
         "CELR-Celer Network": 2.7953238395689124,
         "CMT-CyberMiles": -0.20462519714071076,
         "DENT-Dent": 0.8769853362853508,
         "DGD-DigixDAO": 2.0910284601032187,
         "ELA-Elastos": 0.6314474216389632,
         "ENG-Enigma": -0.9165781622571408,
         "ETN-Electroneum": 1.7957012600835207,
         "FSN-Fusion": 0.04377923757871657,
         "FTM-Fantom": 4.664673711751062,
         "FX-Function X": 1.5724258567328684,
         "GRIN-Grin": -0.8946411883847236,
         "IGNIS-Ignis": -0.41345171377895557,
         "KNC-Kyber Network": 0.6202089660256817,
         "LA-LAToken": 0.5804433801658683,
         "LOOM-Loom Network": 0.9175871808554024,
         "LRC-Loopring": 1.0860549041846141,
         "MANA-Decentraland": 1.276990403546827,
         "NAS-Nebulas": -0.20302193275484504,
         "NEW-Newton": -0.48561774371520167,
         "NULS-Nuls": 0.33234391424093396,
         "ONE-Harmony": 3.1155541960505495,
         "ORBS-Orbs": 1.6325057677306418,
         "PIVX-PIVX": 0.4701505161739821,
         "POWR-Power Ledger": 1.6152862687737644,
         "PPT-Populous": 0.7485936460543067,
         "QASH-QASH": 0.5379934502364839,
         "QKC-QuarkChain": 1.1612125964318654,
         "RDD-ReddCoin": 0.195328970848259,
         "SNX-Synthetix Network Token": 0.5656122068261868,
         "TFUEL-Theta Fuel": 1.1807548997615256,
         "TOMO-TomoChain": 1.1127457199119442,
         "TRUE-TrueChain": -1.4334833832612341,
         "VERI-Veritaseum": 1.0389097962103961,
         "WAN-Wanchain": 0.8291941956621038,
         "WICC-WaykiChain": -0.5415121788264569,
         "ZEN-Horizen": 1.391452109282711,
         "ABT-Arcblock": 0.7655732297229818,
         "ANT-Aragon": 0.8078462841835039,
         "APL-Apollo Coin": 0.8731601327231951,
         "BFT-BnkToTheFuture": -0.15308840611773664,
         "BHP-Blockchain of Hash Power": -1.1026407351484873,
         "BOTX-botXcoin": 2.5634102669176726,
         "BRD-Bread": -0.042064555021740016,
         "C20-CRYPTO20": 2.100834058886881,
         "CRPT-Crypterium": -1.308636212122058,
         "CTXC-Cortex": 0.7039117746757212,
         "CVC-Civic": 1.8499876725011253,
         "DAC-Davinci Coin": -0.5712216758252032,
         "DGTX-Digitex Futures": -1.2989401696986844,
         "DRGN-Dragonchain": 0.8004192615163671,
         "EDO-Eidoo": 0.45089951754894264,
         "FET-Fetch": 3.34403311310011,
         "FUN-FunFair": 0.6478743589662366,
         "GAS-Gas": 1.1262320474895513,
         "GBYTE-Obyte": -0.12961839021755686,
         "GNO-Gnosis": 1.7634895675864473,
         "GRS-Groestlcoin": 1.1561871735627425,
         "HYN-Hyperion": -0.44481872391149085,
         "IOTX-IoTeX": 2.2939960559499,
         "ITC-IoT Chain": -0.8528401734428094,
         "KAN-BitKan": 0.8488992704194137,
         "LXT-Litex": 0.1048112274778883,
         "MATIC-Polygon": 1.833677169596777,
         "META-Metadium": 0.9112001767592839,
         "MITH-Mithril": 0.8852953496332984,
         "MTL-Metal": 1.601538310139204,
         "NXT-Nxt": -0.04502891815999836,
         "POLY-Polymath": 3.364750569994259,
         "RLC-iExec RLC": 1.3912177031981532,
         "SEELE-Seele": -0.7762406035236885,
         "SKY-Skycoin": 0.31621342819055687,
         "STORJ-Storj": 1.204627120045863,
         "SYS-Syscoin": 1.3605190277843857,
         "TEL-Telcoin": 1.0333323569357185,
         "TT-ThunderCore": 0.7607287794306841,
         "UGAS-Ultrain": -0.6499839571802184,
         "VTC-Vertcoin": 0.3411367552030343,
         "ACT-Achain": 0.3555499519375951,
         "AERGO-Aergo": 1.6182399023040297,
         "ANKR-Ankr": 1.2047643364577076,
         "BCV-BitCapitalVendor": -0.47372201230536864,
         "CND-Cindicator": 0.3901625487394882,
         "DX-DxChain": -1.35071189196762,
         "ETZ-Ether Zero": 11.541719001896876,
         "EVX-Everex": 0.529566012419926,
         "FOAM-FOAM Token": 1.3054598328363554,
         "GTO-Gifto": 0.9286046867744039,
         "HPB-High Performance Blockchain": -0.22939394882689218,
         "HYC-HYCON": -1.3725117911470242,
         "ILC-ILCoin": -0.8001273015062587,
         "INT-Internet Node Token": 1.3008640901165445,
         "IQ-Everipedia": 1.2463541519777799,
         "IRIS-IRIS Network": 1.3561659508368415,
         "LBA-Cred": -1.0509349821816347,
         "LTO-LTO Network": 0.6344043027369488,
         "MDA-Moeda Loyalty Points": 0.2735386606951097,
         "MFT-Mainframe": 0.8776180993410597,
         "MHC-#MetaHash": 0.3199885095689552,
         "MTC-Docademic": -0.1789811379439532,
         "NEBL-Neblio": 0.34458353219203436,
         "NKN-NKN": 1.2207219986826818,
         "NXS-Nexus": 0.4933680632440689,
         "OCN-Odyssey": 0.6529414321373225,
         "OGO-Origo": 1.1602182778413503,
         "PAY-TenX": -0.3747611543121747,
         "QRL-Quantum Resistant Ledger": -0.032952061238231585,
         "RUFF-RuffChain": -0.38640858553012414,
         "TOP-Top Network": 0.4936514764988613,
         "UTK-UTRUST": 0.9573104566533515,
         "ADX-AdEx": 0.4080779126271115,
         "AEON-Aeon": 0.5230027622960356,
         "ARRR-Pirate Chain": 0.7836070267139688,
         "BLOCK-Blocknet": -0.1966641604618008,
         "BTR-Bitrue Coin": 1.6424254652296921,
         "BURST-Burst": 0.7530763263871362,
         "DATA-Streamr DATAcoin": 1.0421358678697958,
         "DCN-Dentacoin": 0.03334083171823498,
         "DUSK-Dusk Network": 0.6502894750927555,
         "EVN-Envion": -0.9673926469043899,
         "FLUX-Flux": 5.367180860923624,
         "GO-GoChain": 0.8631776123458649,
         "KIN-Kin": 0.6900999541408133,
         "MAN-Matrix AI Network": 0.41720415914723663,
         "MOC-Mossland": 1.6049395708565022,
         "NCASH-Nucleus Vision": 0.5287934403262209,
         "OST-Simple Token": -0.5286307408280067,
         "PLR-Pillar": 1.2911710032865509,
         "PMA-PumaPay": -0.39430361063583685,
         "POE-Po.et": -1.1038784757189335,
         "PPC-Peercoin": 1.8032034596863447,
         "PZM-PRIZM": -0.5687510836590292,
         "RCN-Ripio Credit Network": -1.1561553626619223,
         "RDN-Raiden Network Token": 0.5205296504458895,
         "REQ-Request Network": 2.6381390798075923,
         "RSR-Reserve Rights": 0.4487263937101832,
         "SALT-SALT": 0.7846453163707913,
         "TCT-TokenClub": 0.9527057774435931,
         "TKY-Thekey": 0.09475447580591283,
         "TNB-Time New Bank": 0.6608834139535089,
         "TPAY-TokenPay": 0.8073043434673894,
         "TRIO-Tripio": -0.5072344802094472,
         "VITE-VITE": 0.6856183380232445,
         "WGR-Wagerr": -0.34089546548983807,
         "BLZ-Bluzelle": 0.9611930954734116,
         "CDT-Blox": 2.802256630305537,
         "CS-Credits": -0.7169076666661268,
         "DBC-DeepBrain Wallet": 0.5149647377734273,
         "DERO-Dero": 4.937755232914881,
         "DMT-DMarket": -0.7352631137478092,
         "DTA-DATA": 0.11265620643047855,
         "EDR-Endor": -0.5147161783480692,
         "FLO-FlorinCoin": -0.28374186229808074,
         "GUSD-Gemini Dollar": -0.17054464077999604,
         "GVT-Genesis Vision": 0.35426539012616015,
         "KCASH-Kcash": -0.42832571023382054,
         "LOC-LockTrip": 1.4410505465211405,
         "MBL-MovieBloc": 0.8282344450617729,
         "NAV-Nav Coin": 0.9543599607817487,
         "NMR-Numeraire": 0.8727096631401453,
         "OAX-OAX": 0.4945955703556047,
         "PRO-Propy": 1.4482497553708955,
         "QSP-Quantstamp": 0.8050274997477644,
         "SBD-Steem Backed Dollars": 1.5034663347431236,
         "SMART-SmartCash": 0.35124129970500406,
         "SMT-SmartMesh": -0.36819004939674704,
         "SOC-All Sports": 1.3360208170700099,
         "VIA-Viacoin": -0.34450205160212943,
         "WABI-Tael": 0.21237676280971882,
         "AOG-smARTOFGIVING": -0.4399732938044331,
         "AST-AirSwap": 1.586855251554917,
         "BTX-Bitcore": -0.47817822519999037,
         "CNN-Content Neutrality Network": -0.42520114657142527,
         "DNT-district0x": 0.8419313497332112,
         "DVPN-Sentinel": 0.04624584725575308,
         "GNX-Genaro Network": 0.2458625825783189,
         "GTC-Game.com": -0.4031623938797633,
         "KEY-Selfkey": 1.4453691604101557,
         "LCC-Litecoin Cash": 0.2608035721751942,
         "LYM-Lympo": 0.1632636914787255,
         "MDS-MediShares": 0.2984640790087941,
         "MED-MediBloc": 2.331203501135374,
         "MLN-Enzyme": 1.7761519717286292,
         "MTH-Monetha": 0.8738560562893128,
         "MTV-MultiVAC": 4.073866454373541,
         "MWAT-Restart Energy MWAT": 1.1626195911697943,
         "NIX-NIX": -0.8061611021679808,
         "PHX-Red Pulse Phoenix": 0.37959852382564574,
         "RFR-Refereum": 1.1517807220243648,
         "S4F-S4FE": -1.204083394653035,
         "SNGLS-SingularDTV": -1.2876666698071653,
         "SRN-SIRIN LABS Token": -0.2854019609482361,
         "SWFTC-SwftCoin": 0.5215276261230873,
         "UPP-Sentinel Protocol": 1.8726031969659875,
         "VIBE-VIBE": -0.23086664115524336,
         "VIDT-VIDT Datalink": 1.5560922381368951,
         "XDN-DigitalNote": 0.2963563902252291,
         "XYO-XYO": 8.26076602452412,
         "APPC-AppCoins": 0.39510503021826815,
         "AVA-Travala.com": 1.3988036259086016,
         "BCPT-BlockMason Credit Protocol": -1.4379105030059411,
         "CPC-CPChain": -0.03442303704675677,
         "CVT-CyberVein": -0.7541403880302714,
         "DAG-Constellation": 3.069562556584137,
         "DGX-Digix Gold Token": -0.19215720972747893,
         "DLT-Agrello": 0.5241339785497529,
         "GSC-Global Social Chain": 0.5874509733944242,
         "LBC-LBRY Credits": -0.22221031439269706,
         "LEND-Aave (Old)": 1.1044505856447548,
         "MER-Mercury": 1.9648279543192682,
         "MITX-Morpheus Labs": 0.7710368325251736,
         "MVL-Mass Vehicle Ledger": 0.3981100304889063,
         "MVP-Merculet": 0.34180418676741975,
         "MXC-Machine Exchange Coin": 1.2040005598828936,
         "NLG-Gulden": 0.28389418917066483,
         "PI-Plian": -0.15706032884800117,
         "POA-POA Network": 0.17894639328620113,
         "QLC-QLC Chain": 0.39759031701771846,
         "SKM-Skrumble": -0.17704715578859145,
         "SSP-Smartshare": -0.28210271829207834,
         "STPT-STP Network": 1.1843902487098266,
         "SWM-Swarm Fund Token": -0.13324599465266107,
         "UBQ-Ubiq": 0.5506722594392284,
         "VEIL-Veil": -0.8603875817041,
         "VEX-Vexanium": 1.01914088463696,
         "VIB-Viberate": 0.3451288572695306,
         "YOYOW-YOYOW": 0.5838019456186138,
         "ABL-Airbloc": 0.5592179879257584,
         "ABYSS-The Abyss": 0.7622369004549862,
         "ADS-AdShares": 3.309531644470334,
         "AMB-Ambrosus": 0.38854369673174655,
         "BOMB-BOMB": 2.5311342950374662,
         "BTU-BTU Protocol": 1.3976762000854615,
         "COVA-COVA": -0.15742347990839145,
         "DOCK-Dock": 1.9052874224672058,
         "FTC-Feathercoin": 0.49688425601885766,
         "FTI-FansTime": 0.6400157398721876,
         "GAME-GameCredits": 0.503564742838726,
         "NIM-Nimiq": 0.035129995185543994,
         "PRE-Presearch": 4.985573351089569,
         "SINS-SafeInsure": -0.7235887542716898,
         "SUB-Substratum": 0.26762344469200555,
         "TRTL-TurtleCoin": 0.3966431829577457,
         "TUBE-BitTube": 0.09004186266685058,
         "UNO2-Unobtanium": -0.5594683092770396,
         "BAAS-BaaSid": 0.3148701610506658,
         "BAX-BABB": 0.9672177871416621,
         "BLK-BlackCoin": 1.142677505664259,
         "CAS-Cashaa": -0.9881865767371066,
         "CHSB-SwissBorg": 0.8822167390642631,
         "CLO-Callisto Network": 0.6740698260826904,
         "COV-Covesting": 0.6142109947879469,
         "CSP-Caspian": 0.8308626039901539,
         "LUN-Lunyr": -0.7773303572588359,
         "MDT-Measurable Data": 0.6359231574850748,
         "NSD-Nasdacoin": -0.9179865408812183,
         "PAC-PAC Protocol": 1.8959053883438979,
         "PHR-Phore": -0.9515247834538046,
         "POLIS-Polis": -1.3142309570858035,
         "REM-Remme": -0.3998009912852428,
         "SNC-SunContract": -0.0738784971982184,
         "XPM-Primecoin": 0.4038775519782149,
         "ZCN-0chain": 0.3113649737448708,
         "EDN-Eden": 1.3723496578381698,
         "GET-GET Protocol": -0.36518165335947944,
         "HTML-HTMLCOIN": 0.3091371875575793,
         "KAT-Kambria": 0.6557347436314651,
         "KICK-KickToken": 2.3683061730085644,
         "NCT-PolySwarm": 0.6148686837783378,
         "RPD-Rapids": 1.0249396122440553,
         "XAUR-Xaurum": -0.7682175619175925,
         "AXPR-aXpire": 0.4186926568600383,
         "CHAT-ChatCoin": -0.09206538338474901,
         "CRW-Crown": -0.41954357244983503,
         "CV-carVertical": 0.1897029549283727,
         "CXO-CargoX": 1.668605448613381,
         "DAX-DAEX": 1.2234640793504892,
         "FDZ-Friendz": -0.9903106708605507,
         "HMQ-Humaniq": -0.2188753563674587,
         "MUE-MonetaryUnit": -0.26200645522630744,
         "UBT-Unibright": 3.2640342982151114,
         "UT-Ulord": 1.5875156150189504,
         "VRC-VeriCoin": 0.2290050857559251,
         "XDC-XinFin Network": 2.35737458634413,
         "XHV-Haven Protocol": 0.28935988930687706,
         "XMY-Myriad": 0.587204314390241,
         "AIDOC-AI Doctor": -0.6273066876644895,
         "BANCA-Banca": -0.29897806712852837,
         "BIR-Birake": 4.71447115931804,
         "CURE-Curecoin": 0.454052249723554,
         "EKO-EchoLink": -0.2874269702273371,
         "MTN-Medicalchain": 0.5991648853737345,
         "NYC-NewYorkCoin": 0.4968007689990994,
         "SOUL-Phantasma": 1.9310111933337648,
         "TIME-Chrono.tech": 3.405658165143181,
         "UBEX-Ubex": -0.0379558454933444,
         "YEE-YEE": -0.022592973231424958,
         "ZAP-Zap Protocol": -0.3120102539772322,
         "AVT-Aventus": 0.7841048684002949,
         "CAPP-Cappasity": -0.3285921319128632,
         "CMCT-Crowd Machine": -1.0690525089991094,
         "DAV-DAV Network": 0.835170160146416,
         "MSR-Masari": 0.7715224697922352,
         "NCC-NeuroChain": 2.403528838666535,
         "OK-OKCash": -0.385497366959492,
         "OLT-OneLedger": 2.1923640755882374,
         "PRIX-Privatix": -0.7419675967603204,
         "SIB-SIBCoin": 0.15084579653076327,
         "TRTT-Trittium": 0.36351370077578304,
         "YOC-Yocoin": 1.8650440497892529,
         "BTCZ-BitcoinZ": 0.9082171838045501,
         "DAGT-Digital Asset Guarantee Token": 1.6133133686078442,
         "DATX-DATx": 0.2566250959347307,
         "DEV-DeviantCoin": 0.9334326074566787,
         "DYN-Dynamic": -1.128813998194145,
         "PINK-PinkCoin": 0.5839233257901401,
         "RTE-Rate3": 0.4505067157444292,
         "STK-STK": 0.14287438930569962,
         "STX-Stacks": 1.542181235430718,
         "AAC-Acute Angle Cloud": -1.106609568162661,
         "ADB-adbank": 0.08216678901373148,
         "COFI-CoinFi": 0.2241453931257286,
         "FLOT-Fire Lotto": -0.1327458057176997,
         "GBX-GoByte": 2.261850484263612,
         "GXX-GravityCoin": -1.7719455987410149,
         "INXT-Internxt": -0.31474854322206347,
         "KRB-Karbo": 1.046171932878141,
         "KRL-Kryll": 0.6044038473039499,
         "RYO-Ryo Currency": 1.7542131139323325,
         "SEND-Social Send": 0.3558303104135175,
         "ZCR-ZCore": -1.347452861664347,
         "ZER-Zero": 0.6129334348700778,
         "AUX-Auxilium": 0.029147400452713502,
         "EVC-EventChain": 0.07897512061250307,
         "MTX-Matryx": 0.7892583961062531,
         "PKT-Playkey": -0.6009438844375498,
         "PLU-Pluton": 0.012560213697108632,
         "TCC-The ChampCoin": 4.783429478903548,
         "XCASH-X-CASH": 0.9154831468719972,
         "ACM-Actinium": 0.10805591460675587,
         "EGEM-EtherGem": 0.3447766701202856,
         "ELY-Elysian": 1.68569664030708,
         "ETHO-Ether-1": 0.7689072766966202,
         "MONK-Monkey Project": 0.14553238236762533,
         "SUMO-Sumokoin": -0.12177422939544041,
         "AMM-MicroMoney": 0.5397044506765863,
         "APR-APR Coin": 0.8129267446150672,
         "SCRIV-SCRIV NETWORK": 0.5652732958433165,
         "TELOS-Teloscoin": -1.5628430431645746,
         "TNS-Transcodium": 0.22305765687831575,
         "BTCN-BitcoiNote": 0.8950724864343497,
         "CYL-Crystal Token": -0.3933873881909065,
         "JOINT-Joint Ventures": 1.5489387499495297,
         "MMO-MMOCoin": 0.5517123274095754,
         "PNY-Peony": 0.6598647887779412,
         "TCH-Thore Cash": 0.6882780771004942,
         "COLX-ColossusXT": -0.07022880745825244,
         "FLASH-Flash": -1.6739929575187353,
         "HVN-Hiveterminal Token": 0.8161417899390617,
         "IOC-I/O Coin": 1.3190169182453386,
         "PYN-PAYCENT": -0.3107601911404875,
         "TRC-Terracoin": -1.3572589613329662,
         "LOG-Woodcoin": -0.039262414537039686,
         "FYP-FlypMe": 1.5831965672351553,
         "BRO-Bitradio": -0.8132657381790519,
         "CREA-CREA": -1.0562102266598536,
         "CRM-Cream": -0.1318589942959671,
         "XDNA-XDNA": -0.801398937308993,
         "ARION-Arion": 0.08101598714661802,
         "BOLI-Bolivarcoin": -0.9481834007086923,
         "CCO-Ccore": 0.5299245551648663,
         "LCP-Litecoin Plus": -0.15914578983031485,
         "MXT-MarteXcoin": -0.2856640600372867,
         "DRM-Dreamcoin": -0.01440365779534549,
         "EMD-Emerald Crypto": 0.48706467031988543,
         "SCRT-Secret": 0.21643666142203596,
         "YTN-YENTEN": 0.19510990587237012,
         "MAR-Mchain": 0.3033034004457446,
         "ATP-Atlas Protocol": -0.1290324342514785,
         "BKBT-BeeKan": 0.18260202256398161,
         "BTMX-BitMax Token": 0.664742789670524,
         "DACC-DACC": 0.052861868102770555,
         "EDU-EduCoin": -0.2994160822253523,
         "FOX-SmartFox": 0.9613227435529479,
         "HPT-Huobi Pool Token": -0.28937412462242346,
         "LUNA-Terra": 4.057159258701564,
         "MOF-Molecular Future": 2.0156908257290977,
         "RBTC-RSK Smart Bitcoin": 1.247789160524118,
         "SHE-ShineChain": -0.5426345298390705,
         "VOLT-Bitvolt": -0.4970807500069516,
         "ADK-Aidos Kuneen": -0.628845263334353,
         "ADM-ADAMANT Messenger": 0.04362554208977595,
         "BUT-BitUP Token": -0.8775971238268372,
         "HDAC-Hdac": 1.4756660810536042,
         "IIC-Intelligent Investment Chain": -0.5914754184557466,
         "LEMO-LemoChain": 1.0714935791319182,
         "MEET-CoinMeet": -0.6564975273062028,
         "PC-PromotionChain": -0.12700129751639413,
         "TOPC-TopChain": -1.2394934860762363,
         "UC-YouLive Coin": 0.0066267009110690354,
         "UIP-UnlimitedIP": 0.47927946690125023,
         "VDG-VeriDocGlobal": -0.09025762354923475,
         "VTHO-VeThor Token": 1.1200500673336733,
         "XUC-Exchange Union": -1.289986691206903,
         "YCC-Yuan Chain": -0.05192764293495866,
         "BNK-Bankera": -0.8819917032342116,
         "CEL-Celsius": 1.0485315657724876,
         "_deepnote_index_column": "2021-09-13T00:00:00.000000"
        }
       ]
      },
      "text/plain": "            ADA-Cardano  ATOM-Cosmos  BAT-Basic Attention Token  \\\ntime                                                              \n2019-09-25    -0.682868    -0.867196                  -0.763299   \n2019-09-26    -0.684213    -0.877807                  -0.790771   \n2019-09-27    -0.682724    -0.869998                  -0.743200   \n2019-09-28    -0.683146    -0.870142                  -0.753507   \n2019-09-29    -0.685193    -0.881016                  -0.770767   \n...                 ...          ...                        ...   \n2021-09-09     2.784102     2.614350                   1.229424   \n2021-09-10     2.600751     2.991723                   1.082902   \n2021-09-11     2.958273     2.687460                   1.114224   \n2021-09-12     2.874421     3.747119                   1.223339   \n2021-09-13     2.607959     3.802681                   0.982220   \n\n            BCD-Bitcoin Diamond  BCH-Bitcoin Cash  BNB-Binance Coin  \\\ntime                                                                  \n2019-09-25            -0.603451         -0.736364         -0.640305   \n2019-09-26            -0.677764         -0.797760         -0.645266   \n2019-09-27            -0.635144         -0.771423         -0.642585   \n2019-09-28            -0.645852         -0.739701         -0.642299   \n2019-09-29            -0.688310         -0.781189         -0.645268   \n...                         ...               ...               ...   \n2021-09-09             1.152974          1.205238          1.695164   \n2021-09-10             1.011615          1.064551          1.585792   \n2021-09-11             1.033970          1.098040          1.604340   \n2021-09-12             1.082051          1.140477          1.667131   \n2021-09-13             0.915269          0.983182          1.536463   \n\n            BSV-Bitcoin SV  BTC-Bitcoin  BTG-Bitcoin Gold  BTT-BitTorrent  \\\ntime                                                                        \n2019-09-25       -1.591539    -0.804713         -0.583833       -0.474735   \n2019-09-26       -1.644693    -0.826891         -0.589445       -0.489073   \n2019-09-27       -1.623089    -0.820606         -0.588217       -0.485728   \n2019-09-28       -1.622081    -0.818474         -0.585650       -0.482860   \n2019-09-29       -1.656551    -0.827682         -0.599463       -0.491463   \n...                    ...          ...               ...             ...   \n2021-09-09       -0.447151     1.355093          1.545102        1.275121   \n2021-09-10       -0.517032     1.272118          1.424068        1.165839   \n2021-09-11       -0.472490     1.291878          1.421768        1.182917   \n2021-09-12       -0.459053     1.336386          1.453086        1.310817   \n2021-09-13       -0.567092     1.229966          1.340252        1.146513   \n\n            ...  SIL-Sister In Law  SPE-SavePlanetEarth  SRX-StorX Token  \\\ntime        ...                                                            \n2019-09-25  ...                NaN                  NaN              NaN   \n2019-09-26  ...                NaN                  NaN              NaN   \n2019-09-27  ...                NaN                  NaN              NaN   \n2019-09-28  ...                NaN                  NaN              NaN   \n2019-09-29  ...                NaN                  NaN              NaN   \n...         ...                ...                  ...              ...   \n2021-09-09  ...           1.286475            -0.422121         1.389849   \n2021-09-10  ...           1.205009            -1.302170         1.027677   \n2021-09-11  ...           1.087712            -1.362123         1.171771   \n2021-09-12  ...           0.894935            -1.524154         1.490995   \n2021-09-13  ...           0.500682            -1.605330         1.318647   \n\n            STACK2-StackOS  UFO2-The Truth  VPP-Virtue Poker  WAIV-Waiv  \\\ntime                                                                      \n2019-09-25             NaN             NaN               NaN        NaN   \n2019-09-26             NaN             NaN               NaN        NaN   \n2019-09-27             NaN             NaN               NaN        NaN   \n2019-09-28             NaN             NaN               NaN        NaN   \n2019-09-29             NaN             NaN               NaN        NaN   \n...                    ...             ...               ...        ...   \n2021-09-09       -1.761945       -0.829180          0.430398  -1.243069   \n2021-09-10       -0.568971       -1.165651         -0.350480  -1.344945   \n2021-09-11       -0.679433       -1.271517         -0.198654  -1.482033   \n2021-09-12        0.173065       -1.173173         -0.553313  -1.442655   \n2021-09-13        0.166218       -1.035520         -0.784102  -1.500836   \n\n            WEYU-WEYU  WOOF-Shibance Token  ZENC-Zenccoin  \ntime                                                       \n2019-09-25        NaN                  NaN            NaN  \n2019-09-26        NaN                  NaN            NaN  \n2019-09-27        NaN                  NaN            NaN  \n2019-09-28        NaN                  NaN            NaN  \n2019-09-29        NaN                  NaN            NaN  \n...               ...                  ...            ...  \n2021-09-09  -0.570842            -1.001474       0.737034  \n2021-09-10  -1.131891            -1.472715       0.765938  \n2021-09-11  -0.748974            -1.489082       0.702807  \n2021-09-12  -0.726041            -1.588400       0.735289  \n2021-09-13  -0.916610            -2.030438      -1.651186  \n\n[720 rows x 1112 columns]",
      "text/html": "<div>\n<style scoped>\n    .dataframe tbody tr th:only-of-type {\n        vertical-align: middle;\n    }\n\n    .dataframe tbody tr th {\n        vertical-align: top;\n    }\n\n    .dataframe thead th {\n        text-align: right;\n    }\n</style>\n<table border=\"1\" class=\"dataframe\">\n  <thead>\n    <tr style=\"text-align: right;\">\n      <th></th>\n      <th>ADA-Cardano</th>\n      <th>ATOM-Cosmos</th>\n      <th>BAT-Basic Attention Token</th>\n      <th>BCD-Bitcoin Diamond</th>\n      <th>BCH-Bitcoin Cash</th>\n      <th>BNB-Binance Coin</th>\n      <th>BSV-Bitcoin SV</th>\n      <th>BTC-Bitcoin</th>\n      <th>BTG-Bitcoin Gold</th>\n      <th>BTT-BitTorrent</th>\n      <th>...</th>\n      <th>SIL-Sister In Law</th>\n      <th>SPE-SavePlanetEarth</th>\n      <th>SRX-StorX Token</th>\n      <th>STACK2-StackOS</th>\n      <th>UFO2-The Truth</th>\n      <th>VPP-Virtue Poker</th>\n      <th>WAIV-Waiv</th>\n      <th>WEYU-WEYU</th>\n      <th>WOOF-Shibance Token</th>\n      <th>ZENC-Zenccoin</th>\n    </tr>\n    <tr>\n      <th>time</th>\n      <th></th>\n      <th></th>\n      <th></th>\n      <th></th>\n      <th></th>\n      <th></th>\n      <th></th>\n      <th></th>\n      <th></th>\n      <th></th>\n      <th></th>\n      <th></th>\n      <th></th>\n      <th></th>\n      <th></th>\n      <th></th>\n      <th></th>\n      <th></th>\n      <th></th>\n      <th></th>\n      <th></th>\n    </tr>\n  </thead>\n  <tbody>\n    <tr>\n      <th>2019-09-25</th>\n      <td>-0.682868</td>\n      <td>-0.867196</td>\n      <td>-0.763299</td>\n      <td>-0.603451</td>\n      <td>-0.736364</td>\n      <td>-0.640305</td>\n      <td>-1.591539</td>\n      <td>-0.804713</td>\n      <td>-0.583833</td>\n      <td>-0.474735</td>\n      <td>...</td>\n      <td>NaN</td>\n      <td>NaN</td>\n      <td>NaN</td>\n      <td>NaN</td>\n      <td>NaN</td>\n      <td>NaN</td>\n      <td>NaN</td>\n      <td>NaN</td>\n      <td>NaN</td>\n      <td>NaN</td>\n    </tr>\n    <tr>\n      <th>2019-09-26</th>\n      <td>-0.684213</td>\n      <td>-0.877807</td>\n      <td>-0.790771</td>\n      <td>-0.677764</td>\n      <td>-0.797760</td>\n      <td>-0.645266</td>\n      <td>-1.644693</td>\n      <td>-0.826891</td>\n      <td>-0.589445</td>\n      <td>-0.489073</td>\n      <td>...</td>\n      <td>NaN</td>\n      <td>NaN</td>\n      <td>NaN</td>\n      <td>NaN</td>\n      <td>NaN</td>\n      <td>NaN</td>\n      <td>NaN</td>\n      <td>NaN</td>\n      <td>NaN</td>\n      <td>NaN</td>\n    </tr>\n    <tr>\n      <th>2019-09-27</th>\n      <td>-0.682724</td>\n      <td>-0.869998</td>\n      <td>-0.743200</td>\n      <td>-0.635144</td>\n      <td>-0.771423</td>\n      <td>-0.642585</td>\n      <td>-1.623089</td>\n      <td>-0.820606</td>\n      <td>-0.588217</td>\n      <td>-0.485728</td>\n      <td>...</td>\n      <td>NaN</td>\n      <td>NaN</td>\n      <td>NaN</td>\n      <td>NaN</td>\n      <td>NaN</td>\n      <td>NaN</td>\n      <td>NaN</td>\n      <td>NaN</td>\n      <td>NaN</td>\n      <td>NaN</td>\n    </tr>\n    <tr>\n      <th>2019-09-28</th>\n      <td>-0.683146</td>\n      <td>-0.870142</td>\n      <td>-0.753507</td>\n      <td>-0.645852</td>\n      <td>-0.739701</td>\n      <td>-0.642299</td>\n      <td>-1.622081</td>\n      <td>-0.818474</td>\n      <td>-0.585650</td>\n      <td>-0.482860</td>\n      <td>...</td>\n      <td>NaN</td>\n      <td>NaN</td>\n      <td>NaN</td>\n      <td>NaN</td>\n      <td>NaN</td>\n      <td>NaN</td>\n      <td>NaN</td>\n      <td>NaN</td>\n      <td>NaN</td>\n      <td>NaN</td>\n    </tr>\n    <tr>\n      <th>2019-09-29</th>\n      <td>-0.685193</td>\n      <td>-0.881016</td>\n      <td>-0.770767</td>\n      <td>-0.688310</td>\n      <td>-0.781189</td>\n      <td>-0.645268</td>\n      <td>-1.656551</td>\n      <td>-0.827682</td>\n      <td>-0.599463</td>\n      <td>-0.491463</td>\n      <td>...</td>\n      <td>NaN</td>\n      <td>NaN</td>\n      <td>NaN</td>\n      <td>NaN</td>\n      <td>NaN</td>\n      <td>NaN</td>\n      <td>NaN</td>\n      <td>NaN</td>\n      <td>NaN</td>\n      <td>NaN</td>\n    </tr>\n    <tr>\n      <th>...</th>\n      <td>...</td>\n      <td>...</td>\n      <td>...</td>\n      <td>...</td>\n      <td>...</td>\n      <td>...</td>\n      <td>...</td>\n      <td>...</td>\n      <td>...</td>\n      <td>...</td>\n      <td>...</td>\n      <td>...</td>\n      <td>...</td>\n      <td>...</td>\n      <td>...</td>\n      <td>...</td>\n      <td>...</td>\n      <td>...</td>\n      <td>...</td>\n      <td>...</td>\n      <td>...</td>\n    </tr>\n    <tr>\n      <th>2021-09-09</th>\n      <td>2.784102</td>\n      <td>2.614350</td>\n      <td>1.229424</td>\n      <td>1.152974</td>\n      <td>1.205238</td>\n      <td>1.695164</td>\n      <td>-0.447151</td>\n      <td>1.355093</td>\n      <td>1.545102</td>\n      <td>1.275121</td>\n      <td>...</td>\n      <td>1.286475</td>\n      <td>-0.422121</td>\n      <td>1.389849</td>\n      <td>-1.761945</td>\n      <td>-0.829180</td>\n      <td>0.430398</td>\n      <td>-1.243069</td>\n      <td>-0.570842</td>\n      <td>-1.001474</td>\n      <td>0.737034</td>\n    </tr>\n    <tr>\n      <th>2021-09-10</th>\n      <td>2.600751</td>\n      <td>2.991723</td>\n      <td>1.082902</td>\n      <td>1.011615</td>\n      <td>1.064551</td>\n      <td>1.585792</td>\n      <td>-0.517032</td>\n      <td>1.272118</td>\n      <td>1.424068</td>\n      <td>1.165839</td>\n      <td>...</td>\n      <td>1.205009</td>\n      <td>-1.302170</td>\n      <td>1.027677</td>\n      <td>-0.568971</td>\n      <td>-1.165651</td>\n      <td>-0.350480</td>\n      <td>-1.344945</td>\n      <td>-1.131891</td>\n      <td>-1.472715</td>\n      <td>0.765938</td>\n    </tr>\n    <tr>\n      <th>2021-09-11</th>\n      <td>2.958273</td>\n      <td>2.687460</td>\n      <td>1.114224</td>\n      <td>1.033970</td>\n      <td>1.098040</td>\n      <td>1.604340</td>\n      <td>-0.472490</td>\n      <td>1.291878</td>\n      <td>1.421768</td>\n      <td>1.182917</td>\n      <td>...</td>\n      <td>1.087712</td>\n      <td>-1.362123</td>\n      <td>1.171771</td>\n      <td>-0.679433</td>\n      <td>-1.271517</td>\n      <td>-0.198654</td>\n      <td>-1.482033</td>\n      <td>-0.748974</td>\n      <td>-1.489082</td>\n      <td>0.702807</td>\n    </tr>\n    <tr>\n      <th>2021-09-12</th>\n      <td>2.874421</td>\n      <td>3.747119</td>\n      <td>1.223339</td>\n      <td>1.082051</td>\n      <td>1.140477</td>\n      <td>1.667131</td>\n      <td>-0.459053</td>\n      <td>1.336386</td>\n      <td>1.453086</td>\n      <td>1.310817</td>\n      <td>...</td>\n      <td>0.894935</td>\n      <td>-1.524154</td>\n      <td>1.490995</td>\n      <td>0.173065</td>\n      <td>-1.173173</td>\n      <td>-0.553313</td>\n      <td>-1.442655</td>\n      <td>-0.726041</td>\n      <td>-1.588400</td>\n      <td>0.735289</td>\n    </tr>\n    <tr>\n      <th>2021-09-13</th>\n      <td>2.607959</td>\n      <td>3.802681</td>\n      <td>0.982220</td>\n      <td>0.915269</td>\n      <td>0.983182</td>\n      <td>1.536463</td>\n      <td>-0.567092</td>\n      <td>1.229966</td>\n      <td>1.340252</td>\n      <td>1.146513</td>\n      <td>...</td>\n      <td>0.500682</td>\n      <td>-1.605330</td>\n      <td>1.318647</td>\n      <td>0.166218</td>\n      <td>-1.035520</td>\n      <td>-0.784102</td>\n      <td>-1.500836</td>\n      <td>-0.916610</td>\n      <td>-2.030438</td>\n      <td>-1.651186</td>\n    </tr>\n  </tbody>\n</table>\n<p>720 rows × 1112 columns</p>\n</div>"
     },
     "metadata": {}
    }
   ]
  },
  {
   "cell_type": "code",
   "metadata": {
    "tags": [],
    "cell_id": "00009-9b7b15f7-628b-4f46-81d5-ed48b33c9a55",
    "deepnote_to_be_reexecuted": false,
    "source_hash": "c608fe29",
    "execution_start": 1631547315790,
    "execution_millis": 545,
    "deepnote_cell_type": "code"
   },
   "source": "df_full_price",
   "execution_count": null,
   "outputs": [
    {
     "output_type": "execute_result",
     "execution_count": 9,
     "data": {
      "application/vnd.deepnote.dataframe.v2+json": {
       "row_count": 720,
       "column_count": 1112,
       "columns": [
        {
         "name": "ADA-Cardano",
         "dtype": "float64",
         "stats": {
          "unique_count": 719,
          "nan_count": 0,
          "min": "0.024099",
          "max": "2.96772419",
          "histogram": [
           {
            "bin_start": 0.024099,
            "bin_end": 0.31846151899999997,
            "count": 479
           },
           {
            "bin_start": 0.31846151899999997,
            "bin_end": 0.612824038,
            "count": 21
           },
           {
            "bin_start": 0.612824038,
            "bin_end": 0.907186557,
            "count": 8
           },
           {
            "bin_start": 0.907186557,
            "bin_end": 1.201549076,
            "count": 49
           },
           {
            "bin_start": 1.201549076,
            "bin_end": 1.495911595,
            "count": 92
           },
           {
            "bin_start": 1.495911595,
            "bin_end": 1.790274114,
            "count": 29
           },
           {
            "bin_start": 1.790274114,
            "bin_end": 2.084636633,
            "count": 10
           },
           {
            "bin_start": 2.084636633,
            "bin_end": 2.378999152,
            "count": 6
           },
           {
            "bin_start": 2.378999152,
            "bin_end": 2.673361671,
            "count": 11
           },
           {
            "bin_start": 2.673361671,
            "bin_end": 2.96772419,
            "count": 15
           }
          ]
         }
        },
        {
         "name": "ATOM-Cosmos",
         "dtype": "float64",
         "stats": {
          "unique_count": 720,
          "nan_count": 0,
          "min": "1.663768",
          "max": "35.29048492",
          "histogram": [
           {
            "bin_start": 1.663768,
            "bin_end": 5.026439692,
            "count": 357
           },
           {
            "bin_start": 5.026439692,
            "bin_end": 8.389111384,
            "count": 131
           },
           {
            "bin_start": 8.389111384,
            "bin_end": 11.751783076,
            "count": 38
           },
           {
            "bin_start": 11.751783076,
            "bin_end": 15.114454768,
            "count": 60
           },
           {
            "bin_start": 15.114454768,
            "bin_end": 18.47712646,
            "count": 18
           },
           {
            "bin_start": 18.47712646,
            "bin_end": 21.839798152000004,
            "count": 64
           },
           {
            "bin_start": 21.839798152000004,
            "bin_end": 25.202469844000003,
            "count": 35
           },
           {
            "bin_start": 25.202469844000003,
            "bin_end": 28.565141536000002,
            "count": 11
           },
           {
            "bin_start": 28.565141536000002,
            "bin_end": 31.927813228,
            "count": 4
           },
           {
            "bin_start": 31.927813228,
            "bin_end": 35.29048492,
            "count": 2
           }
          ]
         }
        },
        {
         "name": "BAT-Basic Attention Token",
         "dtype": "float64",
         "stats": {
          "unique_count": 720,
          "nan_count": 0,
          "min": "0.11189",
          "max": "1.554843",
          "histogram": [
           {
            "bin_start": 0.11189,
            "bin_end": 0.2561853,
            "count": 389
           },
           {
            "bin_start": 0.2561853,
            "bin_end": 0.40048059999999996,
            "count": 111
           },
           {
            "bin_start": 0.40048059999999996,
            "bin_end": 0.5447759,
            "count": 30
           },
           {
            "bin_start": 0.5447759,
            "bin_end": 0.6890712,
            "count": 57
           },
           {
            "bin_start": 0.6890712,
            "bin_end": 0.8333665,
            "count": 55
           },
           {
            "bin_start": 0.8333665,
            "bin_end": 0.9776617999999999,
            "count": 13
           },
           {
            "bin_start": 0.9776617999999999,
            "bin_end": 1.1219571,
            "count": 14
           },
           {
            "bin_start": 1.1219571,
            "bin_end": 1.2662524,
            "count": 25
           },
           {
            "bin_start": 1.2662524,
            "bin_end": 1.4105477,
            "count": 12
           },
           {
            "bin_start": 1.4105477,
            "bin_end": 1.554843,
            "count": 14
           }
          ]
         }
        },
        {
         "name": "BCD-Bitcoin Diamond",
         "dtype": "float64",
         "stats": {
          "unique_count": 720,
          "nan_count": 0,
          "min": "0.305709",
          "max": "9.99534829",
          "histogram": [
           {
            "bin_start": 0.305709,
            "bin_end": 1.274672929,
            "count": 551
           },
           {
            "bin_start": 1.274672929,
            "bin_end": 2.2436368580000003,
            "count": 66
           },
           {
            "bin_start": 2.2436368580000003,
            "bin_end": 3.2126007870000004,
            "count": 83
           },
           {
            "bin_start": 3.2126007870000004,
            "bin_end": 4.1815647160000005,
            "count": 10
           },
           {
            "bin_start": 4.1815647160000005,
            "bin_end": 5.1505286450000005,
            "count": 4
           },
           {
            "bin_start": 5.1505286450000005,
            "bin_end": 6.119492574000001,
            "count": 2
           },
           {
            "bin_start": 6.119492574000001,
            "bin_end": 7.088456503000001,
            "count": 1
           },
           {
            "bin_start": 7.088456503000001,
            "bin_end": 8.057420432,
            "count": 2
           },
           {
            "bin_start": 8.057420432,
            "bin_end": 9.026384361000002,
            "count": 0
           },
           {
            "bin_start": 9.026384361000002,
            "bin_end": 9.99534829,
            "count": 1
           }
          ]
         }
        },
        {
         "name": "BCH-Bitcoin Cash",
         "dtype": "float64",
         "stats": {
          "unique_count": 720,
          "nan_count": 0,
          "min": "148.075785",
          "max": "1560.93285916",
          "histogram": [
           {
            "bin_start": 148.075785,
            "bin_end": 289.361492416,
            "count": 360
           },
           {
            "bin_start": 289.361492416,
            "bin_end": 430.64719983199996,
            "count": 110
           },
           {
            "bin_start": 430.64719983199996,
            "bin_end": 571.932907248,
            "count": 125
           },
           {
            "bin_start": 571.932907248,
            "bin_end": 713.2186146639999,
            "count": 75
           },
           {
            "bin_start": 713.2186146639999,
            "bin_end": 854.5043220799998,
            "count": 20
           },
           {
            "bin_start": 854.5043220799998,
            "bin_end": 995.7900294959999,
            "count": 11
           },
           {
            "bin_start": 995.7900294959999,
            "bin_end": 1137.075736912,
            "count": 7
           },
           {
            "bin_start": 1137.075736912,
            "bin_end": 1278.3614443279998,
            "count": 4
           },
           {
            "bin_start": 1278.3614443279998,
            "bin_end": 1419.6471517439998,
            "count": 5
           },
           {
            "bin_start": 1419.6471517439998,
            "bin_end": 1560.93285916,
            "count": 3
           }
          ]
         }
        },
        {
         "name": "BNB-Binance Coin",
         "dtype": "float64",
         "stats": {
          "unique_count": 720,
          "nan_count": 0,
          "min": "9.482885",
          "max": "676.53023886",
          "histogram": [
           {
            "bin_start": 9.482885,
            "bin_end": 76.187620386,
            "count": 502
           },
           {
            "bin_start": 76.187620386,
            "bin_end": 142.89235577200003,
            "count": 9
           },
           {
            "bin_start": 142.89235577200003,
            "bin_end": 209.59709115800004,
            "count": 2
           },
           {
            "bin_start": 209.59709115800004,
            "bin_end": 276.30182654400005,
            "count": 38
           },
           {
            "bin_start": 276.30182654400005,
            "bin_end": 343.0065619300001,
            "count": 64
           },
           {
            "bin_start": 343.0065619300001,
            "bin_end": 409.71129731600007,
            "count": 38
           },
           {
            "bin_start": 409.71129731600007,
            "bin_end": 476.41603270200005,
            "count": 17
           },
           {
            "bin_start": 476.41603270200005,
            "bin_end": 543.1207680880001,
            "count": 24
           },
           {
            "bin_start": 543.1207680880001,
            "bin_end": 609.8255034740001,
            "count": 14
           },
           {
            "bin_start": 609.8255034740001,
            "bin_end": 676.53023886,
            "count": 12
           }
          ]
         }
        },
        {
         "name": "BSV-Bitcoin SV",
         "dtype": "float64",
         "stats": {
          "unique_count": 720,
          "nan_count": 0,
          "min": "80.754441",
          "max": "441.286049",
          "histogram": [
           {
            "bin_start": 80.754441,
            "bin_end": 116.8076018,
            "count": 86
           },
           {
            "bin_start": 116.8076018,
            "bin_end": 152.8607626,
            "count": 84
           },
           {
            "bin_start": 152.8607626,
            "bin_end": 188.9139234,
            "count": 295
           },
           {
            "bin_start": 188.9139234,
            "bin_end": 224.9670842,
            "count": 136
           },
           {
            "bin_start": 224.9670842,
            "bin_end": 261.020245,
            "count": 40
           },
           {
            "bin_start": 261.020245,
            "bin_end": 297.0734058,
            "count": 34
           },
           {
            "bin_start": 297.0734058,
            "bin_end": 333.1265666,
            "count": 24
           },
           {
            "bin_start": 333.1265666,
            "bin_end": 369.1797274,
            "count": 13
           },
           {
            "bin_start": 369.1797274,
            "bin_end": 405.2328882,
            "count": 4
           },
           {
            "bin_start": 405.2328882,
            "bin_end": 441.286049,
            "count": 4
           }
          ]
         }
        },
        {
         "name": "BTC-Bitcoin",
         "dtype": "float64",
         "stats": {
          "unique_count": 720,
          "nan_count": 0,
          "min": "4929.866642",
          "max": "63520.926427",
          "histogram": [
           {
            "bin_start": 4929.866642,
            "bin_end": 10788.9726205,
            "count": 333
           },
           {
            "bin_start": 10788.9726205,
            "bin_end": 16648.078599,
            "count": 85
           },
           {
            "bin_start": 16648.078599,
            "bin_end": 22507.1845775,
            "count": 31
           },
           {
            "bin_start": 22507.1845775,
            "bin_end": 28366.290556,
            "count": 13
           },
           {
            "bin_start": 28366.290556,
            "bin_end": 34225.396534499996,
            "count": 45
           },
           {
            "bin_start": 34225.396534499996,
            "bin_end": 40084.502513,
            "count": 66
           },
           {
            "bin_start": 40084.502513,
            "bin_end": 45943.6084915,
            "count": 23
           },
           {
            "bin_start": 45943.6084915,
            "bin_end": 51802.71447,
            "count": 57
           },
           {
            "bin_start": 51802.71447,
            "bin_end": 57661.820448499995,
            "count": 39
           },
           {
            "bin_start": 57661.820448499995,
            "bin_end": 63520.926427,
            "count": 28
           }
          ]
         }
        },
        {
         "name": "BTG-Bitcoin Gold",
         "dtype": "float64",
         "stats": {
          "unique_count": 720,
          "nan_count": 0,
          "min": "4.996464",
          "max": "150.58637207",
          "histogram": [
           {
            "bin_start": 4.996464,
            "bin_end": 19.555454807,
            "count": 508
           },
           {
            "bin_start": 19.555454807,
            "bin_end": 34.114445614000005,
            "count": 37
           },
           {
            "bin_start": 34.114445614000005,
            "bin_end": 48.673436421000005,
            "count": 46
           },
           {
            "bin_start": 48.673436421000005,
            "bin_end": 63.232427228000006,
            "count": 42
           },
           {
            "bin_start": 63.232427228000006,
            "bin_end": 77.791418035,
            "count": 37
           },
           {
            "bin_start": 77.791418035,
            "bin_end": 92.35040884200001,
            "count": 14
           },
           {
            "bin_start": 92.35040884200001,
            "bin_end": 106.90939964900001,
            "count": 15
           },
           {
            "bin_start": 106.90939964900001,
            "bin_end": 121.46839045600001,
            "count": 4
           },
           {
            "bin_start": 121.46839045600001,
            "bin_end": 136.027381263,
            "count": 13
           },
           {
            "bin_start": 136.027381263,
            "bin_end": 150.58637207,
            "count": 4
           }
          ]
         }
        },
        {
         "name": "BTT-BitTorrent",
         "dtype": "float64",
         "stats": {
          "unique_count": 438,
          "nan_count": 0,
          "min": "1.1e-05",
          "max": "0.010556",
          "histogram": [
           {
            "bin_start": 0.000011,
            "bin_end": 0.0010654999999999998,
            "count": 503
           },
           {
            "bin_start": 0.0010654999999999998,
            "bin_end": 0.00212,
            "count": 41
           },
           {
            "bin_start": 0.00212,
            "bin_end": 0.0031745,
            "count": 47
           },
           {
            "bin_start": 0.0031745,
            "bin_end": 0.004228999999999999,
            "count": 54
           },
           {
            "bin_start": 0.004228999999999999,
            "bin_end": 0.005283499999999999,
            "count": 27
           },
           {
            "bin_start": 0.005283499999999999,
            "bin_end": 0.006337999999999999,
            "count": 8
           },
           {
            "bin_start": 0.006337999999999999,
            "bin_end": 0.007392499999999999,
            "count": 17
           },
           {
            "bin_start": 0.007392499999999999,
            "bin_end": 0.008447,
            "count": 12
           },
           {
            "bin_start": 0.008447,
            "bin_end": 0.0095015,
            "count": 7
           },
           {
            "bin_start": 0.0095015,
            "bin_end": 0.010556,
            "count": 4
           }
          ]
         }
        },
        {
         "name": "CRO-Crypto.com Chain",
         "dtype": "float64",
         "stats": {
          "unique_count": 718,
          "nan_count": 0,
          "min": "0.025616",
          "max": "0.245334",
          "histogram": [
           {
            "bin_start": 0.025616,
            "bin_end": 0.0475878,
            "count": 143
           },
           {
            "bin_start": 0.0475878,
            "bin_end": 0.0695596,
            "count": 155
           },
           {
            "bin_start": 0.0695596,
            "bin_end": 0.0915314,
            "count": 66
           },
           {
            "bin_start": 0.0915314,
            "bin_end": 0.1135032,
            "count": 46
           },
           {
            "bin_start": 0.1135032,
            "bin_end": 0.135475,
            "count": 82
           },
           {
            "bin_start": 0.135475,
            "bin_end": 0.1574468,
            "count": 93
           },
           {
            "bin_start": 0.1574468,
            "bin_end": 0.1794186,
            "count": 77
           },
           {
            "bin_start": 0.1794186,
            "bin_end": 0.2013904,
            "count": 25
           },
           {
            "bin_start": 0.2013904,
            "bin_end": 0.22336219999999998,
            "count": 25
           },
           {
            "bin_start": 0.22336219999999998,
            "bin_end": 0.245334,
            "count": 8
           }
          ]
         }
        },
        {
         "name": "DASH-Dash",
         "dtype": "float64",
         "stats": {
          "unique_count": 720,
          "nan_count": 0,
          "min": "39.597663",
          "max": "443.46070381",
          "histogram": [
           {
            "bin_start": 39.597663,
            "bin_end": 79.983967081,
            "count": 312
           },
           {
            "bin_start": 79.983967081,
            "bin_end": 120.370271162,
            "count": 170
           },
           {
            "bin_start": 120.370271162,
            "bin_end": 160.756575243,
            "count": 67
           },
           {
            "bin_start": 160.756575243,
            "bin_end": 201.14287932399998,
            "count": 48
           },
           {
            "bin_start": 201.14287932399998,
            "bin_end": 241.52918340499997,
            "count": 57
           },
           {
            "bin_start": 241.52918340499997,
            "bin_end": 281.915487486,
            "count": 29
           },
           {
            "bin_start": 281.915487486,
            "bin_end": 322.301791567,
            "count": 18
           },
           {
            "bin_start": 322.301791567,
            "bin_end": 362.688095648,
            "count": 9
           },
           {
            "bin_start": 362.688095648,
            "bin_end": 403.074399729,
            "count": 5
           },
           {
            "bin_start": 403.074399729,
            "bin_end": 443.46070381,
            "count": 5
           }
          ]
         }
        },
        {
         "name": "DCR-Decred",
         "dtype": "float64",
         "stats": {
          "unique_count": 720,
          "nan_count": 0,
          "min": "9.554605",
          "max": "245.83685",
          "histogram": [
           {
            "bin_start": 9.554605,
            "bin_end": 33.1828295,
            "count": 451
           },
           {
            "bin_start": 33.1828295,
            "bin_end": 56.811054,
            "count": 30
           },
           {
            "bin_start": 56.811054,
            "bin_end": 80.43927849999999,
            "count": 19
           },
           {
            "bin_start": 80.43927849999999,
            "bin_end": 104.06750299999999,
            "count": 8
           },
           {
            "bin_start": 104.06750299999999,
            "bin_end": 127.69572749999999,
            "count": 29
           },
           {
            "bin_start": 127.69572749999999,
            "bin_end": 151.323952,
            "count": 72
           },
           {
            "bin_start": 151.323952,
            "bin_end": 174.9521765,
            "count": 46
           },
           {
            "bin_start": 174.9521765,
            "bin_end": 198.580401,
            "count": 42
           },
           {
            "bin_start": 198.580401,
            "bin_end": 222.20862549999998,
            "count": 20
           },
           {
            "bin_start": 222.20862549999998,
            "bin_end": 245.83685,
            "count": 3
           }
          ]
         }
        },
        {
         "name": "DOGE-Dogecoin",
         "dtype": "float64",
         "stats": {
          "unique_count": 655,
          "nan_count": 0,
          "min": "0.00153",
          "max": "0.68313713",
          "histogram": [
           {
            "bin_start": 0.00153,
            "bin_end": 0.069690713,
            "count": 558
           },
           {
            "bin_start": 0.069690713,
            "bin_end": 0.137851426,
            "count": 10
           },
           {
            "bin_start": 0.137851426,
            "bin_end": 0.206012139,
            "count": 26
           },
           {
            "bin_start": 0.206012139,
            "bin_end": 0.27417285199999997,
            "count": 41
           },
           {
            "bin_start": 0.27417285199999997,
            "bin_end": 0.34233356499999995,
            "count": 51
           },
           {
            "bin_start": 0.34233356499999995,
            "bin_end": 0.410494278,
            "count": 16
           },
           {
            "bin_start": 0.410494278,
            "bin_end": 0.478654991,
            "count": 4
           },
           {
            "bin_start": 0.478654991,
            "bin_end": 0.546815704,
            "count": 8
           },
           {
            "bin_start": 0.546815704,
            "bin_end": 0.614976417,
            "count": 2
           },
           {
            "bin_start": 0.614976417,
            "bin_end": 0.68313713,
            "count": 4
           }
          ]
         }
        },
        {
         "name": "EGT-Egretia",
         "dtype": "float64",
         "stats": {
          "unique_count": 650,
          "nan_count": 0,
          "min": "0.000565",
          "max": "0.006939",
          "histogram": [
           {
            "bin_start": 0.000565,
            "bin_end": 0.0012024,
            "count": 284
           },
           {
            "bin_start": 0.0012024,
            "bin_end": 0.0018398,
            "count": 200
           },
           {
            "bin_start": 0.0018398,
            "bin_end": 0.0024771999999999997,
            "count": 76
           },
           {
            "bin_start": 0.0024771999999999997,
            "bin_end": 0.0031146,
            "count": 38
           },
           {
            "bin_start": 0.0031146,
            "bin_end": 0.0037519999999999997,
            "count": 39
           },
           {
            "bin_start": 0.0037519999999999997,
            "bin_end": 0.0043894,
            "count": 36
           },
           {
            "bin_start": 0.0043894,
            "bin_end": 0.0050268,
            "count": 18
           },
           {
            "bin_start": 0.0050268,
            "bin_end": 0.0056641999999999994,
            "count": 21
           },
           {
            "bin_start": 0.0056641999999999994,
            "bin_end": 0.006301599999999999,
            "count": 5
           },
           {
            "bin_start": 0.006301599999999999,
            "bin_end": 0.006939,
            "count": 3
           }
          ]
         }
        },
        {
         "name": "EOS-EOS",
         "dtype": "float64",
         "stats": {
          "unique_count": 719,
          "nan_count": 0,
          "min": "1.8153",
          "max": "14.32318481",
          "histogram": [
           {
            "bin_start": 1.8153,
            "bin_end": 3.066088481,
            "count": 368
           },
           {
            "bin_start": 3.066088481,
            "bin_end": 4.316876962,
            "count": 203
           },
           {
            "bin_start": 4.316876962,
            "bin_end": 5.567665443,
            "count": 81
           },
           {
            "bin_start": 5.567665443,
            "bin_end": 6.818453924,
            "count": 44
           },
           {
            "bin_start": 6.818453924,
            "bin_end": 8.069242405,
            "count": 9
           },
           {
            "bin_start": 8.069242405,
            "bin_end": 9.320030886000001,
            "count": 3
           },
           {
            "bin_start": 9.320030886000001,
            "bin_end": 10.570819367,
            "count": 5
           },
           {
            "bin_start": 10.570819367,
            "bin_end": 11.821607848000001,
            "count": 6
           },
           {
            "bin_start": 11.821607848000001,
            "bin_end": 13.072396329000002,
            "count": 0
           },
           {
            "bin_start": 13.072396329000002,
            "bin_end": 14.32318481,
            "count": 1
           }
          ]
         }
        },
        {
         "name": "ETC-Ethereum Classic",
         "dtype": "float64",
         "stats": {
          "unique_count": 720,
          "nan_count": 0,
          "min": "3.467634",
          "max": "134.46771064",
          "histogram": [
           {
            "bin_start": 3.467634,
            "bin_end": 16.567641664,
            "count": 559
           },
           {
            "bin_start": 16.567641664,
            "bin_end": 29.667649328,
            "count": 11
           },
           {
            "bin_start": 29.667649328,
            "bin_end": 42.76765699199999,
            "count": 25
           },
           {
            "bin_start": 42.76765699199999,
            "bin_end": 55.867664655999995,
            "count": 43
           },
           {
            "bin_start": 55.867664655999995,
            "bin_end": 68.96767232,
            "count": 54
           },
           {
            "bin_start": 68.96767232,
            "bin_end": 82.067679984,
            "count": 14
           },
           {
            "bin_start": 82.067679984,
            "bin_end": 95.167687648,
            "count": 6
           },
           {
            "bin_start": 95.167687648,
            "bin_end": 108.267695312,
            "count": 3
           },
           {
            "bin_start": 108.267695312,
            "bin_end": 121.367702976,
            "count": 3
           },
           {
            "bin_start": 121.367702976,
            "bin_end": 134.46771064,
            "count": 2
           }
          ]
         }
        },
        {
         "name": "ETH-Ethereum",
         "dtype": "float64",
         "stats": {
          "unique_count": 720,
          "nan_count": 0,
          "min": "111.294501",
          "max": "4164.64415743",
          "histogram": [
           {
            "bin_start": 111.294501,
            "bin_end": 516.629466643,
            "count": 423
           },
           {
            "bin_start": 516.629466643,
            "bin_end": 921.9644322859999,
            "count": 43
           },
           {
            "bin_start": 921.9644322859999,
            "bin_end": 1327.299397929,
            "count": 22
           },
           {
            "bin_start": 1327.299397929,
            "bin_end": 1732.634363572,
            "count": 34
           },
           {
            "bin_start": 1732.634363572,
            "bin_end": 2137.969329215,
            "count": 67
           },
           {
            "bin_start": 2137.969329215,
            "bin_end": 2543.3042948579996,
            "count": 50
           },
           {
            "bin_start": 2543.3042948579996,
            "bin_end": 2948.6392605009996,
            "count": 26
           },
           {
            "bin_start": 2948.6392605009996,
            "bin_end": 3353.9742261439997,
            "count": 30
           },
           {
            "bin_start": 3353.9742261439997,
            "bin_end": 3759.3091917869997,
            "count": 13
           },
           {
            "bin_start": 3759.3091917869997,
            "bin_end": 4164.64415743,
            "count": 12
           }
          ]
         }
        },
        {
         "name": "HOT-Holo",
         "dtype": "float64",
         "stats": {
          "unique_count": 545,
          "nan_count": 0,
          "min": "0.000285",
          "max": "0.028743",
          "histogram": [
           {
            "bin_start": 0.000285,
            "bin_end": 0.0031308,
            "count": 532
           },
           {
            "bin_start": 0.0031308,
            "bin_end": 0.0059765999999999994,
            "count": 32
           },
           {
            "bin_start": 0.0059765999999999994,
            "bin_end": 0.008822400000000001,
            "count": 62
           },
           {
            "bin_start": 0.008822400000000001,
            "bin_end": 0.0116682,
            "count": 40
           },
           {
            "bin_start": 0.0116682,
            "bin_end": 0.014513999999999999,
            "count": 19
           },
           {
            "bin_start": 0.014513999999999999,
            "bin_end": 0.0173598,
            "count": 18
           },
           {
            "bin_start": 0.0173598,
            "bin_end": 0.0202056,
            "count": 9
           },
           {
            "bin_start": 0.0202056,
            "bin_end": 0.0230514,
            "count": 2
           },
           {
            "bin_start": 0.0230514,
            "bin_end": 0.0258972,
            "count": 4
           },
           {
            "bin_start": 0.0258972,
            "bin_end": 0.028743,
            "count": 2
           }
          ]
         }
        },
        {
         "name": "HT-Huobi Token",
         "dtype": "float64",
         "stats": {
          "unique_count": 720,
          "nan_count": 0,
          "min": "2.38383",
          "max": "34.99870668",
          "histogram": [
           {
            "bin_start": 2.38383,
            "bin_end": 5.645317668,
            "count": 484
           },
           {
            "bin_start": 5.645317668,
            "bin_end": 8.906805336,
            "count": 24
           },
           {
            "bin_start": 8.906805336,
            "bin_end": 12.168293003999999,
            "count": 47
           },
           {
            "bin_start": 12.168293003999999,
            "bin_end": 15.429780671999998,
            "count": 82
           },
           {
            "bin_start": 15.429780671999998,
            "bin_end": 18.691268339999997,
            "count": 44
           },
           {
            "bin_start": 18.691268339999997,
            "bin_end": 21.952756007999998,
            "count": 16
           },
           {
            "bin_start": 21.952756007999998,
            "bin_end": 25.214243675999995,
            "count": 5
           },
           {
            "bin_start": 25.214243675999995,
            "bin_end": 28.475731343999996,
            "count": 10
           },
           {
            "bin_start": 28.475731343999996,
            "bin_end": 31.737219011999997,
            "count": 4
           },
           {
            "bin_start": 31.737219011999997,
            "bin_end": 34.99870668,
            "count": 4
           }
          ]
         }
        },
        {
         "name": "KCS-KuCoin Shares",
         "dtype": "float64",
         "stats": {
          "unique_count": 720,
          "nan_count": 0,
          "min": "0.682034",
          "max": "18.82266",
          "histogram": [
           {
            "bin_start": 0.682034,
            "bin_end": 2.4960965999999996,
            "count": 508
           },
           {
            "bin_start": 2.4960965999999996,
            "bin_end": 4.310159199999999,
            "count": 8
           },
           {
            "bin_start": 4.310159199999999,
            "bin_end": 6.124221799999999,
            "count": 38
           },
           {
            "bin_start": 6.124221799999999,
            "bin_end": 7.938284399999999,
            "count": 32
           },
           {
            "bin_start": 7.938284399999999,
            "bin_end": 9.752346999999999,
            "count": 31
           },
           {
            "bin_start": 9.752346999999999,
            "bin_end": 11.566409599999998,
            "count": 36
           },
           {
            "bin_start": 11.566409599999998,
            "bin_end": 13.380472199999998,
            "count": 36
           },
           {
            "bin_start": 13.380472199999998,
            "bin_end": 15.194534799999998,
            "count": 23
           },
           {
            "bin_start": 15.194534799999998,
            "bin_end": 17.0085974,
            "count": 4
           },
           {
            "bin_start": 17.0085974,
            "bin_end": 18.82266,
            "count": 4
           }
          ]
         }
        },
        {
         "name": "LINK-Chainlink",
         "dtype": "float64",
         "stats": {
          "unique_count": 720,
          "nan_count": 0,
          "min": "1.655145",
          "max": "52.43285156",
          "histogram": [
           {
            "bin_start": 1.655145,
            "bin_end": 6.732915656,
            "count": 291
           },
           {
            "bin_start": 6.732915656,
            "bin_end": 11.810686312000001,
            "count": 84
           },
           {
            "bin_start": 11.810686312000001,
            "bin_end": 16.888456968,
            "count": 108
           },
           {
            "bin_start": 16.888456968,
            "bin_end": 21.966227624000002,
            "count": 47
           },
           {
            "bin_start": 21.966227624000002,
            "bin_end": 27.04399828,
            "count": 69
           },
           {
            "bin_start": 27.04399828,
            "bin_end": 32.121768936,
            "count": 67
           },
           {
            "bin_start": 32.121768936,
            "bin_end": 37.199539592,
            "count": 29
           },
           {
            "bin_start": 37.199539592,
            "bin_end": 42.277310248,
            "count": 10
           },
           {
            "bin_start": 42.277310248,
            "bin_end": 47.355080904,
            "count": 9
           },
           {
            "bin_start": 47.355080904,
            "bin_end": 52.43285156,
            "count": 6
           }
          ]
         }
        },
        {
         "name": "LSK-Lisk",
         "dtype": "float64",
         "stats": {
          "unique_count": 720,
          "nan_count": 0,
          "min": "0.52606",
          "max": "9.34000366",
          "histogram": [
           {
            "bin_start": 0.52606,
            "bin_end": 1.407454366,
            "count": 434
           },
           {
            "bin_start": 1.407454366,
            "bin_end": 2.288848732,
            "count": 82
           },
           {
            "bin_start": 2.288848732,
            "bin_end": 3.1702430980000003,
            "count": 53
           },
           {
            "bin_start": 3.1702430980000003,
            "bin_end": 4.051637464000001,
            "count": 69
           },
           {
            "bin_start": 4.051637464000001,
            "bin_end": 4.933031830000001,
            "count": 34
           },
           {
            "bin_start": 4.933031830000001,
            "bin_end": 5.814426196,
            "count": 15
           },
           {
            "bin_start": 5.814426196,
            "bin_end": 6.695820562000001,
            "count": 19
           },
           {
            "bin_start": 6.695820562000001,
            "bin_end": 7.577214928000001,
            "count": 9
           },
           {
            "bin_start": 7.577214928000001,
            "bin_end": 8.458609294,
            "count": 1
           },
           {
            "bin_start": 8.458609294,
            "bin_end": 9.34000366,
            "count": 4
           }
          ]
         }
        },
        {
         "name": "LTC-Litecoin",
         "dtype": "float64",
         "stats": {
          "unique_count": 720,
          "nan_count": 0,
          "min": "29.986429",
          "max": "388.09095056",
          "histogram": [
           {
            "bin_start": 29.986429,
            "bin_end": 65.79688115600001,
            "count": 389
           },
           {
            "bin_start": 65.79688115600001,
            "bin_end": 101.60733331200001,
            "count": 61
           },
           {
            "bin_start": 101.60733331200001,
            "bin_end": 137.41778546800003,
            "count": 53
           },
           {
            "bin_start": 137.41778546800003,
            "bin_end": 173.22823762400003,
            "count": 75
           },
           {
            "bin_start": 173.22823762400003,
            "bin_end": 209.03868978000003,
            "count": 81
           },
           {
            "bin_start": 209.03868978000003,
            "bin_end": 244.84914193600002,
            "count": 25
           },
           {
            "bin_start": 244.84914193600002,
            "bin_end": 280.659594092,
            "count": 17
           },
           {
            "bin_start": 280.659594092,
            "bin_end": 316.470046248,
            "count": 10
           },
           {
            "bin_start": 316.470046248,
            "bin_end": 352.280498404,
            "count": 4
           },
           {
            "bin_start": 352.280498404,
            "bin_end": 388.09095056,
            "count": 5
           }
          ]
         }
        },
        {
         "name": "MIOTA-IOTA",
         "dtype": "float64",
         "stats": {
          "unique_count": 719,
          "nan_count": 0,
          "min": "0.111634",
          "max": "2.570619",
          "histogram": [
           {
            "bin_start": 0.111634,
            "bin_end": 0.35753250000000003,
            "count": 447
           },
           {
            "bin_start": 0.35753250000000003,
            "bin_end": 0.603431,
            "count": 56
           },
           {
            "bin_start": 0.603431,
            "bin_end": 0.8493295000000001,
            "count": 39
           },
           {
            "bin_start": 0.8493295000000001,
            "bin_end": 1.095228,
            "count": 46
           },
           {
            "bin_start": 1.095228,
            "bin_end": 1.3411265,
            "count": 51
           },
           {
            "bin_start": 1.3411265,
            "bin_end": 1.5870250000000001,
            "count": 32
           },
           {
            "bin_start": 1.5870250000000001,
            "bin_end": 1.8329235000000001,
            "count": 11
           },
           {
            "bin_start": 1.8329235000000001,
            "bin_end": 2.078822,
            "count": 17
           },
           {
            "bin_start": 2.078822,
            "bin_end": 2.3247205,
            "count": 18
           },
           {
            "bin_start": 2.3247205,
            "bin_end": 2.570619,
            "count": 3
           }
          ]
         }
        },
        {
         "name": "MKR-Maker",
         "dtype": "float64",
         "stats": {
          "unique_count": 720,
          "nan_count": 0,
          "min": "202.302323",
          "max": "5997.70784399",
          "histogram": [
           {
            "bin_start": 202.302323,
            "bin_end": 781.842875099,
            "count": 468
           },
           {
            "bin_start": 781.842875099,
            "bin_end": 1361.383427198,
            "count": 6
           },
           {
            "bin_start": 1361.383427198,
            "bin_end": 1940.9239792970002,
            "count": 26
           },
           {
            "bin_start": 1940.9239792970002,
            "bin_end": 2520.464531396,
            "count": 72
           },
           {
            "bin_start": 2520.464531396,
            "bin_end": 3100.005083495,
            "count": 58
           },
           {
            "bin_start": 3100.005083495,
            "bin_end": 3679.545635594,
            "count": 43
           },
           {
            "bin_start": 3679.545635594,
            "bin_end": 4259.086187693,
            "count": 26
           },
           {
            "bin_start": 4259.086187693,
            "bin_end": 4838.626739792,
            "count": 9
           },
           {
            "bin_start": 4838.626739792,
            "bin_end": 5418.167291891,
            "count": 10
           },
           {
            "bin_start": 5418.167291891,
            "bin_end": 5997.70784399,
            "count": 2
           }
          ]
         }
        },
        {
         "name": "NANO-Nano",
         "dtype": "float64",
         "stats": {
          "unique_count": 719,
          "nan_count": 0,
          "min": "0.356623",
          "max": "13.04197119",
          "histogram": [
           {
            "bin_start": 0.356623,
            "bin_end": 1.625157819,
            "count": 468
           },
           {
            "bin_start": 1.625157819,
            "bin_end": 2.8936926379999997,
            "count": 3
           },
           {
            "bin_start": 2.8936926379999997,
            "bin_end": 4.162227456999999,
            "count": 47
           },
           {
            "bin_start": 4.162227456999999,
            "bin_end": 5.430762275999999,
            "count": 78
           },
           {
            "bin_start": 5.430762275999999,
            "bin_end": 6.6992970949999995,
            "count": 60
           },
           {
            "bin_start": 6.6992970949999995,
            "bin_end": 7.967831913999999,
            "count": 28
           },
           {
            "bin_start": 7.967831913999999,
            "bin_end": 9.236366733,
            "count": 13
           },
           {
            "bin_start": 9.236366733,
            "bin_end": 10.504901552,
            "count": 13
           },
           {
            "bin_start": 10.504901552,
            "bin_end": 11.773436370999999,
            "count": 7
           },
           {
            "bin_start": 11.773436370999999,
            "bin_end": 13.04197119,
            "count": 3
           }
          ]
         }
        },
        {
         "name": "NEO-NEO",
         "dtype": "float64",
         "stats": {
          "unique_count": 720,
          "nan_count": 0,
          "min": "5.44697",
          "max": "124.83394478",
          "histogram": [
           {
            "bin_start": 5.44697,
            "bin_end": 17.385667478000002,
            "count": 398
           },
           {
            "bin_start": 17.385667478000002,
            "bin_end": 29.324364956,
            "count": 109
           },
           {
            "bin_start": 29.324364956,
            "bin_end": 41.263062434,
            "count": 63
           },
           {
            "bin_start": 41.263062434,
            "bin_end": 53.201759912,
            "count": 68
           },
           {
            "bin_start": 53.201759912,
            "bin_end": 65.14045739,
            "count": 44
           },
           {
            "bin_start": 65.14045739,
            "bin_end": 77.07915486799999,
            "count": 5
           },
           {
            "bin_start": 77.07915486799999,
            "bin_end": 89.01785234600001,
            "count": 6
           },
           {
            "bin_start": 89.01785234600001,
            "bin_end": 100.956549824,
            "count": 13
           },
           {
            "bin_start": 100.956549824,
            "bin_end": 112.895247302,
            "count": 6
           },
           {
            "bin_start": 112.895247302,
            "bin_end": 124.83394478,
            "count": 8
           }
          ]
         }
        },
        {
         "name": "NPXS-Pundi X",
         "dtype": "float64",
         "stats": {
          "unique_count": 380,
          "nan_count": 0,
          "min": "9.6e-05",
          "max": "0.01022903",
          "histogram": [
           {
            "bin_start": 0.000096,
            "bin_end": 0.0011093029999999999,
            "count": 543
           },
           {
            "bin_start": 0.0011093029999999999,
            "bin_end": 0.002122606,
            "count": 104
           },
           {
            "bin_start": 0.002122606,
            "bin_end": 0.0031359089999999997,
            "count": 27
           },
           {
            "bin_start": 0.0031359089999999997,
            "bin_end": 0.004149211999999999,
            "count": 21
           },
           {
            "bin_start": 0.004149211999999999,
            "bin_end": 0.0051625149999999995,
            "count": 4
           },
           {
            "bin_start": 0.0051625149999999995,
            "bin_end": 0.006175817999999999,
            "count": 4
           },
           {
            "bin_start": 0.006175817999999999,
            "bin_end": 0.007189120999999999,
            "count": 4
           },
           {
            "bin_start": 0.007189120999999999,
            "bin_end": 0.008202424,
            "count": 10
           },
           {
            "bin_start": 0.008202424,
            "bin_end": 0.009215727,
            "count": 2
           },
           {
            "bin_start": 0.009215727,
            "bin_end": 0.01022903,
            "count": 1
           }
          ]
         }
        },
        {
         "name": "OMG-OMG Network",
         "dtype": "float64",
         "stats": {
          "unique_count": 720,
          "nan_count": 0,
          "min": "0.431219",
          "max": "13.04370491",
          "histogram": [
           {
            "bin_start": 0.431219,
            "bin_end": 1.692467591,
            "count": 310
           },
           {
            "bin_start": 1.692467591,
            "bin_end": 2.953716182,
            "count": 40
           },
           {
            "bin_start": 2.953716182,
            "bin_end": 4.214964773,
            "count": 162
           },
           {
            "bin_start": 4.214964773,
            "bin_end": 5.4762133639999995,
            "count": 82
           },
           {
            "bin_start": 5.4762133639999995,
            "bin_end": 6.737461955000001,
            "count": 60
           },
           {
            "bin_start": 6.737461955000001,
            "bin_end": 7.998710546,
            "count": 26
           },
           {
            "bin_start": 7.998710546,
            "bin_end": 9.259959137000001,
            "count": 14
           },
           {
            "bin_start": 9.259959137000001,
            "bin_end": 10.521207728,
            "count": 20
           },
           {
            "bin_start": 10.521207728,
            "bin_end": 11.782456319,
            "count": 1
           },
           {
            "bin_start": 11.782456319,
            "bin_end": 13.04370491,
            "count": 5
           }
          ]
         }
        },
        {
         "name": "ONT-Ontology",
         "dtype": "float64",
         "stats": {
          "unique_count": 720,
          "nan_count": 0,
          "min": "0.309965",
          "max": "2.69678502",
          "histogram": [
           {
            "bin_start": 0.309965,
            "bin_end": 0.548647002,
            "count": 163
           },
           {
            "bin_start": 0.548647002,
            "bin_end": 0.787329004,
            "count": 306
           },
           {
            "bin_start": 0.787329004,
            "bin_end": 1.026011006,
            "count": 121
           },
           {
            "bin_start": 1.026011006,
            "bin_end": 1.264693008,
            "count": 67
           },
           {
            "bin_start": 1.264693008,
            "bin_end": 1.50337501,
            "count": 12
           },
           {
            "bin_start": 1.50337501,
            "bin_end": 1.742057012,
            "count": 12
           },
           {
            "bin_start": 1.742057012,
            "bin_end": 1.980739014,
            "count": 20
           },
           {
            "bin_start": 1.980739014,
            "bin_end": 2.219421016,
            "count": 10
           },
           {
            "bin_start": 2.219421016,
            "bin_end": 2.458103018,
            "count": 4
           },
           {
            "bin_start": 2.458103018,
            "bin_end": 2.69678502,
            "count": 5
           }
          ]
         }
        },
        {
         "name": "PAX-Paxos Standard",
         "dtype": "float64",
         "stats": {
          "unique_count": 696,
          "nan_count": 0,
          "min": "0.992999",
          "max": "1.034465",
          "histogram": [
           {
            "bin_start": 0.992999,
            "bin_end": 0.9971456,
            "count": 35
           },
           {
            "bin_start": 0.9971456,
            "bin_end": 1.0012922,
            "count": 428
           },
           {
            "bin_start": 1.0012922,
            "bin_end": 1.0054387999999999,
            "count": 235
           },
           {
            "bin_start": 1.0054387999999999,
            "bin_end": 1.0095854,
            "count": 18
           },
           {
            "bin_start": 1.0095854,
            "bin_end": 1.013732,
            "count": 2
           },
           {
            "bin_start": 1.013732,
            "bin_end": 1.0178786,
            "count": 1
           },
           {
            "bin_start": 1.0178786,
            "bin_end": 1.0220251999999999,
            "count": 0
           },
           {
            "bin_start": 1.0220251999999999,
            "bin_end": 1.0261718,
            "count": 0
           },
           {
            "bin_start": 1.0261718,
            "bin_end": 1.0303184,
            "count": 0
           },
           {
            "bin_start": 1.0303184,
            "bin_end": 1.034465,
            "count": 1
           }
          ]
         }
        },
        {
         "name": "QTUM-Qtum",
         "dtype": "float64",
         "stats": {
          "unique_count": 720,
          "nan_count": 0,
          "min": "1.053573",
          "max": "28.20547348",
          "histogram": [
           {
            "bin_start": 1.053573,
            "bin_end": 3.768763048,
            "count": 492
           },
           {
            "bin_start": 3.768763048,
            "bin_end": 6.483953096,
            "count": 59
           },
           {
            "bin_start": 6.483953096,
            "bin_end": 9.199143143999999,
            "count": 57
           },
           {
            "bin_start": 9.199143143999999,
            "bin_end": 11.914333191999999,
            "count": 30
           },
           {
            "bin_start": 11.914333191999999,
            "bin_end": 14.62952324,
            "count": 44
           },
           {
            "bin_start": 14.62952324,
            "bin_end": 17.344713287999998,
            "count": 17
           },
           {
            "bin_start": 17.344713287999998,
            "bin_end": 20.059903335999998,
            "count": 11
           },
           {
            "bin_start": 20.059903335999998,
            "bin_end": 22.775093383999998,
            "count": 3
           },
           {
            "bin_start": 22.775093383999998,
            "bin_end": 25.490283432,
            "count": 3
           },
           {
            "bin_start": 25.490283432,
            "bin_end": 28.20547348,
            "count": 4
           }
          ]
         }
        },
        {
         "name": "RVN-Ravencoin",
         "dtype": "float64",
         "stats": {
          "unique_count": 709,
          "nan_count": 0,
          "min": "0.011119",
          "max": "0.23434",
          "histogram": [
           {
            "bin_start": 0.011119,
            "bin_end": 0.0334411,
            "count": 483
           },
           {
            "bin_start": 0.0334411,
            "bin_end": 0.0557632,
            "count": 52
           },
           {
            "bin_start": 0.0557632,
            "bin_end": 0.07808530000000001,
            "count": 39
           },
           {
            "bin_start": 0.07808530000000001,
            "bin_end": 0.10040740000000001,
            "count": 20
           },
           {
            "bin_start": 0.10040740000000001,
            "bin_end": 0.1227295,
            "count": 9
           },
           {
            "bin_start": 0.1227295,
            "bin_end": 0.1450516,
            "count": 32
           },
           {
            "bin_start": 0.1450516,
            "bin_end": 0.1673737,
            "count": 25
           },
           {
            "bin_start": 0.1673737,
            "bin_end": 0.1896958,
            "count": 31
           },
           {
            "bin_start": 0.1896958,
            "bin_end": 0.2120179,
            "count": 19
           },
           {
            "bin_start": 0.2120179,
            "bin_end": 0.23434,
            "count": 10
           }
          ]
         }
        },
        {
         "name": "TRX-TRON",
         "dtype": "float64",
         "stats": {
          "unique_count": 717,
          "nan_count": 0,
          "min": "0.008637",
          "max": "0.164346",
          "histogram": [
           {
            "bin_start": 0.008637,
            "bin_end": 0.024207899999999997,
            "count": 325
           },
           {
            "bin_start": 0.024207899999999997,
            "bin_end": 0.039778799999999996,
            "count": 176
           },
           {
            "bin_start": 0.039778799999999996,
            "bin_end": 0.055349699999999995,
            "count": 39
           },
           {
            "bin_start": 0.055349699999999995,
            "bin_end": 0.0709206,
            "count": 67
           },
           {
            "bin_start": 0.0709206,
            "bin_end": 0.0864915,
            "count": 38
           },
           {
            "bin_start": 0.0864915,
            "bin_end": 0.1020624,
            "count": 26
           },
           {
            "bin_start": 0.1020624,
            "bin_end": 0.1176333,
            "count": 13
           },
           {
            "bin_start": 0.1176333,
            "bin_end": 0.1332042,
            "count": 22
           },
           {
            "bin_start": 0.1332042,
            "bin_end": 0.1487751,
            "count": 10
           },
           {
            "bin_start": 0.1487751,
            "bin_end": 0.164346,
            "count": 4
           }
          ]
         }
        },
        {
         "name": "TUSD-TrueUSD",
         "dtype": "float64",
         "stats": {
          "unique_count": 701,
          "nan_count": 0,
          "min": "0.976347",
          "max": "1.045461",
          "histogram": [
           {
            "bin_start": 0.976347,
            "bin_end": 0.9832584,
            "count": 1
           },
           {
            "bin_start": 0.9832584,
            "bin_end": 0.9901698,
            "count": 0
           },
           {
            "bin_start": 0.9901698,
            "bin_end": 0.9970812,
            "count": 17
           },
           {
            "bin_start": 0.9970812,
            "bin_end": 1.0039926,
            "count": 646
           },
           {
            "bin_start": 1.0039926,
            "bin_end": 1.010904,
            "count": 49
           },
           {
            "bin_start": 1.010904,
            "bin_end": 1.0178154,
            "count": 4
           },
           {
            "bin_start": 1.0178154,
            "bin_end": 1.0247268,
            "count": 2
           },
           {
            "bin_start": 1.0247268,
            "bin_end": 1.0316382,
            "count": 0
           },
           {
            "bin_start": 1.0316382,
            "bin_end": 1.0385496,
            "count": 0
           },
           {
            "bin_start": 1.0385496,
            "bin_end": 1.045461,
            "count": 1
           }
          ]
         }
        },
        {
         "name": "USDC-USD Coin",
         "dtype": "float64",
         "stats": {
          "unique_count": 699,
          "nan_count": 0,
          "min": "0.992161",
          "max": "1.026015",
          "histogram": [
           {
            "bin_start": 0.992161,
            "bin_end": 0.9955463999999999,
            "count": 6
           },
           {
            "bin_start": 0.9955463999999999,
            "bin_end": 0.9989317999999999,
            "count": 85
           },
           {
            "bin_start": 0.9989317999999999,
            "bin_end": 1.0023172,
            "count": 512
           },
           {
            "bin_start": 1.0023172,
            "bin_end": 1.0057026,
            "count": 88
           },
           {
            "bin_start": 1.0057026,
            "bin_end": 1.009088,
            "count": 13
           },
           {
            "bin_start": 1.009088,
            "bin_end": 1.0124734,
            "count": 10
           },
           {
            "bin_start": 1.0124734,
            "bin_end": 1.0158588,
            "count": 4
           },
           {
            "bin_start": 1.0158588,
            "bin_end": 1.0192442,
            "count": 1
           },
           {
            "bin_start": 1.0192442,
            "bin_end": 1.0226296,
            "count": 0
           },
           {
            "bin_start": 1.0226296,
            "bin_end": 1.026015,
            "count": 1
           }
          ]
         }
        },
        {
         "name": "USDT-Tether",
         "dtype": "float64",
         "stats": {
          "unique_count": 707,
          "nan_count": 0,
          "min": "0.964285",
          "max": "1.048929",
          "histogram": [
           {
            "bin_start": 0.964285,
            "bin_end": 0.9727494,
            "count": 1
           },
           {
            "bin_start": 0.9727494,
            "bin_end": 0.9812137999999999,
            "count": 1
           },
           {
            "bin_start": 0.9812137999999999,
            "bin_end": 0.9896782,
            "count": 6
           },
           {
            "bin_start": 0.9896782,
            "bin_end": 0.9981426,
            "count": 92
           },
           {
            "bin_start": 0.9981426,
            "bin_end": 1.006607,
            "count": 547
           },
           {
            "bin_start": 1.006607,
            "bin_end": 1.0150714,
            "count": 61
           },
           {
            "bin_start": 1.0150714,
            "bin_end": 1.0235357999999999,
            "count": 9
           },
           {
            "bin_start": 1.0235357999999999,
            "bin_end": 1.0320002,
            "count": 1
           },
           {
            "bin_start": 1.0320002,
            "bin_end": 1.0404646,
            "count": 1
           },
           {
            "bin_start": 1.0404646,
            "bin_end": 1.048929,
            "count": 1
           }
          ]
         }
        },
        {
         "name": "VET-VeChain Thor",
         "dtype": "float64",
         "stats": {
          "unique_count": 708,
          "nan_count": 0,
          "min": "0.002294",
          "max": "0.254559",
          "histogram": [
           {
            "bin_start": 0.002294,
            "bin_end": 0.027520499999999996,
            "count": 481
           },
           {
            "bin_start": 0.027520499999999996,
            "bin_end": 0.05274699999999999,
            "count": 40
           },
           {
            "bin_start": 0.05274699999999999,
            "bin_end": 0.07797349999999999,
            "count": 44
           },
           {
            "bin_start": 0.07797349999999999,
            "bin_end": 0.10319999999999999,
            "count": 47
           },
           {
            "bin_start": 0.10319999999999999,
            "bin_end": 0.12842649999999997,
            "count": 52
           },
           {
            "bin_start": 0.12842649999999997,
            "bin_end": 0.15365299999999996,
            "count": 19
           },
           {
            "bin_start": 0.15365299999999996,
            "bin_end": 0.17887949999999997,
            "count": 9
           },
           {
            "bin_start": 0.17887949999999997,
            "bin_end": 0.20410599999999995,
            "count": 10
           },
           {
            "bin_start": 0.20410599999999995,
            "bin_end": 0.22933249999999994,
            "count": 10
           },
           {
            "bin_start": 0.22933249999999994,
            "bin_end": 0.254559,
            "count": 8
           }
          ]
         }
        },
        {
         "name": "VSYS-V Systems",
         "dtype": "float64",
         "stats": {
          "unique_count": 713,
          "nan_count": 0,
          "min": "0.012379",
          "max": "0.089659",
          "histogram": [
           {
            "bin_start": 0.012379,
            "bin_end": 0.020107,
            "count": 214
           },
           {
            "bin_start": 0.020107,
            "bin_end": 0.027835,
            "count": 244
           },
           {
            "bin_start": 0.027835,
            "bin_end": 0.035563000000000004,
            "count": 87
           },
           {
            "bin_start": 0.035563000000000004,
            "bin_end": 0.043291,
            "count": 42
           },
           {
            "bin_start": 0.043291,
            "bin_end": 0.051019,
            "count": 41
           },
           {
            "bin_start": 0.051019,
            "bin_end": 0.05874700000000001,
            "count": 34
           },
           {
            "bin_start": 0.05874700000000001,
            "bin_end": 0.066475,
            "count": 8
           },
           {
            "bin_start": 0.066475,
            "bin_end": 0.074203,
            "count": 20
           },
           {
            "bin_start": 0.074203,
            "bin_end": 0.081931,
            "count": 25
           },
           {
            "bin_start": 0.081931,
            "bin_end": 0.089659,
            "count": 5
           }
          ]
         }
        },
        {
         "name": "WAVES-Waves",
         "dtype": "float64",
         "stats": {
          "unique_count": 720,
          "nan_count": 0,
          "min": "0.534038",
          "max": "35.87103997",
          "histogram": [
           {
            "bin_start": 0.534038,
            "bin_end": 4.067738197,
            "count": 413
           },
           {
            "bin_start": 4.067738197,
            "bin_end": 7.601438393999999,
            "count": 69
           },
           {
            "bin_start": 7.601438393999999,
            "bin_end": 11.135138590999999,
            "count": 58
           },
           {
            "bin_start": 11.135138590999999,
            "bin_end": 14.668838787999999,
            "count": 65
           },
           {
            "bin_start": 14.668838787999999,
            "bin_end": 18.202538984999997,
            "count": 54
           },
           {
            "bin_start": 18.202538984999997,
            "bin_end": 21.736239181999995,
            "count": 9
           },
           {
            "bin_start": 21.736239181999995,
            "bin_end": 25.269939378999997,
            "count": 17
           },
           {
            "bin_start": 25.269939378999997,
            "bin_end": 28.803639575999995,
            "count": 10
           },
           {
            "bin_start": 28.803639575999995,
            "bin_end": 32.337339773,
            "count": 17
           },
           {
            "bin_start": 32.337339773,
            "bin_end": 35.87103997,
            "count": 8
           }
          ]
         }
        },
        {
         "name": "XEM-NEM",
         "dtype": "float64",
         "stats": {
          "unique_count": 718,
          "nan_count": 0,
          "min": "0.031176",
          "max": "0.793983",
          "histogram": [
           {
            "bin_start": 0.031176,
            "bin_end": 0.1074567,
            "count": 352
           },
           {
            "bin_start": 0.1074567,
            "bin_end": 0.18373740000000002,
            "count": 151
           },
           {
            "bin_start": 0.18373740000000002,
            "bin_end": 0.26001810000000003,
            "count": 102
           },
           {
            "bin_start": 0.26001810000000003,
            "bin_end": 0.3362988,
            "count": 36
           },
           {
            "bin_start": 0.3362988,
            "bin_end": 0.4125795,
            "count": 46
           },
           {
            "bin_start": 0.4125795,
            "bin_end": 0.4888602,
            "count": 11
           },
           {
            "bin_start": 0.4888602,
            "bin_end": 0.5651409000000001,
            "count": 7
           },
           {
            "bin_start": 0.5651409000000001,
            "bin_end": 0.6414216,
            "count": 5
           },
           {
            "bin_start": 0.6414216,
            "bin_end": 0.7177023,
            "count": 5
           },
           {
            "bin_start": 0.7177023,
            "bin_end": 0.793983,
            "count": 5
           }
          ]
         }
        },
        {
         "name": "XLM-Stellar",
         "dtype": "float64",
         "stats": {
          "unique_count": 720,
          "nan_count": 0,
          "min": "0.032657",
          "max": "0.73819929",
          "histogram": [
           {
            "bin_start": 0.032657,
            "bin_end": 0.10321122899999999,
            "count": 407
           },
           {
            "bin_start": 0.10321122899999999,
            "bin_end": 0.17376545799999998,
            "count": 44
           },
           {
            "bin_start": 0.17376545799999998,
            "bin_end": 0.24431968699999998,
            "count": 33
           },
           {
            "bin_start": 0.24431968699999998,
            "bin_end": 0.314873916,
            "count": 64
           },
           {
            "bin_start": 0.314873916,
            "bin_end": 0.38542814499999994,
            "count": 57
           },
           {
            "bin_start": 0.38542814499999994,
            "bin_end": 0.45598237399999997,
            "count": 62
           },
           {
            "bin_start": 0.45598237399999997,
            "bin_end": 0.526536603,
            "count": 22
           },
           {
            "bin_start": 0.526536603,
            "bin_end": 0.597090832,
            "count": 11
           },
           {
            "bin_start": 0.597090832,
            "bin_end": 0.667645061,
            "count": 16
           },
           {
            "bin_start": 0.667645061,
            "bin_end": 0.73819929,
            "count": 4
           }
          ]
         }
        },
        {
         "name": "XMR-Monero",
         "dtype": "float64",
         "stats": {
          "unique_count": 720,
          "nan_count": 0,
          "min": "32.560645",
          "max": "485.34792998",
          "histogram": [
           {
            "bin_start": 32.560645,
            "bin_end": 77.839373498,
            "count": 289
           },
           {
            "bin_start": 77.839373498,
            "bin_end": 123.11810199600001,
            "count": 118
           },
           {
            "bin_start": 123.11810199600001,
            "bin_end": 168.396830494,
            "count": 94
           },
           {
            "bin_start": 168.396830494,
            "bin_end": 213.675558992,
            "count": 41
           },
           {
            "bin_start": 213.675558992,
            "bin_end": 258.95428749,
            "count": 80
           },
           {
            "bin_start": 258.95428749,
            "bin_end": 304.23301598800003,
            "count": 50
           },
           {
            "bin_start": 304.23301598800003,
            "bin_end": 349.511744486,
            "count": 19
           },
           {
            "bin_start": 349.511744486,
            "bin_end": 394.790472984,
            "count": 9
           },
           {
            "bin_start": 394.790472984,
            "bin_end": 440.06920148200004,
            "count": 15
           },
           {
            "bin_start": 440.06920148200004,
            "bin_end": 485.34792998,
            "count": 5
           }
          ]
         }
        },
        {
         "name": "XRP-XRP",
         "dtype": "float64",
         "stats": {
          "unique_count": 719,
          "nan_count": 0,
          "min": "0.141093",
          "max": "1.854812",
          "histogram": [
           {
            "bin_start": 0.141093,
            "bin_end": 0.3124649,
            "count": 451
           },
           {
            "bin_start": 0.3124649,
            "bin_end": 0.48383679999999996,
            "count": 49
           },
           {
            "bin_start": 0.48383679999999996,
            "bin_end": 0.6552087,
            "count": 85
           },
           {
            "bin_start": 0.6552087,
            "bin_end": 0.8265806,
            "count": 27
           },
           {
            "bin_start": 0.8265806,
            "bin_end": 0.9979525,
            "count": 25
           },
           {
            "bin_start": 0.9979525,
            "bin_end": 1.1693243999999998,
            "count": 28
           },
           {
            "bin_start": 1.1693243999999998,
            "bin_end": 1.3406962999999998,
            "count": 22
           },
           {
            "bin_start": 1.3406962999999998,
            "bin_end": 1.5120681999999999,
            "count": 18
           },
           {
            "bin_start": 1.5120681999999999,
            "bin_end": 1.6834400999999999,
            "count": 12
           },
           {
            "bin_start": 1.6834400999999999,
            "bin_end": 1.854812,
            "count": 3
           }
          ]
         }
        },
        {
         "name": "XTZ-Tezos",
         "dtype": "float64",
         "stats": {
          "unique_count": 720,
          "nan_count": 0,
          "min": "0.765294",
          "max": "7.66621708",
          "histogram": [
           {
            "bin_start": 0.765294,
            "bin_end": 1.455386308,
            "count": 101
           },
           {
            "bin_start": 1.455386308,
            "bin_end": 2.145478616,
            "count": 123
           },
           {
            "bin_start": 2.145478616,
            "bin_end": 2.8355709239999998,
            "count": 201
           },
           {
            "bin_start": 2.8355709239999998,
            "bin_end": 3.525663232,
            "count": 140
           },
           {
            "bin_start": 3.525663232,
            "bin_end": 4.21575554,
            "count": 60
           },
           {
            "bin_start": 4.21575554,
            "bin_end": 4.905847848,
            "count": 31
           },
           {
            "bin_start": 4.905847848,
            "bin_end": 5.595940156,
            "count": 25
           },
           {
            "bin_start": 5.595940156,
            "bin_end": 6.286032464,
            "count": 18
           },
           {
            "bin_start": 6.286032464,
            "bin_end": 6.9761247719999995,
            "count": 13
           },
           {
            "bin_start": 6.9761247719999995,
            "bin_end": 7.66621708,
            "count": 8
           }
          ]
         }
        },
        {
         "name": "ZEC-Zcash",
         "dtype": "float64",
         "stats": {
          "unique_count": 720,
          "nan_count": 0,
          "min": "24.747604",
          "max": "319.975658",
          "histogram": [
           {
            "bin_start": 24.747604,
            "bin_end": 54.2704094,
            "count": 252
           },
           {
            "bin_start": 54.2704094,
            "bin_end": 83.7932148,
            "count": 207
           },
           {
            "bin_start": 83.7932148,
            "bin_end": 113.3160202,
            "count": 77
           },
           {
            "bin_start": 113.3160202,
            "bin_end": 142.8388256,
            "count": 71
           },
           {
            "bin_start": 142.8388256,
            "bin_end": 172.361631,
            "count": 64
           },
           {
            "bin_start": 172.361631,
            "bin_end": 201.8844364,
            "count": 11
           },
           {
            "bin_start": 201.8844364,
            "bin_end": 231.40724179999998,
            "count": 10
           },
           {
            "bin_start": 231.40724179999998,
            "bin_end": 260.9300472,
            "count": 13
           },
           {
            "bin_start": 260.9300472,
            "bin_end": 290.4528526,
            "count": 7
           },
           {
            "bin_start": 290.4528526,
            "bin_end": 319.975658,
            "count": 8
           }
          ]
         }
        },
        {
         "name": "ZRX-0x",
         "dtype": "float64",
         "stats": {
          "unique_count": 719,
          "nan_count": 0,
          "min": "0.139716",
          "max": "2.366762",
          "histogram": [
           {
            "bin_start": 0.139716,
            "bin_end": 0.3624206,
            "count": 295
           },
           {
            "bin_start": 0.3624206,
            "bin_end": 0.5851252,
            "count": 182
           },
           {
            "bin_start": 0.5851252,
            "bin_end": 0.8078297999999999,
            "count": 63
           },
           {
            "bin_start": 0.8078297999999999,
            "bin_end": 1.0305344,
            "count": 41
           },
           {
            "bin_start": 1.0305344,
            "bin_end": 1.253239,
            "count": 35
           },
           {
            "bin_start": 1.253239,
            "bin_end": 1.4759436,
            "count": 33
           },
           {
            "bin_start": 1.4759436,
            "bin_end": 1.6986482,
            "count": 31
           },
           {
            "bin_start": 1.6986482,
            "bin_end": 1.9213528,
            "count": 23
           },
           {
            "bin_start": 1.9213528,
            "bin_end": 2.1440574,
            "count": 10
           },
           {
            "bin_start": 2.1440574,
            "bin_end": 2.366762,
            "count": 7
           }
          ]
         }
        },
        {
         "name": "ABBC-ABBC Coin",
         "dtype": "float64",
         "stats": {
          "unique_count": 720,
          "nan_count": 0,
          "min": "0.072792",
          "max": "0.79707665",
          "histogram": [
           {
            "bin_start": 0.072792,
            "bin_end": 0.14522046500000002,
            "count": 235
           },
           {
            "bin_start": 0.14522046500000002,
            "bin_end": 0.21764893000000002,
            "count": 288
           },
           {
            "bin_start": 0.21764893000000002,
            "bin_end": 0.29007739500000007,
            "count": 116
           },
           {
            "bin_start": 0.29007739500000007,
            "bin_end": 0.36250586000000007,
            "count": 39
           },
           {
            "bin_start": 0.36250586000000007,
            "bin_end": 0.43493432500000007,
            "count": 17
           },
           {
            "bin_start": 0.43493432500000007,
            "bin_end": 0.5073627900000001,
            "count": 6
           },
           {
            "bin_start": 0.5073627900000001,
            "bin_end": 0.5797912550000001,
            "count": 4
           },
           {
            "bin_start": 0.5797912550000001,
            "bin_end": 0.6522197200000001,
            "count": 9
           },
           {
            "bin_start": 0.6522197200000001,
            "bin_end": 0.7246481850000001,
            "count": 2
           },
           {
            "bin_start": 0.7246481850000001,
            "bin_end": 0.79707665,
            "count": 4
           }
          ]
         }
        },
        {
         "name": "AE-Aeternity",
         "dtype": "float64",
         "stats": {
          "unique_count": 717,
          "nan_count": 0,
          "min": "0.075414",
          "max": "0.45287109",
          "histogram": [
           {
            "bin_start": 0.075414,
            "bin_end": 0.113159709,
            "count": 184
           },
           {
            "bin_start": 0.113159709,
            "bin_end": 0.150905418,
            "count": 218
           },
           {
            "bin_start": 0.150905418,
            "bin_end": 0.188651127,
            "count": 175
           },
           {
            "bin_start": 0.188651127,
            "bin_end": 0.226396836,
            "count": 79
           },
           {
            "bin_start": 0.226396836,
            "bin_end": 0.264142545,
            "count": 27
           },
           {
            "bin_start": 0.264142545,
            "bin_end": 0.301888254,
            "count": 7
           },
           {
            "bin_start": 0.301888254,
            "bin_end": 0.339633963,
            "count": 10
           },
           {
            "bin_start": 0.339633963,
            "bin_end": 0.377379672,
            "count": 9
           },
           {
            "bin_start": 0.377379672,
            "bin_end": 0.415125381,
            "count": 6
           },
           {
            "bin_start": 0.415125381,
            "bin_end": 0.45287109,
            "count": 5
           }
          ]
         }
        },
        {
         "name": "AOA-Aurora",
         "dtype": "float64",
         "stats": {
          "unique_count": 669,
          "nan_count": 3,
          "min": "0.000719",
          "max": "0.020004",
          "histogram": [
           {
            "bin_start": 0.000719,
            "bin_end": 0.0026475,
            "count": 405
           },
           {
            "bin_start": 0.0026475,
            "bin_end": 0.004576,
            "count": 94
           },
           {
            "bin_start": 0.004576,
            "bin_end": 0.006504500000000001,
            "count": 87
           },
           {
            "bin_start": 0.006504500000000001,
            "bin_end": 0.008433,
            "count": 66
           },
           {
            "bin_start": 0.008433,
            "bin_end": 0.0103615,
            "count": 6
           },
           {
            "bin_start": 0.0103615,
            "bin_end": 0.012290000000000002,
            "count": 26
           },
           {
            "bin_start": 0.012290000000000002,
            "bin_end": 0.014218500000000002,
            "count": 20
           },
           {
            "bin_start": 0.014218500000000002,
            "bin_end": 0.016147,
            "count": 7
           },
           {
            "bin_start": 0.016147,
            "bin_end": 0.0180755,
            "count": 5
           },
           {
            "bin_start": 0.0180755,
            "bin_end": 0.020004,
            "count": 1
           }
          ]
         }
        },
        {
         "name": "ARDR-Ardor",
         "dtype": "float64",
         "stats": {
          "unique_count": 717,
          "nan_count": 0,
          "min": "0.027692",
          "max": "0.568633",
          "histogram": [
           {
            "bin_start": 0.027692,
            "bin_end": 0.0817861,
            "count": 480
           },
           {
            "bin_start": 0.0817861,
            "bin_end": 0.1358802,
            "count": 38
           },
           {
            "bin_start": 0.1358802,
            "bin_end": 0.18997429999999998,
            "count": 53
           },
           {
            "bin_start": 0.18997429999999998,
            "bin_end": 0.2440684,
            "count": 33
           },
           {
            "bin_start": 0.2440684,
            "bin_end": 0.2981625,
            "count": 49
           },
           {
            "bin_start": 0.2981625,
            "bin_end": 0.3522566,
            "count": 21
           },
           {
            "bin_start": 0.3522566,
            "bin_end": 0.4063507,
            "count": 17
           },
           {
            "bin_start": 0.4063507,
            "bin_end": 0.4604448,
            "count": 20
           },
           {
            "bin_start": 0.4604448,
            "bin_end": 0.5145389,
            "count": 3
           },
           {
            "bin_start": 0.5145389,
            "bin_end": 0.568633,
            "count": 6
           }
          ]
         }
        },
        {
         "name": "BCN-Bytecoin",
         "dtype": "float64",
         "stats": {
          "unique_count": 438,
          "nan_count": 0,
          "min": "0.000118",
          "max": "0.0023278812",
          "histogram": [
           {
            "bin_start": 0.000118,
            "bin_end": 0.00033898812,
            "count": 404
           },
           {
            "bin_start": 0.00033898812,
            "bin_end": 0.0005599762399999999,
            "count": 150
           },
           {
            "bin_start": 0.0005599762399999999,
            "bin_end": 0.00078096436,
            "count": 49
           },
           {
            "bin_start": 0.00078096436,
            "bin_end": 0.00100195248,
            "count": 56
           },
           {
            "bin_start": 0.00100195248,
            "bin_end": 0.0012229406,
            "count": 34
           },
           {
            "bin_start": 0.0012229406,
            "bin_end": 0.0014439287199999999,
            "count": 12
           },
           {
            "bin_start": 0.0014439287199999999,
            "bin_end": 0.00166491684,
            "count": 6
           },
           {
            "bin_start": 0.00166491684,
            "bin_end": 0.00188590496,
            "count": 6
           },
           {
            "bin_start": 0.00188590496,
            "bin_end": 0.00210689308,
            "count": 1
           },
           {
            "bin_start": 0.00210689308,
            "bin_end": 0.0023278812,
            "count": 2
           }
          ]
         }
        },
        {
         "name": "BTM-Bytom",
         "dtype": "float64",
         "stats": {
          "unique_count": 717,
          "nan_count": 0,
          "min": "0.0467",
          "max": "0.273749",
          "histogram": [
           {
            "bin_start": 0.0467,
            "bin_end": 0.0694049,
            "count": 319
           },
           {
            "bin_start": 0.0694049,
            "bin_end": 0.0921098,
            "count": 227
           },
           {
            "bin_start": 0.0921098,
            "bin_end": 0.11481470000000002,
            "count": 97
           },
           {
            "bin_start": 0.11481470000000002,
            "bin_end": 0.13751960000000002,
            "count": 27
           },
           {
            "bin_start": 0.13751960000000002,
            "bin_end": 0.16022450000000002,
            "count": 1
           },
           {
            "bin_start": 0.16022450000000002,
            "bin_end": 0.18292940000000002,
            "count": 15
           },
           {
            "bin_start": 0.18292940000000002,
            "bin_end": 0.20563430000000002,
            "count": 21
           },
           {
            "bin_start": 0.20563430000000002,
            "bin_end": 0.22833920000000002,
            "count": 7
           },
           {
            "bin_start": 0.22833920000000002,
            "bin_end": 0.25104410000000005,
            "count": 5
           },
           {
            "bin_start": 0.25104410000000005,
            "bin_end": 0.273749,
            "count": 1
           }
          ]
         }
        },
        {
         "name": "BTS-BitShares",
         "dtype": "float64",
         "stats": {
          "unique_count": 713,
          "nan_count": 0,
          "min": "0.012204",
          "max": "0.148866",
          "histogram": [
           {
            "bin_start": 0.012204,
            "bin_end": 0.0258702,
            "count": 353
           },
           {
            "bin_start": 0.0258702,
            "bin_end": 0.0395364,
            "count": 145
           },
           {
            "bin_start": 0.0395364,
            "bin_end": 0.053202599999999996,
            "count": 92
           },
           {
            "bin_start": 0.053202599999999996,
            "bin_end": 0.0668688,
            "count": 60
           },
           {
            "bin_start": 0.0668688,
            "bin_end": 0.080535,
            "count": 16
           },
           {
            "bin_start": 0.080535,
            "bin_end": 0.09420119999999998,
            "count": 11
           },
           {
            "bin_start": 0.09420119999999998,
            "bin_end": 0.1078674,
            "count": 9
           },
           {
            "bin_start": 0.1078674,
            "bin_end": 0.12153359999999999,
            "count": 11
           },
           {
            "bin_start": 0.12153359999999999,
            "bin_end": 0.1351998,
            "count": 18
           },
           {
            "bin_start": 0.1351998,
            "bin_end": 0.148866,
            "count": 5
           }
          ]
         }
        },
        {
         "name": "DAI-Dai",
         "dtype": "float64",
         "stats": {
          "unique_count": 716,
          "nan_count": 0,
          "min": "0.989563",
          "max": "1.053774",
          "histogram": [
           {
            "bin_start": 0.989563,
            "bin_end": 0.9959840999999999,
            "count": 28
           },
           {
            "bin_start": 0.9959840999999999,
            "bin_end": 1.0024051999999999,
            "count": 242
           },
           {
            "bin_start": 1.0024051999999999,
            "bin_end": 1.0088263,
            "count": 239
           },
           {
            "bin_start": 1.0088263,
            "bin_end": 1.0152474,
            "count": 101
           },
           {
            "bin_start": 1.0152474,
            "bin_end": 1.0216685,
            "count": 64
           },
           {
            "bin_start": 1.0216685,
            "bin_end": 1.0280896,
            "count": 29
           },
           {
            "bin_start": 1.0280896,
            "bin_end": 1.0345107,
            "count": 10
           },
           {
            "bin_start": 1.0345107,
            "bin_end": 1.0409318,
            "count": 5
           },
           {
            "bin_start": 1.0409318,
            "bin_end": 1.0473529,
            "count": 1
           },
           {
            "bin_start": 1.0473529,
            "bin_end": 1.053774,
            "count": 1
           }
          ]
         }
        },
        {
         "name": "DGB-DigiByte",
         "dtype": "float64",
         "stats": {
          "unique_count": 713,
          "nan_count": 0,
          "min": "0.003105",
          "max": "0.15748923",
          "histogram": [
           {
            "bin_start": 0.003105,
            "bin_end": 0.018543423000000003,
            "count": 246
           },
           {
            "bin_start": 0.018543423000000003,
            "bin_end": 0.033981846,
            "count": 250
           },
           {
            "bin_start": 0.033981846,
            "bin_end": 0.049420269,
            "count": 50
           },
           {
            "bin_start": 0.049420269,
            "bin_end": 0.06485869200000001,
            "count": 67
           },
           {
            "bin_start": 0.06485869200000001,
            "bin_end": 0.080297115,
            "count": 57
           },
           {
            "bin_start": 0.080297115,
            "bin_end": 0.09573553800000001,
            "count": 15
           },
           {
            "bin_start": 0.09573553800000001,
            "bin_end": 0.111173961,
            "count": 7
           },
           {
            "bin_start": 0.111173961,
            "bin_end": 0.12661238400000002,
            "count": 8
           },
           {
            "bin_start": 0.12661238400000002,
            "bin_end": 0.142050807,
            "count": 10
           },
           {
            "bin_start": 0.142050807,
            "bin_end": 0.15748923,
            "count": 10
           }
          ]
         }
        },
        {
         "name": "EKT-EDUCare",
         "dtype": "float64",
         "stats": {
          "unique_count": 705,
          "nan_count": 0,
          "min": "0.001816",
          "max": "0.173267",
          "histogram": [
           {
            "bin_start": 0.001816,
            "bin_end": 0.0189611,
            "count": 553
           },
           {
            "bin_start": 0.0189611,
            "bin_end": 0.0361062,
            "count": 56
           },
           {
            "bin_start": 0.0361062,
            "bin_end": 0.0532513,
            "count": 14
           },
           {
            "bin_start": 0.0532513,
            "bin_end": 0.0703964,
            "count": 13
           },
           {
            "bin_start": 0.0703964,
            "bin_end": 0.0875415,
            "count": 9
           },
           {
            "bin_start": 0.0875415,
            "bin_end": 0.1046866,
            "count": 16
           },
           {
            "bin_start": 0.1046866,
            "bin_end": 0.1218317,
            "count": 15
           },
           {
            "bin_start": 0.1218317,
            "bin_end": 0.1389768,
            "count": 13
           },
           {
            "bin_start": 0.1389768,
            "bin_end": 0.1561219,
            "count": 12
           },
           {
            "bin_start": 0.1561219,
            "bin_end": 0.173267,
            "count": 19
           }
          ]
         }
        },
        {
         "name": "ELF-aelf",
         "dtype": "float64",
         "stats": {
          "unique_count": 716,
          "nan_count": 0,
          "min": "0.044699",
          "max": "0.89598017",
          "histogram": [
           {
            "bin_start": 0.044699,
            "bin_end": 0.129827117,
            "count": 462
           },
           {
            "bin_start": 0.129827117,
            "bin_end": 0.214955234,
            "count": 80
           },
           {
            "bin_start": 0.214955234,
            "bin_end": 0.30008335099999994,
            "count": 78
           },
           {
            "bin_start": 0.30008335099999994,
            "bin_end": 0.38521146799999995,
            "count": 41
           },
           {
            "bin_start": 0.38521146799999995,
            "bin_end": 0.47033958499999995,
            "count": 26
           },
           {
            "bin_start": 0.47033958499999995,
            "bin_end": 0.555467702,
            "count": 21
           },
           {
            "bin_start": 0.555467702,
            "bin_end": 0.640595819,
            "count": 1
           },
           {
            "bin_start": 0.640595819,
            "bin_end": 0.725723936,
            "count": 2
           },
           {
            "bin_start": 0.725723936,
            "bin_end": 0.810852053,
            "count": 4
           },
           {
            "bin_start": 0.810852053,
            "bin_end": 0.89598017,
            "count": 5
           }
          ]
         }
        },
        {
         "name": "ENJ-Enjin Coin",
         "dtype": "float64",
         "stats": {
          "unique_count": 720,
          "nan_count": 0,
          "min": "0.044503",
          "max": "3.536277",
          "histogram": [
           {
            "bin_start": 0.044503,
            "bin_end": 0.3936804,
            "count": 496
           },
           {
            "bin_start": 0.3936804,
            "bin_end": 0.7428577999999999,
            "count": 28
           },
           {
            "bin_start": 0.7428577999999999,
            "bin_end": 1.0920352,
            "count": 12
           },
           {
            "bin_start": 1.0920352,
            "bin_end": 1.4412125999999998,
            "count": 61
           },
           {
            "bin_start": 1.4412125999999998,
            "bin_end": 1.7903899999999997,
            "count": 35
           },
           {
            "bin_start": 1.7903899999999997,
            "bin_end": 2.1395674000000002,
            "count": 27
           },
           {
            "bin_start": 2.1395674000000002,
            "bin_end": 2.4887448,
            "count": 24
           },
           {
            "bin_start": 2.4887448,
            "bin_end": 2.8379222,
            "count": 27
           },
           {
            "bin_start": 2.8379222,
            "bin_end": 3.1870996,
            "count": 5
           },
           {
            "bin_start": 3.1870996,
            "bin_end": 3.536277,
            "count": 5
           }
          ]
         }
        },
        {
         "name": "ETP-Metaverse ETP",
         "dtype": "float64",
         "stats": {
          "unique_count": 720,
          "nan_count": 0,
          "min": "0.071263",
          "max": "0.715147",
          "histogram": [
           {
            "bin_start": 0.071263,
            "bin_end": 0.1356514,
            "count": 232
           },
           {
            "bin_start": 0.1356514,
            "bin_end": 0.2000398,
            "count": 191
           },
           {
            "bin_start": 0.2000398,
            "bin_end": 0.2644282,
            "count": 76
           },
           {
            "bin_start": 0.2644282,
            "bin_end": 0.3288166,
            "count": 39
           },
           {
            "bin_start": 0.3288166,
            "bin_end": 0.393205,
            "count": 90
           },
           {
            "bin_start": 0.393205,
            "bin_end": 0.4575934,
            "count": 56
           },
           {
            "bin_start": 0.4575934,
            "bin_end": 0.5219817999999999,
            "count": 25
           },
           {
            "bin_start": 0.5219817999999999,
            "bin_end": 0.5863702,
            "count": 5
           },
           {
            "bin_start": 0.5863702,
            "bin_end": 0.6507586,
            "count": 3
           },
           {
            "bin_start": 0.6507586,
            "bin_end": 0.715147,
            "count": 3
           }
          ]
         }
        },
        {
         "name": "GNT-Golem",
         "dtype": "float64",
         "stats": {
          "unique_count": 719,
          "nan_count": 0,
          "min": "0.024897",
          "max": "0.66678053",
          "histogram": [
           {
            "bin_start": 0.024897,
            "bin_end": 0.089085353,
            "count": 342
           },
           {
            "bin_start": 0.089085353,
            "bin_end": 0.153273706,
            "count": 137
           },
           {
            "bin_start": 0.153273706,
            "bin_end": 0.217462059,
            "count": 25
           },
           {
            "bin_start": 0.217462059,
            "bin_end": 0.281650412,
            "count": 23
           },
           {
            "bin_start": 0.281650412,
            "bin_end": 0.34583876500000005,
            "count": 58
           },
           {
            "bin_start": 0.34583876500000005,
            "bin_end": 0.410027118,
            "count": 37
           },
           {
            "bin_start": 0.410027118,
            "bin_end": 0.474215471,
            "count": 45
           },
           {
            "bin_start": 0.474215471,
            "bin_end": 0.538403824,
            "count": 29
           },
           {
            "bin_start": 0.538403824,
            "bin_end": 0.602592177,
            "count": 12
           },
           {
            "bin_start": 0.602592177,
            "bin_end": 0.66678053,
            "count": 12
           }
          ]
         }
        },
        {
         "name": "GXC-GXChain",
         "dtype": "float64",
         "stats": {
          "unique_count": 719,
          "nan_count": 0,
          "min": "0.248346",
          "max": "1.35500864",
          "histogram": [
           {
            "bin_start": 0.248346,
            "bin_end": 0.359012264,
            "count": 55
           },
           {
            "bin_start": 0.359012264,
            "bin_end": 0.46967852800000004,
            "count": 287
           },
           {
            "bin_start": 0.46967852800000004,
            "bin_end": 0.580344792,
            "count": 174
           },
           {
            "bin_start": 0.580344792,
            "bin_end": 0.691011056,
            "count": 80
           },
           {
            "bin_start": 0.691011056,
            "bin_end": 0.80167732,
            "count": 61
           },
           {
            "bin_start": 0.80167732,
            "bin_end": 0.912343584,
            "count": 14
           },
           {
            "bin_start": 0.912343584,
            "bin_end": 1.023009848,
            "count": 17
           },
           {
            "bin_start": 1.023009848,
            "bin_end": 1.133676112,
            "count": 17
           },
           {
            "bin_start": 1.133676112,
            "bin_end": 1.244342376,
            "count": 12
           },
           {
            "bin_start": 1.244342376,
            "bin_end": 1.35500864,
            "count": 3
           }
          ]
         }
        },
        {
         "name": "HC-HyperCash",
         "dtype": "float64",
         "stats": {
          "unique_count": 720,
          "nan_count": 0,
          "min": "0.587351",
          "max": "2.983961",
          "histogram": [
           {
            "bin_start": 0.587351,
            "bin_end": 0.827012,
            "count": 109
           },
           {
            "bin_start": 0.827012,
            "bin_end": 1.066673,
            "count": 191
           },
           {
            "bin_start": 1.066673,
            "bin_end": 1.3063339999999999,
            "count": 189
           },
           {
            "bin_start": 1.3063339999999999,
            "bin_end": 1.545995,
            "count": 106
           },
           {
            "bin_start": 1.545995,
            "bin_end": 1.785656,
            "count": 59
           },
           {
            "bin_start": 1.785656,
            "bin_end": 2.025317,
            "count": 41
           },
           {
            "bin_start": 2.025317,
            "bin_end": 2.264978,
            "count": 12
           },
           {
            "bin_start": 2.264978,
            "bin_end": 2.504639,
            "count": 10
           },
           {
            "bin_start": 2.504639,
            "bin_end": 2.7443,
            "count": 2
           },
           {
            "bin_start": 2.7443,
            "bin_end": 2.983961,
            "count": 1
           }
          ]
         }
        },
        {
         "name": "ICX-ICON",
         "dtype": "float64",
         "stats": {
          "unique_count": 719,
          "nan_count": 0,
          "min": "0.108846",
          "max": "3.098391",
          "histogram": [
           {
            "bin_start": 0.108846,
            "bin_end": 0.40780049999999995,
            "count": 376
           },
           {
            "bin_start": 0.40780049999999995,
            "bin_end": 0.7067549999999999,
            "count": 109
           },
           {
            "bin_start": 0.7067549999999999,
            "bin_end": 1.0057094999999998,
            "count": 69
           },
           {
            "bin_start": 1.0057094999999998,
            "bin_end": 1.3046639999999998,
            "count": 40
           },
           {
            "bin_start": 1.3046639999999998,
            "bin_end": 1.6036184999999998,
            "count": 31
           },
           {
            "bin_start": 1.6036184999999998,
            "bin_end": 1.9025729999999996,
            "count": 30
           },
           {
            "bin_start": 1.9025729999999996,
            "bin_end": 2.2015275,
            "count": 26
           },
           {
            "bin_start": 2.2015275,
            "bin_end": 2.500482,
            "count": 13
           },
           {
            "bin_start": 2.500482,
            "bin_end": 2.7994364999999997,
            "count": 23
           },
           {
            "bin_start": 2.7994364999999997,
            "bin_end": 3.098391,
            "count": 3
           }
          ]
         }
        },
        {
         "name": "IOST-IOStoken",
         "dtype": "float64",
         "stats": {
          "unique_count": 684,
          "nan_count": 0,
          "min": "0.002367",
          "max": "0.080052885",
          "histogram": [
           {
            "bin_start": 0.002367,
            "bin_end": 0.0101355885,
            "count": 473
           },
           {
            "bin_start": 0.0101355885,
            "bin_end": 0.017904177000000004,
            "count": 25
           },
           {
            "bin_start": 0.017904177000000004,
            "bin_end": 0.025672765500000007,
            "count": 52
           },
           {
            "bin_start": 0.025672765500000007,
            "bin_end": 0.033441354000000006,
            "count": 47
           },
           {
            "bin_start": 0.033441354000000006,
            "bin_end": 0.041209942500000006,
            "count": 17
           },
           {
            "bin_start": 0.041209942500000006,
            "bin_end": 0.04897853100000001,
            "count": 41
           },
           {
            "bin_start": 0.04897853100000001,
            "bin_end": 0.05674711950000001,
            "count": 27
           },
           {
            "bin_start": 0.05674711950000001,
            "bin_end": 0.064515708,
            "count": 19
           },
           {
            "bin_start": 0.064515708,
            "bin_end": 0.07228429650000001,
            "count": 10
           },
           {
            "bin_start": 0.07228429650000001,
            "bin_end": 0.080052885,
            "count": 9
           }
          ]
         }
        },
        {
         "name": "KMD-Komodo",
         "dtype": "float64",
         "stats": {
          "unique_count": 720,
          "nan_count": 0,
          "min": "0.268373",
          "max": "5.174278",
          "histogram": [
           {
            "bin_start": 0.268373,
            "bin_end": 0.7589635,
            "count": 483
           },
           {
            "bin_start": 0.7589635,
            "bin_end": 1.249554,
            "count": 118
           },
           {
            "bin_start": 1.249554,
            "bin_end": 1.7401445,
            "count": 51
           },
           {
            "bin_start": 1.7401445,
            "bin_end": 2.230735,
            "count": 20
           },
           {
            "bin_start": 2.230735,
            "bin_end": 2.7213255000000003,
            "count": 13
           },
           {
            "bin_start": 2.7213255000000003,
            "bin_end": 3.211916,
            "count": 18
           },
           {
            "bin_start": 3.211916,
            "bin_end": 3.7025065,
            "count": 9
           },
           {
            "bin_start": 3.7025065,
            "bin_end": 4.193097,
            "count": 5
           },
           {
            "bin_start": 4.193097,
            "bin_end": 4.6836875,
            "count": 1
           },
           {
            "bin_start": 4.6836875,
            "bin_end": 5.174278,
            "count": 2
           }
          ]
         }
        },
        {
         "name": "LAMB-Lambda",
         "dtype": "float64",
         "stats": {
          "unique_count": 714,
          "nan_count": 0,
          "min": "0.00904867",
          "max": "0.161529",
          "histogram": [
           {
            "bin_start": 0.00904867,
            "bin_end": 0.024296703,
            "count": 403
           },
           {
            "bin_start": 0.024296703,
            "bin_end": 0.039544736,
            "count": 174
           },
           {
            "bin_start": 0.039544736,
            "bin_end": 0.054792769,
            "count": 59
           },
           {
            "bin_start": 0.054792769,
            "bin_end": 0.070040802,
            "count": 25
           },
           {
            "bin_start": 0.070040802,
            "bin_end": 0.085288835,
            "count": 20
           },
           {
            "bin_start": 0.085288835,
            "bin_end": 0.10053686799999999,
            "count": 19
           },
           {
            "bin_start": 0.10053686799999999,
            "bin_end": 0.115784901,
            "count": 11
           },
           {
            "bin_start": 0.115784901,
            "bin_end": 0.131032934,
            "count": 6
           },
           {
            "bin_start": 0.131032934,
            "bin_end": 0.146280967,
            "count": 1
           },
           {
            "bin_start": 0.146280967,
            "bin_end": 0.161529,
            "count": 2
           }
          ]
         }
        },
        {
         "name": "MAID-MaidSafeCoin",
         "dtype": "float64",
         "stats": {
          "unique_count": 717,
          "nan_count": 0,
          "min": "0.044346",
          "max": "1.287045",
          "histogram": [
           {
            "bin_start": 0.044346,
            "bin_end": 0.16861589999999999,
            "count": 430
           },
           {
            "bin_start": 0.16861589999999999,
            "bin_end": 0.2928858,
            "count": 23
           },
           {
            "bin_start": 0.2928858,
            "bin_end": 0.4171557,
            "count": 75
           },
           {
            "bin_start": 0.4171557,
            "bin_end": 0.5414256,
            "count": 36
           },
           {
            "bin_start": 0.5414256,
            "bin_end": 0.6656955,
            "count": 60
           },
           {
            "bin_start": 0.6656955,
            "bin_end": 0.7899654,
            "count": 56
           },
           {
            "bin_start": 0.7899654,
            "bin_end": 0.9142353,
            "count": 13
           },
           {
            "bin_start": 0.9142353,
            "bin_end": 1.0385052,
            "count": 9
           },
           {
            "bin_start": 1.0385052,
            "bin_end": 1.1627751,
            "count": 10
           },
           {
            "bin_start": 1.1627751,
            "bin_end": 1.287045,
            "count": 8
           }
          ]
         }
        },
        {
         "name": "MCO-Crypto.com",
         "dtype": "float64",
         "stats": {
          "unique_count": 720,
          "nan_count": 0,
          "min": "0.34494465",
          "max": "43.7414572",
          "histogram": [
           {
            "bin_start": 0.34494465,
            "bin_end": 4.684595905,
            "count": 389
           },
           {
            "bin_start": 4.684595905,
            "bin_end": 9.02424716,
            "count": 192
           },
           {
            "bin_start": 9.02424716,
            "bin_end": 13.363898415,
            "count": 86
           },
           {
            "bin_start": 13.363898415,
            "bin_end": 17.703549669999997,
            "count": 17
           },
           {
            "bin_start": 17.703549669999997,
            "bin_end": 22.043200924999997,
            "count": 14
           },
           {
            "bin_start": 22.043200924999997,
            "bin_end": 26.382852179999997,
            "count": 6
           },
           {
            "bin_start": 26.382852179999997,
            "bin_end": 30.722503434999997,
            "count": 7
           },
           {
            "bin_start": 30.722503434999997,
            "bin_end": 35.06215469,
            "count": 3
           },
           {
            "bin_start": 35.06215469,
            "bin_end": 39.401805945,
            "count": 2
           },
           {
            "bin_start": 39.401805945,
            "bin_end": 43.7414572,
            "count": 4
           }
          ]
         }
        },
        {
         "name": "MONA-MonaCoin",
         "dtype": "float64",
         "stats": {
          "unique_count": 720,
          "nan_count": 0,
          "min": "0.743911",
          "max": "3.970442",
          "histogram": [
           {
            "bin_start": 0.743911,
            "bin_end": 1.0665641,
            "count": 71
           },
           {
            "bin_start": 1.0665641,
            "bin_end": 1.3892172,
            "count": 227
           },
           {
            "bin_start": 1.3892172,
            "bin_end": 1.7118703,
            "count": 166
           },
           {
            "bin_start": 1.7118703,
            "bin_end": 2.0345234,
            "count": 148
           },
           {
            "bin_start": 2.0345234,
            "bin_end": 2.3571764999999996,
            "count": 48
           },
           {
            "bin_start": 2.3571764999999996,
            "bin_end": 2.6798295999999997,
            "count": 36
           },
           {
            "bin_start": 2.6798295999999997,
            "bin_end": 3.0024827,
            "count": 11
           },
           {
            "bin_start": 3.0024827,
            "bin_end": 3.3251358,
            "count": 11
           },
           {
            "bin_start": 3.3251358,
            "bin_end": 3.6477889,
            "count": 1
           },
           {
            "bin_start": 3.6477889,
            "bin_end": 3.970442,
            "count": 1
           }
          ]
         }
        },
        {
         "name": "NEX-Nash Exchange",
         "dtype": "float64",
         "stats": {
          "unique_count": 718,
          "nan_count": 0,
          "min": "0.506868",
          "max": "2.881749",
          "histogram": [
           {
            "bin_start": 0.506868,
            "bin_end": 0.7443561000000001,
            "count": 62
           },
           {
            "bin_start": 0.7443561000000001,
            "bin_end": 0.9818442000000001,
            "count": 431
           },
           {
            "bin_start": 0.9818442000000001,
            "bin_end": 1.2193323,
            "count": 141
           },
           {
            "bin_start": 1.2193323,
            "bin_end": 1.4568204000000002,
            "count": 25
           },
           {
            "bin_start": 1.4568204000000002,
            "bin_end": 1.6943085,
            "count": 20
           },
           {
            "bin_start": 1.6943085,
            "bin_end": 1.9317966000000002,
            "count": 11
           },
           {
            "bin_start": 1.9317966000000002,
            "bin_end": 2.1692847000000004,
            "count": 3
           },
           {
            "bin_start": 2.1692847000000004,
            "bin_end": 2.4067728,
            "count": 8
           },
           {
            "bin_start": 2.4067728,
            "bin_end": 2.6442609000000004,
            "count": 17
           },
           {
            "bin_start": 2.6442609000000004,
            "bin_end": 2.881749,
            "count": 2
           }
          ]
         }
        },
        {
         "name": "NEXO-Nexo",
         "dtype": "float64",
         "stats": {
          "unique_count": 720,
          "nan_count": 0,
          "min": "0.078405",
          "max": "3.93743871",
          "histogram": [
           {
            "bin_start": 0.078405,
            "bin_end": 0.464308371,
            "count": 441
           },
           {
            "bin_start": 0.464308371,
            "bin_end": 0.8502117419999999,
            "count": 53
           },
           {
            "bin_start": 0.8502117419999999,
            "bin_end": 1.236115113,
            "count": 5
           },
           {
            "bin_start": 1.236115113,
            "bin_end": 1.622018484,
            "count": 41
           },
           {
            "bin_start": 1.622018484,
            "bin_end": 2.0079218549999998,
            "count": 75
           },
           {
            "bin_start": 2.0079218549999998,
            "bin_end": 2.393825226,
            "count": 31
           },
           {
            "bin_start": 2.393825226,
            "bin_end": 2.779728597,
            "count": 29
           },
           {
            "bin_start": 2.779728597,
            "bin_end": 3.165631968,
            "count": 10
           },
           {
            "bin_start": 3.165631968,
            "bin_end": 3.551535339,
            "count": 12
           },
           {
            "bin_start": 3.551535339,
            "bin_end": 3.93743871,
            "count": 23
           }
          ]
         }
        },
        {
         "name": "NRG-Energi",
         "dtype": "float64",
         "stats": {
          "unique_count": 720,
          "nan_count": 0,
          "min": "0.954892",
          "max": "4.300725",
          "histogram": [
           {
            "bin_start": 0.954892,
            "bin_end": 1.2894752999999999,
            "count": 27
           },
           {
            "bin_start": 1.2894752999999999,
            "bin_end": 1.6240586,
            "count": 193
           },
           {
            "bin_start": 1.6240586,
            "bin_end": 1.9586419,
            "count": 156
           },
           {
            "bin_start": 1.9586419,
            "bin_end": 2.2932251999999997,
            "count": 140
           },
           {
            "bin_start": 2.2932251999999997,
            "bin_end": 2.6278085,
            "count": 89
           },
           {
            "bin_start": 2.6278085,
            "bin_end": 2.9623918,
            "count": 39
           },
           {
            "bin_start": 2.9623918,
            "bin_end": 3.2969751,
            "count": 33
           },
           {
            "bin_start": 3.2969751,
            "bin_end": 3.6315584,
            "count": 20
           },
           {
            "bin_start": 3.6315584,
            "bin_end": 3.9661416999999997,
            "count": 10
           },
           {
            "bin_start": 3.9661416999999997,
            "bin_end": 4.300725,
            "count": 13
           }
          ]
         }
        },
        {
         "name": "PAI-Project Pai",
         "dtype": "float64",
         "stats": {
          "unique_count": 714,
          "nan_count": 0,
          "min": "0.005801",
          "max": "0.121953",
          "histogram": [
           {
            "bin_start": 0.005801,
            "bin_end": 0.0174162,
            "count": 478
           },
           {
            "bin_start": 0.0174162,
            "bin_end": 0.029031400000000002,
            "count": 186
           },
           {
            "bin_start": 0.029031400000000002,
            "bin_end": 0.040646600000000005,
            "count": 19
           },
           {
            "bin_start": 0.040646600000000005,
            "bin_end": 0.052261800000000004,
            "count": 12
           },
           {
            "bin_start": 0.052261800000000004,
            "bin_end": 0.063877,
            "count": 17
           },
           {
            "bin_start": 0.063877,
            "bin_end": 0.07549220000000001,
            "count": 4
           },
           {
            "bin_start": 0.07549220000000001,
            "bin_end": 0.0871074,
            "count": 1
           },
           {
            "bin_start": 0.0871074,
            "bin_end": 0.09872260000000001,
            "count": 1
           },
           {
            "bin_start": 0.09872260000000001,
            "bin_end": 0.11033780000000001,
            "count": 1
           },
           {
            "bin_start": 0.11033780000000001,
            "bin_end": 0.121953,
            "count": 1
           }
          ]
         }
        },
        {
         "name": "QNT-Quant",
         "dtype": "float64",
         "stats": {
          "unique_count": 720,
          "nan_count": 0,
          "min": "1.502259",
          "max": "395.57044941",
          "histogram": [
           {
            "bin_start": 1.502259,
            "bin_end": 40.909078041,
            "count": 560
           },
           {
            "bin_start": 40.909078041,
            "bin_end": 80.31589708199999,
            "count": 103
           },
           {
            "bin_start": 80.31589708199999,
            "bin_end": 119.72271612299998,
            "count": 10
           },
           {
            "bin_start": 119.72271612299998,
            "bin_end": 159.129535164,
            "count": 13
           },
           {
            "bin_start": 159.129535164,
            "bin_end": 198.536354205,
            "count": 23
           },
           {
            "bin_start": 198.536354205,
            "bin_end": 237.943173246,
            "count": 2
           },
           {
            "bin_start": 237.943173246,
            "bin_end": 277.34999228699996,
            "count": 0
           },
           {
            "bin_start": 277.34999228699996,
            "bin_end": 316.75681132799997,
            "count": 2
           },
           {
            "bin_start": 316.75681132799997,
            "bin_end": 356.163630369,
            "count": 3
           },
           {
            "bin_start": 356.163630369,
            "bin_end": 395.57044941,
            "count": 4
           }
          ]
         }
        },
        {
         "name": "REN-REN",
         "dtype": "float64",
         "stats": {
          "unique_count": 719,
          "nan_count": 0,
          "min": "0.029049",
          "max": "1.723922",
          "histogram": [
           {
            "bin_start": 0.029049,
            "bin_end": 0.19853629999999997,
            "count": 315
           },
           {
            "bin_start": 0.19853629999999997,
            "bin_end": 0.36802359999999995,
            "count": 164
           },
           {
            "bin_start": 0.36802359999999995,
            "bin_end": 0.5375108999999999,
            "count": 82
           },
           {
            "bin_start": 0.5375108999999999,
            "bin_end": 0.7069981999999999,
            "count": 44
           },
           {
            "bin_start": 0.7069981999999999,
            "bin_end": 0.8764854999999999,
            "count": 33
           },
           {
            "bin_start": 0.8764854999999999,
            "bin_end": 1.0459728,
            "count": 37
           },
           {
            "bin_start": 1.0459728,
            "bin_end": 1.2154601,
            "count": 38
           },
           {
            "bin_start": 1.2154601,
            "bin_end": 1.3849474,
            "count": 4
           },
           {
            "bin_start": 1.3849474,
            "bin_end": 1.5544346999999998,
            "count": 2
           },
           {
            "bin_start": 1.5544346999999998,
            "bin_end": 1.723922,
            "count": 1
           }
          ]
         }
        },
        {
         "name": "RIF-RIF Token",
         "dtype": "float64",
         "stats": {
          "unique_count": 715,
          "nan_count": 0,
          "min": "0.037479",
          "max": "0.44172",
          "histogram": [
           {
            "bin_start": 0.037479,
            "bin_end": 0.0779031,
            "count": 159
           },
           {
            "bin_start": 0.0779031,
            "bin_end": 0.11832720000000001,
            "count": 289
           },
           {
            "bin_start": 0.11832720000000001,
            "bin_end": 0.1587513,
            "count": 41
           },
           {
            "bin_start": 0.1587513,
            "bin_end": 0.1991754,
            "count": 77
           },
           {
            "bin_start": 0.1991754,
            "bin_end": 0.23959950000000002,
            "count": 41
           },
           {
            "bin_start": 0.23959950000000002,
            "bin_end": 0.28002360000000004,
            "count": 38
           },
           {
            "bin_start": 0.28002360000000004,
            "bin_end": 0.3204477,
            "count": 29
           },
           {
            "bin_start": 0.3204477,
            "bin_end": 0.3608718,
            "count": 39
           },
           {
            "bin_start": 0.3608718,
            "bin_end": 0.40129590000000004,
            "count": 5
           },
           {
            "bin_start": 0.40129590000000004,
            "bin_end": 0.44172,
            "count": 2
           }
          ]
         }
        },
        {
         "name": "SC-Siacoin",
         "dtype": "float64",
         "stats": {
          "unique_count": 678,
          "nan_count": 0,
          "min": "0.000963",
          "max": "0.054941",
          "histogram": [
           {
            "bin_start": 0.000963,
            "bin_end": 0.0063608,
            "count": 492
           },
           {
            "bin_start": 0.0063608,
            "bin_end": 0.0117586,
            "count": 47
           },
           {
            "bin_start": 0.0117586,
            "bin_end": 0.017156399999999995,
            "count": 64
           },
           {
            "bin_start": 0.017156399999999995,
            "bin_end": 0.022554199999999996,
            "count": 56
           },
           {
            "bin_start": 0.022554199999999996,
            "bin_end": 0.027951999999999998,
            "count": 18
           },
           {
            "bin_start": 0.027951999999999998,
            "bin_end": 0.03334979999999999,
            "count": 16
           },
           {
            "bin_start": 0.03334979999999999,
            "bin_end": 0.03874759999999999,
            "count": 10
           },
           {
            "bin_start": 0.03874759999999999,
            "bin_end": 0.044145399999999994,
            "count": 13
           },
           {
            "bin_start": 0.044145399999999994,
            "bin_end": 0.049543199999999996,
            "count": 1
           },
           {
            "bin_start": 0.049543199999999996,
            "bin_end": 0.054941,
            "count": 3
           }
          ]
         }
        },
        {
         "name": "SNT-Status",
         "dtype": "float64",
         "stats": {
          "unique_count": 716,
          "nan_count": 0,
          "min": "0.007525",
          "max": "0.30309",
          "histogram": [
           {
            "bin_start": 0.007525,
            "bin_end": 0.0370815,
            "count": 438
           },
           {
            "bin_start": 0.0370815,
            "bin_end": 0.066638,
            "count": 86
           },
           {
            "bin_start": 0.066638,
            "bin_end": 0.09619450000000002,
            "count": 82
           },
           {
            "bin_start": 0.09619450000000002,
            "bin_end": 0.125751,
            "count": 62
           },
           {
            "bin_start": 0.125751,
            "bin_end": 0.15530750000000001,
            "count": 10
           },
           {
            "bin_start": 0.15530750000000001,
            "bin_end": 0.18486400000000003,
            "count": 17
           },
           {
            "bin_start": 0.18486400000000003,
            "bin_end": 0.2144205,
            "count": 16
           },
           {
            "bin_start": 0.2144205,
            "bin_end": 0.24397700000000003,
            "count": 5
           },
           {
            "bin_start": 0.24397700000000003,
            "bin_end": 0.27353350000000004,
            "count": 2
           },
           {
            "bin_start": 0.27353350000000004,
            "bin_end": 0.30309,
            "count": 2
           }
          ]
         }
        },
        {
         "name": "SOLVE-SOLVE",
         "dtype": "float64",
         "stats": {
          "unique_count": 718,
          "nan_count": 0,
          "min": "0.04237662",
          "max": "0.500432",
          "histogram": [
           {
            "bin_start": 0.04237662,
            "bin_end": 0.088182158,
            "count": 153
           },
           {
            "bin_start": 0.088182158,
            "bin_end": 0.133987696,
            "count": 383
           },
           {
            "bin_start": 0.133987696,
            "bin_end": 0.179793234,
            "count": 87
           },
           {
            "bin_start": 0.179793234,
            "bin_end": 0.225598772,
            "count": 34
           },
           {
            "bin_start": 0.225598772,
            "bin_end": 0.27140431,
            "count": 17
           },
           {
            "bin_start": 0.27140431,
            "bin_end": 0.31720984799999996,
            "count": 22
           },
           {
            "bin_start": 0.31720984799999996,
            "bin_end": 0.363015386,
            "count": 6
           },
           {
            "bin_start": 0.363015386,
            "bin_end": 0.408820924,
            "count": 11
           },
           {
            "bin_start": 0.408820924,
            "bin_end": 0.45462646199999995,
            "count": 4
           },
           {
            "bin_start": 0.45462646199999995,
            "bin_end": 0.500432,
            "count": 3
           }
          ]
         }
        },
        {
         "name": "STEEM-Steem",
         "dtype": "float64",
         "stats": {
          "unique_count": 720,
          "nan_count": 0,
          "min": "0.110067",
          "max": "1.464716",
          "histogram": [
           {
            "bin_start": 0.110067,
            "bin_end": 0.2455319,
            "count": 498
           },
           {
            "bin_start": 0.2455319,
            "bin_end": 0.3809968,
            "count": 35
           },
           {
            "bin_start": 0.3809968,
            "bin_end": 0.5164617,
            "count": 65
           },
           {
            "bin_start": 0.5164617,
            "bin_end": 0.6519266,
            "count": 52
           },
           {
            "bin_start": 0.6519266,
            "bin_end": 0.7873915,
            "count": 18
           },
           {
            "bin_start": 0.7873915,
            "bin_end": 0.9228564,
            "count": 13
           },
           {
            "bin_start": 0.9228564,
            "bin_end": 1.0583213,
            "count": 12
           },
           {
            "bin_start": 1.0583213,
            "bin_end": 1.1937862,
            "count": 9
           },
           {
            "bin_start": 1.1937862,
            "bin_end": 1.3292511,
            "count": 9
           },
           {
            "bin_start": 1.3292511,
            "bin_end": 1.464716,
            "count": 9
           }
          ]
         }
        },
        {
         "name": "STRAX-Stratis",
         "dtype": "float64",
         "stats": {
          "unique_count": 719,
          "nan_count": 0,
          "min": "0.160638",
          "max": "3.76041163",
          "histogram": [
           {
            "bin_start": 0.160638,
            "bin_end": 0.520615363,
            "count": 460
           },
           {
            "bin_start": 0.520615363,
            "bin_end": 0.8805927259999999,
            "count": 113
           },
           {
            "bin_start": 0.8805927259999999,
            "bin_end": 1.240570089,
            "count": 22
           },
           {
            "bin_start": 1.240570089,
            "bin_end": 1.600547452,
            "count": 35
           },
           {
            "bin_start": 1.600547452,
            "bin_end": 1.960524815,
            "count": 34
           },
           {
            "bin_start": 1.960524815,
            "bin_end": 2.320502178,
            "count": 23
           },
           {
            "bin_start": 2.320502178,
            "bin_end": 2.680479541,
            "count": 13
           },
           {
            "bin_start": 2.680479541,
            "bin_end": 3.040456904,
            "count": 12
           },
           {
            "bin_start": 3.040456904,
            "bin_end": 3.400434267,
            "count": 6
           },
           {
            "bin_start": 3.400434267,
            "bin_end": 3.76041163,
            "count": 2
           }
          ]
         }
        },
        {
         "name": "THETA-Theta Token",
         "dtype": "float64",
         "stats": {
          "unique_count": 719,
          "nan_count": 0,
          "min": "0.054023",
          "max": "14.481555",
          "histogram": [
           {
            "bin_start": 0.054023,
            "bin_end": 1.4967761999999998,
            "count": 460
           },
           {
            "bin_start": 1.4967761999999998,
            "bin_end": 2.9395293999999996,
            "count": 46
           },
           {
            "bin_start": 2.9395293999999996,
            "bin_end": 4.382282599999999,
            "count": 25
           },
           {
            "bin_start": 4.382282599999999,
            "bin_end": 5.825035799999999,
            "count": 17
           },
           {
            "bin_start": 5.825035799999999,
            "bin_end": 7.267789,
            "count": 75
           },
           {
            "bin_start": 7.267789,
            "bin_end": 8.710542199999999,
            "count": 22
           },
           {
            "bin_start": 8.710542199999999,
            "bin_end": 10.1532954,
            "count": 29
           },
           {
            "bin_start": 10.1532954,
            "bin_end": 11.5960486,
            "count": 18
           },
           {
            "bin_start": 11.5960486,
            "bin_end": 13.0388018,
            "count": 23
           },
           {
            "bin_start": 13.0388018,
            "bin_end": 14.481555,
            "count": 5
           }
          ]
         }
        },
        {
         "name": "UUU-U Network",
         "dtype": "float64",
         "stats": {
          "unique_count": 541,
          "nan_count": 0,
          "min": "0.00030039",
          "max": "0.001934",
          "histogram": [
           {
            "bin_start": 0.00030039,
            "bin_end": 0.000463751,
            "count": 217
           },
           {
            "bin_start": 0.000463751,
            "bin_end": 0.000627112,
            "count": 156
           },
           {
            "bin_start": 0.000627112,
            "bin_end": 0.000790473,
            "count": 201
           },
           {
            "bin_start": 0.000790473,
            "bin_end": 0.000953834,
            "count": 64
           },
           {
            "bin_start": 0.000953834,
            "bin_end": 0.001117195,
            "count": 27
           },
           {
            "bin_start": 0.001117195,
            "bin_end": 0.001280556,
            "count": 19
           },
           {
            "bin_start": 0.001280556,
            "bin_end": 0.001443917,
            "count": 15
           },
           {
            "bin_start": 0.001443917,
            "bin_end": 0.001607278,
            "count": 16
           },
           {
            "bin_start": 0.001607278,
            "bin_end": 0.0017706389999999999,
            "count": 4
           },
           {
            "bin_start": 0.0017706389999999999,
            "bin_end": 0.001934,
            "count": 1
           }
          ]
         }
        },
        {
         "name": "XMX-XMAX",
         "dtype": "float64",
         "stats": {
          "unique_count": 594,
          "nan_count": 0,
          "min": "0.000158",
          "max": "0.002327",
          "histogram": [
           {
            "bin_start": 0.000158,
            "bin_end": 0.00037489999999999995,
            "count": 231
           },
           {
            "bin_start": 0.00037489999999999995,
            "bin_end": 0.0005918,
            "count": 203
           },
           {
            "bin_start": 0.0005918,
            "bin_end": 0.0008086999999999999,
            "count": 103
           },
           {
            "bin_start": 0.0008086999999999999,
            "bin_end": 0.0010256,
            "count": 50
           },
           {
            "bin_start": 0.0010256,
            "bin_end": 0.0012425,
            "count": 49
           },
           {
            "bin_start": 0.0012425,
            "bin_end": 0.0014593999999999998,
            "count": 18
           },
           {
            "bin_start": 0.0014593999999999998,
            "bin_end": 0.0016763,
            "count": 8
           },
           {
            "bin_start": 0.0016763,
            "bin_end": 0.0018931999999999998,
            "count": 26
           },
           {
            "bin_start": 0.0018931999999999998,
            "bin_end": 0.0021100999999999997,
            "count": 26
           },
           {
            "bin_start": 0.0021100999999999997,
            "bin_end": 0.002327,
            "count": 6
           }
          ]
         }
        },
        {
         "name": "XVG-Verge",
         "dtype": "float64",
         "stats": {
          "unique_count": 702,
          "nan_count": 0,
          "min": "0.001857",
          "max": "0.06902228",
          "histogram": [
           {
            "bin_start": 0.001857,
            "bin_end": 0.008573528,
            "count": 462
           },
           {
            "bin_start": 0.008573528,
            "bin_end": 0.015290056000000002,
            "count": 29
           },
           {
            "bin_start": 0.015290056000000002,
            "bin_end": 0.022006584000000006,
            "count": 56
           },
           {
            "bin_start": 0.022006584000000006,
            "bin_end": 0.028723112000000006,
            "count": 79
           },
           {
            "bin_start": 0.028723112000000006,
            "bin_end": 0.03543964,
            "count": 40
           },
           {
            "bin_start": 0.03543964,
            "bin_end": 0.04215616800000001,
            "count": 10
           },
           {
            "bin_start": 0.04215616800000001,
            "bin_end": 0.04887269600000001,
            "count": 19
           },
           {
            "bin_start": 0.04887269600000001,
            "bin_end": 0.055589224000000007,
            "count": 11
           },
           {
            "bin_start": 0.055589224000000007,
            "bin_end": 0.062305752000000006,
            "count": 6
           },
           {
            "bin_start": 0.062305752000000006,
            "bin_end": 0.06902228,
            "count": 8
           }
          ]
         }
        },
        {
         "name": "XZC-Zcoin",
         "dtype": "float64",
         "stats": {
          "unique_count": 720,
          "nan_count": 0,
          "min": "2.588571",
          "max": "20.33948473",
          "histogram": [
           {
            "bin_start": 2.588571,
            "bin_end": 4.363662373,
            "count": 261
           },
           {
            "bin_start": 4.363662373,
            "bin_end": 6.138753746,
            "count": 246
           },
           {
            "bin_start": 6.138753746,
            "bin_end": 7.913845118999999,
            "count": 126
           },
           {
            "bin_start": 7.913845118999999,
            "bin_end": 9.688936492,
            "count": 44
           },
           {
            "bin_start": 9.688936492,
            "bin_end": 11.464027865,
            "count": 12
           },
           {
            "bin_start": 11.464027865,
            "bin_end": 13.239119237999999,
            "count": 17
           },
           {
            "bin_start": 13.239119237999999,
            "bin_end": 15.014210611,
            "count": 6
           },
           {
            "bin_start": 15.014210611,
            "bin_end": 16.789301983999998,
            "count": 3
           },
           {
            "bin_start": 16.789301983999998,
            "bin_end": 18.564393357,
            "count": 3
           },
           {
            "bin_start": 18.564393357,
            "bin_end": 20.33948473,
            "count": 2
           }
          ]
         }
        },
        {
         "name": "ZIL-Zilliqa",
         "dtype": "float64",
         "stats": {
          "unique_count": 714,
          "nan_count": 0,
          "min": "0.003255",
          "max": "0.23695403",
          "histogram": [
           {
            "bin_start": 0.003255,
            "bin_end": 0.026624903000000002,
            "count": 428
           },
           {
            "bin_start": 0.026624903000000002,
            "bin_end": 0.049994806,
            "count": 26
           },
           {
            "bin_start": 0.049994806,
            "bin_end": 0.073364709,
            "count": 43
           },
           {
            "bin_start": 0.073364709,
            "bin_end": 0.096734612,
            "count": 58
           },
           {
            "bin_start": 0.096734612,
            "bin_end": 0.120104515,
            "count": 71
           },
           {
            "bin_start": 0.120104515,
            "bin_end": 0.14347441800000002,
            "count": 23
           },
           {
            "bin_start": 0.14347441800000002,
            "bin_end": 0.16684432100000002,
            "count": 14
           },
           {
            "bin_start": 0.16684432100000002,
            "bin_end": 0.19021422400000002,
            "count": 23
           },
           {
            "bin_start": 0.19021422400000002,
            "bin_end": 0.213584127,
            "count": 21
           },
           {
            "bin_start": 0.213584127,
            "bin_end": 0.23695403,
            "count": 13
           }
          ]
         }
        },
        {
         "name": "AION-Aion",
         "dtype": "float64",
         "stats": {
          "unique_count": 718,
          "nan_count": 0,
          "min": "0.047618",
          "max": "0.545223",
          "histogram": [
           {
            "bin_start": 0.047618,
            "bin_end": 0.0973785,
            "count": 363
           },
           {
            "bin_start": 0.0973785,
            "bin_end": 0.147139,
            "count": 187
           },
           {
            "bin_start": 0.147139,
            "bin_end": 0.1968995,
            "count": 72
           },
           {
            "bin_start": 0.1968995,
            "bin_end": 0.24666,
            "count": 34
           },
           {
            "bin_start": 0.24666,
            "bin_end": 0.2964205,
            "count": 17
           },
           {
            "bin_start": 0.2964205,
            "bin_end": 0.346181,
            "count": 13
           },
           {
            "bin_start": 0.346181,
            "bin_end": 0.3959415,
            "count": 16
           },
           {
            "bin_start": 0.3959415,
            "bin_end": 0.445702,
            "count": 8
           },
           {
            "bin_start": 0.445702,
            "bin_end": 0.4954625,
            "count": 7
           },
           {
            "bin_start": 0.4954625,
            "bin_end": 0.545223,
            "count": 3
           }
          ]
         }
        },
        {
         "name": "ARK-Ark",
         "dtype": "float64",
         "stats": {
          "unique_count": 719,
          "nan_count": 0,
          "min": "0.091104",
          "max": "3.054662",
          "histogram": [
           {
            "bin_start": 0.091104,
            "bin_end": 0.3874598,
            "count": 399
           },
           {
            "bin_start": 0.3874598,
            "bin_end": 0.6838156,
            "count": 106
           },
           {
            "bin_start": 0.6838156,
            "bin_end": 0.9801714,
            "count": 39
           },
           {
            "bin_start": 0.9801714,
            "bin_end": 1.2765272,
            "count": 58
           },
           {
            "bin_start": 1.2765272,
            "bin_end": 1.572883,
            "count": 55
           },
           {
            "bin_start": 1.572883,
            "bin_end": 1.8692388000000002,
            "count": 22
           },
           {
            "bin_start": 1.8692388000000002,
            "bin_end": 2.1655946,
            "count": 17
           },
           {
            "bin_start": 2.1655946,
            "bin_end": 2.4619504,
            "count": 8
           },
           {
            "bin_start": 2.4619504,
            "bin_end": 2.7583062000000003,
            "count": 10
           },
           {
            "bin_start": 2.7583062000000003,
            "bin_end": 3.054662,
            "count": 6
           }
          ]
         }
        },
        {
         "name": "BEAM-BEAM",
         "dtype": "float64",
         "stats": {
          "unique_count": 719,
          "nan_count": 0,
          "min": "0.208033",
          "max": "1.914811",
          "histogram": [
           {
            "bin_start": 0.208033,
            "bin_end": 0.3787108,
            "count": 228
           },
           {
            "bin_start": 0.3787108,
            "bin_end": 0.5493886,
            "count": 189
           },
           {
            "bin_start": 0.5493886,
            "bin_end": 0.7200664000000001,
            "count": 157
           },
           {
            "bin_start": 0.7200664000000001,
            "bin_end": 0.8907442000000001,
            "count": 69
           },
           {
            "bin_start": 0.8907442000000001,
            "bin_end": 1.061422,
            "count": 20
           },
           {
            "bin_start": 1.061422,
            "bin_end": 1.2320998,
            "count": 14
           },
           {
            "bin_start": 1.2320998,
            "bin_end": 1.4027776,
            "count": 17
           },
           {
            "bin_start": 1.4027776,
            "bin_end": 1.5734554,
            "count": 19
           },
           {
            "bin_start": 1.5734554,
            "bin_end": 1.7441332,
            "count": 6
           },
           {
            "bin_start": 1.7441332,
            "bin_end": 1.914811,
            "count": 1
           }
          ]
         }
        },
        {
         "name": "BIX-Bibox Token",
         "dtype": "float64",
         "stats": {
          "unique_count": 714,
          "nan_count": 0,
          "min": "0.050311",
          "max": "0.325082",
          "histogram": [
           {
            "bin_start": 0.050311,
            "bin_end": 0.0777881,
            "count": 234
           },
           {
            "bin_start": 0.0777881,
            "bin_end": 0.1052652,
            "count": 278
           },
           {
            "bin_start": 0.1052652,
            "bin_end": 0.13274229999999998,
            "count": 73
           },
           {
            "bin_start": 0.13274229999999998,
            "bin_end": 0.16021939999999998,
            "count": 79
           },
           {
            "bin_start": 0.16021939999999998,
            "bin_end": 0.1876965,
            "count": 29
           },
           {
            "bin_start": 0.1876965,
            "bin_end": 0.21517359999999996,
            "count": 17
           },
           {
            "bin_start": 0.21517359999999996,
            "bin_end": 0.24265069999999997,
            "count": 7
           },
           {
            "bin_start": 0.24265069999999997,
            "bin_end": 0.2701278,
            "count": 1
           },
           {
            "bin_start": 0.2701278,
            "bin_end": 0.2976049,
            "count": 0
           },
           {
            "bin_start": 0.2976049,
            "bin_end": 0.325082,
            "count": 2
           }
          ]
         }
        },
        {
         "name": "BNT-Bancor",
         "dtype": "float64",
         "stats": {
          "unique_count": 720,
          "nan_count": 0,
          "min": "0.138674",
          "max": "9.190362",
          "histogram": [
           {
            "bin_start": 0.138674,
            "bin_end": 1.0438428,
            "count": 341
           },
           {
            "bin_start": 1.0438428,
            "bin_end": 1.9490116,
            "count": 135
           },
           {
            "bin_start": 1.9490116,
            "bin_end": 2.8541803999999997,
            "count": 35
           },
           {
            "bin_start": 2.8541803999999997,
            "bin_end": 3.7593492,
            "count": 51
           },
           {
            "bin_start": 3.7593492,
            "bin_end": 4.664518,
            "count": 57
           },
           {
            "bin_start": 4.664518,
            "bin_end": 5.5696867999999995,
            "count": 20
           },
           {
            "bin_start": 5.5696867999999995,
            "bin_end": 6.4748556,
            "count": 9
           },
           {
            "bin_start": 6.4748556,
            "bin_end": 7.3800244,
            "count": 31
           },
           {
            "bin_start": 7.3800244,
            "bin_end": 8.2851932,
            "count": 35
           },
           {
            "bin_start": 8.2851932,
            "bin_end": 9.190362,
            "count": 6
           }
          ]
         }
        },
        {
         "name": "CELR-Celer Network",
         "dtype": "float64",
         "stats": {
          "unique_count": 693,
          "nan_count": 0,
          "min": "0.001137",
          "max": "0.092463",
          "histogram": [
           {
            "bin_start": 0.001137,
            "bin_end": 0.0102696,
            "count": 476
           },
           {
            "bin_start": 0.0102696,
            "bin_end": 0.0194022,
            "count": 37
           },
           {
            "bin_start": 0.0194022,
            "bin_end": 0.028534800000000003,
            "count": 43
           },
           {
            "bin_start": 0.028534800000000003,
            "bin_end": 0.037667400000000004,
            "count": 41
           },
           {
            "bin_start": 0.037667400000000004,
            "bin_end": 0.04680000000000001,
            "count": 31
           },
           {
            "bin_start": 0.04680000000000001,
            "bin_end": 0.055932600000000006,
            "count": 30
           },
           {
            "bin_start": 0.055932600000000006,
            "bin_end": 0.0650652,
            "count": 25
           },
           {
            "bin_start": 0.0650652,
            "bin_end": 0.07419780000000001,
            "count": 19
           },
           {
            "bin_start": 0.07419780000000001,
            "bin_end": 0.08333040000000001,
            "count": 12
           },
           {
            "bin_start": 0.08333040000000001,
            "bin_end": 0.092463,
            "count": 6
           }
          ]
         }
        },
        {
         "name": "CMT-CyberMiles",
         "dtype": "float64",
         "stats": {
          "unique_count": 709,
          "nan_count": 0,
          "min": "0.005771",
          "max": "0.04307",
          "histogram": [
           {
            "bin_start": 0.005771,
            "bin_end": 0.0095009,
            "count": 179
           },
           {
            "bin_start": 0.0095009,
            "bin_end": 0.013230800000000001,
            "count": 257
           },
           {
            "bin_start": 0.013230800000000001,
            "bin_end": 0.016960700000000002,
            "count": 149
           },
           {
            "bin_start": 0.016960700000000002,
            "bin_end": 0.0206906,
            "count": 66
           },
           {
            "bin_start": 0.0206906,
            "bin_end": 0.024420499999999998,
            "count": 15
           },
           {
            "bin_start": 0.024420499999999998,
            "bin_end": 0.0281504,
            "count": 15
           },
           {
            "bin_start": 0.0281504,
            "bin_end": 0.0318803,
            "count": 17
           },
           {
            "bin_start": 0.0318803,
            "bin_end": 0.0356102,
            "count": 8
           },
           {
            "bin_start": 0.0356102,
            "bin_end": 0.039340099999999996,
            "count": 7
           },
           {
            "bin_start": 0.039340099999999996,
            "bin_end": 0.04307,
            "count": 7
           }
          ]
         }
        },
        {
         "name": "DENT-Dent",
         "dtype": "float64",
         "stats": {
          "unique_count": 412,
          "nan_count": 0,
          "min": "8.2e-05",
          "max": "0.019605",
          "histogram": [
           {
            "bin_start": 0.000082,
            "bin_end": 0.0020343,
            "count": 538
           },
           {
            "bin_start": 0.0020343,
            "bin_end": 0.0039866,
            "count": 82
           },
           {
            "bin_start": 0.0039866,
            "bin_end": 0.0059388999999999996,
            "count": 19
           },
           {
            "bin_start": 0.0059388999999999996,
            "bin_end": 0.007891200000000001,
            "count": 32
           },
           {
            "bin_start": 0.007891200000000001,
            "bin_end": 0.009843500000000002,
            "count": 14
           },
           {
            "bin_start": 0.009843500000000002,
            "bin_end": 0.0117958,
            "count": 18
           },
           {
            "bin_start": 0.0117958,
            "bin_end": 0.013748100000000001,
            "count": 6
           },
           {
            "bin_start": 0.013748100000000001,
            "bin_end": 0.0157004,
            "count": 6
           },
           {
            "bin_start": 0.0157004,
            "bin_end": 0.0176527,
            "count": 4
           },
           {
            "bin_start": 0.0176527,
            "bin_end": 0.019605,
            "count": 1
           }
          ]
         }
        },
        {
         "name": "DGD-DigixDAO",
         "dtype": "float64",
         "stats": {
          "unique_count": 720,
          "nan_count": 0,
          "min": "10.496205",
          "max": "803.53672517",
          "histogram": [
           {
            "bin_start": 10.496205,
            "bin_end": 89.80025701699999,
            "count": 418
           },
           {
            "bin_start": 89.80025701699999,
            "bin_end": 169.10430903399998,
            "count": 48
           },
           {
            "bin_start": 169.10430903399998,
            "bin_end": 248.40836105099996,
            "count": 20
           },
           {
            "bin_start": 248.40836105099996,
            "bin_end": 327.71241306799993,
            "count": 34
           },
           {
            "bin_start": 327.71241306799993,
            "bin_end": 407.01646508499994,
            "count": 63
           },
           {
            "bin_start": 407.01646508499994,
            "bin_end": 486.3205171019999,
            "count": 53
           },
           {
            "bin_start": 486.3205171019999,
            "bin_end": 565.624569119,
            "count": 28
           },
           {
            "bin_start": 565.624569119,
            "bin_end": 644.928621136,
            "count": 31
           },
           {
            "bin_start": 644.928621136,
            "bin_end": 724.232673153,
            "count": 14
           },
           {
            "bin_start": 724.232673153,
            "bin_end": 803.53672517,
            "count": 11
           }
          ]
         }
        },
        {
         "name": "ELA-Elastos",
         "dtype": "float64",
         "stats": {
          "unique_count": 720,
          "nan_count": 0,
          "min": "1.0145",
          "max": "12.842214",
          "histogram": [
           {
            "bin_start": 1.0145,
            "bin_end": 2.1972714,
            "count": 442
           },
           {
            "bin_start": 2.1972714,
            "bin_end": 3.3800428,
            "count": 138
           },
           {
            "bin_start": 3.3800428,
            "bin_end": 4.5628142,
            "count": 74
           },
           {
            "bin_start": 4.5628142,
            "bin_end": 5.7455856,
            "count": 7
           },
           {
            "bin_start": 5.7455856,
            "bin_end": 6.928357,
            "count": 18
           },
           {
            "bin_start": 6.928357,
            "bin_end": 8.1111284,
            "count": 14
           },
           {
            "bin_start": 8.1111284,
            "bin_end": 9.2938998,
            "count": 11
           },
           {
            "bin_start": 9.2938998,
            "bin_end": 10.4766712,
            "count": 7
           },
           {
            "bin_start": 10.4766712,
            "bin_end": 11.6594426,
            "count": 7
           },
           {
            "bin_start": 11.6594426,
            "bin_end": 12.842214,
            "count": 2
           }
          ]
         }
        },
        {
         "name": "ENG-Enigma",
         "dtype": "float64",
         "stats": {
          "unique_count": 720,
          "nan_count": 0,
          "min": "0.06502057",
          "max": "1.502438",
          "histogram": [
           {
            "bin_start": 0.06502057,
            "bin_end": 0.208762313,
            "count": 260
           },
           {
            "bin_start": 0.208762313,
            "bin_end": 0.352504056,
            "count": 214
           },
           {
            "bin_start": 0.352504056,
            "bin_end": 0.49624579900000004,
            "count": 95
           },
           {
            "bin_start": 0.49624579900000004,
            "bin_end": 0.6399875420000001,
            "count": 59
           },
           {
            "bin_start": 0.6399875420000001,
            "bin_end": 0.7837292849999999,
            "count": 33
           },
           {
            "bin_start": 0.7837292849999999,
            "bin_end": 0.927471028,
            "count": 19
           },
           {
            "bin_start": 0.927471028,
            "bin_end": 1.071212771,
            "count": 25
           },
           {
            "bin_start": 1.071212771,
            "bin_end": 1.214954514,
            "count": 3
           },
           {
            "bin_start": 1.214954514,
            "bin_end": 1.358696257,
            "count": 7
           },
           {
            "bin_start": 1.358696257,
            "bin_end": 1.502438,
            "count": 5
           }
          ]
         }
        },
        {
         "name": "ETN-Electroneum",
         "dtype": "float64",
         "stats": {
          "unique_count": 680,
          "nan_count": 0,
          "min": "0.001727",
          "max": "0.038993",
          "histogram": [
           {
            "bin_start": 0.001727,
            "bin_end": 0.0054536,
            "count": 398
           },
           {
            "bin_start": 0.0054536,
            "bin_end": 0.0091802,
            "count": 166
           },
           {
            "bin_start": 0.0091802,
            "bin_end": 0.0129068,
            "count": 44
           },
           {
            "bin_start": 0.0129068,
            "bin_end": 0.0166334,
            "count": 37
           },
           {
            "bin_start": 0.0166334,
            "bin_end": 0.02036,
            "count": 29
           },
           {
            "bin_start": 0.02036,
            "bin_end": 0.0240866,
            "count": 16
           },
           {
            "bin_start": 0.0240866,
            "bin_end": 0.0278132,
            "count": 13
           },
           {
            "bin_start": 0.0278132,
            "bin_end": 0.0315398,
            "count": 6
           },
           {
            "bin_start": 0.0315398,
            "bin_end": 0.035266399999999996,
            "count": 8
           },
           {
            "bin_start": 0.035266399999999996,
            "bin_end": 0.038993,
            "count": 3
           }
          ]
         }
        },
        {
         "name": "FSN-Fusion",
         "dtype": "float64",
         "stats": {
          "unique_count": 720,
          "nan_count": 0,
          "min": "0.08555",
          "max": "2.34874342",
          "histogram": [
           {
            "bin_start": 0.08555,
            "bin_end": 0.311869342,
            "count": 209
           },
           {
            "bin_start": 0.311869342,
            "bin_end": 0.538188684,
            "count": 181
           },
           {
            "bin_start": 0.538188684,
            "bin_end": 0.7645080259999999,
            "count": 137
           },
           {
            "bin_start": 0.7645080259999999,
            "bin_end": 0.9908273679999999,
            "count": 70
           },
           {
            "bin_start": 0.9908273679999999,
            "bin_end": 1.21714671,
            "count": 41
           },
           {
            "bin_start": 1.21714671,
            "bin_end": 1.4434660519999998,
            "count": 42
           },
           {
            "bin_start": 1.4434660519999998,
            "bin_end": 1.6697853939999998,
            "count": 26
           },
           {
            "bin_start": 1.6697853939999998,
            "bin_end": 1.8961047359999998,
            "count": 10
           },
           {
            "bin_start": 1.8961047359999998,
            "bin_end": 2.122424078,
            "count": 2
           },
           {
            "bin_start": 2.122424078,
            "bin_end": 2.34874342,
            "count": 2
           }
          ]
         }
        },
        {
         "name": "FTM-Fantom",
         "dtype": "float64",
         "stats": {
          "unique_count": 714,
          "nan_count": 0,
          "min": "0.00234",
          "max": "1.65953024",
          "histogram": [
           {
            "bin_start": 0.00234,
            "bin_end": 0.168059024,
            "count": 507
           },
           {
            "bin_start": 0.168059024,
            "bin_end": 0.333778048,
            "count": 89
           },
           {
            "bin_start": 0.333778048,
            "bin_end": 0.499497072,
            "count": 74
           },
           {
            "bin_start": 0.499497072,
            "bin_end": 0.665216096,
            "count": 22
           },
           {
            "bin_start": 0.665216096,
            "bin_end": 0.8309351199999999,
            "count": 14
           },
           {
            "bin_start": 0.8309351199999999,
            "bin_end": 0.996654144,
            "count": 4
           },
           {
            "bin_start": 0.996654144,
            "bin_end": 1.162373168,
            "count": 1
           },
           {
            "bin_start": 1.162373168,
            "bin_end": 1.328092192,
            "count": 2
           },
           {
            "bin_start": 1.328092192,
            "bin_end": 1.4938112159999999,
            "count": 3
           },
           {
            "bin_start": 1.4938112159999999,
            "bin_end": 1.65953024,
            "count": 4
           }
          ]
         }
        },
        {
         "name": "FX-Function X",
         "dtype": "float64",
         "stats": {
          "unique_count": 119,
          "nan_count": 601,
          "min": "0.20539053",
          "max": "1.01373466",
          "histogram": [
           {
            "bin_start": 0.20539053,
            "bin_end": 0.286224943,
            "count": 20
           },
           {
            "bin_start": 0.286224943,
            "bin_end": 0.36705935599999995,
            "count": 40
           },
           {
            "bin_start": 0.36705935599999995,
            "bin_end": 0.447893769,
            "count": 27
           },
           {
            "bin_start": 0.447893769,
            "bin_end": 0.5287281819999999,
            "count": 14
           },
           {
            "bin_start": 0.5287281819999999,
            "bin_end": 0.609562595,
            "count": 1
           },
           {
            "bin_start": 0.609562595,
            "bin_end": 0.6903970079999999,
            "count": 1
           },
           {
            "bin_start": 0.6903970079999999,
            "bin_end": 0.7712314209999999,
            "count": 7
           },
           {
            "bin_start": 0.7712314209999999,
            "bin_end": 0.8520658339999999,
            "count": 3
           },
           {
            "bin_start": 0.8520658339999999,
            "bin_end": 0.932900247,
            "count": 2
           },
           {
            "bin_start": 0.932900247,
            "bin_end": 1.01373466,
            "count": 4
           }
          ]
         }
        },
        {
         "name": "GRIN-Grin",
         "dtype": "float64",
         "stats": {
          "unique_count": 720,
          "nan_count": 0,
          "min": "0.237899",
          "max": "1.679736",
          "histogram": [
           {
            "bin_start": 0.237899,
            "bin_end": 0.3820827,
            "count": 231
           },
           {
            "bin_start": 0.3820827,
            "bin_end": 0.5262663999999999,
            "count": 210
           },
           {
            "bin_start": 0.5262663999999999,
            "bin_end": 0.6704500999999999,
            "count": 75
           },
           {
            "bin_start": 0.6704500999999999,
            "bin_end": 0.8146337999999999,
            "count": 27
           },
           {
            "bin_start": 0.8146337999999999,
            "bin_end": 0.9588174999999998,
            "count": 13
           },
           {
            "bin_start": 0.9588174999999998,
            "bin_end": 1.1030011999999998,
            "count": 79
           },
           {
            "bin_start": 1.1030011999999998,
            "bin_end": 1.2471849,
            "count": 42
           },
           {
            "bin_start": 1.2471849,
            "bin_end": 1.3913685999999998,
            "count": 21
           },
           {
            "bin_start": 1.3913685999999998,
            "bin_end": 1.5355522999999998,
            "count": 19
           },
           {
            "bin_start": 1.5355522999999998,
            "bin_end": 1.679736,
            "count": 3
           }
          ]
         }
        },
        {
         "name": "IGNIS-Ignis",
         "dtype": "float64",
         "stats": {
          "unique_count": 716,
          "nan_count": 0,
          "min": "0.01403",
          "max": "0.260732",
          "histogram": [
           {
            "bin_start": 0.01403,
            "bin_end": 0.038700200000000004,
            "count": 547
           },
           {
            "bin_start": 0.038700200000000004,
            "bin_end": 0.06337040000000001,
            "count": 60
           },
           {
            "bin_start": 0.06337040000000001,
            "bin_end": 0.08804060000000001,
            "count": 11
           },
           {
            "bin_start": 0.08804060000000001,
            "bin_end": 0.11271080000000001,
            "count": 31
           },
           {
            "bin_start": 0.11271080000000001,
            "bin_end": 0.13738100000000003,
            "count": 18
           },
           {
            "bin_start": 0.13738100000000003,
            "bin_end": 0.1620512,
            "count": 24
           },
           {
            "bin_start": 0.1620512,
            "bin_end": 0.18672140000000004,
            "count": 12
           },
           {
            "bin_start": 0.18672140000000004,
            "bin_end": 0.2113916,
            "count": 7
           },
           {
            "bin_start": 0.2113916,
            "bin_end": 0.23606180000000004,
            "count": 6
           },
           {
            "bin_start": 0.23606180000000004,
            "bin_end": 0.260732,
            "count": 4
           }
          ]
         }
        },
        {
         "name": "KNC-Kyber Network",
         "dtype": "float64",
         "stats": {
          "unique_count": 720,
          "nan_count": 0,
          "min": "0.146192",
          "max": "4.03719",
          "histogram": [
           {
            "bin_start": 0.146192,
            "bin_end": 0.5352918,
            "count": 195
           },
           {
            "bin_start": 0.5352918,
            "bin_end": 0.9243916,
            "count": 123
           },
           {
            "bin_start": 0.9243916,
            "bin_end": 1.3134914000000002,
            "count": 105
           },
           {
            "bin_start": 1.3134914000000002,
            "bin_end": 1.7025912,
            "count": 118
           },
           {
            "bin_start": 1.7025912,
            "bin_end": 2.091691,
            "count": 81
           },
           {
            "bin_start": 2.091691,
            "bin_end": 2.4807908000000003,
            "count": 34
           },
           {
            "bin_start": 2.4807908000000003,
            "bin_end": 2.8698906,
            "count": 20
           },
           {
            "bin_start": 2.8698906,
            "bin_end": 3.2589904,
            "count": 18
           },
           {
            "bin_start": 3.2589904,
            "bin_end": 3.6480902,
            "count": 20
           },
           {
            "bin_start": 3.6480902,
            "bin_end": 4.03719,
            "count": 6
           }
          ]
         }
        },
        {
         "name": "LA-LAToken",
         "dtype": "float64",
         "stats": {
          "unique_count": 719,
          "nan_count": 0,
          "min": "0.018917",
          "max": "0.549597",
          "histogram": [
           {
            "bin_start": 0.018917,
            "bin_end": 0.07198500000000001,
            "count": 457
           },
           {
            "bin_start": 0.07198500000000001,
            "bin_end": 0.125053,
            "count": 188
           },
           {
            "bin_start": 0.125053,
            "bin_end": 0.178121,
            "count": 30
           },
           {
            "bin_start": 0.178121,
            "bin_end": 0.231189,
            "count": 22
           },
           {
            "bin_start": 0.231189,
            "bin_end": 0.28425700000000004,
            "count": 13
           },
           {
            "bin_start": 0.28425700000000004,
            "bin_end": 0.33732500000000004,
            "count": 4
           },
           {
            "bin_start": 0.33732500000000004,
            "bin_end": 0.39039300000000005,
            "count": 2
           },
           {
            "bin_start": 0.39039300000000005,
            "bin_end": 0.44346100000000005,
            "count": 0
           },
           {
            "bin_start": 0.44346100000000005,
            "bin_end": 0.49652900000000005,
            "count": 2
           },
           {
            "bin_start": 0.49652900000000005,
            "bin_end": 0.549597,
            "count": 2
           }
          ]
         }
        },
        {
         "name": "LOOM-Loom Network",
         "dtype": "float64",
         "stats": {
          "unique_count": 714,
          "nan_count": 0,
          "min": "0.010123",
          "max": "0.259299",
          "histogram": [
           {
            "bin_start": 0.010123,
            "bin_end": 0.035040600000000005,
            "count": 453
           },
           {
            "bin_start": 0.035040600000000005,
            "bin_end": 0.0599582,
            "count": 57
           },
           {
            "bin_start": 0.0599582,
            "bin_end": 0.0848758,
            "count": 61
           },
           {
            "bin_start": 0.0848758,
            "bin_end": 0.10979340000000001,
            "count": 47
           },
           {
            "bin_start": 0.10979340000000001,
            "bin_end": 0.134711,
            "count": 34
           },
           {
            "bin_start": 0.134711,
            "bin_end": 0.1596286,
            "count": 28
           },
           {
            "bin_start": 0.1596286,
            "bin_end": 0.1845462,
            "count": 19
           },
           {
            "bin_start": 0.1845462,
            "bin_end": 0.2094638,
            "count": 10
           },
           {
            "bin_start": 0.2094638,
            "bin_end": 0.23438140000000002,
            "count": 8
           },
           {
            "bin_start": 0.23438140000000002,
            "bin_end": 0.259299,
            "count": 3
           }
          ]
         }
        },
        {
         "name": "LRC-Loopring",
         "dtype": "float64",
         "stats": {
          "unique_count": 719,
          "nan_count": 0,
          "min": "0.020307",
          "max": "0.831179",
          "histogram": [
           {
            "bin_start": 0.020307,
            "bin_end": 0.10139419999999999,
            "count": 285
           },
           {
            "bin_start": 0.10139419999999999,
            "bin_end": 0.1824814,
            "count": 104
           },
           {
            "bin_start": 0.1824814,
            "bin_end": 0.2635686,
            "count": 119
           },
           {
            "bin_start": 0.2635686,
            "bin_end": 0.3446558,
            "count": 39
           },
           {
            "bin_start": 0.3446558,
            "bin_end": 0.42574300000000004,
            "count": 37
           },
           {
            "bin_start": 0.42574300000000004,
            "bin_end": 0.5068302,
            "count": 28
           },
           {
            "bin_start": 0.5068302,
            "bin_end": 0.5879173999999999,
            "count": 73
           },
           {
            "bin_start": 0.5879173999999999,
            "bin_end": 0.6690046,
            "count": 18
           },
           {
            "bin_start": 0.6690046,
            "bin_end": 0.7500918,
            "count": 9
           },
           {
            "bin_start": 0.7500918,
            "bin_end": 0.831179,
            "count": 8
           }
          ]
         }
        },
        {
         "name": "MANA-Decentraland",
         "dtype": "float64",
         "stats": {
          "unique_count": 719,
          "nan_count": 0,
          "min": "0.018393",
          "max": "1.56450022",
          "histogram": [
           {
            "bin_start": 0.018393,
            "bin_end": 0.17300372199999997,
            "count": 497
           },
           {
            "bin_start": 0.17300372199999997,
            "bin_end": 0.32761444399999995,
            "count": 26
           },
           {
            "bin_start": 0.32761444399999995,
            "bin_end": 0.4822251659999999,
            "count": 12
           },
           {
            "bin_start": 0.4822251659999999,
            "bin_end": 0.6368358879999999,
            "count": 23
           },
           {
            "bin_start": 0.6368358879999999,
            "bin_end": 0.7914466099999998,
            "count": 44
           },
           {
            "bin_start": 0.7914466099999998,
            "bin_end": 0.9460573319999999,
            "count": 48
           },
           {
            "bin_start": 0.9460573319999999,
            "bin_end": 1.100668054,
            "count": 33
           },
           {
            "bin_start": 1.100668054,
            "bin_end": 1.255278776,
            "count": 12
           },
           {
            "bin_start": 1.255278776,
            "bin_end": 1.4098894979999999,
            "count": 10
           },
           {
            "bin_start": 1.4098894979999999,
            "bin_end": 1.56450022,
            "count": 15
           }
          ]
         }
        },
        {
         "name": "NAS-Nebulas",
         "dtype": "float64",
         "stats": {
          "unique_count": 719,
          "nan_count": 0,
          "min": "0.179837",
          "max": "1.516629",
          "histogram": [
           {
            "bin_start": 0.179837,
            "bin_end": 0.3135162,
            "count": 176
           },
           {
            "bin_start": 0.3135162,
            "bin_end": 0.4471954,
            "count": 257
           },
           {
            "bin_start": 0.4471954,
            "bin_end": 0.5808746,
            "count": 169
           },
           {
            "bin_start": 0.5808746,
            "bin_end": 0.7145538,
            "count": 49
           },
           {
            "bin_start": 0.7145538,
            "bin_end": 0.848233,
            "count": 10
           },
           {
            "bin_start": 0.848233,
            "bin_end": 0.9819122,
            "count": 17
           },
           {
            "bin_start": 0.9819122,
            "bin_end": 1.1155914,
            "count": 18
           },
           {
            "bin_start": 1.1155914,
            "bin_end": 1.2492706,
            "count": 15
           },
           {
            "bin_start": 1.2492706,
            "bin_end": 1.3829498,
            "count": 6
           },
           {
            "bin_start": 1.3829498,
            "bin_end": 1.516629,
            "count": 3
           }
          ]
         }
        },
        {
         "name": "NEW-Newton",
         "dtype": "float64",
         "stats": {
          "unique_count": 612,
          "nan_count": 0,
          "min": "0.000245",
          "max": "0.003946",
          "histogram": [
           {
            "bin_start": 0.000245,
            "bin_end": 0.0006150999999999999,
            "count": 283
           },
           {
            "bin_start": 0.0006150999999999999,
            "bin_end": 0.0009851999999999999,
            "count": 218
           },
           {
            "bin_start": 0.0009851999999999999,
            "bin_end": 0.0013553,
            "count": 81
           },
           {
            "bin_start": 0.0013553,
            "bin_end": 0.0017254,
            "count": 35
           },
           {
            "bin_start": 0.0017254,
            "bin_end": 0.0020955,
            "count": 19
           },
           {
            "bin_start": 0.0020955,
            "bin_end": 0.0024656,
            "count": 12
           },
           {
            "bin_start": 0.0024656,
            "bin_end": 0.0028357,
            "count": 14
           },
           {
            "bin_start": 0.0028357,
            "bin_end": 0.0032058,
            "count": 6
           },
           {
            "bin_start": 0.0032058,
            "bin_end": 0.0035759,
            "count": 35
           },
           {
            "bin_start": 0.0035759,
            "bin_end": 0.003946,
            "count": 17
           }
          ]
         }
        },
        {
         "name": "NULS-Nuls",
         "dtype": "float64",
         "stats": {
          "unique_count": 720,
          "nan_count": 0,
          "min": "0.115955",
          "max": "1.513374",
          "histogram": [
           {
            "bin_start": 0.115955,
            "bin_end": 0.2556969,
            "count": 179
           },
           {
            "bin_start": 0.2556969,
            "bin_end": 0.3954388,
            "count": 264
           },
           {
            "bin_start": 0.3954388,
            "bin_end": 0.5351807000000001,
            "count": 129
           },
           {
            "bin_start": 0.5351807000000001,
            "bin_end": 0.6749226,
            "count": 69
           },
           {
            "bin_start": 0.6749226,
            "bin_end": 0.8146645,
            "count": 11
           },
           {
            "bin_start": 0.8146645,
            "bin_end": 0.9544064000000001,
            "count": 21
           },
           {
            "bin_start": 0.9544064000000001,
            "bin_end": 1.0941483,
            "count": 15
           },
           {
            "bin_start": 1.0941483,
            "bin_end": 1.2338902,
            "count": 14
           },
           {
            "bin_start": 1.2338902,
            "bin_end": 1.3736321,
            "count": 11
           },
           {
            "bin_start": 1.3736321,
            "bin_end": 1.513374,
            "count": 7
           }
          ]
         }
        },
        {
         "name": "ONE-Harmony",
         "dtype": "float64",
         "stats": {
          "unique_count": 696,
          "nan_count": 0,
          "min": "0.001619",
          "max": "0.21694585",
          "histogram": [
           {
            "bin_start": 0.001619,
            "bin_end": 0.023151684999999998,
            "count": 509
           },
           {
            "bin_start": 0.023151684999999998,
            "bin_end": 0.04468437,
            "count": 25
           },
           {
            "bin_start": 0.04468437,
            "bin_end": 0.066217055,
            "count": 20
           },
           {
            "bin_start": 0.066217055,
            "bin_end": 0.08774973999999999,
            "count": 49
           },
           {
            "bin_start": 0.08774973999999999,
            "bin_end": 0.10928242499999999,
            "count": 39
           },
           {
            "bin_start": 0.10928242499999999,
            "bin_end": 0.13081511,
            "count": 29
           },
           {
            "bin_start": 0.13081511,
            "bin_end": 0.152347795,
            "count": 22
           },
           {
            "bin_start": 0.152347795,
            "bin_end": 0.17388048,
            "count": 13
           },
           {
            "bin_start": 0.17388048,
            "bin_end": 0.195413165,
            "count": 10
           },
           {
            "bin_start": 0.195413165,
            "bin_end": 0.21694585,
            "count": 4
           }
          ]
         }
        },
        {
         "name": "ORBS-Orbs",
         "dtype": "float64",
         "stats": {
          "unique_count": 706,
          "nan_count": 0,
          "min": "0.005276",
          "max": "0.299832",
          "histogram": [
           {
            "bin_start": 0.005276,
            "bin_end": 0.0347316,
            "count": 527
           },
           {
            "bin_start": 0.0347316,
            "bin_end": 0.0641872,
            "count": 28
           },
           {
            "bin_start": 0.0641872,
            "bin_end": 0.0936428,
            "count": 63
           },
           {
            "bin_start": 0.0936428,
            "bin_end": 0.1230984,
            "count": 30
           },
           {
            "bin_start": 0.1230984,
            "bin_end": 0.152554,
            "count": 34
           },
           {
            "bin_start": 0.152554,
            "bin_end": 0.1820096,
            "count": 4
           },
           {
            "bin_start": 0.1820096,
            "bin_end": 0.2114652,
            "count": 15
           },
           {
            "bin_start": 0.2114652,
            "bin_end": 0.2409208,
            "count": 12
           },
           {
            "bin_start": 0.2409208,
            "bin_end": 0.2703764,
            "count": 5
           },
           {
            "bin_start": 0.2703764,
            "bin_end": 0.299832,
            "count": 2
           }
          ]
         }
        },
        {
         "name": "PIVX-PIVX",
         "dtype": "float64",
         "stats": {
          "unique_count": 720,
          "nan_count": 0,
          "min": "0.183091",
          "max": "2.27728",
          "histogram": [
           {
            "bin_start": 0.183091,
            "bin_end": 0.3925099,
            "count": 355
           },
           {
            "bin_start": 0.3925099,
            "bin_end": 0.6019288,
            "count": 190
           },
           {
            "bin_start": 0.6019288,
            "bin_end": 0.8113477000000001,
            "count": 37
           },
           {
            "bin_start": 0.8113477000000001,
            "bin_end": 1.0207666,
            "count": 49
           },
           {
            "bin_start": 1.0207666,
            "bin_end": 1.2301855000000002,
            "count": 26
           },
           {
            "bin_start": 1.2301855000000002,
            "bin_end": 1.4396044000000003,
            "count": 14
           },
           {
            "bin_start": 1.4396044000000003,
            "bin_end": 1.6490233,
            "count": 23
           },
           {
            "bin_start": 1.6490233,
            "bin_end": 1.8584422000000003,
            "count": 14
           },
           {
            "bin_start": 1.8584422000000003,
            "bin_end": 2.0678611,
            "count": 9
           },
           {
            "bin_start": 2.0678611,
            "bin_end": 2.27728,
            "count": 3
           }
          ]
         }
        },
        {
         "name": "POWR-Power Ledger",
         "dtype": "float64",
         "stats": {
          "unique_count": 713,
          "nan_count": 0,
          "min": "0.034883",
          "max": "0.641849",
          "histogram": [
           {
            "bin_start": 0.034883,
            "bin_end": 0.0955796,
            "count": 364
           },
           {
            "bin_start": 0.0955796,
            "bin_end": 0.1562762,
            "count": 149
           },
           {
            "bin_start": 0.1562762,
            "bin_end": 0.21697280000000002,
            "count": 45
           },
           {
            "bin_start": 0.21697280000000002,
            "bin_end": 0.2776694,
            "count": 32
           },
           {
            "bin_start": 0.2776694,
            "bin_end": 0.338366,
            "count": 43
           },
           {
            "bin_start": 0.338366,
            "bin_end": 0.39906260000000005,
            "count": 36
           },
           {
            "bin_start": 0.39906260000000005,
            "bin_end": 0.45975920000000003,
            "count": 23
           },
           {
            "bin_start": 0.45975920000000003,
            "bin_end": 0.5204558,
            "count": 9
           },
           {
            "bin_start": 0.5204558,
            "bin_end": 0.5811524,
            "count": 7
           },
           {
            "bin_start": 0.5811524,
            "bin_end": 0.641849,
            "count": 12
           }
          ]
         }
        },
        {
         "name": "PPT-Populous",
         "dtype": "float64",
         "stats": {
          "unique_count": 720,
          "nan_count": 0,
          "min": "0.179372",
          "max": "7.052904",
          "histogram": [
           {
            "bin_start": 0.179372,
            "bin_end": 0.8667252,
            "count": 476
           },
           {
            "bin_start": 0.8667252,
            "bin_end": 1.5540784,
            "count": 29
           },
           {
            "bin_start": 1.5540784,
            "bin_end": 2.2414316,
            "count": 83
           },
           {
            "bin_start": 2.2414316,
            "bin_end": 2.9287848,
            "count": 73
           },
           {
            "bin_start": 2.9287848,
            "bin_end": 3.616138,
            "count": 17
           },
           {
            "bin_start": 3.616138,
            "bin_end": 4.3034912,
            "count": 11
           },
           {
            "bin_start": 4.3034912,
            "bin_end": 4.990844399999999,
            "count": 10
           },
           {
            "bin_start": 4.990844399999999,
            "bin_end": 5.6781976,
            "count": 13
           },
           {
            "bin_start": 5.6781976,
            "bin_end": 6.3655508,
            "count": 5
           },
           {
            "bin_start": 6.3655508,
            "bin_end": 7.052904,
            "count": 3
           }
          ]
         }
        },
        {
         "name": "QASH-QASH",
         "dtype": "float64",
         "stats": {
          "unique_count": 716,
          "nan_count": 0,
          "min": "0.030362",
          "max": "0.170804",
          "histogram": [
           {
            "bin_start": 0.030362,
            "bin_end": 0.0444062,
            "count": 303
           },
           {
            "bin_start": 0.0444062,
            "bin_end": 0.0584504,
            "count": 152
           },
           {
            "bin_start": 0.0584504,
            "bin_end": 0.0724946,
            "count": 125
           },
           {
            "bin_start": 0.0724946,
            "bin_end": 0.0865388,
            "count": 80
           },
           {
            "bin_start": 0.0865388,
            "bin_end": 0.100583,
            "count": 18
           },
           {
            "bin_start": 0.100583,
            "bin_end": 0.11462720000000001,
            "count": 18
           },
           {
            "bin_start": 0.11462720000000001,
            "bin_end": 0.1286714,
            "count": 10
           },
           {
            "bin_start": 0.1286714,
            "bin_end": 0.1427156,
            "count": 5
           },
           {
            "bin_start": 0.1427156,
            "bin_end": 0.1567598,
            "count": 4
           },
           {
            "bin_start": 0.1567598,
            "bin_end": 0.170804,
            "count": 5
           }
          ]
         }
        },
        {
         "name": "QKC-QuarkChain",
         "dtype": "float64",
         "stats": {
          "unique_count": 691,
          "nan_count": 0,
          "min": "1.5e-05",
          "max": "0.060226",
          "histogram": [
           {
            "bin_start": 0.000015,
            "bin_end": 0.0060361,
            "count": 390
           },
           {
            "bin_start": 0.0060361,
            "bin_end": 0.012057199999999999,
            "count": 126
           },
           {
            "bin_start": 0.012057199999999999,
            "bin_end": 0.0180783,
            "count": 71
           },
           {
            "bin_start": 0.0180783,
            "bin_end": 0.0240994,
            "count": 59
           },
           {
            "bin_start": 0.0240994,
            "bin_end": 0.0301205,
            "count": 21
           },
           {
            "bin_start": 0.0301205,
            "bin_end": 0.036141599999999996,
            "count": 17
           },
           {
            "bin_start": 0.036141599999999996,
            "bin_end": 0.0421627,
            "count": 13
           },
           {
            "bin_start": 0.0421627,
            "bin_end": 0.0481838,
            "count": 18
           },
           {
            "bin_start": 0.0481838,
            "bin_end": 0.0542049,
            "count": 4
           },
           {
            "bin_start": 0.0542049,
            "bin_end": 0.060226,
            "count": 1
           }
          ]
         }
        },
        {
         "name": "RDD-ReddCoin",
         "dtype": "float64",
         "stats": {
          "unique_count": 614,
          "nan_count": 0,
          "min": "0.000479",
          "max": "0.01076116",
          "histogram": [
           {
            "bin_start": 0.000479,
            "bin_end": 0.001507216,
            "count": 473
           },
           {
            "bin_start": 0.001507216,
            "bin_end": 0.002535432,
            "count": 69
           },
           {
            "bin_start": 0.002535432,
            "bin_end": 0.0035636479999999996,
            "count": 56
           },
           {
            "bin_start": 0.0035636479999999996,
            "bin_end": 0.004591864,
            "count": 44
           },
           {
            "bin_start": 0.004591864,
            "bin_end": 0.00562008,
            "count": 16
           },
           {
            "bin_start": 0.00562008,
            "bin_end": 0.006648296,
            "count": 23
           },
           {
            "bin_start": 0.006648296,
            "bin_end": 0.007676512,
            "count": 17
           },
           {
            "bin_start": 0.007676512,
            "bin_end": 0.008704728,
            "count": 21
           },
           {
            "bin_start": 0.008704728,
            "bin_end": 0.009732944,
            "count": 0
           },
           {
            "bin_start": 0.009732944,
            "bin_end": 0.01076116,
            "count": 1
           }
          ]
         }
        },
        {
         "name": "SNX-Synthetix Network Token",
         "dtype": "float64",
         "stats": {
          "unique_count": 713,
          "nan_count": 0,
          "min": "0.114191",
          "max": "27.117973",
          "histogram": [
           {
            "bin_start": 0.114191,
            "bin_end": 2.8145691999999998,
            "count": 294
           },
           {
            "bin_start": 2.8145691999999998,
            "bin_end": 5.5149474,
            "count": 133
           },
           {
            "bin_start": 5.5149474,
            "bin_end": 8.2153256,
            "count": 52
           },
           {
            "bin_start": 8.2153256,
            "bin_end": 10.9157038,
            "count": 53
           },
           {
            "bin_start": 10.9157038,
            "bin_end": 13.616081999999999,
            "count": 53
           },
           {
            "bin_start": 13.616081999999999,
            "bin_end": 16.3164602,
            "count": 30
           },
           {
            "bin_start": 16.3164602,
            "bin_end": 19.0168384,
            "count": 46
           },
           {
            "bin_start": 19.0168384,
            "bin_end": 21.7172166,
            "count": 38
           },
           {
            "bin_start": 21.7172166,
            "bin_end": 24.4175948,
            "count": 14
           },
           {
            "bin_start": 24.4175948,
            "bin_end": 27.117973,
            "count": 7
           }
          ]
         }
        },
        {
         "name": "TFUEL-Theta Fuel",
         "dtype": "float64",
         "stats": {
          "unique_count": 698,
          "nan_count": 0,
          "min": "0.00121",
          "max": "0.59030285",
          "histogram": [
           {
            "bin_start": 0.00121,
            "bin_end": 0.060119285,
            "count": 511
           },
           {
            "bin_start": 0.060119285,
            "bin_end": 0.11902857,
            "count": 13
           },
           {
            "bin_start": 0.11902857,
            "bin_end": 0.17793785499999998,
            "count": 7
           },
           {
            "bin_start": 0.17793785499999998,
            "bin_end": 0.23684713999999998,
            "count": 2
           },
           {
            "bin_start": 0.23684713999999998,
            "bin_end": 0.295756425,
            "count": 23
           },
           {
            "bin_start": 0.295756425,
            "bin_end": 0.35466570999999997,
            "count": 79
           },
           {
            "bin_start": 0.35466570999999997,
            "bin_end": 0.413574995,
            "count": 45
           },
           {
            "bin_start": 0.413574995,
            "bin_end": 0.47248428,
            "count": 24
           },
           {
            "bin_start": 0.47248428,
            "bin_end": 0.531393565,
            "count": 8
           },
           {
            "bin_start": 0.531393565,
            "bin_end": 0.59030285,
            "count": 8
           }
          ]
         }
        },
        {
         "name": "TOMO-TomoChain",
         "dtype": "float64",
         "stats": {
          "unique_count": 720,
          "nan_count": 0,
          "min": "0.187447",
          "max": "3.76224775",
          "histogram": [
           {
            "bin_start": 0.187447,
            "bin_end": 0.5449270749999999,
            "count": 262
           },
           {
            "bin_start": 0.5449270749999999,
            "bin_end": 0.9024071499999999,
            "count": 157
           },
           {
            "bin_start": 0.9024071499999999,
            "bin_end": 1.2598872249999997,
            "count": 59
           },
           {
            "bin_start": 1.2598872249999997,
            "bin_end": 1.6173672999999997,
            "count": 49
           },
           {
            "bin_start": 1.6173672999999997,
            "bin_end": 1.9748473749999997,
            "count": 43
           },
           {
            "bin_start": 1.9748473749999997,
            "bin_end": 2.3323274499999997,
            "count": 36
           },
           {
            "bin_start": 2.3323274499999997,
            "bin_end": 2.689807525,
            "count": 45
           },
           {
            "bin_start": 2.689807525,
            "bin_end": 3.0472875999999998,
            "count": 38
           },
           {
            "bin_start": 3.0472875999999998,
            "bin_end": 3.4047676749999995,
            "count": 22
           },
           {
            "bin_start": 3.4047676749999995,
            "bin_end": 3.76224775,
            "count": 9
           }
          ]
         }
        },
        {
         "name": "TRUE-TrueChain",
         "dtype": "float64",
         "stats": {
          "unique_count": 719,
          "nan_count": 0,
          "min": "0.09964468",
          "max": "0.511432",
          "histogram": [
           {
            "bin_start": 0.09964468,
            "bin_end": 0.140823412,
            "count": 52
           },
           {
            "bin_start": 0.140823412,
            "bin_end": 0.182002144,
            "count": 116
           },
           {
            "bin_start": 0.182002144,
            "bin_end": 0.22318087600000003,
            "count": 138
           },
           {
            "bin_start": 0.22318087600000003,
            "bin_end": 0.264359608,
            "count": 140
           },
           {
            "bin_start": 0.264359608,
            "bin_end": 0.30553834,
            "count": 131
           },
           {
            "bin_start": 0.30553834,
            "bin_end": 0.346717072,
            "count": 92
           },
           {
            "bin_start": 0.346717072,
            "bin_end": 0.387895804,
            "count": 35
           },
           {
            "bin_start": 0.387895804,
            "bin_end": 0.429074536,
            "count": 8
           },
           {
            "bin_start": 0.429074536,
            "bin_end": 0.470253268,
            "count": 6
           },
           {
            "bin_start": 0.470253268,
            "bin_end": 0.511432,
            "count": 2
           }
          ]
         }
        },
        {
         "name": "VERI-Veritaseum",
         "dtype": "float64",
         "stats": {
          "unique_count": 720,
          "nan_count": 0,
          "min": "2.046013",
          "max": "31.983871",
          "histogram": [
           {
            "bin_start": 2.046013,
            "bin_end": 5.0397988,
            "count": 218
           },
           {
            "bin_start": 5.0397988,
            "bin_end": 8.033584600000001,
            "count": 112
           },
           {
            "bin_start": 8.033584600000001,
            "bin_end": 11.0273704,
            "count": 65
           },
           {
            "bin_start": 11.0273704,
            "bin_end": 14.021156200000002,
            "count": 43
           },
           {
            "bin_start": 14.021156200000002,
            "bin_end": 17.014942,
            "count": 59
           },
           {
            "bin_start": 17.014942,
            "bin_end": 20.0087278,
            "count": 133
           },
           {
            "bin_start": 20.0087278,
            "bin_end": 23.0025136,
            "count": 62
           },
           {
            "bin_start": 23.0025136,
            "bin_end": 25.9962994,
            "count": 18
           },
           {
            "bin_start": 25.9962994,
            "bin_end": 28.990085200000003,
            "count": 8
           },
           {
            "bin_start": 28.990085200000003,
            "bin_end": 31.983871,
            "count": 2
           }
          ]
         }
        },
        {
         "name": "WAN-Wanchain",
         "dtype": "float64",
         "stats": {
          "unique_count": 720,
          "nan_count": 0,
          "min": "0.096416",
          "max": "2.457636",
          "histogram": [
           {
            "bin_start": 0.096416,
            "bin_end": 0.332538,
            "count": 402
           },
           {
            "bin_start": 0.332538,
            "bin_end": 0.5686599999999999,
            "count": 125
           },
           {
            "bin_start": 0.5686599999999999,
            "bin_end": 0.8047820000000001,
            "count": 54
           },
           {
            "bin_start": 0.8047820000000001,
            "bin_end": 1.040904,
            "count": 63
           },
           {
            "bin_start": 1.040904,
            "bin_end": 1.277026,
            "count": 20
           },
           {
            "bin_start": 1.277026,
            "bin_end": 1.5131480000000002,
            "count": 11
           },
           {
            "bin_start": 1.5131480000000002,
            "bin_end": 1.74927,
            "count": 12
           },
           {
            "bin_start": 1.74927,
            "bin_end": 1.985392,
            "count": 21
           },
           {
            "bin_start": 1.985392,
            "bin_end": 2.221514,
            "count": 6
           },
           {
            "bin_start": 2.221514,
            "bin_end": 2.457636,
            "count": 6
           }
          ]
         }
        },
        {
         "name": "WICC-WaykiChain",
         "dtype": "float64",
         "stats": {
          "unique_count": 718,
          "nan_count": 0,
          "min": "0.098193",
          "max": "2.039068",
          "histogram": [
           {
            "bin_start": 0.098193,
            "bin_end": 0.2922805,
            "count": 591
           },
           {
            "bin_start": 0.2922805,
            "bin_end": 0.486368,
            "count": 94
           },
           {
            "bin_start": 0.486368,
            "bin_end": 0.6804555,
            "count": 24
           },
           {
            "bin_start": 0.6804555,
            "bin_end": 0.874543,
            "count": 5
           },
           {
            "bin_start": 0.874543,
            "bin_end": 1.0686305,
            "count": 4
           },
           {
            "bin_start": 1.0686305,
            "bin_end": 1.262718,
            "count": 1
           },
           {
            "bin_start": 1.262718,
            "bin_end": 1.4568055,
            "count": 0
           },
           {
            "bin_start": 1.4568055,
            "bin_end": 1.650893,
            "count": 0
           },
           {
            "bin_start": 1.650893,
            "bin_end": 1.8449805,
            "count": 0
           },
           {
            "bin_start": 1.8449805,
            "bin_end": 2.039068,
            "count": 1
           }
          ]
         }
        },
        {
         "name": "ZEN-Horizen",
         "dtype": "float64",
         "stats": {
          "unique_count": 720,
          "nan_count": 0,
          "min": "3.293081",
          "max": "147.98119807",
          "histogram": [
           {
            "bin_start": 3.293081,
            "bin_end": 17.761892707,
            "count": 473
           },
           {
            "bin_start": 17.761892707,
            "bin_end": 32.230704414,
            "count": 16
           },
           {
            "bin_start": 32.230704414,
            "bin_end": 46.699516121,
            "count": 25
           },
           {
            "bin_start": 46.699516121,
            "bin_end": 61.168327828,
            "count": 70
           },
           {
            "bin_start": 61.168327828,
            "bin_end": 75.637139535,
            "count": 42
           },
           {
            "bin_start": 75.637139535,
            "bin_end": 90.105951242,
            "count": 36
           },
           {
            "bin_start": 90.105951242,
            "bin_end": 104.574762949,
            "count": 15
           },
           {
            "bin_start": 104.574762949,
            "bin_end": 119.043574656,
            "count": 23
           },
           {
            "bin_start": 119.043574656,
            "bin_end": 133.512386363,
            "count": 13
           },
           {
            "bin_start": 133.512386363,
            "bin_end": 147.98119807,
            "count": 7
           }
          ]
         }
        },
        {
         "name": "ABT-Arcblock",
         "dtype": "float64",
         "stats": {
          "unique_count": 719,
          "nan_count": 0,
          "min": "0.057331",
          "max": "0.279415",
          "histogram": [
           {
            "bin_start": 0.057331,
            "bin_end": 0.07953940000000001,
            "count": 84
           },
           {
            "bin_start": 0.07953940000000001,
            "bin_end": 0.1017478,
            "count": 152
           },
           {
            "bin_start": 0.1017478,
            "bin_end": 0.12395620000000002,
            "count": 174
           },
           {
            "bin_start": 0.12395620000000002,
            "bin_end": 0.1461646,
            "count": 107
           },
           {
            "bin_start": 0.1461646,
            "bin_end": 0.16837300000000002,
            "count": 82
           },
           {
            "bin_start": 0.16837300000000002,
            "bin_end": 0.1905814,
            "count": 34
           },
           {
            "bin_start": 0.1905814,
            "bin_end": 0.2127898,
            "count": 34
           },
           {
            "bin_start": 0.2127898,
            "bin_end": 0.23499820000000002,
            "count": 27
           },
           {
            "bin_start": 0.23499820000000002,
            "bin_end": 0.25720660000000006,
            "count": 14
           },
           {
            "bin_start": 0.25720660000000006,
            "bin_end": 0.279415,
            "count": 12
           }
          ]
         }
        },
        {
         "name": "ANT-Aragon",
         "dtype": "float64",
         "stats": {
          "unique_count": 720,
          "nan_count": 0,
          "min": "0.372011",
          "max": "13.171376",
          "histogram": [
           {
            "bin_start": 0.372011,
            "bin_end": 1.6519475,
            "count": 300
           },
           {
            "bin_start": 1.6519475,
            "bin_end": 2.931884,
            "count": 27
           },
           {
            "bin_start": 2.931884,
            "bin_end": 4.2118205,
            "count": 186
           },
           {
            "bin_start": 4.2118205,
            "bin_end": 5.491757,
            "count": 96
           },
           {
            "bin_start": 5.491757,
            "bin_end": 6.7716935,
            "count": 33
           },
           {
            "bin_start": 6.7716935,
            "bin_end": 8.051630000000001,
            "count": 24
           },
           {
            "bin_start": 8.051630000000001,
            "bin_end": 9.331566500000001,
            "count": 21
           },
           {
            "bin_start": 9.331566500000001,
            "bin_end": 10.611503,
            "count": 17
           },
           {
            "bin_start": 10.611503,
            "bin_end": 11.8914395,
            "count": 12
           },
           {
            "bin_start": 11.8914395,
            "bin_end": 13.171376,
            "count": 4
           }
          ]
         }
        },
        {
         "name": "APL-Apollo Coin",
         "dtype": "float64",
         "stats": {
          "unique_count": 587,
          "nan_count": 0,
          "min": "0.000306",
          "max": "0.008729",
          "histogram": [
           {
            "bin_start": 0.000306,
            "bin_end": 0.0011483,
            "count": 480
           },
           {
            "bin_start": 0.0011483,
            "bin_end": 0.0019906,
            "count": 88
           },
           {
            "bin_start": 0.0019906,
            "bin_end": 0.0028329,
            "count": 63
           },
           {
            "bin_start": 0.0028329,
            "bin_end": 0.0036752,
            "count": 29
           },
           {
            "bin_start": 0.0036752,
            "bin_end": 0.0045175,
            "count": 14
           },
           {
            "bin_start": 0.0045175,
            "bin_end": 0.0053598000000000005,
            "count": 13
           },
           {
            "bin_start": 0.0053598000000000005,
            "bin_end": 0.0062021,
            "count": 16
           },
           {
            "bin_start": 0.0062021,
            "bin_end": 0.0070444,
            "count": 8
           },
           {
            "bin_start": 0.0070444,
            "bin_end": 0.0078867,
            "count": 7
           },
           {
            "bin_start": 0.0078867,
            "bin_end": 0.008729,
            "count": 2
           }
          ]
         }
        },
        {
         "name": "BFT-BnkToTheFuture",
         "dtype": "float64",
         "stats": {
          "unique_count": 708,
          "nan_count": 0,
          "min": "0.003586",
          "max": "0.2131324",
          "histogram": [
           {
            "bin_start": 0.003586,
            "bin_end": 0.02454064,
            "count": 560
           },
           {
            "bin_start": 0.02454064,
            "bin_end": 0.04549528,
            "count": 65
           },
           {
            "bin_start": 0.04549528,
            "bin_end": 0.06644992000000001,
            "count": 35
           },
           {
            "bin_start": 0.06644992000000001,
            "bin_end": 0.08740456,
            "count": 38
           },
           {
            "bin_start": 0.08740456,
            "bin_end": 0.1083592,
            "count": 2
           },
           {
            "bin_start": 0.1083592,
            "bin_end": 0.12931384,
            "count": 6
           },
           {
            "bin_start": 0.12931384,
            "bin_end": 0.15026848,
            "count": 3
           },
           {
            "bin_start": 0.15026848,
            "bin_end": 0.17122312,
            "count": 6
           },
           {
            "bin_start": 0.17122312,
            "bin_end": 0.19217776,
            "count": 2
           },
           {
            "bin_start": 0.19217776,
            "bin_end": 0.2131324,
            "count": 3
           }
          ]
         }
        },
        {
         "name": "BHP-Blockchain of Hash Power",
         "dtype": "float64",
         "stats": {
          "unique_count": 720,
          "nan_count": 0,
          "min": "0.5234475",
          "max": "2.362311",
          "histogram": [
           {
            "bin_start": 0.5234475,
            "bin_end": 0.7073338499999999,
            "count": 468
           },
           {
            "bin_start": 0.7073338499999999,
            "bin_end": 0.8912202,
            "count": 136
           },
           {
            "bin_start": 0.8912202,
            "bin_end": 1.07510655,
            "count": 77
           },
           {
            "bin_start": 1.07510655,
            "bin_end": 1.2589929,
            "count": 35
           },
           {
            "bin_start": 1.2589929,
            "bin_end": 1.4428792499999998,
            "count": 0
           },
           {
            "bin_start": 1.4428792499999998,
            "bin_end": 1.6267656000000001,
            "count": 1
           },
           {
            "bin_start": 1.6267656000000001,
            "bin_end": 1.81065195,
            "count": 1
           },
           {
            "bin_start": 1.81065195,
            "bin_end": 1.9945382999999999,
            "count": 1
           },
           {
            "bin_start": 1.9945382999999999,
            "bin_end": 2.17842465,
            "count": 0
           },
           {
            "bin_start": 2.17842465,
            "bin_end": 2.362311,
            "count": 1
           }
          ]
         }
        },
        {
         "name": "BOTX-botXcoin",
         "dtype": "float64",
         "stats": {
          "unique_count": 715,
          "nan_count": 0,
          "min": "0.010876",
          "max": "2.67018897",
          "histogram": [
           {
            "bin_start": 0.010876,
            "bin_end": 0.27680729699999995,
            "count": 637
           },
           {
            "bin_start": 0.27680729699999995,
            "bin_end": 0.5427385939999999,
            "count": 13
           },
           {
            "bin_start": 0.5427385939999999,
            "bin_end": 0.8086698909999999,
            "count": 0
           },
           {
            "bin_start": 0.8086698909999999,
            "bin_end": 1.074601188,
            "count": 2
           },
           {
            "bin_start": 1.074601188,
            "bin_end": 1.3405324849999998,
            "count": 1
           },
           {
            "bin_start": 1.3405324849999998,
            "bin_end": 1.6064637819999998,
            "count": 10
           },
           {
            "bin_start": 1.6064637819999998,
            "bin_end": 1.872395079,
            "count": 17
           },
           {
            "bin_start": 1.872395079,
            "bin_end": 2.1383263759999998,
            "count": 33
           },
           {
            "bin_start": 2.1383263759999998,
            "bin_end": 2.4042576729999996,
            "count": 5
           },
           {
            "bin_start": 2.4042576729999996,
            "bin_end": 2.67018897,
            "count": 2
           }
          ]
         }
        },
        {
         "name": "BRD-Bread",
         "dtype": "float64",
         "stats": {
          "unique_count": 720,
          "nan_count": 0,
          "min": "0.050849",
          "max": "0.534368",
          "histogram": [
           {
            "bin_start": 0.050849,
            "bin_end": 0.0992009,
            "count": 157
           },
           {
            "bin_start": 0.0992009,
            "bin_end": 0.14755279999999998,
            "count": 227
           },
           {
            "bin_start": 0.14755279999999998,
            "bin_end": 0.1959047,
            "count": 66
           },
           {
            "bin_start": 0.1959047,
            "bin_end": 0.2442566,
            "count": 87
           },
           {
            "bin_start": 0.2442566,
            "bin_end": 0.2926085,
            "count": 89
           },
           {
            "bin_start": 0.2926085,
            "bin_end": 0.34096039999999994,
            "count": 48
           },
           {
            "bin_start": 0.34096039999999994,
            "bin_end": 0.38931229999999994,
            "count": 24
           },
           {
            "bin_start": 0.38931229999999994,
            "bin_end": 0.43766419999999995,
            "count": 8
           },
           {
            "bin_start": 0.43766419999999995,
            "bin_end": 0.48601609999999995,
            "count": 8
           },
           {
            "bin_start": 0.48601609999999995,
            "bin_end": 0.534368,
            "count": 6
           }
          ]
         }
        },
        {
         "name": "C20-CRYPTO20",
         "dtype": "float64",
         "stats": {
          "unique_count": 720,
          "nan_count": 0,
          "min": "0.261756",
          "max": "6.26084217",
          "histogram": [
           {
            "bin_start": 0.261756,
            "bin_end": 0.861664617,
            "count": 432
           },
           {
            "bin_start": 0.861664617,
            "bin_end": 1.4615732339999998,
            "count": 52
           },
           {
            "bin_start": 1.4615732339999998,
            "bin_end": 2.061481851,
            "count": 19
           },
           {
            "bin_start": 2.061481851,
            "bin_end": 2.661390468,
            "count": 35
           },
           {
            "bin_start": 2.661390468,
            "bin_end": 3.261299085,
            "count": 70
           },
           {
            "bin_start": 3.261299085,
            "bin_end": 3.8612077019999997,
            "count": 42
           },
           {
            "bin_start": 3.8612077019999997,
            "bin_end": 4.461116319,
            "count": 32
           },
           {
            "bin_start": 4.461116319,
            "bin_end": 5.061024936,
            "count": 25
           },
           {
            "bin_start": 5.061024936,
            "bin_end": 5.660933553,
            "count": 9
           },
           {
            "bin_start": 5.660933553,
            "bin_end": 6.26084217,
            "count": 4
           }
          ]
         }
        },
        {
         "name": "CRPT-Crypterium",
         "dtype": "float64"
        },
        {
         "name": "CTXC-Cortex",
         "dtype": "float64"
        },
        {
         "name": "CVC-Civic",
         "dtype": "float64"
        },
        {
         "name": "DAC-Davinci Coin",
         "dtype": "float64"
        },
        {
         "name": "DGTX-Digitex Futures",
         "dtype": "float64"
        },
        {
         "name": "DRGN-Dragonchain",
         "dtype": "float64"
        },
        {
         "name": "EDO-Eidoo",
         "dtype": "float64"
        },
        {
         "name": "FET-Fetch",
         "dtype": "float64"
        },
        {
         "name": "FUN-FunFair",
         "dtype": "float64"
        },
        {
         "name": "GAS-Gas",
         "dtype": "float64"
        },
        {
         "name": "GBYTE-Obyte",
         "dtype": "float64"
        },
        {
         "name": "GNO-Gnosis",
         "dtype": "float64"
        },
        {
         "name": "GRS-Groestlcoin",
         "dtype": "float64"
        },
        {
         "name": "HYN-Hyperion",
         "dtype": "float64"
        },
        {
         "name": "IOTX-IoTeX",
         "dtype": "float64"
        },
        {
         "name": "ITC-IoT Chain",
         "dtype": "float64"
        },
        {
         "name": "KAN-BitKan",
         "dtype": "float64"
        },
        {
         "name": "LXT-Litex",
         "dtype": "float64"
        },
        {
         "name": "MATIC-Polygon",
         "dtype": "float64"
        },
        {
         "name": "META-Metadium",
         "dtype": "float64"
        },
        {
         "name": "MITH-Mithril",
         "dtype": "float64"
        },
        {
         "name": "MTL-Metal",
         "dtype": "float64"
        },
        {
         "name": "NXT-Nxt",
         "dtype": "float64"
        },
        {
         "name": "POLY-Polymath",
         "dtype": "float64"
        },
        {
         "name": "RLC-iExec RLC",
         "dtype": "float64"
        },
        {
         "name": "SEELE-Seele",
         "dtype": "float64"
        },
        {
         "name": "SKY-Skycoin",
         "dtype": "float64"
        },
        {
         "name": "STORJ-Storj",
         "dtype": "float64"
        },
        {
         "name": "SYS-Syscoin",
         "dtype": "float64"
        },
        {
         "name": "TEL-Telcoin",
         "dtype": "float64"
        },
        {
         "name": "TT-ThunderCore",
         "dtype": "float64"
        },
        {
         "name": "UGAS-Ultrain",
         "dtype": "float64"
        },
        {
         "name": "VTC-Vertcoin",
         "dtype": "float64"
        },
        {
         "name": "ACT-Achain",
         "dtype": "float64"
        },
        {
         "name": "AERGO-Aergo",
         "dtype": "float64"
        },
        {
         "name": "ANKR-Ankr",
         "dtype": "float64"
        },
        {
         "name": "BCV-BitCapitalVendor",
         "dtype": "float64"
        },
        {
         "name": "CND-Cindicator",
         "dtype": "float64"
        },
        {
         "name": "DX-DxChain",
         "dtype": "float64"
        },
        {
         "name": "ETZ-Ether Zero",
         "dtype": "float64"
        },
        {
         "name": "EVX-Everex",
         "dtype": "float64"
        },
        {
         "name": "FOAM-FOAM Token",
         "dtype": "float64"
        },
        {
         "name": "GTO-Gifto",
         "dtype": "float64"
        },
        {
         "name": "HPB-High Performance Blockchain",
         "dtype": "float64"
        },
        {
         "name": "HYC-HYCON",
         "dtype": "float64"
        },
        {
         "name": "ILC-ILCoin",
         "dtype": "float64"
        },
        {
         "name": "INT-Internet Node Token",
         "dtype": "float64"
        },
        {
         "name": "IQ-Everipedia",
         "dtype": "float64"
        },
        {
         "name": "IRIS-IRIS Network",
         "dtype": "float64"
        },
        {
         "name": "LBA-Cred",
         "dtype": "float64"
        },
        {
         "name": "LTO-LTO Network",
         "dtype": "float64"
        },
        {
         "name": "MDA-Moeda Loyalty Points",
         "dtype": "float64"
        },
        {
         "name": "MFT-Mainframe",
         "dtype": "float64"
        },
        {
         "name": "MHC-#MetaHash",
         "dtype": "float64"
        },
        {
         "name": "MTC-Docademic",
         "dtype": "float64"
        },
        {
         "name": "NEBL-Neblio",
         "dtype": "float64"
        },
        {
         "name": "NKN-NKN",
         "dtype": "float64"
        },
        {
         "name": "NXS-Nexus",
         "dtype": "float64"
        },
        {
         "name": "OCN-Odyssey",
         "dtype": "float64"
        },
        {
         "name": "OGO-Origo",
         "dtype": "float64"
        },
        {
         "name": "PAY-TenX",
         "dtype": "float64"
        },
        {
         "name": "QRL-Quantum Resistant Ledger",
         "dtype": "float64"
        },
        {
         "name": "RUFF-RuffChain",
         "dtype": "float64"
        },
        {
         "name": "TOP-Top Network",
         "dtype": "float64"
        },
        {
         "name": "UTK-UTRUST",
         "dtype": "float64"
        },
        {
         "name": "ADX-AdEx",
         "dtype": "float64"
        },
        {
         "name": "AEON-Aeon",
         "dtype": "float64"
        },
        {
         "name": "ARRR-Pirate Chain",
         "dtype": "float64"
        },
        {
         "name": "BLOCK-Blocknet",
         "dtype": "float64"
        },
        {
         "name": "BTR-Bitrue Coin",
         "dtype": "float64"
        },
        {
         "name": "BURST-Burst",
         "dtype": "float64"
        },
        {
         "name": "DATA-Streamr DATAcoin",
         "dtype": "float64"
        },
        {
         "name": "DCN-Dentacoin",
         "dtype": "float64"
        },
        {
         "name": "DUSK-Dusk Network",
         "dtype": "float64"
        },
        {
         "name": "EVN-Envion",
         "dtype": "float64"
        },
        {
         "name": "FLUX-Flux",
         "dtype": "float64"
        },
        {
         "name": "GO-GoChain",
         "dtype": "float64"
        },
        {
         "name": "KIN-Kin",
         "dtype": "float64"
        },
        {
         "name": "MAN-Matrix AI Network",
         "dtype": "float64"
        },
        {
         "name": "MOC-Mossland",
         "dtype": "float64"
        },
        {
         "name": "NCASH-Nucleus Vision",
         "dtype": "float64"
        },
        {
         "name": "OST-Simple Token",
         "dtype": "float64"
        },
        {
         "name": "PLR-Pillar",
         "dtype": "float64"
        },
        {
         "name": "PMA-PumaPay",
         "dtype": "float64"
        },
        {
         "name": "POE-Po.et",
         "dtype": "float64"
        },
        {
         "name": "PPC-Peercoin",
         "dtype": "float64"
        },
        {
         "name": "PZM-PRIZM",
         "dtype": "float64"
        },
        {
         "name": "RCN-Ripio Credit Network",
         "dtype": "float64"
        },
        {
         "name": "RDN-Raiden Network Token",
         "dtype": "float64"
        },
        {
         "name": "REQ-Request Network",
         "dtype": "float64"
        },
        {
         "name": "RSR-Reserve Rights",
         "dtype": "float64"
        },
        {
         "name": "SALT-SALT",
         "dtype": "float64"
        },
        {
         "name": "TCT-TokenClub",
         "dtype": "float64"
        },
        {
         "name": "TKY-Thekey",
         "dtype": "float64"
        },
        {
         "name": "TNB-Time New Bank",
         "dtype": "float64"
        },
        {
         "name": "TPAY-TokenPay",
         "dtype": "float64"
        },
        {
         "name": "TRIO-Tripio",
         "dtype": "float64"
        },
        {
         "name": "VITE-VITE",
         "dtype": "float64"
        },
        {
         "name": "WGR-Wagerr",
         "dtype": "float64"
        },
        {
         "name": "BLZ-Bluzelle",
         "dtype": "float64"
        },
        {
         "name": "CDT-Blox",
         "dtype": "float64"
        },
        {
         "name": "CS-Credits",
         "dtype": "float64"
        },
        {
         "name": "DBC-DeepBrain Wallet",
         "dtype": "float64"
        },
        {
         "name": "DERO-Dero",
         "dtype": "float64"
        },
        {
         "name": "DMT-DMarket",
         "dtype": "float64"
        },
        {
         "name": "DTA-DATA",
         "dtype": "float64"
        },
        {
         "name": "EDR-Endor",
         "dtype": "float64"
        },
        {
         "name": "FLO-FlorinCoin",
         "dtype": "float64"
        },
        {
         "name": "GUSD-Gemini Dollar",
         "dtype": "float64"
        },
        {
         "name": "GVT-Genesis Vision",
         "dtype": "float64"
        },
        {
         "name": "KCASH-Kcash",
         "dtype": "float64"
        },
        {
         "name": "LOC-LockTrip",
         "dtype": "float64"
        },
        {
         "name": "MBL-MovieBloc",
         "dtype": "float64"
        },
        {
         "name": "NAV-Nav Coin",
         "dtype": "float64"
        },
        {
         "name": "NMR-Numeraire",
         "dtype": "float64"
        },
        {
         "name": "OAX-OAX",
         "dtype": "float64"
        },
        {
         "name": "PRO-Propy",
         "dtype": "float64"
        },
        {
         "name": "QSP-Quantstamp",
         "dtype": "float64"
        },
        {
         "name": "SBD-Steem Backed Dollars",
         "dtype": "float64"
        },
        {
         "name": "SMART-SmartCash",
         "dtype": "float64"
        },
        {
         "name": "SMT-SmartMesh",
         "dtype": "float64"
        },
        {
         "name": "SOC-All Sports",
         "dtype": "float64"
        },
        {
         "name": "VIA-Viacoin",
         "dtype": "float64"
        },
        {
         "name": "WABI-Tael",
         "dtype": "float64"
        },
        {
         "name": "AOG-smARTOFGIVING",
         "dtype": "float64"
        },
        {
         "name": "AST-AirSwap",
         "dtype": "float64"
        },
        {
         "name": "BTX-Bitcore",
         "dtype": "float64"
        },
        {
         "name": "CNN-Content Neutrality Network",
         "dtype": "float64"
        },
        {
         "name": "DNT-district0x",
         "dtype": "float64"
        },
        {
         "name": "DVPN-Sentinel",
         "dtype": "float64"
        },
        {
         "name": "GNX-Genaro Network",
         "dtype": "float64"
        },
        {
         "name": "GTC-Game.com",
         "dtype": "float64"
        },
        {
         "name": "KEY-Selfkey",
         "dtype": "float64"
        },
        {
         "name": "LCC-Litecoin Cash",
         "dtype": "float64"
        },
        {
         "name": "LYM-Lympo",
         "dtype": "float64"
        },
        {
         "name": "MDS-MediShares",
         "dtype": "float64"
        },
        {
         "name": "MED-MediBloc",
         "dtype": "float64"
        },
        {
         "name": "MLN-Enzyme",
         "dtype": "float64"
        },
        {
         "name": "MTH-Monetha",
         "dtype": "float64"
        },
        {
         "name": "MTV-MultiVAC",
         "dtype": "float64"
        },
        {
         "name": "MWAT-Restart Energy MWAT",
         "dtype": "float64"
        },
        {
         "name": "NIX-NIX",
         "dtype": "float64"
        },
        {
         "name": "PHX-Red Pulse Phoenix",
         "dtype": "float64"
        },
        {
         "name": "RFR-Refereum",
         "dtype": "float64"
        },
        {
         "name": "S4F-S4FE",
         "dtype": "float64"
        },
        {
         "name": "SNGLS-SingularDTV",
         "dtype": "float64"
        },
        {
         "name": "SRN-SIRIN LABS Token",
         "dtype": "float64"
        },
        {
         "name": "SWFTC-SwftCoin",
         "dtype": "float64"
        },
        {
         "name": "UPP-Sentinel Protocol",
         "dtype": "float64"
        },
        {
         "name": "VIBE-VIBE",
         "dtype": "float64"
        },
        {
         "name": "VIDT-VIDT Datalink",
         "dtype": "float64"
        },
        {
         "name": "XDN-DigitalNote",
         "dtype": "float64"
        },
        {
         "name": "XYO-XYO",
         "dtype": "float64"
        },
        {
         "name": "APPC-AppCoins",
         "dtype": "float64"
        },
        {
         "name": "AVA-Travala.com",
         "dtype": "float64"
        },
        {
         "name": "BCPT-BlockMason Credit Protocol",
         "dtype": "float64"
        },
        {
         "name": "CPC-CPChain",
         "dtype": "float64"
        },
        {
         "name": "CVT-CyberVein",
         "dtype": "float64"
        },
        {
         "name": "DAG-Constellation",
         "dtype": "float64"
        },
        {
         "name": "DGX-Digix Gold Token",
         "dtype": "float64"
        },
        {
         "name": "DLT-Agrello",
         "dtype": "float64"
        },
        {
         "name": "GSC-Global Social Chain",
         "dtype": "float64"
        },
        {
         "name": "LBC-LBRY Credits",
         "dtype": "float64"
        },
        {
         "name": "LEND-Aave (Old)",
         "dtype": "float64"
        },
        {
         "name": "MER-Mercury",
         "dtype": "float64"
        },
        {
         "name": "MITX-Morpheus Labs",
         "dtype": "float64"
        },
        {
         "name": "MVL-Mass Vehicle Ledger",
         "dtype": "float64"
        },
        {
         "name": "MVP-Merculet",
         "dtype": "float64"
        },
        {
         "name": "MXC-Machine Exchange Coin",
         "dtype": "float64"
        },
        {
         "name": "NLG-Gulden",
         "dtype": "float64"
        },
        {
         "name": "PI-Plian",
         "dtype": "float64"
        },
        {
         "name": "POA-POA Network",
         "dtype": "float64"
        },
        {
         "name": "QLC-QLC Chain",
         "dtype": "float64"
        },
        {
         "name": "SKM-Skrumble",
         "dtype": "float64"
        },
        {
         "name": "SSP-Smartshare",
         "dtype": "float64"
        },
        {
         "name": "STPT-STP Network",
         "dtype": "float64"
        },
        {
         "name": "SWM-Swarm Fund Token",
         "dtype": "float64"
        },
        {
         "name": "UBQ-Ubiq",
         "dtype": "float64"
        },
        {
         "name": "VEIL-Veil",
         "dtype": "float64"
        },
        {
         "name": "VEX-Vexanium",
         "dtype": "float64"
        },
        {
         "name": "VIB-Viberate",
         "dtype": "float64"
        },
        {
         "name": "YOYOW-YOYOW",
         "dtype": "float64"
        },
        {
         "name": "ABL-Airbloc",
         "dtype": "float64"
        },
        {
         "name": "ABYSS-The Abyss",
         "dtype": "float64"
        },
        {
         "name": "ADS-AdShares",
         "dtype": "float64"
        },
        {
         "name": "AMB-Ambrosus",
         "dtype": "float64"
        },
        {
         "name": "BOMB-BOMB",
         "dtype": "float64"
        },
        {
         "name": "BTU-BTU Protocol",
         "dtype": "float64"
        },
        {
         "name": "COVA-COVA",
         "dtype": "float64"
        },
        {
         "name": "DOCK-Dock",
         "dtype": "float64"
        },
        {
         "name": "FTC-Feathercoin",
         "dtype": "float64"
        },
        {
         "name": "FTI-FansTime",
         "dtype": "float64"
        },
        {
         "name": "GAME-GameCredits",
         "dtype": "float64"
        },
        {
         "name": "NIM-Nimiq",
         "dtype": "float64"
        },
        {
         "name": "PRE-Presearch",
         "dtype": "float64"
        },
        {
         "name": "SINS-SafeInsure",
         "dtype": "float64"
        },
        {
         "name": "SUB-Substratum",
         "dtype": "float64"
        },
        {
         "name": "TRTL-TurtleCoin",
         "dtype": "float64"
        },
        {
         "name": "TUBE-BitTube",
         "dtype": "float64"
        },
        {
         "name": "UNO2-Unobtanium",
         "dtype": "float64"
        },
        {
         "name": "BAAS-BaaSid",
         "dtype": "float64"
        },
        {
         "name": "BAX-BABB",
         "dtype": "float64"
        },
        {
         "name": "BLK-BlackCoin",
         "dtype": "float64"
        },
        {
         "name": "CAS-Cashaa",
         "dtype": "float64"
        },
        {
         "name": "CHSB-SwissBorg",
         "dtype": "float64"
        },
        {
         "name": "CLO-Callisto Network",
         "dtype": "float64"
        },
        {
         "name": "COV-Covesting",
         "dtype": "float64"
        },
        {
         "name": "CSP-Caspian",
         "dtype": "float64"
        },
        {
         "name": "LUN-Lunyr",
         "dtype": "float64"
        },
        {
         "name": "MDT-Measurable Data",
         "dtype": "float64"
        },
        {
         "name": "NSD-Nasdacoin",
         "dtype": "float64"
        },
        {
         "name": "PAC-PAC Protocol",
         "dtype": "float64"
        },
        {
         "name": "PHR-Phore",
         "dtype": "float64"
        },
        {
         "name": "POLIS-Polis",
         "dtype": "float64"
        },
        {
         "name": "REM-Remme",
         "dtype": "float64"
        },
        {
         "name": "SNC-SunContract",
         "dtype": "float64"
        },
        {
         "name": "XPM-Primecoin",
         "dtype": "float64"
        },
        {
         "name": "ZCN-0chain",
         "dtype": "float64"
        },
        {
         "name": "EDN-Eden",
         "dtype": "float64"
        },
        {
         "name": "GET-GET Protocol",
         "dtype": "float64"
        },
        {
         "name": "HTML-HTMLCOIN",
         "dtype": "float64"
        },
        {
         "name": "KAT-Kambria",
         "dtype": "float64"
        },
        {
         "name": "KICK-KickToken",
         "dtype": "float64"
        },
        {
         "name": "NCT-PolySwarm",
         "dtype": "float64"
        },
        {
         "name": "RPD-Rapids",
         "dtype": "float64"
        },
        {
         "name": "XAUR-Xaurum",
         "dtype": "float64"
        },
        {
         "name": "AXPR-aXpire",
         "dtype": "float64"
        },
        {
         "name": "CHAT-ChatCoin",
         "dtype": "float64"
        },
        {
         "name": "CRW-Crown",
         "dtype": "float64"
        },
        {
         "name": "CV-carVertical",
         "dtype": "float64"
        },
        {
         "name": "CXO-CargoX",
         "dtype": "float64"
        },
        {
         "name": "DAX-DAEX",
         "dtype": "float64"
        },
        {
         "name": "FDZ-Friendz",
         "dtype": "float64"
        },
        {
         "name": "HMQ-Humaniq",
         "dtype": "float64"
        },
        {
         "name": "MUE-MonetaryUnit",
         "dtype": "float64"
        },
        {
         "name": "UBT-Unibright",
         "dtype": "float64"
        },
        {
         "name": "UT-Ulord",
         "dtype": "float64"
        },
        {
         "name": "VRC-VeriCoin",
         "dtype": "float64"
        },
        {
         "name": "XDC-XinFin Network",
         "dtype": "float64"
        },
        {
         "name": "XHV-Haven Protocol",
         "dtype": "float64"
        },
        {
         "name": "XMY-Myriad",
         "dtype": "float64"
        },
        {
         "name": "AIDOC-AI Doctor",
         "dtype": "float64"
        },
        {
         "name": "BANCA-Banca",
         "dtype": "float64"
        },
        {
         "name": "BIR-Birake",
         "dtype": "float64"
        },
        {
         "name": "CURE-Curecoin",
         "dtype": "float64"
        },
        {
         "name": "EKO-EchoLink",
         "dtype": "float64"
        },
        {
         "name": "MTN-Medicalchain",
         "dtype": "float64"
        },
        {
         "name": "NYC-NewYorkCoin",
         "dtype": "float64"
        },
        {
         "name": "SOUL-Phantasma",
         "dtype": "float64"
        },
        {
         "name": "TIME-Chrono.tech",
         "dtype": "float64"
        },
        {
         "name": "UBEX-Ubex",
         "dtype": "float64"
        },
        {
         "name": "YEE-YEE",
         "dtype": "float64"
        },
        {
         "name": "ZAP-Zap Protocol",
         "dtype": "float64"
        },
        {
         "name": "AVT-Aventus",
         "dtype": "float64"
        },
        {
         "name": "CAPP-Cappasity",
         "dtype": "float64"
        },
        {
         "name": "CMCT-Crowd Machine",
         "dtype": "float64"
        },
        {
         "name": "DAV-DAV Network",
         "dtype": "float64"
        },
        {
         "name": "MSR-Masari",
         "dtype": "float64"
        },
        {
         "name": "NCC-NeuroChain",
         "dtype": "float64"
        },
        {
         "name": "OK-OKCash",
         "dtype": "float64"
        },
        {
         "name": "OLT-OneLedger",
         "dtype": "float64"
        },
        {
         "name": "PRIX-Privatix",
         "dtype": "float64"
        },
        {
         "name": "SIB-SIBCoin",
         "dtype": "float64"
        },
        {
         "name": "TRTT-Trittium",
         "dtype": "float64"
        },
        {
         "name": "YOC-Yocoin",
         "dtype": "float64"
        },
        {
         "name": "BTCZ-BitcoinZ",
         "dtype": "float64"
        },
        {
         "name": "DAGT-Digital Asset Guarantee Token",
         "dtype": "float64"
        },
        {
         "name": "DATX-DATx",
         "dtype": "float64"
        },
        {
         "name": "DEV-DeviantCoin",
         "dtype": "float64"
        },
        {
         "name": "DYN-Dynamic",
         "dtype": "float64"
        },
        {
         "name": "PINK-PinkCoin",
         "dtype": "float64"
        },
        {
         "name": "RTE-Rate3",
         "dtype": "float64"
        },
        {
         "name": "STK-STK",
         "dtype": "float64"
        },
        {
         "name": "STX-Stacks",
         "dtype": "float64"
        },
        {
         "name": "AAC-Acute Angle Cloud",
         "dtype": "float64"
        },
        {
         "name": "ADB-adbank",
         "dtype": "float64"
        },
        {
         "name": "COFI-CoinFi",
         "dtype": "float64"
        },
        {
         "name": "FLOT-Fire Lotto",
         "dtype": "float64"
        },
        {
         "name": "GBX-GoByte",
         "dtype": "float64"
        },
        {
         "name": "GXX-GravityCoin",
         "dtype": "float64"
        },
        {
         "name": "INXT-Internxt",
         "dtype": "float64"
        },
        {
         "name": "KRB-Karbo",
         "dtype": "float64"
        },
        {
         "name": "KRL-Kryll",
         "dtype": "float64"
        },
        {
         "name": "RYO-Ryo Currency",
         "dtype": "float64"
        },
        {
         "name": "SEND-Social Send",
         "dtype": "float64"
        },
        {
         "name": "ZCR-ZCore",
         "dtype": "float64"
        },
        {
         "name": "ZER-Zero",
         "dtype": "float64"
        },
        {
         "name": "AUX-Auxilium",
         "dtype": "float64"
        },
        {
         "name": "EVC-EventChain",
         "dtype": "float64"
        },
        {
         "name": "MTX-Matryx",
         "dtype": "float64"
        },
        {
         "name": "PKT-Playkey",
         "dtype": "float64"
        },
        {
         "name": "PLU-Pluton",
         "dtype": "float64"
        },
        {
         "name": "TCC-The ChampCoin",
         "dtype": "float64"
        },
        {
         "name": "XCASH-X-CASH",
         "dtype": "float64"
        },
        {
         "name": "ACM-Actinium",
         "dtype": "float64"
        },
        {
         "name": "EGEM-EtherGem",
         "dtype": "float64"
        },
        {
         "name": "ELY-Elysian",
         "dtype": "float64"
        },
        {
         "name": "ETHO-Ether-1",
         "dtype": "float64"
        },
        {
         "name": "MONK-Monkey Project",
         "dtype": "float64"
        },
        {
         "name": "SUMO-Sumokoin",
         "dtype": "float64"
        },
        {
         "name": "AMM-MicroMoney",
         "dtype": "float64"
        },
        {
         "name": "APR-APR Coin",
         "dtype": "float64"
        },
        {
         "name": "SCRIV-SCRIV NETWORK",
         "dtype": "float64"
        },
        {
         "name": "TELOS-Teloscoin",
         "dtype": "float64"
        },
        {
         "name": "TNS-Transcodium",
         "dtype": "float64"
        },
        {
         "name": "BTCN-BitcoiNote",
         "dtype": "float64"
        },
        {
         "name": "CYL-Crystal Token",
         "dtype": "float64"
        },
        {
         "name": "JOINT-Joint Ventures",
         "dtype": "float64"
        },
        {
         "name": "MMO-MMOCoin",
         "dtype": "float64"
        },
        {
         "name": "PNY-Peony",
         "dtype": "float64"
        },
        {
         "name": "TCH-Thore Cash",
         "dtype": "float64"
        },
        {
         "name": "COLX-ColossusXT",
         "dtype": "float64"
        },
        {
         "name": "FLASH-Flash",
         "dtype": "float64"
        },
        {
         "name": "HVN-Hiveterminal Token",
         "dtype": "float64"
        },
        {
         "name": "IOC-I/O Coin",
         "dtype": "float64"
        },
        {
         "name": "PYN-PAYCENT",
         "dtype": "float64"
        },
        {
         "name": "TRC-Terracoin",
         "dtype": "float64"
        },
        {
         "name": "LOG-Woodcoin",
         "dtype": "float64"
        },
        {
         "name": "FYP-FlypMe",
         "dtype": "float64"
        },
        {
         "name": "BRO-Bitradio",
         "dtype": "float64"
        },
        {
         "name": "CREA-CREA",
         "dtype": "float64"
        },
        {
         "name": "CRM-Cream",
         "dtype": "float64"
        },
        {
         "name": "XDNA-XDNA",
         "dtype": "float64"
        },
        {
         "name": "ARION-Arion",
         "dtype": "float64"
        },
        {
         "name": "BOLI-Bolivarcoin",
         "dtype": "float64"
        },
        {
         "name": "CCO-Ccore",
         "dtype": "float64"
        },
        {
         "name": "LCP-Litecoin Plus",
         "dtype": "float64"
        },
        {
         "name": "MXT-MarteXcoin",
         "dtype": "float64"
        },
        {
         "name": "DRM-Dreamcoin",
         "dtype": "float64"
        },
        {
         "name": "EMD-Emerald Crypto",
         "dtype": "float64"
        },
        {
         "name": "SCRT-Secret",
         "dtype": "float64"
        },
        {
         "name": "YTN-YENTEN",
         "dtype": "float64"
        },
        {
         "name": "MAR-Mchain",
         "dtype": "float64"
        },
        {
         "name": "ATP-Atlas Protocol",
         "dtype": "float64"
        },
        {
         "name": "BKBT-BeeKan",
         "dtype": "float64"
        },
        {
         "name": "BTMX-BitMax Token",
         "dtype": "float64"
        },
        {
         "name": "DACC-DACC",
         "dtype": "float64"
        },
        {
         "name": "EDU-EduCoin",
         "dtype": "float64"
        },
        {
         "name": "FOX-SmartFox",
         "dtype": "float64"
        },
        {
         "name": "HPT-Huobi Pool Token",
         "dtype": "float64"
        },
        {
         "name": "LUNA-Terra",
         "dtype": "float64"
        },
        {
         "name": "MOF-Molecular Future",
         "dtype": "float64"
        },
        {
         "name": "RBTC-RSK Smart Bitcoin",
         "dtype": "float64"
        },
        {
         "name": "SHE-ShineChain",
         "dtype": "float64"
        },
        {
         "name": "VOLT-Bitvolt",
         "dtype": "float64"
        },
        {
         "name": "ADK-Aidos Kuneen",
         "dtype": "float64"
        },
        {
         "name": "ADM-ADAMANT Messenger",
         "dtype": "float64"
        },
        {
         "name": "BUT-BitUP Token",
         "dtype": "float64"
        },
        {
         "name": "HDAC-Hdac",
         "dtype": "float64"
        },
        {
         "name": "IIC-Intelligent Investment Chain",
         "dtype": "float64"
        },
        {
         "name": "LEMO-LemoChain",
         "dtype": "float64"
        },
        {
         "name": "MEET-CoinMeet",
         "dtype": "float64"
        },
        {
         "name": "PC-PromotionChain",
         "dtype": "float64"
        },
        {
         "name": "TOPC-TopChain",
         "dtype": "float64"
        },
        {
         "name": "UC-YouLive Coin",
         "dtype": "float64"
        },
        {
         "name": "UIP-UnlimitedIP",
         "dtype": "float64"
        },
        {
         "name": "VDG-VeriDocGlobal",
         "dtype": "float64"
        },
        {
         "name": "VTHO-VeThor Token",
         "dtype": "float64"
        },
        {
         "name": "XUC-Exchange Union",
         "dtype": "float64"
        },
        {
         "name": "YCC-Yuan Chain",
         "dtype": "float64"
        },
        {
         "name": "BNK-Bankera",
         "dtype": "float64"
        },
        {
         "name": "CEL-Celsius",
         "dtype": "float64"
        },
        {
         "name": "_deepnote_index_column",
         "dtype": "datetime64[ns]"
        }
       ],
       "rows_top": [
        {
         "ADA-Cardano": 0.039054,
         "ATOM-Cosmos": 2.29914,
         "BAT-Basic Attention Token": 0.161281,
         "BCD-Bitcoin Diamond": 0.477745,
         "BCH-Bitcoin Cash": 228.211684,
         "BNB-Binance Coin": 16.102139,
         "BSV-Bitcoin SV": 86.676224,
         "BTC-Bitcoin": 8464.917221,
         "BTG-Bitcoin Gold": 7.770585,
         "BTT-BitTorrent": 0.000459,
         "CRO-Crypto.com Chain": 0.034651,
         "DASH-Dash": 72.774043,
         "DCR-Decred": 17.450705,
         "DOGE-Dogecoin": 0.002185,
         "EGT-Egretia": 0.002065,
         "EOS-EOS": 2.872385,
         "ETC-Ethereum Classic": 4.829163,
         "ETH-Ethereum": 170.723219,
         "HOT-Holo": 0.000733,
         "HT-Huobi Token": 3.263241,
         "KCS-KuCoin Shares": 1.184351,
         "LINK-Chainlink": 1.755381,
         "LSK-Lisk": 0.890297,
         "LTC-Litecoin": 57.486005,
         "MIOTA-IOTA": 0.261999,
         "MKR-Maker": 451.417189,
         "NANO-Nano": 0.756618,
         "NEO-NEO": 7.480018,
         "NPXS-Pundi X": 0.000274,
         "OMG-OMG Network": 0.821915,
         "ONT-Ontology": 0.624895,
         "PAX-Paxos Standard": 1.004453,
         "QTUM-Qtum": 1.648271,
         "RVN-Ravencoin": 0.026616,
         "TRX-TRON": 0.01321,
         "TUSD-TrueUSD": 1.004071,
         "USDC-USD Coin": 1.003924,
         "USDT-Tether": 1.003915,
         "VET-VeChain Thor": 0.003423,
         "VSYS-V Systems": 0.080309,
         "WAVES-Waves": 0.861689,
         "XEM-NEM": 0.040745,
         "XLM-Stellar": 0.057192,
         "XMR-Monero": 59.832312,
         "XRP-XRP": 0.245451,
         "XTZ-Tezos": 0.852813,
         "ZEC-Zcash": 37.7952,
         "ZRX-0x": 0.213016,
         "ABBC-ABBC Coin": 0.173929,
         "AE-Aeternity": 0.154927,
         "AOA-Aurora": 0.007024,
         "ARDR-Ardor": 0.052515,
         "BCN-Bytecoin": 0.000423,
         "BTM-Bytom": 0.057407,
         "BTS-BitShares": 0.026208,
         "DAI-Dai": 1.007145,
         "DGB-DigiByte": 0.007659,
         "EKT-EDUCare": 0.158335,
         "ELF-aelf": 0.071755,
         "ENJ-Enjin Coin": 0.056308,
         "ETP-Metaverse ETP": 0.715147,
         "GNT-Golem": 0.046785,
         "GXC-GXChain": 0.331321,
         "HC-HyperCash": 1.626647,
         "ICX-ICON": 0.16903,
         "IOST-IOStoken": 0.004764,
         "KMD-Komodo": 0.574852,
         "LAMB-Lambda": 0.114204,
         "MAID-MaidSafeCoin": 0.161005,
         "MCO-Crypto.com": 2.910034,
         "MONA-MonaCoin": 1.081229,
         "NEX-Nash Exchange": 1.38273,
         "NEXO-Nexo": 0.091254,
         "NRG-Energi": 3.349326,
         "PAI-Project Pai": 0.016618,
         "QNT-Quant": 7.003625,
         "REN-REN": 0.038652,
         "RIF-RIF Token": 0.102835,
         "SC-Siacoin": 0.001571,
         "SNT-Status": 0.012478,
         "SOLVE-SOLVE": 0.094555,
         "STEEM-Steem": 0.134695,
         "STRAX-Stratis": 0.287056,
         "THETA-Theta Token": 0.083968,
         "UUU-U Network": 0.000639,
         "XMX-XMAX": 0.001777,
         "XVG-Verge": 0.003315,
         "XZC-Zcoin": 4.438929,
         "ZIL-Zilliqa": 0.005006,
         "AION-Aion": 0.065985,
         "ARK-Ark": 0.167855,
         "BEAM-BEAM": 0.943982,
         "BIX-Bibox Token": 0.151501,
         "BNT-Bancor": 0.323405,
         "CELR-Celer Network": 0.004572,
         "CMT-CyberMiles": 0.016609,
         "DENT-Dent": 0.000356,
         "DGD-DigixDAO": 11.699323,
         "ELA-Elastos": 2.041104,
         "ENG-Enigma": 0.293707,
         "ETN-Electroneum": 0.003943,
         "FSN-Fusion": 0.465569,
         "FTM-Fantom": 0.011513,
         "FX-Function X": "nan",
         "GRIN-Grin": 1.42578,
         "IGNIS-Ignis": 0.022364,
         "KNC-Kyber Network": 0.167606,
         "LA-LAToken": 0.069936,
         "LOOM-Loom Network": 0.029718,
         "LRC-Loopring": 0.033478,
         "MANA-Decentraland": 0.027354,
         "NAS-Nebulas": 0.46008,
         "NEW-Newton": 0.002794,
         "NULS-Nuls": 0.339785,
         "ONE-Harmony": 0.005432,
         "ORBS-Orbs": 0.013374,
         "PIVX-PIVX": 0.189934,
         "POWR-Power Ledger": 0.051574,
         "PPT-Populous": 0.341072,
         "QASH-QASH": 0.07674,
         "QKC-QuarkChain": 0.006032,
         "RDD-ReddCoin": 0.001101,
         "SNX-Synthetix Network Token": 0.41676,
         "TFUEL-Theta Fuel": 0.003399,
         "TOMO-TomoChain": 0.297369,
         "TRUE-TrueChain": 0.237875,
         "VERI-Veritaseum": 12.241649,
         "WAN-Wanchain": 0.200961,
         "WICC-WaykiChain": 0.116779,
         "ZEN-Horizen": 3.497886,
         "ABT-Arcblock": 0.15372,
         "ANT-Aragon": 0.684015,
         "APL-Apollo Coin": 0.000461,
         "BFT-BnkToTheFuture": 0.014623,
         "BHP-Blockchain of Hash Power": 1.099284,
         "BOTX-botXcoin": 0.011863,
         "BRD-Bread": 0.184406,
         "C20-CRYPTO20": 0.419962,
         "CRPT-Crypterium": 0.499445,
         "CTXC-Cortex": 0.065431,
         "CVC-Civic": 0.036998,
         "DAC-Davinci Coin": 0.003748,
         "DGTX-Digitex Futures": 0.034462,
         "DRGN-Dragonchain": 0.031091,
         "EDO-Eidoo": 0.298286,
         "FET-Fetch": 0.038272,
         "FUN-FunFair": 0.002894,
         "GAS-Gas": 1.096128,
         "GBYTE-Obyte": 21.097816,
         "GNO-Gnosis": 14.26054,
         "GRS-Groestlcoin": 0.177056,
         "HYN-Hyperion": 0.053801,
         "IOTX-IoTeX": 0.003588,
         "ITC-IoT Chain": 0.123904,
         "KAN-BitKan": 0.002581,
         "LXT-Litex": 0.01366,
         "MATIC-Polygon": 0.01108,
         "META-Metadium": 0.006012,
         "MITH-Mithril": 0.01299,
         "MTL-Metal": 0.232311,
         "NXT-Nxt": 0.012885,
         "POLY-Polymath": 0.025783,
         "RLC-iExec RLC": 0.192826,
         "SEELE-Seele": 0.030737,
         "SKY-Skycoin": 0.517052,
         "STORJ-Storj": 0.123864,
         "SYS-Syscoin": 0.021629,
         "TEL-Telcoin": 0.000446,
         "TT-ThunderCore": 0.003284,
         "UGAS-Ultrain": 0.071024,
         "VTC-Vertcoin": 0.225279,
         "ACT-Achain": 0.009082,
         "AERGO-Aergo": 0.046552,
         "ANKR-Ankr": 0.002447,
         "BCV-BitCapitalVendor": 0.048949,
         "CND-Cindicator": 0.007534,
         "DX-DxChain": 0.000438,
         "ETZ-Ether Zero": 0.088226,
         "EVX-Everex": 0.322446,
         "FOAM-FOAM Token": 0.021592,
         "GTO-Gifto": 0.013775,
         "HPB-High Performance Blockchain": 0.248454,
         "HYC-HYCON": 0.004827,
         "ILC-ILCoin": 0.035538,
         "INT-Internet Node Token": 0.020904,
         "IQ-Everipedia": 0.001791,
         "IRIS-IRIS Network": 0.019567,
         "LBA-Cred": 0.010895,
         "LTO-LTO Network": 0.036044,
         "MDA-Moeda Loyalty Points": 0.569833,
         "MFT-Mainframe": 0.000802,
         "MHC-#MetaHash": 0.004661,
         "MTC-Docademic": 0.008041,
         "NEBL-Neblio": 0.366943,
         "NKN-NKN": 0.019409,
         "NXS-Nexus": 0.18507,
         "OCN-Odyssey": 0.00072,
         "OGO-Origo": 0.026026,
         "PAY-TenX": 0.124552,
         "QRL-Quantum Resistant Ledger": 0.123373,
         "RUFF-RuffChain": 0.008316,
         "TOP-Top Network": 0.002369,
         "UTK-UTRUST": 0.016787,
         "ADX-AdEx": 0.062242,
         "AEON-Aeon": 0.320608,
         "ARRR-Pirate Chain": 0.028909,
         "BLOCK-Blocknet": 0.8935,
         "BTR-Bitrue Coin": 0.077248,
         "BURST-Burst": 0.004657,
         "DATA-Streamr DATAcoin": 0.010562,
         "DCN-Dentacoin": 0.000021,
         "DUSK-Dusk Network": 0.062949,
         "EVN-Envion": 0.017813,
         "FLUX-Flux": 0.062211,
         "GO-GoChain": 0.008533,
         "KIN-Kin": 0.00001,
         "MAN-Matrix AI Network": 0.059898,
         "MOC-Mossland": 0.014227,
         "NCASH-Nucleus Vision": 0.00088,
         "OST-Simple Token": 0.010803,
         "PLR-Pillar": 0.02178,
         "PMA-PumaPay": 0.000239,
         "POE-Po.et": 0.00246,
         "PPC-Peercoin": 0.26275,
         "PZM-PRIZM": 0.369424,
         "RCN-Ripio Credit Network": 0.042963,
         "RDN-Raiden Network Token": 0.14097,
         "REQ-Request Network": 0.009494,
         "RSR-Reserve Rights": 0.002127,
         "SALT-SALT": 0.087437,
         "TCT-TokenClub": 0.011793,
         "TKY-Thekey": 0.001323,
         "TNB-Time New Bank": 0.002884,
         "TPAY-TokenPay": "nan",
         "TRIO-Tripio": 0.002677,
         "VITE-VITE": 0.012358,
         "WGR-Wagerr": 0.034082,
         "BLZ-Bluzelle": 0.026672,
         "CDT-Blox": 0.009984,
         "CS-Credits": 0.079742,
         "DBC-DeepBrain Wallet": 0.001634,
         "DERO-Dero": 0.435927,
         "DMT-DMarket": 0.052328,
         "DTA-DATA": 0.000392,
         "EDR-Endor": 0.00336,
         "FLO-FlorinCoin": 0.056564,
         "GUSD-Gemini Dollar": 1.010161,
         "GVT-Genesis Vision": 1.002682,
         "KCASH-Kcash": 0.007291,
         "LOC-LockTrip": 0.414881,
         "MBL-MovieBloc": 0.001448,
         "NAV-Nav Coin": 0.095178,
         "NMR-Numeraire": 4.63365,
         "OAX-OAX": 0.061052,
         "PRO-Propy": 0.116256,
         "QSP-Quantstamp": 0.009897,
         "SBD-Steem Backed Dollars": 0.642289,
         "SMART-SmartCash": 0.002651,
         "SMT-SmartMesh": 0.003546,
         "SOC-All Sports": 0.004617,
         "VIA-Viacoin": 0.179894,
         "WABI-Tael": 0.107203,
         "AOG-smARTOFGIVING": 0.004742,
         "AST-AirSwap": 0.023691,
         "BTX-Bitcore": 0.170707,
         "CNN-Content Neutrality Network": 0.000089,
         "DNT-district0x": 0.006175,
         "DVPN-Sentinel": 0.001585,
         "GNX-Genaro Network": 0.012867,
         "GTC-Game.com": 0.003946,
         "KEY-Selfkey": 0.001195,
         "LCC-Litecoin Cash": 0.018026,
         "LYM-Lympo": 0.004879,
         "MDS-MediShares": 0.00381,
         "MED-MediBloc": 0.003338,
         "MLN-Enzyme": 3.373948,
         "MTH-Monetha": 0.01338,
         "MTV-MultiVAC": 0.002356,
         "MWAT-Restart Energy MWAT": 0.014482,
         "NIX-NIX": 0.10399,
         "PHX-Red Pulse Phoenix": 0.005258,
         "RFR-Refereum": 0.000769,
         "S4F-S4FE": 0.005843,
         "SNGLS-SingularDTV": 0.007704,
         "SRN-SIRIN LABS Token": 0.007757,
         "SWFTC-SwftCoin": 0.001115,
         "UPP-Sentinel Protocol": 0.008458,
         "VIBE-VIBE": 0.014666,
         "VIDT-VIDT Datalink": 0.103394,
         "XDN-DigitalNote": 0.000676,
         "XYO-XYO": 0.000437,
         "APPC-AppCoins": 0.030726,
         "AVA-Travala.com": 0.09011,
         "BCPT-BlockMason Credit Protocol": 0.027959,
         "CPC-CPChain": 0.00747,
         "CVT-CyberVein": 0.003895,
         "DAG-Constellation": 0.010664,
         "DGX-Digix Gold Token": 46.02717,
         "DLT-Agrello": 0.039628,
         "GSC-Global Social Chain": 0.004621,
         "LBC-LBRY Credits": 0.010096,
         "LEND-Aave (Old)": 0.003994,
         "MER-Mercury": 0.002794,
         "MITX-Morpheus Labs": 0.010262,
         "MVL-Mass Vehicle Ledger": 0.000431,
         "MVP-Merculet": 0.000639,
         "MXC-Machine Exchange Coin": 0.002515,
         "NLG-Gulden": 0.009738,
         "PI-Plian": 0.005504,
         "POA-POA Network": 0.01296,
         "QLC-QLC Chain": 0.013458,
         "SKM-Skrumble": 0.002517,
         "SSP-Smartshare": 0.000538,
         "STPT-STP Network": 0.008088,
         "SWM-Swarm Fund Token": 0.03369,
         "UBQ-Ubiq": 0.088063,
         "VEIL-Veil": 0.076209,
         "VEX-Vexanium": 0.004018,
         "VIB-Viberate": 0.015894,
         "YOYOW-YOYOW": 0.012967,
         "ABL-Airbloc": 0.007561,
         "ABYSS-The Abyss": 0.009926,
         "ADS-AdShares": 0.070281,
         "AMB-Ambrosus": 0.015623,
         "BOMB-BOMB": 1.062105,
         "BTU-BTU Protocol": 0.247254,
         "COVA-COVA": 0.00045,
         "DOCK-Dock": 0.009654,
         "FTC-Feathercoin": 0.011389,
         "FTI-FansTime": 0.000509,
         "GAME-GameCredits": 0.031232,
         "NIM-Nimiq": 0.000548,
         "PRE-Presearch": 0.004457,
         "SINS-SafeInsure": 0.226763,
         "SUB-Substratum": 0.006648,
         "TRTL-TurtleCoin": 0.000023,
         "TUBE-BitTube": 0.012786,
         "UNO2-Unobtanium": 79.586671,
         "BAAS-BaaSid": 0.000567,
         "BAX-BABB": 0.000051,
         "BLK-BlackCoin": 0.045556,
         "CAS-Cashaa": "nan",
         "CHSB-SwissBorg": 0.009504,
         "CLO-Callisto Network": 0.000849,
         "COV-Covesting": 0.092043,
         "CSP-Caspian": 0.005137,
         "LUN-Lunyr": 0.862207,
         "MDT-Measurable Data": 0.013625,
         "NSD-Nasdacoin": 0.050616,
         "PAC-PAC Protocol": 0.000245,
         "PHR-Phore": 0.084848,
         "POLIS-Polis": 0.583747,
         "REM-Remme": 0.002823,
         "SNC-SunContract": 0.022733,
         "XPM-Primecoin": 0.091366,
         "ZCN-0chain": 0.049029,
         "EDN-Eden": 0.002201,
         "GET-GET Protocol": 0.003829,
         "HTML-HTMLCOIN": 0.000041,
         "KAT-Kambria": 0.000931,
         "KICK-KickToken": 0.000541,
         "NCT-PolySwarm": 0.001356,
         "RPD-Rapids": 0.000085,
         "XAUR-Xaurum": 0.02525,
         "AXPR-aXpire": 0.005594,
         "CHAT-ChatCoin": 0.002696,
         "CRW-Crown": 0.044701,
         "CV-carVertical": 0.000218,
         "CXO-CargoX": 0.007523,
         "DAX-DAEX": 0.004494,
         "FDZ-Friendz": 0.003141,
         "HMQ-Humaniq": 0.005397,
         "MUE-MonetaryUnit": 0.005758,
         "UBT-Unibright": 0.012962,
         "UT-Ulord": 0.013217,
         "VRC-VeriCoin": 0.039036,
         "XDC-XinFin Network": 0.001276,
         "XHV-Haven Protocol": 0.082475,
         "XMY-Myriad": 0.000931,
         "AIDOC-AI Doctor": 0.003277,
         "BANCA-Banca": 0.000028,
         "BIR-Birake": 0.005222,
         "CURE-Curecoin": 0.034124,
         "EKO-EchoLink": 0.003344,
         "MTN-Medicalchain": 0.004666,
         "NYC-NewYorkCoin": 0.000005,
         "SOUL-Phantasma": 0.068241,
         "TIME-Chrono.tech": 1.170032,
         "UBEX-Ubex": 0.000603,
         "YEE-YEE": 0.001141,
         "ZAP-Zap Protocol": 0.002448,
         "AVT-Aventus": 0.111898,
         "CAPP-Cappasity": 0.001366,
         "CMCT-Crowd Machine": 0.000508,
         "DAV-DAV Network": 0.000306,
         "MSR-Masari": 0.043185,
         "NCC-NeuroChain": 0.003022,
         "OK-OKCash": 0.030357,
         "OLT-OneLedger": 0.006257,
         "PRIX-Privatix": 0.283242,
         "SIB-SIBCoin": 0.045132,
         "TRTT-Trittium": 0.003556,
         "YOC-Yocoin": 0.000213,
         "BTCZ-BitcoinZ": 0.000086,
         "DAGT-Digital Asset Guarantee Token": 0.052249,
         "DATX-DATx": 0.000597,
         "DEV-DeviantCoin": 0.005081,
         "DYN-Dynamic": "nan",
         "PINK-PinkCoin": 0.001439,
         "RTE-Rate3": 0.001378,
         "STK-STK": 0.002968,
         "STX-Stacks": 0.013021,
         "AAC-Acute Angle Cloud": 0.002735,
         "ADB-adbank": 0.000405,
         "COFI-CoinFi": 0.004412,
         "FLOT-Fire Lotto": 0.001725,
         "GBX-GoByte": 0.021149,
         "GXX-GravityCoin": 0.037889,
         "INXT-Internxt": 1.582343,
         "KRB-Karbo": 0.058105,
         "KRL-Kryll": 0.056919,
         "RYO-Ryo Currency": 0.018737,
         "SEND-Social Send": 0.003074,
         "ZCR-ZCore": 0.049366,
         "ZER-Zero": 0.039895,
         "AUX-Auxilium": 0.001279,
         "EVC-EventChain": 0.002537,
         "MTX-Matryx": 0.031697,
         "PKT-Playkey": 0.023584,
         "PLU-Pluton": 0.808345,
         "TCC-The ChampCoin": 0.001387,
         "XCASH-X-CASH": 0.000042,
         "ACM-Actinium": 0.03636,
         "EGEM-EtherGem": 0.006884,
         "ELY-Elysian": 0.001116,
         "ETHO-Ether-1": 0.006314,
         "MONK-Monkey Project": 0.023117,
         "SUMO-Sumokoin": 0.027702,
         "AMM-MicroMoney": 0.003572,
         "APR-APR Coin": 0.00584,
         "SCRIV-SCRIV NETWORK": 0.000657,
         "TELOS-Teloscoin": 0.004024,
         "TNS-Transcodium": 0.003267,
         "BTCN-BitcoiNote": 0.007621,
         "CYL-Crystal Token": 0.009239,
         "JOINT-Joint Ventures": 0.001791,
         "MMO-MMOCoin": 0.001649,
         "PNY-Peony": 0.028094,
         "TCH-Thore Cash": 0.001027,
         "COLX-ColossusXT": 0.00019,
         "FLASH-Flash": 0.002035,
         "HVN-Hiveterminal Token": 0.002206,
         "IOC-I/O Coin": 0.137768,
         "PYN-PAYCENT": 0.036868,
         "TRC-Terracoin": 0.022581,
         "LOG-Woodcoin": 0.243359,
         "FYP-FlypMe": 0.020842,
         "BRO-Bitradio": 0.011008,
         "CREA-CREA": 0.034717,
         "CRM-Cream": 0.000855,
         "XDNA-XDNA": 0.003387,
         "ARION-Arion": 0.00177,
         "BOLI-Bolivarcoin": 0.001943,
         "CCO-Ccore": 0.009895,
         "LCP-Litecoin Plus": 0.025403,
         "MXT-MarteXcoin": 0.006466,
         "DRM-Dreamcoin": 0.012024,
         "EMD-Emerald Crypto": 0.006207,
         "SCRT-Secret": "nan",
         "YTN-YENTEN": 0.000924,
         "MAR-Mchain": 0.00322,
         "ATP-Atlas Protocol": 0.007704,
         "BKBT-BeeKan": 0.000466,
         "BTMX-BitMax Token": 0.067826,
         "DACC-DACC": 0.000078,
         "EDU-EduCoin": 0.000151,
         "FOX-SmartFox": "nan",
         "HPT-Huobi Pool Token": 0.007054,
         "LUNA-Terra": 0.83248,
         "MOF-Molecular Future": 0.527517,
         "RBTC-RSK Smart Bitcoin": 8478.186856,
         "SHE-ShineChain": 0.000776,
         "VOLT-Bitvolt": "nan",
         "ADK-Aidos Kuneen": 4.251622,
         "ADM-ADAMANT Messenger": "nan",
         "BUT-BitUP Token": 0.003055,
         "HDAC-Hdac": 0.03133,
         "IIC-Intelligent Investment Chain": 0.000184,
         "LEMO-LemoChain": 0.004017,
         "MEET-CoinMeet": 0.007351,
         "PC-PromotionChain": 0.000322,
         "TOPC-TopChain": 0.008374,
         "UC-YouLive Coin": 0.000341,
         "UIP-UnlimitedIP": 0.011553,
         "VDG-VeriDocGlobal": 0.000304,
         "VTHO-VeThor Token": 0.000511,
         "XUC-Exchange Union": 1.202399,
         "YCC-Yuan Chain": 0.007383,
         "BNK-Bankera": 0.001302,
         "CEL-Celsius": 0.061734,
         "_deepnote_index_column": "2019-09-25T00:00:00.000000"
        }
       ],
       "rows_bottom": [
        {
         "ADA-Cardano": 2.39445664,
         "ATOM-Cosmos": 35.29048492,
         "BAT-Basic Attention Token": 0.73186497,
         "BCD-Bitcoin Diamond": 2.02885829,
         "BCH-Bitcoin Cash": 612.45073321,
         "BNB-Binance Coin": 394.30885443,
         "BSV-Bitcoin SV": 148.66981167,
         "BTC-Bitcoin": 44216.63804288,
         "BTG-Bitcoin Gold": 64.15523981,
         "BTT-BitTorrent": 0.0038511379,
         "CRO-Crypto.com Chain": 0.16867199,
         "DASH-Dash": 192.60732651,
         "DCR-Decred": 134.62641407,
         "DOGE-Dogecoin": 0.23426139,
         "EGT-Egretia": 0.0025991117,
         "EOS-EOS": 4.58336772,
         "ETC-Ethereum Classic": 54.75347646,
         "ETH-Ethereum": 3198.01503764,
         "HOT-Holo": 0.0094789123,
         "HT-Huobi Token": 13.83302939,
         "KCS-KuCoin Shares": 11.16187581,
         "LINK-Chainlink": 26.15962572,
         "LSK-Lisk": 3.33236973,
         "LTC-Litecoin": 179.22456477,
         "MIOTA-IOTA": 1.35894165,
         "MKR-Maker": 2717.05043445,
         "NANO-Nano": 5.26841591,
         "NEO-NEO": 47.00944381,
         "NPXS-Pundi X": 0.0013535569,
         "OMG-OMG Network": 8.38760815,
         "ONT-Ontology": 0.92789255,
         "PAX-Paxos Standard": 1.00180402,
         "QTUM-Qtum": 12.22258597,
         "RVN-Ravencoin": 0.11266556,
         "TRX-TRON": 0.10275171,
         "TUSD-TrueUSD": 1.00235157,
         "USDC-USD Coin": 1.00305013,
         "USDT-Tether": 1.0066149,
         "VET-VeChain Thor": 0.11148353,
         "VSYS-V Systems": 0.019169204,
         "WAVES-Waves": 29.46426051,
         "XEM-NEM": 0.17283874,
         "XLM-Stellar": 0.31477384,
         "XMR-Monero": 250.44310024,
         "XRP-XRP": 1.04107168,
         "XTZ-Tezos": 6.85397349,
         "ZEC-Zcash": 125.33743448,
         "ZRX-0x": 0.96390855,
         "ABBC-ABBC Coin": 0.13556404,
         "AE-Aeternity": 0.12467141,
         "AOA-Aurora": 0.0015421106,
         "ARDR-Ardor": 0.32156785,
         "BCN-Bytecoin": 0.00076198039,
         "BTM-Bytom": 0.049097687,
         "BTS-BitShares": 0.044604295,
         "DAI-Dai": 1.00275144,
         "DGB-DigiByte": 0.054006424,
         "EKT-EDUCare": 0.0064541455,
         "ELF-aelf": 0.71176654,
         "ENJ-Enjin Coin": 1.58133778,
         "ETP-Metaverse ETP": 0.18288064,
         "GNT-Golem": 0.42618566,
         "GXC-GXChain": 0.64638499,
         "HC-HyperCash": 0.77620592,
         "ICX-ICON": 1.57561837,
         "IOST-IOStoken": 0.064236474,
         "KMD-Komodo": 1.06517752,
         "LAMB-Lambda": 0.014918228,
         "MAID-MaidSafeCoin": 0.45476575,
         "MCO-Crypto.com": 8.08188768,
         "MONA-MonaCoin": 1.46340161,
         "NEX-Nash Exchange": 0.74617653,
         "NEXO-Nexo": 1.47502048,
         "NRG-Energi": 1.65835437,
         "PAI-Project Pai": 0.020409148,
         "QNT-Quant": 335.98692151,
         "REN-REN": 0.66170714,
         "RIF-RIF Token": 0.21900279,
         "SC-Siacoin": 0.017720703,
         "SNT-Status": 0.089042203,
         "SOLVE-SOLVE": 0.07503189,
         "STEEM-Steem": 0.57996623,
         "STRAX-Stratis": 2.42155418,
         "THETA-Theta Token": 5.97103561,
         "UUU-U Network": 0.00063649437,
         "XMX-XMAX": 0.00045869861,
         "XVG-Verge": 0.022735172,
         "XZC-Zcoin": 6.84426276,
         "ZIL-Zilliqa": 0.099267124,
         "AION-Aion": 0.16715529,
         "ARK-Ark": 1.49967745,
         "BEAM-BEAM": 0.65911166,
         "BIX-Bibox Token": 0.072766985,
         "BNT-Bancor": 3.82978243,
         "CELR-Celer Network": 0.075918602,
         "CMT-CyberMiles": 0.012445381,
         "DENT-Dent": 0.0045962461,
         "DGD-DigixDAO": 619.64875091,
         "ELA-Elastos": 3.8866367,
         "ENG-Enigma": 0.10157397,
         "ETN-Electroneum": 0.01915893,
         "FSN-Fusion": 0.62168624,
         "FTM-Fantom": 1.28335466,
         "FX-Function X": 0.70683194,
         "GRIN-Grin": 0.30408849,
         "IGNIS-Ignis": 0.026139416,
         "KNC-Kyber Network": 1.74612608,
         "LA-LAToken": 0.10868836,
         "LOOM-Loom Network": 0.097707137,
         "LRC-Loopring": 0.43288948,
         "MANA-Decentraland": 0.79518002,
         "NAS-Nebulas": 0.41822467,
         "NEW-Newton": 0.00057600273,
         "NULS-Nuls": 0.51147618,
         "ONE-Harmony": 0.18457015,
         "ORBS-Orbs": 0.13028806,
         "PIVX-PIVX": 0.74320185,
         "POWR-Power Ledger": 0.36762766,
         "PPT-Populous": 2.10045318,
         "QASH-QASH": 0.068378304,
         "QKC-QuarkChain": 0.022950826,
         "RDD-ReddCoin": 0.0024141438,
         "SNX-Synthetix Network Token": 10.66280813,
         "TFUEL-Theta Fuel": 0.29394827,
         "TOMO-TomoChain": 2.14140426,
         "TRUE-TrueChain": 0.14191056,
         "VERI-Veritaseum": 18.56322903,
         "WAN-Wanchain": 0.87783636,
         "WICC-WaykiChain": 0.15449295,
         "ZEN-Horizen": 78.03005176,
         "ABT-Arcblock": 0.16323149,
         "ANT-Aragon": 5.42493515,
         "APL-Apollo Coin": 0.0027755321,
         "BFT-BnkToTheFuture": 0.018467039,
         "BHP-Blockchain of Hash Power": 0.54005116,
         "BOTX-botXcoin": 1.61923535,
         "BRD-Bread": 0.17265544,
         "C20-CRYPTO20": 4.53204547,
         "CRPT-Crypterium": 0.15463082,
         "CTXC-Cortex": 0.19888607,
         "CVC-Civic": 0.48391301,
         "DAC-Davinci Coin": 0.001830465,
         "DGTX-Digitex Futures": 0.0026338951,
         "DRGN-Dragonchain": 0.12882729,
         "EDO-Eidoo": 0.99378943,
         "FET-Fetch": 0.86698894,
         "FUN-FunFair": 0.020122224,
         "GAS-Gas": 9.37795947,
         "GBYTE-Obyte": 25.33579629,
         "GNO-Gnosis": 222.20664991,
         "GRS-Groestlcoin": 0.89740091,
         "HYN-Hyperion": 0.087166929,
         "IOTX-IoTeX": 0.060571806,
         "ITC-IoT Chain": 0.075941946,
         "KAN-BitKan": 0.0038803066,
         "LXT-Litex": 0.0026829771,
         "MATIC-Polygon": 1.23266981,
         "META-Metadium": 0.10716315,
         "MITH-Mithril": 0.048865698,
         "MTL-Metal": 3.11014694,
         "NXT-Nxt": 0.018433469,
         "POLY-Polymath": 0.71116233,
         "RLC-iExec RLC": 3.78417026,
         "SEELE-Seele": 0.0056310967,
         "SKY-Skycoin": 1.25692354,
         "STORJ-Storj": 1.30615826,
         "SYS-Syscoin": 0.26416163,
         "TEL-Telcoin": 0.01605725,
         "TT-ThunderCore": 0.011986401,
         "UGAS-Ultrain": 0.012999892,
         "VTC-Vertcoin": 0.48877601,
         "ACT-Achain": 0.010777812,
         "AERGO-Aergo": 0.27166264,
         "ANKR-Ankr": 0.09363257,
         "BCV-BitCapitalVendor": 0.001796969,
         "CND-Cindicator": 0.015896607,
         "DX-DxChain": 0.00087055193,
         "ETZ-Ether Zero": 0.2051111,
         "EVX-Everex": 0.52744111,
         "FOAM-FOAM Token": 0.057309611,
         "GTO-Gifto": 0.043034494,
         "HPB-High Performance Blockchain": 0.12543456,
         "HYC-HYCON": 0.00019421922,
         "ILC-ILCoin": 0.0051391626,
         "INT-Internet Node Token": 0.022311526,
         "IQ-Everipedia": 0.016015947,
         "IRIS-IRIS Network": 0.13884871,
         "LBA-Cred": 0.0035167826,
         "LTO-LTO Network": 0.27578101,
         "MDA-Moeda Loyalty Points": 0.75734691,
         "MFT-Mainframe": 0.01157562,
         "MHC-#MetaHash": 0.010149633,
         "MTC-Docademic": 0.0057404413,
         "NEBL-Neblio": 1.24395821,
         "NKN-NKN": 0.35231612,
         "NXS-Nexus": 0.6287991,
         "OCN-Odyssey": 0.00090149769,
         "OGO-Origo": 0.018112659,
         "PAY-TenX": 0.05678838,
         "QRL-Quantum Resistant Ledger": 0.19120085,
         "RUFF-RuffChain": 0.0058331868,
         "TOP-Top Network": 0.0027426273,
         "UTK-UTRUST": 0.35636116,
         "ADX-AdEx": 0.52155135,
         "AEON-Aeon": 0.7010319,
         "ARRR-Pirate Chain": 2.53562132,
         "BLOCK-Blocknet": 1.34484149,
         "BTR-Bitrue Coin": 0.19585799,
         "BURST-Burst": 0.010076625,
         "DATA-Streamr DATAcoin": 0.11754913,
         "DCN-Dentacoin": 0.00002391147,
         "DUSK-Dusk Network": 0.15091059,
         "EVN-Envion": 0.001660632,
         "FLUX-Flux": 0.42504894,
         "GO-GoChain": 0.031212634,
         "KIN-Kin": 0.00009588478,
         "MAN-Matrix AI Network": 0.05275262,
         "MOC-Mossland": 0.15123289,
         "NCASH-Nucleus Vision": 0.0025228791,
         "OST-Simple Token": 0.0087103594,
         "PLR-Pillar": 0.042340615,
         "PMA-PumaPay": 0.00019340871,
         "POE-Po.et": 0.00017184314,
         "PPC-Peercoin": 0.84501221,
         "PZM-PRIZM": 0.0044153893,
         "RCN-Ripio Credit Network": 0.023479921,
         "RDN-Raiden Network Token": 0.4341541,
         "REQ-Request Network": 0.20735285,
         "RSR-Reserve Rights": 0.034279693,
         "SALT-SALT": 0.30111506,
         "TCT-TokenClub": 0.031354216,
         "TKY-Thekey": 0.0008169737,
         "TNB-Time New Bank": 0.0032502891,
         "TPAY-TokenPay": 0.099602038,
         "TRIO-Tripio": 0.00087047624,
         "VITE-VITE": 0.075629618,
         "WGR-Wagerr": 0.034443119,
         "BLZ-Bluzelle": 0.23606315,
         "CDT-Blox": 0.046408851,
         "CS-Credits": 0.026973262,
         "DBC-DeepBrain Wallet": 0.005573139,
         "DERO-Dero": 16.10675767,
         "DMT-DMarket": 0.016303067,
         "DTA-DATA": 0.00058189384,
         "EDR-Endor": 0.001878958,
         "FLO-FlorinCoin": 0.029585351,
         "GUSD-Gemini Dollar": 0.99752523,
         "GVT-Genesis Vision": 3.56746346,
         "KCASH-Kcash": 0.011587944,
         "LOC-LockTrip": 6.40937553,
         "MBL-MovieBloc": 0.0093844619,
         "NAV-Nav Coin": 0.41278709,
         "NMR-Numeraire": 42.71179611,
         "OAX-OAX": 0.18192783,
         "PRO-Propy": 0.66680584,
         "QSP-Quantstamp": 0.050757041,
         "SBD-Steem Backed Dollars": 7.51465143,
         "SMART-SmartCash": 0.0062924771,
         "SMT-SmartMesh": 0.0035157382,
         "SOC-All Sports": 0.026831759,
         "VIA-Viacoin": 0.25524231,
         "WABI-Tael": 0.20656656,
         "AOG-smARTOFGIVING": 0.021185778,
         "AST-AirSwap": 0.33249382,
         "BTX-Bitcore": 0.21961325,
         "CNN-Content Neutrality Network": 0.00004731554,
         "DNT-district0x": 0.16849911,
         "DVPN-Sentinel": 0.007583905,
         "GNX-Genaro Network": 0.020903793,
         "GTC-Game.com": 0.004868342,
         "KEY-Selfkey": 0.0080652112,
         "LCC-Litecoin Cash": 0.010597738,
         "LYM-Lympo": 0.011458596,
         "MDS-MediShares": 0.006288289,
         "MED-MediBloc": 0.13247172,
         "MLN-Enzyme": 101.68774102,
         "MTH-Monetha": 0.028470782,
         "MTV-MultiVAC": 0.015577733,
         "MWAT-Restart Energy MWAT": 0.027745091,
         "NIX-NIX": 0.018426628,
         "PHX-Red Pulse Phoenix": 0.0088314481,
         "RFR-Refereum": 0.014181449,
         "S4F-S4FE": 0.0035297744,
         "SNGLS-SingularDTV": 0.001496,
         "SRN-SIRIN LABS Token": 0.011737279,
         "SWFTC-SwftCoin": 0.0022490132,
         "UPP-Sentinel Protocol": 0.19353405,
         "VIBE-VIBE": 0.0143227,
         "VIDT-VIDT Datalink": 0.95661514,
         "XDN-DigitalNote": 0.0017662896,
         "XYO-XYO": 0.038793936,
         "APPC-AppCoins": 0.075068994,
         "AVA-Travala.com": 3.51306521,
         "BCPT-BlockMason Credit Protocol": 0.0040055847,
         "CPC-CPChain": 0.0058865834,
         "CVT-CyberVein": 0.011243043,
         "DAG-Constellation": 0.2680263,
         "DGX-Digix Gold Token": 51.04618667,
         "DLT-Agrello": 0.094650873,
         "GSC-Global Social Chain": 0.0066671028,
         "LBC-LBRY Credits": 0.042412927,
         "LEND-Aave (Old)": 3.15406241,
         "MER-Mercury": 0.15395847,
         "MITX-Morpheus Labs": 0.05391607,
         "MVL-Mass Vehicle Ledger": 0.014005297,
         "MVP-Merculet": 0.0007663348,
         "MXC-Machine Exchange Coin": 0.032595599,
         "NLG-Gulden": 0.016339759,
         "PI-Plian": 0.0096771172,
         "POA-POA Network": 0.033559503,
         "QLC-QLC Chain": 0.038411913,
         "SKM-Skrumble": 0.0026007292,
         "SSP-Smartshare": 0.00014713469,
         "STPT-STP Network": 0.058247063,
         "SWM-Swarm Fund Token": 0.035454291,
         "UBQ-Ubiq": 0.26628609,
         "VEIL-Veil": 0.0061634995,
         "VEX-Vexanium": 0.0072726534,
         "VIB-Viberate": 0.044516282,
         "YOYOW-YOYOW": 0.020312331,
         "ABL-Airbloc": 0.025292703,
         "ABYSS-The Abyss": 0.036529233,
         "ADS-AdShares": 1.25871693,
         "AMB-Ambrosus": 0.037757045,
         "BOMB-BOMB": 3.72189797,
         "BTU-BTU Protocol": 0.64719432,
         "COVA-COVA": 0.00026900344,
         "DOCK-Dock": 0.10111243,
         "FTC-Feathercoin": 0.023579216,
         "FTI-FansTime": 0.00041518218,
         "GAME-GameCredits": 0.13066307,
         "NIM-Nimiq": 0.0038305663,
         "PRE-Presearch": 0.20702185,
         "SINS-SafeInsure": 0.0080554224,
         "SUB-Substratum": 0.0039858849,
         "TRTL-TurtleCoin": 0.00011028743,
         "TUBE-BitTube": 0.010145466,
         "UNO2-Unobtanium": 33.08303992,
         "BAAS-BaaSid": 0.003217955,
         "BAX-BABB": 0.00059112679,
         "BLK-BlackCoin": 0.084781902,
         "CAS-Cashaa": 0.018613513,
         "CHSB-SwissBorg": 0.69421247,
         "CLO-Callisto Network": 0.0066302928,
         "COV-Covesting": 0.45047494,
         "CSP-Caspian": 0.016237377,
         "LUN-Lunyr": 0.21416262,
         "MDT-Measurable Data": 0.036705419,
         "NSD-Nasdacoin": 0.0067451982,
         "PAC-PAC Protocol": 0.010373996,
         "PHR-Phore": 0.079955808,
         "POLIS-Polis": 0.18471711,
         "REM-Remme": 0.0021740508,
         "SNC-SunContract": 0.030687069,
         "XPM-Primecoin": 0.11083199,
         "ZCN-0chain": 0.463,
         "EDN-Eden": 0.0048153382,
         "GET-GET Protocol": 2.68425481,
         "HTML-HTMLCOIN": 0.00011548104,
         "KAT-Kambria": 0.0035370921,
         "KICK-KickToken": 0.011877095,
         "NCT-PolySwarm": 0.005631504,
         "RPD-Rapids": 0.027692708,
         "XAUR-Xaurum": 0.027348646,
         "AXPR-aXpire": 0.01278076,
         "CHAT-ChatCoin": 0.0024753422,
         "CRW-Crown": 0.060067399,
         "CV-carVertical": 0.00058265681,
         "CXO-CargoX": 0.25533989,
         "DAX-DAEX": 0.010068295,
         "FDZ-Friendz": 0.00067595258,
         "HMQ-Humaniq": 0.0060601307,
         "MUE-MonetaryUnit": 0.0053384187,
         "UBT-Unibright": 3.07966927,
         "UT-Ulord": 0.03098415,
         "VRC-VeriCoin": 0.053384187,
         "XDC-XinFin Network": 0.1181661,
         "XHV-Haven Protocol": 5.66925501,
         "XMY-Myriad": 0.0035280728,
         "AIDOC-AI Doctor": 0.0017260375,
         "BANCA-Banca": 0.000039002918,
         "BIR-Birake": 0.047334916,
         "CURE-Curecoin": 0.082735266,
         "EKO-EchoLink": 0.0017652233,
         "MTN-Medicalchain": 0.0079434699,
         "NYC-NewYorkCoin": 0.000025720861,
         "SOUL-Phantasma": 0.49105497,
         "TIME-Chrono.tech": 33.80105946,
         "UBEX-Ubex": 0.00038588353,
         "YEE-YEE": 0.0014540582,
         "ZAP-Zap Protocol": 0.043595369,
         "AVT-Aventus": 0.39190939,
         "CAPP-Cappasity": 0.00086035918,
         "CMCT-Crowd Machine": 0.000062249705,
         "DAV-DAV Network": 0.0018626402,
         "MSR-Masari": 0.046757363,
         "NCC-NeuroChain": 0.0051159846,
         "OK-OKCash": 0.027282111,
         "OLT-OneLedger": 0.019857723,
         "PRIX-Privatix": 0.058722606,
         "SIB-SIBCoin": 0.032995629,
         "TRTT-Trittium": 0.034845469,
         "YOC-Yocoin": 0.001023203,
         "BTCZ-BitcoinZ": 0.00044598245,
         "DAGT-Digital Asset Guarantee Token": 0.2277702,
         "DATX-DATx": 0.00057027547,
         "DEV-DeviantCoin": 0.0094312064,
         "DYN-Dynamic": 0.48345335,
         "PINK-PinkCoin": 0.0062286715,
         "RTE-Rate3": 0.0010285039,
         "STK-STK": 0.0026425173,
         "STX-Stacks": 1.40322759,
         "AAC-Acute Angle Cloud": 0.0013903768,
         "ADB-adbank": 0.0020177039,
         "COFI-CoinFi": 0.0030963102,
         "FLOT-Fire Lotto": 0.0059100784,
         "GBX-GoByte": 0.078758219,
         "GXX-GravityCoin": 0.0026692094,
         "INXT-Internxt": 1.73550206,
         "KRB-Karbo": 0.15894918,
         "KRL-Kryll": 0.24495027,
         "RYO-Ryo Currency": 0.054276937,
         "SEND-Social Send": 0.0088842511,
         "ZCR-ZCore": 0.009906929,
         "ZER-Zero": 0.19572684,
         "AUX-Auxilium": 0.0082227178,
         "EVC-EventChain": 0.01024908,
         "MTX-Matryx": 0.04927916,
         "PKT-Playkey": 0.015624052,
         "PLU-Pluton": 4.99494982,
         "TCC-The ChampCoin": 0.014486138,
         "XCASH-X-CASH": 0.00015953391,
         "ACM-Actinium": 0.028026657,
         "EGEM-EtherGem": 0.015214493,
         "ELY-Elysian": 0.0031156392,
         "ETHO-Ether-1": 0.082388594,
         "MONK-Monkey Project": 0.044114162,
         "SUMO-Sumokoin": 0.067453714,
         "AMM-MicroMoney": 0.010722943,
         "APR-APR Coin": 0.021814268,
         "SCRIV-SCRIV NETWORK": 0.0013345531,
         "TELOS-Teloscoin": 0.0028983414,
         "TNS-Transcodium": 0.0052676787,
         "BTCN-BitcoiNote": 0.0053384187,
         "CYL-Crystal Token": 0.0064239983,
         "JOINT-Joint Ventures": 0.0023768794,
         "MMO-MMOCoin": 0.0054004811,
         "PNY-Peony": 0.21351642,
         "TCH-Thore Cash": 0.0099443715,
         "COLX-ColossusXT": 0.00030595603,
         "FLASH-Flash": 0.0017795412,
         "HVN-Hiveterminal Token": 0.014873635,
         "IOC-I/O Coin": 0.15659362,
         "PYN-PAYCENT": 0.0026692094,
         "TRC-Terracoin": 0.01172109,
         "LOG-Woodcoin": 0.092915711,
         "FYP-FlypMe": 0.054083431,
         "BRO-Bitradio": 0.0066730234,
         "CREA-CREA": 0.030695908,
         "CRM-Cream": 0.00066831169,
         "XDNA-XDNA": 0.0005582242,
         "ARION-Arion": 0.004003814,
         "BOLI-Bolivarcoin": 0.0062281552,
         "CCO-Ccore": 0.016220596,
         "LCP-Litecoin Plus": 0.033656186,
         "MXT-MarteXcoin": 0.0014569035,
         "DRM-Dreamcoin": 0.038475264,
         "EMD-Emerald Crypto": 0.013324799,
         "SCRT-Secret": 2.10177994,
         "YTN-YENTEN": 0.0022243411,
         "MAR-Mchain": 0.0022243411,
         "ATP-Atlas Protocol": 0.0016380399,
         "BKBT-BeeKan": 0.00079995542,
         "BTMX-BitMax Token": 0.49663911,
         "DACC-DACC": 0.000057817422,
         "EDU-EduCoin": 0.0001191659,
         "FOX-SmartFox": 0.45539161,
         "HPT-Huobi Pool Token": 0.0057830234,
         "LUNA-Terra": 35.98540936,
         "MOF-Molecular Future": 1.52988444,
         "RBTC-RSK Smart Bitcoin": 44375.95797589,
         "SHE-ShineChain": 0.00047009984,
         "VOLT-Bitvolt": 7.0667881e-8,
         "ADK-Aidos Kuneen": 0.55612155,
         "ADM-ADAMANT Messenger": 0.014532978,
         "BUT-BitUP Token": 0.0010659357,
         "HDAC-Hdac": 0.054718792,
         "IIC-Intelligent Investment Chain": 0.0001208642,
         "LEMO-LemoChain": 0.0085100579,
         "MEET-CoinMeet": 0.0055304063,
         "PC-PromotionChain": 0.000065288288,
         "TOPC-TopChain": 0.0021733105,
         "UC-YouLive Coin": 0.00019409759,
         "UIP-UnlimitedIP": 0.0071986586,
         "VDG-VeriDocGlobal": 0.00041755989,
         "VTHO-VeThor Token": 0.009510044,
         "XUC-Exchange Union": 0.12932697,
         "YCC-Yuan Chain": 0.010116424,
         "BNK-Bankera": 0.001007521,
         "CEL-Celsius": 5.29122551,
         "_deepnote_index_column": "2021-09-13T00:00:00.000000"
        }
       ]
      },
      "text/plain": "            ADA-Cardano  ATOM-Cosmos  BAT-Basic Attention Token  \\\ntime                                                              \n2019-09-25     0.039054     2.299140                   0.161281   \n2019-09-26     0.038091     2.224171                   0.152301   \n2019-09-27     0.039157     2.279343                   0.167851   \n2019-09-28     0.038855     2.278325                   0.164482   \n2019-09-29     0.037390     2.201502                   0.158840   \n...                 ...          ...                        ...   \n2021-09-09     2.520531    26.895262                   0.812672   \n2021-09-10     2.389298    29.561298                   0.764776   \n2021-09-11     2.645193    27.411769                   0.775015   \n2021-09-12     2.585176    34.897956                   0.810683   \n2021-09-13     2.394457    35.290485                   0.731865   \n\n            BCD-Bitcoin Diamond  BCH-Bitcoin Cash  BNB-Binance Coin  \\\ntime                                                                  \n2019-09-25             0.477745        228.211684         16.102139   \n2019-09-26             0.401846        214.492623         15.240224   \n2019-09-27             0.445376        220.377650         15.705934   \n2019-09-28             0.434439        227.466114         15.755632   \n2019-09-29             0.391076        218.195478         15.239825   \n...                         ...               ...               ...   \n2021-09-09             2.271634        662.070099        421.882592   \n2021-09-10             2.127259        630.632990        402.879667   \n2021-09-11             2.150092        638.116172        406.102287   \n2021-09-12             2.199197        647.599018        417.011978   \n2021-09-13             2.028858        612.450733        394.308854   \n\n            BSV-Bitcoin SV   BTC-Bitcoin  BTG-Bitcoin Gold  BTT-BitTorrent  \\\ntime                                                                         \n2019-09-25       86.676224   8464.917221          7.770585        0.000459   \n2019-09-26       83.459686   8075.227289          7.606122        0.000429   \n2019-09-27       84.767013   8185.655469          7.642106        0.000436   \n2019-09-28       84.828018   8223.120452          7.717349        0.000442   \n2019-09-29       82.742076   8061.324161          7.312555        0.000424   \n...                    ...           ...               ...             ...   \n2021-09-09      155.927984  46415.265094         70.158289        0.004120   \n2021-09-10      151.699189  44957.294816         66.611428        0.003892   \n2021-09-11      154.394610  45304.506965         66.544032        0.003927   \n2021-09-12      155.207713  46086.559503         67.461782        0.004195   \n2021-09-13      148.669812  44216.638043         64.155240        0.003851   \n\n            ...  SIL-Sister In Law  SPE-SavePlanetEarth  SRX-StorX Token  \\\ntime        ...                                                            \n2019-09-25  ...                NaN                  NaN              NaN   \n2019-09-26  ...                NaN                  NaN              NaN   \n2019-09-27  ...                NaN                  NaN              NaN   \n2019-09-28  ...                NaN                  NaN              NaN   \n2019-09-29  ...                NaN                  NaN              NaN   \n...         ...                ...                  ...              ...   \n2021-09-09  ...         152.174823         3.649990e-08         3.819998   \n2021-09-10  ...         150.794554         3.163438e-08         3.591870   \n2021-09-11  ...         148.807197         3.130292e-08         3.682633   \n2021-09-12  ...         145.540981         3.040710e-08         3.883709   \n2021-09-13  ...         138.861180         2.995830e-08         3.775149   \n\n            STACK2-StackOS  UFO2-The Truth  VPP-Virtue Poker  WAIV-Waiv  \\\ntime                                                                      \n2019-09-25             NaN             NaN               NaN        NaN   \n2019-09-26             NaN             NaN               NaN        NaN   \n2019-09-27             NaN             NaN               NaN        NaN   \n2019-09-28             NaN             NaN               NaN        NaN   \n2019-09-29             NaN             NaN               NaN        NaN   \n...                    ...             ...               ...        ...   \n2021-09-09        0.021284        0.000003          0.598414   0.000890   \n2021-09-10        0.025927        0.000002          0.539502   0.000787   \n2021-09-11        0.025497        0.000002          0.550957   0.000648   \n2021-09-12        0.028814        0.000002          0.524200   0.000688   \n2021-09-13        0.028787        0.000003          0.506788   0.000629   \n\n            WEYU-WEYU  WOOF-Shibance Token  ZENC-Zenccoin  \ntime                                                       \n2019-09-25        NaN                  NaN            NaN  \n2019-09-26        NaN                  NaN            NaN  \n2019-09-27        NaN                  NaN            NaN  \n2019-09-28        NaN                  NaN            NaN  \n2019-09-29        NaN                  NaN            NaN  \n...               ...                  ...            ...  \n2021-09-09   0.034044             0.012179       0.009995  \n2021-09-10   0.025910             0.008653       0.010042  \n2021-09-11   0.031462             0.008531       0.009939  \n2021-09-12   0.031794             0.007788       0.009992  \n2021-09-13   0.029031             0.004481       0.006094  \n\n[720 rows x 1112 columns]",
      "text/html": "<div>\n<style scoped>\n    .dataframe tbody tr th:only-of-type {\n        vertical-align: middle;\n    }\n\n    .dataframe tbody tr th {\n        vertical-align: top;\n    }\n\n    .dataframe thead th {\n        text-align: right;\n    }\n</style>\n<table border=\"1\" class=\"dataframe\">\n  <thead>\n    <tr style=\"text-align: right;\">\n      <th></th>\n      <th>ADA-Cardano</th>\n      <th>ATOM-Cosmos</th>\n      <th>BAT-Basic Attention Token</th>\n      <th>BCD-Bitcoin Diamond</th>\n      <th>BCH-Bitcoin Cash</th>\n      <th>BNB-Binance Coin</th>\n      <th>BSV-Bitcoin SV</th>\n      <th>BTC-Bitcoin</th>\n      <th>BTG-Bitcoin Gold</th>\n      <th>BTT-BitTorrent</th>\n      <th>...</th>\n      <th>SIL-Sister In Law</th>\n      <th>SPE-SavePlanetEarth</th>\n      <th>SRX-StorX Token</th>\n      <th>STACK2-StackOS</th>\n      <th>UFO2-The Truth</th>\n      <th>VPP-Virtue Poker</th>\n      <th>WAIV-Waiv</th>\n      <th>WEYU-WEYU</th>\n      <th>WOOF-Shibance Token</th>\n      <th>ZENC-Zenccoin</th>\n    </tr>\n    <tr>\n      <th>time</th>\n      <th></th>\n      <th></th>\n      <th></th>\n      <th></th>\n      <th></th>\n      <th></th>\n      <th></th>\n      <th></th>\n      <th></th>\n      <th></th>\n      <th></th>\n      <th></th>\n      <th></th>\n      <th></th>\n      <th></th>\n      <th></th>\n      <th></th>\n      <th></th>\n      <th></th>\n      <th></th>\n      <th></th>\n    </tr>\n  </thead>\n  <tbody>\n    <tr>\n      <th>2019-09-25</th>\n      <td>0.039054</td>\n      <td>2.299140</td>\n      <td>0.161281</td>\n      <td>0.477745</td>\n      <td>228.211684</td>\n      <td>16.102139</td>\n      <td>86.676224</td>\n      <td>8464.917221</td>\n      <td>7.770585</td>\n      <td>0.000459</td>\n      <td>...</td>\n      <td>NaN</td>\n      <td>NaN</td>\n      <td>NaN</td>\n      <td>NaN</td>\n      <td>NaN</td>\n      <td>NaN</td>\n      <td>NaN</td>\n      <td>NaN</td>\n      <td>NaN</td>\n      <td>NaN</td>\n    </tr>\n    <tr>\n      <th>2019-09-26</th>\n      <td>0.038091</td>\n      <td>2.224171</td>\n      <td>0.152301</td>\n      <td>0.401846</td>\n      <td>214.492623</td>\n      <td>15.240224</td>\n      <td>83.459686</td>\n      <td>8075.227289</td>\n      <td>7.606122</td>\n      <td>0.000429</td>\n      <td>...</td>\n      <td>NaN</td>\n      <td>NaN</td>\n      <td>NaN</td>\n      <td>NaN</td>\n      <td>NaN</td>\n      <td>NaN</td>\n      <td>NaN</td>\n      <td>NaN</td>\n      <td>NaN</td>\n      <td>NaN</td>\n    </tr>\n    <tr>\n      <th>2019-09-27</th>\n      <td>0.039157</td>\n      <td>2.279343</td>\n      <td>0.167851</td>\n      <td>0.445376</td>\n      <td>220.377650</td>\n      <td>15.705934</td>\n      <td>84.767013</td>\n      <td>8185.655469</td>\n      <td>7.642106</td>\n      <td>0.000436</td>\n      <td>...</td>\n      <td>NaN</td>\n      <td>NaN</td>\n      <td>NaN</td>\n      <td>NaN</td>\n      <td>NaN</td>\n      <td>NaN</td>\n      <td>NaN</td>\n      <td>NaN</td>\n      <td>NaN</td>\n      <td>NaN</td>\n    </tr>\n    <tr>\n      <th>2019-09-28</th>\n      <td>0.038855</td>\n      <td>2.278325</td>\n      <td>0.164482</td>\n      <td>0.434439</td>\n      <td>227.466114</td>\n      <td>15.755632</td>\n      <td>84.828018</td>\n      <td>8223.120452</td>\n      <td>7.717349</td>\n      <td>0.000442</td>\n      <td>...</td>\n      <td>NaN</td>\n      <td>NaN</td>\n      <td>NaN</td>\n      <td>NaN</td>\n      <td>NaN</td>\n      <td>NaN</td>\n      <td>NaN</td>\n      <td>NaN</td>\n      <td>NaN</td>\n      <td>NaN</td>\n    </tr>\n    <tr>\n      <th>2019-09-29</th>\n      <td>0.037390</td>\n      <td>2.201502</td>\n      <td>0.158840</td>\n      <td>0.391076</td>\n      <td>218.195478</td>\n      <td>15.239825</td>\n      <td>82.742076</td>\n      <td>8061.324161</td>\n      <td>7.312555</td>\n      <td>0.000424</td>\n      <td>...</td>\n      <td>NaN</td>\n      <td>NaN</td>\n      <td>NaN</td>\n      <td>NaN</td>\n      <td>NaN</td>\n      <td>NaN</td>\n      <td>NaN</td>\n      <td>NaN</td>\n      <td>NaN</td>\n      <td>NaN</td>\n    </tr>\n    <tr>\n      <th>...</th>\n      <td>...</td>\n      <td>...</td>\n      <td>...</td>\n      <td>...</td>\n      <td>...</td>\n      <td>...</td>\n      <td>...</td>\n      <td>...</td>\n      <td>...</td>\n      <td>...</td>\n      <td>...</td>\n      <td>...</td>\n      <td>...</td>\n      <td>...</td>\n      <td>...</td>\n      <td>...</td>\n      <td>...</td>\n      <td>...</td>\n      <td>...</td>\n      <td>...</td>\n      <td>...</td>\n    </tr>\n    <tr>\n      <th>2021-09-09</th>\n      <td>2.520531</td>\n      <td>26.895262</td>\n      <td>0.812672</td>\n      <td>2.271634</td>\n      <td>662.070099</td>\n      <td>421.882592</td>\n      <td>155.927984</td>\n      <td>46415.265094</td>\n      <td>70.158289</td>\n      <td>0.004120</td>\n      <td>...</td>\n      <td>152.174823</td>\n      <td>3.649990e-08</td>\n      <td>3.819998</td>\n      <td>0.021284</td>\n      <td>0.000003</td>\n      <td>0.598414</td>\n      <td>0.000890</td>\n      <td>0.034044</td>\n      <td>0.012179</td>\n      <td>0.009995</td>\n    </tr>\n    <tr>\n      <th>2021-09-10</th>\n      <td>2.389298</td>\n      <td>29.561298</td>\n      <td>0.764776</td>\n      <td>2.127259</td>\n      <td>630.632990</td>\n      <td>402.879667</td>\n      <td>151.699189</td>\n      <td>44957.294816</td>\n      <td>66.611428</td>\n      <td>0.003892</td>\n      <td>...</td>\n      <td>150.794554</td>\n      <td>3.163438e-08</td>\n      <td>3.591870</td>\n      <td>0.025927</td>\n      <td>0.000002</td>\n      <td>0.539502</td>\n      <td>0.000787</td>\n      <td>0.025910</td>\n      <td>0.008653</td>\n      <td>0.010042</td>\n    </tr>\n    <tr>\n      <th>2021-09-11</th>\n      <td>2.645193</td>\n      <td>27.411769</td>\n      <td>0.775015</td>\n      <td>2.150092</td>\n      <td>638.116172</td>\n      <td>406.102287</td>\n      <td>154.394610</td>\n      <td>45304.506965</td>\n      <td>66.544032</td>\n      <td>0.003927</td>\n      <td>...</td>\n      <td>148.807197</td>\n      <td>3.130292e-08</td>\n      <td>3.682633</td>\n      <td>0.025497</td>\n      <td>0.000002</td>\n      <td>0.550957</td>\n      <td>0.000648</td>\n      <td>0.031462</td>\n      <td>0.008531</td>\n      <td>0.009939</td>\n    </tr>\n    <tr>\n      <th>2021-09-12</th>\n      <td>2.585176</td>\n      <td>34.897956</td>\n      <td>0.810683</td>\n      <td>2.199197</td>\n      <td>647.599018</td>\n      <td>417.011978</td>\n      <td>155.207713</td>\n      <td>46086.559503</td>\n      <td>67.461782</td>\n      <td>0.004195</td>\n      <td>...</td>\n      <td>145.540981</td>\n      <td>3.040710e-08</td>\n      <td>3.883709</td>\n      <td>0.028814</td>\n      <td>0.000002</td>\n      <td>0.524200</td>\n      <td>0.000688</td>\n      <td>0.031794</td>\n      <td>0.007788</td>\n      <td>0.009992</td>\n    </tr>\n    <tr>\n      <th>2021-09-13</th>\n      <td>2.394457</td>\n      <td>35.290485</td>\n      <td>0.731865</td>\n      <td>2.028858</td>\n      <td>612.450733</td>\n      <td>394.308854</td>\n      <td>148.669812</td>\n      <td>44216.638043</td>\n      <td>64.155240</td>\n      <td>0.003851</td>\n      <td>...</td>\n      <td>138.861180</td>\n      <td>2.995830e-08</td>\n      <td>3.775149</td>\n      <td>0.028787</td>\n      <td>0.000003</td>\n      <td>0.506788</td>\n      <td>0.000629</td>\n      <td>0.029031</td>\n      <td>0.004481</td>\n      <td>0.006094</td>\n    </tr>\n  </tbody>\n</table>\n<p>720 rows × 1112 columns</p>\n</div>"
     },
     "metadata": {}
    }
   ]
  },
  {
   "cell_type": "code",
   "metadata": {
    "tags": [],
    "deepnote_to_be_reexecuted": false,
    "source_hash": "4c07fa1",
    "execution_start": 1631383511154,
    "execution_millis": 10,
    "cell_id": "00004-2a36d444-4c52-4c8f-993e-e2a2d490ee6e",
    "deepnote_cell_type": "code"
   },
   "source": "print(data['config']['data_points'], ' days for: ', data['config']['symbol'])\n# supervised... price prediction or predictict 'successful' coin\n# unsupervised, get a few tsfresh features from a few cols of a coin, then cluster\n# need to find most impactful tsfresh\ndata['config']",
   "execution_count": null,
   "outputs": [
    {
     "name": "stdout",
     "text": "720  days for:  'btc','eth','xrp','ltc','bch','bnb','usdt','eos','bsv','xlm','ada','trx','xmr','leo','dash','neo','miota','link','atom','xtz','etc','xem','mkr','ont','cro','zec','vsys','usdc','doge','btg','bat','vet','egt','qtum','dcr','ht','hedg','omg','tusd','pax','rvn','nano','lsk','btt','bcd','hot','kcs','waves','zrx','npxs','rep','icx','dgb','mona','kmd','hc','bts','aoa','iost','bcn'\n",
     "output_type": "stream"
    },
    {
     "output_type": "execute_result",
     "execution_count": 149,
     "data": {
      "text/plain": "{'data': 'assets',\n 'data_points': 720,\n 'interval': 'day',\n 'symbol': \"'btc','eth','xrp','ltc','bch','bnb','usdt','eos','bsv','xlm','ada','trx','xmr','leo','dash','neo','miota','link','atom','xtz','etc','xem','mkr','ont','cro','zec','vsys','usdc','doge','btg','bat','vet','egt','qtum','dcr','ht','hedg','omg','tusd','pax','rvn','nano','lsk','btt','bcd','hot','kcs','waves','zrx','npxs','rep','icx','dgb','mona','kmd','hc','bts','aoa','iost','bcn'\",\n 'time_series_indicators': 'close'}"
     },
     "metadata": {}
    }
   ]
  },
  {
   "cell_type": "code",
   "metadata": {
    "tags": [],
    "cell_id": "00011-dbb5794b-d382-4e5c-937c-ad60642ffd2b",
    "deepnote_to_be_reexecuted": false,
    "source_hash": "2bfd9d5f",
    "execution_start": 1631382876171,
    "execution_millis": 3,
    "deepnote_cell_type": "code"
   },
   "source": "#data",
   "execution_count": null,
   "outputs": []
  },
  {
   "cell_type": "code",
   "metadata": {
    "tags": [],
    "deepnote_to_be_reexecuted": false,
    "source_hash": "ff18f4c0",
    "execution_start": 1631383523997,
    "execution_millis": 602,
    "cell_id": "00011-d5508490-5278-4156-b320-93a2a15659d3",
    "deepnote_cell_type": "code"
   },
   "source": "# df_full = pd.DataFrame()\n# for coin in data['data']:\n\n#     coinName = coin['symbol'] + '-'+ coin['name']\n#     print(coinName)\n    \n#     try:\n#         df = pd.DataFrame(coin['timeSeries'])[['time', 'close']]\n#     except:\n#         print(coinName, ' skippped, missing cols')\n#         continue\n\n#     if df.isnull().sum().sum() > 0:\n#         print(coinName, ' is missing')\n#         continue\n\n#     # https://stackoverflow.com/questions/19231871/convert-unix-time-to-readable-date-in-pandas-dataframe\n#     df['time'] = pd.to_datetime(df['time'],unit='s')  \n\n#     df.columns = ['time', coinName]\n#     df = df.set_index('time')\n\n#     # df = df.dropna(axis='columns')\n#     df[coinName] = stats.zscore(df[coinName])\n\n#     #display(df)\n#     df_full = pd.concat([df_full, df], axis=1)\n    \n\n\n# data['data']\n# df_full",
   "execution_count": null,
   "outputs": [
    {
     "name": "stdout",
     "text": "ADA-Cardano\nAOA-Aurora\nATOM-Cosmos\nBAT-Basic Attention Token\nBCD-Bitcoin Diamond\nBCH-Bitcoin Cash\nBCN-Bytecoin\nBNB-Binance Coin\nBSV-Bitcoin SV\nBTC-Bitcoin\nBTG-Bitcoin Gold\nBTS-BitShares\nBTT-BitTorrent\nCRO-Crypto.com Chain\nDASH-Dash\nDCR-Decred\nDGB-DigiByte\nDOGE-Dogecoin\nEGT-Egretia\nEOS-EOS\nETC-Ethereum Classic\nETH-Ethereum\nHC-HyperCash\nHEDG-HedgeTrade\nHEDG-HedgeTrade  is missing\nHOT-Holo\nHT-Huobi Token\nICX-ICON\nIOST-IOStoken\nKCS-KuCoin Shares\nKMD-Komodo\nLEO-UNUS SED LEO\nLEO-UNUS SED LEO  is missing\nLINK-Chainlink\nLSK-Lisk\nLTC-Litecoin\nMIOTA-IOTA\nMKR-Maker\nMONA-MonaCoin\nNANO-Nano\nNEO-NEO\nNPXS-Pundi X\nOMG-OMG Network\nONT-Ontology\nPAX-Paxos Standard\nQTUM-Qtum\nREP-Augur\nREP-Augur  is missing\nRVN-Ravencoin\nTRX-TRON\nTUSD-TrueUSD\nUSDC-USD Coin\nUSDT-Tether\nVET-VeChain Thor\nVSYS-V Systems\nWAVES-Waves\nXEM-NEM\nXLM-Stellar\nXMR-Monero\nXRP-XRP\nXTZ-Tezos\nZEC-Zcash\nZRX-0x\n",
     "output_type": "stream"
    },
    {
     "output_type": "execute_result",
     "execution_count": 151,
     "data": {
      "application/vnd.deepnote.dataframe.v2+json": {
       "row_count": 720,
       "column_count": 57,
       "columns": [
        {
         "name": "ADA-Cardano",
         "dtype": "float64",
         "stats": {
          "unique_count": 719,
          "nan_count": 0,
          "min": "-0.7010284108933054",
          "max": "3.450736127597568",
          "histogram": [
           {
            "bin_start": -0.7010284108933054,
            "bin_end": -0.28585195704421806,
            "count": 481
           },
           {
            "bin_start": -0.28585195704421806,
            "bin_end": 0.12932449680486924,
            "count": 21
           },
           {
            "bin_start": 0.12932449680486924,
            "bin_end": 0.5445009506539564,
            "count": 8
           },
           {
            "bin_start": 0.5445009506539564,
            "bin_end": 0.9596774045030438,
            "count": 49
           },
           {
            "bin_start": 0.9596774045030438,
            "bin_end": 1.3748538583521313,
            "count": 92
           },
           {
            "bin_start": 1.3748538583521313,
            "bin_end": 1.7900303122012182,
            "count": 29
           },
           {
            "bin_start": 1.7900303122012182,
            "bin_end": 2.2052067660503054,
            "count": 10
           },
           {
            "bin_start": 2.2052067660503054,
            "bin_end": 2.6203832198993933,
            "count": 6
           },
           {
            "bin_start": 2.6203832198993933,
            "bin_end": 3.0355596737484802,
            "count": 8
           },
           {
            "bin_start": 3.0355596737484802,
            "bin_end": 3.450736127597568,
            "count": 16
           }
          ]
         }
        },
        {
         "name": "AOA-Aurora",
         "dtype": "float64",
         "stats": {
          "unique_count": 669,
          "nan_count": 3,
          "min": "-0.938797238541164",
          "max": "4.701663269766723",
          "histogram": [
           {
            "bin_start": -0.938797238541164,
            "bin_end": -0.3747511877103754,
            "count": 403
           },
           {
            "bin_start": -0.3747511877103754,
            "bin_end": 0.18929486312041321,
            "count": 94
           },
           {
            "bin_start": 0.18929486312041321,
            "bin_end": 0.7533409139512017,
            "count": 87
           },
           {
            "bin_start": 0.7533409139512017,
            "bin_end": 1.3173869647819905,
            "count": 68
           },
           {
            "bin_start": 1.3173869647819905,
            "bin_end": 1.8814330156127792,
            "count": 6
           },
           {
            "bin_start": 1.8814330156127792,
            "bin_end": 2.4454790664435677,
            "count": 26
           },
           {
            "bin_start": 2.4454790664435677,
            "bin_end": 3.0095251172743565,
            "count": 20
           },
           {
            "bin_start": 3.0095251172743565,
            "bin_end": 3.573571168105145,
            "count": 7
           },
           {
            "bin_start": 3.573571168105145,
            "bin_end": 4.137617218935934,
            "count": 5
           },
           {
            "bin_start": 4.137617218935934,
            "bin_end": 4.701663269766723,
            "count": 1
           }
          ]
         }
        },
        {
         "name": "ATOM-Cosmos",
         "dtype": "float64",
         "stats": {
          "unique_count": 720,
          "nan_count": 0,
          "min": "-0.9623388323830772",
          "max": "3.0699418088404946",
          "histogram": [
           {
            "bin_start": -0.9623388323830772,
            "bin_end": -0.5591107682607199,
            "count": 298
           },
           {
            "bin_start": -0.5591107682607199,
            "bin_end": -0.1558827041383627,
            "count": 176
           },
           {
            "bin_start": -0.1558827041383627,
            "bin_end": 0.24734535998399465,
            "count": 34
           },
           {
            "bin_start": 0.24734535998399465,
            "bin_end": 0.6505734241063518,
            "count": 44
           },
           {
            "bin_start": 0.6505734241063518,
            "bin_end": 1.053801488228709,
            "count": 41
           },
           {
            "bin_start": 1.053801488228709,
            "bin_end": 1.4570295523510666,
            "count": 12
           },
           {
            "bin_start": 1.4570295523510666,
            "bin_end": 1.8602576164734237,
            "count": 55
           },
           {
            "bin_start": 1.8602576164734237,
            "bin_end": 2.263485680595781,
            "count": 36
           },
           {
            "bin_start": 2.263485680595781,
            "bin_end": 2.666713744718138,
            "count": 15
           },
           {
            "bin_start": 2.666713744718138,
            "bin_end": 3.0699418088404946,
            "count": 9
           }
          ]
         }
        },
        {
         "name": "BAT-Basic Attention Token",
         "dtype": "float64",
         "stats": {
          "unique_count": 720,
          "nan_count": 0,
          "min": "-0.9101815948461435",
          "max": "3.5080136889732065",
          "histogram": [
           {
            "bin_start": -0.9101815948461435,
            "bin_end": -0.46836206646420847,
            "count": 391
           },
           {
            "bin_start": -0.46836206646420847,
            "bin_end": -0.02654253808227347,
            "count": 111
           },
           {
            "bin_start": -0.02654253808227347,
            "bin_end": 0.4152769902996615,
            "count": 30
           },
           {
            "bin_start": 0.4152769902996615,
            "bin_end": 0.8570965186815965,
            "count": 57
           },
           {
            "bin_start": 0.8570965186815965,
            "bin_end": 1.2989160470635315,
            "count": 53
           },
           {
            "bin_start": 1.2989160470635315,
            "bin_end": 1.7407355754454663,
            "count": 13
           },
           {
            "bin_start": 1.7407355754454663,
            "bin_end": 2.1825551038274016,
            "count": 14
           },
           {
            "bin_start": 2.1825551038274016,
            "bin_end": 2.6243746322093364,
            "count": 25
           },
           {
            "bin_start": 2.6243746322093364,
            "bin_end": 3.0661941605912713,
            "count": 12
           },
           {
            "bin_start": 3.0661941605912713,
            "bin_end": 3.5080136889732065,
            "count": 14
           }
          ]
         }
        },
        {
         "name": "BCD-Bitcoin Diamond",
         "dtype": "float64",
         "stats": {
          "unique_count": 720,
          "nan_count": 0,
          "min": "-0.7683270142546312",
          "max": "8.7279922013902",
          "histogram": [
           {
            "bin_start": -0.7683270142546312,
            "bin_end": 0.18130490730985171,
            "count": 553
           },
           {
            "bin_start": 0.18130490730985171,
            "bin_end": 1.1309368288743347,
            "count": 64
           },
           {
            "bin_start": 1.1309368288743347,
            "bin_end": 2.0805687504388173,
            "count": 83
           },
           {
            "bin_start": 2.0805687504388173,
            "bin_end": 3.030200672003301,
            "count": 10
           },
           {
            "bin_start": 3.030200672003301,
            "bin_end": 3.9798325935677834,
            "count": 4
           },
           {
            "bin_start": 3.9798325935677834,
            "bin_end": 4.929464515132266,
            "count": 2
           },
           {
            "bin_start": 4.929464515132266,
            "bin_end": 5.8790964366967495,
            "count": 1
           },
           {
            "bin_start": 5.8790964366967495,
            "bin_end": 6.828728358261232,
            "count": 2
           },
           {
            "bin_start": 6.828728358261232,
            "bin_end": 7.778360279825715,
            "count": 0
           },
           {
            "bin_start": 7.778360279825715,
            "bin_end": 8.7279922013902,
            "count": 1
           }
          ]
         }
        },
        {
         "name": "BCH-Bitcoin Cash",
         "dtype": "float64",
         "stats": {
          "unique_count": 720,
          "nan_count": 0,
          "min": "-1.0914828330463933",
          "max": "5.237586552967713",
          "histogram": [
           {
            "bin_start": -1.0914828330463933,
            "bin_end": -0.4585758944449826,
            "count": 361
           },
           {
            "bin_start": -0.4585758944449826,
            "bin_end": 0.17433104415642808,
            "count": 111
           },
           {
            "bin_start": 0.17433104415642808,
            "bin_end": 0.8072379827578389,
            "count": 125
           },
           {
            "bin_start": 0.8072379827578389,
            "bin_end": 1.4401449213592494,
            "count": 73
           },
           {
            "bin_start": 1.4401449213592494,
            "bin_end": 2.07305185996066,
            "count": 20
           },
           {
            "bin_start": 2.07305185996066,
            "bin_end": 2.705958798562071,
            "count": 11
           },
           {
            "bin_start": 2.705958798562071,
            "bin_end": 3.338865737163481,
            "count": 7
           },
           {
            "bin_start": 3.338865737163481,
            "bin_end": 3.971772675764892,
            "count": 4
           },
           {
            "bin_start": 3.971772675764892,
            "bin_end": 4.604679614366303,
            "count": 5
           },
           {
            "bin_start": 4.604679614366303,
            "bin_end": 5.237586552967713,
            "count": 3
           }
          ]
         }
        },
        {
         "name": "BCN-Bytecoin",
         "dtype": "float64",
         "stats": {
          "unique_count": 436,
          "nan_count": 0,
          "min": "-0.8790459872045872",
          "max": "5.350226609514006",
          "histogram": [
           {
            "bin_start": -0.8790459872045872,
            "bin_end": -0.2561187275327279,
            "count": 404
           },
           {
            "bin_start": -0.2561187275327279,
            "bin_end": 0.36680853213913134,
            "count": 151
           },
           {
            "bin_start": 0.36680853213913134,
            "bin_end": 0.9897357918109905,
            "count": 47
           },
           {
            "bin_start": 0.9897357918109905,
            "bin_end": 1.61266305148285,
            "count": 56
           },
           {
            "bin_start": 1.61266305148285,
            "bin_end": 2.2355903111547093,
            "count": 34
           },
           {
            "bin_start": 2.2355903111547093,
            "bin_end": 2.858517570826568,
            "count": 12
           },
           {
            "bin_start": 2.858517570826568,
            "bin_end": 3.481444830498428,
            "count": 6
           },
           {
            "bin_start": 3.481444830498428,
            "bin_end": 4.104372090170287,
            "count": 6
           },
           {
            "bin_start": 4.104372090170287,
            "bin_end": 4.727299349842146,
            "count": 2
           },
           {
            "bin_start": 4.727299349842146,
            "bin_end": 5.350226609514006,
            "count": 2
           }
          ]
         }
        },
        {
         "name": "BNB-Binance Coin",
         "dtype": "float64",
         "stats": {
          "unique_count": 720,
          "nan_count": 0,
          "min": "-0.6742405186805575",
          "max": "3.1762839006765984",
          "histogram": [
           {
            "bin_start": -0.6742405186805575,
            "bin_end": -0.28918807674484187,
            "count": 504
           },
           {
            "bin_start": -0.28918807674484187,
            "bin_end": 0.09586436519087371,
            "count": 9
           },
           {
            "bin_start": 0.09586436519087371,
            "bin_end": 0.48091680712658935,
            "count": 2
           },
           {
            "bin_start": 0.48091680712658935,
            "bin_end": 0.8659692490623049,
            "count": 38
           },
           {
            "bin_start": 0.8659692490623049,
            "bin_end": 1.2510216909980203,
            "count": 64
           },
           {
            "bin_start": 1.2510216909980203,
            "bin_end": 1.6360741329337363,
            "count": 36
           },
           {
            "bin_start": 1.6360741329337363,
            "bin_end": 2.021126574869452,
            "count": 17
           },
           {
            "bin_start": 2.021126574869452,
            "bin_end": 2.4061790168051673,
            "count": 24
           },
           {
            "bin_start": 2.4061790168051673,
            "bin_end": 2.791231458740883,
            "count": 14
           },
           {
            "bin_start": 2.791231458740883,
            "bin_end": 3.1762839006765984,
            "count": 12
           }
          ]
         }
        },
        {
         "name": "BSV-Bitcoin SV",
         "dtype": "float64",
         "stats": {
          "unique_count": 720,
          "nan_count": 0,
          "min": "-1.6829733473606716",
          "max": "4.260807870249112",
          "histogram": [
           {
            "bin_start": -1.6829733473606716,
            "bin_end": -1.0885952255996934,
            "count": 88
           },
           {
            "bin_start": -1.0885952255996934,
            "bin_end": -0.4942171038387151,
            "count": 83
           },
           {
            "bin_start": -0.4942171038387151,
            "bin_end": 0.10016101792226317,
            "count": 294
           },
           {
            "bin_start": 0.10016101792226317,
            "bin_end": 0.6945391396832414,
            "count": 136
           },
           {
            "bin_start": 0.6945391396832414,
            "bin_end": 1.2889172614442195,
            "count": 40
           },
           {
            "bin_start": 1.2889172614442195,
            "bin_end": 1.883295383205198,
            "count": 34
           },
           {
            "bin_start": 1.883295383205198,
            "bin_end": 2.4776735049661767,
            "count": 24
           },
           {
            "bin_start": 2.4776735049661767,
            "bin_end": 3.0720516267271547,
            "count": 13
           },
           {
            "bin_start": 3.0720516267271547,
            "bin_end": 3.6664297484881327,
            "count": 4
           },
           {
            "bin_start": 3.6664297484881327,
            "bin_end": 4.260807870249112,
            "count": 4
           }
          ]
         }
        },
        {
         "name": "BTC-Bitcoin",
         "dtype": "float64",
         "stats": {
          "unique_count": 720,
          "nan_count": 0,
          "min": "-1.0016777223729998",
          "max": "2.337614213410002",
          "histogram": [
           {
            "bin_start": -1.0016777223729998,
            "bin_end": -0.6677485287946996,
            "count": 335
           },
           {
            "bin_start": -0.6677485287946996,
            "bin_end": -0.3338193352163995,
            "count": 85
           },
           {
            "bin_start": -0.3338193352163995,
            "bin_end": 0.00010985836190058329,
            "count": 31
           },
           {
            "bin_start": 0.00010985836190058329,
            "bin_end": 0.3340390519402008,
            "count": 13
           },
           {
            "bin_start": 0.3340390519402008,
            "bin_end": 0.667968245518501,
            "count": 45
           },
           {
            "bin_start": 0.667968245518501,
            "bin_end": 1.001897439096801,
            "count": 66
           },
           {
            "bin_start": 1.001897439096801,
            "bin_end": 1.3358266326751014,
            "count": 22
           },
           {
            "bin_start": 1.3358266326751014,
            "bin_end": 1.6697558262534014,
            "count": 56
           },
           {
            "bin_start": 1.6697558262534014,
            "bin_end": 2.0036850198317016,
            "count": 39
           },
           {
            "bin_start": 2.0036850198317016,
            "bin_end": 2.337614213410002,
            "count": 28
           }
          ]
         }
        },
        {
         "name": "BTG-Bitcoin Gold",
         "dtype": "float64",
         "stats": {
          "unique_count": 720,
          "nan_count": 0,
          "min": "-0.6746355326395252",
          "max": "4.304722161857166",
          "histogram": [
           {
            "bin_start": -0.6746355326395252,
            "bin_end": -0.17669976318985608,
            "count": 510
           },
           {
            "bin_start": -0.17669976318985608,
            "bin_end": 0.3212360062598131,
            "count": 37
           },
           {
            "bin_start": 0.3212360062598131,
            "bin_end": 0.8191717757094823,
            "count": 46
           },
           {
            "bin_start": 0.8191717757094823,
            "bin_end": 1.3171075451591514,
            "count": 42
           },
           {
            "bin_start": 1.3171075451591514,
            "bin_end": 1.8150433146088205,
            "count": 35
           },
           {
            "bin_start": 1.8150433146088205,
            "bin_end": 2.31297908405849,
            "count": 14
           },
           {
            "bin_start": 2.31297908405849,
            "bin_end": 2.8109148535081587,
            "count": 15
           },
           {
            "bin_start": 2.8109148535081587,
            "bin_end": 3.308850622957828,
            "count": 4
           },
           {
            "bin_start": 3.308850622957828,
            "bin_end": 3.806786392407497,
            "count": 13
           },
           {
            "bin_start": 3.806786392407497,
            "bin_end": 4.304722161857166,
            "count": 4
           }
          ]
         }
        },
        {
         "name": "BTS-BitShares",
         "dtype": "float64",
         "stats": {
          "unique_count": 713,
          "nan_count": 0,
          "min": "-0.9415823257246131",
          "max": "4.244877202393705",
          "histogram": [
           {
            "bin_start": -0.9415823257246131,
            "bin_end": -0.4229363729127813,
            "count": 354
           },
           {
            "bin_start": -0.4229363729127813,
            "bin_end": 0.09570957989905049,
            "count": 146
           },
           {
            "bin_start": 0.09570957989905049,
            "bin_end": 0.6143555327108822,
            "count": 90
           },
           {
            "bin_start": 0.6143555327108822,
            "bin_end": 1.1330014855227142,
            "count": 60
           },
           {
            "bin_start": 1.1330014855227142,
            "bin_end": 1.651647438334546,
            "count": 16
           },
           {
            "bin_start": 1.651647438334546,
            "bin_end": 2.1702933911463775,
            "count": 11
           },
           {
            "bin_start": 2.1702933911463775,
            "bin_end": 2.6889393439582094,
            "count": 9
           },
           {
            "bin_start": 2.6889393439582094,
            "bin_end": 3.2075852967700413,
            "count": 11
           },
           {
            "bin_start": 3.2075852967700413,
            "bin_end": 3.726231249581873,
            "count": 18
           },
           {
            "bin_start": 3.726231249581873,
            "bin_end": 4.244877202393705,
            "count": 5
           }
          ]
         }
        },
        {
         "name": "BTT-BitTorrent",
         "dtype": "float64",
         "stats": {
          "unique_count": 437,
          "nan_count": 0,
          "min": "-0.6853973322998629",
          "max": "4.363512703979226",
          "histogram": [
           {
            "bin_start": -0.6853973322998629,
            "bin_end": -0.18050632867195393,
            "count": 505
           },
           {
            "bin_start": -0.18050632867195393,
            "bin_end": 0.324384674955955,
            "count": 41
           },
           {
            "bin_start": 0.324384674955955,
            "bin_end": 0.8292756785838641,
            "count": 47
           },
           {
            "bin_start": 0.8292756785838641,
            "bin_end": 1.334166682211773,
            "count": 52
           },
           {
            "bin_start": 1.334166682211773,
            "bin_end": 1.8390576858396819,
            "count": 27
           },
           {
            "bin_start": 1.8390576858396819,
            "bin_end": 2.343948689467591,
            "count": 8
           },
           {
            "bin_start": 2.343948689467591,
            "bin_end": 2.8488396930955,
            "count": 17
           },
           {
            "bin_start": 2.8488396930955,
            "bin_end": 3.353730696723409,
            "count": 12
           },
           {
            "bin_start": 3.353730696723409,
            "bin_end": 3.858621700351318,
            "count": 7
           },
           {
            "bin_start": 3.858621700351318,
            "bin_end": 4.363512703979226,
            "count": 4
           }
          ]
         }
        },
        {
         "name": "CRO-Crypto.com Chain",
         "dtype": "float64",
         "stats": {
          "unique_count": 718,
          "nan_count": 0,
          "min": "-1.3680816641873177",
          "max": "2.6399303060346897",
          "histogram": [
           {
            "bin_start": -1.3680816641873177,
            "bin_end": -0.967280467165117,
            "count": 145
           },
           {
            "bin_start": -0.967280467165117,
            "bin_end": -0.5664792701429162,
            "count": 155
           },
           {
            "bin_start": -0.5664792701429162,
            "bin_end": -0.16567807312071547,
            "count": 66
           },
           {
            "bin_start": -0.16567807312071547,
            "bin_end": 0.23512312390148526,
            "count": 46
           },
           {
            "bin_start": 0.23512312390148526,
            "bin_end": 0.635924320923686,
            "count": 82
           },
           {
            "bin_start": 0.635924320923686,
            "bin_end": 1.0367255179458867,
            "count": 93
           },
           {
            "bin_start": 1.0367255179458867,
            "bin_end": 1.4375267149680875,
            "count": 76
           },
           {
            "bin_start": 1.4375267149680875,
            "bin_end": 1.8383279119902882,
            "count": 25
           },
           {
            "bin_start": 1.8383279119902882,
            "bin_end": 2.239129109012489,
            "count": 24
           },
           {
            "bin_start": 2.239129109012489,
            "bin_end": 2.6399303060346897,
            "count": 8
           }
          ]
         }
        },
        {
         "name": "DASH-Dash",
         "dtype": "float64",
         "stats": {
          "unique_count": 720,
          "nan_count": 0,
          "min": "-1.0763038635722144",
          "max": "4.239194363816784",
          "histogram": [
           {
            "bin_start": -1.0763038635722144,
            "bin_end": -0.5447540408333146,
            "count": 313
           },
           {
            "bin_start": -0.5447540408333146,
            "bin_end": -0.013204218094414744,
            "count": 171
           },
           {
            "bin_start": -0.013204218094414744,
            "bin_end": 0.5183456046444852,
            "count": 67
           },
           {
            "bin_start": 0.5183456046444852,
            "bin_end": 1.049895427383385,
            "count": 46
           },
           {
            "bin_start": 1.049895427383385,
            "bin_end": 1.5814452501222847,
            "count": 57
           },
           {
            "bin_start": 1.5814452501222847,
            "bin_end": 2.112995072861185,
            "count": 29
           },
           {
            "bin_start": 2.112995072861185,
            "bin_end": 2.6445448956000845,
            "count": 18
           },
           {
            "bin_start": 2.6445448956000845,
            "bin_end": 3.1760947183389843,
            "count": 9
           },
           {
            "bin_start": 3.1760947183389843,
            "bin_end": 3.7076445410778844,
            "count": 5
           },
           {
            "bin_start": 3.7076445410778844,
            "bin_end": 4.239194363816784,
            "count": 5
           }
          ]
         }
        },
        {
         "name": "DCR-Decred",
         "dtype": "float64",
         "stats": {
          "unique_count": 720,
          "nan_count": 0,
          "min": "-0.7882863984959584",
          "max": "2.810254120582539",
          "histogram": [
           {
            "bin_start": -0.7882863984959584,
            "bin_end": -0.42843234658810864,
            "count": 453
           },
           {
            "bin_start": -0.42843234658810864,
            "bin_end": -0.06857829468025889,
            "count": 30
           },
           {
            "bin_start": -0.06857829468025889,
            "bin_end": 0.2912757572275909,
            "count": 19
           },
           {
            "bin_start": 0.2912757572275909,
            "bin_end": 0.6511298091354406,
            "count": 8
           },
           {
            "bin_start": 0.6511298091354406,
            "bin_end": 1.0109838610432904,
            "count": 29
           },
           {
            "bin_start": 1.0109838610432904,
            "bin_end": 1.3708379129511403,
            "count": 70
           },
           {
            "bin_start": 1.3708379129511403,
            "bin_end": 1.7306919648589898,
            "count": 46
           },
           {
            "bin_start": 1.7306919648589898,
            "bin_end": 2.0905460167668397,
            "count": 42
           },
           {
            "bin_start": 2.0905460167668397,
            "bin_end": 2.4504000686746896,
            "count": 20
           },
           {
            "bin_start": 2.4504000686746896,
            "bin_end": 2.810254120582539,
            "count": 3
           }
          ]
         }
        },
        {
         "name": "DGB-DigiByte",
         "dtype": "float64",
         "stats": {
          "unique_count": 713,
          "nan_count": 0,
          "min": "-0.961949925920988",
          "max": "4.046264699313242",
          "histogram": [
           {
            "bin_start": -0.961949925920988,
            "bin_end": -0.4611284633975651,
            "count": 248
           },
           {
            "bin_start": -0.4611284633975651,
            "bin_end": 0.039692999125857886,
            "count": 250
           },
           {
            "bin_start": 0.039692999125857886,
            "bin_end": 0.540514461649281,
            "count": 50
           },
           {
            "bin_start": 0.540514461649281,
            "bin_end": 1.0413359241727038,
            "count": 65
           },
           {
            "bin_start": 1.0413359241727038,
            "bin_end": 1.5421573866961267,
            "count": 57
           },
           {
            "bin_start": 1.5421573866961267,
            "bin_end": 2.04297884921955,
            "count": 15
           },
           {
            "bin_start": 2.04297884921955,
            "bin_end": 2.543800311742973,
            "count": 7
           },
           {
            "bin_start": 2.543800311742973,
            "bin_end": 3.0446217742663957,
            "count": 8
           },
           {
            "bin_start": 3.0446217742663957,
            "bin_end": 3.545443236789819,
            "count": 10
           },
           {
            "bin_start": 3.545443236789819,
            "bin_end": 4.046264699313242,
            "count": 10
           }
          ]
         }
        },
        {
         "name": "DOGE-Dogecoin",
         "dtype": "float64",
         "stats": {
          "unique_count": 655,
          "nan_count": 0,
          "min": "-0.541325887825048",
          "max": "4.704803607425778",
          "histogram": [
           {
            "bin_start": -0.541325887825048,
            "bin_end": -0.01671293829996534,
            "count": 560
           },
           {
            "bin_start": -0.01671293829996534,
            "bin_end": 0.5079000112251173,
            "count": 10
           },
           {
            "bin_start": 0.5079000112251173,
            "bin_end": 1.0325129607502,
            "count": 26
           },
           {
            "bin_start": 1.0325129607502,
            "bin_end": 1.5571259102752826,
            "count": 39
           },
           {
            "bin_start": 1.5571259102752826,
            "bin_end": 2.0817388598003657,
            "count": 51
           },
           {
            "bin_start": 2.0817388598003657,
            "bin_end": 2.6063518093254476,
            "count": 16
           },
           {
            "bin_start": 2.6063518093254476,
            "bin_end": 3.1309647588505305,
            "count": 4
           },
           {
            "bin_start": 3.1309647588505305,
            "bin_end": 3.6555777083756134,
            "count": 8
           },
           {
            "bin_start": 3.6555777083756134,
            "bin_end": 4.180190657900696,
            "count": 2
           },
           {
            "bin_start": 4.180190657900696,
            "bin_end": 4.704803607425778,
            "count": 4
           }
          ]
         }
        },
        {
         "name": "EGT-Egretia",
         "dtype": "float64",
         "stats": {
          "unique_count": 650,
          "nan_count": 0,
          "min": "-1.0029935706136177",
          "max": "3.9700090647149286",
          "histogram": [
           {
            "bin_start": -1.0029935706136177,
            "bin_end": -0.5056933070807631,
            "count": 284
           },
           {
            "bin_start": -0.5056933070807631,
            "bin_end": -0.008393043547908485,
            "count": 201
           },
           {
            "bin_start": -0.008393043547908485,
            "bin_end": 0.488907219984946,
            "count": 77
           },
           {
            "bin_start": 0.488907219984946,
            "bin_end": 0.9862074835178007,
            "count": 36
           },
           {
            "bin_start": 0.9862074835178007,
            "bin_end": 1.4835077470506555,
            "count": 39
           },
           {
            "bin_start": 1.4835077470506555,
            "bin_end": 1.9808080105835097,
            "count": 36
           },
           {
            "bin_start": 1.9808080105835097,
            "bin_end": 2.4781082741163645,
            "count": 18
           },
           {
            "bin_start": 2.4781082741163645,
            "bin_end": 2.975408537649219,
            "count": 21
           },
           {
            "bin_start": 2.975408537649219,
            "bin_end": 3.4727088011820735,
            "count": 5
           },
           {
            "bin_start": 3.4727088011820735,
            "bin_end": 3.9700090647149286,
            "count": 3
           }
          ]
         }
        },
        {
         "name": "EOS-EOS",
         "dtype": "float64",
         "stats": {
          "unique_count": 719,
          "nan_count": 0,
          "min": "-1.1790365557321205",
          "max": "6.998880838617402",
          "histogram": [
           {
            "bin_start": -1.1790365557321205,
            "bin_end": -0.3612448162971682,
            "count": 369
           },
           {
            "bin_start": -0.3612448162971682,
            "bin_end": 0.4565469231377841,
            "count": 204
           },
           {
            "bin_start": 0.4565469231377841,
            "bin_end": 1.2743386625727366,
            "count": 79
           },
           {
            "bin_start": 1.2743386625727366,
            "bin_end": 2.0921304020076885,
            "count": 44
           },
           {
            "bin_start": 2.0921304020076885,
            "bin_end": 2.9099221414426406,
            "count": 9
           },
           {
            "bin_start": 2.9099221414426406,
            "bin_end": 3.7277138808775936,
            "count": 3
           },
           {
            "bin_start": 3.7277138808775936,
            "bin_end": 4.545505620312546,
            "count": 5
           },
           {
            "bin_start": 4.545505620312546,
            "bin_end": 5.363297359747498,
            "count": 6
           },
           {
            "bin_start": 5.363297359747498,
            "bin_end": 6.18108909918245,
            "count": 0
           },
           {
            "bin_start": 6.18108909918245,
            "bin_end": 6.998880838617402,
            "count": 1
           }
          ]
         }
        },
        {
         "name": "ETC-Ethereum Classic",
         "dtype": "float64",
         "stats": {
          "unique_count": 720,
          "nan_count": 0,
          "min": "-0.6254995010810654",
          "max": "5.068434214467496",
          "histogram": [
           {
            "bin_start": -0.6254995010810654,
            "bin_end": -0.0561061295262093,
            "count": 561
           },
           {
            "bin_start": -0.0561061295262093,
            "bin_end": 0.5132872420286468,
            "count": 11
           },
           {
            "bin_start": 0.5132872420286468,
            "bin_end": 1.082680613583503,
            "count": 25
           },
           {
            "bin_start": 1.082680613583503,
            "bin_end": 1.652073985138359,
            "count": 42
           },
           {
            "bin_start": 1.652073985138359,
            "bin_end": 2.221467356693215,
            "count": 53
           },
           {
            "bin_start": 2.221467356693215,
            "bin_end": 2.7908607282480715,
            "count": 14
           },
           {
            "bin_start": 2.7908607282480715,
            "bin_end": 3.3602540998029276,
            "count": 6
           },
           {
            "bin_start": 3.3602540998029276,
            "bin_end": 3.9296474713577836,
            "count": 3
           },
           {
            "bin_start": 3.9296474713577836,
            "bin_end": 4.49904084291264,
            "count": 3
           },
           {
            "bin_start": 4.49904084291264,
            "bin_end": 5.068434214467496,
            "count": 2
           }
          ]
         }
        },
        {
         "name": "ETH-Ethereum",
         "dtype": "float64",
         "stats": {
          "unique_count": 720,
          "nan_count": 0,
          "min": "-0.8221493477525117",
          "max": "3.0080930616643973",
          "histogram": [
           {
            "bin_start": -0.8221493477525117,
            "bin_end": -0.4391251068108208,
            "count": 425
           },
           {
            "bin_start": -0.4391251068108208,
            "bin_end": -0.05610086586912988,
            "count": 43
           },
           {
            "bin_start": -0.05610086586912988,
            "bin_end": 0.3269233750725611,
            "count": 22
           },
           {
            "bin_start": 0.3269233750725611,
            "bin_end": 0.7099476160142519,
            "count": 34
           },
           {
            "bin_start": 0.7099476160142519,
            "bin_end": 1.0929718569559428,
            "count": 67
           },
           {
            "bin_start": 1.0929718569559428,
            "bin_end": 1.4759960978976339,
            "count": 50
           },
           {
            "bin_start": 1.4759960978976339,
            "bin_end": 1.8590203388393247,
            "count": 26
           },
           {
            "bin_start": 1.8590203388393247,
            "bin_end": 2.2420445797810156,
            "count": 29
           },
           {
            "bin_start": 2.2420445797810156,
            "bin_end": 2.6250688207227064,
            "count": 12
           },
           {
            "bin_start": 2.6250688207227064,
            "bin_end": 3.0080930616643973,
            "count": 12
           }
          ]
         }
        },
        {
         "name": "HC-HyperCash",
         "dtype": "float64",
         "stats": {
          "unique_count": 720,
          "nan_count": 0,
          "min": "-1.5601333865653095",
          "max": "4.53783271595531",
          "histogram": [
           {
            "bin_start": -1.5601333865653095,
            "bin_end": -0.9503367763132476,
            "count": 107
           },
           {
            "bin_start": -0.9503367763132476,
            "bin_end": -0.34054016606118576,
            "count": 191
           },
           {
            "bin_start": -0.34054016606118576,
            "bin_end": 0.269256444190876,
            "count": 189
           },
           {
            "bin_start": 0.269256444190876,
            "bin_end": 0.879053054442938,
            "count": 107
           },
           {
            "bin_start": 0.879053054442938,
            "bin_end": 1.488849664695,
            "count": 59
           },
           {
            "bin_start": 1.488849664695,
            "bin_end": 2.0986462749470616,
            "count": 42
           },
           {
            "bin_start": 2.0986462749470616,
            "bin_end": 2.708442885199124,
            "count": 12
           },
           {
            "bin_start": 2.708442885199124,
            "bin_end": 3.3182394954511856,
            "count": 10
           },
           {
            "bin_start": 3.3182394954511856,
            "bin_end": 3.928036105703247,
            "count": 2
           },
           {
            "bin_start": 3.928036105703247,
            "bin_end": 4.53783271595531,
            "count": 1
           }
          ]
         }
        },
        {
         "name": "HOT-Holo",
         "dtype": "float64",
         "stats": {
          "unique_count": 545,
          "nan_count": 0,
          "min": "-0.5987646729787091",
          "max": "5.274651814186665",
          "histogram": [
           {
            "bin_start": -0.5987646729787091,
            "bin_end": -0.011423024262171566,
            "count": 534
           },
           {
            "bin_start": -0.011423024262171566,
            "bin_end": 0.5759186244543659,
            "count": 32
           },
           {
            "bin_start": 0.5759186244543659,
            "bin_end": 1.1632602731709034,
            "count": 62
           },
           {
            "bin_start": 1.1632602731709034,
            "bin_end": 1.750601921887441,
            "count": 38
           },
           {
            "bin_start": 1.750601921887441,
            "bin_end": 2.3379435706039784,
            "count": 19
           },
           {
            "bin_start": 2.3379435706039784,
            "bin_end": 2.925285219320516,
            "count": 18
           },
           {
            "bin_start": 2.925285219320516,
            "bin_end": 3.512626868037053,
            "count": 9
           },
           {
            "bin_start": 3.512626868037053,
            "bin_end": 4.099968516753591,
            "count": 2
           },
           {
            "bin_start": 4.099968516753591,
            "bin_end": 4.687310165470128,
            "count": 4
           },
           {
            "bin_start": 4.687310165470128,
            "bin_end": 5.274651814186665,
            "count": 2
           }
          ]
         }
        },
        {
         "name": "HT-Huobi Token",
         "dtype": "float64",
         "stats": {
          "unique_count": 720,
          "nan_count": 0,
          "min": "-0.8460465243201369",
          "max": "4.542943975044394",
          "histogram": [
           {
            "bin_start": -0.8460465243201369,
            "bin_end": -0.30714747438368384,
            "count": 486
           },
           {
            "bin_start": -0.30714747438368384,
            "bin_end": 0.23175157555276926,
            "count": 24
           },
           {
            "bin_start": 0.23175157555276926,
            "bin_end": 0.7706506254892225,
            "count": 47
           },
           {
            "bin_start": 0.7706506254892225,
            "bin_end": 1.3095496754256755,
            "count": 80
           },
           {
            "bin_start": 1.3095496754256755,
            "bin_end": 1.8484487253621285,
            "count": 44
           },
           {
            "bin_start": 1.8484487253621285,
            "bin_end": 2.387347775298582,
            "count": 16
           },
           {
            "bin_start": 2.387347775298582,
            "bin_end": 2.926246825235035,
            "count": 5
           },
           {
            "bin_start": 2.926246825235035,
            "bin_end": 3.465145875171488,
            "count": 10
           },
           {
            "bin_start": 3.465145875171488,
            "bin_end": 4.004044925107941,
            "count": 4
           },
           {
            "bin_start": 4.004044925107941,
            "bin_end": 4.542943975044394,
            "count": 4
           }
          ]
         }
        },
        {
         "name": "ICX-ICON",
         "dtype": "float64",
         "stats": {
          "unique_count": 719,
          "nan_count": 0,
          "min": "-0.8829556916239285",
          "max": "3.573203496463571",
          "histogram": [
           {
            "bin_start": -0.8829556916239285,
            "bin_end": -0.43733977281517855,
            "count": 378
           },
           {
            "bin_start": -0.43733977281517855,
            "bin_end": 0.008276145993571404,
            "count": 109
           },
           {
            "bin_start": 0.008276145993571404,
            "bin_end": 0.45389206480232125,
            "count": 69
           },
           {
            "bin_start": 0.45389206480232125,
            "bin_end": 0.8995079836110713,
            "count": 40
           },
           {
            "bin_start": 0.8995079836110713,
            "bin_end": 1.3451239024198214,
            "count": 30
           },
           {
            "bin_start": 1.3451239024198214,
            "bin_end": 1.790739821228571,
            "count": 29
           },
           {
            "bin_start": 1.790739821228571,
            "bin_end": 2.236355740037321,
            "count": 26
           },
           {
            "bin_start": 2.236355740037321,
            "bin_end": 2.681971658846071,
            "count": 13
           },
           {
            "bin_start": 2.681971658846071,
            "bin_end": 3.127587577654821,
            "count": 23
           },
           {
            "bin_start": 3.127587577654821,
            "bin_end": 3.573203496463571,
            "count": 3
           }
          ]
         }
        },
        {
         "name": "IOST-IOStoken",
         "dtype": "float64",
         "stats": {
          "unique_count": 683,
          "nan_count": 0,
          "min": "-0.767745429935925",
          "max": "3.5103581539377027",
          "histogram": [
           {
            "bin_start": -0.767745429935925,
            "bin_end": -0.33993507154856223,
            "count": 475
           },
           {
            "bin_start": -0.33993507154856223,
            "bin_end": 0.08787528683880053,
            "count": 25
           },
           {
            "bin_start": 0.08787528683880053,
            "bin_end": 0.5156856452261633,
            "count": 52
           },
           {
            "bin_start": 0.5156856452261633,
            "bin_end": 0.943496003613526,
            "count": 47
           },
           {
            "bin_start": 0.943496003613526,
            "bin_end": 1.3713063620008887,
            "count": 17
           },
           {
            "bin_start": 1.3713063620008887,
            "bin_end": 1.7991167203882517,
            "count": 41
           },
           {
            "bin_start": 1.7991167203882517,
            "bin_end": 2.2269270787756144,
            "count": 27
           },
           {
            "bin_start": 2.2269270787756144,
            "bin_end": 2.654737437162977,
            "count": 18
           },
           {
            "bin_start": 2.654737437162977,
            "bin_end": 3.08254779555034,
            "count": 10
           },
           {
            "bin_start": 3.08254779555034,
            "bin_end": 3.5103581539377027,
            "count": 8
           }
          ]
         }
        },
        {
         "name": "KCS-KuCoin Shares",
         "dtype": "float64",
         "stats": {
          "unique_count": 720,
          "nan_count": 0,
          "min": "-0.6540106546421517",
          "max": "3.575013274919642",
          "histogram": [
           {
            "bin_start": -0.6540106546421517,
            "bin_end": -0.23110826168597232,
            "count": 510
           },
           {
            "bin_start": -0.23110826168597232,
            "bin_end": 0.19179413127020706,
            "count": 8
           },
           {
            "bin_start": 0.19179413127020706,
            "bin_end": 0.6146965242263865,
            "count": 38
           },
           {
            "bin_start": 0.6146965242263865,
            "bin_end": 1.037598917182566,
            "count": 32
           },
           {
            "bin_start": 1.037598917182566,
            "bin_end": 1.4605013101387452,
            "count": 31
           },
           {
            "bin_start": 1.4605013101387452,
            "bin_end": 1.8834037030949249,
            "count": 35
           },
           {
            "bin_start": 1.8834037030949249,
            "bin_end": 2.306306096051104,
            "count": 35
           },
           {
            "bin_start": 2.306306096051104,
            "bin_end": 2.7292084890072834,
            "count": 23
           },
           {
            "bin_start": 2.7292084890072834,
            "bin_end": 3.1521108819634627,
            "count": 4
           },
           {
            "bin_start": 3.1521108819634627,
            "bin_end": 3.575013274919642,
            "count": 4
           }
          ]
         }
        },
        {
         "name": "KMD-Komodo",
         "dtype": "float64",
         "stats": {
          "unique_count": 720,
          "nan_count": 0,
          "min": "-0.919644504398671",
          "max": "6.071299026101133",
          "histogram": [
           {
            "bin_start": -0.919644504398671,
            "bin_end": -0.2205501513486906,
            "count": 485
           },
           {
            "bin_start": -0.2205501513486906,
            "bin_end": 0.47854420170128975,
            "count": 116
           },
           {
            "bin_start": 0.47854420170128975,
            "bin_end": 1.17763855475127,
            "count": 51
           },
           {
            "bin_start": 1.17763855475127,
            "bin_end": 1.8767329078012505,
            "count": 20
           },
           {
            "bin_start": 1.8767329078012505,
            "bin_end": 2.5758272608512307,
            "count": 13
           },
           {
            "bin_start": 2.5758272608512307,
            "bin_end": 3.2749216139012107,
            "count": 18
           },
           {
            "bin_start": 3.2749216139012107,
            "bin_end": 3.9740159669511916,
            "count": 9
           },
           {
            "bin_start": 3.9740159669511916,
            "bin_end": 4.673110320001172,
            "count": 5
           },
           {
            "bin_start": 4.673110320001172,
            "bin_end": 5.372204673051152,
            "count": 1
           },
           {
            "bin_start": 5.372204673051152,
            "bin_end": 6.071299026101133,
            "count": 2
           }
          ]
         }
        },
        {
         "name": "LINK-Chainlink",
         "dtype": "float64",
         "stats": {
          "unique_count": 720,
          "nan_count": 0,
          "min": "-1.0372769992007331",
          "max": "3.3611988504842",
          "histogram": [
           {
            "bin_start": -1.0372769992007331,
            "bin_end": -0.5974294142322398,
            "count": 293
           },
           {
            "bin_start": -0.5974294142322398,
            "bin_end": -0.15758182926374642,
            "count": 84
           },
           {
            "bin_start": -0.15758182926374642,
            "bin_end": 0.282265755704747,
            "count": 108
           },
           {
            "bin_start": 0.282265755704747,
            "bin_end": 0.7221133406732403,
            "count": 47
           },
           {
            "bin_start": 0.7221133406732403,
            "bin_end": 1.1619609256417336,
            "count": 68
           },
           {
            "bin_start": 1.1619609256417336,
            "bin_end": 1.601808510610227,
            "count": 66
           },
           {
            "bin_start": 1.601808510610227,
            "bin_end": 2.04165609557872,
            "count": 29
           },
           {
            "bin_start": 2.04165609557872,
            "bin_end": 2.4815036805472137,
            "count": 10
           },
           {
            "bin_start": 2.4815036805472137,
            "bin_end": 2.9213512655157072,
            "count": 9
           },
           {
            "bin_start": 2.9213512655157072,
            "bin_end": 3.3611988504842,
            "count": 6
           }
          ]
         }
        },
        {
         "name": "LSK-Lisk",
         "dtype": "float64",
         "stats": {
          "unique_count": 720,
          "nan_count": 0,
          "min": "-0.9429584288938203",
          "max": "4.644310499455121",
          "histogram": [
           {
            "bin_start": -0.9429584288938203,
            "bin_end": -0.38423153605892624,
            "count": 436
           },
           {
            "bin_start": -0.38423153605892624,
            "bin_end": 0.17449535677596784,
            "count": 82
           },
           {
            "bin_start": 0.17449535677596784,
            "bin_end": 0.7332222496108619,
            "count": 53
           },
           {
            "bin_start": 0.7332222496108619,
            "bin_end": 1.2919491424457559,
            "count": 67
           },
           {
            "bin_start": 1.2919491424457559,
            "bin_end": 1.85067603528065,
            "count": 34
           },
           {
            "bin_start": 1.85067603528065,
            "bin_end": 2.409402928115544,
            "count": 15
           },
           {
            "bin_start": 2.409402928115544,
            "bin_end": 2.968129820950438,
            "count": 19
           },
           {
            "bin_start": 2.968129820950438,
            "bin_end": 3.526856713785332,
            "count": 9
           },
           {
            "bin_start": 3.526856713785332,
            "bin_end": 4.085583606620227,
            "count": 1
           },
           {
            "bin_start": 4.085583606620227,
            "bin_end": 4.644310499455121,
            "count": 4
           }
          ]
         }
        },
        {
         "name": "LTC-Litecoin",
         "dtype": "float64",
         "stats": {
          "unique_count": 720,
          "nan_count": 0,
          "min": "-0.9964377230774706",
          "max": "3.972090277298984",
          "histogram": [
           {
            "bin_start": -0.9964377230774706,
            "bin_end": -0.49958492303982516,
            "count": 390
           },
           {
            "bin_start": -0.49958492303982516,
            "bin_end": -0.0027321230021797316,
            "count": 62
           },
           {
            "bin_start": -0.0027321230021797316,
            "bin_end": 0.4941206770354656,
            "count": 53
           },
           {
            "bin_start": 0.4941206770354656,
            "bin_end": 0.9909734770731111,
            "count": 75
           },
           {
            "bin_start": 0.9909734770731111,
            "bin_end": 1.4878262771107567,
            "count": 79
           },
           {
            "bin_start": 1.4878262771107567,
            "bin_end": 1.9846790771484017,
            "count": 25
           },
           {
            "bin_start": 1.9846790771484017,
            "bin_end": 2.4815318771860473,
            "count": 17
           },
           {
            "bin_start": 2.4815318771860473,
            "bin_end": 2.978384677223693,
            "count": 10
           },
           {
            "bin_start": 2.978384677223693,
            "bin_end": 3.4752374772613384,
            "count": 4
           },
           {
            "bin_start": 3.4752374772613384,
            "bin_end": 3.972090277298984,
            "count": 5
           }
          ]
         }
        },
        {
         "name": "MIOTA-IOTA",
         "dtype": "float64",
         "stats": {
          "unique_count": 719,
          "nan_count": 0,
          "min": "-0.8519491865227674",
          "max": "3.7011975603478846",
          "histogram": [
           {
            "bin_start": -0.8519491865227674,
            "bin_end": -0.3966345118357022,
            "count": 449
           },
           {
            "bin_start": -0.3966345118357022,
            "bin_end": 0.058680162851363016,
            "count": 56
           },
           {
            "bin_start": 0.058680162851363016,
            "bin_end": 0.5139948375384281,
            "count": 39
           },
           {
            "bin_start": 0.5139948375384281,
            "bin_end": 0.9693095122254934,
            "count": 46
           },
           {
            "bin_start": 0.9693095122254934,
            "bin_end": 1.4246241869125589,
            "count": 51
           },
           {
            "bin_start": 1.4246241869125589,
            "bin_end": 1.8799388615996238,
            "count": 30
           },
           {
            "bin_start": 1.8799388615996238,
            "bin_end": 2.335253536286689,
            "count": 11
           },
           {
            "bin_start": 2.335253536286689,
            "bin_end": 2.7905682109737544,
            "count": 17
           },
           {
            "bin_start": 2.7905682109737544,
            "bin_end": 3.2458828856608193,
            "count": 18
           },
           {
            "bin_start": 3.2458828856608193,
            "bin_end": 3.7011975603478846,
            "count": 3
           }
          ]
         }
        },
        {
         "name": "MKR-Maker",
         "dtype": "float64",
         "stats": {
          "unique_count": 720,
          "nan_count": 0,
          "min": "-0.8814725856925932",
          "max": "3.720695655944881",
          "histogram": [
           {
            "bin_start": -0.8814725856925932,
            "bin_end": -0.4212557615288458,
            "count": 470
           },
           {
            "bin_start": -0.4212557615288458,
            "bin_end": 0.03896106263490162,
            "count": 6
           },
           {
            "bin_start": 0.03896106263490162,
            "bin_end": 0.49917788679864905,
            "count": 26
           },
           {
            "bin_start": 0.49917788679864905,
            "bin_end": 0.9593947109623965,
            "count": 72
           },
           {
            "bin_start": 0.9593947109623965,
            "bin_end": 1.419611535126144,
            "count": 56
           },
           {
            "bin_start": 1.419611535126144,
            "bin_end": 1.8798283592898914,
            "count": 43
           },
           {
            "bin_start": 1.8798283592898914,
            "bin_end": 2.340045183453639,
            "count": 26
           },
           {
            "bin_start": 2.340045183453639,
            "bin_end": 2.8002620076173863,
            "count": 9
           },
           {
            "bin_start": 2.8002620076173863,
            "bin_end": 3.260478831781134,
            "count": 10
           },
           {
            "bin_start": 3.260478831781134,
            "bin_end": 3.720695655944881,
            "count": 2
           }
          ]
         }
        },
        {
         "name": "MONA-MonaCoin",
         "dtype": "float64",
         "stats": {
          "unique_count": 720,
          "nan_count": 0,
          "min": "-1.7005473393745822",
          "max": "4.819790014320545",
          "histogram": [
           {
            "bin_start": -1.7005473393745822,
            "bin_end": -1.0485136040050695,
            "count": 71
           },
           {
            "bin_start": -1.0485136040050695,
            "bin_end": -0.39647986863555684,
            "count": 229
           },
           {
            "bin_start": -0.39647986863555684,
            "bin_end": 0.25555386673395586,
            "count": 164
           },
           {
            "bin_start": 0.25555386673395586,
            "bin_end": 0.9075876021034686,
            "count": 148
           },
           {
            "bin_start": 0.9075876021034686,
            "bin_end": 1.5596213374729813,
            "count": 48
           },
           {
            "bin_start": 1.5596213374729813,
            "bin_end": 2.211655072842494,
            "count": 36
           },
           {
            "bin_start": 2.211655072842494,
            "bin_end": 2.8636888082120073,
            "count": 11
           },
           {
            "bin_start": 2.8636888082120073,
            "bin_end": 3.5157225435815196,
            "count": 11
           },
           {
            "bin_start": 3.5157225435815196,
            "bin_end": 4.167756278951032,
            "count": 1
           },
           {
            "bin_start": 4.167756278951032,
            "bin_end": 4.819790014320545,
            "count": 1
           }
          ]
         }
        },
        {
         "name": "NANO-Nano",
         "dtype": "float64",
         "stats": {
          "unique_count": 719,
          "nan_count": 0,
          "min": "-0.8301456865261228",
          "max": "3.883522431692941",
          "histogram": [
           {
            "bin_start": -0.8301456865261228,
            "bin_end": -0.3587788747042163,
            "count": 470
           },
           {
            "bin_start": -0.3587788747042163,
            "bin_end": 0.1125879371176901,
            "count": 3
           },
           {
            "bin_start": 0.1125879371176901,
            "bin_end": 0.5839547489395966,
            "count": 47
           },
           {
            "bin_start": 0.5839547489395966,
            "bin_end": 1.055321560761503,
            "count": 77
           },
           {
            "bin_start": 1.055321560761503,
            "bin_end": 1.5266883725834093,
            "count": 59
           },
           {
            "bin_start": 1.5266883725834093,
            "bin_end": 1.998055184405316,
            "count": 28
           },
           {
            "bin_start": 1.998055184405316,
            "bin_end": 2.469421996227222,
            "count": 13
           },
           {
            "bin_start": 2.469421996227222,
            "bin_end": 2.9407888080491285,
            "count": 13
           },
           {
            "bin_start": 2.9407888080491285,
            "bin_end": 3.4121556198710348,
            "count": 7
           },
           {
            "bin_start": 3.4121556198710348,
            "bin_end": 3.883522431692941,
            "count": 3
           }
          ]
         }
        },
        {
         "name": "NEO-NEO",
         "dtype": "float64",
         "stats": {
          "unique_count": 720,
          "nan_count": 0,
          "min": "-0.8695637094823907",
          "max": "4.333464542058308",
          "histogram": [
           {
            "bin_start": -0.8695637094823907,
            "bin_end": -0.3492608843283209,
            "count": 400
           },
           {
            "bin_start": -0.3492608843283209,
            "bin_end": 0.17104194082574886,
            "count": 109
           },
           {
            "bin_start": 0.17104194082574886,
            "bin_end": 0.6913447659798186,
            "count": 63
           },
           {
            "bin_start": 0.6913447659798186,
            "bin_end": 1.2116475911338884,
            "count": 66
           },
           {
            "bin_start": 1.2116475911338884,
            "bin_end": 1.731950416287958,
            "count": 44
           },
           {
            "bin_start": 1.731950416287958,
            "bin_end": 2.2522532414420278,
            "count": 5
           },
           {
            "bin_start": 2.2522532414420278,
            "bin_end": 2.772556066596098,
            "count": 6
           },
           {
            "bin_start": 2.772556066596098,
            "bin_end": 3.2928588917501678,
            "count": 13
           },
           {
            "bin_start": 3.2928588917501678,
            "bin_end": 3.8131617169042373,
            "count": 6
           },
           {
            "bin_start": 3.8131617169042373,
            "bin_end": 4.333464542058308,
            "count": 8
           }
          ]
         }
        },
        {
         "name": "NPXS-Pundi X",
         "dtype": "float64",
         "stats": {
          "unique_count": 380,
          "nan_count": 0,
          "min": "-0.5232441761291152",
          "max": "6.565406275911995",
          "histogram": [
           {
            "bin_start": -0.5232441761291152,
            "bin_end": 0.18562086907499575,
            "count": 545
           },
           {
            "bin_start": 0.18562086907499575,
            "bin_end": 0.8944859142791067,
            "count": 102
           },
           {
            "bin_start": 0.8944859142791067,
            "bin_end": 1.6033509594832176,
            "count": 27
           },
           {
            "bin_start": 1.6033509594832176,
            "bin_end": 2.3122160046873286,
            "count": 21
           },
           {
            "bin_start": 2.3122160046873286,
            "bin_end": 3.0210810498914396,
            "count": 4
           },
           {
            "bin_start": 3.0210810498914396,
            "bin_end": 3.7299460950955505,
            "count": 4
           },
           {
            "bin_start": 3.7299460950955505,
            "bin_end": 4.438811140299662,
            "count": 4
           },
           {
            "bin_start": 4.438811140299662,
            "bin_end": 5.147676185503773,
            "count": 10
           },
           {
            "bin_start": 5.147676185503773,
            "bin_end": 5.856541230707884,
            "count": 2
           },
           {
            "bin_start": 5.856541230707884,
            "bin_end": 6.565406275911995,
            "count": 1
           }
          ]
         }
        },
        {
         "name": "OMG-OMG Network",
         "dtype": "float64",
         "stats": {
          "unique_count": 720,
          "nan_count": 0,
          "min": "-1.0934899373541855",
          "max": "3.9112204724686994",
          "histogram": [
           {
            "bin_start": -1.0934899373541855,
            "bin_end": -0.593018896371897,
            "count": 312
           },
           {
            "bin_start": -0.593018896371897,
            "bin_end": -0.09254785538960841,
            "count": 40
           },
           {
            "bin_start": -0.09254785538960841,
            "bin_end": 0.40792318559268015,
            "count": 162
           },
           {
            "bin_start": 0.40792318559268015,
            "bin_end": 0.9083942265749687,
            "count": 82
           },
           {
            "bin_start": 0.9083942265749687,
            "bin_end": 1.4088652675572575,
            "count": 60
           },
           {
            "bin_start": 1.4088652675572575,
            "bin_end": 1.9093363085395458,
            "count": 26
           },
           {
            "bin_start": 1.9093363085395458,
            "bin_end": 2.4098073495218344,
            "count": 13
           },
           {
            "bin_start": 2.4098073495218344,
            "bin_end": 2.910278390504123,
            "count": 19
           },
           {
            "bin_start": 2.910278390504123,
            "bin_end": 3.410749431486412,
            "count": 1
           },
           {
            "bin_start": 3.410749431486412,
            "bin_end": 3.9112204724686994,
            "count": 5
           }
          ]
         }
        },
        {
         "name": "ONT-Ontology",
         "dtype": "float64",
         "stats": {
          "unique_count": 720,
          "nan_count": 0,
          "min": "-1.2154504295216269",
          "max": "4.805134659288217",
          "histogram": [
           {
            "bin_start": -1.2154504295216269,
            "bin_end": -0.6133919206406425,
            "count": 163
           },
           {
            "bin_start": -0.6133919206406425,
            "bin_end": -0.011333411759658185,
            "count": 308
           },
           {
            "bin_start": -0.011333411759658185,
            "bin_end": 0.590725097121326,
            "count": 119
           },
           {
            "bin_start": 0.590725097121326,
            "bin_end": 1.1927836060023105,
            "count": 67
           },
           {
            "bin_start": 1.1927836060023105,
            "bin_end": 1.794842114883295,
            "count": 12
           },
           {
            "bin_start": 1.794842114883295,
            "bin_end": 2.396900623764279,
            "count": 12
           },
           {
            "bin_start": 2.396900623764279,
            "bin_end": 2.998959132645264,
            "count": 20
           },
           {
            "bin_start": 2.998959132645264,
            "bin_end": 3.601017641526248,
            "count": 10
           },
           {
            "bin_start": 3.601017641526248,
            "bin_end": 4.203076150407232,
            "count": 4
           },
           {
            "bin_start": 4.203076150407232,
            "bin_end": 4.805134659288217,
            "count": 5
           }
          ]
         }
        },
        {
         "name": "PAX-Paxos Standard",
         "dtype": "float64",
         "stats": {
          "unique_count": 695,
          "nan_count": 0,
          "min": "-2.964897043513435",
          "max": "12.839211220380049",
          "histogram": [
           {
            "bin_start": -2.964897043513435,
            "bin_end": -1.3844862171240868,
            "count": 35
           },
           {
            "bin_start": -1.3844862171240868,
            "bin_end": 0.19592460926526156,
            "count": 429
           },
           {
            "bin_start": 0.19592460926526156,
            "bin_end": 1.7763354356546097,
            "count": 234
           },
           {
            "bin_start": 1.7763354356546097,
            "bin_end": 3.3567462620439583,
            "count": 18
           },
           {
            "bin_start": 3.3567462620439583,
            "bin_end": 4.937157088433307,
            "count": 2
           },
           {
            "bin_start": 4.937157088433307,
            "bin_end": 6.517567914822655,
            "count": 1
           },
           {
            "bin_start": 6.517567914822655,
            "bin_end": 8.097978741212003,
            "count": 0
           },
           {
            "bin_start": 8.097978741212003,
            "bin_end": 9.678389567601352,
            "count": 0
           },
           {
            "bin_start": 9.678389567601352,
            "bin_end": 11.2588003939907,
            "count": 0
           },
           {
            "bin_start": 11.2588003939907,
            "bin_end": 12.839211220380049,
            "count": 1
           }
          ]
         }
        },
        {
         "name": "QTUM-Qtum",
         "dtype": "float64",
         "stats": {
          "unique_count": 720,
          "nan_count": 0,
          "min": "-0.7650979742660491",
          "max": "4.943706294452668",
          "histogram": [
           {
            "bin_start": -0.7650979742660491,
            "bin_end": -0.1942175473941774,
            "count": 494
           },
           {
            "bin_start": -0.1942175473941774,
            "bin_end": 0.3766628794776943,
            "count": 59
           },
           {
            "bin_start": 0.3766628794776943,
            "bin_end": 0.947543306349566,
            "count": 57
           },
           {
            "bin_start": 0.947543306349566,
            "bin_end": 1.5184237332214376,
            "count": 30
           },
           {
            "bin_start": 1.5184237332214376,
            "bin_end": 2.0893041600933095,
            "count": 42
           },
           {
            "bin_start": 2.0893041600933095,
            "bin_end": 2.660184586965181,
            "count": 17
           },
           {
            "bin_start": 2.660184586965181,
            "bin_end": 3.2310650138370525,
            "count": 11
           },
           {
            "bin_start": 3.2310650138370525,
            "bin_end": 3.8019454407089244,
            "count": 3
           },
           {
            "bin_start": 3.8019454407089244,
            "bin_end": 4.372825867580796,
            "count": 3
           },
           {
            "bin_start": 4.372825867580796,
            "bin_end": 4.943706294452668,
            "count": 4
           }
          ]
         }
        },
        {
         "name": "RVN-Ravencoin",
         "dtype": "float64",
         "stats": {
          "unique_count": 709,
          "nan_count": 0,
          "min": "-0.721421544247195",
          "max": "3.2480673240272413",
          "histogram": [
           {
            "bin_start": -0.721421544247195,
            "bin_end": -0.3244726574197513,
            "count": 485
           },
           {
            "bin_start": -0.3244726574197513,
            "bin_end": 0.07247622940769238,
            "count": 52
           },
           {
            "bin_start": 0.07247622940769238,
            "bin_end": 0.46942511623513616,
            "count": 39
           },
           {
            "bin_start": 0.46942511623513616,
            "bin_end": 0.8663740030625797,
            "count": 20
           },
           {
            "bin_start": 0.8663740030625797,
            "bin_end": 1.2633228898900233,
            "count": 7
           },
           {
            "bin_start": 1.2633228898900233,
            "bin_end": 1.6602717767174673,
            "count": 32
           },
           {
            "bin_start": 1.6602717767174673,
            "bin_end": 2.0572206635449106,
            "count": 25
           },
           {
            "bin_start": 2.0572206635449106,
            "bin_end": 2.454169550372354,
            "count": 31
           },
           {
            "bin_start": 2.454169550372354,
            "bin_end": 2.8511184371997977,
            "count": 19
           },
           {
            "bin_start": 2.8511184371997977,
            "bin_end": 3.2480673240272413,
            "count": 10
           }
          ]
         }
        },
        {
         "name": "TRX-TRON",
         "dtype": "float64",
         "stats": {
          "unique_count": 717,
          "nan_count": 0,
          "min": "-0.9328342762212046",
          "max": "3.8924611428969516",
          "histogram": [
           {
            "bin_start": -0.9328342762212046,
            "bin_end": -0.45030473430938905,
            "count": 327
           },
           {
            "bin_start": -0.45030473430938905,
            "bin_end": 0.03222480760242652,
            "count": 176
           },
           {
            "bin_start": 0.03222480760242652,
            "bin_end": 0.514754349514242,
            "count": 39
           },
           {
            "bin_start": 0.514754349514242,
            "bin_end": 0.9972838914260577,
            "count": 67
           },
           {
            "bin_start": 0.9972838914260577,
            "bin_end": 1.4798134333378732,
            "count": 38
           },
           {
            "bin_start": 1.4798134333378732,
            "bin_end": 1.9623429752496886,
            "count": 26
           },
           {
            "bin_start": 1.9623429752496886,
            "bin_end": 2.4448725171615044,
            "count": 11
           },
           {
            "bin_start": 2.4448725171615044,
            "bin_end": 2.92740205907332,
            "count": 22
           },
           {
            "bin_start": 2.92740205907332,
            "bin_end": 3.4099316009851357,
            "count": 10
           },
           {
            "bin_start": 3.4099316009851357,
            "bin_end": 3.8924611428969516,
            "count": 4
           }
          ]
         }
        },
        {
         "name": "TUSD-TrueUSD",
         "dtype": "float64",
         "stats": {
          "unique_count": 701,
          "nan_count": 0,
          "min": "-7.818587159367076",
          "max": "13.847740246086303",
          "histogram": [
           {
            "bin_start": -7.818587159367076,
            "bin_end": -5.651954418821738,
            "count": 1
           },
           {
            "bin_start": -5.651954418821738,
            "bin_end": -3.4853216782764003,
            "count": 0
           },
           {
            "bin_start": -3.4853216782764003,
            "bin_end": -1.3186889377310624,
            "count": 17
           },
           {
            "bin_start": -1.3186889377310624,
            "bin_end": 0.8479438028142754,
            "count": 646
           },
           {
            "bin_start": 0.8479438028142754,
            "bin_end": 3.014576543359614,
            "count": 49
           },
           {
            "bin_start": 3.014576543359614,
            "bin_end": 5.181209283904951,
            "count": 4
           },
           {
            "bin_start": 5.181209283904951,
            "bin_end": 7.347842024450288,
            "count": 2
           },
           {
            "bin_start": 7.347842024450288,
            "bin_end": 9.514474764995626,
            "count": 0
           },
           {
            "bin_start": 9.514474764995626,
            "bin_end": 11.681107505540965,
            "count": 0
           },
           {
            "bin_start": 11.681107505540965,
            "bin_end": 13.847740246086303,
            "count": 1
           }
          ]
         }
        },
        {
         "name": "USDC-USD Coin",
         "dtype": "float64",
         "stats": {
          "unique_count": 699,
          "nan_count": 0,
          "min": "-3.324960380442623",
          "max": "9.532189081752255",
          "histogram": [
           {
            "bin_start": -3.324960380442623,
            "bin_end": -2.039245434223135,
            "count": 6
           },
           {
            "bin_start": -2.039245434223135,
            "bin_end": -0.7535304880036473,
            "count": 85
           },
           {
            "bin_start": -0.7535304880036473,
            "bin_end": 0.5321844582158404,
            "count": 514
           },
           {
            "bin_start": 0.5321844582158404,
            "bin_end": 1.8178994044353285,
            "count": 86
           },
           {
            "bin_start": 1.8178994044353285,
            "bin_end": 3.1036143506548166,
            "count": 13
           },
           {
            "bin_start": 3.1036143506548166,
            "bin_end": 4.389329296874304,
            "count": 10
           },
           {
            "bin_start": 4.389329296874304,
            "bin_end": 5.675044243093793,
            "count": 4
           },
           {
            "bin_start": 5.675044243093793,
            "bin_end": 6.96075918931328,
            "count": 1
           },
           {
            "bin_start": 6.96075918931328,
            "bin_end": 8.246474135532768,
            "count": 0
           },
           {
            "bin_start": 8.246474135532768,
            "bin_end": 9.532189081752255,
            "count": 1
           }
          ]
         }
        },
        {
         "name": "USDT-Tether",
         "dtype": "float64",
         "stats": {
          "unique_count": 707,
          "nan_count": 0,
          "min": "-7.177859727046227",
          "max": "9.10103031837596",
          "histogram": [
           {
            "bin_start": -7.177859727046227,
            "bin_end": -5.549970722504009,
            "count": 1
           },
           {
            "bin_start": -5.549970722504009,
            "bin_end": -3.92208171796179,
            "count": 1
           },
           {
            "bin_start": -3.92208171796179,
            "bin_end": -2.294192713419571,
            "count": 6
           },
           {
            "bin_start": -2.294192713419571,
            "bin_end": -0.6663037088773525,
            "count": 92
           },
           {
            "bin_start": -0.6663037088773525,
            "bin_end": 0.9615852956648663,
            "count": 548
           },
           {
            "bin_start": 0.9615852956648663,
            "bin_end": 2.589474300207085,
            "count": 60
           },
           {
            "bin_start": 2.589474300207085,
            "bin_end": 4.217363304749304,
            "count": 9
           },
           {
            "bin_start": 4.217363304749304,
            "bin_end": 5.8452523092915225,
            "count": 1
           },
           {
            "bin_start": 5.8452523092915225,
            "bin_end": 7.473141313833741,
            "count": 1
           },
           {
            "bin_start": 7.473141313833741,
            "bin_end": 9.10103031837596,
            "count": 1
           }
          ]
         }
        },
        {
         "name": "VET-VeChain Thor",
         "dtype": "float64",
         "stats": {
          "unique_count": 707,
          "nan_count": 0,
          "min": "-0.7099762094313641",
          "max": "3.9809396020332133",
          "histogram": [
           {
            "bin_start": -0.7099762094313641,
            "bin_end": -0.2408846282849063,
            "count": 483
           },
           {
            "bin_start": -0.2408846282849063,
            "bin_end": 0.22820695286155146,
            "count": 40
           },
           {
            "bin_start": 0.22820695286155146,
            "bin_end": 0.6972985340080092,
            "count": 44
           },
           {
            "bin_start": 0.6972985340080092,
            "bin_end": 1.166390115154467,
            "count": 47
           },
           {
            "bin_start": 1.166390115154467,
            "bin_end": 1.6354816963009249,
            "count": 50
           },
           {
            "bin_start": 1.6354816963009249,
            "bin_end": 2.1045732774473827,
            "count": 19
           },
           {
            "bin_start": 2.1045732774473827,
            "bin_end": 2.5736648585938404,
            "count": 9
           },
           {
            "bin_start": 2.5736648585938404,
            "bin_end": 3.042756439740298,
            "count": 10
           },
           {
            "bin_start": 3.042756439740298,
            "bin_end": 3.511848020886756,
            "count": 10
           },
           {
            "bin_start": 3.511848020886756,
            "bin_end": 3.9809396020332133,
            "count": 8
           }
          ]
         }
        },
        {
         "name": "VSYS-V Systems",
         "dtype": "float64",
         "stats": {
          "unique_count": 713,
          "nan_count": 0,
          "min": "-1.0591865824511386",
          "max": "5.154857294282579",
          "histogram": [
           {
            "bin_start": -1.0591865824511386,
            "bin_end": -0.4377821947777668,
            "count": 294
           },
           {
            "bin_start": -0.4377821947777668,
            "bin_end": 0.183622192895605,
            "count": 241
           },
           {
            "bin_start": 0.183622192895605,
            "bin_end": 0.8050265805689769,
            "count": 53
           },
           {
            "bin_start": 0.8050265805689769,
            "bin_end": 1.4264309682423486,
            "count": 63
           },
           {
            "bin_start": 1.4264309682423486,
            "bin_end": 2.04783535591572,
            "count": 17
           },
           {
            "bin_start": 2.04783535591572,
            "bin_end": 2.6692397435890927,
            "count": 23
           },
           {
            "bin_start": 2.6692397435890927,
            "bin_end": 3.2906441312624644,
            "count": 26
           },
           {
            "bin_start": 3.2906441312624644,
            "bin_end": 3.912048518935836,
            "count": 2
           },
           {
            "bin_start": 3.912048518935836,
            "bin_end": 4.533452906609208,
            "count": 0
           },
           {
            "bin_start": 4.533452906609208,
            "bin_end": 5.154857294282579,
            "count": 1
           }
          ]
         }
        },
        {
         "name": "WAVES-Waves",
         "dtype": "float64",
         "stats": {
          "unique_count": 720,
          "nan_count": 0,
          "min": "-0.7911815762534712",
          "max": "3.683609278495096",
          "histogram": [
           {
            "bin_start": -0.7911815762534712,
            "bin_end": -0.3437024907786144,
            "count": 415
           },
           {
            "bin_start": -0.3437024907786144,
            "bin_end": 0.10377659469624234,
            "count": 69
           },
           {
            "bin_start": 0.10377659469624234,
            "bin_end": 0.5512556801710992,
            "count": 58
           },
           {
            "bin_start": 0.5512556801710992,
            "bin_end": 0.9987347656459559,
            "count": 65
           },
           {
            "bin_start": 0.9987347656459559,
            "bin_end": 1.4462138511208127,
            "count": 54
           },
           {
            "bin_start": 1.4462138511208127,
            "bin_end": 1.8936929365956696,
            "count": 9
           },
           {
            "bin_start": 1.8936929365956696,
            "bin_end": 2.341172022070526,
            "count": 17
           },
           {
            "bin_start": 2.341172022070526,
            "bin_end": 2.788651107545383,
            "count": 10
           },
           {
            "bin_start": 2.788651107545383,
            "bin_end": 3.2361301930202395,
            "count": 15
           },
           {
            "bin_start": 3.2361301930202395,
            "bin_end": 3.683609278495096,
            "count": 8
           }
          ]
         }
        },
        {
         "name": "XEM-NEM",
         "dtype": "float64",
         "stats": {
          "unique_count": 718,
          "nan_count": 0,
          "min": "-0.8394326267908178",
          "max": "4.705147765230608",
          "histogram": [
           {
            "bin_start": -0.8394326267908178,
            "bin_end": -0.2849745875886752,
            "count": 354
           },
           {
            "bin_start": -0.2849745875886752,
            "bin_end": 0.2694834516134673,
            "count": 149
           },
           {
            "bin_start": 0.2694834516134673,
            "bin_end": 0.8239414908156099,
            "count": 102
           },
           {
            "bin_start": 0.8239414908156099,
            "bin_end": 1.3783995300177523,
            "count": 36
           },
           {
            "bin_start": 1.3783995300177523,
            "bin_end": 1.9328575692198946,
            "count": 46
           },
           {
            "bin_start": 1.9328575692198946,
            "bin_end": 2.4873156084220374,
            "count": 11
           },
           {
            "bin_start": 2.4873156084220374,
            "bin_end": 3.04177364762418,
            "count": 7
           },
           {
            "bin_start": 3.04177364762418,
            "bin_end": 3.5962316868263224,
            "count": 5
           },
           {
            "bin_start": 3.5962316868263224,
            "bin_end": 4.150689726028465,
            "count": 5
           },
           {
            "bin_start": 4.150689726028465,
            "bin_end": 4.705147765230608,
            "count": 5
           }
          ]
         }
        },
        {
         "name": "XLM-Stellar",
         "dtype": "float64",
         "stats": {
          "unique_count": 720,
          "nan_count": 0,
          "min": "-0.9311659669213351",
          "max": "3.3783054566798505",
          "histogram": [
           {
            "bin_start": -0.9311659669213351,
            "bin_end": -0.5002188245612166,
            "count": 409
           },
           {
            "bin_start": -0.5002188245612166,
            "bin_end": -0.06927168220109803,
            "count": 44
           },
           {
            "bin_start": -0.06927168220109803,
            "bin_end": 0.3616754601590205,
            "count": 33
           },
           {
            "bin_start": 0.3616754601590205,
            "bin_end": 0.7926226025191391,
            "count": 63
           },
           {
            "bin_start": 0.7926226025191391,
            "bin_end": 1.2235697448792577,
            "count": 56
           },
           {
            "bin_start": 1.2235697448792577,
            "bin_end": 1.6545168872393763,
            "count": 62
           },
           {
            "bin_start": 1.6545168872393763,
            "bin_end": 2.085464029599495,
            "count": 22
           },
           {
            "bin_start": 2.085464029599495,
            "bin_end": 2.5164111719596134,
            "count": 11
           },
           {
            "bin_start": 2.5164111719596134,
            "bin_end": 2.947358314319732,
            "count": 16
           },
           {
            "bin_start": 2.947358314319732,
            "bin_end": 3.3783054566798505,
            "count": 4
           }
          ]
         }
        },
        {
         "name": "XMR-Monero",
         "dtype": "float64",
         "stats": {
          "unique_count": 720,
          "nan_count": 0,
          "min": "-1.1048734798940363",
          "max": "3.587111107463835",
          "histogram": [
           {
            "bin_start": -1.1048734798940363,
            "bin_end": -0.6356750211582491,
            "count": 291
           },
           {
            "bin_start": -0.6356750211582491,
            "bin_end": -0.166476562422462,
            "count": 118
           },
           {
            "bin_start": -0.166476562422462,
            "bin_end": 0.30272189631332513,
            "count": 94
           },
           {
            "bin_start": 0.30272189631332513,
            "bin_end": 0.7719203550491123,
            "count": 41
           },
           {
            "bin_start": 0.7719203550491123,
            "bin_end": 1.2411188137848994,
            "count": 78
           },
           {
            "bin_start": 1.2411188137848994,
            "bin_end": 1.7103172725206865,
            "count": 50
           },
           {
            "bin_start": 1.7103172725206865,
            "bin_end": 2.1795157312564735,
            "count": 19
           },
           {
            "bin_start": 2.1795157312564735,
            "bin_end": 2.648714189992261,
            "count": 9
           },
           {
            "bin_start": 2.648714189992261,
            "bin_end": 3.1179126487280486,
            "count": 15
           },
           {
            "bin_start": 3.1179126487280486,
            "bin_end": 3.587111107463835,
            "count": 5
           }
          ]
         }
        },
        {
         "name": "XRP-XRP",
         "dtype": "float64",
         "stats": {
          "unique_count": 719,
          "nan_count": 0,
          "min": "-0.8571842068451844",
          "max": "3.9004921666246037",
          "histogram": [
           {
            "bin_start": -0.8571842068451844,
            "bin_end": -0.3814165694982055,
            "count": 453
           },
           {
            "bin_start": -0.3814165694982055,
            "bin_end": 0.09435106784877334,
            "count": 49
           },
           {
            "bin_start": 0.09435106784877334,
            "bin_end": 0.5701187051957523,
            "count": 85
           },
           {
            "bin_start": 0.5701187051957523,
            "bin_end": 1.045886342542731,
            "count": 27
           },
           {
            "bin_start": 1.045886342542731,
            "bin_end": 1.52165397988971,
            "count": 25
           },
           {
            "bin_start": 1.52165397988971,
            "bin_end": 1.997421617236689,
            "count": 26
           },
           {
            "bin_start": 1.997421617236689,
            "bin_end": 2.4731892545836676,
            "count": 22
           },
           {
            "bin_start": 2.4731892545836676,
            "bin_end": 2.9489568919306466,
            "count": 18
           },
           {
            "bin_start": 2.9489568919306466,
            "bin_end": 3.424724529277625,
            "count": 12
           },
           {
            "bin_start": 3.424724529277625,
            "bin_end": 3.9004921666246037,
            "count": 3
           }
          ]
         }
        },
        {
         "name": "XTZ-Tezos",
         "dtype": "float64",
         "stats": {
          "unique_count": 720,
          "nan_count": 0,
          "min": "-1.5403547353972213",
          "max": "3.66697871646519",
          "histogram": [
           {
            "bin_start": -1.5403547353972213,
            "bin_end": -1.0196213902109803,
            "count": 103
           },
           {
            "bin_start": -1.0196213902109803,
            "bin_end": -0.49888804502473905,
            "count": 123
           },
           {
            "bin_start": -0.49888804502473905,
            "bin_end": 0.02184530016150199,
            "count": 201
           },
           {
            "bin_start": 0.02184530016150199,
            "bin_end": 0.5425786453477432,
            "count": 140
           },
           {
            "bin_start": 0.5425786453477432,
            "bin_end": 1.0633119905339845,
            "count": 60
           },
           {
            "bin_start": 1.0633119905339845,
            "bin_end": 1.5840453357202253,
            "count": 31
           },
           {
            "bin_start": 1.5840453357202253,
            "bin_end": 2.104778680906467,
            "count": 25
           },
           {
            "bin_start": 2.104778680906467,
            "bin_end": 2.625512026092708,
            "count": 17
           },
           {
            "bin_start": 2.625512026092708,
            "bin_end": 3.1462453712789493,
            "count": 13
           },
           {
            "bin_start": 3.1462453712789493,
            "bin_end": 3.66697871646519,
            "count": 7
           }
          ]
         }
        },
        {
         "name": "ZEC-Zcash",
         "dtype": "float64",
         "stats": {
          "unique_count": 720,
          "nan_count": 0,
          "min": "-1.0592053100216876",
          "max": "4.0808638533093315",
          "histogram": [
           {
            "bin_start": -1.0592053100216876,
            "bin_end": -0.5451983936885857,
            "count": 254
           },
           {
            "bin_start": -0.5451983936885857,
            "bin_end": -0.031191477355483777,
            "count": 207
           },
           {
            "bin_start": -0.031191477355483777,
            "bin_end": 0.482815438977618,
            "count": 77
           },
           {
            "bin_start": 0.482815438977618,
            "bin_end": 0.99682235531072,
            "count": 69
           },
           {
            "bin_start": 0.99682235531072,
            "bin_end": 1.510829271643822,
            "count": 64
           },
           {
            "bin_start": 1.510829271643822,
            "bin_end": 2.0248361879769234,
            "count": 11
           },
           {
            "bin_start": 2.0248361879769234,
            "bin_end": 2.5388431043100255,
            "count": 10
           },
           {
            "bin_start": 2.5388431043100255,
            "bin_end": 3.0528500206431275,
            "count": 13
           },
           {
            "bin_start": 3.0528500206431275,
            "bin_end": 3.5668569369762295,
            "count": 7
           },
           {
            "bin_start": 3.5668569369762295,
            "bin_end": 4.0808638533093315,
            "count": 8
           }
          ]
         }
        },
        {
         "name": "ZRX-0x",
         "dtype": "float64",
         "stats": {
          "unique_count": 719,
          "nan_count": 0,
          "min": "-0.950124464491662",
          "max": "3.503649182890701",
          "histogram": [
           {
            "bin_start": -0.950124464491662,
            "bin_end": -0.5047470997534257,
            "count": 297
           },
           {
            "bin_start": -0.5047470997534257,
            "bin_end": -0.059369735015189384,
            "count": 182
           },
           {
            "bin_start": -0.059369735015189384,
            "bin_end": 0.38600762972304703,
            "count": 63
           },
           {
            "bin_start": 0.38600762972304703,
            "bin_end": 0.8313849944612832,
            "count": 40
           },
           {
            "bin_start": 0.8313849944612832,
            "bin_end": 1.2767623591995194,
            "count": 34
           },
           {
            "bin_start": 1.2767623591995194,
            "bin_end": 1.722139723937756,
            "count": 33
           },
           {
            "bin_start": 1.722139723937756,
            "bin_end": 2.167517088675992,
            "count": 31
           },
           {
            "bin_start": 2.167517088675992,
            "bin_end": 2.6128944534142287,
            "count": 23
           },
           {
            "bin_start": 2.6128944534142287,
            "bin_end": 3.0582718181524653,
            "count": 10
           },
           {
            "bin_start": 3.0582718181524653,
            "bin_end": 3.503649182890701,
            "count": 7
           }
          ]
         }
        },
        {
         "name": "_deepnote_index_column",
         "dtype": "datetime64[ns]"
        }
       ],
       "rows_top": [
        {
         "ADA-Cardano": -0.6695576055258463,
         "AOA-Aurora": 1.2615234461360583,
         "ATOM-Cosmos": -0.8314693035345835,
         "BAT-Basic Attention Token": -0.6821793705087437,
         "BCD-Bitcoin Diamond": -0.48667373400888947,
         "BCH-Bitcoin Cash": -0.44880561543030517,
         "BCN-Bytecoin": 0.30204248851306265,
         "BNB-Binance Coin": -0.617568517329039,
         "BSV-Bitcoin SV": -1.1636204816590345,
         "BTC-Bitcoin": -0.7301640926873361,
         "BTG-Bitcoin Gold": -0.5176040233532557,
         "BTS-BitShares": -0.16749578378150284,
         "BTT-BitTorrent": -0.44312625801278666,
         "CRO-Crypto.com Chain": -1.1448589765622406,
         "DASH-Dash": -0.4505696530198415,
         "DCR-Decred": -0.6165423230845698,
         "DGB-DigiByte": -0.7706191801600286,
         "DOGE-Dogecoin": -0.5341987383297041,
         "EGT-Egretia": 0.2289441703941915,
         "EOS-EOS": 0.04564531276975328,
         "ETC-Ethereum Classic": -0.52330175251884,
         "ETH-Ethereum": -0.7373117357829367,
         "HC-HyperCash": 1.9811198295615278,
         "HOT-Holo": -0.489997700994165,
         "HT-Huobi Token": -0.6168915389701607,
         "ICX-ICON": -0.7577871273436546,
         "IOST-IOStoken": -0.5612352588173655,
         "KCS-KuCoin Shares": -0.47541562549212213,
         "KMD-Komodo": -0.367654222080851,
         "LINK-Chainlink": -1.0243015157442448,
         "LSK-Lisk": -0.6854840965901459,
         "LTC-Litecoin": -0.4872392949211031,
         "MIOTA-IOTA": -0.5441701426226055,
         "MKR-Maker": -0.637140881867823,
         "MONA-MonaCoin": -1.0307202158846545,
         "NANO-Nano": -0.6367519976239927,
         "NEO-NEO": -0.72911991982558,
         "NPXS-Pundi X": -0.35045314899762997,
         "OMG-OMG Network": -0.8620734567003818,
         "ONT-Ontology": -0.11683655564853032,
         "PAX-Paxos Standard": -0.10105511289808852,
         "QTUM-Qtum": -0.574599153624014,
         "RVN-Ravencoin": -0.3620316569703421,
         "TRX-TRON": -0.7042580281468125,
         "TUSD-TrueUSD": 0.12893045476396067,
         "USDC-USD Coin": 0.07333150198547501,
         "USDT-Tether": -0.43313270690355354,
         "VET-VeChain Thor": -0.6791081926750514,
         "VSYS-V Systems": 5.154857294282579,
         "WAVES-Waves": -0.7315284652258216,
         "XEM-NEM": -0.7460958367325893,
         "XLM-Stellar": -0.7410902717691065,
         "XMR-Monero": -0.7327424578571086,
         "XRP-XRP": -0.5062105613347921,
         "XTZ-Tezos": -1.3239193665802513,
         "ZEC-Zcash": -0.7219824627654907,
         "ZRX-0x": -0.812278317637591,
         "_deepnote_index_column": "2019-09-23T00:00:00.000000"
        },
        {
         "ADA-Cardano": -0.6816477656840437,
         "AOA-Aurora": 0.9991696439088261,
         "ATOM-Cosmos": -0.8810796135490615,
         "BAT-Basic Attention Token": -0.7736999238693593,
         "BCD-Bitcoin Diamond": -0.616131318198504,
         "BCH-Bitcoin Cash": -0.7552711849950301,
         "BCN-Bytecoin": -0.15742629798330243,
         "BNB-Binance Coin": -0.6373229606619437,
         "BSV-Bitcoin SV": -1.6125299541342955,
         "BTC-Bitcoin": -0.7963925950970786,
         "BTG-Bitcoin Gold": -0.5813718886642956,
         "BTS-BitShares": -0.45964257987298984,
         "BTT-BitTorrent": -0.48047239199379843,
         "CRO-Crypto.com Chain": -1.221273117157276,
         "DASH-Dash": -0.6463403372882055,
         "DCR-Decred": -0.6652190050591593,
         "DGB-DigiByte": -0.8135696561497727,
         "DOGE-Dogecoin": -0.5363153324022955,
         "EGT-Egretia": -0.07377390656022907,
         "EOS-EOS": -0.5282695822712803,
         "ETC-Ethereum Classic": -0.5727298494181936,
         "ETH-Ethereum": -0.769944101726083,
         "HC-HyperCash": 0.8566418630388299,
         "HOT-Holo": -0.5054768715802008,
         "HT-Huobi Token": -0.706309959745931,
         "ICX-ICON": -0.8026074095694122,
         "IOST-IOStoken": -0.6461522411813173,
         "KCS-KuCoin Shares": -0.5537508112725436,
         "KMD-Komodo": -0.4897188017820648,
         "LINK-Chainlink": -1.0312294714124723,
         "LSK-Lisk": -0.7390465320120264,
         "LTC-Litecoin": -0.6483158288802586,
         "MIOTA-IOTA": -0.5892260172178566,
         "MKR-Maker": -0.6908242418061789,
         "MONA-MonaCoin": -0.9283035036059659,
         "NANO-Nano": -0.6837346641044703,
         "NEO-NEO": -0.7904577205928581,
         "NPXS-Pundi X": -0.40851653058432347,
         "OMG-OMG Network": -0.949842584748376,
         "ONT-Ontology": -0.4496963446825386,
         "PAX-Paxos Standard": 1.5153347763405962,
         "QTUM-Qtum": -0.658589024804351,
         "RVN-Ravencoin": -0.46060158003692286,
         "TRX-TRON": -0.8059335528122247,
         "TUSD-TrueUSD": -0.4917734295835649,
         "USDC-USD Coin": -0.44051392905222586,
         "USDT-Tether": 0.38731227364760995,
         "VET-VeChain Thor": -0.6896144754866879,
         "VSYS-V Systems": 3.2246964328104584,
         "WAVES-Waves": -0.7532834416419275,
         "XEM-NEM": -0.7845760926759162,
         "XLM-Stellar": -0.8038441421374987,
         "XMR-Monero": -0.8328915259228135,
         "XRP-XRP": -0.5986950777750013,
         "XTZ-Tezos": -1.446208930467946,
         "ZEC-Zcash": -0.8620293694093214,
         "ZRX-0x": -0.8494276622284861,
         "_deepnote_index_column": "2019-09-24T00:00:00.000000"
        },
        {
         "ADA-Cardano": -0.6799355101506732,
         "AOA-Aurora": 0.9052838350850339,
         "ATOM-Cosmos": -0.8706976233665928,
         "BAT-Basic Attention Token": -0.7589506931722002,
         "BCD-Bitcoin Diamond": -0.599723341435901,
         "BCH-Bitcoin Cash": -0.7325040839870374,
         "BCN-Bytecoin": -0.019303779343290903,
         "BNB-Binance Coin": -0.6360309387797625,
         "BSV-Bitcoin SV": -1.5853458944851364,
         "BTC-Bitcoin": -0.8002038808969009,
         "BTG-Bitcoin Gold": -0.5797571105707828,
         "BTS-BitShares": -0.41011652519652975,
         "BTT-BitTorrent": -0.4708964602037954,
         "CRO-Crypto.com Chain": -1.203268639533189,
         "DASH-Dash": -0.6396484352183522,
         "DCR-Decred": -0.6680300677983398,
         "DGB-DigiByte": -0.8142184548807356,
         "DOGE-Dogecoin": -0.5362845455794214,
         "EGT-Egretia": 0.16730827328233777,
         "EOS-EOS": -0.4878922143727788,
         "ETC-Ethereum Classic": -0.5663204832007815,
         "ETH-Ethereum": -0.7659917459379767,
         "HC-HyperCash": 1.0842650672862852,
         "HOT-Holo": -0.5063024273447893,
         "HT-Huobi Token": -0.7007405165576492,
         "ICX-ICON": -0.7932465604431441,
         "IOST-IOStoken": -0.6357441285569417,
         "KCS-KuCoin Shares": -0.5369082672589549,
         "KMD-Komodo": -0.4829101236301787,
         "LINK-Chainlink": -1.0285943379476483,
         "LSK-Lisk": -0.712064047087092,
         "LTC-Litecoin": -0.6148943324515365,
         "MIOTA-IOTA": -0.5735278417023617,
         "MKR-Maker": -0.6836488923077808,
         "MONA-MonaCoin": -1.0188780309210967,
         "NANO-Nano": -0.68151408014788,
         "NEO-NEO": -0.7809610273201958,
         "NPXS-Pundi X": -0.3987227071841582,
         "OMG-OMG Network": -0.9384594102853023,
         "ONT-Ontology": -0.4210617256683368,
         "PAX-Paxos Standard": 1.4006134000942712,
         "QTUM-Qtum": -0.6400601529356696,
         "RVN-Ravencoin": -0.44584187660101054,
         "TRX-TRON": -0.791120721117599,
         "TUSD-TrueUSD": 0.8725211687399466,
         "USDC-USD Coin": 1.1424186330801402,
         "USDT-Tether": 0.4438548953733173,
         "VET-VeChain Thor": -0.688982238998908,
         "VSYS-V Systems": 2.910531765661162,
         "WAVES-Waves": -0.749690515421713,
         "XEM-NEM": -0.7698788736510943,
         "XLM-Stellar": -0.7813055221589735,
         "XMR-Monero": -0.8222722552567139,
         "XRP-XRP": -0.5674625016049669,
         "XTZ-Tezos": -1.4743142055883385,
         "ZEC-Zcash": -0.8320400899603136,
         "ZRX-0x": -0.8035349426079078,
         "_deepnote_index_column": "2019-09-25T00:00:00.000000"
        },
        {
         "ADA-Cardano": -0.6812937490951838,
         "AOA-Aurora": 0.7412030290098084,
         "ATOM-Cosmos": -0.8815105798688573,
         "BAT-Basic Attention Token": -0.7864466640379856,
         "BCD-Bitcoin Diamond": -0.6741080641873531,
         "BCH-Bitcoin Cash": -0.7939603279114862,
         "BCN-Bytecoin": -0.0700426637416625,
         "BNB-Binance Coin": -0.6410063348078033,
         "BSV-Bitcoin SV": -1.638374249630431,
         "BTC-Bitcoin": -0.8224135567784859,
         "BTG-Bitcoin Gold": -0.5853819517109825,
         "BTS-BitShares": -0.42764988708198914,
         "BTT-BitTorrent": -0.48526035788879995,
         "CRO-Crypto.com Chain": -1.2135751540799053,
         "DASH-Dash": -0.690479198867664,
         "DCR-Decred": -0.6789562131105944,
         "DGB-DigiByte": -0.8208686418731054,
         "DOGE-Dogecoin": -0.5367386512168137,
         "EGT-Egretia": 0.06354150979022966,
         "EOS-EOS": -0.5453598086379319,
         "ETC-Ethereum Classic": -0.5722715097548096,
         "ETH-Ethereum": -0.7703305202861671,
         "HC-HyperCash": 1.0086018521654876,
         "HOT-Holo": -0.5199240974605007,
         "HT-Huobi Token": -0.7377483074479281,
         "ICX-ICON": -0.8074607415367896,
         "IOST-IOStoken": -0.6395989850844882,
         "KCS-KuCoin Shares": -0.5558811027337277,
         "KMD-Komodo": -0.5173297159450916,
         "LINK-Chainlink": -1.0372769992007331,
         "LSK-Lisk": -0.7481000701231016,
         "LTC-Litecoin": -0.6466272999138785,
         "MIOTA-IOTA": -0.5651695538659681,
         "MKR-Maker": -0.6886282002930293,
         "MONA-MonaCoin": -1.002167616678151,
         "NANO-Nano": -0.6843994272735366,
         "NEO-NEO": -0.7950842141793225,
         "NPXS-Pundi X": -0.39802314836986075,
         "OMG-OMG Network": -0.9459023009118535,
         "ONT-Ontology": -0.5191136028987852,
         "PAX-Paxos Standard": 0.3681210138769222,
         "QTUM-Qtum": -0.6498094353231476,
         "RVN-Ravencoin": -0.4270099176388043,
         "TRX-TRON": -0.8032374934870522,
         "TUSD-TrueUSD": -0.1196645857852864,
         "USDC-USD Coin": 0.3775371119346326,
         "USDT-Tether": 0.014207898994712134,
         "VET-VeChain Thor": -0.6911020907520524,
         "VSYS-V Systems": 2.9687948187020563,
         "WAVES-Waves": -0.7537495735778035,
         "XEM-NEM": -0.758641534080187,
         "XLM-Stellar": -0.7745317201112271,
         "XMR-Monero": -0.8483738933230544,
         "XRP-XRP": -0.5762353852225055,
         "XTZ-Tezos": -1.478484042626283,
         "ZEC-Zcash": -0.8788302444426168,
         "ZRX-0x": -0.7923497421181965,
         "_deepnote_index_column": "2019-09-26T00:00:00.000000"
        },
        {
         "ADA-Cardano": -0.6797902364110215,
         "AOA-Aurora": 0.8889050023930329,
         "ATOM-Cosmos": -0.8735529915837936,
         "BAT-Basic Attention Token": -0.7388339305231789,
         "BCD-Bitcoin Diamond": -0.6314465405655568,
         "BCH-Bitcoin Cash": -0.7675976158560499,
         "BCN-Bytecoin": -0.05031087536451797,
         "BNB-Binance Coin": -0.6383180283225711,
         "BSV-Bitcoin SV": -1.61682144955562,
         "BTC-Bitcoin": -0.8161199015295395,
         "BTG-Bitcoin Gold": -0.5841512537206203,
         "BTS-BitShares": -0.29182325896930633,
         "BTT-BitTorrent": -0.48190878176229884,
         "CRO-Crypto.com Chain": -1.2008425042505106,
         "DASH-Dash": -0.659281752527802,
         "DCR-Decred": -0.6678907909218781,
         "DGB-DigiByte": -0.8145752941827651,
         "DOGE-Dogecoin": -0.5362460620508288,
         "EGT-Egretia": 0.07680493068771721,
         "EOS-EOS": -0.5104281156087,
         "ETC-Ethereum Classic": -0.5729410029587075,
         "ETH-Ethereum": -0.761870463910439,
         "HC-HyperCash": 1.1004017357564102,
         "HOT-Holo": -0.517447430166735,
         "HT-Huobi Token": -0.7127982528339382,
         "ICX-ICON": -0.7992327340245284,
         "IOST-IOStoken": -0.6352485041462573,
         "KCS-KuCoin Shares": -0.5568772436194401,
         "KMD-Komodo": -0.45166971946027584,
         "LINK-Chainlink": -1.0362969558089636,
         "LSK-Lisk": -0.7382078657943433,
         "LTC-Litecoin": -0.6356507377963648,
         "MIOTA-IOTA": -0.5709781380358322,
         "MKR-Maker": -0.6827754396612249,
         "MONA-MonaCoin": -0.9590952053618932,
         "NANO-Nano": -0.6875025224243878,
         "NEO-NEO": -0.7872704963096303,
         "NPXS-Pundi X": -0.3903280014125881,
         "OMG-OMG Network": -0.9383506854342242,
         "ONT-Ontology": -0.49591734175937346,
         "PAX-Paxos Standard": 0.4664536220881305,
         "QTUM-Qtum": -0.6443674228571662,
         "RVN-Ravencoin": -0.40483479693448793,
         "TRX-TRON": -0.7781982298693585,
         "TUSD-TrueUSD": -0.18769122361533935,
         "USDC-USD Coin": -0.05427534563368232,
         "USDT-Tether": 0.7004122334078611,
         "VET-VeChain Thor": -0.6892053812887128,
         "VSYS-V Systems": 3.0212140349284176,
         "WAVES-Waves": -0.7520811986103582,
         "XEM-NEM": -0.7625666074102581,
         "XLM-Stellar": -0.7706286907978728,
         "XMR-Monero": -0.8445603363854696,
         "XRP-XRP": -0.5739200102424337,
         "XTZ-Tezos": -1.447632077889872,
         "ZEC-Zcash": -0.8385848898635673,
         "ZRX-0x": -0.800423165035587,
         "_deepnote_index_column": "2019-09-27T00:00:00.000000"
        },
        {
         "ADA-Cardano": -0.680216184657379,
         "AOA-Aurora": 0.8950470646525334,
         "ATOM-Cosmos": -0.8736998201358525,
         "BAT-Basic Attention Token": -0.7491495124660332,
         "BCD-Bitcoin Diamond": -0.6421653341298018,
         "BCH-Bitcoin Cash": -0.735843957742446,
         "BCN-Bytecoin": 0.09626812400855554,
         "BNB-Binance Coin": -0.6380311470966944,
         "BSV-Bitcoin SV": -1.6158157114590583,
         "BTC-Bitcoin": -0.8139846522941576,
         "BTG-Bitcoin Gold": -0.5815778486270002,
         "BTS-BitShares": -0.3258653057469193,
         "BTT-BitTorrent": -0.479036002225298,
         "CRO-Crypto.com Chain": -1.1998756984611727,
         "DASH-Dash": -0.6599851366644103,
         "DCR-Decred": -0.6617903114344642,
         "DGB-DigiByte": -0.8156133721523058,
         "DOGE-Dogecoin": -0.5360228575849919,
         "EGT-Egretia": 0.06432171101949373,
         "EOS-EOS": -0.5118063702160264,
         "ETC-Ethereum Classic": -0.5728333398628136,
         "ETH-Ethereum": -0.7629831927273569,
         "HC-HyperCash": 1.1264921486376243,
         "HOT-Holo": -0.5149707628729694,
         "HT-Huobi Token": -0.7156289912770403,
         "ICX-ICON": -0.7985425949886268,
         "IOST-IOStoken": -0.6353035735252223,
         "KCS-KuCoin Shares": -0.5554978460952743,
         "KMD-Komodo": -0.4647826236782865,
         "LINK-Chainlink": -1.0350048993097916,
         "LSK-Lisk": -0.7339860086441009,
         "LTC-Litecoin": -0.6425179309920092,
         "MIOTA-IOTA": -0.5703448783016615,
         "MKR-Maker": -0.689891722736274,
         "MONA-MonaCoin": -0.9743465654164958,
         "NANO-Nano": -0.6876927732586873,
         "NEO-NEO": -0.7876810748442493,
         "NPXS-Pundi X": -0.3868302073411005,
         "OMG-OMG Network": -0.9388387568459989,
         "ONT-Ontology": -0.46575413050392755,
         "PAX-Paxos Standard": 0.07655339650661865,
         "QTUM-Qtum": -0.6384897634480363,
         "RVN-Ravencoin": -0.4190254515632325,
         "TRX-TRON": -0.7790969163110827,
         "TUSD-TrueUSD": -0.18612378956394635,
         "USDC-USD Coin": -0.3649372544206444,
         "USDT-Tether": 0.12979332640003693,
         "VET-VeChain Thor": -0.6887776918999204,
         "VSYS-V Systems": 2.982995342161371,
         "WAVES-Waves": -0.7516210183726583,
         "XEM-NEM": -0.7643256217544753,
         "XLM-Stellar": -0.7730291454459921,
         "XMR-Monero": -0.8435911780961932,
         "XRP-XRP": -0.5764713646869013,
         "XTZ-Tezos": -1.4442258809319852,
         "ZEC-Zcash": -0.7897481480671723,
         "ZRX-0x": -0.8067127154629321,
         "_deepnote_index_column": "2019-09-28T00:00:00.000000"
        },
        {
         "ADA-Cardano": -0.6822824567796094,
         "AOA-Aurora": 0.8324565254366717,
         "ATOM-Cosmos": -0.8847801834510025,
         "BAT-Basic Attention Token": -0.7664248206647818,
         "BCD-Bitcoin Diamond": -0.6846631896044618,
         "BCH-Bitcoin Cash": -0.7773729273527406,
         "BCN-Bytecoin": 0.01734097049997759,
         "BNB-Binance Coin": -0.6410086380314568,
         "BSV-Bitcoin SV": -1.6502048817994945,
         "BTC-Bitcoin": -0.8232059405206971,
         "BTG-Bitcoin Gold": -0.5954223117859231,
         "BTS-BitShares": -0.328218267731548,
         "BTT-BitTorrent": -0.4876543408363006,
         "CRO-Crypto.com Chain": -1.2062237817572035,
         "DASH-Dash": -0.6867565091716417,
         "DCR-Decred": -0.6657243158830111,
         "DGB-DigiByte": -0.8445173556167029,
         "DOGE-Dogecoin": -0.5361613982879252,
         "EGT-Egretia": -0.033203442638502646,
         "EOS-EOS": -0.5462071606166297,
         "ETC-Ethereum Classic": -0.5782221016576631,
         "ETH-Ethereum": -0.7670258732054058,
         "HC-HyperCash": 1.0498595120902858,
         "HOT-Holo": -0.524671043106885,
         "HT-Huobi Token": -0.730614952319186,
         "ICX-ICON": -0.8019262140199371,
         "IOST-IOStoken": -0.6383323893682945,
         "KCS-KuCoin Shares": -0.5545954212488917,
         "KMD-Komodo": -0.4878335189869736,
         "LINK-Chainlink": -1.0328142242719758,
         "LSK-Lisk": -0.7694191809068555,
         "LTC-Litecoin": -0.6634706052830859,
         "MIOTA-IOTA": -0.5786291006720702,
         "MKR-Maker": -0.7008081635632726,
         "MONA-MonaCoin": -0.9939589212307155,
         "NANO-Nano": -0.6958880508963382,
         "NEO-NEO": -0.7954736122481922,
         "NPXS-Pundi X": -0.3959244719269682,
         "OMG-OMG Network": -0.9480775915454704,
         "ONT-Ontology": -0.510655896983121,
         "PAX-Paxos Standard": -0.007296114371167709,
         "QTUM-Qtum": -0.6438407357951068,
         "RVN-Ravencoin": -0.3766490982044626,
         "TRX-TRON": -0.7876189429136393,
         "TUSD-TrueUSD": 0.033003490819362706,
         "USDC-USD Coin": -0.06908685473229159,
         "USDT-Tether": 0.12633153323318305,
         "VET-VeChain Thor": -0.6901351408295654,
         "VSYS-V Systems": 2.9060904496821163,
         "WAVES-Waves": -0.7552618114420335,
         "XEM-NEM": -0.7755338867081227,
         "XLM-Stellar": -0.7767794740819852,
         "XMR-Monero": -0.8624127821126644,
         "XRP-XRP": -0.5808300442057417,
         "XTZ-Tezos": -1.4537027146923087,
         "ZEC-Zcash": -0.8295223744127251,
         "ZRX-0x": -0.8258213495911623,
         "_deepnote_index_column": "2019-09-29T00:00:00.000000"
        },
        {
         "ADA-Cardano": -0.680171051068361,
         "AOA-Aurora": 0.8207573592280994,
         "ATOM-Cosmos": -0.8181149726833228,
         "BAT-Basic Attention Token": -0.7221587571005657,
         "BCD-Bitcoin Diamond": -0.5963402130292288,
         "BCH-Bitcoin Cash": -0.7353672002494667,
         "BCN-Bytecoin": 0.028616278144060134,
         "BNB-Binance Coin": -0.6372450089521317,
         "BSV-Bitcoin SV": -1.565243464200425,
         "BTC-Bitcoin": -0.807305408758798,
         "BTG-Bitcoin Gold": -0.5826308368919866,
         "BTS-BitShares": -0.2906847289767441,
         "BTT-BitTorrent": -0.491963510141802,
         "CRO-Crypto.com Chain": -1.188492928413118,
         "DASH-Dash": -0.6605068112581494,
         "DCR-Decred": -0.6654925329652558,
         "DGB-DigiByte": -0.8898359469744617,
         "DOGE-Dogecoin": -0.5347375077300002,
         "EGT-Egretia": -0.0175994180532232,
         "EOS-EOS": -0.4260708262602891,
         "ETC-Ethereum Classic": -0.5708859722062374,
         "ETH-Ethereum": -0.7576740284826561,
         "HC-HyperCash": 1.1579105627450195,
         "HOT-Holo": -0.5139388181672335,
         "HT-Huobi Token": -0.7114502978830376,
         "ICX-ICON": -0.7950665599309106,
         "IOST-IOStoken": -0.6346427409776428,
         "KCS-KuCoin Shares": -0.5528971094416335,
         "KMD-Komodo": -0.4588189740203454,
         "LINK-Chainlink": -1.030383259295255,
         "LSK-Lisk": -0.7404348003542233,
         "LTC-Litecoin": -0.6332681637643705,
         "MIOTA-IOTA": -0.5663453431384781,
         "MKR-Maker": -0.6845949874195991,
         "MONA-MonaCoin": -0.9237646729868276,
         "NANO-Nano": -0.6870213215837276,
         "NEO-NEO": -0.7749565831862755,
         "NPXS-Pundi X": -0.4113147658415134,
         "OMG-OMG Network": -0.9368126652780949,
         "ONT-Ontology": -0.4394931175937042,
         "PAX-Paxos Standard": 0.2743620153500014,
         "QTUM-Qtum": -0.6276425330214069,
         "RVN-Ravencoin": -0.37035399577516986,
         "TRX-TRON": -0.7507418096153033,
         "TUSD-TrueUSD": 0.3772120085030266,
         "USDC-USD Coin": 0.28904783962727343,
         "USDT-Tether": 0.48347319494989,
         "VET-VeChain Thor": -0.6883314073203111,
         "VSYS-V Systems": 3.0593158509591727,
         "WAVES-Waves": -0.751129686693441,
         "XEM-NEM": -0.769929754231299,
         "XLM-Stellar": -0.7542958263473101,
         "XMR-Monero": -0.8515650816481258,
         "XRP-XRP": -0.5369739548050276,
         "XTZ-Tezos": -1.4365532600485573,
         "ZEC-Zcash": -0.813837826063663,
         "ZRX-0x": -0.8176579331064491,
         "_deepnote_index_column": "2019-09-30T00:00:00.000000"
        }
       ],
       "rows_bottom": [
        {
         "ADA-Cardano": 3.450736127597568,
         "AOA-Aurora": -0.5845153659634821,
         "ATOM-Cosmos": 2.275921361158968,
         "BAT-Basic Attention Token": 1.439617339137213,
         "BCD-Bitcoin Diamond": 1.5271189747421736,
         "BCH-Bitcoin Cash": 1.442231000298118,
         "BCN-Bytecoin": 1.7303750646020815,
         "BNB-Binance Coin": 2.0922530798482377,
         "BSV-Bitcoin SV": -0.08826167805021377,
         "BTC-Bitcoin": 1.5697966890219346,
         "BTG-Bitcoin Gold": 1.9817901241190616,
         "BTS-BitShares": 0.9316603880970192,
         "BTT-BitTorrent": 1.6428324316851757,
         "CRO-Crypto.com Chain": 1.2061908850247847,
         "DASH-Dash": 1.661687079399793,
         "DCR-Decred": 1.78268549313081,
         "DGB-DigiByte": 1.105459979187359,
         "DOGE-Dogecoin": 1.7285038230925884,
         "EGT-Egretia": 0.9619844979327197,
         "EOS-EOS": 1.3401039098985652,
         "ETC-Ethereum Classic": 2.2693457921952023,
         "ETH-Ethereum": 2.79754985656514,
         "HC-HyperCash": -0.8175453020851199,
         "HOT-Holo": 1.9001717811478336,
         "HT-Huobi Token": 1.2922625312290315,
         "ICX-ICON": 1.2432127404390283,
         "IOST-IOStoken": 1.9733216188217333,
         "KCS-KuCoin Shares": 2.4886793222953876,
         "KMD-Komodo": 0.4570763881881812,
         "LINK-Chainlink": 1.4858229664103313,
         "LSK-Lisk": 1.4302117856789918,
         "LTC-Litecoin": 1.5442885794557788,
         "MIOTA-IOTA": 1.8523501791421833,
         "MKR-Maker": 1.8614784740312171,
         "MONA-MonaCoin": 0.05131283434385163,
         "NANO-Nano": 1.5573544865325402,
         "NEO-NEO": 1.3913165093831197,
         "NPXS-Pundi X": 0.514315993296113,
         "OMG-OMG Network": 1.4952346365567333,
         "ONT-Ontology": 0.9936705730388686,
         "PAX-Paxos Standard": 0.08294501604034464,
         "QTUM-Qtum": 1.8740337814500372,
         "RVN-Ravencoin": 1.5313544807646324,
         "TRX-TRON": 1.9516603824844774,
         "TUSD-TrueUSD": -0.10951074800046591,
         "USDC-USD Coin": -0.11527977400583551,
         "USDT-Tether": -0.12220790718313629,
         "VET-VeChain Thor": 1.907987151552367,
         "VSYS-V Systems": -0.602184868976508,
         "WAVES-Waves": 3.040332365730364,
         "XEM-NEM": 0.44563107535682084,
         "XLM-Stellar": 1.1232407882924396,
         "XMR-Monero": 1.7103273998652324,
         "XRP-XRP": 2.337067859784023,
         "XTZ-Tezos": 1.893355072879896,
         "ZEC-Zcash": 1.237500594104887,
         "ZRX-0x": 1.1278864207472186,
         "_deepnote_index_column": "2021-09-03T00:00:00.000000"
        },
        {
         "ADA-Cardano": 3.261588378667637,
         "AOA-Aurora": -0.6175831762436736,
         "ATOM-Cosmos": 2.320346419415161,
         "BAT-Basic Attention Token": 1.5695721157558298,
         "BCD-Bitcoin Diamond": 1.513150466812392,
         "BCH-Bitcoin Cash": 1.4253163006674254,
         "BCN-Bytecoin": 2.700079428379602,
         "BNB-Binance Coin": 2.1446540727882852,
         "BSV-Bitcoin SV": 0.06968619195881814,
         "BTC-Bitcoin": 1.5642026181466981,
         "BTG-Bitcoin Gold": 2.0003869023956438,
         "BTS-BitShares": 1.0012804345142112,
         "BTT-BitTorrent": 1.6026747562509605,
         "CRO-Crypto.com Chain": 1.2678865931823624,
         "DASH-Dash": 1.7188682367346828,
         "DCR-Decred": 1.6996943180388193,
         "DGB-DigiByte": 1.1736388316309123,
         "DOGE-Dogecoin": 1.7515833957612956,
         "EGT-Egretia": 1.0156255950281825,
         "EOS-EOS": 1.3606500704638291,
         "ETC-Ethereum Classic": 2.2213506502449873,
         "ETH-Ethereum": 2.748333196857956,
         "HC-HyperCash": -0.7896287638552763,
         "HOT-Holo": 1.8293661334974243,
         "HT-Huobi Token": 1.3006679903403287,
         "ICX-ICON": 1.4196212215019093,
         "IOST-IOStoken": 2.34527353114071,
         "KCS-KuCoin Shares": 2.3942629257524284,
         "KMD-Komodo": 0.5205957123219449,
         "LINK-Chainlink": 1.411190103307769,
         "LSK-Lisk": 1.417509060617518,
         "LTC-Litecoin": 1.5319478952999224,
         "MIOTA-IOTA": 2.614825839932133,
         "MKR-Maker": 1.7798325441052174,
         "MONA-MonaCoin": 0.047256784951299376,
         "NANO-Nano": 1.5439601849581166,
         "NEO-NEO": 1.4221858584696017,
         "NPXS-Pundi X": 0.6360134832195139,
         "OMG-OMG Network": 1.5841130596583055,
         "ONT-Ontology": 1.1066923374970983,
         "PAX-Paxos Standard": -0.07950959994393315,
         "QTUM-Qtum": 1.992272333524582,
         "RVN-Ravencoin": 1.8470899666273672,
         "TRX-TRON": 1.9475986296597603,
         "TUSD-TrueUSD": -0.35703366365860945,
         "USDC-USD Coin": -0.2686966256850887,
         "USDT-Tether": -0.12384648928216163,
         "VET-VeChain Thor": 1.9441228139633349,
         "VSYS-V Systems": -0.47717918036172713,
         "WAVES-Waves": 3.0087631415937124,
         "XEM-NEM": 0.515337470237158,
         "XLM-Stellar": 1.1308801588597406,
         "XMR-Monero": 1.723020253943477,
         "XRP-XRP": 2.2375727266040935,
         "XTZ-Tezos": 1.9613423038624305,
         "ZEC-Zcash": 1.298861050110806,
         "ZRX-0x": 1.2648941475309685,
         "_deepnote_index_column": "2021-09-04T00:00:00.000000"
        },
        {
         "ADA-Cardano": 3.3695737907869043,
         "AOA-Aurora": -0.6134103468883155,
         "ATOM-Cosmos": 2.5079992513200824,
         "BAT-Basic Attention Token": 1.756202579582532,
         "BCD-Bitcoin Diamond": 1.649379296263668,
         "BCH-Bitcoin Cash": 1.6663873081609333,
         "BCN-Bytecoin": 0.5972855171487532,
         "BNB-Binance Coin": 2.1790425391303856,
         "BSV-Bitcoin SV": 0.16151487863619052,
         "BTC-Bitcoin": 1.6674438451404507,
         "BTG-Bitcoin Gold": 2.021988354709738,
         "BTS-BitShares": 1.1110672498040046,
         "BTT-BitTorrent": 1.6654374241483159,
         "CRO-Crypto.com Chain": 1.5548239713190537,
         "DASH-Dash": 1.8808665265897364,
         "DCR-Decred": 1.752463977175237,
         "DGB-DigiByte": 1.2498150367518075,
         "DOGE-Dogecoin": 1.8636281122915042,
         "EGT-Egretia": 1.2472657795941966,
         "EOS-EOS": 1.7323386556258897,
         "ETC-Ethereum Classic": 2.419052200684671,
         "ETH-Ethereum": 2.8057659839840854,
         "HC-HyperCash": -0.6886006243869895,
         "HOT-Holo": 2.031226075720034,
         "HT-Huobi Token": 1.4577560364491138,
         "ICX-ICON": 1.613716251886717,
         "IOST-IOStoken": 2.4732850009443035,
         "KCS-KuCoin Shares": 2.473842711822535,
         "KMD-Komodo": 0.6098330582921812,
         "LINK-Chainlink": 1.7233876024876453,
         "LSK-Lisk": 1.6370955150035649,
         "LTC-Litecoin": 1.8107667792048059,
         "MIOTA-IOTA": 2.27464319169632,
         "MKR-Maker": 1.9094959091834907,
         "MONA-MonaCoin": 0.14460108119825907,
         "NANO-Nano": 1.732406099931521,
         "NEO-NEO": 1.7532945782739766,
         "NPXS-Pundi X": 0.826236186841546,
         "OMG-OMG Network": 2.281799690968327,
         "ONT-Ontology": 1.3428350432879503,
         "PAX-Paxos Standard": -0.6569926153831338,
         "QTUM-Qtum": 2.393130273724443,
         "RVN-Ravencoin": 1.7832131710562789,
         "TRX-TRON": 2.0584351779769827,
         "TUSD-TrueUSD": -0.47801135861242894,
         "USDC-USD Coin": -0.8076114853279001,
         "USDT-Tether": -0.1868011212403257,
         "VET-VeChain Thor": 2.1081301655468687,
         "VSYS-V Systems": -0.49909935381467246,
         "WAVES-Waves": 2.8785211338135666,
         "XEM-NEM": 0.7004541772858968,
         "XLM-Stellar": 1.2975084206820606,
         "XMR-Monero": 1.826229070870741,
         "XRP-XRP": 2.3803320571634523,
         "XTZ-Tezos": 2.079668221079647,
         "ZEC-Zcash": 1.5214167515356467,
         "ZRX-0x": 1.3937292784861381,
         "_deepnote_index_column": "2021-09-05T00:00:00.000000"
        },
        {
         "ADA-Cardano": 3.26392136209247,
         "AOA-Aurora": -0.6017299870894236,
         "ATOM-Cosmos": 2.422214492373843,
         "BAT-Basic Attention Token": 1.6745721860943814,
         "BCD-Bitcoin Diamond": 1.6113191310900694,
         "BCH-Bitcoin Cash": 1.7619734274565826,
         "BCN-Bytecoin": 1.2362797519542008,
         "BNB-Binance Coin": 2.1354896905301626,
         "BSV-Bitcoin SV": 0.10862502618100187,
         "BTC-Bitcoin": 1.7221913573934473,
         "BTG-Bitcoin Gold": 2.003211754438219,
         "BTS-BitShares": 1.0627542988346195,
         "BTT-BitTorrent": 1.6379851907723944,
         "CRO-Crypto.com Chain": 1.588809566224711,
         "DASH-Dash": 1.762845855509679,
         "DCR-Decred": 1.7132222513513646,
         "DGB-DigiByte": 1.4887334501122584,
         "DOGE-Dogecoin": 1.8254948607761845,
         "EGT-Egretia": 1.3902042622442066,
         "EOS-EOS": 1.7032817074782884,
         "ETC-Ethereum Classic": 2.4218865057921053,
         "ETH-Ethereum": 2.7871334567604165,
         "HC-HyperCash": -0.6757918957085418,
         "HOT-Holo": 1.8813794488895625,
         "HT-Huobi Token": 1.612217589527141,
         "ICX-ICON": 1.5483898520908224,
         "IOST-IOStoken": 2.640062009376484,
         "KCS-KuCoin Shares": 2.6332453884975076,
         "KMD-Komodo": 0.7698243693092982,
         "LINK-Chainlink": 1.8363729590997657,
         "LSK-Lisk": 1.6181840038379225,
         "LTC-Litecoin": 1.611913852937612,
         "MIOTA-IOTA": 2.2768723770588,
         "MKR-Maker": 1.8308508937031807,
         "MONA-MonaCoin": 0.318484672434283,
         "NANO-Nano": 1.7511899326697422,
         "NEO-NEO": 1.6645686889938678,
         "NPXS-Pundi X": 0.8203163802431976,
         "OMG-OMG Network": 2.325998334897891,
         "ONT-Ontology": 1.2558294899626952,
         "PAX-Paxos Standard": 1.6703648992708051,
         "QTUM-Qtum": 2.2986478290980283,
         "RVN-Ravencoin": 1.6576358359460148,
         "TRX-TRON": 2.017936958102251,
         "TUSD-TrueUSD": -0.12215367105892941,
         "USDC-USD Coin": -0.1898804081660735,
         "USDT-Tether": -0.06947518115941674,
         "VET-VeChain Thor": 2.0380099323986496,
         "VSYS-V Systems": -0.4959511036075791,
         "WAVES-Waves": 2.8453031702481755,
         "XEM-NEM": 0.6564319358601387,
         "XLM-Stellar": 1.4598114052779874,
         "XMR-Monero": 1.822805295954936,
         "XRP-XRP": 2.6124300758043058,
         "XTZ-Tezos": 2.109768513455042,
         "ZEC-Zcash": 1.4910927365213695,
         "ZRX-0x": 1.3523429967485396,
         "_deepnote_index_column": "2021-09-06T00:00:00.000000"
        },
        {
         "ADA-Cardano": 2.8299848795020366,
         "AOA-Aurora": -0.6639506279176856,
         "ATOM-Cosmos": 1.8540349723885337,
         "BAT-Basic Attention Token": 1.1408516923896521,
         "BCD-Bitcoin Diamond": 1.2347748421230544,
         "BCH-Bitcoin Cash": 1.278477949830011,
         "BCN-Bytecoin": 0.9871757895869402,
         "BNB-Binance Coin": 1.7100099751409796,
         "BSV-Bitcoin SV": -0.4183901367745604,
         "BTC-Bitcoin": 1.4003510581075282,
         "BTG-Bitcoin Gold": 1.5695896181051985,
         "BTS-BitShares": 0.48547746699580663,
         "BTT-BitTorrent": 1.244454325838835,
         "CRO-Crypto.com Chain": 1.1762952434404006,
         "DASH-Dash": 1.1400632932598735,
         "DCR-Decred": 1.3418268422010533,
         "DGB-DigiByte": 0.892321842921211,
         "DOGE-Dogecoin": 1.4318716301952061,
         "EGT-Egretia": 0.8525644743534877,
         "EOS-EOS": 0.8596964437014042,
         "ETC-Ethereum Classic": 1.8145014401236748,
         "ETH-Ethereum": 2.3325193159579296,
         "HC-HyperCash": -1.0193576226847463,
         "HOT-Holo": 1.4355207215524495,
         "HT-Huobi Token": 1.13770885027138,
         "ICX-ICON": 1.0246608073552348,
         "IOST-IOStoken": 2.0875460841157993,
         "KCS-KuCoin Shares": 2.0877975059940224,
         "KMD-Komodo": 0.3226124332191899,
         "LINK-Chainlink": 1.276624938758335,
         "LSK-Lisk": 1.0056230415456662,
         "LTC-Litecoin": 1.0728058685320288,
         "MIOTA-IOTA": 1.763959452152039,
         "MKR-Maker": 1.3876024516946737,
         "MONA-MonaCoin": -0.04966927603967801,
         "NANO-Nano": 1.2337455834874649,
         "NEO-NEO": 1.0789518877077562,
         "NPXS-Pundi X": 0.6035488474567648,
         "OMG-OMG Network": 1.7687913378172135,
         "ONT-Ontology": 0.5189287944432264,
         "PAX-Paxos Standard": 0.4001515270322024,
         "QTUM-Qtum": 1.6933818075058225,
         "RVN-Ravencoin": 1.1872746738168747,
         "TRX-TRON": 1.4567921856196653,
         "TUSD-TrueUSD": 2.1318572481148306,
         "USDC-USD Coin": 1.337022873522142,
         "USDT-Tether": 0.4345292092254295,
         "VET-VeChain Thor": 1.5522442295984462,
         "VSYS-V Systems": -0.6800908107020923,
         "WAVES-Waves": 2.6066105225725393,
         "XEM-NEM": 0.318554936445646,
         "XLM-Stellar": 0.9340486192594232,
         "XMR-Monero": 1.2912346311878837,
         "XRP-XRP": 1.9006461335027753,
         "XTZ-Tezos": 1.2336190917387089,
         "ZEC-Zcash": 0.8920046528909071,
         "ZRX-0x": 0.810367976742974,
         "_deepnote_index_column": "2021-09-07T00:00:00.000000"
        },
        {
         "ADA-Cardano": 2.767533588794813,
         "AOA-Aurora": -0.67450312959824,
         "ATOM-Cosmos": 1.7914371735734749,
         "BAT-Basic Attention Token": 1.114447844339948,
         "BCD-Bitcoin Diamond": 1.1481090104378193,
         "BCH-Bitcoin Cash": 1.2260255490763916,
         "BCN-Bytecoin": 0.842035914105019,
         "BNB-Binance Coin": 1.6859371191862491,
         "BSV-Bitcoin SV": -0.43336566210094307,
         "BTC-Bitcoin": 1.3521413803640066,
         "BTG-Bitcoin Gold": 1.5619688888053935,
         "BTS-BitShares": 0.4430799763087776,
         "BTT-BitTorrent": 1.284669887780721,
         "CRO-Crypto.com Chain": 1.2628836468468183,
         "DASH-Dash": 1.0656686386488634,
         "DCR-Decred": 1.2883956931368463,
         "DGB-DigiByte": 0.9453509530373518,
         "DOGE-Dogecoin": 1.4358469786988186,
         "EGT-Egretia": 0.7328983020907007,
         "EOS-EOS": 0.7578350200823024,
         "ETC-Ethereum Classic": 1.7827744753556094,
         "ETH-Ethereum": 2.390804164329394,
         "HC-HyperCash": -0.9710951677954353,
         "HOT-Holo": 1.4559507500587228,
         "HT-Huobi Token": 1.1638158378652987,
         "ICX-ICON": 1.0595807246360536,
         "IOST-IOStoken": 3.452912806617311,
         "KCS-KuCoin Shares": 1.9983874855469164,
         "KMD-Komodo": 0.315935240360957,
         "LINK-Chainlink": 1.1805468612682317,
         "LSK-Lisk": 0.9813691505038827,
         "LTC-Litecoin": 1.088958204955237,
         "MIOTA-IOTA": 1.7585687083085284,
         "MKR-Maker": 1.3621678382434743,
         "MONA-MonaCoin": -0.14120554640020247,
         "NANO-Nano": 1.16099756979558,
         "NEO-NEO": 1.0444466854889396,
         "NPXS-Pundi X": 0.4133467808197547,
         "OMG-OMG Network": 1.9474992487030744,
         "ONT-Ontology": 0.5252570149762116,
         "PAX-Paxos Standard": 0.3986917832747191,
         "QTUM-Qtum": 1.666522182352341,
         "RVN-Ravencoin": 1.2319903512563606,
         "TRX-TRON": 1.6826595758343874,
         "TUSD-TrueUSD": 1.1995913625058157,
         "USDC-USD Coin": 1.179751231654379,
         "USDT-Tether": 0.3712495533532746,
         "VET-VeChain Thor": 1.4630416116337641,
         "VSYS-V Systems": -0.6777990332185371,
         "WAVES-Waves": 2.63658429270759,
         "XEM-NEM": 0.2928598800095941,
         "XLM-Stellar": 0.897919577915473,
         "XMR-Monero": 1.227980430410159,
         "XRP-XRP": 1.8169961329637467,
         "XTZ-Tezos": 1.1711901418491661,
         "ZEC-Zcash": 0.8721454219435862,
         "ZRX-0x": 0.79231916685925,
         "_deepnote_index_column": "2021-09-08T00:00:00.000000"
        },
        {
         "ADA-Cardano": 2.820001752738652,
         "AOA-Aurora": -0.673779711655733,
         "ATOM-Cosmos": 2.6768602410860085,
         "BAT-Basic Attention Token": 1.2355754038796467,
         "BCD-Bitcoin Diamond": 1.158372051915461,
         "BCH-Bitcoin Cash": 1.211026778371182,
         "BCN-Bytecoin": 0.5732704085272363,
         "BNB-Binance Coin": 1.7063323595737774,
         "BSV-Bitcoin SV": -0.4435793963095963,
         "BTC-Bitcoin": 1.3628793886060562,
         "BTG-Bitcoin Gold": 1.553885700726428,
         "BTS-BitShares": 0.5029780012664806,
         "BTT-BitTorrent": 1.2820894614412686,
         "CRO-Crypto.com Chain": 1.4550784356168656,
         "DASH-Dash": 1.0651829857411008,
         "DCR-Decred": 1.2859027725937466,
         "DGB-DigiByte": 0.9075139193658188,
         "DOGE-Dogecoin": 1.3972208301492852,
         "EGT-Egretia": 0.8332232078599111,
         "EOS-EOS": 0.7884814593166108,
         "ETC-Ethereum Classic": 1.7853371921539416,
         "ETH-Ethereum": 2.311014650364895,
         "HC-HyperCash": -0.9497057363972466,
         "HOT-Holo": 1.4509666635189606,
         "HT-Huobi Token": 1.192119892890552,
         "ICX-ICON": 1.3199197863357226,
         "IOST-IOStoken": 3.5103581539377027,
         "KCS-KuCoin Shares": 1.9878914942915136,
         "KMD-Komodo": 0.2834332642248243,
         "LINK-Chainlink": 1.2474541871457678,
         "LSK-Lisk": 0.988235196089896,
         "LTC-Litecoin": 1.0926557201567018,
         "MIOTA-IOTA": 1.8376733108535204,
         "MKR-Maker": 1.290067941084322,
         "MONA-MonaCoin": 0.01145810230854501,
         "NANO-Nano": 1.1966750895174205,
         "NEO-NEO": 1.1014492863949303,
         "NPXS-Pundi X": 0.43643089252982525,
         "OMG-OMG Network": 2.2352902749237447,
         "ONT-Ontology": 0.6015383586358889,
         "PAX-Paxos Standard": -0.09204129047875738,
         "QTUM-Qtum": 1.8484407409125516,
         "RVN-Ravencoin": 1.2189955882614294,
         "TRX-TRON": 1.6824937526912953,
         "TUSD-TrueUSD": -0.08953223358149426,
         "USDC-USD Coin": -0.09972389162941825,
         "USDT-Tether": -0.12315413064876522,
         "VET-VeChain Thor": 1.5141995848981988,
         "VSYS-V Systems": -0.6708784110325581,
         "WAVES-Waves": 3.0971902617096156,
         "XEM-NEM": 0.32053404564251975,
         "XLM-Stellar": 0.9029385437789839,
         "XMR-Monero": 1.268544820964076,
         "XRP-XRP": 1.7705738640557431,
         "XTZ-Tezos": 2.0844339765765083,
         "ZEC-Zcash": 0.9072529436340576,
         "ZRX-0x": 0.9099314000192854,
         "_deepnote_index_column": "2021-09-09T00:00:00.000000"
        },
        {
         "ADA-Cardano": 2.6348907802189836,
         "AOA-Aurora": -0.6937232510435705,
         "ATOM-Cosmos": 3.061514908617904,
         "BAT-Basic Attention Token": 1.088887675556653,
         "BCD-Bitcoin Diamond": 1.0168814875435126,
         "BCH-Bitcoin Cash": 1.070178667544111,
         "BCN-Bytecoin": 0.05611173597607589,
         "BNB-Binance Coin": 1.596638636001697,
         "BSV-Bitcoin SV": -0.5134880687349712,
         "BTC-Bitcoin": 1.2796344362937762,
         "BTG-Bitcoin Gold": 1.432590563130523,
         "BTS-BitShares": 0.38852461719417225,
         "BTT-BitTorrent": 1.17262171838726,
         "CRO-Crypto.com Chain": 1.277387010600195,
         "DASH-Dash": 0.9502339340372203,
         "DCR-Decred": 1.2319150452605934,
         "DGB-DigiByte": 0.7753372032607826,
         "DOGE-Dogecoin": 1.3030694150734778,
         "EGT-Egretia": 0.5850415869316566,
         "EOS-EOS": 0.6326794067412818,
         "ETC-Ethereum Classic": 1.6777985777483766,
         "ETH-Ethereum": 2.1124876309684204,
         "HC-HyperCash": -1.0272124806529144,
         "HOT-Holo": 1.3608037764394671,
         "HT-Huobi Token": 1.0620149208259333,
         "ICX-ICON": 1.5560871233069213,
         "IOST-IOStoken": 3.2137085509704293,
         "KCS-KuCoin Shares": 1.7808136080761356,
         "KMD-Komodo": 0.19893377784424685,
         "LINK-Chainlink": 1.1119394390294086,
         "LSK-Lisk": 0.8672179683196456,
         "LTC-Litecoin": 1.0136614983133514,
         "MIOTA-IOTA": 1.7894990394275412,
         "MKR-Maker": 1.1710701655582947,
         "MONA-MonaCoin": -0.0729510925120599,
         "NANO-Nano": 1.0322011661127704,
         "NEO-NEO": 0.9989955188076204,
         "NPXS-Pundi X": 0.43659990593935954,
         "OMG-OMG Network": 2.0036071009399783,
         "ONT-Ontology": 0.4163488788989492,
         "PAX-Paxos Standard": 0.5210015402554846,
         "QTUM-Qtum": 1.7190713863125875,
         "RVN-Ravencoin": 1.1313369982445372,
         "TRX-TRON": 1.6175366037159107,
         "TUSD-TrueUSD": 0.34431156776447036,
         "USDC-USD Coin": 0.45263905871042187,
         "USDT-Tether": 0.02508369919400968,
         "VET-VeChain Thor": 1.3510422194869125,
         "VSYS-V Systems": -0.6805359357522553,
         "WAVES-Waves": 2.8397690913362377,
         "XEM-NEM": 0.2309561674767225,
         "XLM-Stellar": 0.8138059367977849,
         "XMR-Monero": 1.1450253987621986,
         "XRP-XRP": 1.6882244435130145,
         "XTZ-Tezos": 2.5480876117763778,
         "ZEC-Zcash": 0.7430843903489286,
         "ZRX-0x": 0.800756943732875,
         "_deepnote_index_column": "2021-09-10T00:00:00.000000"
        },
        {
         "ADA-Cardano": 3.113498415895191,
         "AOA-Aurora": -0.6798873783665802,
         "ATOM-Cosmos": 2.8651515334396818,
         "BAT-Basic Attention Token": 1.1717424358454829,
         "BCD-Bitcoin Diamond": 1.0529815257451538,
         "BCH-Bitcoin Cash": 1.138588293088656,
         "BCN-Bytecoin": 4.412880969261548,
         "BNB-Binance Coin": 1.6569158560203536,
         "BSV-Bitcoin SV": -0.42739680738168967,
         "BTC-Bitcoin": 1.3270441690033725,
         "BTG-Bitcoin Gold": 1.4570253247737368,
         "BTS-BitShares": 0.4412480056487453,
         "BTT-BitTorrent": 1.2099689057207688,
         "CRO-Crypto.com Chain": 1.3877265487592871,
         "DASH-Dash": 1.0605981932425081,
         "DCR-Decred": 1.2941119671946226,
         "DGB-DigiByte": 0.8466036888649888,
         "DOGE-Dogecoin": 1.3425554395858836,
         "EGT-Egretia": 0.6457659749473613,
         "EOS-EOS": 0.7438015832877546,
         "ETC-Ethereum Classic": 1.7497582952164237,
         "ETH-Ethereum": 2.2113106115828005,
         "HC-HyperCash": -0.9921451999178068,
         "HOT-Holo": 1.4001543872920401,
         "HT-Huobi Token": 1.1276492878479691,
         "ICX-ICON": 1.6548794083604352,
         "IOST-IOStoken": 3.21354785852261,
         "KCS-KuCoin Shares": 1.919276727272453,
         "KMD-Komodo": 0.4695040213227969,
         "LINK-Chainlink": 1.1982251012174066,
         "LSK-Lisk": 1.090888594064188,
         "LTC-Litecoin": 1.140635293490609,
         "MIOTA-IOTA": 1.7836238148546575,
         "MKR-Maker": 1.2515656826887114,
         "MONA-MonaCoin": -0.12540576788904514,
         "NANO-Nano": 1.1199649387044361,
         "NEO-NEO": 1.067238349703677,
         "NPXS-Pundi X": 0.4230723972355257,
         "OMG-OMG Network": 2.315811844079464,
         "ONT-Ontology": 0.5253306194673001,
         "PAX-Paxos Standard": 1.1300348398332036,
         "QTUM-Qtum": 1.797898088506162,
         "RVN-Ravencoin": 1.2331615248326127,
         "TRX-TRON": 1.7608339852108985,
         "TUSD-TrueUSD": 0.23510843740467033,
         "USDC-USD Coin": 0.21552578715535153,
         "USDT-Tether": 0.11306517253031975,
         "VET-VeChain Thor": 1.4420206781746234,
         "VSYS-V Systems": -0.6728901518559611,
         "WAVES-Waves": 3.1056460419193814,
         "XEM-NEM": 0.2741171460527026,
         "XLM-Stellar": 0.8858945217338141,
         "XMR-Monero": 1.2254459821078276,
         "XRP-XRP": 1.8042676782771359,
         "XTZ-Tezos": 2.887225347783608,
         "ZEC-Zcash": 0.8311431303895135,
         "ZRX-0x": 0.8566237704112739,
         "_deepnote_index_column": "2021-09-11T00:00:00.000000"
        }
       ]
      },
      "text/plain": "            ADA-Cardano  AOA-Aurora  ATOM-Cosmos  BAT-Basic Attention Token  \\\ntime                                                                          \n2019-09-23    -0.669558    1.261523    -0.831469                  -0.682179   \n2019-09-24    -0.681648    0.999170    -0.881080                  -0.773700   \n2019-09-25    -0.679936    0.905284    -0.870698                  -0.758951   \n2019-09-26    -0.681294    0.741203    -0.881511                  -0.786447   \n2019-09-27    -0.679790    0.888905    -0.873553                  -0.738834   \n...                 ...         ...          ...                        ...   \n2021-09-07     2.829985   -0.663951     1.854035                   1.140852   \n2021-09-08     2.767534   -0.674503     1.791437                   1.114448   \n2021-09-09     2.820002   -0.673780     2.676860                   1.235575   \n2021-09-10     2.634891   -0.693723     3.061515                   1.088888   \n2021-09-11     3.113498   -0.679887     2.865152                   1.171742   \n\n            BCD-Bitcoin Diamond  BCH-Bitcoin Cash  BCN-Bytecoin  \\\ntime                                                              \n2019-09-23            -0.486674         -0.448806      0.302042   \n2019-09-24            -0.616131         -0.755271     -0.157426   \n2019-09-25            -0.599723         -0.732504     -0.019304   \n2019-09-26            -0.674108         -0.793960     -0.070043   \n2019-09-27            -0.631447         -0.767598     -0.050311   \n...                         ...               ...           ...   \n2021-09-07             1.234775          1.278478      0.987176   \n2021-09-08             1.148109          1.226026      0.842036   \n2021-09-09             1.158372          1.211027      0.573270   \n2021-09-10             1.016881          1.070179      0.056112   \n2021-09-11             1.052982          1.138588      4.412881   \n\n            BNB-Binance Coin  BSV-Bitcoin SV  BTC-Bitcoin  ...  \\\ntime                                                       ...   \n2019-09-23         -0.617569       -1.163620    -0.730164  ...   \n2019-09-24         -0.637323       -1.612530    -0.796393  ...   \n2019-09-25         -0.636031       -1.585346    -0.800204  ...   \n2019-09-26         -0.641006       -1.638374    -0.822414  ...   \n2019-09-27         -0.638318       -1.616821    -0.816120  ...   \n...                      ...             ...          ...  ...   \n2021-09-07          1.710010       -0.418390     1.400351  ...   \n2021-09-08          1.685937       -0.433366     1.352141  ...   \n2021-09-09          1.706332       -0.443579     1.362879  ...   \n2021-09-10          1.596639       -0.513488     1.279634  ...   \n2021-09-11          1.656916       -0.427397     1.327044  ...   \n\n            VET-VeChain Thor  VSYS-V Systems  WAVES-Waves   XEM-NEM  \\\ntime                                                                  \n2019-09-23         -0.679108        5.154857    -0.731528 -0.746096   \n2019-09-24         -0.689614        3.224696    -0.753283 -0.784576   \n2019-09-25         -0.688982        2.910532    -0.749691 -0.769879   \n2019-09-26         -0.691102        2.968795    -0.753750 -0.758642   \n2019-09-27         -0.689205        3.021214    -0.752081 -0.762567   \n...                      ...             ...          ...       ...   \n2021-09-07          1.552244       -0.680091     2.606611  0.318555   \n2021-09-08          1.463042       -0.677799     2.636584  0.292860   \n2021-09-09          1.514200       -0.670878     3.097190  0.320534   \n2021-09-10          1.351042       -0.680536     2.839769  0.230956   \n2021-09-11          1.442021       -0.672890     3.105646  0.274117   \n\n            XLM-Stellar  XMR-Monero   XRP-XRP  XTZ-Tezos  ZEC-Zcash    ZRX-0x  \ntime                                                                           \n2019-09-23    -0.741090   -0.732742 -0.506211  -1.323919  -0.721982 -0.812278  \n2019-09-24    -0.803844   -0.832892 -0.598695  -1.446209  -0.862029 -0.849428  \n2019-09-25    -0.781306   -0.822272 -0.567463  -1.474314  -0.832040 -0.803535  \n2019-09-26    -0.774532   -0.848374 -0.576235  -1.478484  -0.878830 -0.792350  \n2019-09-27    -0.770629   -0.844560 -0.573920  -1.447632  -0.838585 -0.800423  \n...                 ...         ...       ...        ...        ...       ...  \n2021-09-07     0.934049    1.291235  1.900646   1.233619   0.892005  0.810368  \n2021-09-08     0.897920    1.227980  1.816996   1.171190   0.872145  0.792319  \n2021-09-09     0.902939    1.268545  1.770574   2.084434   0.907253  0.909931  \n2021-09-10     0.813806    1.145025  1.688224   2.548088   0.743084  0.800757  \n2021-09-11     0.885895    1.225446  1.804268   2.887225   0.831143  0.856624  \n\n[720 rows x 57 columns]",
      "text/html": "<div>\n<style scoped>\n    .dataframe tbody tr th:only-of-type {\n        vertical-align: middle;\n    }\n\n    .dataframe tbody tr th {\n        vertical-align: top;\n    }\n\n    .dataframe thead th {\n        text-align: right;\n    }\n</style>\n<table border=\"1\" class=\"dataframe\">\n  <thead>\n    <tr style=\"text-align: right;\">\n      <th></th>\n      <th>ADA-Cardano</th>\n      <th>AOA-Aurora</th>\n      <th>ATOM-Cosmos</th>\n      <th>BAT-Basic Attention Token</th>\n      <th>BCD-Bitcoin Diamond</th>\n      <th>BCH-Bitcoin Cash</th>\n      <th>BCN-Bytecoin</th>\n      <th>BNB-Binance Coin</th>\n      <th>BSV-Bitcoin SV</th>\n      <th>BTC-Bitcoin</th>\n      <th>...</th>\n      <th>VET-VeChain Thor</th>\n      <th>VSYS-V Systems</th>\n      <th>WAVES-Waves</th>\n      <th>XEM-NEM</th>\n      <th>XLM-Stellar</th>\n      <th>XMR-Monero</th>\n      <th>XRP-XRP</th>\n      <th>XTZ-Tezos</th>\n      <th>ZEC-Zcash</th>\n      <th>ZRX-0x</th>\n    </tr>\n    <tr>\n      <th>time</th>\n      <th></th>\n      <th></th>\n      <th></th>\n      <th></th>\n      <th></th>\n      <th></th>\n      <th></th>\n      <th></th>\n      <th></th>\n      <th></th>\n      <th></th>\n      <th></th>\n      <th></th>\n      <th></th>\n      <th></th>\n      <th></th>\n      <th></th>\n      <th></th>\n      <th></th>\n      <th></th>\n      <th></th>\n    </tr>\n  </thead>\n  <tbody>\n    <tr>\n      <th>2019-09-23</th>\n      <td>-0.669558</td>\n      <td>1.261523</td>\n      <td>-0.831469</td>\n      <td>-0.682179</td>\n      <td>-0.486674</td>\n      <td>-0.448806</td>\n      <td>0.302042</td>\n      <td>-0.617569</td>\n      <td>-1.163620</td>\n      <td>-0.730164</td>\n      <td>...</td>\n      <td>-0.679108</td>\n      <td>5.154857</td>\n      <td>-0.731528</td>\n      <td>-0.746096</td>\n      <td>-0.741090</td>\n      <td>-0.732742</td>\n      <td>-0.506211</td>\n      <td>-1.323919</td>\n      <td>-0.721982</td>\n      <td>-0.812278</td>\n    </tr>\n    <tr>\n      <th>2019-09-24</th>\n      <td>-0.681648</td>\n      <td>0.999170</td>\n      <td>-0.881080</td>\n      <td>-0.773700</td>\n      <td>-0.616131</td>\n      <td>-0.755271</td>\n      <td>-0.157426</td>\n      <td>-0.637323</td>\n      <td>-1.612530</td>\n      <td>-0.796393</td>\n      <td>...</td>\n      <td>-0.689614</td>\n      <td>3.224696</td>\n      <td>-0.753283</td>\n      <td>-0.784576</td>\n      <td>-0.803844</td>\n      <td>-0.832892</td>\n      <td>-0.598695</td>\n      <td>-1.446209</td>\n      <td>-0.862029</td>\n      <td>-0.849428</td>\n    </tr>\n    <tr>\n      <th>2019-09-25</th>\n      <td>-0.679936</td>\n      <td>0.905284</td>\n      <td>-0.870698</td>\n      <td>-0.758951</td>\n      <td>-0.599723</td>\n      <td>-0.732504</td>\n      <td>-0.019304</td>\n      <td>-0.636031</td>\n      <td>-1.585346</td>\n      <td>-0.800204</td>\n      <td>...</td>\n      <td>-0.688982</td>\n      <td>2.910532</td>\n      <td>-0.749691</td>\n      <td>-0.769879</td>\n      <td>-0.781306</td>\n      <td>-0.822272</td>\n      <td>-0.567463</td>\n      <td>-1.474314</td>\n      <td>-0.832040</td>\n      <td>-0.803535</td>\n    </tr>\n    <tr>\n      <th>2019-09-26</th>\n      <td>-0.681294</td>\n      <td>0.741203</td>\n      <td>-0.881511</td>\n      <td>-0.786447</td>\n      <td>-0.674108</td>\n      <td>-0.793960</td>\n      <td>-0.070043</td>\n      <td>-0.641006</td>\n      <td>-1.638374</td>\n      <td>-0.822414</td>\n      <td>...</td>\n      <td>-0.691102</td>\n      <td>2.968795</td>\n      <td>-0.753750</td>\n      <td>-0.758642</td>\n      <td>-0.774532</td>\n      <td>-0.848374</td>\n      <td>-0.576235</td>\n      <td>-1.478484</td>\n      <td>-0.878830</td>\n      <td>-0.792350</td>\n    </tr>\n    <tr>\n      <th>2019-09-27</th>\n      <td>-0.679790</td>\n      <td>0.888905</td>\n      <td>-0.873553</td>\n      <td>-0.738834</td>\n      <td>-0.631447</td>\n      <td>-0.767598</td>\n      <td>-0.050311</td>\n      <td>-0.638318</td>\n      <td>-1.616821</td>\n      <td>-0.816120</td>\n      <td>...</td>\n      <td>-0.689205</td>\n      <td>3.021214</td>\n      <td>-0.752081</td>\n      <td>-0.762567</td>\n      <td>-0.770629</td>\n      <td>-0.844560</td>\n      <td>-0.573920</td>\n      <td>-1.447632</td>\n      <td>-0.838585</td>\n      <td>-0.800423</td>\n    </tr>\n    <tr>\n      <th>...</th>\n      <td>...</td>\n      <td>...</td>\n      <td>...</td>\n      <td>...</td>\n      <td>...</td>\n      <td>...</td>\n      <td>...</td>\n      <td>...</td>\n      <td>...</td>\n      <td>...</td>\n      <td>...</td>\n      <td>...</td>\n      <td>...</td>\n      <td>...</td>\n      <td>...</td>\n      <td>...</td>\n      <td>...</td>\n      <td>...</td>\n      <td>...</td>\n      <td>...</td>\n      <td>...</td>\n    </tr>\n    <tr>\n      <th>2021-09-07</th>\n      <td>2.829985</td>\n      <td>-0.663951</td>\n      <td>1.854035</td>\n      <td>1.140852</td>\n      <td>1.234775</td>\n      <td>1.278478</td>\n      <td>0.987176</td>\n      <td>1.710010</td>\n      <td>-0.418390</td>\n      <td>1.400351</td>\n      <td>...</td>\n      <td>1.552244</td>\n      <td>-0.680091</td>\n      <td>2.606611</td>\n      <td>0.318555</td>\n      <td>0.934049</td>\n      <td>1.291235</td>\n      <td>1.900646</td>\n      <td>1.233619</td>\n      <td>0.892005</td>\n      <td>0.810368</td>\n    </tr>\n    <tr>\n      <th>2021-09-08</th>\n      <td>2.767534</td>\n      <td>-0.674503</td>\n      <td>1.791437</td>\n      <td>1.114448</td>\n      <td>1.148109</td>\n      <td>1.226026</td>\n      <td>0.842036</td>\n      <td>1.685937</td>\n      <td>-0.433366</td>\n      <td>1.352141</td>\n      <td>...</td>\n      <td>1.463042</td>\n      <td>-0.677799</td>\n      <td>2.636584</td>\n      <td>0.292860</td>\n      <td>0.897920</td>\n      <td>1.227980</td>\n      <td>1.816996</td>\n      <td>1.171190</td>\n      <td>0.872145</td>\n      <td>0.792319</td>\n    </tr>\n    <tr>\n      <th>2021-09-09</th>\n      <td>2.820002</td>\n      <td>-0.673780</td>\n      <td>2.676860</td>\n      <td>1.235575</td>\n      <td>1.158372</td>\n      <td>1.211027</td>\n      <td>0.573270</td>\n      <td>1.706332</td>\n      <td>-0.443579</td>\n      <td>1.362879</td>\n      <td>...</td>\n      <td>1.514200</td>\n      <td>-0.670878</td>\n      <td>3.097190</td>\n      <td>0.320534</td>\n      <td>0.902939</td>\n      <td>1.268545</td>\n      <td>1.770574</td>\n      <td>2.084434</td>\n      <td>0.907253</td>\n      <td>0.909931</td>\n    </tr>\n    <tr>\n      <th>2021-09-10</th>\n      <td>2.634891</td>\n      <td>-0.693723</td>\n      <td>3.061515</td>\n      <td>1.088888</td>\n      <td>1.016881</td>\n      <td>1.070179</td>\n      <td>0.056112</td>\n      <td>1.596639</td>\n      <td>-0.513488</td>\n      <td>1.279634</td>\n      <td>...</td>\n      <td>1.351042</td>\n      <td>-0.680536</td>\n      <td>2.839769</td>\n      <td>0.230956</td>\n      <td>0.813806</td>\n      <td>1.145025</td>\n      <td>1.688224</td>\n      <td>2.548088</td>\n      <td>0.743084</td>\n      <td>0.800757</td>\n    </tr>\n    <tr>\n      <th>2021-09-11</th>\n      <td>3.113498</td>\n      <td>-0.679887</td>\n      <td>2.865152</td>\n      <td>1.171742</td>\n      <td>1.052982</td>\n      <td>1.138588</td>\n      <td>4.412881</td>\n      <td>1.656916</td>\n      <td>-0.427397</td>\n      <td>1.327044</td>\n      <td>...</td>\n      <td>1.442021</td>\n      <td>-0.672890</td>\n      <td>3.105646</td>\n      <td>0.274117</td>\n      <td>0.885895</td>\n      <td>1.225446</td>\n      <td>1.804268</td>\n      <td>2.887225</td>\n      <td>0.831143</td>\n      <td>0.856624</td>\n    </tr>\n  </tbody>\n</table>\n<p>720 rows × 57 columns</p>\n</div>"
     },
     "metadata": {}
    }
   ]
  },
  {
   "cell_type": "code",
   "metadata": {
    "tags": [],
    "cell_id": "00009-f4fa43e5-d362-40bb-a5ee-1acc440cbe88",
    "deepnote_to_be_reexecuted": false,
    "source_hash": "f81843fb",
    "execution_start": 1631547460969,
    "execution_millis": 1495,
    "deepnote_cell_type": "code"
   },
   "source": "df_full_z.to_csv('lunar_unsup_prices_z_50.csv', index=True)\ndf_full_price.to_csv('lunar_unsup_prices_50.csv', index=True)",
   "execution_count": null,
   "outputs": []
  },
  {
   "cell_type": "code",
   "metadata": {
    "tags": [],
    "cell_id": "00010-796f931d-3f70-4d75-b6a2-8320e12a14c8",
    "deepnote_to_be_reexecuted": false,
    "source_hash": "956b933e",
    "execution_start": 1631547468407,
    "execution_millis": 114,
    "deepnote_cell_type": "code"
   },
   "source": "df_full_z.info(verbose=True, null_counts=True)",
   "execution_count": null,
   "outputs": [
    {
     "name": "stdout",
     "text": " 117   POWR-Power Ledger                                    720 non-null    float64\n 118   PPT-Populous                                         720 non-null    float64\n 119   QASH-QASH                                            720 non-null    float64\n 120   QKC-QuarkChain                                       720 non-null    float64\n 121   RDD-ReddCoin                                         720 non-null    float64\n 122   SNX-Synthetix Network Token                          720 non-null    float64\n 123   TFUEL-Theta Fuel                                     720 non-null    float64\n 124   TOMO-TomoChain                                       720 non-null    float64\n 125   TRUE-TrueChain                                       720 non-null    float64\n 126   VERI-Veritaseum                                      720 non-null    float64\n 127   WAN-Wanchain                                         720 non-null    float64\n 128   WICC-WaykiChain                                      720 non-null    float64\n 129   ZEN-Horizen                                          720 non-null    float64\n 130   ABT-Arcblock                                         720 non-null    float64\n 131   ANT-Aragon                                           720 non-null    float64\n 132   APL-Apollo Coin                                      720 non-null    float64\n 133   BFT-BnkToTheFuture                                   720 non-null    float64\n 134   BHP-Blockchain of Hash Power                         720 non-null    float64\n 135   BOTX-botXcoin                                        720 non-null    float64\n 136   BRD-Bread                                            720 non-null    float64\n 137   C20-CRYPTO20                                         720 non-null    float64\n 138   CRPT-Crypterium                                      720 non-null    float64\n 139   CTXC-Cortex                                          720 non-null    float64\n 140   CVC-Civic                                            720 non-null    float64\n 141   DAC-Davinci Coin                                     720 non-null    float64\n 142   DGTX-Digitex Futures                                 720 non-null    float64\n 143   DRGN-Dragonchain                                     720 non-null    float64\n 144   EDO-Eidoo                                            720 non-null    float64\n 145   FET-Fetch                                            720 non-null    float64\n 146   FUN-FunFair                                          720 non-null    float64\n 147   GAS-Gas                                              720 non-null    float64\n 148   GBYTE-Obyte                                          720 non-null    float64\n 149   GNO-Gnosis                                           720 non-null    float64\n 150   GRS-Groestlcoin                                      720 non-null    float64\n 151   HYN-Hyperion                                         720 non-null    float64\n 152   IOTX-IoTeX                                           720 non-null    float64\n 153   ITC-IoT Chain                                        720 non-null    float64\n 154   KAN-BitKan                                           720 non-null    float64\n 155   LXT-Litex                                            720 non-null    float64\n 156   MATIC-Polygon                                        720 non-null    float64\n 157   META-Metadium                                        720 non-null    float64\n 158   MITH-Mithril                                         720 non-null    float64\n 159   MTL-Metal                                            720 non-null    float64\n 160   NXT-Nxt                                              720 non-null    float64\n 161   POLY-Polymath                                        720 non-null    float64\n 162   RLC-iExec RLC                                        720 non-null    float64\n 163   SEELE-Seele                                          720 non-null    float64\n 164   SKY-Skycoin                                          720 non-null    float64\n 165   STORJ-Storj                                          720 non-null    float64\n 166   SYS-Syscoin                                          720 non-null    float64\n 167   TEL-Telcoin                                          720 non-null    float64\n 168   TT-ThunderCore                                       720 non-null    float64\n 169   UGAS-Ultrain                                         720 non-null    float64\n 170   VTC-Vertcoin                                         720 non-null    float64\n 171   ACT-Achain                                           720 non-null    float64\n 172   AERGO-Aergo                                          720 non-null    float64\n 173   ANKR-Ankr                                            720 non-null    float64\n 174   BCV-BitCapitalVendor                                 720 non-null    float64\n 175   CND-Cindicator                                       720 non-null    float64\n 176   DX-DxChain                                           720 non-null    float64\n 177   ETZ-Ether Zero                                       720 non-null    float64\n 178   EVX-Everex                                           720 non-null    float64\n 179   FOAM-FOAM Token                                      720 non-null    float64\n 180   GTO-Gifto                                            720 non-null    float64\n 181   HPB-High Performance Blockchain                      720 non-null    float64\n 182   HYC-HYCON                                            720 non-null    float64\n 183   ILC-ILCoin                                           720 non-null    float64\n 184   INT-Internet Node Token                              720 non-null    float64\n 185   IQ-Everipedia                                        720 non-null    float64\n 186   IRIS-IRIS Network                                    720 non-null    float64\n 187   LBA-Cred                                             720 non-null    float64\n 188   LTO-LTO Network                                      720 non-null    float64\n 189   MDA-Moeda Loyalty Points                             720 non-null    float64\n 190   MFT-Mainframe                                        720 non-null    float64\n 191   MHC-#MetaHash                                        720 non-null    float64\n 192   MTC-Docademic                                        720 non-null    float64\n 193   NEBL-Neblio                                          720 non-null    float64\n 194   NKN-NKN                                              720 non-null    float64\n 195   NXS-Nexus                                            720 non-null    float64\n 196   OCN-Odyssey                                          720 non-null    float64\n 197   OGO-Origo                                            720 non-null    float64\n 198   PAY-TenX                                             720 non-null    float64\n 199   QRL-Quantum Resistant Ledger                         720 non-null    float64\n 200   RUFF-RuffChain                                       720 non-null    float64\n 201   TOP-Top Network                                      720 non-null    float64\n 202   UTK-UTRUST                                           720 non-null    float64\n 203   ADX-AdEx                                             720 non-null    float64\n 204   AEON-Aeon                                            720 non-null    float64\n 205   ARRR-Pirate Chain                                    720 non-null    float64\n 206   BLOCK-Blocknet                                       720 non-null    float64\n 207   BTR-Bitrue Coin                                      720 non-null    float64\n 208   BURST-Burst                                          720 non-null    float64\n 209   DATA-Streamr DATAcoin                                720 non-null    float64\n 210   DCN-Dentacoin                                        720 non-null    float64\n 211   DUSK-Dusk Network                                    720 non-null    float64\n 212   EVN-Envion                                           720 non-null    float64\n 213   FLUX-Flux                                            720 non-null    float64\n 214   GO-GoChain                                           720 non-null    float64\n 215   KIN-Kin                                              720 non-null    float64\n 216   MAN-Matrix AI Network                                720 non-null    float64\n 217   MOC-Mossland                                         720 non-null    float64\n 218   NCASH-Nucleus Vision                                 720 non-null    float64\n 219   OST-Simple Token                                     720 non-null    float64\n 220   PLR-Pillar                                           720 non-null    float64\n 221   PMA-PumaPay                                          720 non-null    float64\n 222   POE-Po.et                                            720 non-null    float64\n 223   PPC-Peercoin                                         720 non-null    float64\n 224   PZM-PRIZM                                            720 non-null    float64\n 225   RCN-Ripio Credit Network                             720 non-null    float64\n 226   RDN-Raiden Network Token                             720 non-null    float64\n 227   REQ-Request Network                                  720 non-null    float64\n 228   RSR-Reserve Rights                                   720 non-null    float64\n 229   SALT-SALT                                            720 non-null    float64\n 230   TCT-TokenClub                                        720 non-null    float64\n 231   TKY-Thekey                                           720 non-null    float64\n 232   TNB-Time New Bank                                    720 non-null    float64\n 233   TPAY-TokenPay                                        234 non-null    float64\n 234   TRIO-Tripio                                          720 non-null    float64\n 235   VITE-VITE                                            720 non-null    float64\n 236   WGR-Wagerr                                           720 non-null    float64\n 237   BLZ-Bluzelle                                         720 non-null    float64\n 238   CDT-Blox                                             720 non-null    float64\n 239   CS-Credits                                           720 non-null    float64\n 240   DBC-DeepBrain Wallet                                 720 non-null    float64\n 241   DERO-Dero                                            720 non-null    float64\n 242   DMT-DMarket                                          720 non-null    float64\n 243   DTA-DATA                                             720 non-null    float64\n 244   EDR-Endor                                            720 non-null    float64\n 245   FLO-FlorinCoin                                       720 non-null    float64\n 246   GUSD-Gemini Dollar                                   720 non-null    float64\n 247   GVT-Genesis Vision                                   720 non-null    float64\n 248   KCASH-Kcash                                          720 non-null    float64\n 249   LOC-LockTrip                                         720 non-null    float64\n 250   MBL-MovieBloc                                        720 non-null    float64\n 251   NAV-Nav Coin                                         720 non-null    float64\n 252   NMR-Numeraire                                        720 non-null    float64\n 253   OAX-OAX                                              720 non-null    float64\n 254   PRO-Propy                                            720 non-null    float64\n 255   QSP-Quantstamp                                       720 non-null    float64\n 256   SBD-Steem Backed Dollars                             720 non-null    float64\n 257   SMART-SmartCash                                      720 non-null    float64\n 258   SMT-SmartMesh                                        720 non-null    float64\n 259   SOC-All Sports                                       720 non-null    float64\n 260   VIA-Viacoin                                          720 non-null    float64\n 261   WABI-Tael                                            720 non-null    float64\n 262   AOG-smARTOFGIVING                                    720 non-null    float64\n 263   AST-AirSwap                                          720 non-null    float64\n 264   BTX-Bitcore                                          720 non-null    float64\n 265   CNN-Content Neutrality Network                       720 non-null    float64\n 266   DNT-district0x                                       720 non-null    float64\n 267   DVPN-Sentinel                                        720 non-null    float64\n 268   GNX-Genaro Network                                   720 non-null    float64\n 269   GTC-Game.com                                         720 non-null    float64\n 270   KEY-Selfkey                                          720 non-null    float64\n 271   LCC-Litecoin Cash                                    720 non-null    float64\n 272   LYM-Lympo                                            720 non-null    float64\n 273   MDS-MediShares                                       720 non-null    float64\n 274   MED-MediBloc                                         720 non-null    float64\n 275   MLN-Enzyme                                           720 non-null    float64\n 276   MTH-Monetha                                          720 non-null    float64\n 277   MTV-MultiVAC                                         720 non-null    float64\n 278   MWAT-Restart Energy MWAT                             720 non-null    float64\n 279   NIX-NIX                                              720 non-null    float64\n 280   PHX-Red Pulse Phoenix                                720 non-null    float64\n 281   RFR-Refereum                                         720 non-null    float64\n 282   S4F-S4FE                                             720 non-null    float64\n 283   SNGLS-SingularDTV                                    720 non-null    float64\n 284   SRN-SIRIN LABS Token                                 720 non-null    float64\n 285   SWFTC-SwftCoin                                       720 non-null    float64\n 286   UPP-Sentinel Protocol                                720 non-null    float64\n 287   VIBE-VIBE                                            720 non-null    float64\n 288   VIDT-VIDT Datalink                                   720 non-null    float64\n 289   XDN-DigitalNote                                      720 non-null    float64\n 290   XYO-XYO                                              720 non-null    float64\n 291   APPC-AppCoins                                        720 non-null    float64\n 292   AVA-Travala.com                                      720 non-null    float64\n 293   BCPT-BlockMason Credit Protocol                      720 non-null    float64\n 294   CPC-CPChain                                          720 non-null    float64\n 295   CVT-CyberVein                                        720 non-null    float64\n 296   DAG-Constellation                                    720 non-null    float64\n 297   DGX-Digix Gold Token                                 720 non-null    float64\n 298   DLT-Agrello                                          720 non-null    float64\n 299   GSC-Global Social Chain                              720 non-null    float64\n 300   LBC-LBRY Credits                                     720 non-null    float64\n 301   LEND-Aave (Old)                                      720 non-null    float64\n 302   MER-Mercury                                          720 non-null    float64\n 303   MITX-Morpheus Labs                                   720 non-null    float64\n 304   MVL-Mass Vehicle Ledger                              720 non-null    float64\n 305   MVP-Merculet                                         720 non-null    float64\n 306   MXC-Machine Exchange Coin                            720 non-null    float64\n 307   NLG-Gulden                                           720 non-null    float64\n 308   PI-Plian                                             720 non-null    float64\n 309   POA-POA Network                                      720 non-null    float64\n 310   QLC-QLC Chain                                        720 non-null    float64\n 311   SKM-Skrumble                                         720 non-null    float64\n 312   SSP-Smartshare                                       720 non-null    float64\n 313   STPT-STP Network                                     720 non-null    float64\n 314   SWM-Swarm Fund Token                                 720 non-null    float64\n 315   UBQ-Ubiq                                             720 non-null    float64\n 316   VEIL-Veil                                            720 non-null    float64\n 317   VEX-Vexanium                                         720 non-null    float64\n 318   VIB-Viberate                                         720 non-null    float64\n 319   YOYOW-YOYOW                                          720 non-null    float64\n 320   ABL-Airbloc                                          720 non-null    float64\n 321   ABYSS-The Abyss                                      720 non-null    float64\n 322   ADS-AdShares                                         720 non-null    float64\n 323   AMB-Ambrosus                                         720 non-null    float64\n 324   BOMB-BOMB                                            720 non-null    float64\n 325   BTU-BTU Protocol                                     720 non-null    float64\n 326   COVA-COVA                                            720 non-null    float64\n 327   DOCK-Dock                                            720 non-null    float64\n 328   FTC-Feathercoin                                      720 non-null    float64\n 329   FTI-FansTime                                         720 non-null    float64\n 330   GAME-GameCredits                                     720 non-null    float64\n 331   NIM-Nimiq                                            720 non-null    float64\n 332   PRE-Presearch                                        720 non-null    float64\n 333   SINS-SafeInsure                                      720 non-null    float64\n 334   SUB-Substratum                                       720 non-null    float64\n 335   TRTL-TurtleCoin                                      720 non-null    float64\n 336   TUBE-BitTube                                         720 non-null    float64\n 337   UNO2-Unobtanium                                      720 non-null    float64\n 338   BAAS-BaaSid                                          720 non-null    float64\n 339   BAX-BABB                                             720 non-null    float64\n 340   BLK-BlackCoin                                        720 non-null    float64\n 341   CAS-Cashaa                                           233 non-null    float64\n 342   CHSB-SwissBorg                                       720 non-null    float64\n 343   CLO-Callisto Network                                 720 non-null    float64\n 344   COV-Covesting                                        720 non-null    float64\n 345   CSP-Caspian                                          720 non-null    float64\n 346   LUN-Lunyr                                            720 non-null    float64\n 347   MDT-Measurable Data                                  720 non-null    float64\n 348   NSD-Nasdacoin                                        720 non-null    float64\n 349   PAC-PAC Protocol                                     720 non-null    float64\n 350   PHR-Phore                                            720 non-null    float64\n 351   POLIS-Polis                                          720 non-null    float64\n 352   REM-Remme                                            720 non-null    float64\n 353   SNC-SunContract                                      720 non-null    float64\n 354   XPM-Primecoin                                        720 non-null    float64\n 355   ZCN-0chain                                           720 non-null    float64\n 356   EDN-Eden                                             720 non-null    float64\n 357   GET-GET Protocol                                     240 non-null    float64\n 358   HTML-HTMLCOIN                                        720 non-null    float64\n 359   KAT-Kambria                                          720 non-null    float64\n 360   KICK-KickToken                                       720 non-null    float64\n 361   NCT-PolySwarm                                        720 non-null    float64\n 362   RPD-Rapids                                           720 non-null    float64\n 363   XAUR-Xaurum                                          720 non-null    float64\n 364   AXPR-aXpire                                          720 non-null    float64\n 365   CHAT-ChatCoin                                        720 non-null    float64\n 366   CRW-Crown                                            720 non-null    float64\n 367   CV-carVertical                                       720 non-null    float64\n 368   CXO-CargoX                                           720 non-null    float64\n 369   DAX-DAEX                                             720 non-null    float64\n 370   FDZ-Friendz                                          720 non-null    float64\n 371   HMQ-Humaniq                                          720 non-null    float64\n 372   MUE-MonetaryUnit                                     720 non-null    float64\n 373   UBT-Unibright                                        720 non-null    float64\n 374   UT-Ulord                                             720 non-null    float64\n 375   VRC-VeriCoin                                         720 non-null    float64\n 376   XDC-XinFin Network                                   720 non-null    float64\n 377   XHV-Haven Protocol                                   720 non-null    float64\n 378   XMY-Myriad                                           720 non-null    float64\n 379   AIDOC-AI Doctor                                      720 non-null    float64\n 380   BANCA-Banca                                          720 non-null    float64\n 381   BIR-Birake                                           720 non-null    float64\n 382   CURE-Curecoin                                        720 non-null    float64\n 383   EKO-EchoLink                                         720 non-null    float64\n 384   MTN-Medicalchain                                     720 non-null    float64\n 385   NYC-NewYorkCoin                                      720 non-null    float64\n 386   SOUL-Phantasma                                       720 non-null    float64\n 387   TIME-Chrono.tech                                     720 non-null    float64\n 388   UBEX-Ubex                                            720 non-null    float64\n 389   YEE-YEE                                              720 non-null    float64\n 390   ZAP-Zap Protocol                                     720 non-null    float64\n 391   AVT-Aventus                                          720 non-null    float64\n 392   CAPP-Cappasity                                       720 non-null    float64\n 393   CMCT-Crowd Machine                                   720 non-null    float64\n 394   DAV-DAV Network                                      720 non-null    float64\n 395   MSR-Masari                                           720 non-null    float64\n 396   NCC-NeuroChain                                       720 non-null    float64\n 397   OK-OKCash                                            720 non-null    float64\n 398   OLT-OneLedger                                        720 non-null    float64\n 399   PRIX-Privatix                                        720 non-null    float64\n 400   SIB-SIBCoin                                          720 non-null    float64\n 401   TRTT-Trittium                                        720 non-null    float64\n 402   YOC-Yocoin                                           720 non-null    float64\n 403   BTCZ-BitcoinZ                                        720 non-null    float64\n 404   DAGT-Digital Asset Guarantee Token                   720 non-null    float64\n 405   DATX-DATx                                            720 non-null    float64\n 406   DEV-DeviantCoin                                      720 non-null    float64\n 407   DYN-Dynamic                                          233 non-null    float64\n 408   PINK-PinkCoin                                        720 non-null    float64\n 409   RTE-Rate3                                            720 non-null    float64\n 410   STK-STK                                              720 non-null    float64\n 411   STX-Stacks                                           720 non-null    float64\n 412   AAC-Acute Angle Cloud                                720 non-null    float64\n 413   ADB-adbank                                           720 non-null    float64\n 414   COFI-CoinFi                                          720 non-null    float64\n 415   FLOT-Fire Lotto                                      720 non-null    float64\n 416   GBX-GoByte                                           720 non-null    float64\n 417   GXX-GravityCoin                                      720 non-null    float64\n 418   INXT-Internxt                                        720 non-null    float64\n 419   KRB-Karbo                                            720 non-null    float64\n 420   KRL-Kryll                                            720 non-null    float64\n 421   RYO-Ryo Currency                                     720 non-null    float64\n 422   SEND-Social Send                                     720 non-null    float64\n 423   ZCR-ZCore                                            720 non-null    float64\n 424   ZER-Zero                                             720 non-null    float64\n 425   AUX-Auxilium                                         720 non-null    float64\n 426   EVC-EventChain                                       720 non-null    float64\n 427   MTX-Matryx                                           720 non-null    float64\n 428   PKT-Playkey                                          720 non-null    float64\n 429   PLU-Pluton                                           720 non-null    float64\n 430   TCC-The ChampCoin                                    720 non-null    float64\n 431   XCASH-X-CASH                                         720 non-null    float64\n 432   ACM-Actinium                                         720 non-null    float64\n 433   EGEM-EtherGem                                        720 non-null    float64\n 434   ELY-Elysian                                          720 non-null    float64\n 435   ETHO-Ether-1                                         720 non-null    float64\n 436   MONK-Monkey Project                                  720 non-null    float64\n 437   SUMO-Sumokoin                                        720 non-null    float64\n 438   AMM-MicroMoney                                       720 non-null    float64\n 439   APR-APR Coin                                         720 non-null    float64\n 440   SCRIV-SCRIV NETWORK                                  720 non-null    float64\n 441   TELOS-Teloscoin                                      720 non-null    float64\n 442   TNS-Transcodium                                      720 non-null    float64\n 443   BTCN-BitcoiNote                                      720 non-null    float64\n 444   CYL-Crystal Token                                    720 non-null    float64\n 445   JOINT-Joint Ventures                                 720 non-null    float64\n 446   MMO-MMOCoin                                          720 non-null    float64\n 447   PNY-Peony                                            720 non-null    float64\n 448   TCH-Thore Cash                                       720 non-null    float64\n 449   COLX-ColossusXT                                      720 non-null    float64\n 450   FLASH-Flash                                          720 non-null    float64\n 451   HVN-Hiveterminal Token                               720 non-null    float64\n 452   IOC-I/O Coin                                         720 non-null    float64\n 453   PYN-PAYCENT                                          720 non-null    float64\n 454   TRC-Terracoin                                        720 non-null    float64\n 455   LOG-Woodcoin                                         720 non-null    float64\n 456   FYP-FlypMe                                           720 non-null    float64\n 457   BRO-Bitradio                                         720 non-null    float64\n 458   CREA-CREA                                            720 non-null    float64\n 459   CRM-Cream                                            720 non-null    float64\n 460   XDNA-XDNA                                            720 non-null    float64\n 461   ARION-Arion                                          720 non-null    float64\n 462   BOLI-Bolivarcoin                                     720 non-null    float64\n 463   CCO-Ccore                                            720 non-null    float64\n 464   LCP-Litecoin Plus                                    720 non-null    float64\n 465   MXT-MarteXcoin                                       720 non-null    float64\n 466   DRM-Dreamcoin                                        720 non-null    float64\n 467   EMD-Emerald Crypto                                   720 non-null    float64\n 468   SCRT-Secret                                          286 non-null    float64\n 469   YTN-YENTEN                                           720 non-null    float64\n 470   MAR-Mchain                                           720 non-null    float64\n 471   ATP-Atlas Protocol                                   720 non-null    float64\n 472   BKBT-BeeKan                                          720 non-null    float64\n 473   BTMX-BitMax Token                                    720 non-null    float64\n 474   DACC-DACC                                            720 non-null    float64\n 475   EDU-EduCoin                                          720 non-null    float64\n 476   FOX-SmartFox                                         233 non-null    float64\n 477   HPT-Huobi Pool Token                                 720 non-null    float64\n 478   LUNA-Terra                                           720 non-null    float64\n 479   MOF-Molecular Future                                 720 non-null    float64\n 480   RBTC-RSK Smart Bitcoin                               720 non-null    float64\n 481   SHE-ShineChain                                       720 non-null    float64\n 482   VOLT-Bitvolt                                         9 non-null      float64\n 483   ADK-Aidos Kuneen                                     720 non-null    float64\n 484   ADM-ADAMANT Messenger                                393 non-null    float64\n 485   BUT-BitUP Token                                      720 non-null    float64\n 486   HDAC-Hdac                                            720 non-null    float64\n 487   IIC-Intelligent Investment Chain                     720 non-null    float64\n 488   LEMO-LemoChain                                       720 non-null    float64\n 489   MEET-CoinMeet                                        720 non-null    float64\n 490   PC-PromotionChain                                    720 non-null    float64\n 491   TOPC-TopChain                                        720 non-null    float64\n 492   UC-YouLive Coin                                      720 non-null    float64\n 493   UIP-UnlimitedIP                                      720 non-null    float64\n 494   VDG-VeriDocGlobal                                    720 non-null    float64\n 495   VTHO-VeThor Token                                    720 non-null    float64\n 496   XUC-Exchange Union                                   720 non-null    float64\n 497   YCC-Yuan Chain                                       720 non-null    float64\n 498   BNK-Bankera                                          720 non-null    float64\n 499   CEL-Celsius                                          720 non-null    float64\n 500   EGCC-Engine                                          720 non-null    float64\n 501   GVE-Globalvillage Ecosystem                          720 non-null    float64\n 502   IDT-InvestDigital                                    720 non-null    float64\n 503   LPT-livepeer                                         720 non-null    float64\n 504   OTB-OTCBTC Token                                     720 non-null    float64\n 505   TOS-ThingsOperatingSystem                            720 non-null    float64\n 506   AWC-Atomic Wallet Coin                               288 non-null    float64\n 507   CHE-Crypto Harbor Exchange                           43 non-null     float64\n 508   MEX-MEX                                              720 non-null    float64\n 509   WIN-WINk                                             720 non-null    float64\n 510   ALGO-Algorand                                        720 non-null    float64\n 511   BF-Bitforex Token                                    720 non-null    float64\n 512   BGG-Bgogo Token                                      720 non-null    float64\n 513   OKB-OKEx Utility Token                               720 non-null    float64\n 514   NOIA-Syntropy                                        686 non-null    float64\n 515   DREP-DREP                                            461 non-null    float64\n 516   ENQ-Enecuum                                          514 non-null    float64\n 517   IDRT-Rupiah Token                                    514 non-null    float64\n 518   MERI-Merebel                                         514 non-null    float64\n 519   QC-Qcash                                             461 non-null    float64\n 520   SCAP-SafeCapital                                     514 non-null    float64\n 521   TKX-Tokenize Xchange                                 514 non-null    float64\n 522   TRYB-Bilira                                          472 non-null    float64\n 523   CSPN-Crypto Sports                                   409 non-null    float64\n 524   DAPPT-Dapp.com                                       409 non-null    float64\n 525   DDK-DDKoin                                           423 non-null    float64\n 526   ESBC-ESBC                                            409 non-null    float64\n 527   EVED-Evedo                                           409 non-null    float64\n 528   FDR-French Digital Reserve                           409 non-null    float64\n 529   FLS-Flits                                            717 non-null    float64\n 530   HUNT-HUNT Token                                      408 non-null    float64\n 531   IMG-ImageCoin                                        409 non-null    float64\n 532   JRT-Jarvis Reward Token                              423 non-null    float64\n 533   KRT-TerraKRW                                         423 non-null    float64\n 534   KTS-Klimatas                                         409 non-null    float64\n 535   MBN-Membrana platform                                409 non-null    float64\n 536   QWC-Qwertycoin                                       409 non-null    float64\n 537   ARPA-ARPA Chain                                      315 non-null    float64\n 538   AVAX-Avalanche                                       317 non-null    float64\n 539   DDR-DigiDinar                                        84 non-null     float64\n 540   DIA-DIAdata                                          302 non-null    float64\n 541   DOS-DOS Network                                      149 non-null    float64\n 542   DSLA-DSLA Protocol                                   112 non-null    float64\n 543   HUSD-HUSD                                            285 non-null    float64\n 544   MIX-MixMarvel                                        112 non-null    float64\n 545   MTA-mStable                                          240 non-null    float64\n 546   PAXG-PAX Gold                                        399 non-null    float64\n 547   RARI-Rarible                                         187 non-null    float64\n 548   RNDR-Render Token                                    127 non-null    float64\n 549   SCP-ScPrime Coin                                     409 non-null    float64\n 550   STMX-StormX                                          390 non-null    float64\n 551   STRONG-STRONG                                        197 non-null    float64\n 552   TKP-TOKPIE                                           409 non-null    float64\n 553   UMA-UMA                                              396 non-null    float64\n 554   UPX-uPlexa                                           409 non-null    float64\n 555   VALOR-Valor Token                                    311 non-null    float64\n 556   VDL-Vidulum                                          387 non-null    float64\n 557   VLX-Velas                                            315 non-null    float64\n 558   VXV-Vectorspace AI                                   94 non-null     float64\n 559   X42-X42 Protocol                                     118 non-null    float64\n 560   YFL-YF Link                                          240 non-null    float64\n 561   ZCC-ZcCoin                                           409 non-null    float64\n 562   BITC-BitCash                                         393 non-null    float64\n 563   CELO-Celo                                            154 non-null    float64\n 564   CREAM-Cream Finance                                  371 non-null    float64\n 565   CVP-PowerPool Concentrated Voting Power              381 non-null    float64\n 566   DAM-Datamine                                         395 non-null    float64\n 567   DDIM-DuckDAODime                                     254 non-null    float64\n 568   DFI-DeFiChain                                        285 non-null    float64\n 569   DOT-Polkadot                                         397 non-null    float64\n 570   EHRT-Eight Hours                                     341 non-null    float64\n 571   ERG-Ergo                                             366 non-null    float64\n 572   FYZ-Fyooz                                            341 non-null    float64\n 573   HAKKA-Hakka.Finance                                  66 non-null     float64\n 574   INNBC-Innovative Bioresearch                         147 non-null    float64\n 575   JST-JUST                                             389 non-null    float64\n 576   KEEP-Keep Network                                    315 non-null    float64\n 577   LYXE-LUKSO Token                                     145 non-null    float64\n 578   NEST-NEST Protocol                                   112 non-null    float64\n 579   OKS-Oikos                                            385 non-null    float64\n 580   RING-Darwinia Network Native Token                   314 non-null    float64\n 581   SHIB-Shiba Inu                                       381 non-null    float64\n 582   SWINGBY-Swingby                                      112 non-null    float64\n 583   TWT-Trust Wallet Token                               150 non-null    float64\n 584   ULG-Ultragate                                        302 non-null    float64\n 585   VIDYA-Vidya                                          41 non-null     float64\n 586   XPR-Proton                                           191 non-null    float64\n 587   YAMV2-YAMv2                                          386 non-null    float64\n 588   YFV-YFValue                                          374 non-null    float64\n 589   ACH-Alchemy Pay                                      22 non-null     float64\n 590   AR-Arweave                                           314 non-null    float64\n 591   BEL-Bella Protocol                                   212 non-null    float64\n 592   BRG-Bridge Oracle                                    168 non-null    float64\n 593   CCX-Conceal                                          133 non-null    float64\n 594   DEXT-DEXTools                                        212 non-null    float64\n 595   DYT-DoYourTip                                        350 non-null    float64\n 596   FIO-FIO Protocol                                     112 non-null    float64\n 597   FRONT-Frontier                                       363 non-null    float64\n 598   HGET-Hedget                                          66 non-null     float64\n 599   LIEN-lien                                            342 non-null    float64\n 600   LUA-LuaSwap                                          73 non-null     float64\n 601   MCB-MCDex                                            94 non-null     float64\n 602   MX-MX Token                                          315 non-null    float64\n 603   OCTO-OctoFi                                          311 non-null    float64\n 604   PHA-Phala Network                                    177 non-null    float64\n 605   PHNX-PhoenixDAO                                      371 non-null    float64\n 606   PICKLE-Pickle Finance                                315 non-null    float64\n 607   PLA2-PlayDapp Token                                  112 non-null    float64\n 608   RFUEL-Rio DeFi                                       311 non-null    float64\n 609   SAND-The Sandbox                                     395 non-null    float64\n 610   SAPP-Sapphire                                        64 non-null     float64\n 611   SHROOM-Niftyx Protocol                               97 non-null     float64\n 612   SOCKS-Unisocks                                       70 non-null     float64\n 613   SWRV-Swerve                                          371 non-null    float64\n 614   TRADE-Unitrade                                       285 non-null    float64\n 615   WING-Wing Finance                                    240 non-null    float64\n 616   XOR-Sora                                             281 non-null    float64\n 617   YFII-DFI.money                                       371 non-null    float64\n 618   ALPHA-Alpha Finance                                  212 non-null    float64\n 619   AWX-AurusDEFI                                        168 non-null    float64\n 620   CHART-ChartEx                                        316 non-null    float64\n 621   DDRT-DigiDinar Token                                 79 non-null     float64\n 622   DEGO-Dego Finance                                    150 non-null    float64\n 623   DEV2-Dev Protocol                                    65 non-null     float64\n 624   DEXTF-DEXTF Token                                    117 non-null    float64\n 625   DODO-DODO                                            240 non-null    float64\n 626   DPI-DeFi Pulse Index                                 64 non-null     float64\n 627   DRC-Dracula Token                                    285 non-null    float64\n 628   DRC2-Digital Reserve Currency                        241 non-null    float64\n 629   FARM-Harvest Finance                                 255 non-null    float64\n 630   FIN-DeFiner                                          336 non-null    float64\n 631   GALA-Gala Token                                      219 non-null    float64\n 632   INDEX-Index Cooperative                              122 non-null    float64\n 633   KIRO-Kirobo                                          64 non-null     float64\n 634   MILK2-MILK                                           117 non-null    float64\n 635   PGT-Polyient Games Governance Token                  135 non-null    float64\n 636   PLOT-PlotX                                           316 non-null    float64\n 637   RAMP-RAMP                                            252 non-null    float64\n 638   RBC-Rubic                                            285 non-null    float64\n 639   SLP-Small Love Potion                                64 non-null     float64\n 640   TON2-TON Crystal                                     122 non-null    float64\n 641   UNCX-UniCrypt                                        254 non-null    float64\n 642   UNISTAKE-Unistake                                    66 non-null     float64\n 643   WANATHA-Wrapped ANATHA                               311 non-null    float64\n 644   XVS-Venus                                            288 non-null    float64\n 645   ZEFU-Zenfuse                                         302 non-null    float64\n 646   ALBT-AllianceBlock                                   249 non-null    float64\n 647   APY-APY.Finance                                      219 non-null    float64\n 648   ATRI-Atari                                           156 non-null    float64\n 649   AUDIO-Audius                                         117 non-null    float64\n 650   AUSCM-Auric Network                                  122 non-null    float64\n 651   AXN-Axion                                            285 non-null    float64\n 652   AXS-Axie Infinity                                    288 non-null    float64\n 653   BOND-BarnBridge                                      112 non-null    float64\n 654   CFI-CyberFi                                          121 non-null    float64\n 655   CRU-Crust Network                                    143 non-null    float64\n 656   CTK-CertiK                                           112 non-null    float64\n 657   DHT-dHedge DAO                                       240 non-null    float64\n 658   ERSDL-UnFederalReserve Token                         284 non-null    float64\n 659   EXRD-e-Radix                                         283 non-null    float64\n 660   FLOW-Flow                                            156 non-null    float64\n 661   FVT-Finance Vote                                     122 non-null    float64\n 662   ICHI-ICHI                                            94 non-null     float64\n 663   INJ-Injective Protocol                               311 non-null    float64\n 664   KP3R-Keep3rV1                                        240 non-null    float64\n 665   LAYER-UniLayer                                       317 non-null    float64\n 666   LTX-Lattice Token                                    224 non-null    float64\n 667   MEME-Meme                                            302 non-null    float64\n 668   NEAR-Near Protocol                                   254 non-null    float64\n 669   NU-NuCypher                                          17 non-null     float64\n 670   ORAI-Oraichain                                       302 non-null    float64\n 671   RFI-reflect.finance                                  285 non-null    float64\n 672   ROSE-Oasis Network                                   255 non-null    float64\n 673   SDX-SwapDEX                                          219 non-null    float64\n 674   SFI-saffron.finance                                  112 non-null    float64\n 675   SMARTCREDIT-SmartCredit Token                        66 non-null     float64\n 676   SPORE-Spore                                          98 non-null     float64\n 677   SYNC-SYNC Network                                    66 non-null     float64\n 678   TITAN-TitanSwap                                      112 non-null    float64\n 679   UBX-UBIX Network                                     94 non-null     float64\n 680   UNN-UNION Protocol Governance Token (UNION Finance)  112 non-null    float64\n 681   USDN-Neutrino USD                                    240 non-null    float64\n 682   WOO-Wootrade Network                                 302 non-null    float64\n 683   AMP-AMP Token                                        187 non-null    float64\n 684   ANY-Anyswap                                          187 non-null    float64\n 685   BADGER-Badger DAO                                    148 non-null    float64\n 686   BAO-Bao Finance                                      112 non-null    float64\n 687   BASE-Base Protocol                                   284 non-null    float64\n 688   BFC2-Bifrost                                         136 non-null    float64\n 689   BIP-Minter                                           94 non-null     float64\n 690   BURGER-Burger Swap                                   233 non-null    float64\n 691   COVER-COVER Protocol                                 286 non-null    float64\n 692   CRBN-Carbon                                          167 non-null    float64\n 693   ELG-Escoin Token                                     94 non-null     float64\n 694   FUSE-Fuse Network Token                              279 non-null    float64\n 695   HEGIC-Hegic                                          240 non-null    float64\n 696   IDLE-IDLE                                            66 non-null     float64\n 697   KLV-Klever                                           221 non-null    float64\n 698   LVX-LVX                                              233 non-null    float64\n 699   MARK-Benchmark Protocol                              219 non-null    float64\n 700   MERGE-Merge                                          113 non-null    float64\n 701   MPH-88mph                                            247 non-null    float64\n 702   MUSE-Muse                                            94 non-null     float64\n 703   OPEN-OPEN Governance Token                           281 non-null    float64\n 704   SKEY-SmartKey                                        154 non-null    float64\n 705   SKL-Skale                                            184 non-null    float64\n 706   SUTER-Suterusu                                       258 non-null    float64\n 707   UFT-UniLend Finance                                  283 non-null    float64\n 708   UNFI-Unifi Protocol DAO                              240 non-null    float64\n 709   VALUE-Value Liquidity                                64 non-null     float64\n 710   WCRES-Wrapped CrescoFin                              197 non-null    float64\n 711   YLD-YieldCredit                                      156 non-null    float64\n 712   ANRX-AnRKey X                                        165 non-null    float64\n 713   BDCASH-BigdataCash                                   196 non-null    float64\n 714   BOND2-Bonded Finance                                 282 non-null    float64\n 715   BONDLY-Bondly Finance                                279 non-null    float64\n 716   COR-Coreto                                           113 non-null    float64\n 717   DAO-DAO Maker                                        220 non-null    float64\n 718   DEXE-DeXe                                            286 non-null    float64\n 719   DG-Decentral Games                                   155 non-null    float64\n 720   DUCK-Unit Protocol Duck                              112 non-null    float64\n 721   HAI-Hacken Token                                     233 non-null    float64\n 722   HYVE-Hyve                                            120 non-null    float64\n 723   LON-Tokenlon                                         112 non-null    float64\n 724   MATH-MATH                                            150 non-null    float64\n 725   MIR-Mirror Protocol                                  240 non-null    float64\n 726   NIF-Unifty                                           212 non-null    float64\n 727   NSBT-Neutrino System Base Token                      94 non-null     float64\n 728   NSURE-Nsure.Network                                  66 non-null     float64\n 729   NVT-NerveNetwork                                     97 non-null     float64\n 730   PERP-Perpetual Protocol                              240 non-null    float64\n 731   PPAY-Plasma Finance                                  247 non-null    float64\n 732   PRQ-PARSIQ                                           241 non-null    float64\n 733   RARE-SuperRare                                       16 non-null     float64\n 734   REVV-REVV                                            112 non-null    float64\n 735   RGT-Rari Governance Token                            240 non-null    float64\n 736   RLY-Rally                                            120 non-null    float64\n 737   TPT-TokenPocket Token                                98 non-null     float64\n 738   TRUFI-TrueFi                                         239 non-null    float64\n 739   TYM-TimeLockCoin                                     86 non-null     float64\n 740   UCO-Uniris                                           254 non-null    float64\n 741   WHALE-WHALE                                          112 non-null    float64\n 742   YLDX-Yield App                                       156 non-null    float64\n 743   ZEE-ZeroSwap                                         149 non-null    float64\n 744   1INCH-1inch                                          240 non-null    float64\n 745   AETH-ankrETH                                         112 non-null    float64\n 746   ATMFT-Atletico Madrid Fan Token                      205 non-null    float64\n 747   DDX-DerivaDAO                                        70 non-null     float64\n 748   DFSOCIAL-DefiSocial                                  254 non-null    float64\n 749   DUCK2-DLP Duck Token                                 255 non-null    float64\n 750   DYP-DeFi Yield Protocol                              255 non-null    float64\n 751   FIDA-Bonfida                                         94 non-null     float64\n 752   FIS-StaFi                                            70 non-null     float64\n 753   FRAX-Frax                                            212 non-null    float64\n 754   FXS-Frax Share                                       212 non-null    float64\n 755   GRT-The Graph                                        261 non-null    float64\n 756   GZIL-Governance ZIL                                  272 non-null    float64\n 757   HYDRA-Hydra                                          94 non-null     float64\n 758   JUVFT-Juventus Fan Token                             205 non-null    float64\n 759   KOBE-Shabu Shabu                                     154 non-null    float64\n 760   LDO-Lido DAO                                         66 non-null     float64\n 761   NFTX-NFTX                                            155 non-null    float64\n 762   POND-Marlin                                          212 non-null    float64\n 763   PROM-Prometeus                                       112 non-null    float64\n 764   PRY-Prophecy                                         197 non-null    float64\n 765   PSGFT-Paris Saint-Germain Fan Token                  205 non-null    float64\n 766   REEF-Reef Finance                                    249 non-null    float64\n 767   ROYA-Royale Finance                                  251 non-null    float64\n 768   SPI-Shopping.io                                      197 non-null    float64\n 769   SPICE-SPICE                                          55 non-null     float64\n 770   STETH-Liquid Staked Ether                            112 non-null    float64\n 771   TFT-ThreeFold Token                                  247 non-null    float64\n 772   WHITE-Whiteheart                                     240 non-null    float64\n 773   WISE-Wise                                            256 non-null    float64\n 774   XED-Exeedme                                          197 non-null    float64\n 775   XEP-Electra Protocol                                 236 non-null    float64\n 776   YF-DAI-YFDAI Finance                                 240 non-null    float64\n 777   YOP-YOP                                              241 non-null    float64\n 778   ZERO-Zero Exchange                                   122 non-null    float64\n 779   ZKS-ZKSwap                                           154 non-null    float64\n 780   AKITA-Akita Inu                                      122 non-null    float64\n 781   ARMOR-ARMOR                                          70 non-null     float64\n 782   AUCTION-Bounce Token                                 70 non-null     float64\n 783   BIFI2-BiFi                                           122 non-null    float64\n 784   BITCI-Bitcicoin                                      27 non-null     float64\n 785   BMI-Bridge Mutual                                    224 non-null    float64\n 786   CAKE-PancakeSwap                                     219 non-null    float64\n 787   CBIX-Cubiex                                          146 non-null    float64\n 788   CVR-Polkacover                                       197 non-null    float64\n 789   CWS-Crowns                                           204 non-null    float64\n 790   DIGG-DIGG                                            112 non-null    float64\n 791   FEG-Feed Every Gorilla                               114 non-null    float64\n 792   FWT-Freeway Token                                    197 non-null    float64\n 793   FXF-Finxflo                                          218 non-null    float64\n 794   GLCH-Glitch Protocol                                 122 non-null    float64\n 795   HELMET-Helmet Insure                                 149 non-null    float64\n 796   ID-Everest                                           141 non-null    float64\n 797   INFI-Insured Finance                                 86 non-null     float64\n 798   JGN-Juggernaut                                       150 non-null    float64\n 799   JULD-JulSwap                                         149 non-null    float64\n 800   KEBAB-Kebab Token                                    147 non-null    float64\n 801   KSP-KlaySwap Protocol                                238 non-null    float64\n 802   MBX-MobieCoin                                        135 non-null    float64\n 803   OMI-ECOMI                                            118 non-null    float64\n 804   OPCT-Opacity                                         121 non-null    float64\n 805   OPIUM-Opium                                          212 non-null    float64\n 806   PAINT-Paint                                          193 non-null    float64\n 807   POOLZ-Poolz.Finance                                  148 non-null    float64\n 808   QUICK-Quickswap                                      122 non-null    float64\n 809   SFP-SafePal.io                                       150 non-null    float64\n 810   SX-SportX                                            133 non-null    float64\n 811   TORN-Tornado Cash                                    112 non-null    float64\n 812   UMB-Umbrella Network                                 70 non-null     float64\n 813   VRX-Verox                                            167 non-null    float64\n 814   WGRT-WaykiChain Governance Coin                      45 non-null     float64\n 815   WINR-WINR                                            166 non-null    float64\n 816   100X-100xCoin                                        113 non-null    float64\n 817   ACMFT-AC Milan Fan Token                             202 non-null    float64\n 818   ACS-ACryptoS                                         94 non-null     float64\n 819   AKT2-Akash Network                                   210 non-null    float64\n 820   ALCX-Alchemix                                        64 non-null     float64\n 821   BAKE-BakeryToken                                     150 non-null    float64\n 822   BARFT-FC Barcelona Fan Token                         158 non-null    float64\n 823   BRY-Berry Data                                       149 non-null    float64\n 824   BSCPAD-BSCPAD                                        196 non-null    float64\n 825   DOWS-Shadows                                         66 non-null     float64\n 826   EROWAN-Sifchain                                      184 non-null    float64\n 827   GALFT-Galatasaray Fan Token                          205 non-null    float64\n 828   GOC-GoCrypto                                         219 non-null    float64\n 829   HOPR-HOPR                                            72 non-null     float64\n 830   IDEA-Ideaology                                       216 non-null    float64\n 831   KEYFI-KeyFi Token                                    133 non-null    float64\n 832   LIT2-Litentry                                        219 non-null    float64\n 833   LPNT-Luxurious Pro Network Token                     120 non-null    float64\n 834   LPOOL-Launchpool                                     197 non-null    float64\n 835   MATTER-AntiMatter                                    149 non-null    float64\n 836   MSC-Monster Slayer Cash                              110 non-null    float64\n 837   POLK-Polkamarkets                                    135 non-null    float64\n 838   PRCY-PRCY Coin                                       213 non-null    float64\n 839   PREMIA-Premia                                        45 non-null     float64\n 840   PROPEL-PayRue                                        58 non-null     float64\n 841   RAY-Raydium Protocol                                 148 non-null    float64\n 842   SHIELD-Shield Protocol                               147 non-null    float64\n 843   SSS-Simple Software Solutions                        219 non-null    float64\n 844   TLOS-Telos                                           35 non-null     float64\n 845   TRAFT-Trabzonspor Fan Token                          205 non-null    float64\n 846   VSP-Vesper Finance                                   70 non-null     float64\n 847   XCM-CoinMetro                                        112 non-null    float64\n 848   XLA-Scala                                            212 non-null    float64\n 849   XSUSHI-xSUSHI                                        70 non-null     float64\n 850   ALN-Aluna.Social                                     183 non-null    float64\n 851   ALPACA-Alpaca Finance                                66 non-null     float64\n 852   APYS-APYSwap                                         66 non-null     float64\n 853   ARGON-Argon                                          149 non-null    float64\n 854   BELT-Belt                                            148 non-null    float64\n 855   BIFI-Beefy.Finance                                   191 non-null    float64\n 856   COOK-Cook Protocol                                   64 non-null     float64\n 857   COPE-Cope                                            148 non-null    float64\n 858   DFY-Defi For You                                     167 non-null    float64\n 859   FEI-Fei Protocol                                     148 non-null    float64\n 860   GHST-Aavegotchi                                      187 non-null    float64\n 861   GSPI-Shopping.io Governance                          193 non-null    float64\n 862   HAPI-HAPI                                            114 non-null    float64\n 863   HOGE-hoge.finance                                    144 non-null    float64\n 864   KGO-Kiwigo                                           57 non-null     float64\n 865   LABS-LABS Group                                      117 non-null    float64\n 866   MARSH-Unmarshal                                      149 non-null    float64\n 867   OHM-Olympus                                          117 non-null    float64\n 868   PIG-Pig Finance                                      134 non-null    float64\n 869   POODL-Poodl Token                                    167 non-null    float64\n 870   ROOK-ROOK                                            182 non-null    float64\n 871   SAFEBTC-SafeBitcoin                                  119 non-null    float64\n 872   SAFEMOON-SafeMoon                                    181 non-null    float64\n 873   STRK-Strike                                          70 non-null     float64\n 874   TARA-Taraxa                                          122 non-null    float64\n 875   UDO-Unido EP                                         133 non-null    float64\n 876   VANCAT-Vancat                                        151 non-null    float64\n 877   WASP-WanSwap                                         142 non-null    float64\n 878   XEND-Xend Finance                                    170 non-null    float64\n 879   XPRT-Persistence One                                 155 non-null    float64\n 880   XYM-Symbol                                           133 non-null    float64\n 881   ZWAP-ZilSwap                                         71 non-null     float64\n 882   8PAY-8Pay                                            162 non-null    float64\n 883   AQUAGOAT-Aquagoat                                    107 non-null    float64\n 884   ASS-Australian Safe Shepherd                         134 non-null    float64\n 885   AUTOv2-Autofarm                                      167 non-null    float64\n 886   BABYDOGE-Baby Doge Coin                              99 non-null     float64\n 887   BOSON-Boson Protocol                                 136 non-null    float64\n 888   COP-Copiosa Coin                                     50 non-null     float64\n 889   CUMMIES-CumRocket                                    118 non-null    float64\n 890   DPS-DEEPSPACE                                        110 non-null    float64\n 891   EARNX-EarnX                                          119 non-null    float64\n 892   ELONGATE-ElonGate                                    151 non-null    float64\n 893   ELONS-Elons                                          71 non-null     float64\n 894   FORTH-Ampleforth Governance Token                    143 non-null    float64\n 895   FREN-Frenchie Token                                  122 non-null    float64\n 896   HMNG-Hummingbird Finance                             110 non-null    float64\n 897   HOKK-Hokkaidu Inu                                    114 non-null    float64\n 898   HUGO-Hugo Finance                                    98 non-null     float64\n 899   HXN-Havens Nook                                      113 non-null    float64\n 900   ICA-Icarus                                           94 non-null     float64\n 901   KTN-Kattana                                          157 non-null    float64\n 902   LAUNCH-SuperLauncher                                 101 non-null    float64\n 903   LEASH-LEASH                                          134 non-null    float64\n 904   MBOX-Mobox                                           122 non-null    float64\n 905   MUNCH-Munch Token                                    118 non-null    float64\n 906   OCTI-Oction                                          98 non-null     float64\n 907   PEKC-PEACOCKCOIN                                     62 non-null     float64\n 908   PORT-PackagePortal                                   71 non-null     float64\n 909   PYR-Vulcan Forged                                    100 non-null    float64\n 910   REAU-Vira-lata Finance                               118 non-null    float64\n 911   RECAP-Review Capital                                 71 non-null     float64\n 912   SNOWGE-SnowgeCoin                                    110 non-null    float64\n 913   SRV-zilSurvey                                        71 non-null     float64\n 914   TOTM-TotemFi                                         77 non-null     float64\n 915   XFIT-Xfit                                            118 non-null    float64\n 916   YAE-Cryptonovae                                      133 non-null    float64\n 917   1TRC-1Tronic Network                                 110 non-null    float64\n 918   AFEN-AFEN Blockchain                                 122 non-null    float64\n 919   ALLOY-HyperAlloy                                     117 non-null    float64\n 920   ALU-Altura                                           99 non-null     float64\n 921   BSCS-BSC Station                                     139 non-null    float64\n 922   CLEAN-CleanOcean                                     83 non-null     float64\n 923   DINU-Dogey-Inu                                       100 non-null    float64\n 924   DOGGY-DOGGY                                          123 non-null    float64\n 925   ELON-Dogelon Mars                                    48 non-null     float64\n 926   GOLDUCK-Golden Duck                                  114 non-null    float64\n 927   HNZO-Hanzo Inu                                       120 non-null    float64\n 928   HORD-Hord                                            101 non-null    float64\n 929   KABOSU-Kabosu Token                                  43 non-null     float64\n 930   KEANU-Keanu Inu                                      101 non-null    float64\n 931   LABRA-Labra Finance                                  144 non-null    float64\n 932   LOCG-LOCGame                                         50 non-null     float64\n 933   LOWB-Loser Coin                                      48 non-null     float64\n 934   LTN-Life Token                                       100 non-null    float64\n 935   MOONSHOT-Moonshot                                    117 non-null    float64\n 936   MOONSTAR-MoonStar Token                              110 non-null    float64\n 937   NEWINU-New Guinea Singing Dog Inu                    107 non-null    float64\n 938   PUSSY-Pussy Financial                                100 non-null    float64\n 939   PYE-CreamPYE                                         114 non-null    float64\n 940   REDPANDA-RedPanda Earth                              113 non-null    float64\n 941   SAITO-Saito                                          41 non-null     float64\n 942   SANSHU-Sanshu Inu                                    94 non-null     float64\n 943   SMG-Smaugs NFT                                       117 non-null    float64\n 944   UNO-Uno Re                                           138 non-null    float64\n 945   VLK-Vulkania                                         112 non-null    float64\n 946   WAULTX-Waultx                                        121 non-null    float64\n 947   WILLIE-Williecoin                                    111 non-null    float64\n 948   XEQ-Equilibria                                       134 non-null    float64\n 949   AC-ACoconut                                          112 non-null    float64\n 950   BANANA-ApeSwap                                       121 non-null    float64\n 951   BONFIRE-BONFIRE                                      118 non-null    float64\n 952   CATE-CATECOIN                                        118 non-null    float64\n 953   CLU-CluCoin                                          83 non-null     float64\n 954   DEEZNUTS-Deez Nuts                                   48 non-null     float64\n 955   HUA-Chihuahua                                        98 non-null     float64\n 956   JEJUDOGE-Jejudoge                                    111 non-null    float64\n 957   KALLY-Polkally                                       112 non-null    float64\n 958   LOGE-LunaDoge                                        98 non-null     float64\n 959   MOOV-Dotmoovs                                        57 non-null     float64\n 960   PATH-PathFund                                        17 non-null     float64\n 961   PM-Pomskey                                           101 non-null    float64\n 962   RELI-Relite Finance                                  99 non-null     float64\n 963   ROSN-Roseon Finance                                  94 non-null     float64\n 964   SET3-Sustainable Energy Token                        101 non-null    float64\n 965   SGE-Society of Galactic Exploration                  116 non-null    float64\n 966   STAK-Jigstack                                        112 non-null    float64\n 967   YOOSHI-YooShi                                        120 non-null    float64\n 968   ZOOT-Zoo Token                                       93 non-null     float64\n 969   BSCX-LaunchZone (BSCEX)                              112 non-null    float64\n 970   BTD2-Bolt Dollar                                     110 non-null    float64\n 971   BTS3-Bolt Share                                      110 non-null    float64\n 972   CRAZYTIME-CrazyTime                                  109 non-null    float64\n 973   IMX-Impermax Finance                                 112 non-null    float64\n 974   KALM-Kalmar                                          72 non-null     float64\n 975   MEL2-Caramel Swap                                    110 non-null    float64\n 976   MLTPX-MoonLift Protocol                              107 non-null    float64\n 977   MOONLIGHT-Moonlight Token                            109 non-null    float64\n 978   MTDR-Matador Token                                   99 non-null     float64\n 979   OCC2-OccamFi                                         118 non-null    float64\n 980   ROC-Roxe                                             114 non-null    float64\n 981   SME-SafeMeme                                         101 non-null    float64\n 982   SSN2-Supersonic Finance                              110 non-null    float64\n 983   TEST-TEST_DO_NOT_BUY                                 99 non-null     float64\n 984   VEED-VIMworld                                        41 non-null     float64\n 985   AQUA-Planet Finance                                  98 non-null     float64\n 986   BKING-King Arthur                                    50 non-null     float64\n 987   CO2-Collective                                       111 non-null    float64\n 988   EDG2-Edgeware                                        112 non-null    float64\n 989   ELONPEG-ElonPeg                                      99 non-null     float64\n 990   HANU-Hanu Yokia                                      17 non-null     float64\n 991   MYOBU-My?bu                                          55 non-null     float64\n 992   NAFTY-Nafty                                          62 non-null     float64\n 993   PHTR-Phuture                                         49 non-null     float64\n 994   PORNROCKET-PornRocket                                86 non-null     float64\n 995   SAITAMA-Saitama Inu                                  94 non-null     float64\n 996   SGO-Sportemongo                                      77 non-null     float64\n 997   SMI-SafeMoon Inu                                     111 non-null    float64\n 998   SUPER2-SuperFarm                                     113 non-null    float64\n 999   SWAPP-SWAPP PROTOCOL                                 97 non-null     float64\n 1000  TOKAU-Tokyo AU                                       86 non-null     float64\n 1001  TREES-Safetrees                                      17 non-null     float64\n 1002  ULTRA3-UltraSafe                                     98 non-null     float64\n 1003  URG-UrGaming                                         59 non-null     float64\n 1004  WEXPOLY-WEXPOLY                                      65 non-null     float64\n 1005  ZOO2-ZooCoin                                         24 non-null     float64\n 1006  AIRI-aiRight                                         82 non-null     float64\n 1007  BFT2-Bitfresh                                        99 non-null     float64\n 1008  BMON-Binamon                                         55 non-null     float64\n 1009  CTF-CyberTime Finance                                100 non-null    float64\n 1010  FWATCH-Foliowatch                                    82 non-null     float64\n 1011  FYD-FYDcoin                                          94 non-null     float64\n 1012  MONSTA-Cake Monster                                  86 non-null     float64\n 1013  OPS-Octopus Protocol                                 17 non-null     float64\n 1014  SAYAN-Saiyan Inu                                     94 non-null     float64\n 1015  STRAINZ2-STRAINZ NFT                                 90 non-null     float64\n 1016  TAPE-ToolApe                                         99 non-null     float64\n 1017  WSPP-WolfSafePoorPeople                              17 non-null     float64\n 1018  XPO-XPOOL                                            99 non-null     float64\n 1019  YSOY-Ysoy                                            100 non-null    float64\n 1020  YTOFU-yTOFU                                          87 non-null     float64\n 1021  BORING-BoringDAO                                     87 non-null     float64\n 1022  BUNNY-Rocket Bunny                                   92 non-null     float64\n 1023  DINK-Dink Doink                                      82 non-null     float64\n 1024  FLOKI-Floki Inu                                      68 non-null     float64\n 1025  FSHIB-Floki Shiba                                    79 non-null     float64\n 1026  HAKA-TribeOne                                        50 non-null     float64\n 1027  HUP-HUP.LIFE                                         83 non-null     float64\n 1028  LAIKA-Laika Protocol                                 93 non-null     float64\n 1029  LEOS-Leonicorn Swap                                  66 non-null     float64\n 1030  MASK-Mask Network                                    86 non-null     float64\n 1031  MM-Million                                           75 non-null     float64\n 1032  ORE2-Oreo Defi Finance                               94 non-null     float64\n 1033  RBT-Robust Token                                     91 non-null     float64\n 1034  SHIBARISE-SHIBA RISE                                 73 non-null     float64\n 1035  STARL-StarLink                                       41 non-null     float64\n 1036  ACED-AceD                                            70 non-null     float64\n 1037  ADD-Add.xyz                                          70 non-null     float64\n 1038  CARB-CARBON                                          71 non-null     float64\n 1039  DOGEBTC-DogeBTC                                      58 non-null     float64\n 1040  DUCK3-DuckDuck                                       71 non-null     float64\n 1041  EGG-Goose Finance                                    70 non-null     float64\n 1042  GARY-GARY                                            71 non-null     float64\n 1043  GMR-GMR Finance                                      72 non-null     float64\n 1044  HONEYX-HoneyX                                        69 non-null     float64\n 1045  MDX-Mdex                                             70 non-null     float64\n 1046  MDX -Mandala Exchange                                17 non-null     float64\n 1047  PEAK-PEAKDEFI                                        70 non-null     float64\n 1048  POLICEDOGE-PoliceDOGE                                65 non-null     float64\n 1049  PRESIDENTDOGE-President Doge                         61 non-null     float64\n 1050  PROTO-Proto Gold Fuel                                43 non-null     float64\n 1051  REDC-RedChillies                                     71 non-null     float64\n 1052  RISE-EverRise                                        73 non-null     float64\n 1053  SCO-Score                                            71 non-null     float64\n 1054  TITAN2-IRON Titanium Token                           66 non-null     float64\n 1055  UST-TerraUSD                                         76 non-null     float64\n 1056  VAI-Vai                                              70 non-null     float64\n 1057  XTK-xToken                                           70 non-null     float64\n 1058  ZCH-ZilChess                                         71 non-null     float64\n 1059  ZLF-ZilFlip                                          71 non-null     float64\n 1060  ZLP-ZilPay Wallet                                    71 non-null     float64\n 1061  ALICE-My Neighbor Alice                              57 non-null     float64\n 1062  ASK-Permission Coin                                  57 non-null     float64\n 1063  BABYTRUMP-Baby Trump Token                           15 non-null     float64\n 1064  BONE-Bone ShibaSwap                                  59 non-null     float64\n 1065  BURP-CoinBurp                                        27 non-null     float64\n 1066  CHT2-Chronic Token                                   50 non-null     float64\n 1067  DPX-DOPEX                                            65 non-null     float64\n 1068  HODL2-HODL 2.0                                       62 non-null     float64\n 1069  HOGE(BEP20)-hoge.finance (BEP20)                     64 non-null     float64\n 1070  KCAKE-KittyCake                                      50 non-null     float64\n 1071  KOGECOIN-KogeCoin                                    17 non-null     float64\n 1072  MMS-Minimals                                         49 non-null     float64\n 1073  ORT-Omni Real Estate Token                           64 non-null     float64\n 1074  PSYCHODOGE-Psycho Doge                               47 non-null     float64\n 1075  SAFEARN-Safe Earn                                    58 non-null     float64\n 1076  SNOOD-Schnoodle Finance                              48 non-null     float64\n 1077  STF-Safe Trip Finance                                56 non-null     float64\n 1078  TRAVA-Trava Finance                                  40 non-null     float64\n 1079  VTX-Vortex Defi                                      64 non-null     float64\n 1080  WEX-WEX                                              65 non-null     float64\n 1081  YIELD-Yield Protocol                                 64 non-null     float64\n 1082  BEER-Beer Inu                                        23 non-null     float64\n 1083  BOO-SpookySwap                                       24 non-null     float64\n 1084  DXCT-DNAxCAT Token                                   35 non-null     float64\n 1085  FIBO-Fibswap                                         41 non-null     float64\n 1086  FST2-Futureswap                                      42 non-null     float64\n 1087  GAIN-Gain Protocol                                   17 non-null     float64\n 1088  GAL-Gallant                                          41 non-null     float64\n 1089  GFX-GamyFi Token                                     35 non-null     float64\n 1090  HAM-HAMSTER                                          17 non-null     float64\n 1091  HERO-StepHero                                        27 non-null     float64\n 1092  HI-hi Dollar                                         36 non-null     float64\n 1093  LITH-Lithium Finance                                 17 non-null     float64\n 1094  MDX-Mdex                                             70 non-null     float64\n 1095  MDX -Mandala Exchange                                17 non-null     float64\n 1096  MERGE(BEP20)-Merge (BEP-20)                          22 non-null     float64\n 1097  MOVR-Moonriver                                       17 non-null     float64\n 1098  OCP-Omni Consumer Protocols                          17 non-null     float64\n 1099  ONFTS-OnlyNFTs                                       27 non-null     float64\n 1100  PLAY2-PolyPlay                                       35 non-null     float64\n 1101  SBR-Saber                                            28 non-null     float64\n 1102  SIL-Sister In Law                                    43 non-null     float64\n 1103  SPE-SavePlanetEarth                                  27 non-null     float64\n 1104  SRX-StorX Token                                      17 non-null     float64\n 1105  STACK2-StackOS                                       17 non-null     float64\n 1106  UFO2-The Truth                                       17 non-null     float64\n 1107  VPP-Virtue Poker                                     27 non-null     float64\n 1108  WAIV-Waiv                                            44 non-null     float64\n 1109  WEYU-WEYU                                            13 non-null     float64\n 1110  WOOF-Shibance Token                                  41 non-null     float64\n 1111  ZENC-Zenccoin                                        17 non-null     float64\ndtypes: float64(1112)\nmemory usage: 6.1 MB\n/shared-libs/python3.7/py-core/lib/python3.7/site-packages/ipykernel_launcher.py:1: FutureWarning: null_counts is deprecated. Use show_counts instead\n  \"\"\"Entry point for launching an IPython kernel.\n",
     "output_type": "stream"
    }
   ]
  },
  {
   "cell_type": "code",
   "metadata": {
    "tags": [],
    "cell_id": "00013-625a2e58-20c4-42c7-9999-31771aab628e",
    "deepnote_to_be_reexecuted": false,
    "source_hash": "3badb778",
    "execution_start": 1631547489411,
    "execution_millis": 5,
    "deepnote_cell_type": "code"
   },
   "source": "df_full_no_na = df_full_z.dropna(axis='columns')\ndf_full_no_na.shape",
   "execution_count": null,
   "outputs": [
    {
     "output_type": "execute_result",
     "execution_count": 12,
     "data": {
      "text/plain": "(720, 502)"
     },
     "metadata": {}
    }
   ]
  },
  {
   "cell_type": "code",
   "metadata": {
    "tags": [],
    "cell_id": "00016-a9b33821-8a11-4df2-a261-790f229158ef",
    "deepnote_to_be_reexecuted": false,
    "source_hash": "775058e3",
    "execution_start": 1631547518194,
    "execution_millis": 18,
    "deepnote_cell_type": "code"
   },
   "source": "df_full_price.dropna(axis='columns').shape",
   "execution_count": null,
   "outputs": [
    {
     "output_type": "execute_result",
     "execution_count": 13,
     "data": {
      "text/plain": "(720, 502)"
     },
     "metadata": {}
    }
   ]
  },
  {
   "cell_type": "markdown",
   "source": "<a style='text-decoration:none;line-height:16px;display:flex;color:#5B5B62;padding:10px;justify-content:end;' href='https://deepnote.com?utm_source=created-in-deepnote-cell&projectId=465bb6a2-b771-4fe2-b2d2-aed723f7eb7d' target=\"_blank\">\n<img alt='Created in deepnote.com' style='display:inline;max-height:16px;margin:0px;margin-right:7.5px;' src='data:image/svg+xml;base64,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' > </img>\nCreated in <span style='font-weight:600;margin-left:4px;'>Deepnote</span></a>",
   "metadata": {
    "tags": [],
    "created_in_deepnote_cell": true,
    "deepnote_cell_type": "markdown"
   }
  }
 ],
 "nbformat": 4,
 "nbformat_minor": 2,
 "metadata": {
  "orig_nbformat": 2,
  "deepnote": {
   "is_reactive": false
  },
  "deepnote_notebook_id": "7c538682-7489-4590-b54d-623275d6cb57",
  "deepnote_execution_queue": []
 }
}